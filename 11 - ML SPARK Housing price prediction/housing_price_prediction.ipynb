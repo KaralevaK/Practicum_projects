{
 "cells": [
  {
   "cell_type": "markdown",
   "id": "ec2f426d",
   "metadata": {},
   "source": [
    "# Проект: Предсказание стоимости жилья в Калифорнии"
   ]
  },
  {
   "cell_type": "markdown",
   "id": "66651938",
   "metadata": {},
   "source": [
    "__Цель проекта__: разработка модели линейной регрессии для предсказания медианной стоимости дома в жилом массиве Калифорнии\n",
    "\n",
    "__Описание данных__: данные о жилье в Калифорнии в 1990 году. Каждая строка содержит агрегированную статистику о жилом массиве. Одна строка в данных содержит статистику в среднем о 1425.5 обитателях жилого массива.\n",
    "\n",
    "__Используемые метрики__: RMSE, MAE, R2."
   ]
  },
  {
   "cell_type": "markdown",
   "id": "53871372",
   "metadata": {
    "id": "53871372"
   },
   "source": [
    "## Подготовка данных"
   ]
  },
  {
   "cell_type": "code",
   "execution_count": null,
   "id": "1fcb2846",
   "metadata": {},
   "outputs": [],
   "source": [
    "# импортируем необходимые библиотеки\n",
    "import numpy as np\n",
    "from pyspark.ml.stat import Correlation\n",
    "import pandas as pd\n",
    "import seaborn as sns\n",
    "import matplotlib.pyplot as plt\n",
    "\n",
    "from pyspark.sql import SparkSession\n",
    "from pyspark.sql.types import FloatType\n",
    "import pyspark.sql.functions as F\n",
    "from pyspark.ml.feature import StringIndexer, OneHotEncoder,\\\n",
    "    VectorAssembler, StandardScaler, Imputer\n",
    "from pyspark.ml.regression import LinearRegression\n",
    "from pyspark.ml import Pipeline\n",
    "from pyspark.ml.evaluation import RegressionEvaluator\n",
    "from pyspark.ml.tuning import ParamGridBuilder, CrossValidator\n",
    "\n",
    "# константы\n",
    "RANDOM_SEED = 2022"
   ]
  },
  {
   "cell_type": "markdown",
   "id": "c9e5fbca",
   "metadata": {},
   "source": [
    "### Загрузка данных"
   ]
  },
  {
   "cell_type": "markdown",
   "id": "12bf2911",
   "metadata": {
    "id": "df92e3ec"
   },
   "source": [
    "Инициализируем локальную Spark-сессию."
   ]
  },
  {
   "cell_type": "code",
   "execution_count": 3,
   "id": "ab2216eb",
   "metadata": {},
   "outputs": [],
   "source": [
    "spark = SparkSession \\\n",
    "    .builder \\\n",
    "    .master(\"local\")\\\n",
    "    .appName(\"ML California housing\") \\\n",
    "    .getOrCreate()                               "
   ]
  },
  {
   "cell_type": "markdown",
   "id": "1294884e",
   "metadata": {},
   "source": [
    "Загрузим данные для работы. Выведем общее количество строк, первые 5 строк и схему таблицы."
   ]
  },
  {
   "cell_type": "code",
   "execution_count": null,
   "id": "febde3a5",
   "metadata": {},
   "outputs": [
    {
     "name": "stderr",
     "output_type": "stream",
     "text": [
      "                                                                                \r"
     ]
    }
   ],
   "source": [
    "df_housing = spark.read.load('/datasets/data.csv',\n",
    "    format=\"csv\", sep=\",\", inferSchema=True, header=\"true\")"
   ]
  },
  {
   "cell_type": "code",
   "execution_count": 5,
   "id": "cb9c652a",
   "metadata": {},
   "outputs": [
    {
     "data": {
      "text/plain": [
       "20640"
      ]
     },
     "execution_count": 5,
     "metadata": {},
     "output_type": "execute_result"
    }
   ],
   "source": [
    "df_housing.count()"
   ]
  },
  {
   "cell_type": "code",
   "execution_count": 6,
   "id": "35bddd3c",
   "metadata": {},
   "outputs": [
    {
     "name": "stdout",
     "output_type": "stream",
     "text": [
      "+---------+--------+------------------+-----------+--------------+----------+----------+-------------+------------------+---------------+\n",
      "|longitude|latitude|housing_median_age|total_rooms|total_bedrooms|population|households|median_income|median_house_value|ocean_proximity|\n",
      "+---------+--------+------------------+-----------+--------------+----------+----------+-------------+------------------+---------------+\n",
      "|  -122.23|   37.88|              41.0|      880.0|         129.0|     322.0|     126.0|       8.3252|          452600.0|       NEAR BAY|\n",
      "|  -122.22|   37.86|              21.0|     7099.0|        1106.0|    2401.0|    1138.0|       8.3014|          358500.0|       NEAR BAY|\n",
      "|  -122.24|   37.85|              52.0|     1467.0|         190.0|     496.0|     177.0|       7.2574|          352100.0|       NEAR BAY|\n",
      "|  -122.25|   37.85|              52.0|     1274.0|         235.0|     558.0|     219.0|       5.6431|          341300.0|       NEAR BAY|\n",
      "|  -122.25|   37.85|              52.0|     1627.0|         280.0|     565.0|     259.0|       3.8462|          342200.0|       NEAR BAY|\n",
      "+---------+--------+------------------+-----------+--------------+----------+----------+-------------+------------------+---------------+\n",
      "only showing top 5 rows\n",
      "\n"
     ]
    }
   ],
   "source": [
    "df_housing.show(5)"
   ]
  },
  {
   "cell_type": "code",
   "execution_count": 7,
   "id": "d13d0e3f",
   "metadata": {
    "scrolled": true
   },
   "outputs": [
    {
     "name": "stdout",
     "output_type": "stream",
     "text": [
      "root\n",
      " |-- longitude: double (nullable = true)\n",
      " |-- latitude: double (nullable = true)\n",
      " |-- housing_median_age: double (nullable = true)\n",
      " |-- total_rooms: double (nullable = true)\n",
      " |-- total_bedrooms: double (nullable = true)\n",
      " |-- population: double (nullable = true)\n",
      " |-- households: double (nullable = true)\n",
      " |-- median_income: double (nullable = true)\n",
      " |-- median_house_value: double (nullable = true)\n",
      " |-- ocean_proximity: string (nullable = true)\n",
      "\n"
     ]
    }
   ],
   "source": [
    "df_housing.printSchema()"
   ]
  },
  {
   "cell_type": "markdown",
   "id": "43670af0",
   "metadata": {},
   "source": [
    "Создадим списки с названиями столбцов в зависимости от типов данных."
   ]
  },
  {
   "cell_type": "code",
   "execution_count": 8,
   "id": "e89f8134",
   "metadata": {},
   "outputs": [],
   "source": [
    "categorical_cols = ['ocean_proximity']\n",
    "numerical_cols = ['longitude', 'latitude', 'housing_median_age', 'total_rooms', \\\n",
    "                  'total_bedrooms', 'population', 'households', 'median_income']\n",
    "target = 'median_house_value'"
   ]
  },
  {
   "cell_type": "markdown",
   "id": "7f5dab8b",
   "metadata": {},
   "source": [
    "Данные соответствуют описанию. В датасете 20640 строк. Только столбец `ocean_proximity` содержит категориальные данные, остальные столбцы содержат количественные данные."
   ]
  },
  {
   "cell_type": "markdown",
   "id": "8e24d9ea",
   "metadata": {},
   "source": [
    "Разделим датасет на тренировочную и тестовую выборки."
   ]
  },
  {
   "cell_type": "code",
   "execution_count": 9,
   "id": "9609baa3",
   "metadata": {},
   "outputs": [
    {
     "name": "stderr",
     "output_type": "stream",
     "text": [
      "                                                                                \r"
     ]
    },
    {
     "name": "stdout",
     "output_type": "stream",
     "text": [
      "16418 4222\n"
     ]
    }
   ],
   "source": [
    "train_data, test_data = df_housing.randomSplit([.8,.2], seed=RANDOM_SEED)\n",
    "print(train_data.count(), test_data.count()) "
   ]
  },
  {
   "cell_type": "markdown",
   "id": "6f91d157",
   "metadata": {},
   "source": [
    "Получили 2 выборки, в тренировочной выборке - 16418 записей, в тестовой - 4222."
   ]
  },
  {
   "cell_type": "markdown",
   "id": "6c2d4f1a",
   "metadata": {},
   "source": [
    "### Предобработка данных"
   ]
  },
  {
   "cell_type": "markdown",
   "id": "3ca48b78",
   "metadata": {},
   "source": [
    "Выполним предобработку данных. Для начала исследуем данные на пропуски."
   ]
  },
  {
   "cell_type": "code",
   "execution_count": 10,
   "id": "d0061bef",
   "metadata": {},
   "outputs": [
    {
     "name": "stdout",
     "output_type": "stream",
     "text": [
      "longitude 0\n",
      "latitude 0\n",
      "housing_median_age 0\n",
      "total_rooms 0\n",
      "total_bedrooms 207\n",
      "population 0\n",
      "households 0\n",
      "median_income 0\n",
      "median_house_value 0\n",
      "ocean_proximity 0\n"
     ]
    }
   ],
   "source": [
    "columns = df_housing.columns\n",
    "\n",
    "for column in columns:\n",
    "    check_col = (F.col(column).cast(FloatType()).isin([None, np.nan]))  | (F.col(column).isNull())\n",
    "    print(column, df_housing.filter(check_col).count())"
   ]
  },
  {
   "cell_type": "markdown",
   "id": "7b9a4123",
   "metadata": {},
   "source": [
    "В данных присутствует небольшое количество пропусков в столбце `total_bedrooms`.  В качестве стратегии заполнения пропусков численных столбцов выберем заполнение медианой. Заполнение пропусков будет происходить в пайплайне."
   ]
  },
  {
   "cell_type": "markdown",
   "id": "acbe3104",
   "metadata": {},
   "source": [
    "Посмотрим на основные статистические характеристики тренировочных и тестовых данных."
   ]
  },
  {
   "cell_type": "code",
   "execution_count": 11,
   "id": "cd90cdd4",
   "metadata": {},
   "outputs": [
    {
     "name": "stderr",
     "output_type": "stream",
     "text": [
      "                                                                                \r"
     ]
    },
    {
     "data": {
      "text/html": [
       "<div>\n",
       "<style scoped>\n",
       "    .dataframe tbody tr th:only-of-type {\n",
       "        vertical-align: middle;\n",
       "    }\n",
       "\n",
       "    .dataframe tbody tr th {\n",
       "        vertical-align: top;\n",
       "    }\n",
       "\n",
       "    .dataframe thead th {\n",
       "        text-align: right;\n",
       "    }\n",
       "</style>\n",
       "<table border=\"1\" class=\"dataframe\">\n",
       "  <thead>\n",
       "    <tr style=\"text-align: right;\">\n",
       "      <th></th>\n",
       "      <th>summary</th>\n",
       "      <th>longitude</th>\n",
       "      <th>latitude</th>\n",
       "      <th>housing_median_age</th>\n",
       "      <th>total_rooms</th>\n",
       "      <th>total_bedrooms</th>\n",
       "      <th>population</th>\n",
       "      <th>households</th>\n",
       "      <th>median_income</th>\n",
       "      <th>median_house_value</th>\n",
       "    </tr>\n",
       "  </thead>\n",
       "  <tbody>\n",
       "    <tr>\n",
       "      <th>0</th>\n",
       "      <td>count</td>\n",
       "      <td>16418</td>\n",
       "      <td>16418</td>\n",
       "      <td>16418</td>\n",
       "      <td>16418</td>\n",
       "      <td>16245</td>\n",
       "      <td>16418</td>\n",
       "      <td>16418</td>\n",
       "      <td>16418</td>\n",
       "      <td>16418</td>\n",
       "    </tr>\n",
       "    <tr>\n",
       "      <th>1</th>\n",
       "      <td>mean</td>\n",
       "      <td>-119.56720855158979</td>\n",
       "      <td>35.632537458886816</td>\n",
       "      <td>28.67809721037885</td>\n",
       "      <td>2635.865878913388</td>\n",
       "      <td>537.1918744228993</td>\n",
       "      <td>1424.8680107199416</td>\n",
       "      <td>499.401936898526</td>\n",
       "      <td>3.8599032647094864</td>\n",
       "      <td>206166.77207942502</td>\n",
       "    </tr>\n",
       "    <tr>\n",
       "      <th>2</th>\n",
       "      <td>stddev</td>\n",
       "      <td>2.007170358524894</td>\n",
       "      <td>2.137638120554967</td>\n",
       "      <td>12.583767547384063</td>\n",
       "      <td>2194.1395066716864</td>\n",
       "      <td>421.2707589948614</td>\n",
       "      <td>1141.8443927369387</td>\n",
       "      <td>383.6679584089657</td>\n",
       "      <td>1.8958698224587758</td>\n",
       "      <td>115137.08168148558</td>\n",
       "    </tr>\n",
       "    <tr>\n",
       "      <th>3</th>\n",
       "      <td>min</td>\n",
       "      <td>-124.35</td>\n",
       "      <td>32.54</td>\n",
       "      <td>1.0</td>\n",
       "      <td>2.0</td>\n",
       "      <td>1.0</td>\n",
       "      <td>3.0</td>\n",
       "      <td>1.0</td>\n",
       "      <td>0.4999</td>\n",
       "      <td>14999.0</td>\n",
       "    </tr>\n",
       "    <tr>\n",
       "      <th>4</th>\n",
       "      <td>25%</td>\n",
       "      <td>-121.8</td>\n",
       "      <td>33.93</td>\n",
       "      <td>18.0</td>\n",
       "      <td>1444.0</td>\n",
       "      <td>295.0</td>\n",
       "      <td>787.0</td>\n",
       "      <td>279.0</td>\n",
       "      <td>2.561</td>\n",
       "      <td>119200.0</td>\n",
       "    </tr>\n",
       "    <tr>\n",
       "      <th>5</th>\n",
       "      <td>50%</td>\n",
       "      <td>-118.5</td>\n",
       "      <td>34.26</td>\n",
       "      <td>29.0</td>\n",
       "      <td>2127.0</td>\n",
       "      <td>434.0</td>\n",
       "      <td>1165.0</td>\n",
       "      <td>409.0</td>\n",
       "      <td>3.5278</td>\n",
       "      <td>179200.0</td>\n",
       "    </tr>\n",
       "    <tr>\n",
       "      <th>6</th>\n",
       "      <td>75%</td>\n",
       "      <td>-118.0</td>\n",
       "      <td>37.71</td>\n",
       "      <td>37.0</td>\n",
       "      <td>3149.0</td>\n",
       "      <td>647.0</td>\n",
       "      <td>1722.0</td>\n",
       "      <td>606.0</td>\n",
       "      <td>4.7321</td>\n",
       "      <td>263500.0</td>\n",
       "    </tr>\n",
       "    <tr>\n",
       "      <th>7</th>\n",
       "      <td>max</td>\n",
       "      <td>-114.31</td>\n",
       "      <td>41.95</td>\n",
       "      <td>52.0</td>\n",
       "      <td>39320.0</td>\n",
       "      <td>6445.0</td>\n",
       "      <td>35682.0</td>\n",
       "      <td>6082.0</td>\n",
       "      <td>15.0001</td>\n",
       "      <td>500001.0</td>\n",
       "    </tr>\n",
       "  </tbody>\n",
       "</table>\n",
       "</div>"
      ],
      "text/plain": [
       "  summary            longitude            latitude  housing_median_age  \\\n",
       "0   count                16418               16418               16418   \n",
       "1    mean  -119.56720855158979  35.632537458886816   28.67809721037885   \n",
       "2  stddev    2.007170358524894   2.137638120554967  12.583767547384063   \n",
       "3     min              -124.35               32.54                 1.0   \n",
       "4     25%               -121.8               33.93                18.0   \n",
       "5     50%               -118.5               34.26                29.0   \n",
       "6     75%               -118.0               37.71                37.0   \n",
       "7     max              -114.31               41.95                52.0   \n",
       "\n",
       "          total_rooms     total_bedrooms          population  \\\n",
       "0               16418              16245               16418   \n",
       "1   2635.865878913388  537.1918744228993  1424.8680107199416   \n",
       "2  2194.1395066716864  421.2707589948614  1141.8443927369387   \n",
       "3                 2.0                1.0                 3.0   \n",
       "4              1444.0              295.0               787.0   \n",
       "5              2127.0              434.0              1165.0   \n",
       "6              3149.0              647.0              1722.0   \n",
       "7             39320.0             6445.0             35682.0   \n",
       "\n",
       "          households       median_income  median_house_value  \n",
       "0              16418               16418               16418  \n",
       "1   499.401936898526  3.8599032647094864  206166.77207942502  \n",
       "2  383.6679584089657  1.8958698224587758  115137.08168148558  \n",
       "3                1.0              0.4999             14999.0  \n",
       "4              279.0               2.561            119200.0  \n",
       "5              409.0              3.5278            179200.0  \n",
       "6              606.0              4.7321            263500.0  \n",
       "7             6082.0             15.0001            500001.0  "
      ]
     },
     "execution_count": 11,
     "metadata": {},
     "output_type": "execute_result"
    }
   ],
   "source": [
    "train_data.select(numerical_cols + [target]).summary().toPandas()"
   ]
  },
  {
   "cell_type": "code",
   "execution_count": 12,
   "id": "b0c31cf0",
   "metadata": {},
   "outputs": [
    {
     "name": "stderr",
     "output_type": "stream",
     "text": [
      "                                                                                \r"
     ]
    },
    {
     "data": {
      "text/html": [
       "<div>\n",
       "<style scoped>\n",
       "    .dataframe tbody tr th:only-of-type {\n",
       "        vertical-align: middle;\n",
       "    }\n",
       "\n",
       "    .dataframe tbody tr th {\n",
       "        vertical-align: top;\n",
       "    }\n",
       "\n",
       "    .dataframe thead th {\n",
       "        text-align: right;\n",
       "    }\n",
       "</style>\n",
       "<table border=\"1\" class=\"dataframe\">\n",
       "  <thead>\n",
       "    <tr style=\"text-align: right;\">\n",
       "      <th></th>\n",
       "      <th>summary</th>\n",
       "      <th>longitude</th>\n",
       "      <th>latitude</th>\n",
       "      <th>housing_median_age</th>\n",
       "      <th>total_rooms</th>\n",
       "      <th>total_bedrooms</th>\n",
       "      <th>population</th>\n",
       "      <th>households</th>\n",
       "      <th>median_income</th>\n",
       "      <th>median_house_value</th>\n",
       "    </tr>\n",
       "  </thead>\n",
       "  <tbody>\n",
       "    <tr>\n",
       "      <th>0</th>\n",
       "      <td>count</td>\n",
       "      <td>4222</td>\n",
       "      <td>4222</td>\n",
       "      <td>4222</td>\n",
       "      <td>4222</td>\n",
       "      <td>4188</td>\n",
       "      <td>4222</td>\n",
       "      <td>4222</td>\n",
       "      <td>4222</td>\n",
       "      <td>4222</td>\n",
       "    </tr>\n",
       "    <tr>\n",
       "      <th>1</th>\n",
       "      <td>mean</td>\n",
       "      <td>-119.57941023211727</td>\n",
       "      <td>35.62923259118911</td>\n",
       "      <td>28.489341544291804</td>\n",
       "      <td>2635.363334912364</td>\n",
       "      <td>540.5031041069723</td>\n",
       "      <td>1427.8439128375178</td>\n",
       "      <td>500.07531975367124</td>\n",
       "      <td>3.912543273330184</td>\n",
       "      <td>209535.29062055898</td>\n",
       "    </tr>\n",
       "    <tr>\n",
       "      <th>2</th>\n",
       "      <td>stddev</td>\n",
       "      <td>1.9895257132603632</td>\n",
       "      <td>2.1296350603031557</td>\n",
       "      <td>12.592881835143269</td>\n",
       "      <td>2132.4688640647682</td>\n",
       "      <td>421.8681922882925</td>\n",
       "      <td>1095.3425940223842</td>\n",
       "      <td>377.12527133454745</td>\n",
       "      <td>1.914762150871446</td>\n",
       "      <td>116370.4567235921</td>\n",
       "    </tr>\n",
       "    <tr>\n",
       "      <th>3</th>\n",
       "      <td>min</td>\n",
       "      <td>-124.3</td>\n",
       "      <td>32.55</td>\n",
       "      <td>1.0</td>\n",
       "      <td>11.0</td>\n",
       "      <td>4.0</td>\n",
       "      <td>13.0</td>\n",
       "      <td>5.0</td>\n",
       "      <td>0.4999</td>\n",
       "      <td>17500.0</td>\n",
       "    </tr>\n",
       "    <tr>\n",
       "      <th>4</th>\n",
       "      <td>25%</td>\n",
       "      <td>-121.8</td>\n",
       "      <td>33.94</td>\n",
       "      <td>18.0</td>\n",
       "      <td>1458.0</td>\n",
       "      <td>300.0</td>\n",
       "      <td>788.0</td>\n",
       "      <td>284.0</td>\n",
       "      <td>2.5781</td>\n",
       "      <td>121500.0</td>\n",
       "    </tr>\n",
       "    <tr>\n",
       "      <th>5</th>\n",
       "      <td>50%</td>\n",
       "      <td>-118.49</td>\n",
       "      <td>34.25</td>\n",
       "      <td>29.0</td>\n",
       "      <td>2118.0</td>\n",
       "      <td>437.0</td>\n",
       "      <td>1171.0</td>\n",
       "      <td>411.0</td>\n",
       "      <td>3.5625</td>\n",
       "      <td>181300.0</td>\n",
       "    </tr>\n",
       "    <tr>\n",
       "      <th>6</th>\n",
       "      <td>75%</td>\n",
       "      <td>-118.03</td>\n",
       "      <td>37.71</td>\n",
       "      <td>37.0</td>\n",
       "      <td>3141.0</td>\n",
       "      <td>643.0</td>\n",
       "      <td>1737.0</td>\n",
       "      <td>601.0</td>\n",
       "      <td>4.8173</td>\n",
       "      <td>269900.0</td>\n",
       "    </tr>\n",
       "    <tr>\n",
       "      <th>7</th>\n",
       "      <td>max</td>\n",
       "      <td>-114.47</td>\n",
       "      <td>41.84</td>\n",
       "      <td>52.0</td>\n",
       "      <td>21533.0</td>\n",
       "      <td>4492.0</td>\n",
       "      <td>12427.0</td>\n",
       "      <td>4372.0</td>\n",
       "      <td>15.0001</td>\n",
       "      <td>500001.0</td>\n",
       "    </tr>\n",
       "  </tbody>\n",
       "</table>\n",
       "</div>"
      ],
      "text/plain": [
       "  summary            longitude            latitude  housing_median_age  \\\n",
       "0   count                 4222                4222                4222   \n",
       "1    mean  -119.57941023211727   35.62923259118911  28.489341544291804   \n",
       "2  stddev   1.9895257132603632  2.1296350603031557  12.592881835143269   \n",
       "3     min               -124.3               32.55                 1.0   \n",
       "4     25%               -121.8               33.94                18.0   \n",
       "5     50%              -118.49               34.25                29.0   \n",
       "6     75%              -118.03               37.71                37.0   \n",
       "7     max              -114.47               41.84                52.0   \n",
       "\n",
       "          total_rooms     total_bedrooms          population  \\\n",
       "0                4222               4188                4222   \n",
       "1   2635.363334912364  540.5031041069723  1427.8439128375178   \n",
       "2  2132.4688640647682  421.8681922882925  1095.3425940223842   \n",
       "3                11.0                4.0                13.0   \n",
       "4              1458.0              300.0               788.0   \n",
       "5              2118.0              437.0              1171.0   \n",
       "6              3141.0              643.0              1737.0   \n",
       "7             21533.0             4492.0             12427.0   \n",
       "\n",
       "           households      median_income  median_house_value  \n",
       "0                4222               4222                4222  \n",
       "1  500.07531975367124  3.912543273330184  209535.29062055898  \n",
       "2  377.12527133454745  1.914762150871446   116370.4567235921  \n",
       "3                 5.0             0.4999             17500.0  \n",
       "4               284.0             2.5781            121500.0  \n",
       "5               411.0             3.5625            181300.0  \n",
       "6               601.0             4.8173            269900.0  \n",
       "7              4372.0            15.0001            500001.0  "
      ]
     },
     "execution_count": 12,
     "metadata": {},
     "output_type": "execute_result"
    }
   ],
   "source": [
    "test_data.select(numerical_cols + [target]).summary().toPandas()"
   ]
  },
  {
   "cell_type": "markdown",
   "id": "7c3efb04",
   "metadata": {},
   "source": [
    "Распределение даных в тренировочной и тестовой выборке схожее."
   ]
  },
  {
   "cell_type": "code",
   "execution_count": 13,
   "id": "a47e031c",
   "metadata": {},
   "outputs": [
    {
     "name": "stderr",
     "output_type": "stream",
     "text": [
      "                                                                                \r"
     ]
    },
    {
     "data": {
      "text/html": [
       "<div>\n",
       "<style scoped>\n",
       "    .dataframe tbody tr th:only-of-type {\n",
       "        vertical-align: middle;\n",
       "    }\n",
       "\n",
       "    .dataframe tbody tr th {\n",
       "        vertical-align: top;\n",
       "    }\n",
       "\n",
       "    .dataframe thead th {\n",
       "        text-align: right;\n",
       "    }\n",
       "</style>\n",
       "<table border=\"1\" class=\"dataframe\">\n",
       "  <thead>\n",
       "    <tr style=\"text-align: right;\">\n",
       "      <th></th>\n",
       "      <th>ocean_proximity</th>\n",
       "    </tr>\n",
       "  </thead>\n",
       "  <tbody>\n",
       "    <tr>\n",
       "      <th>0</th>\n",
       "      <td>NEAR OCEAN</td>\n",
       "    </tr>\n",
       "    <tr>\n",
       "      <th>1</th>\n",
       "      <td>NEAR BAY</td>\n",
       "    </tr>\n",
       "    <tr>\n",
       "      <th>2</th>\n",
       "      <td>&lt;1H OCEAN</td>\n",
       "    </tr>\n",
       "    <tr>\n",
       "      <th>3</th>\n",
       "      <td>INLAND</td>\n",
       "    </tr>\n",
       "  </tbody>\n",
       "</table>\n",
       "</div>"
      ],
      "text/plain": [
       "  ocean_proximity\n",
       "0      NEAR OCEAN\n",
       "1        NEAR BAY\n",
       "2       <1H OCEAN\n",
       "3          INLAND"
      ]
     },
     "execution_count": 13,
     "metadata": {},
     "output_type": "execute_result"
    }
   ],
   "source": [
    "train_data.select(\"ocean_proximity\").distinct().toPandas()"
   ]
  },
  {
   "cell_type": "code",
   "execution_count": 14,
   "id": "c3851b6a",
   "metadata": {},
   "outputs": [
    {
     "name": "stderr",
     "output_type": "stream",
     "text": [
      "                                                                                \r"
     ]
    },
    {
     "data": {
      "text/html": [
       "<div>\n",
       "<style scoped>\n",
       "    .dataframe tbody tr th:only-of-type {\n",
       "        vertical-align: middle;\n",
       "    }\n",
       "\n",
       "    .dataframe tbody tr th {\n",
       "        vertical-align: top;\n",
       "    }\n",
       "\n",
       "    .dataframe thead th {\n",
       "        text-align: right;\n",
       "    }\n",
       "</style>\n",
       "<table border=\"1\" class=\"dataframe\">\n",
       "  <thead>\n",
       "    <tr style=\"text-align: right;\">\n",
       "      <th></th>\n",
       "      <th>ocean_proximity</th>\n",
       "    </tr>\n",
       "  </thead>\n",
       "  <tbody>\n",
       "    <tr>\n",
       "      <th>0</th>\n",
       "      <td>ISLAND</td>\n",
       "    </tr>\n",
       "    <tr>\n",
       "      <th>1</th>\n",
       "      <td>NEAR OCEAN</td>\n",
       "    </tr>\n",
       "    <tr>\n",
       "      <th>2</th>\n",
       "      <td>NEAR BAY</td>\n",
       "    </tr>\n",
       "    <tr>\n",
       "      <th>3</th>\n",
       "      <td>&lt;1H OCEAN</td>\n",
       "    </tr>\n",
       "    <tr>\n",
       "      <th>4</th>\n",
       "      <td>INLAND</td>\n",
       "    </tr>\n",
       "  </tbody>\n",
       "</table>\n",
       "</div>"
      ],
      "text/plain": [
       "  ocean_proximity\n",
       "0          ISLAND\n",
       "1      NEAR OCEAN\n",
       "2        NEAR BAY\n",
       "3       <1H OCEAN\n",
       "4          INLAND"
      ]
     },
     "execution_count": 14,
     "metadata": {},
     "output_type": "execute_result"
    }
   ],
   "source": [
    "test_data.select(\"ocean_proximity\").distinct().toPandas()"
   ]
  },
  {
   "cell_type": "markdown",
   "id": "3c4c96ef",
   "metadata": {},
   "source": [
    "В тренировочном датасете есть 4 значения категориального признака: 'NEAR BAY', 'NEAR OCEAN', 'INLAND', '<1H OCEAN'. В тестовом появляется еще одно - 'ISLAND'.\n",
    "\n",
    "В некоторых столбцах явно есть нетипичные значения. Будем шкалировать значения численных признаков, чтобы уменьшить влияние выбросов на модель.\n",
    "\n",
    "Значения целевого признака в тренировочной выборке распределены в диапазоне от 14 999 до 500 001. Среднее значение - 206 167, медианное - 179 200. Межквартильный размах от 119 200 до 263 500."
   ]
  },
  {
   "cell_type": "markdown",
   "id": "37de9b6b",
   "metadata": {},
   "source": [
    "### Добавление новых признаков"
   ]
  },
  {
   "cell_type": "markdown",
   "id": "4c4263a6",
   "metadata": {
    "id": "bddb08c4"
   },
   "source": [
    "Добавим новые признаки:\n",
    "- отношение количества комнат total_rooms к количеству домовладений households (rooms_per_household),\n",
    "- отношение количества жителей population к количеству домовладений households (population_in_household),\n",
    "- отношение количества спален total_bedrooms к общему количеству комнат total_rooms (bedroom_index)."
   ]
  },
  {
   "cell_type": "code",
   "execution_count": 15,
   "id": "c04f489b",
   "metadata": {},
   "outputs": [],
   "source": [
    "def add_columns(data):\n",
    "    data = data.withColumn('rooms_per_household', F.col('total_rooms') / F.col('households'))\n",
    "    data = data.withColumn('population_in_household', F.col('population') / F.col('households'))\n",
    "    data = data.withColumn('bedroom_index', F.col('total_bedrooms') / F.col('total_rooms'))\n",
    "    return data\n",
    "\n",
    "train_data = add_columns(train_data)\n",
    "test_data = add_columns(test_data)\n",
    "\n",
    "numerical_cols = numerical_cols + ['rooms_per_household', 'population_in_household', 'bedroom_index']"
   ]
  },
  {
   "cell_type": "markdown",
   "id": "4a437523",
   "metadata": {},
   "source": [
    "### Трансформация признаков"
   ]
  },
  {
   "cell_type": "markdown",
   "id": "547be80e",
   "metadata": {},
   "source": [
    "Рассмотрим последовательно все необходимые преобразования данных. После описанные шаги соберем в 2 списка: для пайплайна со всеми признаками и для пайплайна только с числовыми признаками.\n",
    "\n",
    "Сначала заполняем пропуски. Используем оценщик Imputer."
   ]
  },
  {
   "cell_type": "code",
   "execution_count": 16,
   "id": "3ace74fc",
   "metadata": {},
   "outputs": [],
   "source": [
    "imputer = Imputer(inputCols=numerical_cols, outputCols=numerical_cols, strategy='median')"
   ]
  },
  {
   "cell_type": "markdown",
   "id": "565954e5",
   "metadata": {},
   "source": [
    "Преобразовывать категориальные признаки будем следующим образом:\n",
    "- трансформируем категориальные признаки в числовое представление с помощью трансформера StringIndexer,\n",
    "- преобразуем числовое представление в бинарные признаки с помощью трансформера OneHotEncoder,\n",
    "- объединяем бинарные признаки в вектор с помощью трансформера VectorAssembler."
   ]
  },
  {
   "cell_type": "code",
   "execution_count": 17,
   "id": "36965a6f",
   "metadata": {},
   "outputs": [],
   "source": [
    "indexer = StringIndexer(inputCols=categorical_cols, \n",
    "                        outputCols=[c+'_idx' for c in categorical_cols], handleInvalid='keep') \n",
    "encoder = OneHotEncoder(inputCols=[c+'_idx' for c in categorical_cols],\n",
    "                        outputCols=[c+'_ohe' for c in categorical_cols])\n",
    "categorical_assembler = \\\n",
    "        VectorAssembler(inputCols=[c+'_ohe' for c in categorical_cols],\n",
    "                                        outputCol=\"categorical_features\")"
   ]
  },
  {
   "cell_type": "markdown",
   "id": "cfdf2c34",
   "metadata": {},
   "source": [
    "Выполним шкалирование численных признаков. "
   ]
  },
  {
   "cell_type": "code",
   "execution_count": 18,
   "id": "82d21393",
   "metadata": {},
   "outputs": [],
   "source": [
    "assembler = VectorAssembler(inputCols=numerical_cols, outputCol='numerical_features')\n",
    "scaler = StandardScaler(inputCol='numerical_features', outputCol='scaled_numerical_features')"
   ]
  },
  {
   "cell_type": "markdown",
   "id": "a7e9a40a",
   "metadata": {},
   "source": [
    "Соберем трансформированные признаки вместе."
   ]
  },
  {
   "cell_type": "code",
   "execution_count": 19,
   "id": "46d71832",
   "metadata": {},
   "outputs": [],
   "source": [
    "all_features = ['categorical_features','scaled_numerical_features']\n",
    "\n",
    "final_assembler = VectorAssembler(inputCols=all_features, \n",
    "                                  outputCol=\"features\") "
   ]
  },
  {
   "cell_type": "code",
   "execution_count": 20,
   "id": "1055d95c",
   "metadata": {
    "scrolled": true
   },
   "outputs": [],
   "source": [
    "# шаги для пайплайна со всеми признаками\n",
    "stages_all_features = [imputer, indexer, encoder, categorical_assembler, assembler, scaler, final_assembler]\n",
    "# шаги для пайплайна с численными признаками\n",
    "stages_num_features = [imputer, assembler, scaler]"
   ]
  },
  {
   "cell_type": "markdown",
   "id": "1b3bcfa0",
   "metadata": {},
   "source": [
    "Подготовим итоговые пайплайны."
   ]
  },
  {
   "cell_type": "code",
   "execution_count": 21,
   "id": "f4001511",
   "metadata": {},
   "outputs": [],
   "source": [
    "# пайплайн для обучения модели со всеми признаками\n",
    "lr_all_features = LinearRegression(labelCol=target, featuresCol='features', regParam=0.1)\n",
    "pipeline_all_features = Pipeline(stages=stages_all_features + [lr_all_features]) "
   ]
  },
  {
   "cell_type": "code",
   "execution_count": 22,
   "id": "aecec144",
   "metadata": {},
   "outputs": [],
   "source": [
    "# пайплайн для обучения модели с численными признаками\n",
    "lr_num_features = LinearRegression(labelCol=target, featuresCol='scaled_numerical_features', regParam=0.1)\n",
    "pipeline_num_features = Pipeline(stages=stages_num_features + [lr_num_features])"
   ]
  },
  {
   "cell_type": "markdown",
   "id": "8538ff28",
   "metadata": {},
   "source": [
    "__Промежуточный вывод__:\n",
    "- инициализировали SparkSession,\n",
    "- загрузили данные, разделили данные на тренировочный и тестовый датасет,\n",
    "- добавили новые признаки: `rooms_per_household`, `population_in_household`, `bedroom_index`,\n",
    "- создали списки с категоральными и числовыми признаками, а также определили целевой признак,\n",
    "- подготовили пайплайны для обучения модели со всеми признаками и с численными признаками, заполнение пропусков медианой, трансформирование численных и категориальных признаков осуществляется в пайплайне."
   ]
  },
  {
   "cell_type": "markdown",
   "id": "03f4fea5",
   "metadata": {},
   "source": [
    "## Корреляционный анализ"
   ]
  },
  {
   "cell_type": "markdown",
   "id": "1aba66df",
   "metadata": {},
   "source": [
    "Построим матрицу корреляции для численных признаков."
   ]
  },
  {
   "cell_type": "code",
   "execution_count": 23,
   "id": "87d2c86e",
   "metadata": {},
   "outputs": [
    {
     "name": "stderr",
     "output_type": "stream",
     "text": [
      "25/08/16 21:34:10 WARN BLAS: Failed to load implementation from: com.github.fommil.netlib.NativeSystemBLAS\n",
      "25/08/16 21:34:10 WARN BLAS: Failed to load implementation from: com.github.fommil.netlib.NativeRefBLAS\n",
      "                                                                                \r"
     ]
    },
    {
     "data": {
      "image/png": "[encoded data removed]",
      "text/plain": [
       "<Figure size 1152x360 with 2 Axes>"
      ]
     },
     "metadata": {
      "needs_background": "light"
     },
     "output_type": "display_data"
    }
   ],
   "source": [
    "assembler_corr = VectorAssembler(\n",
    "    inputCols=numerical_cols+ [target],\n",
    "    outputCol=\"corr_features\",\n",
    "    handleInvalid=\"skip\")\n",
    "\n",
    "df_vector = (\n",
    "    assembler_corr\n",
    "    .transform(train_data.select(numerical_cols + [target]))\n",
    "    .select(\"corr_features\")\n",
    ")\n",
    "matrix = Correlation.corr(df_vector, \"corr_features\").collect()[0][0] \n",
    "corr_matrix = matrix.toArray().tolist() \n",
    "corr_matrix_df = pd.DataFrame(\n",
    "    data=corr_matrix,\n",
    "    columns = numerical_cols + [target],\n",
    "    index=numerical_cols+ [target]) \n",
    "\n",
    "plt.figure(figsize=(16,5))  \n",
    "sns.heatmap(corr_matrix_df, \n",
    "            xticklabels=corr_matrix_df.columns.values,\n",
    "            yticklabels=corr_matrix_df.columns.values,\n",
    "            cmap=\"Greens\", annot=True);"
   ]
  },
  {
   "cell_type": "markdown",
   "id": "d7cf4c7c",
   "metadata": {},
   "source": [
    "__Промежуточный вывод__:\n",
    "- заметная взаимосвязь таргета с признакoм median_income,\n",
    "- слабая взаимосвязь таргета с признаками latitude, housing_median_age, total_rooms, rooms_per_household, bedroom_index,\n",
    "- корреляция таргета с остальными признаками очень мала,\n",
    "- наблюдается весьма высокая взаимосвязь между признаками total_rooms, total_bedrooms, households, а также между population и households.\n",
    "\n",
    "Эту информацию можно будет учесть в случае необходимости улучшения модели."
   ]
  },
  {
   "cell_type": "markdown",
   "id": "9f0a82f3",
   "metadata": {
    "id": "9f0a82f3"
   },
   "source": [
    "## Обучение моделей"
   ]
  },
  {
   "cell_type": "code",
   "execution_count": 24,
   "id": "56172387",
   "metadata": {},
   "outputs": [],
   "source": [
    "def get_metrics(model, data_test):\n",
    "    \"\"\"\n",
    "    Функция для вывода на экран метрик модели RMSE, R2, MAE.\n",
    "    \n",
    "    Params:\n",
    "    model - обученная модель\n",
    "    data_test - тестовая выборка\n",
    "    \n",
    "    Returns:\n",
    "    rmse, r2, mae - значения метрик на тестовой выборке\n",
    "    \"\"\"\n",
    "    \n",
    "    predictions = model.transform(data_test)\n",
    "    \n",
    "    evaluator = RegressionEvaluator(labelCol=target, predictionCol='prediction', metricName='rmse')\n",
    "    rmse = evaluator.evaluate(predictions)\n",
    "\n",
    "    evaluator_r2 = RegressionEvaluator(labelCol=target, predictionCol='prediction', metricName='r2')\n",
    "    r2 = evaluator_r2.evaluate(predictions)\n",
    "    \n",
    "    evaluator_mae = RegressionEvaluator(labelCol=target, predictionCol='prediction', metricName='mae')\n",
    "    mae = evaluator_mae.evaluate(predictions)\n",
    "\n",
    "    return rmse, r2, mae"
   ]
  },
  {
   "cell_type": "markdown",
   "id": "38591113",
   "metadata": {},
   "source": [
    "Обучим модель линейной регрессии на всех признаках и посмотрим на значение метрик на тестовом датасете. При обучении будем использовать кросс-валидацию с метрикой RMSE. "
   ]
  },
  {
   "cell_type": "code",
   "execution_count": 25,
   "id": "cbe665f3",
   "metadata": {},
   "outputs": [
    {
     "name": "stderr",
     "output_type": "stream",
     "text": [
      "25/08/16 21:34:21 WARN LAPACK: Failed to load implementation from: com.github.fommil.netlib.NativeSystemLAPACK\n",
      "25/08/16 21:34:21 WARN LAPACK: Failed to load implementation from: com.github.fommil.netlib.NativeRefLAPACK\n",
      "                                                                                \r"
     ]
    },
    {
     "name": "stdout",
     "output_type": "stream",
     "text": [
      "Параметры лучшей модели:\n",
      "aggregationDepth : 2\n",
      "elasticNetParam : 0.5\n",
      "epsilon : 1.35\n",
      "featuresCol : features\n",
      "fitIntercept : True\n",
      "labelCol : median_house_value\n",
      "loss : squaredError\n",
      "maxIter : 100\n",
      "predictionCol : prediction\n",
      "regParam : 0.01\n",
      "solver : auto\n",
      "standardization : True\n",
      "tol : 1e-06\n"
     ]
    }
   ],
   "source": [
    "paramGrid = ParamGridBuilder()\\\n",
    "    .addGrid(lr_all_features.regParam, [0.1, 0.01]) \\\n",
    "    .addGrid(lr_all_features.fitIntercept, [False, True])\\\n",
    "    .addGrid(lr_all_features.elasticNetParam, [0.0, 0.5, 1.0])\\\n",
    "    .build()\n",
    "\n",
    "crossval = CrossValidator(estimator=pipeline_all_features,\n",
    "                          estimatorParamMaps=paramGrid,\n",
    "                          evaluator= RegressionEvaluator(metricName='rmse', labelCol=target),\n",
    "                          numFolds=5,\n",
    "                          seed=RANDOM_SEED\n",
    "                         )  \n",
    "model_all_features = crossval.fit(train_data)\n",
    "\n",
    "\n",
    "# Извлекаем лучшую модель\n",
    "best_model_all_features = model_all_features.bestModel\n",
    "\n",
    "# Извлекаем параметры лучшей модели\n",
    "best_model_params = best_model_all_features.stages[-1].extractParamMap()\n",
    "\n",
    "# Вывод параметров лучшей модели\n",
    "print(\"Параметры лучшей модели:\")\n",
    "for param, value in best_model_params.items():\n",
    "    print(param.name, \":\", value)\n",
    "\n",
    "rmse_all, r2_all, mae_all = get_metrics(best_model_all_features, test_data)"
   ]
  },
  {
   "cell_type": "markdown",
   "id": "c4cfa828",
   "metadata": {},
   "source": [
    "Обучим модель линейной регрессии только на числовых признаках."
   ]
  },
  {
   "cell_type": "code",
   "execution_count": 26,
   "id": "e04c10ba",
   "metadata": {},
   "outputs": [
    {
     "name": "stderr",
     "output_type": "stream",
     "text": [
      "                                                                                \r"
     ]
    },
    {
     "name": "stdout",
     "output_type": "stream",
     "text": [
      "Параметры лучшей модели:\n",
      "aggregationDepth : 2\n",
      "elasticNetParam : 0.5\n",
      "epsilon : 1.35\n",
      "featuresCol : scaled_numerical_features\n",
      "fitIntercept : True\n",
      "labelCol : median_house_value\n",
      "loss : squaredError\n",
      "maxIter : 100\n",
      "predictionCol : prediction\n",
      "regParam : 0.1\n",
      "solver : auto\n",
      "standardization : True\n",
      "tol : 1e-06\n"
     ]
    }
   ],
   "source": [
    "paramGrid = ParamGridBuilder()\\\n",
    "    .addGrid(lr_num_features.regParam, [0.1, 0.01]) \\\n",
    "    .addGrid(lr_num_features.fitIntercept, [False, True])\\\n",
    "    .addGrid(lr_num_features.elasticNetParam, [0.0, 0.5, 1.0])\\\n",
    "    .build()\n",
    "\n",
    "crossval = CrossValidator(estimator=pipeline_num_features,\n",
    "                          estimatorParamMaps=paramGrid,\n",
    "                          evaluator= RegressionEvaluator(metricName='rmse', labelCol=target),\n",
    "                          numFolds=5,\n",
    "                          seed=RANDOM_SEED\n",
    "                         )  \n",
    "model_num_features = crossval.fit(train_data)\n",
    "\n",
    "# Извлекаем лучшую модель\n",
    "best_model_num_features = model_num_features.bestModel\n",
    "\n",
    "# Извлекаем параметры лучшей модели\n",
    "best_model_params = best_model_num_features.stages[-1].extractParamMap()\n",
    "\n",
    "# Вывод параметров лучшей модели\n",
    "print(\"Параметры лучшей модели:\")\n",
    "for param, value in best_model_params.items():\n",
    "    print(param.name, \":\", value)\n",
    "    \n",
    "rmse_num, r2_num, mae_num = get_metrics(best_model_num_features, test_data)"
   ]
  },
  {
   "cell_type": "markdown",
   "id": "e2fd9a31",
   "metadata": {},
   "source": [
    "__Промежуточный вывод__:\n",
    "- выбрали лучшие модели линейной регрессии (со всеми признаками и только с численными признаками) с помощью кросс-валидации,\n",
    "- получили параметры лучших моделей и значения метрик на тестовой выборке."
   ]
  },
  {
   "cell_type": "markdown",
   "id": "757fd103",
   "metadata": {
    "id": "757fd103"
   },
   "source": [
    "## Анализ результатов"
   ]
  },
  {
   "cell_type": "code",
   "execution_count": 27,
   "id": "18d43051",
   "metadata": {},
   "outputs": [
    {
     "data": {
      "text/html": [
       "<div>\n",
       "<style scoped>\n",
       "    .dataframe tbody tr th:only-of-type {\n",
       "        vertical-align: middle;\n",
       "    }\n",
       "\n",
       "    .dataframe tbody tr th {\n",
       "        vertical-align: top;\n",
       "    }\n",
       "\n",
       "    .dataframe thead th {\n",
       "        text-align: right;\n",
       "    }\n",
       "</style>\n",
       "<table border=\"1\" class=\"dataframe\">\n",
       "  <thead>\n",
       "    <tr style=\"text-align: right;\">\n",
       "      <th></th>\n",
       "      <th>model</th>\n",
       "      <th>RMSE</th>\n",
       "      <th>R2</th>\n",
       "      <th>MAE</th>\n",
       "    </tr>\n",
       "  </thead>\n",
       "  <tbody>\n",
       "    <tr>\n",
       "      <th>0</th>\n",
       "      <td>all_features</td>\n",
       "      <td>67606.775675</td>\n",
       "      <td>0.662404</td>\n",
       "      <td>49028.189942</td>\n",
       "    </tr>\n",
       "    <tr>\n",
       "      <th>1</th>\n",
       "      <td>numerical_features</td>\n",
       "      <td>68094.735777</td>\n",
       "      <td>0.657513</td>\n",
       "      <td>49677.137033</td>\n",
       "    </tr>\n",
       "  </tbody>\n",
       "</table>\n",
       "</div>"
      ],
      "text/plain": [
       "                model          RMSE        R2           MAE\n",
       "0        all_features  67606.775675  0.662404  49028.189942\n",
       "1  numerical_features  68094.735777  0.657513  49677.137033"
      ]
     },
     "execution_count": 27,
     "metadata": {},
     "output_type": "execute_result"
    }
   ],
   "source": [
    "rezults = pd.DataFrame(columns = ['model', 'RMSE', 'R2', 'MAE']) \n",
    "rezults.loc[0] = ['all_features', rmse_all, r2_all, mae_all]\n",
    "rezults.loc[1] = ['numerical_features', rmse_num, r2_num, mae_num]\n",
    "rezults"
   ]
  },
  {
   "cell_type": "markdown",
   "id": "3b0a9fde",
   "metadata": {},
   "source": [
    "Метрики RMSE и MAE ниже, а R2 ближе к 1 у модели, обученной на всех признаках. \n",
    "Лучшей оказалась модель линейной регрессии с гиперпараметрами: \n",
    "- regParam : 0.01\n",
    "- fitIntercept : True\n",
    "- elasticNetParam : 0.5"
   ]
  },
  {
   "cell_type": "markdown",
   "id": "c758cd6c",
   "metadata": {},
   "source": [
    "Попробуем улучшить модель, учитывая корреляцию между признаками. Не будем использовать total_bedrooms, households, population."
   ]
  },
  {
   "cell_type": "code",
   "execution_count": 28,
   "id": "06ff6f27",
   "metadata": {},
   "outputs": [],
   "source": [
    "numerical_cols = ['longitude', 'latitude', 'housing_median_age',\n",
    "                  'total_rooms', 'median_income', 'rooms_per_household',\n",
    "                  'population_in_household', 'bedroom_index']"
   ]
  },
  {
   "cell_type": "code",
   "execution_count": 29,
   "id": "4abb8c89",
   "metadata": {},
   "outputs": [
    {
     "name": "stdout",
     "output_type": "stream",
     "text": [
      "Best model parameters:\n",
      "aggregationDepth : 2\n",
      "elasticNetParam : 1.0\n",
      "epsilon : 1.35\n",
      "featuresCol : features\n",
      "fitIntercept : True\n",
      "labelCol : median_house_value\n",
      "loss : squaredError\n",
      "maxIter : 100\n",
      "predictionCol : prediction\n",
      "regParam : 0.1\n",
      "solver : auto\n",
      "standardization : True\n",
      "tol : 1e-06\n",
      "\n",
      "RMSE 70637.18353323716\n",
      "R2 0.6314604099797843 \n",
      "MAE 51526.27040525029\n"
     ]
    }
   ],
   "source": [
    "imputer_new = Imputer(inputCols=numerical_cols, outputCols=numerical_cols, strategy='median')\n",
    "assembler_new = VectorAssembler(inputCols=numerical_cols,\n",
    "                                outputCol='numerical_features')\n",
    "scaler_new = StandardScaler(inputCol='numerical_features',\n",
    "                            outputCol='scaled_numerical_features')\n",
    "stages_new = [imputer_new, indexer, encoder, categorical_assembler,\n",
    "              assembler_new, scaler_new, final_assembler]\n",
    "lr_new = LinearRegression(labelCol=target, featuresCol='features', regParam=0.1)\n",
    "pipeline_new = Pipeline(stages=stages_new + [lr_new]) \n",
    "\n",
    "paramGrid = ParamGridBuilder()\\\n",
    "    .addGrid(lr_new.regParam, [0.1, 0.01]) \\\n",
    "    .addGrid(lr_new.fitIntercept, [False, True])\\\n",
    "    .addGrid(lr_new.elasticNetParam, [0.0, 0.5, 1.0])\\\n",
    "    .build()\n",
    "\n",
    "crossval = CrossValidator(estimator=pipeline_new,\n",
    "                          estimatorParamMaps=paramGrid,\n",
    "                          evaluator= RegressionEvaluator(metricName='rmse', labelCol=target),\n",
    "                          numFolds=5,\n",
    "                          seed=RANDOM_SEED)  \n",
    "model_new = crossval.fit(train_data)\n",
    "\n",
    "# Извлекаем лучшую модель\n",
    "best_model_new = model_new.bestModel\n",
    "\n",
    "# Извлекаем параметры лучшей модели\n",
    "best_model_params = best_model_new.stages[-1].extractParamMap()\n",
    "\n",
    "# Вывод наилучших параметров модели\n",
    "print(\"Best model parameters:\")\n",
    "for param, value in best_model_params.items():\n",
    "    print(param.name, \":\", value)\n",
    "\n",
    "rmse_new, r2_new, mae_new = get_metrics(best_model_new, test_data)\n",
    "print(f'\\nRMSE {rmse_new}\\nR2 {r2_new} \\nMAE {mae_new}')"
   ]
  },
  {
   "cell_type": "markdown",
   "id": "5a8a8977",
   "metadata": {},
   "source": [
    "Не удалось улучшить результат. Модель, обученная на всех параметрах, выигрывает."
   ]
  },
  {
   "cell_type": "code",
   "execution_count": 30,
   "id": "723ace43",
   "metadata": {},
   "outputs": [],
   "source": [
    "spark.stop()"
   ]
  },
  {
   "cell_type": "markdown",
   "id": "f7b56801",
   "metadata": {},
   "source": [
    "__Промежуточный вывод__:\n",
    "\n",
    "Модель линейной регрессии, обученная на всех входных признаках, показывает лучший результат по метрикам RMSE, R2, MAE."
   ]
  },
  {
   "cell_type": "markdown",
   "id": "68faa5b4",
   "metadata": {},
   "source": [
    "## Вывод"
   ]
  },
  {
   "cell_type": "markdown",
   "id": "af824b55",
   "metadata": {},
   "source": [
    "Мы решали задачу регрессии, обучение с учителем, с использованием фреймворка Spark. Использовали возможности модуля Mllib для подготовки данных, обучения моделей и оценки качества моделей. \n",
    "\n",
    "Лучшие метрики показала модель линейной регрессии, обученная на всех признаках, с гиперпараметрами:\n",
    "- regParam = 0.01,\n",
    "- fitIntercept = True,\n",
    "- elasticNetParam = 0.5.\n",
    "\n",
    "Значение метрик на тестовой выборке:\n",
    "- RMSE = 67606.78,\n",
    "- R2 = 0.66,\n",
    "- MAE = 49028.10. \n",
    "\n",
    "Модель делает большие ошибки в оценке стоимости жилья. Удаление мультиколлинеарных признаков не помогло получить модель с лучшими метриками. Модель нуждается в улучшении. Стоит рассмотреть возможность использования другого набора признаков или другого алгоритма обучения, а также возможность обучения на датасете без выбросов."
   ]
  }
 ],
 "metadata": {
  "ExecuteTimeLog": [
   {
    "duration": 206,
    "start_time": "2024-11-10T18:19:57.195Z"
   },
   {
    "duration": 59,
    "start_time": "2024-11-10T18:19:59.648Z"
   },
   {
    "duration": 68,
    "start_time": "2024-11-10T18:20:20.175Z"
   },
   {
    "duration": 58,
    "start_time": "2024-11-10T18:20:33.271Z"
   },
   {
    "duration": 67,
    "start_time": "2024-11-10T18:20:38.097Z"
   },
   {
    "duration": 48,
    "start_time": "2024-11-10T18:20:47.201Z"
   },
   {
    "duration": 14055,
    "start_time": "2024-11-10T18:21:01.333Z"
   },
   {
    "duration": 7012,
    "start_time": "2024-11-10T18:23:58.261Z"
   },
   {
    "duration": 689,
    "start_time": "2024-11-10T18:24:45.188Z"
   },
   {
    "duration": 3,
    "start_time": "2024-11-10T18:24:47.796Z"
   },
   {
    "duration": 1190,
    "start_time": "2024-11-10T18:44:31.777Z"
   },
   {
    "duration": 478,
    "start_time": "2024-11-10T18:45:48.481Z"
   },
   {
    "duration": 185,
    "start_time": "2024-11-10T18:45:58.068Z"
   },
   {
    "duration": 3,
    "start_time": "2024-11-10T18:46:01.454Z"
   },
   {
    "duration": 75,
    "start_time": "2024-11-10T18:52:07.829Z"
   },
   {
    "duration": 9,
    "start_time": "2024-11-10T18:52:34.164Z"
   },
   {
    "duration": 15,
    "start_time": "2024-11-10T18:52:37.105Z"
   },
   {
    "duration": 2,
    "start_time": "2024-11-10T18:53:08.269Z"
   },
   {
    "duration": 18,
    "start_time": "2024-11-10T18:54:27.381Z"
   },
   {
    "duration": 4,
    "start_time": "2024-11-10T18:54:43.357Z"
   },
   {
    "duration": 4428,
    "start_time": "2024-11-10T18:54:47.229Z"
   },
   {
    "duration": 179,
    "start_time": "2024-11-10T18:57:05.912Z"
   },
   {
    "duration": 2612,
    "start_time": "2024-11-10T19:01:09.868Z"
   },
   {
    "duration": 28,
    "start_time": "2024-11-10T19:27:28.165Z"
   },
   {
    "duration": 17,
    "start_time": "2024-11-10T20:31:05.386Z"
   },
   {
    "duration": 308,
    "start_time": "2024-11-10T20:32:48.274Z"
   },
   {
    "duration": 4,
    "start_time": "2024-11-10T20:36:04.742Z"
   },
   {
    "duration": 44,
    "start_time": "2024-11-10T20:38:34.191Z"
   },
   {
    "duration": 14,
    "start_time": "2024-11-10T20:38:46.424Z"
   },
   {
    "duration": 4651,
    "start_time": "2024-11-10T20:40:21.515Z"
   },
   {
    "duration": 1996,
    "start_time": "2024-11-10T21:33:14.770Z"
   },
   {
    "duration": 715,
    "start_time": "2024-11-10T21:33:34.750Z"
   },
   {
    "duration": 3,
    "start_time": "2024-11-10T21:37:59.034Z"
   },
   {
    "duration": 2,
    "start_time": "2024-11-10T21:38:00.128Z"
   },
   {
    "duration": 3,
    "start_time": "2024-11-10T21:38:01.360Z"
   },
   {
    "duration": 359,
    "start_time": "2024-11-10T21:38:02.929Z"
   },
   {
    "duration": 106,
    "start_time": "2024-11-10T21:38:03.756Z"
   },
   {
    "duration": 134,
    "start_time": "2024-11-10T21:38:09.684Z"
   },
   {
    "duration": 3,
    "start_time": "2024-11-10T21:38:26.193Z"
   },
   {
    "duration": 570,
    "start_time": "2024-11-10T21:38:38.794Z"
   },
   {
    "duration": 8,
    "start_time": "2024-11-10T21:43:19.542Z"
   },
   {
    "duration": 258,
    "start_time": "2024-11-10T21:46:10.286Z"
   },
   {
    "duration": 260,
    "start_time": "2024-11-10T21:46:23.798Z"
   },
   {
    "duration": 16,
    "start_time": "2024-11-10T21:46:28.966Z"
   },
   {
    "duration": 162,
    "start_time": "2024-11-10T21:46:39.406Z"
   },
   {
    "duration": 158,
    "start_time": "2024-11-10T21:46:48.618Z"
   },
   {
    "duration": 47,
    "start_time": "2024-11-10T21:49:53.350Z"
   },
   {
    "duration": 271,
    "start_time": "2024-11-10T21:50:01.008Z"
   },
   {
    "duration": 18,
    "start_time": "2024-11-10T21:58:09.032Z"
   },
   {
    "duration": 164,
    "start_time": "2024-11-10T21:58:25.886Z"
   },
   {
    "duration": 171,
    "start_time": "2024-11-10T21:58:38.501Z"
   },
   {
    "duration": 195,
    "start_time": "2024-11-10T21:58:47.042Z"
   },
   {
    "duration": 182,
    "start_time": "2024-11-10T21:59:09.201Z"
   },
   {
    "duration": 2005,
    "start_time": "2024-11-10T21:59:53.267Z"
   },
   {
    "duration": 159,
    "start_time": "2024-11-10T22:00:27.135Z"
   },
   {
    "duration": 1787,
    "start_time": "2024-11-10T22:00:29.785Z"
   },
   {
    "duration": 9,
    "start_time": "2024-11-10T22:22:18.079Z"
   },
   {
    "duration": 266,
    "start_time": "2024-11-10T22:22:42.111Z"
   },
   {
    "duration": 16,
    "start_time": "2024-11-10T22:22:46.515Z"
   },
   {
    "duration": 3,
    "start_time": "2024-11-10T22:22:51.554Z"
   },
   {
    "duration": 29,
    "start_time": "2024-11-10T22:22:53.780Z"
   },
   {
    "duration": 11,
    "start_time": "2024-11-10T22:23:04.991Z"
   },
   {
    "duration": 1290,
    "start_time": "2024-11-10T22:23:13.167Z"
   },
   {
    "duration": 11,
    "start_time": "2024-11-10T22:34:00.387Z"
   },
   {
    "duration": 3,
    "start_time": "2024-11-10T22:34:52.917Z"
   },
   {
    "duration": 446,
    "start_time": "2024-11-10T22:35:04.378Z"
   },
   {
    "duration": 3,
    "start_time": "2024-11-10T22:40:10.458Z"
   },
   {
    "duration": 3,
    "start_time": "2024-11-10T22:42:28.553Z"
   },
   {
    "duration": 3,
    "start_time": "2024-11-10T22:59:30.698Z"
   },
   {
    "duration": 8,
    "start_time": "2024-11-10T23:02:13.230Z"
   },
   {
    "duration": 4,
    "start_time": "2024-11-10T23:02:42.964Z"
   },
   {
    "duration": 44,
    "start_time": "2024-11-10T23:02:52.658Z"
   },
   {
    "duration": 278,
    "start_time": "2024-11-10T23:03:26.857Z"
   },
   {
    "duration": 91,
    "start_time": "2024-11-10T23:04:36.740Z"
   },
   {
    "duration": 3,
    "start_time": "2024-11-10T23:05:27.153Z"
   },
   {
    "duration": 2,
    "start_time": "2024-11-10T23:05:27.754Z"
   },
   {
    "duration": 3,
    "start_time": "2024-11-10T23:05:28.453Z"
   },
   {
    "duration": 323,
    "start_time": "2024-11-10T23:05:28.868Z"
   },
   {
    "duration": 134,
    "start_time": "2024-11-10T23:05:29.192Z"
   },
   {
    "duration": 144,
    "start_time": "2024-11-10T23:05:29.349Z"
   },
   {
    "duration": 3,
    "start_time": "2024-11-10T23:05:29.592Z"
   },
   {
    "duration": 637,
    "start_time": "2024-11-10T23:05:31.033Z"
   },
   {
    "duration": 1678,
    "start_time": "2024-11-10T23:05:32.775Z"
   },
   {
    "duration": 214,
    "start_time": "2024-11-10T23:05:34.455Z"
   },
   {
    "duration": 198,
    "start_time": "2024-11-10T23:05:34.670Z"
   },
   {
    "duration": 24,
    "start_time": "2024-11-10T23:05:36.002Z"
   },
   {
    "duration": 3,
    "start_time": "2024-11-10T23:05:36.965Z"
   },
   {
    "duration": 429,
    "start_time": "2024-11-10T23:05:40.265Z"
   },
   {
    "duration": 181,
    "start_time": "2024-11-10T23:05:43.639Z"
   },
   {
    "duration": 17,
    "start_time": "2024-11-10T23:06:07.041Z"
   },
   {
    "duration": 23,
    "start_time": "2024-11-10T23:10:38.187Z"
   },
   {
    "duration": 845,
    "start_time": "2024-11-10T23:10:39.409Z"
   },
   {
    "duration": 249,
    "start_time": "2024-11-10T23:10:41.608Z"
   },
   {
    "duration": 8,
    "start_time": "2024-11-10T23:12:17.640Z"
   },
   {
    "duration": 2,
    "start_time": "2024-11-10T23:12:36.400Z"
   },
   {
    "duration": 1997,
    "start_time": "2024-11-10T23:12:41.584Z"
   },
   {
    "duration": 17,
    "start_time": "2024-11-10T23:24:20.843Z"
   },
   {
    "duration": 82,
    "start_time": "2024-11-10T23:24:36.842Z"
   },
   {
    "duration": 454,
    "start_time": "2024-11-10T23:24:52.007Z"
   },
   {
    "duration": 3,
    "start_time": "2024-11-10T23:25:18.133Z"
   },
   {
    "duration": 521,
    "start_time": "2024-11-10T23:28:07.127Z"
   },
   {
    "duration": 3,
    "start_time": "2024-11-10T23:28:07.649Z"
   },
   {
    "duration": 14031,
    "start_time": "2024-11-10T23:28:07.653Z"
   },
   {
    "duration": 7195,
    "start_time": "2024-11-10T23:28:21.686Z"
   },
   {
    "duration": 905,
    "start_time": "2024-11-10T23:28:28.883Z"
   },
   {
    "duration": 570,
    "start_time": "2024-11-10T23:28:29.789Z"
   },
   {
    "duration": 12,
    "start_time": "2024-11-10T23:28:30.361Z"
   },
   {
    "duration": 3610,
    "start_time": "2024-11-10T23:28:30.374Z"
   },
   {
    "duration": 4077,
    "start_time": "2024-11-10T23:28:33.986Z"
   },
   {
    "duration": 1015,
    "start_time": "2024-11-10T23:28:38.065Z"
   },
   {
    "duration": 472,
    "start_time": "2024-11-10T23:28:39.082Z"
   },
   {
    "duration": 2,
    "start_time": "2024-11-10T23:28:39.556Z"
   },
   {
    "duration": 4,
    "start_time": "2024-11-10T23:28:39.559Z"
   },
   {
    "duration": 1284,
    "start_time": "2024-11-10T23:28:39.565Z"
   },
   {
    "duration": 902,
    "start_time": "2024-11-10T23:28:40.850Z"
   },
   {
    "duration": 3,
    "start_time": "2024-11-10T23:28:41.753Z"
   },
   {
    "duration": 595,
    "start_time": "2024-11-10T23:28:41.757Z"
   },
   {
    "duration": 96,
    "start_time": "2024-11-10T23:28:42.353Z"
   },
   {
    "duration": 23,
    "start_time": "2024-11-10T23:28:42.451Z"
   },
   {
    "duration": 1004,
    "start_time": "2024-11-10T23:28:42.475Z"
   },
   {
    "duration": 490,
    "start_time": "2024-11-10T23:28:43.480Z"
   },
   {
    "duration": 2698,
    "start_time": "2024-11-10T23:28:43.972Z"
   },
   {
    "duration": 78,
    "start_time": "2024-11-10T23:28:46.672Z"
   },
   {
    "duration": 0,
    "start_time": "2024-11-10T23:28:46.752Z"
   },
   {
    "duration": 509,
    "start_time": "2024-11-10T23:30:11.066Z"
   },
   {
    "duration": 2,
    "start_time": "2024-11-10T23:30:11.577Z"
   },
   {
    "duration": 14193,
    "start_time": "2024-11-10T23:30:11.580Z"
   },
   {
    "duration": 7290,
    "start_time": "2024-11-10T23:30:25.776Z"
   },
   {
    "duration": 808,
    "start_time": "2024-11-10T23:30:33.068Z"
   },
   {
    "duration": 589,
    "start_time": "2024-11-10T23:30:33.878Z"
   },
   {
    "duration": 81,
    "start_time": "2024-11-10T23:30:34.469Z"
   },
   {
    "duration": 3507,
    "start_time": "2024-11-10T23:30:34.552Z"
   },
   {
    "duration": 4122,
    "start_time": "2024-11-10T23:30:38.060Z"
   },
   {
    "duration": 1064,
    "start_time": "2024-11-10T23:30:42.185Z"
   },
   {
    "duration": 434,
    "start_time": "2024-11-10T23:30:43.250Z"
   },
   {
    "duration": 2,
    "start_time": "2024-11-10T23:30:43.685Z"
   },
   {
    "duration": 3,
    "start_time": "2024-11-10T23:30:43.747Z"
   },
   {
    "duration": 1478,
    "start_time": "2024-11-10T23:30:43.751Z"
   },
   {
    "duration": 4,
    "start_time": "2024-11-10T23:30:45.230Z"
   },
   {
    "duration": 558,
    "start_time": "2024-11-10T23:30:45.235Z"
   },
   {
    "duration": 82,
    "start_time": "2024-11-10T23:30:45.794Z"
   },
   {
    "duration": 76,
    "start_time": "2024-11-10T23:30:45.877Z"
   },
   {
    "duration": 1004,
    "start_time": "2024-11-10T23:30:45.955Z"
   },
   {
    "duration": 603,
    "start_time": "2024-11-10T23:30:46.960Z"
   },
   {
    "duration": 2284,
    "start_time": "2024-11-10T23:30:47.565Z"
   },
   {
    "duration": 58,
    "start_time": "2024-11-10T23:30:49.851Z"
   },
   {
    "duration": 0,
    "start_time": "2024-11-10T23:30:49.910Z"
   },
   {
    "duration": 103,
    "start_time": "2024-11-10T23:33:21.098Z"
   },
   {
    "duration": 4954,
    "start_time": "2024-11-10T23:35:46.416Z"
   },
   {
    "duration": 3793,
    "start_time": "2024-11-10T23:38:33.300Z"
   },
   {
    "duration": 555,
    "start_time": "2024-11-11T12:20:42.935Z"
   },
   {
    "duration": 3,
    "start_time": "2024-11-11T12:20:43.827Z"
   },
   {
    "duration": 16801,
    "start_time": "2024-11-11T12:20:47.473Z"
   },
   {
    "duration": 9976,
    "start_time": "2024-11-11T12:21:04.277Z"
   },
   {
    "duration": 1140,
    "start_time": "2024-11-11T12:24:00.236Z"
   },
   {
    "duration": 984,
    "start_time": "2024-11-11T12:24:03.377Z"
   },
   {
    "duration": 666,
    "start_time": "2024-11-11T12:24:12.293Z"
   },
   {
    "duration": 274,
    "start_time": "2024-11-11T12:25:24.028Z"
   },
   {
    "duration": 15,
    "start_time": "2024-11-11T12:25:26.945Z"
   },
   {
    "duration": 74,
    "start_time": "2024-11-11T12:27:48.139Z"
   },
   {
    "duration": 17,
    "start_time": "2024-11-11T12:30:50.473Z"
   },
   {
    "duration": 488,
    "start_time": "2024-11-11T12:31:16.705Z"
   },
   {
    "duration": 3,
    "start_time": "2024-11-11T12:31:17.525Z"
   },
   {
    "duration": 16728,
    "start_time": "2024-11-11T12:31:19.160Z"
   },
   {
    "duration": 10336,
    "start_time": "2024-11-11T12:31:35.945Z"
   },
   {
    "duration": 1176,
    "start_time": "2024-11-11T12:31:46.283Z"
   },
   {
    "duration": 804,
    "start_time": "2024-11-11T12:31:47.464Z"
   },
   {
    "duration": 87,
    "start_time": "2024-11-11T12:31:48.270Z"
   },
   {
    "duration": 2812,
    "start_time": "2024-11-11T12:31:48.360Z"
   },
   {
    "duration": 7292,
    "start_time": "2024-11-11T12:31:51.174Z"
   },
   {
    "duration": 1981,
    "start_time": "2024-11-11T12:33:28.267Z"
   },
   {
    "duration": 552,
    "start_time": "2024-11-11T12:35:34.207Z"
   },
   {
    "duration": 6,
    "start_time": "2024-11-11T12:44:19.079Z"
   },
   {
    "duration": 97,
    "start_time": "2024-11-11T12:58:52.794Z"
   },
   {
    "duration": 4,
    "start_time": "2024-11-11T12:58:57.696Z"
   },
   {
    "duration": 8,
    "start_time": "2024-11-11T12:59:07.855Z"
   },
   {
    "duration": 542,
    "start_time": "2024-11-11T13:02:46.455Z"
   },
   {
    "duration": 3,
    "start_time": "2024-11-11T13:02:46.999Z"
   },
   {
    "duration": 16765,
    "start_time": "2024-11-11T13:02:47.004Z"
   },
   {
    "duration": 9876,
    "start_time": "2024-11-11T13:03:03.773Z"
   },
   {
    "duration": 1324,
    "start_time": "2024-11-11T13:03:13.651Z"
   },
   {
    "duration": 798,
    "start_time": "2024-11-11T13:03:14.976Z"
   },
   {
    "duration": 86,
    "start_time": "2024-11-11T13:03:15.776Z"
   },
   {
    "duration": 4,
    "start_time": "2024-11-11T13:03:15.863Z"
   },
   {
    "duration": 2693,
    "start_time": "2024-11-11T13:03:15.868Z"
   },
   {
    "duration": 7384,
    "start_time": "2024-11-11T13:03:18.565Z"
   },
   {
    "duration": 2211,
    "start_time": "2024-11-11T13:03:25.951Z"
   },
   {
    "duration": 142,
    "start_time": "2024-11-11T13:03:28.163Z"
   },
   {
    "duration": 0,
    "start_time": "2024-11-11T13:03:28.307Z"
   },
   {
    "duration": 0,
    "start_time": "2024-11-11T13:03:28.308Z"
   },
   {
    "duration": 0,
    "start_time": "2024-11-11T13:03:28.310Z"
   },
   {
    "duration": 0,
    "start_time": "2024-11-11T13:03:28.346Z"
   },
   {
    "duration": 0,
    "start_time": "2024-11-11T13:03:28.349Z"
   },
   {
    "duration": 0,
    "start_time": "2024-11-11T13:03:28.350Z"
   },
   {
    "duration": 0,
    "start_time": "2024-11-11T13:03:28.353Z"
   },
   {
    "duration": 0,
    "start_time": "2024-11-11T13:03:28.354Z"
   },
   {
    "duration": 0,
    "start_time": "2024-11-11T13:03:28.354Z"
   },
   {
    "duration": 0,
    "start_time": "2024-11-11T13:03:28.355Z"
   },
   {
    "duration": 6,
    "start_time": "2024-11-11T13:03:51.450Z"
   },
   {
    "duration": 43,
    "start_time": "2024-11-11T13:03:56.843Z"
   },
   {
    "duration": 3,
    "start_time": "2024-11-11T13:05:18.322Z"
   },
   {
    "duration": 7621,
    "start_time": "2024-11-11T13:05:59.788Z"
   },
   {
    "duration": 4777,
    "start_time": "2024-11-11T13:06:40.571Z"
   },
   {
    "duration": 829,
    "start_time": "2024-11-11T13:06:49.451Z"
   },
   {
    "duration": 3376,
    "start_time": "2024-11-11T13:11:22.493Z"
   },
   {
    "duration": 11,
    "start_time": "2024-11-11T13:18:49.216Z"
   },
   {
    "duration": 2832,
    "start_time": "2024-11-11T13:19:28.541Z"
   },
   {
    "duration": 1448,
    "start_time": "2024-11-11T13:19:39.822Z"
   },
   {
    "duration": 21,
    "start_time": "2024-11-11T13:35:02.420Z"
   },
   {
    "duration": 23,
    "start_time": "2024-11-11T13:35:08.435Z"
   },
   {
    "duration": 2003,
    "start_time": "2024-11-11T13:35:17.879Z"
   },
   {
    "duration": 1044,
    "start_time": "2024-11-11T13:44:02.040Z"
   },
   {
    "duration": 20,
    "start_time": "2024-11-11T13:44:25.111Z"
   },
   {
    "duration": 3808,
    "start_time": "2024-11-11T13:44:32.555Z"
   },
   {
    "duration": 4209,
    "start_time": "2024-11-11T13:50:53.156Z"
   },
   {
    "duration": 5107,
    "start_time": "2024-11-11T13:51:44.545Z"
   },
   {
    "duration": 17,
    "start_time": "2024-11-11T14:01:55.977Z"
   },
   {
    "duration": 3,
    "start_time": "2024-11-11T14:19:28.698Z"
   },
   {
    "duration": 11,
    "start_time": "2024-11-11T14:21:28.828Z"
   },
   {
    "duration": 16,
    "start_time": "2024-11-11T14:21:32.973Z"
   },
   {
    "duration": 11,
    "start_time": "2024-11-11T14:21:33.656Z"
   },
   {
    "duration": 9,
    "start_time": "2024-11-11T14:21:34.107Z"
   },
   {
    "duration": 16,
    "start_time": "2024-11-11T14:46:56.888Z"
   },
   {
    "duration": 541,
    "start_time": "2024-11-11T14:47:53.254Z"
   },
   {
    "duration": 2,
    "start_time": "2024-11-11T14:47:53.797Z"
   },
   {
    "duration": 15344,
    "start_time": "2024-11-11T14:47:53.801Z"
   },
   {
    "duration": 9130,
    "start_time": "2024-11-11T14:48:09.148Z"
   },
   {
    "duration": 1095,
    "start_time": "2024-11-11T14:48:18.280Z"
   },
   {
    "duration": 696,
    "start_time": "2024-11-11T14:48:19.377Z"
   },
   {
    "duration": 16,
    "start_time": "2024-11-11T14:48:20.143Z"
   },
   {
    "duration": 6,
    "start_time": "2024-11-11T14:48:20.161Z"
   },
   {
    "duration": 1998,
    "start_time": "2024-11-11T14:48:20.168Z"
   },
   {
    "duration": 3,
    "start_time": "2024-11-11T14:48:22.169Z"
   },
   {
    "duration": 4880,
    "start_time": "2024-11-11T14:48:22.174Z"
   },
   {
    "duration": 1988,
    "start_time": "2024-11-11T14:48:27.056Z"
   },
   {
    "duration": 26,
    "start_time": "2024-11-11T14:48:29.046Z"
   },
   {
    "duration": 3575,
    "start_time": "2024-11-11T14:48:29.074Z"
   },
   {
    "duration": 8301,
    "start_time": "2024-11-11T14:48:32.651Z"
   },
   {
    "duration": 14,
    "start_time": "2024-11-11T14:48:40.954Z"
   },
   {
    "duration": 11,
    "start_time": "2024-11-11T14:48:40.970Z"
   },
   {
    "duration": 71,
    "start_time": "2024-11-11T14:48:40.983Z"
   },
   {
    "duration": 15,
    "start_time": "2024-11-11T14:48:41.056Z"
   },
   {
    "duration": 93,
    "start_time": "2024-11-11T14:48:41.073Z"
   },
   {
    "duration": 4941,
    "start_time": "2024-11-11T14:48:41.168Z"
   },
   {
    "duration": 0,
    "start_time": "2024-11-11T14:48:46.111Z"
   },
   {
    "duration": 0,
    "start_time": "2024-11-11T14:48:46.112Z"
   },
   {
    "duration": 0,
    "start_time": "2024-11-11T14:48:46.114Z"
   },
   {
    "duration": 0,
    "start_time": "2024-11-11T14:48:46.115Z"
   },
   {
    "duration": 0,
    "start_time": "2024-11-11T14:48:46.116Z"
   },
   {
    "duration": 0,
    "start_time": "2024-11-11T14:48:46.117Z"
   },
   {
    "duration": 0,
    "start_time": "2024-11-11T14:48:46.118Z"
   },
   {
    "duration": 0,
    "start_time": "2024-11-11T14:48:46.120Z"
   },
   {
    "duration": 0,
    "start_time": "2024-11-11T14:48:46.121Z"
   },
   {
    "duration": 1,
    "start_time": "2024-11-11T14:48:46.121Z"
   },
   {
    "duration": 4,
    "start_time": "2024-11-11T14:49:15.084Z"
   },
   {
    "duration": 540,
    "start_time": "2024-11-11T14:50:32.258Z"
   },
   {
    "duration": 2,
    "start_time": "2024-11-11T14:50:32.800Z"
   },
   {
    "duration": 16056,
    "start_time": "2024-11-11T14:50:32.804Z"
   },
   {
    "duration": 9085,
    "start_time": "2024-11-11T14:50:48.864Z"
   },
   {
    "duration": 1293,
    "start_time": "2024-11-11T14:50:57.951Z"
   },
   {
    "duration": 617,
    "start_time": "2024-11-11T14:50:59.246Z"
   },
   {
    "duration": 95,
    "start_time": "2024-11-11T14:50:59.865Z"
   },
   {
    "duration": 4,
    "start_time": "2024-11-11T14:50:59.962Z"
   },
   {
    "duration": 2489,
    "start_time": "2024-11-11T14:50:59.968Z"
   },
   {
    "duration": 3,
    "start_time": "2024-11-11T14:51:02.461Z"
   },
   {
    "duration": 5403,
    "start_time": "2024-11-11T14:51:02.467Z"
   },
   {
    "duration": 2407,
    "start_time": "2024-11-11T14:51:07.872Z"
   },
   {
    "duration": 76,
    "start_time": "2024-11-11T14:51:10.281Z"
   },
   {
    "duration": 3426,
    "start_time": "2024-11-11T14:51:10.358Z"
   },
   {
    "duration": 9059,
    "start_time": "2024-11-11T14:51:13.786Z"
   },
   {
    "duration": 17,
    "start_time": "2024-11-11T14:51:22.847Z"
   },
   {
    "duration": 16,
    "start_time": "2024-11-11T14:51:22.866Z"
   },
   {
    "duration": 13,
    "start_time": "2024-11-11T14:51:22.884Z"
   },
   {
    "duration": 54,
    "start_time": "2024-11-11T14:51:22.899Z"
   },
   {
    "duration": 7,
    "start_time": "2024-11-11T14:51:22.955Z"
   },
   {
    "duration": 4,
    "start_time": "2024-11-11T14:51:22.964Z"
   },
   {
    "duration": 6196,
    "start_time": "2024-11-11T14:51:22.969Z"
   },
   {
    "duration": 3,
    "start_time": "2024-11-11T14:51:29.168Z"
   },
   {
    "duration": 281,
    "start_time": "2024-11-11T14:51:29.173Z"
   },
   {
    "duration": 0,
    "start_time": "2024-11-11T14:51:29.456Z"
   },
   {
    "duration": 0,
    "start_time": "2024-11-11T14:51:29.457Z"
   },
   {
    "duration": 0,
    "start_time": "2024-11-11T14:51:29.459Z"
   },
   {
    "duration": 0,
    "start_time": "2024-11-11T14:51:29.460Z"
   },
   {
    "duration": 0,
    "start_time": "2024-11-11T14:51:29.462Z"
   },
   {
    "duration": 0,
    "start_time": "2024-11-11T14:51:29.463Z"
   },
   {
    "duration": 0,
    "start_time": "2024-11-11T14:51:29.464Z"
   },
   {
    "duration": 1,
    "start_time": "2024-11-11T14:51:29.465Z"
   },
   {
    "duration": 539,
    "start_time": "2024-11-11T14:52:20.622Z"
   },
   {
    "duration": 46,
    "start_time": "2024-11-11T15:09:50.577Z"
   },
   {
    "duration": 542,
    "start_time": "2024-11-11T15:37:29.647Z"
   },
   {
    "duration": 3,
    "start_time": "2024-11-11T15:37:30.190Z"
   },
   {
    "duration": 15685,
    "start_time": "2024-11-11T15:37:30.195Z"
   },
   {
    "duration": 9195,
    "start_time": "2024-11-11T15:37:45.883Z"
   },
   {
    "duration": 1113,
    "start_time": "2024-11-11T15:37:55.142Z"
   },
   {
    "duration": 788,
    "start_time": "2024-11-11T15:37:56.257Z"
   },
   {
    "duration": 16,
    "start_time": "2024-11-11T15:37:57.046Z"
   },
   {
    "duration": 14,
    "start_time": "2024-11-11T15:37:57.063Z"
   },
   {
    "duration": 2130,
    "start_time": "2024-11-11T15:37:57.143Z"
   },
   {
    "duration": 3,
    "start_time": "2024-11-11T15:37:59.342Z"
   },
   {
    "duration": 5212,
    "start_time": "2024-11-11T15:37:59.347Z"
   },
   {
    "duration": 2106,
    "start_time": "2024-11-11T15:38:04.561Z"
   },
   {
    "duration": 99,
    "start_time": "2024-11-11T15:38:06.670Z"
   },
   {
    "duration": 3087,
    "start_time": "2024-11-11T15:38:06.771Z"
   },
   {
    "duration": 8402,
    "start_time": "2024-11-11T15:38:09.859Z"
   },
   {
    "duration": 82,
    "start_time": "2024-11-11T15:38:18.263Z"
   },
   {
    "duration": 13,
    "start_time": "2024-11-11T15:38:18.347Z"
   },
   {
    "duration": 88,
    "start_time": "2024-11-11T15:38:18.362Z"
   },
   {
    "duration": 13,
    "start_time": "2024-11-11T15:38:18.452Z"
   },
   {
    "duration": 22,
    "start_time": "2024-11-11T15:38:18.467Z"
   },
   {
    "duration": 4,
    "start_time": "2024-11-11T15:38:18.543Z"
   },
   {
    "duration": 40,
    "start_time": "2024-11-11T15:38:18.549Z"
   },
   {
    "duration": 83,
    "start_time": "2024-11-11T15:38:18.590Z"
   },
   {
    "duration": 7877,
    "start_time": "2024-11-11T15:38:18.675Z"
   },
   {
    "duration": 503,
    "start_time": "2024-11-11T15:38:26.554Z"
   },
   {
    "duration": 405,
    "start_time": "2024-11-11T15:38:27.059Z"
   },
   {
    "duration": 3907,
    "start_time": "2024-11-11T15:38:27.466Z"
   },
   {
    "duration": 402,
    "start_time": "2024-11-11T15:38:31.377Z"
   },
   {
    "duration": 479,
    "start_time": "2024-11-11T15:38:31.780Z"
   },
   {
    "duration": 3823,
    "start_time": "2024-11-11T15:44:13.299Z"
   },
   {
    "duration": 1854,
    "start_time": "2024-11-11T15:45:18.919Z"
   },
   {
    "duration": 1361,
    "start_time": "2024-11-11T15:45:41.792Z"
   },
   {
    "duration": 4901,
    "start_time": "2024-11-11T15:51:30.277Z"
   },
   {
    "duration": 585,
    "start_time": "2024-11-11T16:45:38.505Z"
   },
   {
    "duration": 3,
    "start_time": "2024-11-11T16:45:39.093Z"
   },
   {
    "duration": 16375,
    "start_time": "2024-11-11T16:45:39.097Z"
   },
   {
    "duration": 9595,
    "start_time": "2024-11-11T16:45:55.475Z"
   },
   {
    "duration": 1293,
    "start_time": "2024-11-11T16:46:05.072Z"
   },
   {
    "duration": 698,
    "start_time": "2024-11-11T16:46:06.367Z"
   },
   {
    "duration": 79,
    "start_time": "2024-11-11T16:46:07.067Z"
   },
   {
    "duration": 34,
    "start_time": "2024-11-11T16:46:07.147Z"
   },
   {
    "duration": 2363,
    "start_time": "2024-11-11T16:46:07.183Z"
   },
   {
    "duration": 3,
    "start_time": "2024-11-11T16:46:09.550Z"
   },
   {
    "duration": 5036,
    "start_time": "2024-11-11T16:46:09.555Z"
   },
   {
    "duration": 2353,
    "start_time": "2024-11-11T16:46:14.593Z"
   },
   {
    "duration": 30,
    "start_time": "2024-11-11T16:46:16.948Z"
   },
   {
    "duration": 3490,
    "start_time": "2024-11-11T16:46:16.980Z"
   },
   {
    "duration": 8494,
    "start_time": "2024-11-11T16:46:20.472Z"
   },
   {
    "duration": 84,
    "start_time": "2024-11-11T16:46:28.968Z"
   },
   {
    "duration": 12,
    "start_time": "2024-11-11T16:46:29.054Z"
   },
   {
    "duration": 73,
    "start_time": "2024-11-11T16:46:29.068Z"
   },
   {
    "duration": 24,
    "start_time": "2024-11-11T16:46:29.142Z"
   },
   {
    "duration": 9,
    "start_time": "2024-11-11T16:46:29.167Z"
   },
   {
    "duration": 12,
    "start_time": "2024-11-11T16:46:29.178Z"
   },
   {
    "duration": 4,
    "start_time": "2024-11-11T16:46:29.191Z"
   },
   {
    "duration": 4,
    "start_time": "2024-11-11T16:46:29.196Z"
   },
   {
    "duration": 8657,
    "start_time": "2024-11-11T16:46:29.202Z"
   },
   {
    "duration": 128,
    "start_time": "2024-11-11T16:46:37.860Z"
   },
   {
    "duration": 0,
    "start_time": "2024-11-11T16:46:37.990Z"
   },
   {
    "duration": 0,
    "start_time": "2024-11-11T16:46:37.991Z"
   },
   {
    "duration": 0,
    "start_time": "2024-11-11T16:46:37.992Z"
   },
   {
    "duration": 0,
    "start_time": "2024-11-11T16:46:37.994Z"
   },
   {
    "duration": 0,
    "start_time": "2024-11-11T16:46:37.996Z"
   },
   {
    "duration": 0,
    "start_time": "2024-11-11T16:46:37.997Z"
   },
   {
    "duration": 0,
    "start_time": "2024-11-11T16:46:37.998Z"
   },
   {
    "duration": 556,
    "start_time": "2024-11-11T16:51:26.434Z"
   },
   {
    "duration": 5,
    "start_time": "2024-11-11T17:01:23.976Z"
   },
   {
    "duration": 6,
    "start_time": "2024-11-11T17:06:04.798Z"
   },
   {
    "duration": 555,
    "start_time": "2024-11-11T17:06:41.451Z"
   },
   {
    "duration": 3,
    "start_time": "2024-11-11T17:06:42.008Z"
   },
   {
    "duration": 16243,
    "start_time": "2024-11-11T17:06:42.013Z"
   },
   {
    "duration": 9396,
    "start_time": "2024-11-11T17:06:58.260Z"
   },
   {
    "duration": 1197,
    "start_time": "2024-11-11T17:07:07.659Z"
   },
   {
    "duration": 801,
    "start_time": "2024-11-11T17:07:08.858Z"
   },
   {
    "duration": 82,
    "start_time": "2024-11-11T17:07:09.662Z"
   },
   {
    "duration": 4,
    "start_time": "2024-11-11T17:07:09.746Z"
   },
   {
    "duration": 2226,
    "start_time": "2024-11-11T17:07:09.752Z"
   },
   {
    "duration": 64,
    "start_time": "2024-11-11T17:07:11.981Z"
   },
   {
    "duration": 5711,
    "start_time": "2024-11-11T17:07:12.050Z"
   },
   {
    "duration": 2408,
    "start_time": "2024-11-11T17:07:17.763Z"
   },
   {
    "duration": 92,
    "start_time": "2024-11-11T17:07:20.173Z"
   },
   {
    "duration": 3106,
    "start_time": "2024-11-11T17:07:20.268Z"
   },
   {
    "duration": 8794,
    "start_time": "2024-11-11T17:07:23.376Z"
   },
   {
    "duration": 15,
    "start_time": "2024-11-11T17:07:32.243Z"
   },
   {
    "duration": 19,
    "start_time": "2024-11-11T17:07:32.259Z"
   },
   {
    "duration": 21,
    "start_time": "2024-11-11T17:07:32.280Z"
   },
   {
    "duration": 37,
    "start_time": "2024-11-11T17:07:32.303Z"
   },
   {
    "duration": 21,
    "start_time": "2024-11-11T17:07:32.342Z"
   },
   {
    "duration": 12,
    "start_time": "2024-11-11T17:07:32.364Z"
   },
   {
    "duration": 25,
    "start_time": "2024-11-11T17:07:32.378Z"
   },
   {
    "duration": 22,
    "start_time": "2024-11-11T17:07:32.405Z"
   },
   {
    "duration": 9043,
    "start_time": "2024-11-11T17:07:32.429Z"
   },
   {
    "duration": 1868,
    "start_time": "2024-11-11T17:07:41.475Z"
   },
   {
    "duration": 0,
    "start_time": "2024-11-11T17:07:43.346Z"
   },
   {
    "duration": 0,
    "start_time": "2024-11-11T17:07:43.347Z"
   },
   {
    "duration": 0,
    "start_time": "2024-11-11T17:07:43.349Z"
   },
   {
    "duration": 0,
    "start_time": "2024-11-11T17:07:43.350Z"
   },
   {
    "duration": 6,
    "start_time": "2024-11-11T17:11:11.319Z"
   },
   {
    "duration": 4333,
    "start_time": "2024-11-11T17:11:19.115Z"
   },
   {
    "duration": 1069,
    "start_time": "2024-11-11T17:11:28.138Z"
   },
   {
    "duration": 562,
    "start_time": "2024-11-11T17:14:13.942Z"
   },
   {
    "duration": 2,
    "start_time": "2024-11-11T17:14:14.507Z"
   },
   {
    "duration": 16052,
    "start_time": "2024-11-11T17:14:14.511Z"
   },
   {
    "duration": 10698,
    "start_time": "2024-11-11T17:14:30.566Z"
   },
   {
    "duration": 1182,
    "start_time": "2024-11-11T17:14:41.266Z"
   },
   {
    "duration": 604,
    "start_time": "2024-11-11T17:14:42.450Z"
   },
   {
    "duration": 16,
    "start_time": "2024-11-11T17:14:43.056Z"
   },
   {
    "duration": 69,
    "start_time": "2024-11-11T17:14:43.074Z"
   },
   {
    "duration": 2312,
    "start_time": "2024-11-11T17:14:43.145Z"
   },
   {
    "duration": 3,
    "start_time": "2024-11-11T17:14:45.461Z"
   },
   {
    "duration": 4887,
    "start_time": "2024-11-11T17:14:45.466Z"
   },
   {
    "duration": 2010,
    "start_time": "2024-11-11T17:14:50.355Z"
   },
   {
    "duration": 93,
    "start_time": "2024-11-11T17:14:52.367Z"
   },
   {
    "duration": 2911,
    "start_time": "2024-11-11T17:14:52.461Z"
   },
   {
    "duration": 9489,
    "start_time": "2024-11-11T17:14:55.374Z"
   },
   {
    "duration": 84,
    "start_time": "2024-11-11T17:15:04.867Z"
   },
   {
    "duration": 15,
    "start_time": "2024-11-11T17:15:04.953Z"
   },
   {
    "duration": 78,
    "start_time": "2024-11-11T17:15:04.970Z"
   },
   {
    "duration": 31,
    "start_time": "2024-11-11T17:15:05.050Z"
   },
   {
    "duration": 9,
    "start_time": "2024-11-11T17:15:05.142Z"
   },
   {
    "duration": 97,
    "start_time": "2024-11-11T17:15:05.153Z"
   },
   {
    "duration": 19,
    "start_time": "2024-11-11T17:15:05.253Z"
   },
   {
    "duration": 37,
    "start_time": "2024-11-11T17:15:05.274Z"
   },
   {
    "duration": 9755,
    "start_time": "2024-11-11T17:15:05.313Z"
   },
   {
    "duration": 2394,
    "start_time": "2024-11-11T17:15:15.070Z"
   },
   {
    "duration": 4512,
    "start_time": "2024-11-11T17:15:17.466Z"
   },
   {
    "duration": 139,
    "start_time": "2024-11-11T17:15:22.047Z"
   },
   {
    "duration": 0,
    "start_time": "2024-11-11T17:15:22.188Z"
   },
   {
    "duration": 0,
    "start_time": "2024-11-11T17:15:22.244Z"
   },
   {
    "duration": 1598,
    "start_time": "2024-11-11T17:16:09.106Z"
   },
   {
    "duration": 2805,
    "start_time": "2024-11-11T17:26:19.043Z"
   },
   {
    "duration": 13,
    "start_time": "2024-11-11T17:26:32.038Z"
   },
   {
    "duration": 2159,
    "start_time": "2024-11-11T17:27:06.209Z"
   },
   {
    "duration": 16,
    "start_time": "2024-11-11T17:27:25.290Z"
   },
   {
    "duration": 18,
    "start_time": "2024-11-11T17:28:50.226Z"
   },
   {
    "duration": 19,
    "start_time": "2024-11-11T17:35:01.929Z"
   },
   {
    "duration": 1732,
    "start_time": "2024-11-11T17:35:08.316Z"
   },
   {
    "duration": 1525,
    "start_time": "2024-11-11T17:35:21.233Z"
   },
   {
    "duration": 18,
    "start_time": "2024-11-11T17:36:29.104Z"
   },
   {
    "duration": 1903,
    "start_time": "2024-11-11T17:36:44.950Z"
   },
   {
    "duration": 55,
    "start_time": "2024-11-11T19:16:58.274Z"
   },
   {
    "duration": 536,
    "start_time": "2024-11-11T19:36:31.060Z"
   },
   {
    "duration": 3,
    "start_time": "2024-11-11T19:36:31.597Z"
   },
   {
    "duration": 15751,
    "start_time": "2024-11-11T19:36:31.601Z"
   },
   {
    "duration": 9419,
    "start_time": "2024-11-11T19:36:47.355Z"
   },
   {
    "duration": 1094,
    "start_time": "2024-11-11T19:36:56.776Z"
   },
   {
    "duration": 703,
    "start_time": "2024-11-11T19:36:57.872Z"
   },
   {
    "duration": 81,
    "start_time": "2024-11-11T19:36:58.576Z"
   },
   {
    "duration": 4,
    "start_time": "2024-11-11T19:36:58.659Z"
   },
   {
    "duration": 2311,
    "start_time": "2024-11-11T19:36:58.665Z"
   },
   {
    "duration": 2,
    "start_time": "2024-11-11T19:37:01.044Z"
   },
   {
    "duration": 4803,
    "start_time": "2024-11-11T19:37:01.048Z"
   },
   {
    "duration": 1822,
    "start_time": "2024-11-11T19:37:05.853Z"
   },
   {
    "duration": 90,
    "start_time": "2024-11-11T19:37:07.677Z"
   },
   {
    "duration": 3279,
    "start_time": "2024-11-11T19:37:07.768Z"
   },
   {
    "duration": 3906,
    "start_time": "2024-11-11T19:37:11.049Z"
   },
   {
    "duration": 2886,
    "start_time": "2024-11-11T19:37:14.957Z"
   },
   {
    "duration": 98,
    "start_time": "2024-11-11T19:37:17.845Z"
   },
   {
    "duration": 30,
    "start_time": "2024-11-11T19:37:17.945Z"
   },
   {
    "duration": 16,
    "start_time": "2024-11-11T19:37:17.977Z"
   },
   {
    "duration": 56,
    "start_time": "2024-11-11T19:37:17.995Z"
   },
   {
    "duration": 13,
    "start_time": "2024-11-11T19:37:18.054Z"
   },
   {
    "duration": 32,
    "start_time": "2024-11-11T19:37:18.068Z"
   },
   {
    "duration": 31,
    "start_time": "2024-11-11T19:37:18.102Z"
   },
   {
    "duration": 59,
    "start_time": "2024-11-11T19:37:18.135Z"
   },
   {
    "duration": 3865,
    "start_time": "2024-11-11T19:37:18.196Z"
   },
   {
    "duration": 0,
    "start_time": "2024-11-11T19:37:22.064Z"
   },
   {
    "duration": 0,
    "start_time": "2024-11-11T19:37:22.066Z"
   },
   {
    "duration": 0,
    "start_time": "2024-11-11T19:37:22.067Z"
   },
   {
    "duration": 0,
    "start_time": "2024-11-11T19:37:22.069Z"
   },
   {
    "duration": 0,
    "start_time": "2024-11-11T19:37:22.070Z"
   },
   {
    "duration": 4,
    "start_time": "2024-11-11T19:39:31.858Z"
   },
   {
    "duration": 539,
    "start_time": "2024-11-11T19:42:29.856Z"
   },
   {
    "duration": 3,
    "start_time": "2024-11-11T19:42:30.397Z"
   },
   {
    "duration": 15581,
    "start_time": "2024-11-11T19:42:30.401Z"
   },
   {
    "duration": 9086,
    "start_time": "2024-11-11T19:42:45.985Z"
   },
   {
    "duration": 1206,
    "start_time": "2024-11-11T19:42:55.073Z"
   },
   {
    "duration": 809,
    "start_time": "2024-11-11T19:42:56.342Z"
   },
   {
    "duration": 22,
    "start_time": "2024-11-11T19:42:57.153Z"
   },
   {
    "duration": 4,
    "start_time": "2024-11-11T19:42:57.243Z"
   },
   {
    "duration": 2717,
    "start_time": "2024-11-11T19:42:57.249Z"
   },
   {
    "duration": 4,
    "start_time": "2024-11-11T19:42:59.970Z"
   },
   {
    "duration": 6183,
    "start_time": "2024-11-11T19:42:59.976Z"
   },
   {
    "duration": 2089,
    "start_time": "2024-11-11T19:43:06.160Z"
   },
   {
    "duration": 26,
    "start_time": "2024-11-11T19:43:08.251Z"
   },
   {
    "duration": 3008,
    "start_time": "2024-11-11T19:43:08.279Z"
   },
   {
    "duration": 4072,
    "start_time": "2024-11-11T19:43:11.288Z"
   },
   {
    "duration": 3013,
    "start_time": "2024-11-11T19:43:15.362Z"
   },
   {
    "duration": 97,
    "start_time": "2024-11-11T19:43:18.377Z"
   },
   {
    "duration": 75,
    "start_time": "2024-11-11T19:43:18.476Z"
   },
   {
    "duration": 36,
    "start_time": "2024-11-11T19:43:18.553Z"
   },
   {
    "duration": 17,
    "start_time": "2024-11-11T19:43:18.591Z"
   },
   {
    "duration": 45,
    "start_time": "2024-11-11T19:43:18.610Z"
   },
   {
    "duration": 49,
    "start_time": "2024-11-11T19:43:18.656Z"
   },
   {
    "duration": 10,
    "start_time": "2024-11-11T19:43:18.707Z"
   },
   {
    "duration": 10,
    "start_time": "2024-11-11T19:43:18.719Z"
   },
   {
    "duration": 3869,
    "start_time": "2024-11-11T19:43:18.730Z"
   },
   {
    "duration": 0,
    "start_time": "2024-11-11T19:43:22.601Z"
   },
   {
    "duration": 0,
    "start_time": "2024-11-11T19:43:22.602Z"
   },
   {
    "duration": 0,
    "start_time": "2024-11-11T19:43:22.603Z"
   },
   {
    "duration": 0,
    "start_time": "2024-11-11T19:43:22.604Z"
   },
   {
    "duration": 0,
    "start_time": "2024-11-11T19:43:22.606Z"
   },
   {
    "duration": 530,
    "start_time": "2024-11-11T19:48:10.159Z"
   },
   {
    "duration": 3,
    "start_time": "2024-11-11T19:48:10.691Z"
   },
   {
    "duration": 15467,
    "start_time": "2024-11-11T19:48:10.696Z"
   },
   {
    "duration": 9289,
    "start_time": "2024-11-11T19:48:26.165Z"
   },
   {
    "duration": 1104,
    "start_time": "2024-11-11T19:48:35.456Z"
   },
   {
    "duration": 702,
    "start_time": "2024-11-11T19:48:36.561Z"
   },
   {
    "duration": 14,
    "start_time": "2024-11-11T19:48:37.265Z"
   },
   {
    "duration": 3,
    "start_time": "2024-11-11T19:48:37.344Z"
   },
   {
    "duration": 2305,
    "start_time": "2024-11-11T19:48:37.349Z"
   },
   {
    "duration": 4814,
    "start_time": "2024-11-11T19:48:39.656Z"
   },
   {
    "duration": 2098,
    "start_time": "2024-11-11T19:48:44.472Z"
   },
   {
    "duration": 3086,
    "start_time": "2024-11-11T19:48:46.571Z"
   },
   {
    "duration": 3985,
    "start_time": "2024-11-11T19:48:49.659Z"
   },
   {
    "duration": 2726,
    "start_time": "2024-11-11T19:48:53.646Z"
   },
   {
    "duration": 35,
    "start_time": "2024-11-11T19:48:56.443Z"
   },
   {
    "duration": 64,
    "start_time": "2024-11-11T19:48:56.481Z"
   },
   {
    "duration": 85,
    "start_time": "2024-11-11T19:48:56.547Z"
   },
   {
    "duration": 19,
    "start_time": "2024-11-11T19:48:56.634Z"
   },
   {
    "duration": 60,
    "start_time": "2024-11-11T19:48:56.655Z"
   },
   {
    "duration": 36,
    "start_time": "2024-11-11T19:48:56.717Z"
   },
   {
    "duration": 18,
    "start_time": "2024-11-11T19:48:56.755Z"
   },
   {
    "duration": 10,
    "start_time": "2024-11-11T19:48:56.775Z"
   },
   {
    "duration": 5,
    "start_time": "2024-11-11T19:48:56.787Z"
   },
   {
    "duration": 6,
    "start_time": "2024-11-11T19:48:56.793Z"
   },
   {
    "duration": 379,
    "start_time": "2024-11-11T19:48:56.800Z"
   },
   {
    "duration": 0,
    "start_time": "2024-11-11T19:48:57.182Z"
   },
   {
    "duration": 0,
    "start_time": "2024-11-11T19:48:57.184Z"
   },
   {
    "duration": 0,
    "start_time": "2024-11-11T19:48:57.185Z"
   },
   {
    "duration": 0,
    "start_time": "2024-11-11T19:48:57.187Z"
   },
   {
    "duration": 0,
    "start_time": "2024-11-11T19:48:57.189Z"
   },
   {
    "duration": 53,
    "start_time": "2024-11-11T19:56:59.501Z"
   },
   {
    "duration": 6,
    "start_time": "2024-11-11T19:57:01.595Z"
   },
   {
    "duration": 5,
    "start_time": "2024-11-11T19:59:01.500Z"
   },
   {
    "duration": 31,
    "start_time": "2024-11-11T19:59:35.839Z"
   },
   {
    "duration": 6,
    "start_time": "2024-11-11T19:59:37.789Z"
   },
   {
    "duration": 89,
    "start_time": "2024-11-11T20:00:07.487Z"
   },
   {
    "duration": 5,
    "start_time": "2024-11-11T20:00:09.481Z"
   },
   {
    "duration": 182,
    "start_time": "2024-11-11T20:01:09.565Z"
   },
   {
    "duration": 592,
    "start_time": "2024-11-11T20:02:30.810Z"
   },
   {
    "duration": 3,
    "start_time": "2024-11-11T20:02:31.405Z"
   },
   {
    "duration": 16164,
    "start_time": "2024-11-11T20:02:31.410Z"
   },
   {
    "duration": 9399,
    "start_time": "2024-11-11T20:02:47.576Z"
   },
   {
    "duration": 1170,
    "start_time": "2024-11-11T20:02:56.977Z"
   },
   {
    "duration": 700,
    "start_time": "2024-11-11T20:02:58.149Z"
   },
   {
    "duration": 14,
    "start_time": "2024-11-11T20:02:58.851Z"
   },
   {
    "duration": 18,
    "start_time": "2024-11-11T20:02:58.867Z"
   },
   {
    "duration": 2474,
    "start_time": "2024-11-11T20:02:58.887Z"
   },
   {
    "duration": 5107,
    "start_time": "2024-11-11T20:03:01.365Z"
   },
   {
    "duration": 2087,
    "start_time": "2024-11-11T20:03:06.473Z"
   },
   {
    "duration": 3210,
    "start_time": "2024-11-11T20:03:08.563Z"
   },
   {
    "duration": 4190,
    "start_time": "2024-11-11T20:03:11.775Z"
   },
   {
    "duration": 2907,
    "start_time": "2024-11-11T20:03:15.967Z"
   },
   {
    "duration": 191,
    "start_time": "2024-11-11T20:03:18.876Z"
   },
   {
    "duration": 3,
    "start_time": "2024-11-11T20:03:19.069Z"
   },
   {
    "duration": 114,
    "start_time": "2024-11-11T20:03:19.074Z"
   },
   {
    "duration": 63,
    "start_time": "2024-11-11T20:03:19.190Z"
   },
   {
    "duration": 23,
    "start_time": "2024-11-11T20:03:19.255Z"
   },
   {
    "duration": 12,
    "start_time": "2024-11-11T20:03:19.279Z"
   },
   {
    "duration": 15,
    "start_time": "2024-11-11T20:03:19.343Z"
   },
   {
    "duration": 10,
    "start_time": "2024-11-11T20:03:19.359Z"
   },
   {
    "duration": 11,
    "start_time": "2024-11-11T20:03:19.371Z"
   },
   {
    "duration": 17,
    "start_time": "2024-11-11T20:03:19.383Z"
   },
   {
    "duration": 9748,
    "start_time": "2024-11-11T20:03:19.401Z"
   },
   {
    "duration": 2195,
    "start_time": "2024-11-11T20:03:29.151Z"
   },
   {
    "duration": 4229,
    "start_time": "2024-11-11T20:03:31.348Z"
   },
   {
    "duration": 1968,
    "start_time": "2024-11-11T20:03:35.580Z"
   },
   {
    "duration": 7094,
    "start_time": "2024-11-11T20:03:37.550Z"
   },
   {
    "duration": 0,
    "start_time": "2024-11-11T20:03:44.646Z"
   },
   {
    "duration": 5,
    "start_time": "2024-11-11T20:06:25.170Z"
   },
   {
    "duration": 577,
    "start_time": "2024-11-11T20:06:41.911Z"
   },
   {
    "duration": 3,
    "start_time": "2024-11-11T20:06:42.490Z"
   },
   {
    "duration": 15586,
    "start_time": "2024-11-11T20:06:42.494Z"
   },
   {
    "duration": 9369,
    "start_time": "2024-11-11T20:06:58.083Z"
   },
   {
    "duration": 1195,
    "start_time": "2024-11-11T20:07:07.454Z"
   },
   {
    "duration": 692,
    "start_time": "2024-11-11T20:07:08.651Z"
   },
   {
    "duration": 14,
    "start_time": "2024-11-11T20:07:09.345Z"
   },
   {
    "duration": 3,
    "start_time": "2024-11-11T20:07:09.362Z"
   },
   {
    "duration": 2311,
    "start_time": "2024-11-11T20:07:09.366Z"
   },
   {
    "duration": 4880,
    "start_time": "2024-11-11T20:07:11.681Z"
   },
   {
    "duration": 2005,
    "start_time": "2024-11-11T20:07:16.563Z"
   },
   {
    "duration": 3004,
    "start_time": "2024-11-11T20:07:18.570Z"
   },
   {
    "duration": 4186,
    "start_time": "2024-11-11T20:07:21.575Z"
   },
   {
    "duration": 2813,
    "start_time": "2024-11-11T20:07:25.763Z"
   },
   {
    "duration": 123,
    "start_time": "2024-11-11T20:07:28.643Z"
   },
   {
    "duration": 3,
    "start_time": "2024-11-11T20:07:28.769Z"
   },
   {
    "duration": 95,
    "start_time": "2024-11-11T20:07:28.773Z"
   },
   {
    "duration": 16,
    "start_time": "2024-11-11T20:07:28.870Z"
   },
   {
    "duration": 64,
    "start_time": "2024-11-11T20:07:28.889Z"
   },
   {
    "duration": 11,
    "start_time": "2024-11-11T20:07:28.954Z"
   },
   {
    "duration": 14,
    "start_time": "2024-11-11T20:07:28.966Z"
   },
   {
    "duration": 8,
    "start_time": "2024-11-11T20:07:28.982Z"
   },
   {
    "duration": 4,
    "start_time": "2024-11-11T20:07:28.991Z"
   },
   {
    "duration": 47,
    "start_time": "2024-11-11T20:07:28.997Z"
   },
   {
    "duration": 9606,
    "start_time": "2024-11-11T20:07:29.046Z"
   },
   {
    "duration": 2621,
    "start_time": "2024-11-11T20:07:38.653Z"
   },
   {
    "duration": 4303,
    "start_time": "2024-11-11T20:07:41.276Z"
   },
   {
    "duration": 1929,
    "start_time": "2024-11-11T20:07:45.644Z"
   },
   {
    "duration": 606,
    "start_time": "2024-11-11T20:07:47.574Z"
   },
   {
    "duration": 513,
    "start_time": "2024-11-11T20:43:26.481Z"
   },
   {
    "duration": 3,
    "start_time": "2024-11-11T20:43:26.996Z"
   },
   {
    "duration": 15853,
    "start_time": "2024-11-11T20:43:27.000Z"
   },
   {
    "duration": 8697,
    "start_time": "2024-11-11T20:43:42.855Z"
   },
   {
    "duration": 1200,
    "start_time": "2024-11-11T20:43:51.554Z"
   },
   {
    "duration": 716,
    "start_time": "2024-11-11T20:43:52.756Z"
   },
   {
    "duration": 81,
    "start_time": "2024-11-11T20:43:53.474Z"
   },
   {
    "duration": 3,
    "start_time": "2024-11-11T20:43:53.557Z"
   },
   {
    "duration": 2402,
    "start_time": "2024-11-11T20:43:53.562Z"
   },
   {
    "duration": 4777,
    "start_time": "2024-11-11T20:43:55.966Z"
   },
   {
    "duration": 2204,
    "start_time": "2024-11-11T20:44:00.746Z"
   },
   {
    "duration": 3193,
    "start_time": "2024-11-11T20:44:02.951Z"
   },
   {
    "duration": 3901,
    "start_time": "2024-11-11T20:44:06.146Z"
   },
   {
    "duration": 2997,
    "start_time": "2024-11-11T20:44:10.050Z"
   },
   {
    "duration": 241,
    "start_time": "2024-11-11T20:44:13.048Z"
   },
   {
    "duration": 0,
    "start_time": "2024-11-11T20:44:13.290Z"
   },
   {
    "duration": 0,
    "start_time": "2024-11-11T20:44:13.292Z"
   },
   {
    "duration": 0,
    "start_time": "2024-11-11T20:44:13.292Z"
   },
   {
    "duration": 1,
    "start_time": "2024-11-11T20:44:13.293Z"
   },
   {
    "duration": 0,
    "start_time": "2024-11-11T20:44:13.294Z"
   },
   {
    "duration": 0,
    "start_time": "2024-11-11T20:44:13.295Z"
   },
   {
    "duration": 0,
    "start_time": "2024-11-11T20:44:13.296Z"
   },
   {
    "duration": 0,
    "start_time": "2024-11-11T20:44:13.297Z"
   },
   {
    "duration": 0,
    "start_time": "2024-11-11T20:44:13.342Z"
   },
   {
    "duration": 0,
    "start_time": "2024-11-11T20:44:13.343Z"
   },
   {
    "duration": 0,
    "start_time": "2024-11-11T20:44:13.345Z"
   },
   {
    "duration": 0,
    "start_time": "2024-11-11T20:44:13.346Z"
   },
   {
    "duration": 0,
    "start_time": "2024-11-11T20:44:13.347Z"
   },
   {
    "duration": 0,
    "start_time": "2024-11-11T20:44:13.348Z"
   },
   {
    "duration": 557,
    "start_time": "2024-11-11T20:45:44.131Z"
   },
   {
    "duration": 3,
    "start_time": "2024-11-11T20:45:44.690Z"
   },
   {
    "duration": 15762,
    "start_time": "2024-11-11T20:45:44.694Z"
   },
   {
    "duration": 8798,
    "start_time": "2024-11-11T20:46:00.459Z"
   },
   {
    "duration": 1193,
    "start_time": "2024-11-11T20:46:09.259Z"
   },
   {
    "duration": 711,
    "start_time": "2024-11-11T20:46:10.455Z"
   },
   {
    "duration": 83,
    "start_time": "2024-11-11T20:46:11.168Z"
   },
   {
    "duration": 4,
    "start_time": "2024-11-11T20:46:11.253Z"
   },
   {
    "duration": 2314,
    "start_time": "2024-11-11T20:46:11.259Z"
   },
   {
    "duration": 4885,
    "start_time": "2024-11-11T20:46:13.575Z"
   },
   {
    "duration": 2114,
    "start_time": "2024-11-11T20:46:18.462Z"
   },
   {
    "duration": 2970,
    "start_time": "2024-11-11T20:46:20.578Z"
   },
   {
    "duration": 3906,
    "start_time": "2024-11-11T20:46:23.550Z"
   },
   {
    "duration": 2989,
    "start_time": "2024-11-11T20:46:27.457Z"
   },
   {
    "duration": 268,
    "start_time": "2024-11-11T20:46:30.448Z"
   },
   {
    "duration": 0,
    "start_time": "2024-11-11T20:46:30.717Z"
   },
   {
    "duration": 0,
    "start_time": "2024-11-11T20:46:30.719Z"
   },
   {
    "duration": 0,
    "start_time": "2024-11-11T20:46:30.743Z"
   },
   {
    "duration": 0,
    "start_time": "2024-11-11T20:46:30.744Z"
   },
   {
    "duration": 0,
    "start_time": "2024-11-11T20:46:30.745Z"
   },
   {
    "duration": 0,
    "start_time": "2024-11-11T20:46:30.747Z"
   },
   {
    "duration": 0,
    "start_time": "2024-11-11T20:46:30.748Z"
   },
   {
    "duration": 0,
    "start_time": "2024-11-11T20:46:30.749Z"
   },
   {
    "duration": 0,
    "start_time": "2024-11-11T20:46:30.750Z"
   },
   {
    "duration": 0,
    "start_time": "2024-11-11T20:46:30.751Z"
   },
   {
    "duration": 0,
    "start_time": "2024-11-11T20:46:30.752Z"
   },
   {
    "duration": 0,
    "start_time": "2024-11-11T20:46:30.753Z"
   },
   {
    "duration": 0,
    "start_time": "2024-11-11T20:46:30.755Z"
   },
   {
    "duration": 0,
    "start_time": "2024-11-11T20:46:30.756Z"
   },
   {
    "duration": 524,
    "start_time": "2024-11-11T20:48:37.165Z"
   },
   {
    "duration": 3,
    "start_time": "2024-11-11T20:48:37.691Z"
   },
   {
    "duration": 15565,
    "start_time": "2024-11-11T20:48:37.695Z"
   },
   {
    "duration": 9195,
    "start_time": "2024-11-11T20:48:53.263Z"
   },
   {
    "duration": 1038,
    "start_time": "2024-11-11T20:49:02.460Z"
   },
   {
    "duration": 705,
    "start_time": "2024-11-11T20:49:03.543Z"
   },
   {
    "duration": 16,
    "start_time": "2024-11-11T20:49:04.250Z"
   },
   {
    "duration": 3,
    "start_time": "2024-11-11T20:49:04.268Z"
   },
   {
    "duration": 2499,
    "start_time": "2024-11-11T20:49:04.274Z"
   },
   {
    "duration": 4807,
    "start_time": "2024-11-11T20:49:06.844Z"
   },
   {
    "duration": 2205,
    "start_time": "2024-11-11T20:49:11.653Z"
   },
   {
    "duration": 3312,
    "start_time": "2024-11-11T20:49:13.859Z"
   },
   {
    "duration": 3884,
    "start_time": "2024-11-11T20:49:17.173Z"
   },
   {
    "duration": 2709,
    "start_time": "2024-11-11T20:49:21.060Z"
   },
   {
    "duration": 285,
    "start_time": "2024-11-11T20:49:23.770Z"
   },
   {
    "duration": 0,
    "start_time": "2024-11-11T20:49:24.057Z"
   },
   {
    "duration": 0,
    "start_time": "2024-11-11T20:49:24.058Z"
   },
   {
    "duration": 0,
    "start_time": "2024-11-11T20:49:24.059Z"
   },
   {
    "duration": 0,
    "start_time": "2024-11-11T20:49:24.061Z"
   },
   {
    "duration": 0,
    "start_time": "2024-11-11T20:49:24.062Z"
   },
   {
    "duration": 0,
    "start_time": "2024-11-11T20:49:24.063Z"
   },
   {
    "duration": 0,
    "start_time": "2024-11-11T20:49:24.064Z"
   },
   {
    "duration": 0,
    "start_time": "2024-11-11T20:49:24.065Z"
   },
   {
    "duration": 0,
    "start_time": "2024-11-11T20:49:24.066Z"
   },
   {
    "duration": 0,
    "start_time": "2024-11-11T20:49:24.067Z"
   },
   {
    "duration": 0,
    "start_time": "2024-11-11T20:49:24.068Z"
   },
   {
    "duration": 0,
    "start_time": "2024-11-11T20:49:24.069Z"
   },
   {
    "duration": 0,
    "start_time": "2024-11-11T20:49:24.070Z"
   },
   {
    "duration": 0,
    "start_time": "2024-11-11T20:49:24.071Z"
   },
   {
    "duration": 160,
    "start_time": "2024-11-11T20:52:17.790Z"
   },
   {
    "duration": 121,
    "start_time": "2024-11-11T20:52:24.751Z"
   },
   {
    "duration": 180,
    "start_time": "2024-11-11T20:52:41.375Z"
   },
   {
    "duration": 592,
    "start_time": "2024-11-11T20:55:26.315Z"
   },
   {
    "duration": 2,
    "start_time": "2024-11-11T20:55:26.909Z"
   },
   {
    "duration": 15692,
    "start_time": "2024-11-11T20:55:26.913Z"
   },
   {
    "duration": 8770,
    "start_time": "2024-11-11T20:55:42.608Z"
   },
   {
    "duration": 1174,
    "start_time": "2024-11-11T20:55:51.380Z"
   },
   {
    "duration": 685,
    "start_time": "2024-11-11T20:55:52.557Z"
   },
   {
    "duration": 16,
    "start_time": "2024-11-11T20:55:53.246Z"
   },
   {
    "duration": 3,
    "start_time": "2024-11-11T20:55:53.264Z"
   },
   {
    "duration": 2276,
    "start_time": "2024-11-11T20:55:53.268Z"
   },
   {
    "duration": 5504,
    "start_time": "2024-11-11T20:55:55.546Z"
   },
   {
    "duration": 2130,
    "start_time": "2024-11-11T20:56:01.052Z"
   },
   {
    "duration": 3298,
    "start_time": "2024-11-11T20:56:03.245Z"
   },
   {
    "duration": 3906,
    "start_time": "2024-11-11T20:56:06.545Z"
   },
   {
    "duration": 3096,
    "start_time": "2024-11-11T20:56:10.453Z"
   },
   {
    "duration": 129,
    "start_time": "2024-11-11T20:56:13.551Z"
   },
   {
    "duration": 3,
    "start_time": "2024-11-11T20:56:13.742Z"
   },
   {
    "duration": 31,
    "start_time": "2024-11-11T20:56:13.747Z"
   },
   {
    "duration": 71,
    "start_time": "2024-11-11T20:56:13.780Z"
   },
   {
    "duration": 12,
    "start_time": "2024-11-11T20:56:13.853Z"
   },
   {
    "duration": 13,
    "start_time": "2024-11-11T20:56:13.867Z"
   },
   {
    "duration": 73,
    "start_time": "2024-11-11T20:56:13.882Z"
   },
   {
    "duration": 64,
    "start_time": "2024-11-11T20:56:13.957Z"
   },
   {
    "duration": 5,
    "start_time": "2024-11-11T20:56:14.023Z"
   },
   {
    "duration": 8,
    "start_time": "2024-11-11T20:56:14.030Z"
   },
   {
    "duration": 9318,
    "start_time": "2024-11-11T20:56:14.040Z"
   },
   {
    "duration": 2133,
    "start_time": "2024-11-11T20:56:23.360Z"
   },
   {
    "duration": 3783,
    "start_time": "2024-11-11T20:56:25.495Z"
   },
   {
    "duration": 1667,
    "start_time": "2024-11-11T20:56:29.282Z"
   },
   {
    "duration": 538,
    "start_time": "2024-11-11T20:56:30.951Z"
   },
   {
    "duration": 5,
    "start_time": "2024-11-11T21:11:21.381Z"
   },
   {
    "duration": 88,
    "start_time": "2024-11-11T21:15:59.439Z"
   },
   {
    "duration": 15,
    "start_time": "2024-11-11T21:16:51.843Z"
   },
   {
    "duration": 75,
    "start_time": "2024-11-11T21:19:46.160Z"
   },
   {
    "duration": 76,
    "start_time": "2024-11-11T21:20:07.768Z"
   },
   {
    "duration": 24,
    "start_time": "2024-11-11T21:20:16.572Z"
   },
   {
    "duration": 71,
    "start_time": "2024-11-11T21:20:23.928Z"
   },
   {
    "duration": 41,
    "start_time": "2024-11-11T21:28:24.731Z"
   },
   {
    "duration": 584,
    "start_time": "2024-11-11T21:29:14.211Z"
   },
   {
    "duration": 3,
    "start_time": "2024-11-11T21:29:14.797Z"
   },
   {
    "duration": 15580,
    "start_time": "2024-11-11T21:29:14.802Z"
   },
   {
    "duration": 8884,
    "start_time": "2024-11-11T21:29:30.386Z"
   },
   {
    "duration": 1171,
    "start_time": "2024-11-11T21:29:39.272Z"
   },
   {
    "duration": 529,
    "start_time": "2024-11-11T21:29:40.445Z"
   },
   {
    "duration": 15,
    "start_time": "2024-11-11T21:29:41.042Z"
   },
   {
    "duration": 15,
    "start_time": "2024-11-11T21:29:41.059Z"
   },
   {
    "duration": 2373,
    "start_time": "2024-11-11T21:29:41.076Z"
   },
   {
    "duration": 4726,
    "start_time": "2024-11-11T21:29:43.452Z"
   },
   {
    "duration": 2270,
    "start_time": "2024-11-11T21:29:48.179Z"
   },
   {
    "duration": 3006,
    "start_time": "2024-11-11T21:29:50.451Z"
   },
   {
    "duration": 4102,
    "start_time": "2024-11-11T21:29:53.459Z"
   },
   {
    "duration": 2992,
    "start_time": "2024-11-11T21:29:57.563Z"
   },
   {
    "duration": 188,
    "start_time": "2024-11-11T21:30:00.556Z"
   },
   {
    "duration": 4,
    "start_time": "2024-11-11T21:30:00.745Z"
   },
   {
    "duration": 93,
    "start_time": "2024-11-11T21:30:00.751Z"
   },
   {
    "duration": 16,
    "start_time": "2024-11-11T21:30:00.847Z"
   },
   {
    "duration": 33,
    "start_time": "2024-11-11T21:30:00.865Z"
   },
   {
    "duration": 13,
    "start_time": "2024-11-11T21:30:00.899Z"
   },
   {
    "duration": 15,
    "start_time": "2024-11-11T21:30:00.913Z"
   },
   {
    "duration": 7,
    "start_time": "2024-11-11T21:30:00.931Z"
   },
   {
    "duration": 5,
    "start_time": "2024-11-11T21:30:00.943Z"
   },
   {
    "duration": 9,
    "start_time": "2024-11-11T21:30:00.950Z"
   },
   {
    "duration": 9307,
    "start_time": "2024-11-11T21:30:00.960Z"
   },
   {
    "duration": 2105,
    "start_time": "2024-11-11T21:30:10.269Z"
   },
   {
    "duration": 4379,
    "start_time": "2024-11-11T21:30:12.375Z"
   },
   {
    "duration": 1643,
    "start_time": "2024-11-11T21:30:16.758Z"
   },
   {
    "duration": 4745,
    "start_time": "2024-11-11T21:30:18.403Z"
   },
   {
    "duration": 0,
    "start_time": "2024-11-11T21:30:23.150Z"
   },
   {
    "duration": 2385,
    "start_time": "2024-11-11T21:35:59.458Z"
   },
   {
    "duration": 115338,
    "start_time": "2024-11-11T21:37:56.634Z"
   },
   {
    "duration": 506,
    "start_time": "2024-11-11T21:39:51.974Z"
   },
   {
    "duration": 23,
    "start_time": "2024-11-11T21:45:36.501Z"
   },
   {
    "duration": 31,
    "start_time": "2024-11-11T21:46:05.077Z"
   },
   {
    "duration": 512,
    "start_time": "2024-11-11T21:46:27.475Z"
   },
   {
    "duration": 3,
    "start_time": "2024-11-11T21:46:27.989Z"
   },
   {
    "duration": 15997,
    "start_time": "2024-11-11T21:46:27.993Z"
   },
   {
    "duration": 9207,
    "start_time": "2024-11-11T21:46:44.045Z"
   },
   {
    "duration": 1108,
    "start_time": "2024-11-11T21:46:53.254Z"
   },
   {
    "duration": 778,
    "start_time": "2024-11-11T21:46:54.368Z"
   },
   {
    "duration": 16,
    "start_time": "2024-11-11T21:46:55.148Z"
   },
   {
    "duration": 4,
    "start_time": "2024-11-11T21:46:55.166Z"
   },
   {
    "duration": 2671,
    "start_time": "2024-11-11T21:46:55.172Z"
   },
   {
    "duration": 5203,
    "start_time": "2024-11-11T21:46:57.846Z"
   },
   {
    "duration": 2113,
    "start_time": "2024-11-11T21:47:03.051Z"
   },
   {
    "duration": 3612,
    "start_time": "2024-11-11T21:47:05.165Z"
   },
   {
    "duration": 4096,
    "start_time": "2024-11-11T21:47:08.778Z"
   },
   {
    "duration": 2967,
    "start_time": "2024-11-11T21:47:12.876Z"
   },
   {
    "duration": 202,
    "start_time": "2024-11-11T21:47:15.845Z"
   },
   {
    "duration": 4,
    "start_time": "2024-11-11T21:47:16.049Z"
   },
   {
    "duration": 89,
    "start_time": "2024-11-11T21:47:16.055Z"
   },
   {
    "duration": 29,
    "start_time": "2024-11-11T21:47:16.145Z"
   },
   {
    "duration": 72,
    "start_time": "2024-11-11T21:47:16.176Z"
   },
   {
    "duration": 14,
    "start_time": "2024-11-11T21:47:16.250Z"
   },
   {
    "duration": 14,
    "start_time": "2024-11-11T21:47:16.266Z"
   },
   {
    "duration": 13,
    "start_time": "2024-11-11T21:47:16.282Z"
   },
   {
    "duration": 4,
    "start_time": "2024-11-11T21:47:16.297Z"
   },
   {
    "duration": 7,
    "start_time": "2024-11-11T21:47:16.303Z"
   },
   {
    "duration": 10038,
    "start_time": "2024-11-11T21:47:16.311Z"
   },
   {
    "duration": 2311,
    "start_time": "2024-11-11T21:47:26.351Z"
   },
   {
    "duration": 4293,
    "start_time": "2024-11-11T21:47:28.664Z"
   },
   {
    "duration": 1913,
    "start_time": "2024-11-11T21:47:32.961Z"
   },
   {
    "duration": 151771,
    "start_time": "2024-11-11T21:47:34.876Z"
   },
   {
    "duration": 610,
    "start_time": "2024-11-11T21:50:06.650Z"
   },
   {
    "duration": 0,
    "start_time": "2024-11-11T21:50:07.262Z"
   },
   {
    "duration": 2089,
    "start_time": "2024-11-11T21:52:22.177Z"
   },
   {
    "duration": 761,
    "start_time": "2024-11-11T21:52:26.757Z"
   },
   {
    "duration": 21,
    "start_time": "2024-11-11T22:03:07.542Z"
   },
   {
    "duration": 93305,
    "start_time": "2024-11-11T22:09:53.407Z"
   },
   {
    "duration": 575,
    "start_time": "2024-11-11T22:42:38.636Z"
   },
   {
    "duration": 2,
    "start_time": "2024-11-11T22:42:39.213Z"
   },
   {
    "duration": 15657,
    "start_time": "2024-11-11T22:42:39.217Z"
   },
   {
    "duration": 8894,
    "start_time": "2024-11-11T22:42:54.877Z"
   },
   {
    "duration": 1172,
    "start_time": "2024-11-11T22:43:03.773Z"
   },
   {
    "duration": 710,
    "start_time": "2024-11-11T22:43:04.946Z"
   },
   {
    "duration": 85,
    "start_time": "2024-11-11T22:43:05.658Z"
   },
   {
    "duration": 11,
    "start_time": "2024-11-11T22:43:05.745Z"
   },
   {
    "duration": 2388,
    "start_time": "2024-11-11T22:43:05.758Z"
   },
   {
    "duration": 4895,
    "start_time": "2024-11-11T22:43:08.149Z"
   },
   {
    "duration": 2298,
    "start_time": "2024-11-11T22:43:13.047Z"
   },
   {
    "duration": 3014,
    "start_time": "2024-11-11T22:43:15.346Z"
   },
   {
    "duration": 4289,
    "start_time": "2024-11-11T22:43:18.362Z"
   },
   {
    "duration": 2906,
    "start_time": "2024-11-11T22:43:22.653Z"
   },
   {
    "duration": 198,
    "start_time": "2024-11-11T22:43:25.561Z"
   },
   {
    "duration": 98,
    "start_time": "2024-11-11T22:43:25.760Z"
   },
   {
    "duration": 29,
    "start_time": "2024-11-11T22:43:25.859Z"
   },
   {
    "duration": 14,
    "start_time": "2024-11-11T22:43:25.943Z"
   },
   {
    "duration": 7,
    "start_time": "2024-11-11T22:43:25.959Z"
   },
   {
    "duration": 3,
    "start_time": "2024-11-11T22:43:25.967Z"
   },
   {
    "duration": 105,
    "start_time": "2024-11-11T22:43:25.972Z"
   },
   {
    "duration": 17,
    "start_time": "2024-11-11T22:43:26.079Z"
   },
   {
    "duration": 5,
    "start_time": "2024-11-11T22:43:26.098Z"
   },
   {
    "duration": 155872,
    "start_time": "2024-11-11T22:43:26.105Z"
   },
   {
    "duration": 3528,
    "start_time": "2024-11-11T22:46:01.979Z"
   },
   {
    "duration": 1892,
    "start_time": "2024-11-11T22:46:05.508Z"
   },
   {
    "duration": 94,
    "start_time": "2024-11-11T22:46:07.401Z"
   },
   {
    "duration": 0,
    "start_time": "2024-11-11T22:46:07.496Z"
   },
   {
    "duration": 518,
    "start_time": "2024-11-11T22:51:41.567Z"
   },
   {
    "duration": 3,
    "start_time": "2024-11-11T22:51:42.087Z"
   },
   {
    "duration": 15271,
    "start_time": "2024-11-11T22:51:42.091Z"
   },
   {
    "duration": 9078,
    "start_time": "2024-11-11T22:51:57.365Z"
   },
   {
    "duration": 1106,
    "start_time": "2024-11-11T22:52:06.445Z"
   },
   {
    "duration": 725,
    "start_time": "2024-11-11T22:52:07.553Z"
   },
   {
    "duration": 77,
    "start_time": "2024-11-11T22:52:08.280Z"
   },
   {
    "duration": 22,
    "start_time": "2024-11-11T22:52:08.359Z"
   },
   {
    "duration": 1979,
    "start_time": "2024-11-11T22:52:08.383Z"
   },
   {
    "duration": 4844,
    "start_time": "2024-11-11T22:52:10.365Z"
   },
   {
    "duration": 2137,
    "start_time": "2024-11-11T22:52:15.210Z"
   },
   {
    "duration": 3022,
    "start_time": "2024-11-11T22:52:17.349Z"
   },
   {
    "duration": 4193,
    "start_time": "2024-11-11T22:52:20.373Z"
   },
   {
    "duration": 2806,
    "start_time": "2024-11-11T22:52:24.568Z"
   },
   {
    "duration": 198,
    "start_time": "2024-11-11T22:52:27.376Z"
   },
   {
    "duration": 90,
    "start_time": "2024-11-11T22:52:27.575Z"
   },
   {
    "duration": 79,
    "start_time": "2024-11-11T22:52:27.667Z"
   },
   {
    "duration": 14,
    "start_time": "2024-11-11T22:52:27.747Z"
   },
   {
    "duration": 6,
    "start_time": "2024-11-11T22:52:27.763Z"
   },
   {
    "duration": 3,
    "start_time": "2024-11-11T22:52:27.771Z"
   },
   {
    "duration": 68,
    "start_time": "2024-11-11T22:52:27.776Z"
   },
   {
    "duration": 7,
    "start_time": "2024-11-11T22:52:27.846Z"
   },
   {
    "duration": 5,
    "start_time": "2024-11-11T22:52:27.854Z"
   },
   {
    "duration": 151388,
    "start_time": "2024-11-11T22:52:27.861Z"
   },
   {
    "duration": 2149,
    "start_time": "2024-11-11T22:54:59.250Z"
   },
   {
    "duration": 94,
    "start_time": "2024-11-11T22:55:01.401Z"
   },
   {
    "duration": 0,
    "start_time": "2024-11-11T22:55:01.496Z"
   },
   {
    "duration": 579,
    "start_time": "2024-11-11T22:58:33.313Z"
   },
   {
    "duration": 2,
    "start_time": "2024-11-11T22:58:33.895Z"
   },
   {
    "duration": 16171,
    "start_time": "2024-11-11T22:58:33.898Z"
   },
   {
    "duration": 9297,
    "start_time": "2024-11-11T22:58:50.071Z"
   },
   {
    "duration": 1280,
    "start_time": "2024-11-11T22:58:59.371Z"
   },
   {
    "duration": 790,
    "start_time": "2024-11-11T22:59:00.653Z"
   },
   {
    "duration": 21,
    "start_time": "2024-11-11T22:59:01.446Z"
   },
   {
    "duration": 4,
    "start_time": "2024-11-11T22:59:01.469Z"
   },
   {
    "duration": 2486,
    "start_time": "2024-11-11T22:59:01.475Z"
   },
   {
    "duration": 4992,
    "start_time": "2024-11-11T22:59:03.964Z"
   },
   {
    "duration": 2185,
    "start_time": "2024-11-11T22:59:08.958Z"
   },
   {
    "duration": 3629,
    "start_time": "2024-11-11T22:59:11.145Z"
   },
   {
    "duration": 4175,
    "start_time": "2024-11-11T22:59:14.777Z"
   },
   {
    "duration": 3014,
    "start_time": "2024-11-11T22:59:18.954Z"
   },
   {
    "duration": 183,
    "start_time": "2024-11-11T22:59:21.969Z"
   },
   {
    "duration": 90,
    "start_time": "2024-11-11T22:59:22.154Z"
   },
   {
    "duration": 31,
    "start_time": "2024-11-11T22:59:22.246Z"
   },
   {
    "duration": 13,
    "start_time": "2024-11-11T22:59:22.279Z"
   },
   {
    "duration": 7,
    "start_time": "2024-11-11T22:59:22.294Z"
   },
   {
    "duration": 6,
    "start_time": "2024-11-11T22:59:22.302Z"
   },
   {
    "duration": 75,
    "start_time": "2024-11-11T22:59:22.310Z"
   },
   {
    "duration": 8,
    "start_time": "2024-11-11T22:59:22.386Z"
   },
   {
    "duration": 50,
    "start_time": "2024-11-11T22:59:22.395Z"
   },
   {
    "duration": 155897,
    "start_time": "2024-11-11T22:59:22.447Z"
   },
   {
    "duration": 75597,
    "start_time": "2024-11-11T23:01:58.346Z"
   },
   {
    "duration": 427,
    "start_time": "2024-11-11T23:03:13.945Z"
   },
   {
    "duration": 557,
    "start_time": "2024-11-11T23:04:24.031Z"
   },
   {
    "duration": 3,
    "start_time": "2024-11-11T23:04:24.590Z"
   },
   {
    "duration": 15749,
    "start_time": "2024-11-11T23:04:24.594Z"
   },
   {
    "duration": 9031,
    "start_time": "2024-11-11T23:04:40.347Z"
   },
   {
    "duration": 1266,
    "start_time": "2024-11-11T23:04:49.379Z"
   },
   {
    "duration": 608,
    "start_time": "2024-11-11T23:04:50.646Z"
   },
   {
    "duration": 14,
    "start_time": "2024-11-11T23:04:51.255Z"
   },
   {
    "duration": 3,
    "start_time": "2024-11-11T23:04:51.271Z"
   },
   {
    "duration": 2278,
    "start_time": "2024-11-11T23:04:51.276Z"
   },
   {
    "duration": 4796,
    "start_time": "2024-11-11T23:04:53.558Z"
   },
   {
    "duration": 2388,
    "start_time": "2024-11-11T23:04:58.356Z"
   },
   {
    "duration": 3397,
    "start_time": "2024-11-11T23:05:00.746Z"
   },
   {
    "duration": 4023,
    "start_time": "2024-11-11T23:05:04.145Z"
   },
   {
    "duration": 3106,
    "start_time": "2024-11-11T23:05:08.170Z"
   },
   {
    "duration": 204,
    "start_time": "2024-11-11T23:05:11.343Z"
   },
   {
    "duration": 28,
    "start_time": "2024-11-11T23:05:11.549Z"
   },
   {
    "duration": 92,
    "start_time": "2024-11-11T23:05:11.579Z"
   },
   {
    "duration": 14,
    "start_time": "2024-11-11T23:05:11.673Z"
   },
   {
    "duration": 7,
    "start_time": "2024-11-11T23:05:11.689Z"
   },
   {
    "duration": 4,
    "start_time": "2024-11-11T23:05:11.697Z"
   },
   {
    "duration": 72,
    "start_time": "2024-11-11T23:05:11.703Z"
   },
   {
    "duration": 8,
    "start_time": "2024-11-11T23:05:11.777Z"
   },
   {
    "duration": 6,
    "start_time": "2024-11-11T23:05:11.786Z"
   },
   {
    "duration": 156556,
    "start_time": "2024-11-11T23:05:11.794Z"
   },
   {
    "duration": 79424,
    "start_time": "2024-11-11T23:07:48.351Z"
   },
   {
    "duration": 322,
    "start_time": "2024-11-11T23:09:07.776Z"
   },
   {
    "duration": 584,
    "start_time": "2024-11-11T23:50:10.017Z"
   },
   {
    "duration": 3,
    "start_time": "2024-11-11T23:50:10.604Z"
   },
   {
    "duration": 15645,
    "start_time": "2024-11-11T23:50:10.609Z"
   },
   {
    "duration": 8702,
    "start_time": "2024-11-11T23:50:26.257Z"
   },
   {
    "duration": 1108,
    "start_time": "2024-11-11T23:50:34.961Z"
   },
   {
    "duration": 792,
    "start_time": "2024-11-11T23:50:36.071Z"
   },
   {
    "duration": 78,
    "start_time": "2024-11-11T23:50:36.866Z"
   },
   {
    "duration": 5,
    "start_time": "2024-11-11T23:50:36.946Z"
   },
   {
    "duration": 2416,
    "start_time": "2024-11-11T23:50:36.953Z"
   },
   {
    "duration": 4671,
    "start_time": "2024-11-11T23:50:39.372Z"
   },
   {
    "duration": 2026,
    "start_time": "2024-11-11T23:50:44.046Z"
   },
   {
    "duration": 3098,
    "start_time": "2024-11-11T23:50:46.074Z"
   },
   {
    "duration": 3788,
    "start_time": "2024-11-11T23:50:49.173Z"
   },
   {
    "duration": 2684,
    "start_time": "2024-11-11T23:50:52.963Z"
   },
   {
    "duration": 194,
    "start_time": "2024-11-11T23:50:55.648Z"
   },
   {
    "duration": 28,
    "start_time": "2024-11-11T23:50:55.844Z"
   },
   {
    "duration": 88,
    "start_time": "2024-11-11T23:50:55.874Z"
   },
   {
    "duration": 13,
    "start_time": "2024-11-11T23:50:55.963Z"
   },
   {
    "duration": 18,
    "start_time": "2024-11-11T23:50:55.977Z"
   },
   {
    "duration": 17,
    "start_time": "2024-11-11T23:50:55.997Z"
   },
   {
    "duration": 47,
    "start_time": "2024-11-11T23:50:56.015Z"
   },
   {
    "duration": 7,
    "start_time": "2024-11-11T23:50:56.064Z"
   },
   {
    "duration": 72,
    "start_time": "2024-11-11T23:50:56.072Z"
   },
   {
    "duration": 226920,
    "start_time": "2024-11-11T23:50:56.146Z"
   },
   {
    "duration": 517,
    "start_time": "2024-11-11T23:54:43.068Z"
   },
   {
    "duration": 0,
    "start_time": "2024-11-11T23:54:43.587Z"
   },
   {
    "duration": 0,
    "start_time": "2024-11-11T23:54:43.588Z"
   },
   {
    "duration": 0,
    "start_time": "2024-11-11T23:54:43.589Z"
   },
   {
    "duration": 8,
    "start_time": "2024-11-11T23:55:28.604Z"
   },
   {
    "duration": 223,
    "start_time": "2024-11-11T23:56:09.143Z"
   },
   {
    "duration": 15,
    "start_time": "2024-11-11T23:57:42.204Z"
   },
   {
    "duration": 12,
    "start_time": "2024-11-11T23:58:50.991Z"
   },
   {
    "duration": 10,
    "start_time": "2024-11-12T00:00:08.366Z"
   },
   {
    "duration": 13,
    "start_time": "2024-11-12T00:04:26.909Z"
   },
   {
    "duration": 5,
    "start_time": "2024-11-12T00:04:37.918Z"
   },
   {
    "duration": 21,
    "start_time": "2024-11-12T00:04:41.271Z"
   },
   {
    "duration": 20,
    "start_time": "2024-11-12T00:05:10.251Z"
   },
   {
    "duration": 17,
    "start_time": "2024-11-12T00:05:48.670Z"
   },
   {
    "duration": 88,
    "start_time": "2024-11-12T00:06:04.227Z"
   },
   {
    "duration": 23,
    "start_time": "2024-11-12T00:06:12.807Z"
   },
   {
    "duration": 21,
    "start_time": "2024-11-12T00:06:26.891Z"
   },
   {
    "duration": 21,
    "start_time": "2024-11-12T00:06:38.183Z"
   },
   {
    "duration": 21,
    "start_time": "2024-11-12T00:07:03.831Z"
   },
   {
    "duration": 109,
    "start_time": "2024-11-12T00:10:13.908Z"
   },
   {
    "duration": 19,
    "start_time": "2024-11-12T00:10:20.155Z"
   },
   {
    "duration": 725,
    "start_time": "2024-11-12T00:10:40.684Z"
   },
   {
    "duration": 3,
    "start_time": "2024-11-12T00:10:41.411Z"
   },
   {
    "duration": 15540,
    "start_time": "2024-11-12T00:10:41.415Z"
   },
   {
    "duration": 8798,
    "start_time": "2024-11-12T00:10:56.958Z"
   },
   {
    "duration": 1210,
    "start_time": "2024-11-12T00:11:05.758Z"
   },
   {
    "duration": 774,
    "start_time": "2024-11-12T00:11:06.970Z"
   },
   {
    "duration": 15,
    "start_time": "2024-11-12T00:11:07.746Z"
   },
   {
    "duration": 3,
    "start_time": "2024-11-12T00:11:07.763Z"
   },
   {
    "duration": 2183,
    "start_time": "2024-11-12T00:11:07.768Z"
   },
   {
    "duration": 4628,
    "start_time": "2024-11-12T00:11:09.955Z"
   },
   {
    "duration": 1673,
    "start_time": "2024-11-12T00:11:14.584Z"
   },
   {
    "duration": 3007,
    "start_time": "2024-11-12T00:11:16.259Z"
   },
   {
    "duration": 3997,
    "start_time": "2024-11-12T00:11:19.267Z"
   },
   {
    "duration": 2909,
    "start_time": "2024-11-12T00:11:23.266Z"
   },
   {
    "duration": 183,
    "start_time": "2024-11-12T00:11:26.177Z"
   },
   {
    "duration": 85,
    "start_time": "2024-11-12T00:11:26.362Z"
   },
   {
    "duration": 28,
    "start_time": "2024-11-12T00:11:26.449Z"
   },
   {
    "duration": 13,
    "start_time": "2024-11-12T00:11:26.479Z"
   },
   {
    "duration": 50,
    "start_time": "2024-11-12T00:11:26.493Z"
   },
   {
    "duration": 12,
    "start_time": "2024-11-12T00:11:26.545Z"
   },
   {
    "duration": 69,
    "start_time": "2024-11-12T00:11:26.559Z"
   },
   {
    "duration": 31,
    "start_time": "2024-11-12T00:11:26.629Z"
   },
   {
    "duration": 5,
    "start_time": "2024-11-12T00:11:26.661Z"
   },
   {
    "duration": 147400,
    "start_time": "2024-11-12T00:11:26.668Z"
   },
   {
    "duration": 74412,
    "start_time": "2024-11-12T00:13:54.070Z"
   },
   {
    "duration": 231,
    "start_time": "2024-11-12T00:15:08.483Z"
   },
   {
    "duration": 140,
    "start_time": "2024-11-12T00:15:08.716Z"
   },
   {
    "duration": 259,
    "start_time": "2024-11-12T00:21:25.820Z"
   },
   {
    "duration": 50,
    "start_time": "2024-11-12T00:21:48.216Z"
   },
   {
    "duration": 782,
    "start_time": "2024-11-12T00:22:01.747Z"
   },
   {
    "duration": 3,
    "start_time": "2024-11-12T00:22:02.531Z"
   },
   {
    "duration": 16033,
    "start_time": "2024-11-12T00:22:02.535Z"
   },
   {
    "duration": 8883,
    "start_time": "2024-11-12T00:22:18.571Z"
   },
   {
    "duration": 1122,
    "start_time": "2024-11-12T00:22:27.456Z"
   },
   {
    "duration": 778,
    "start_time": "2024-11-12T00:22:28.580Z"
   },
   {
    "duration": 16,
    "start_time": "2024-11-12T00:22:29.360Z"
   },
   {
    "duration": 68,
    "start_time": "2024-11-12T00:22:29.378Z"
   },
   {
    "duration": 2307,
    "start_time": "2024-11-12T00:22:29.449Z"
   },
   {
    "duration": 4798,
    "start_time": "2024-11-12T00:22:31.759Z"
   },
   {
    "duration": 1603,
    "start_time": "2024-11-12T00:22:36.559Z"
   },
   {
    "duration": 3116,
    "start_time": "2024-11-12T00:22:38.164Z"
   },
   {
    "duration": 4018,
    "start_time": "2024-11-12T00:22:41.343Z"
   },
   {
    "duration": 2988,
    "start_time": "2024-11-12T00:22:45.363Z"
   },
   {
    "duration": 647,
    "start_time": "2024-11-12T00:22:48.353Z"
   },
   {
    "duration": 0,
    "start_time": "2024-11-12T00:22:49.002Z"
   },
   {
    "duration": 0,
    "start_time": "2024-11-12T00:22:49.003Z"
   },
   {
    "duration": 0,
    "start_time": "2024-11-12T00:22:49.004Z"
   },
   {
    "duration": 0,
    "start_time": "2024-11-12T00:22:49.005Z"
   },
   {
    "duration": 0,
    "start_time": "2024-11-12T00:22:49.006Z"
   },
   {
    "duration": 0,
    "start_time": "2024-11-12T00:22:49.007Z"
   },
   {
    "duration": 0,
    "start_time": "2024-11-12T00:22:49.008Z"
   },
   {
    "duration": 0,
    "start_time": "2024-11-12T00:22:49.008Z"
   },
   {
    "duration": 0,
    "start_time": "2024-11-12T00:22:49.010Z"
   },
   {
    "duration": 0,
    "start_time": "2024-11-12T00:22:49.042Z"
   },
   {
    "duration": 0,
    "start_time": "2024-11-12T00:22:49.044Z"
   },
   {
    "duration": 0,
    "start_time": "2024-11-12T00:22:49.045Z"
   },
   {
    "duration": 0,
    "start_time": "2024-11-12T00:22:49.046Z"
   },
   {
    "duration": 296,
    "start_time": "2024-11-12T00:23:14.685Z"
   },
   {
    "duration": 942,
    "start_time": "2024-11-12T00:24:01.555Z"
   },
   {
    "duration": 4,
    "start_time": "2024-11-12T00:25:56.130Z"
   },
   {
    "duration": 133,
    "start_time": "2024-11-12T00:26:28.862Z"
   },
   {
    "duration": 1369,
    "start_time": "2024-11-12T00:26:44.805Z"
   },
   {
    "duration": 441,
    "start_time": "2024-11-12T00:27:40.932Z"
   },
   {
    "duration": 4,
    "start_time": "2024-11-12T00:28:18.516Z"
   },
   {
    "duration": 368,
    "start_time": "2024-11-12T00:29:11.895Z"
   },
   {
    "duration": 372,
    "start_time": "2024-11-12T00:29:47.503Z"
   },
   {
    "duration": 619,
    "start_time": "2024-11-12T00:31:09.830Z"
   },
   {
    "duration": 438,
    "start_time": "2024-11-12T00:31:52.116Z"
   },
   {
    "duration": 343,
    "start_time": "2024-11-12T00:35:20.935Z"
   },
   {
    "duration": 187,
    "start_time": "2024-11-12T00:39:08.470Z"
   },
   {
    "duration": 269,
    "start_time": "2024-11-12T00:40:04.817Z"
   },
   {
    "duration": 45,
    "start_time": "2024-11-12T00:42:09.727Z"
   },
   {
    "duration": 1280,
    "start_time": "2024-11-12T00:42:24.164Z"
   },
   {
    "duration": 11,
    "start_time": "2024-11-12T00:44:23.407Z"
   },
   {
    "duration": 1894,
    "start_time": "2024-11-12T00:44:30.590Z"
   },
   {
    "duration": 778,
    "start_time": "2024-11-12T00:45:15.046Z"
   },
   {
    "duration": 2,
    "start_time": "2024-11-12T00:45:15.826Z"
   },
   {
    "duration": 15250,
    "start_time": "2024-11-12T00:45:15.830Z"
   },
   {
    "duration": 9279,
    "start_time": "2024-11-12T00:45:31.083Z"
   },
   {
    "duration": 1191,
    "start_time": "2024-11-12T00:45:40.365Z"
   },
   {
    "duration": 700,
    "start_time": "2024-11-12T00:45:41.557Z"
   },
   {
    "duration": 85,
    "start_time": "2024-11-12T00:45:42.259Z"
   },
   {
    "duration": 3,
    "start_time": "2024-11-12T00:45:42.345Z"
   },
   {
    "duration": 2424,
    "start_time": "2024-11-12T00:45:42.350Z"
   },
   {
    "duration": 4935,
    "start_time": "2024-11-12T00:45:44.777Z"
   },
   {
    "duration": 1647,
    "start_time": "2024-11-12T00:45:49.714Z"
   },
   {
    "duration": 3115,
    "start_time": "2024-11-12T00:45:51.363Z"
   },
   {
    "duration": 3982,
    "start_time": "2024-11-12T00:45:54.480Z"
   },
   {
    "duration": 3018,
    "start_time": "2024-11-12T00:45:58.464Z"
   },
   {
    "duration": 1302,
    "start_time": "2024-11-12T00:46:01.542Z"
   },
   {
    "duration": 4,
    "start_time": "2024-11-12T00:46:02.845Z"
   },
   {
    "duration": 1700,
    "start_time": "2024-11-12T00:46:02.851Z"
   },
   {
    "duration": 615,
    "start_time": "2024-11-12T00:46:04.553Z"
   },
   {
    "duration": 202,
    "start_time": "2024-11-12T00:46:05.171Z"
   },
   {
    "duration": 90,
    "start_time": "2024-11-12T00:46:05.375Z"
   },
   {
    "duration": 31,
    "start_time": "2024-11-12T00:46:05.466Z"
   },
   {
    "duration": 56,
    "start_time": "2024-11-12T00:46:05.499Z"
   },
   {
    "duration": 23,
    "start_time": "2024-11-12T00:46:05.556Z"
   },
   {
    "duration": 10,
    "start_time": "2024-11-12T00:46:05.581Z"
   },
   {
    "duration": 61,
    "start_time": "2024-11-12T00:46:05.593Z"
   },
   {
    "duration": 67,
    "start_time": "2024-11-12T00:46:05.655Z"
   },
   {
    "duration": 3762,
    "start_time": "2024-11-12T00:46:05.724Z"
   },
   {
    "duration": 58,
    "start_time": "2024-11-12T00:46:09.489Z"
   },
   {
    "duration": 706,
    "start_time": "2024-11-12T07:13:39.131Z"
   },
   {
    "duration": 2,
    "start_time": "2024-11-12T07:13:39.839Z"
   },
   {
    "duration": 16049,
    "start_time": "2024-11-12T07:13:39.843Z"
   },
   {
    "duration": 9499,
    "start_time": "2024-11-12T07:13:55.895Z"
   },
   {
    "duration": 1107,
    "start_time": "2024-11-12T07:14:05.396Z"
   },
   {
    "duration": 676,
    "start_time": "2024-11-12T07:14:06.506Z"
   },
   {
    "duration": 15,
    "start_time": "2024-11-12T07:14:07.184Z"
   },
   {
    "duration": 3,
    "start_time": "2024-11-12T07:14:07.200Z"
   },
   {
    "duration": 2471,
    "start_time": "2024-11-12T07:14:07.205Z"
   },
   {
    "duration": 4924,
    "start_time": "2024-11-12T07:14:09.679Z"
   },
   {
    "duration": 1795,
    "start_time": "2024-11-12T07:14:14.605Z"
   },
   {
    "duration": 3312,
    "start_time": "2024-11-12T07:14:16.402Z"
   },
   {
    "duration": 3787,
    "start_time": "2024-11-12T07:14:19.716Z"
   },
   {
    "duration": 2875,
    "start_time": "2024-11-12T07:14:23.505Z"
   },
   {
    "duration": 1216,
    "start_time": "2024-11-12T07:14:26.381Z"
   },
   {
    "duration": 4,
    "start_time": "2024-11-12T07:14:27.599Z"
   },
   {
    "duration": 1577,
    "start_time": "2024-11-12T07:14:27.604Z"
   },
   {
    "duration": 610,
    "start_time": "2024-11-12T07:14:29.183Z"
   },
   {
    "duration": 185,
    "start_time": "2024-11-12T07:14:29.794Z"
   },
   {
    "duration": 41,
    "start_time": "2024-11-12T07:14:29.981Z"
   },
   {
    "duration": 82,
    "start_time": "2024-11-12T07:14:30.024Z"
   },
   {
    "duration": 71,
    "start_time": "2024-11-12T07:14:30.108Z"
   },
   {
    "duration": 8,
    "start_time": "2024-11-12T07:14:30.180Z"
   },
   {
    "duration": 15,
    "start_time": "2024-11-12T07:14:30.189Z"
   },
   {
    "duration": 100,
    "start_time": "2024-11-12T07:14:30.206Z"
   },
   {
    "duration": 8,
    "start_time": "2024-11-12T07:14:30.308Z"
   },
   {
    "duration": 3664,
    "start_time": "2024-11-12T07:14:30.317Z"
   },
   {
    "duration": 7,
    "start_time": "2024-11-12T07:14:33.986Z"
   },
   {
    "duration": 127111,
    "start_time": "2024-11-12T07:14:33.995Z"
   },
   {
    "duration": 88470,
    "start_time": "2024-11-12T07:16:41.108Z"
   },
   {
    "duration": 612,
    "start_time": "2024-11-12T07:18:09.580Z"
   },
   {
    "duration": 71,
    "start_time": "2024-11-12T07:18:10.194Z"
   },
   {
    "duration": 0,
    "start_time": "2024-11-12T07:18:10.266Z"
   },
   {
    "duration": 81,
    "start_time": "2024-11-12T07:23:06.627Z"
   },
   {
    "duration": 16,
    "start_time": "2024-11-12T07:23:25.099Z"
   },
   {
    "duration": 708,
    "start_time": "2024-11-12T07:24:09.633Z"
   },
   {
    "duration": 3,
    "start_time": "2024-11-12T07:24:10.343Z"
   },
   {
    "duration": 15346,
    "start_time": "2024-11-12T07:24:10.347Z"
   },
   {
    "duration": 9138,
    "start_time": "2024-11-12T07:24:25.696Z"
   },
   {
    "duration": 1021,
    "start_time": "2024-11-12T07:24:34.877Z"
   },
   {
    "duration": 704,
    "start_time": "2024-11-12T07:24:35.900Z"
   },
   {
    "duration": 79,
    "start_time": "2024-11-12T07:24:36.606Z"
   },
   {
    "duration": 2,
    "start_time": "2024-11-12T07:24:36.687Z"
   },
   {
    "duration": 2294,
    "start_time": "2024-11-12T07:24:36.691Z"
   },
   {
    "duration": 4798,
    "start_time": "2024-11-12T07:24:38.988Z"
   },
   {
    "duration": 1511,
    "start_time": "2024-11-12T07:24:43.788Z"
   },
   {
    "duration": 3008,
    "start_time": "2024-11-12T07:24:45.300Z"
   },
   {
    "duration": 1387,
    "start_time": "2024-11-12T07:24:48.311Z"
   },
   {
    "duration": 3781,
    "start_time": "2024-11-12T07:24:49.700Z"
   },
   {
    "duration": 2721,
    "start_time": "2024-11-12T07:24:53.483Z"
   },
   {
    "duration": 1232,
    "start_time": "2024-11-12T07:24:56.206Z"
   },
   {
    "duration": 5,
    "start_time": "2024-11-12T07:24:57.478Z"
   },
   {
    "duration": 1523,
    "start_time": "2024-11-12T07:24:57.484Z"
   },
   {
    "duration": 579,
    "start_time": "2024-11-12T07:24:59.009Z"
   },
   {
    "duration": 108,
    "start_time": "2024-11-12T07:24:59.590Z"
   },
   {
    "duration": 91,
    "start_time": "2024-11-12T07:24:59.700Z"
   },
   {
    "duration": 286,
    "start_time": "2024-11-12T07:24:59.793Z"
   },
   {
    "duration": 13,
    "start_time": "2024-11-12T07:25:00.081Z"
   },
   {
    "duration": 6,
    "start_time": "2024-11-12T07:25:00.096Z"
   },
   {
    "duration": 12,
    "start_time": "2024-11-12T07:25:00.103Z"
   },
   {
    "duration": 75,
    "start_time": "2024-11-12T07:25:00.117Z"
   },
   {
    "duration": 8,
    "start_time": "2024-11-12T07:25:00.194Z"
   },
   {
    "duration": 1719,
    "start_time": "2024-11-12T07:25:00.207Z"
   },
   {
    "duration": 0,
    "start_time": "2024-11-12T07:25:01.928Z"
   },
   {
    "duration": 0,
    "start_time": "2024-11-12T07:25:01.929Z"
   },
   {
    "duration": 0,
    "start_time": "2024-11-12T07:25:01.930Z"
   },
   {
    "duration": 0,
    "start_time": "2024-11-12T07:25:01.932Z"
   },
   {
    "duration": 0,
    "start_time": "2024-11-12T07:25:01.933Z"
   },
   {
    "duration": 0,
    "start_time": "2024-11-12T07:25:01.934Z"
   },
   {
    "duration": 14,
    "start_time": "2024-11-12T07:27:34.731Z"
   },
   {
    "duration": 1023,
    "start_time": "2024-11-12T07:28:07.193Z"
   },
   {
    "duration": 1132,
    "start_time": "2024-11-12T07:30:55.384Z"
   },
   {
    "duration": 1030,
    "start_time": "2024-11-12T07:32:11.678Z"
   },
   {
    "duration": 56,
    "start_time": "2024-11-12T07:34:37.097Z"
   },
   {
    "duration": 627,
    "start_time": "2024-11-12T07:34:52.781Z"
   },
   {
    "duration": 592,
    "start_time": "2024-11-12T07:35:22.620Z"
   },
   {
    "duration": 825,
    "start_time": "2024-11-12T07:37:50.891Z"
   },
   {
    "duration": 42,
    "start_time": "2024-11-12T07:39:24.463Z"
   },
   {
    "duration": 2684,
    "start_time": "2024-11-12T07:40:36.749Z"
   },
   {
    "duration": 211,
    "start_time": "2024-11-12T07:41:41.593Z"
   },
   {
    "duration": 1040,
    "start_time": "2024-11-12T07:42:21.067Z"
   },
   {
    "duration": 922,
    "start_time": "2024-11-12T07:42:53.096Z"
   },
   {
    "duration": 3117,
    "start_time": "2024-11-12T07:43:29.423Z"
   },
   {
    "duration": 1264,
    "start_time": "2024-11-12T07:49:07.892Z"
   },
   {
    "duration": 2,
    "start_time": "2024-11-12T07:49:09.158Z"
   },
   {
    "duration": 15525,
    "start_time": "2024-11-12T07:49:09.161Z"
   },
   {
    "duration": 8492,
    "start_time": "2024-11-12T07:49:24.689Z"
   },
   {
    "duration": 1099,
    "start_time": "2024-11-12T07:49:33.182Z"
   },
   {
    "duration": 610,
    "start_time": "2024-11-12T07:49:34.283Z"
   },
   {
    "duration": 16,
    "start_time": "2024-11-12T07:49:34.895Z"
   },
   {
    "duration": 4,
    "start_time": "2024-11-12T07:49:34.976Z"
   },
   {
    "duration": 2296,
    "start_time": "2024-11-12T07:49:34.982Z"
   },
   {
    "duration": 4708,
    "start_time": "2024-11-12T07:49:37.281Z"
   },
   {
    "duration": 2202,
    "start_time": "2024-11-12T07:49:41.992Z"
   },
   {
    "duration": 2882,
    "start_time": "2024-11-12T07:49:44.196Z"
   },
   {
    "duration": 1328,
    "start_time": "2024-11-12T07:49:47.080Z"
   },
   {
    "duration": 3682,
    "start_time": "2024-11-12T07:49:48.409Z"
   },
   {
    "duration": 2509,
    "start_time": "2024-11-12T07:49:52.093Z"
   },
   {
    "duration": 1201,
    "start_time": "2024-11-12T07:49:54.604Z"
   },
   {
    "duration": 4,
    "start_time": "2024-11-12T07:49:55.808Z"
   },
   {
    "duration": 1567,
    "start_time": "2024-11-12T07:49:55.814Z"
   },
   {
    "duration": 607,
    "start_time": "2024-11-12T07:49:57.382Z"
   },
   {
    "duration": 121,
    "start_time": "2024-11-12T07:49:57.991Z"
   },
   {
    "duration": 37,
    "start_time": "2024-11-12T07:49:58.175Z"
   },
   {
    "duration": 90,
    "start_time": "2024-11-12T07:49:58.214Z"
   },
   {
    "duration": 14,
    "start_time": "2024-11-12T07:49:58.306Z"
   },
   {
    "duration": 8,
    "start_time": "2024-11-12T07:49:58.376Z"
   },
   {
    "duration": 83,
    "start_time": "2024-11-12T07:49:58.385Z"
   },
   {
    "duration": 36,
    "start_time": "2024-11-12T07:49:58.470Z"
   },
   {
    "duration": 6,
    "start_time": "2024-11-12T07:49:58.508Z"
   },
   {
    "duration": 56,
    "start_time": "2024-11-12T07:49:58.517Z"
   },
   {
    "duration": 0,
    "start_time": "2024-11-12T07:49:58.575Z"
   },
   {
    "duration": 0,
    "start_time": "2024-11-12T07:49:58.576Z"
   },
   {
    "duration": 0,
    "start_time": "2024-11-12T07:49:58.577Z"
   },
   {
    "duration": 0,
    "start_time": "2024-11-12T07:49:58.578Z"
   },
   {
    "duration": 0,
    "start_time": "2024-11-12T07:49:58.580Z"
   },
   {
    "duration": 0,
    "start_time": "2024-11-12T07:49:58.581Z"
   },
   {
    "duration": 1211,
    "start_time": "2024-11-12T07:50:12.632Z"
   },
   {
    "duration": 3,
    "start_time": "2024-11-12T07:50:13.845Z"
   },
   {
    "duration": 15060,
    "start_time": "2024-11-12T07:50:13.850Z"
   },
   {
    "duration": 8685,
    "start_time": "2024-11-12T07:50:28.913Z"
   },
   {
    "duration": 1081,
    "start_time": "2024-11-12T07:50:37.600Z"
   },
   {
    "duration": 608,
    "start_time": "2024-11-12T07:50:38.683Z"
   },
   {
    "duration": 85,
    "start_time": "2024-11-12T07:50:39.293Z"
   },
   {
    "duration": 3,
    "start_time": "2024-11-12T07:50:39.381Z"
   },
   {
    "duration": 2214,
    "start_time": "2024-11-12T07:50:39.386Z"
   },
   {
    "duration": 4815,
    "start_time": "2024-11-12T07:50:41.603Z"
   },
   {
    "duration": 1688,
    "start_time": "2024-11-12T07:50:46.420Z"
   },
   {
    "duration": 3070,
    "start_time": "2024-11-12T07:50:48.109Z"
   },
   {
    "duration": 1314,
    "start_time": "2024-11-12T07:50:51.181Z"
   },
   {
    "duration": 3588,
    "start_time": "2024-11-12T07:50:52.497Z"
   },
   {
    "duration": 2602,
    "start_time": "2024-11-12T07:50:56.086Z"
   },
   {
    "duration": 1394,
    "start_time": "2024-11-12T07:50:58.690Z"
   },
   {
    "duration": 4,
    "start_time": "2024-11-12T07:51:00.086Z"
   },
   {
    "duration": 1424,
    "start_time": "2024-11-12T07:51:00.091Z"
   },
   {
    "duration": 665,
    "start_time": "2024-11-12T07:51:01.516Z"
   },
   {
    "duration": 114,
    "start_time": "2024-11-12T07:51:02.183Z"
   },
   {
    "duration": 87,
    "start_time": "2024-11-12T07:51:02.299Z"
   },
   {
    "duration": 99,
    "start_time": "2024-11-12T07:51:02.388Z"
   },
   {
    "duration": 13,
    "start_time": "2024-11-12T07:51:02.488Z"
   },
   {
    "duration": 14,
    "start_time": "2024-11-12T07:51:02.503Z"
   },
   {
    "duration": 58,
    "start_time": "2024-11-12T07:51:02.519Z"
   },
   {
    "duration": 70,
    "start_time": "2024-11-12T07:51:02.578Z"
   },
   {
    "duration": 29,
    "start_time": "2024-11-12T07:51:02.649Z"
   },
   {
    "duration": 5302,
    "start_time": "2024-11-12T07:51:02.681Z"
   },
   {
    "duration": 5,
    "start_time": "2024-11-12T07:51:07.985Z"
   },
   {
    "duration": 129189,
    "start_time": "2024-11-12T07:51:07.991Z"
   },
   {
    "duration": 91495,
    "start_time": "2024-11-12T07:53:17.181Z"
   },
   {
    "duration": 857,
    "start_time": "2024-11-12T07:54:48.678Z"
   },
   {
    "duration": 51,
    "start_time": "2024-11-12T07:54:49.537Z"
   },
   {
    "duration": 1368,
    "start_time": "2024-11-12T07:59:53.757Z"
   },
   {
    "duration": 3,
    "start_time": "2024-11-12T07:59:55.127Z"
   },
   {
    "duration": 3816,
    "start_time": "2024-11-12T11:19:02.497Z"
   },
   {
    "duration": 3,
    "start_time": "2024-11-12T11:19:06.315Z"
   },
   {
    "duration": 21177,
    "start_time": "2024-11-12T11:19:06.321Z"
   },
   {
    "duration": 23798,
    "start_time": "2024-11-12T11:19:27.501Z"
   },
   {
    "duration": 2603,
    "start_time": "2024-11-12T11:19:51.301Z"
   },
   {
    "duration": 1300,
    "start_time": "2024-11-12T11:19:53.907Z"
   },
   {
    "duration": 93,
    "start_time": "2024-11-12T11:19:55.209Z"
   },
   {
    "duration": 3,
    "start_time": "2024-11-12T11:19:55.304Z"
   },
   {
    "duration": 4700,
    "start_time": "2024-11-12T11:19:55.310Z"
   },
   {
    "duration": 10715,
    "start_time": "2024-11-12T11:20:00.097Z"
   },
   {
    "duration": 2999,
    "start_time": "2024-11-12T11:20:10.814Z"
   },
   {
    "duration": 5306,
    "start_time": "2024-11-12T11:20:13.815Z"
   },
   {
    "duration": 3324,
    "start_time": "2024-11-12T11:20:19.197Z"
   },
   {
    "duration": 8602,
    "start_time": "2024-11-12T11:20:22.598Z"
   },
   {
    "duration": 6606,
    "start_time": "2024-11-12T11:20:31.201Z"
   },
   {
    "duration": 3307,
    "start_time": "2024-11-12T11:20:37.809Z"
   },
   {
    "duration": 6,
    "start_time": "2024-11-12T11:20:41.199Z"
   },
   {
    "duration": 4790,
    "start_time": "2024-11-12T11:20:41.207Z"
   },
   {
    "duration": 1311,
    "start_time": "2024-11-12T11:20:46.000Z"
   },
   {
    "duration": 411,
    "start_time": "2024-11-12T11:20:47.398Z"
   },
   {
    "duration": 105,
    "start_time": "2024-11-12T11:20:47.897Z"
   },
   {
    "duration": 200,
    "start_time": "2024-11-12T11:20:48.004Z"
   },
   {
    "duration": 93,
    "start_time": "2024-11-12T11:20:48.206Z"
   },
   {
    "duration": 8,
    "start_time": "2024-11-12T11:20:48.301Z"
   },
   {
    "duration": 88,
    "start_time": "2024-11-12T11:20:48.310Z"
   },
   {
    "duration": 203,
    "start_time": "2024-11-12T11:20:48.400Z"
   },
   {
    "duration": 8,
    "start_time": "2024-11-12T11:20:48.605Z"
   },
   {
    "duration": 13096,
    "start_time": "2024-11-12T11:20:48.616Z"
   },
   {
    "duration": 5,
    "start_time": "2024-11-12T11:21:01.714Z"
   },
   {
    "duration": 328689,
    "start_time": "2024-11-12T11:21:01.722Z"
   },
   {
    "duration": 142608,
    "start_time": "2024-11-12T11:26:30.414Z"
   },
   {
    "duration": 1001,
    "start_time": "2024-11-12T11:28:53.023Z"
   },
   {
    "duration": 46,
    "start_time": "2024-11-12T11:28:54.026Z"
   },
   {
    "duration": 51,
    "start_time": "2024-11-12T11:29:07.118Z"
   },
   {
    "duration": 4,
    "start_time": "2024-11-12T11:37:11.499Z"
   },
   {
    "duration": 194,
    "start_time": "2024-11-12T11:37:13.576Z"
   },
   {
    "duration": 1355,
    "start_time": "2024-11-12T11:38:06.574Z"
   },
   {
    "duration": 3,
    "start_time": "2024-11-12T11:38:07.931Z"
   },
   {
    "duration": 16280,
    "start_time": "2024-11-12T11:38:07.935Z"
   },
   {
    "duration": 10601,
    "start_time": "2024-11-12T11:38:24.217Z"
   },
   {
    "duration": 2097,
    "start_time": "2024-11-12T11:38:34.820Z"
   },
   {
    "duration": 900,
    "start_time": "2024-11-12T11:38:36.919Z"
   },
   {
    "duration": 80,
    "start_time": "2024-11-12T11:38:37.821Z"
   },
   {
    "duration": 9,
    "start_time": "2024-11-12T11:38:37.905Z"
   },
   {
    "duration": 2495,
    "start_time": "2024-11-12T11:38:37.916Z"
   },
   {
    "duration": 5818,
    "start_time": "2024-11-12T11:38:40.417Z"
   },
   {
    "duration": 2069,
    "start_time": "2024-11-12T11:38:46.237Z"
   },
   {
    "duration": 3901,
    "start_time": "2024-11-12T11:38:48.313Z"
   },
   {
    "duration": 1708,
    "start_time": "2024-11-12T11:38:52.217Z"
   },
   {
    "duration": 4805,
    "start_time": "2024-11-12T11:38:53.927Z"
   },
   {
    "duration": 3375,
    "start_time": "2024-11-12T11:38:58.734Z"
   },
   {
    "duration": 1523,
    "start_time": "2024-11-12T11:39:02.112Z"
   },
   {
    "duration": 4,
    "start_time": "2024-11-12T11:39:03.636Z"
   },
   {
    "duration": 4796,
    "start_time": "2024-11-12T11:39:03.702Z"
   },
   {
    "duration": 13,
    "start_time": "2024-11-12T11:39:08.500Z"
   },
   {
    "duration": 1700,
    "start_time": "2024-11-12T11:39:08.516Z"
   },
   {
    "duration": 497,
    "start_time": "2024-11-12T11:39:10.218Z"
   },
   {
    "duration": 217,
    "start_time": "2024-11-12T11:39:10.718Z"
   },
   {
    "duration": 94,
    "start_time": "2024-11-12T11:39:10.936Z"
   },
   {
    "duration": 95,
    "start_time": "2024-11-12T11:39:11.031Z"
   },
   {
    "duration": 14,
    "start_time": "2024-11-12T11:39:11.127Z"
   },
   {
    "duration": 9,
    "start_time": "2024-11-12T11:39:11.143Z"
   },
   {
    "duration": 4,
    "start_time": "2024-11-12T11:39:11.153Z"
   },
   {
    "duration": 112,
    "start_time": "2024-11-12T11:39:11.204Z"
   },
   {
    "duration": 8,
    "start_time": "2024-11-12T11:39:11.318Z"
   },
   {
    "duration": 5032,
    "start_time": "2024-11-12T11:39:11.327Z"
   },
   {
    "duration": 5,
    "start_time": "2024-11-12T11:39:16.361Z"
   },
   {
    "duration": 7936,
    "start_time": "2024-11-12T11:39:16.368Z"
   },
   {
    "duration": 0,
    "start_time": "2024-11-12T11:39:24.308Z"
   },
   {
    "duration": 0,
    "start_time": "2024-11-12T11:39:24.315Z"
   },
   {
    "duration": 0,
    "start_time": "2024-11-12T11:39:24.316Z"
   },
   {
    "duration": 984,
    "start_time": "2024-11-12T11:39:28.749Z"
   },
   {
    "duration": 0,
    "start_time": "2024-11-12T11:39:29.737Z"
   },
   {
    "duration": 0,
    "start_time": "2024-11-12T11:39:29.738Z"
   },
   {
    "duration": 0,
    "start_time": "2024-11-12T11:39:29.739Z"
   },
   {
    "duration": 0,
    "start_time": "2024-11-12T11:39:29.741Z"
   },
   {
    "duration": 0,
    "start_time": "2024-11-12T11:39:29.742Z"
   },
   {
    "duration": 0,
    "start_time": "2024-11-12T11:39:29.743Z"
   },
   {
    "duration": 0,
    "start_time": "2024-11-12T11:39:29.744Z"
   },
   {
    "duration": 0,
    "start_time": "2024-11-12T11:39:29.745Z"
   },
   {
    "duration": 0,
    "start_time": "2024-11-12T11:39:29.746Z"
   },
   {
    "duration": 0,
    "start_time": "2024-11-12T11:39:29.747Z"
   },
   {
    "duration": 0,
    "start_time": "2024-11-12T11:39:29.748Z"
   },
   {
    "duration": 0,
    "start_time": "2024-11-12T11:39:29.749Z"
   },
   {
    "duration": 0,
    "start_time": "2024-11-12T11:39:29.750Z"
   },
   {
    "duration": 0,
    "start_time": "2024-11-12T11:39:29.751Z"
   },
   {
    "duration": 0,
    "start_time": "2024-11-12T11:39:29.752Z"
   },
   {
    "duration": 0,
    "start_time": "2024-11-12T11:39:29.753Z"
   },
   {
    "duration": 0,
    "start_time": "2024-11-12T11:39:29.754Z"
   },
   {
    "duration": 0,
    "start_time": "2024-11-12T11:39:29.756Z"
   },
   {
    "duration": 0,
    "start_time": "2024-11-12T11:39:29.757Z"
   },
   {
    "duration": 0,
    "start_time": "2024-11-12T11:39:29.758Z"
   },
   {
    "duration": 0,
    "start_time": "2024-11-12T11:39:29.759Z"
   },
   {
    "duration": 0,
    "start_time": "2024-11-12T11:39:29.760Z"
   },
   {
    "duration": 0,
    "start_time": "2024-11-12T11:39:29.761Z"
   },
   {
    "duration": 0,
    "start_time": "2024-11-12T11:39:29.762Z"
   },
   {
    "duration": 0,
    "start_time": "2024-11-12T11:39:29.763Z"
   },
   {
    "duration": 0,
    "start_time": "2024-11-12T11:39:29.765Z"
   },
   {
    "duration": 0,
    "start_time": "2024-11-12T11:39:29.766Z"
   },
   {
    "duration": 0,
    "start_time": "2024-11-12T11:39:29.767Z"
   },
   {
    "duration": 0,
    "start_time": "2024-11-12T11:39:29.768Z"
   },
   {
    "duration": 0,
    "start_time": "2024-11-12T11:39:29.769Z"
   },
   {
    "duration": 0,
    "start_time": "2024-11-12T11:39:29.798Z"
   },
   {
    "duration": 0,
    "start_time": "2024-11-12T11:39:29.800Z"
   },
   {
    "duration": 0,
    "start_time": "2024-11-12T11:39:29.805Z"
   },
   {
    "duration": 0,
    "start_time": "2024-11-12T11:39:29.808Z"
   },
   {
    "duration": 3,
    "start_time": "2024-11-12T11:39:41.692Z"
   },
   {
    "duration": 1363,
    "start_time": "2024-11-12T11:39:46.020Z"
   },
   {
    "duration": 2,
    "start_time": "2024-11-12T11:39:47.385Z"
   },
   {
    "duration": 16853,
    "start_time": "2024-11-12T11:39:47.389Z"
   },
   {
    "duration": 10169,
    "start_time": "2024-11-12T11:40:04.246Z"
   },
   {
    "duration": 1102,
    "start_time": "2024-11-12T11:40:14.417Z"
   },
   {
    "duration": 686,
    "start_time": "2024-11-12T11:40:15.520Z"
   },
   {
    "duration": 17,
    "start_time": "2024-11-12T11:40:16.208Z"
   },
   {
    "duration": 4,
    "start_time": "2024-11-12T11:40:16.227Z"
   },
   {
    "duration": 2480,
    "start_time": "2024-11-12T11:40:16.233Z"
   },
   {
    "duration": 4991,
    "start_time": "2024-11-12T11:40:18.717Z"
   },
   {
    "duration": 1726,
    "start_time": "2024-11-12T11:40:23.710Z"
   },
   {
    "duration": 3130,
    "start_time": "2024-11-12T11:40:25.499Z"
   },
   {
    "duration": 1468,
    "start_time": "2024-11-12T11:40:28.631Z"
   },
   {
    "duration": 3918,
    "start_time": "2024-11-12T11:40:30.100Z"
   },
   {
    "duration": 3107,
    "start_time": "2024-11-12T11:40:34.020Z"
   },
   {
    "duration": 1297,
    "start_time": "2024-11-12T11:40:37.129Z"
   },
   {
    "duration": 4,
    "start_time": "2024-11-12T11:40:38.428Z"
   },
   {
    "duration": 4409,
    "start_time": "2024-11-12T11:40:38.497Z"
   },
   {
    "duration": 4,
    "start_time": "2024-11-12T11:40:42.908Z"
   },
   {
    "duration": 1519,
    "start_time": "2024-11-12T11:40:42.914Z"
   },
   {
    "duration": 517,
    "start_time": "2024-11-12T11:40:44.497Z"
   },
   {
    "duration": 188,
    "start_time": "2024-11-12T11:40:45.016Z"
   },
   {
    "duration": 27,
    "start_time": "2024-11-12T11:40:45.206Z"
   },
   {
    "duration": 90,
    "start_time": "2024-11-12T11:40:45.235Z"
   },
   {
    "duration": 15,
    "start_time": "2024-11-12T11:40:45.326Z"
   },
   {
    "duration": 14,
    "start_time": "2024-11-12T11:40:45.399Z"
   },
   {
    "duration": 36,
    "start_time": "2024-11-12T11:40:45.415Z"
   },
   {
    "duration": 58,
    "start_time": "2024-11-12T11:40:45.454Z"
   },
   {
    "duration": 8,
    "start_time": "2024-11-12T11:40:45.514Z"
   },
   {
    "duration": 4605,
    "start_time": "2024-11-12T11:40:45.524Z"
   },
   {
    "duration": 5,
    "start_time": "2024-11-12T11:40:50.131Z"
   },
   {
    "duration": 134879,
    "start_time": "2024-11-12T11:40:50.138Z"
   },
   {
    "duration": 71704,
    "start_time": "2024-11-12T11:43:05.018Z"
   },
   {
    "duration": 3,
    "start_time": "2024-11-12T11:44:16.724Z"
   },
   {
    "duration": 48,
    "start_time": "2024-11-12T11:44:16.729Z"
   },
   {
    "duration": 0,
    "start_time": "2024-11-12T11:44:16.779Z"
   },
   {
    "duration": 3267,
    "start_time": "2024-11-12T11:44:42.869Z"
   },
   {
    "duration": 3,
    "start_time": "2024-11-12T11:46:57.743Z"
   },
   {
    "duration": 2413,
    "start_time": "2024-11-12T11:46:59.813Z"
   },
   {
    "duration": 4,
    "start_time": "2024-11-12T11:48:17.227Z"
   },
   {
    "duration": 2583,
    "start_time": "2024-11-12T11:48:19.169Z"
   },
   {
    "duration": 4,
    "start_time": "2024-11-12T11:50:46.691Z"
   },
   {
    "duration": 2470,
    "start_time": "2024-11-12T11:50:48.429Z"
   },
   {
    "duration": 2558,
    "start_time": "2024-11-12T11:56:28.373Z"
   },
   {
    "duration": 2658,
    "start_time": "2024-11-12T11:57:04.444Z"
   },
   {
    "duration": 4,
    "start_time": "2024-11-12T11:57:33.141Z"
   },
   {
    "duration": 2190,
    "start_time": "2024-11-12T11:57:35.261Z"
   },
   {
    "duration": 59,
    "start_time": "2024-11-12T12:02:20.050Z"
   },
   {
    "duration": 373,
    "start_time": "2024-11-12T12:02:27.867Z"
   },
   {
    "duration": 723,
    "start_time": "2024-11-12T12:05:15.265Z"
   },
   {
    "duration": 542,
    "start_time": "2024-11-12T12:05:34.069Z"
   },
   {
    "duration": 5786,
    "start_time": "2024-11-12T12:06:00.872Z"
   },
   {
    "duration": 6,
    "start_time": "2024-11-12T12:09:23.302Z"
   },
   {
    "duration": 3141,
    "start_time": "2024-11-12T12:09:32.415Z"
   },
   {
    "duration": 3159,
    "start_time": "2024-11-12T12:12:29.009Z"
   },
   {
    "duration": 261,
    "start_time": "2024-11-12T12:13:58.238Z"
   },
   {
    "duration": 401,
    "start_time": "2024-11-12T12:14:21.825Z"
   },
   {
    "duration": 3085,
    "start_time": "2024-11-12T12:15:36.181Z"
   },
   {
    "duration": 1064,
    "start_time": "2024-11-12T12:16:53.245Z"
   },
   {
    "duration": 975,
    "start_time": "2024-11-12T12:17:10.172Z"
   },
   {
    "duration": 261,
    "start_time": "2024-11-12T12:18:21.081Z"
   },
   {
    "duration": 3395,
    "start_time": "2024-11-12T12:19:42.542Z"
   },
   {
    "duration": 3248,
    "start_time": "2024-11-12T12:20:35.173Z"
   },
   {
    "duration": 3040,
    "start_time": "2024-11-12T12:21:32.113Z"
   },
   {
    "duration": 212,
    "start_time": "2024-11-12T12:22:31.044Z"
   },
   {
    "duration": 220,
    "start_time": "2024-11-12T12:23:03.079Z"
   },
   {
    "duration": 3100,
    "start_time": "2024-11-12T12:24:26.367Z"
   },
   {
    "duration": 3593,
    "start_time": "2024-11-12T12:26:03.118Z"
   },
   {
    "duration": 4856,
    "start_time": "2024-11-12T12:33:27.187Z"
   },
   {
    "duration": 2945,
    "start_time": "2024-11-12T12:33:49.557Z"
   },
   {
    "duration": 3129,
    "start_time": "2024-11-12T12:33:56.196Z"
   },
   {
    "duration": 2946,
    "start_time": "2024-11-12T12:34:25.336Z"
   },
   {
    "duration": 2855,
    "start_time": "2024-11-12T12:34:55.474Z"
   },
   {
    "duration": 736,
    "start_time": "2024-11-12T12:40:01.384Z"
   },
   {
    "duration": 206,
    "start_time": "2024-11-12T12:40:22.251Z"
   },
   {
    "duration": 1369,
    "start_time": "2024-11-12T12:40:31.772Z"
   },
   {
    "duration": 2,
    "start_time": "2024-11-12T12:40:33.143Z"
   },
   {
    "duration": 15968,
    "start_time": "2024-11-12T12:40:33.147Z"
   },
   {
    "duration": 8806,
    "start_time": "2024-11-12T12:40:49.117Z"
   },
   {
    "duration": 1111,
    "start_time": "2024-11-12T12:40:57.930Z"
   },
   {
    "duration": 629,
    "start_time": "2024-11-12T12:40:59.099Z"
   },
   {
    "duration": 80,
    "start_time": "2024-11-12T12:40:59.729Z"
   },
   {
    "duration": 3,
    "start_time": "2024-11-12T12:40:59.811Z"
   },
   {
    "duration": 2308,
    "start_time": "2024-11-12T12:40:59.816Z"
   },
   {
    "duration": 4929,
    "start_time": "2024-11-12T12:41:02.126Z"
   },
   {
    "duration": 1729,
    "start_time": "2024-11-12T12:41:07.098Z"
   },
   {
    "duration": 2903,
    "start_time": "2024-11-12T12:41:08.829Z"
   },
   {
    "duration": 1393,
    "start_time": "2024-11-12T12:41:11.735Z"
   },
   {
    "duration": 3822,
    "start_time": "2024-11-12T12:41:13.197Z"
   },
   {
    "duration": 2985,
    "start_time": "2024-11-12T12:41:17.021Z"
   },
   {
    "duration": 1324,
    "start_time": "2024-11-12T12:41:20.008Z"
   },
   {
    "duration": 4,
    "start_time": "2024-11-12T12:41:21.399Z"
   },
   {
    "duration": 6611,
    "start_time": "2024-11-12T12:41:21.406Z"
   },
   {
    "duration": 441,
    "start_time": "2024-11-12T12:41:28.019Z"
   },
   {
    "duration": 314,
    "start_time": "2024-11-12T12:41:28.462Z"
   },
   {
    "duration": 373,
    "start_time": "2024-11-12T12:41:28.778Z"
   },
   {
    "duration": 154,
    "start_time": "2024-11-12T12:41:29.153Z"
   },
   {
    "duration": 28,
    "start_time": "2024-11-12T12:41:29.309Z"
   },
   {
    "duration": 66,
    "start_time": "2024-11-12T12:41:29.339Z"
   },
   {
    "duration": 13,
    "start_time": "2024-11-12T12:41:29.406Z"
   },
   {
    "duration": 6,
    "start_time": "2024-11-12T12:41:29.421Z"
   },
   {
    "duration": 17,
    "start_time": "2024-11-12T12:41:29.429Z"
   },
   {
    "duration": 57,
    "start_time": "2024-11-12T12:41:29.448Z"
   },
   {
    "duration": 9,
    "start_time": "2024-11-12T12:41:29.507Z"
   },
   {
    "duration": 4963,
    "start_time": "2024-11-12T12:41:29.517Z"
   },
   {
    "duration": 5,
    "start_time": "2024-11-12T12:41:34.482Z"
   },
   {
    "duration": 147204,
    "start_time": "2024-11-12T12:41:34.497Z"
   },
   {
    "duration": 75256,
    "start_time": "2024-11-12T12:44:01.703Z"
   },
   {
    "duration": 2,
    "start_time": "2024-11-12T12:45:16.999Z"
   },
   {
    "duration": 51,
    "start_time": "2024-11-12T12:45:17.003Z"
   },
   {
    "duration": 4581,
    "start_time": "2024-11-12T13:18:58.254Z"
   },
   {
    "duration": 3605,
    "start_time": "2024-11-12T13:19:50.213Z"
   },
   {
    "duration": 252,
    "start_time": "2024-11-12T13:22:19.822Z"
   },
   {
    "duration": 254,
    "start_time": "2024-11-12T13:22:29.183Z"
   },
   {
    "duration": 226,
    "start_time": "2024-11-12T13:23:54.347Z"
   },
   {
    "duration": 1348,
    "start_time": "2024-11-12T13:26:54.367Z"
   },
   {
    "duration": 2,
    "start_time": "2024-11-12T13:26:55.717Z"
   },
   {
    "duration": 15501,
    "start_time": "2024-11-12T13:26:55.720Z"
   },
   {
    "duration": 10316,
    "start_time": "2024-11-12T13:27:11.225Z"
   },
   {
    "duration": 1172,
    "start_time": "2024-11-12T13:27:21.544Z"
   },
   {
    "duration": 798,
    "start_time": "2024-11-12T13:27:22.718Z"
   },
   {
    "duration": 80,
    "start_time": "2024-11-12T13:27:23.518Z"
   },
   {
    "duration": 4,
    "start_time": "2024-11-12T13:27:23.600Z"
   },
   {
    "duration": 2594,
    "start_time": "2024-11-12T13:27:23.606Z"
   },
   {
    "duration": 5118,
    "start_time": "2024-11-12T13:27:26.204Z"
   },
   {
    "duration": 1802,
    "start_time": "2024-11-12T13:27:31.324Z"
   },
   {
    "duration": 3389,
    "start_time": "2024-11-12T13:27:33.128Z"
   },
   {
    "duration": 1496,
    "start_time": "2024-11-12T13:27:36.519Z"
   },
   {
    "duration": 4293,
    "start_time": "2024-11-12T13:27:38.017Z"
   },
   {
    "duration": 3215,
    "start_time": "2024-11-12T13:27:42.312Z"
   },
   {
    "duration": 1396,
    "start_time": "2024-11-12T13:27:45.529Z"
   },
   {
    "duration": 5,
    "start_time": "2024-11-12T13:27:46.928Z"
   },
   {
    "duration": 7095,
    "start_time": "2024-11-12T13:27:46.935Z"
   },
   {
    "duration": 581,
    "start_time": "2024-11-12T13:27:54.032Z"
   },
   {
    "duration": 500,
    "start_time": "2024-11-12T13:27:54.615Z"
   },
   {
    "duration": 595,
    "start_time": "2024-11-12T13:27:55.117Z"
   },
   {
    "duration": 124,
    "start_time": "2024-11-12T13:27:55.714Z"
   },
   {
    "duration": 33,
    "start_time": "2024-11-12T13:27:55.897Z"
   },
   {
    "duration": 91,
    "start_time": "2024-11-12T13:27:55.932Z"
   },
   {
    "duration": 23,
    "start_time": "2024-11-12T13:27:56.025Z"
   },
   {
    "duration": 52,
    "start_time": "2024-11-12T13:27:56.050Z"
   },
   {
    "duration": 3,
    "start_time": "2024-11-12T13:27:56.104Z"
   },
   {
    "duration": 57,
    "start_time": "2024-11-12T13:27:56.110Z"
   },
   {
    "duration": 33,
    "start_time": "2024-11-12T13:27:56.169Z"
   },
   {
    "duration": 5480,
    "start_time": "2024-11-12T13:27:56.204Z"
   },
   {
    "duration": 14,
    "start_time": "2024-11-12T13:28:01.686Z"
   },
   {
    "duration": 150714,
    "start_time": "2024-11-12T13:28:01.702Z"
   },
   {
    "duration": 83241,
    "start_time": "2024-11-12T13:30:32.418Z"
   },
   {
    "duration": 3,
    "start_time": "2024-11-12T13:31:55.661Z"
   },
   {
    "duration": 46,
    "start_time": "2024-11-12T13:31:55.666Z"
   },
   {
    "duration": 0,
    "start_time": "2024-11-12T13:31:55.715Z"
   },
   {
    "duration": 4836,
    "start_time": "2024-11-12T13:32:35.964Z"
   },
   {
    "duration": 1362,
    "start_time": "2024-11-12T13:33:14.290Z"
   },
   {
    "duration": 4,
    "start_time": "2024-11-12T13:33:15.654Z"
   },
   {
    "duration": 16104,
    "start_time": "2024-11-12T13:33:16.996Z"
   },
   {
    "duration": 8812,
    "start_time": "2024-11-12T13:33:33.103Z"
   },
   {
    "duration": 1117,
    "start_time": "2024-11-12T13:33:41.917Z"
   },
   {
    "duration": 618,
    "start_time": "2024-11-12T13:33:43.100Z"
   },
   {
    "duration": 81,
    "start_time": "2024-11-12T13:33:43.720Z"
   },
   {
    "duration": 4,
    "start_time": "2024-11-12T13:33:43.802Z"
   },
   {
    "duration": 2520,
    "start_time": "2024-11-12T13:33:43.808Z"
   },
   {
    "duration": 4931,
    "start_time": "2024-11-12T13:33:46.398Z"
   },
   {
    "duration": 2069,
    "start_time": "2024-11-12T13:33:51.331Z"
   },
   {
    "duration": 3231,
    "start_time": "2024-11-12T13:33:53.402Z"
   },
   {
    "duration": 1402,
    "start_time": "2024-11-12T13:33:56.635Z"
   },
   {
    "duration": 4313,
    "start_time": "2024-11-12T13:33:58.098Z"
   },
   {
    "duration": 3397,
    "start_time": "2024-11-12T13:34:02.413Z"
   },
   {
    "duration": 4,
    "start_time": "2024-11-12T13:34:05.813Z"
   },
   {
    "duration": 824,
    "start_time": "2024-11-12T13:37:58.396Z"
   },
   {
    "duration": 7334,
    "start_time": "2024-11-12T13:38:06.616Z"
   },
   {
    "duration": 254,
    "start_time": "2024-11-12T13:38:21.347Z"
   },
   {
    "duration": 513,
    "start_time": "2024-11-12T13:39:13.687Z"
   },
   {
    "duration": 485,
    "start_time": "2024-11-12T13:39:36.155Z"
   },
   {
    "duration": 3336,
    "start_time": "2024-11-12T13:41:52.865Z"
   },
   {
    "duration": 2794,
    "start_time": "2024-11-12T13:42:06.233Z"
   },
   {
    "duration": 2866,
    "start_time": "2024-11-12T13:45:12.766Z"
   },
   {
    "duration": 4,
    "start_time": "2024-11-12T13:50:12.607Z"
   },
   {
    "duration": 20747,
    "start_time": "2024-11-12T13:51:55.392Z"
   },
   {
    "duration": 14038,
    "start_time": "2024-11-12T13:54:08.762Z"
   },
   {
    "duration": 3099,
    "start_time": "2024-11-12T14:03:42.344Z"
   },
   {
    "duration": 1335,
    "start_time": "2024-11-12T14:04:46.882Z"
   },
   {
    "duration": 3,
    "start_time": "2024-11-12T14:04:48.219Z"
   },
   {
    "duration": 16378,
    "start_time": "2024-11-12T14:04:48.224Z"
   },
   {
    "duration": 9628,
    "start_time": "2024-11-12T14:05:04.605Z"
   },
   {
    "duration": 1202,
    "start_time": "2024-11-12T14:05:14.235Z"
   },
   {
    "duration": 866,
    "start_time": "2024-11-12T14:05:15.438Z"
   },
   {
    "duration": 23,
    "start_time": "2024-11-12T14:05:16.306Z"
   },
   {
    "duration": 69,
    "start_time": "2024-11-12T14:05:16.331Z"
   },
   {
    "duration": 2124,
    "start_time": "2024-11-12T14:05:16.403Z"
   },
   {
    "duration": 5599,
    "start_time": "2024-11-12T14:05:18.599Z"
   },
   {
    "duration": 1801,
    "start_time": "2024-11-12T14:05:24.200Z"
   },
   {
    "duration": 3326,
    "start_time": "2024-11-12T14:05:26.003Z"
   },
   {
    "duration": 1606,
    "start_time": "2024-11-12T14:05:29.331Z"
   },
   {
    "duration": 4405,
    "start_time": "2024-11-12T14:05:30.999Z"
   },
   {
    "duration": 3129,
    "start_time": "2024-11-12T14:05:35.406Z"
   },
   {
    "duration": 19233,
    "start_time": "2024-11-12T14:05:38.597Z"
   },
   {
    "duration": 5,
    "start_time": "2024-11-12T14:05:57.833Z"
   },
   {
    "duration": 6661,
    "start_time": "2024-11-12T14:05:57.840Z"
   },
   {
    "duration": 373,
    "start_time": "2024-11-12T14:06:04.503Z"
   },
   {
    "duration": 442,
    "start_time": "2024-11-12T14:06:04.898Z"
   },
   {
    "duration": 558,
    "start_time": "2024-11-12T14:06:05.343Z"
   },
   {
    "duration": 4618,
    "start_time": "2024-11-12T14:06:05.903Z"
   },
   {
    "duration": 120,
    "start_time": "2024-11-12T14:06:10.524Z"
   },
   {
    "duration": 75,
    "start_time": "2024-11-12T14:06:10.646Z"
   },
   {
    "duration": 99,
    "start_time": "2024-11-12T14:06:10.723Z"
   },
   {
    "duration": 15,
    "start_time": "2024-11-12T14:06:10.824Z"
   },
   {
    "duration": 61,
    "start_time": "2024-11-12T14:06:10.841Z"
   },
   {
    "duration": 4,
    "start_time": "2024-11-12T14:06:10.905Z"
   },
   {
    "duration": 43,
    "start_time": "2024-11-12T14:06:10.911Z"
   },
   {
    "duration": 46,
    "start_time": "2024-11-12T14:06:10.956Z"
   },
   {
    "duration": 4819,
    "start_time": "2024-11-12T14:06:11.003Z"
   },
   {
    "duration": 5,
    "start_time": "2024-11-12T14:06:15.824Z"
   },
   {
    "duration": 144297,
    "start_time": "2024-11-12T14:06:15.832Z"
   },
   {
    "duration": 73295,
    "start_time": "2024-11-12T14:08:40.131Z"
   },
   {
    "duration": 2,
    "start_time": "2024-11-12T14:09:53.428Z"
   },
   {
    "duration": 42,
    "start_time": "2024-11-12T14:09:53.432Z"
   },
   {
    "duration": 6,
    "start_time": "2024-11-12T14:37:30.014Z"
   },
   {
    "duration": 10,
    "start_time": "2024-11-12T14:37:35.601Z"
   },
   {
    "duration": 111,
    "start_time": "2024-11-12T14:38:28.795Z"
   },
   {
    "duration": 1306,
    "start_time": "2024-11-12T14:39:07.766Z"
   },
   {
    "duration": 2,
    "start_time": "2024-11-12T14:39:09.074Z"
   },
   {
    "duration": 16063,
    "start_time": "2024-11-12T14:39:09.078Z"
   },
   {
    "duration": 9055,
    "start_time": "2024-11-12T14:39:25.143Z"
   },
   {
    "duration": 1219,
    "start_time": "2024-11-12T14:39:34.200Z"
   },
   {
    "duration": 677,
    "start_time": "2024-11-12T14:39:35.421Z"
   },
   {
    "duration": 23,
    "start_time": "2024-11-12T14:39:36.100Z"
   },
   {
    "duration": 73,
    "start_time": "2024-11-12T14:39:36.125Z"
   },
   {
    "duration": 2522,
    "start_time": "2024-11-12T14:39:36.200Z"
   },
   {
    "duration": 5113,
    "start_time": "2024-11-12T14:39:38.725Z"
   },
   {
    "duration": 3658,
    "start_time": "2024-11-12T14:39:43.840Z"
   },
   {
    "duration": 1419,
    "start_time": "2024-11-12T14:39:47.500Z"
   },
   {
    "duration": 4201,
    "start_time": "2024-11-12T14:39:48.921Z"
   },
   {
    "duration": 2813,
    "start_time": "2024-11-12T14:39:53.124Z"
   },
   {
    "duration": 185,
    "start_time": "2024-11-12T14:39:55.939Z"
   },
   {
    "duration": 90,
    "start_time": "2024-11-12T14:39:56.125Z"
   },
   {
    "duration": 89,
    "start_time": "2024-11-12T14:39:56.217Z"
   },
   {
    "duration": 17,
    "start_time": "2024-11-12T14:39:56.307Z"
   },
   {
    "duration": 10,
    "start_time": "2024-11-12T14:39:56.326Z"
   },
   {
    "duration": 3,
    "start_time": "2024-11-12T14:39:56.338Z"
   },
   {
    "duration": 96,
    "start_time": "2024-11-12T14:39:56.343Z"
   },
   {
    "duration": 73,
    "start_time": "2024-11-12T14:39:56.441Z"
   },
   {
    "duration": 4999,
    "start_time": "2024-11-12T14:39:56.516Z"
   },
   {
    "duration": 6,
    "start_time": "2024-11-12T14:40:01.517Z"
   },
   {
    "duration": 158514,
    "start_time": "2024-11-12T14:40:01.524Z"
   },
   {
    "duration": 69665,
    "start_time": "2024-11-12T14:42:40.039Z"
   },
   {
    "duration": 19,
    "start_time": "2024-11-12T14:43:49.706Z"
   },
   {
    "duration": 2,
    "start_time": "2024-11-12T14:43:49.728Z"
   },
   {
    "duration": 52,
    "start_time": "2024-11-12T14:43:49.732Z"
   },
   {
    "duration": 110,
    "start_time": "2024-11-12T14:46:37.028Z"
   },
   {
    "duration": 18,
    "start_time": "2024-11-12T14:46:56.256Z"
   },
   {
    "duration": 5,
    "start_time": "2024-11-12T14:53:32.423Z"
   },
   {
    "duration": 1306,
    "start_time": "2024-11-12T15:06:52.915Z"
   },
   {
    "duration": 3,
    "start_time": "2024-11-12T15:06:54.224Z"
   },
   {
    "duration": 16113,
    "start_time": "2024-11-12T15:06:54.229Z"
   },
   {
    "duration": 9437,
    "start_time": "2024-11-12T15:07:10.398Z"
   },
   {
    "duration": 1267,
    "start_time": "2024-11-12T15:07:19.837Z"
   },
   {
    "duration": 803,
    "start_time": "2024-11-12T15:07:21.106Z"
   },
   {
    "duration": 16,
    "start_time": "2024-11-12T15:07:21.911Z"
   },
   {
    "duration": 3,
    "start_time": "2024-11-12T15:07:21.929Z"
   },
   {
    "duration": 2465,
    "start_time": "2024-11-12T15:07:21.934Z"
   },
   {
    "duration": 5098,
    "start_time": "2024-11-12T15:07:24.402Z"
   },
   {
    "duration": 3929,
    "start_time": "2024-11-12T15:07:29.501Z"
   },
   {
    "duration": 1491,
    "start_time": "2024-11-12T15:07:33.432Z"
   },
   {
    "duration": 4502,
    "start_time": "2024-11-12T15:07:34.925Z"
   },
   {
    "duration": 3075,
    "start_time": "2024-11-12T15:07:39.429Z"
   },
   {
    "duration": 123,
    "start_time": "2024-11-12T15:07:42.506Z"
   },
   {
    "duration": 94,
    "start_time": "2024-11-12T15:07:42.630Z"
   },
   {
    "duration": 31,
    "start_time": "2024-11-12T15:07:42.725Z"
   },
   {
    "duration": 40,
    "start_time": "2024-11-12T15:07:42.758Z"
   },
   {
    "duration": 15,
    "start_time": "2024-11-12T15:07:42.799Z"
   },
   {
    "duration": 4,
    "start_time": "2024-11-12T15:07:42.816Z"
   },
   {
    "duration": 82,
    "start_time": "2024-11-12T15:07:42.822Z"
   },
   {
    "duration": 22,
    "start_time": "2024-11-12T15:07:42.907Z"
   },
   {
    "duration": 5192,
    "start_time": "2024-11-12T15:07:42.930Z"
   },
   {
    "duration": 5,
    "start_time": "2024-11-12T15:07:48.124Z"
   },
   {
    "duration": 143770,
    "start_time": "2024-11-12T15:07:48.130Z"
   },
   {
    "duration": 76096,
    "start_time": "2024-11-12T15:10:11.904Z"
   },
   {
    "duration": 25,
    "start_time": "2024-11-12T15:11:28.002Z"
   },
   {
    "duration": 4,
    "start_time": "2024-11-12T15:11:28.097Z"
   },
   {
    "duration": 57,
    "start_time": "2024-11-12T15:11:28.102Z"
   },
   {
    "duration": 0,
    "start_time": "2024-11-12T15:11:28.161Z"
   },
   {
    "duration": 8,
    "start_time": "2024-11-12T15:12:26.853Z"
   },
   {
    "duration": 101688,
    "start_time": "2024-11-12T15:12:34.561Z"
   },
   {
    "duration": 30,
    "start_time": "2024-11-12T15:19:58.032Z"
   },
   {
    "duration": 10,
    "start_time": "2024-11-12T15:20:13.981Z"
   },
   {
    "duration": 109,
    "start_time": "2024-11-12T15:21:37.714Z"
   },
   {
    "duration": 5,
    "start_time": "2024-11-12T15:21:45.115Z"
   },
   {
    "duration": 1507,
    "start_time": "2024-11-12T21:06:20.060Z"
   },
   {
    "duration": 2,
    "start_time": "2024-11-12T21:06:21.570Z"
   },
   {
    "duration": 15772,
    "start_time": "2024-11-12T21:06:21.574Z"
   },
   {
    "duration": 9386,
    "start_time": "2024-11-12T21:06:37.349Z"
   },
   {
    "duration": 1187,
    "start_time": "2024-11-12T21:06:46.736Z"
   },
   {
    "duration": 796,
    "start_time": "2024-11-12T21:06:47.925Z"
   },
   {
    "duration": 22,
    "start_time": "2024-11-12T21:06:48.723Z"
   },
   {
    "duration": 73,
    "start_time": "2024-11-12T21:06:48.748Z"
   },
   {
    "duration": 2115,
    "start_time": "2024-11-12T21:06:48.823Z"
   },
   {
    "duration": 5049,
    "start_time": "2024-11-12T21:06:50.941Z"
   },
   {
    "duration": 3844,
    "start_time": "2024-11-12T21:06:55.992Z"
   },
   {
    "duration": 1395,
    "start_time": "2024-11-12T21:06:59.838Z"
   },
   {
    "duration": 4098,
    "start_time": "2024-11-12T21:07:01.235Z"
   },
   {
    "duration": 3115,
    "start_time": "2024-11-12T21:07:05.335Z"
   },
   {
    "duration": 179,
    "start_time": "2024-11-12T21:07:08.452Z"
   },
   {
    "duration": 27,
    "start_time": "2024-11-12T21:07:08.633Z"
   },
   {
    "duration": 86,
    "start_time": "2024-11-12T21:07:08.662Z"
   },
   {
    "duration": 80,
    "start_time": "2024-11-12T21:07:08.750Z"
   },
   {
    "duration": 8,
    "start_time": "2024-11-12T21:07:08.832Z"
   },
   {
    "duration": 9,
    "start_time": "2024-11-12T21:07:08.842Z"
   },
   {
    "duration": 103,
    "start_time": "2024-11-12T21:07:08.853Z"
   },
   {
    "duration": 70,
    "start_time": "2024-11-12T21:07:08.957Z"
   },
   {
    "duration": 5157,
    "start_time": "2024-11-12T21:07:09.028Z"
   },
   {
    "duration": 5,
    "start_time": "2024-11-12T21:07:14.188Z"
   },
   {
    "duration": 151658,
    "start_time": "2024-11-12T21:07:14.195Z"
   },
   {
    "duration": 74014,
    "start_time": "2024-11-12T21:09:45.856Z"
   },
   {
    "duration": 52,
    "start_time": "2024-11-12T21:10:59.872Z"
   },
   {
    "duration": 7,
    "start_time": "2024-11-12T21:10:59.933Z"
   },
   {
    "duration": 100712,
    "start_time": "2024-11-12T21:10:59.942Z"
   },
   {
    "duration": 80,
    "start_time": "2024-11-12T21:12:40.656Z"
   },
   {
    "duration": 0,
    "start_time": "2024-11-12T21:12:40.739Z"
   },
   {
    "duration": 1392,
    "start_time": "2024-11-12T22:07:32.638Z"
   },
   {
    "duration": 0,
    "start_time": "2024-11-12T22:07:34.033Z"
   },
   {
    "duration": 0,
    "start_time": "2024-11-12T22:07:34.034Z"
   },
   {
    "duration": 0,
    "start_time": "2024-11-12T22:07:34.035Z"
   },
   {
    "duration": 0,
    "start_time": "2024-11-12T22:07:34.036Z"
   },
   {
    "duration": 0,
    "start_time": "2024-11-12T22:07:34.038Z"
   },
   {
    "duration": 0,
    "start_time": "2024-11-12T22:07:34.039Z"
   },
   {
    "duration": 0,
    "start_time": "2024-11-12T22:07:34.040Z"
   },
   {
    "duration": 0,
    "start_time": "2024-11-12T22:07:34.041Z"
   },
   {
    "duration": 0,
    "start_time": "2024-11-12T22:07:34.042Z"
   },
   {
    "duration": 0,
    "start_time": "2024-11-12T22:07:34.043Z"
   },
   {
    "duration": 0,
    "start_time": "2024-11-12T22:07:34.044Z"
   },
   {
    "duration": 0,
    "start_time": "2024-11-12T22:07:34.044Z"
   },
   {
    "duration": 0,
    "start_time": "2024-11-12T22:07:34.045Z"
   },
   {
    "duration": 0,
    "start_time": "2024-11-12T22:07:34.046Z"
   },
   {
    "duration": 0,
    "start_time": "2024-11-12T22:07:34.047Z"
   },
   {
    "duration": 0,
    "start_time": "2024-11-12T22:07:34.048Z"
   },
   {
    "duration": 0,
    "start_time": "2024-11-12T22:07:34.049Z"
   },
   {
    "duration": 0,
    "start_time": "2024-11-12T22:07:34.050Z"
   },
   {
    "duration": 1,
    "start_time": "2024-11-12T22:07:34.050Z"
   },
   {
    "duration": 0,
    "start_time": "2024-11-12T22:07:34.051Z"
   },
   {
    "duration": 0,
    "start_time": "2024-11-12T22:07:34.052Z"
   },
   {
    "duration": 0,
    "start_time": "2024-11-12T22:07:34.053Z"
   },
   {
    "duration": 0,
    "start_time": "2024-11-12T22:07:34.054Z"
   },
   {
    "duration": 0,
    "start_time": "2024-11-12T22:07:34.055Z"
   },
   {
    "duration": 0,
    "start_time": "2024-11-12T22:07:34.056Z"
   },
   {
    "duration": 0,
    "start_time": "2024-11-12T22:07:34.057Z"
   },
   {
    "duration": 0,
    "start_time": "2024-11-12T22:07:34.058Z"
   },
   {
    "duration": 0,
    "start_time": "2024-11-12T22:07:34.059Z"
   },
   {
    "duration": 0,
    "start_time": "2024-11-12T22:07:34.060Z"
   },
   {
    "duration": 44,
    "start_time": "2024-11-12T22:17:15.479Z"
   },
   {
    "duration": 1394,
    "start_time": "2024-11-12T22:19:07.454Z"
   },
   {
    "duration": 0,
    "start_time": "2024-11-12T22:19:08.850Z"
   },
   {
    "duration": 0,
    "start_time": "2024-11-12T22:19:08.851Z"
   },
   {
    "duration": 0,
    "start_time": "2024-11-12T22:19:08.852Z"
   },
   {
    "duration": 0,
    "start_time": "2024-11-12T22:19:08.853Z"
   },
   {
    "duration": 0,
    "start_time": "2024-11-12T22:19:08.855Z"
   },
   {
    "duration": 0,
    "start_time": "2024-11-12T22:19:08.856Z"
   },
   {
    "duration": 0,
    "start_time": "2024-11-12T22:19:08.857Z"
   },
   {
    "duration": 0,
    "start_time": "2024-11-12T22:19:08.858Z"
   },
   {
    "duration": 0,
    "start_time": "2024-11-12T22:19:08.859Z"
   },
   {
    "duration": 0,
    "start_time": "2024-11-12T22:19:08.860Z"
   },
   {
    "duration": 0,
    "start_time": "2024-11-12T22:19:08.861Z"
   },
   {
    "duration": 0,
    "start_time": "2024-11-12T22:19:08.862Z"
   },
   {
    "duration": 0,
    "start_time": "2024-11-12T22:19:08.863Z"
   },
   {
    "duration": 0,
    "start_time": "2024-11-12T22:19:08.865Z"
   },
   {
    "duration": 0,
    "start_time": "2024-11-12T22:19:08.866Z"
   },
   {
    "duration": 0,
    "start_time": "2024-11-12T22:19:08.867Z"
   },
   {
    "duration": 0,
    "start_time": "2024-11-12T22:19:08.868Z"
   },
   {
    "duration": 0,
    "start_time": "2024-11-12T22:19:08.869Z"
   },
   {
    "duration": 0,
    "start_time": "2024-11-12T22:19:08.870Z"
   },
   {
    "duration": 0,
    "start_time": "2024-11-12T22:19:08.871Z"
   },
   {
    "duration": 0,
    "start_time": "2024-11-12T22:19:08.873Z"
   },
   {
    "duration": 0,
    "start_time": "2024-11-12T22:19:08.874Z"
   },
   {
    "duration": 0,
    "start_time": "2024-11-12T22:19:08.875Z"
   },
   {
    "duration": 0,
    "start_time": "2024-11-12T22:19:08.876Z"
   },
   {
    "duration": 0,
    "start_time": "2024-11-12T22:19:08.877Z"
   },
   {
    "duration": 0,
    "start_time": "2024-11-12T22:19:08.878Z"
   },
   {
    "duration": 0,
    "start_time": "2024-11-12T22:19:08.920Z"
   },
   {
    "duration": 0,
    "start_time": "2024-11-12T22:19:08.921Z"
   },
   {
    "duration": 0,
    "start_time": "2024-11-12T22:19:08.926Z"
   },
   {
    "duration": 1452,
    "start_time": "2024-11-12T22:19:20.494Z"
   },
   {
    "duration": 0,
    "start_time": "2024-11-12T22:19:21.948Z"
   },
   {
    "duration": 0,
    "start_time": "2024-11-12T22:19:21.950Z"
   },
   {
    "duration": 0,
    "start_time": "2024-11-12T22:19:21.951Z"
   },
   {
    "duration": 0,
    "start_time": "2024-11-12T22:19:21.952Z"
   },
   {
    "duration": 0,
    "start_time": "2024-11-12T22:19:21.953Z"
   },
   {
    "duration": 0,
    "start_time": "2024-11-12T22:19:21.954Z"
   },
   {
    "duration": 0,
    "start_time": "2024-11-12T22:19:21.955Z"
   },
   {
    "duration": 0,
    "start_time": "2024-11-12T22:19:21.956Z"
   },
   {
    "duration": 0,
    "start_time": "2024-11-12T22:19:21.957Z"
   },
   {
    "duration": 0,
    "start_time": "2024-11-12T22:19:21.958Z"
   },
   {
    "duration": 0,
    "start_time": "2024-11-12T22:19:21.959Z"
   },
   {
    "duration": 0,
    "start_time": "2024-11-12T22:19:21.961Z"
   },
   {
    "duration": 0,
    "start_time": "2024-11-12T22:19:21.962Z"
   },
   {
    "duration": 0,
    "start_time": "2024-11-12T22:19:21.963Z"
   },
   {
    "duration": 0,
    "start_time": "2024-11-12T22:19:21.964Z"
   },
   {
    "duration": 0,
    "start_time": "2024-11-12T22:19:21.965Z"
   },
   {
    "duration": 0,
    "start_time": "2024-11-12T22:19:21.966Z"
   },
   {
    "duration": 0,
    "start_time": "2024-11-12T22:19:21.968Z"
   },
   {
    "duration": 1,
    "start_time": "2024-11-12T22:19:21.968Z"
   },
   {
    "duration": 0,
    "start_time": "2024-11-12T22:19:21.969Z"
   },
   {
    "duration": 0,
    "start_time": "2024-11-12T22:19:21.970Z"
   },
   {
    "duration": 0,
    "start_time": "2024-11-12T22:19:21.972Z"
   },
   {
    "duration": 0,
    "start_time": "2024-11-12T22:19:21.973Z"
   },
   {
    "duration": 0,
    "start_time": "2024-11-12T22:19:21.974Z"
   },
   {
    "duration": 0,
    "start_time": "2024-11-12T22:19:21.975Z"
   },
   {
    "duration": 0,
    "start_time": "2024-11-12T22:19:21.976Z"
   },
   {
    "duration": 0,
    "start_time": "2024-11-12T22:19:21.977Z"
   },
   {
    "duration": 0,
    "start_time": "2024-11-12T22:19:21.978Z"
   },
   {
    "duration": 0,
    "start_time": "2024-11-12T22:19:22.022Z"
   },
   {
    "duration": 43,
    "start_time": "2024-11-12T22:21:09.972Z"
   },
   {
    "duration": 1286,
    "start_time": "2024-11-12T22:21:19.714Z"
   },
   {
    "duration": 3,
    "start_time": "2024-11-12T22:21:21.002Z"
   },
   {
    "duration": 16549,
    "start_time": "2024-11-12T22:21:21.007Z"
   },
   {
    "duration": 9780,
    "start_time": "2024-11-12T22:21:37.559Z"
   },
   {
    "duration": 1207,
    "start_time": "2024-11-12T22:21:47.341Z"
   },
   {
    "duration": 784,
    "start_time": "2024-11-12T22:21:48.550Z"
   },
   {
    "duration": 87,
    "start_time": "2024-11-12T22:21:49.336Z"
   },
   {
    "duration": 7,
    "start_time": "2024-11-12T22:21:49.425Z"
   },
   {
    "duration": 2489,
    "start_time": "2024-11-12T22:21:49.435Z"
   },
   {
    "duration": 5216,
    "start_time": "2024-11-12T22:21:51.937Z"
   },
   {
    "duration": 4094,
    "start_time": "2024-11-12T22:21:57.156Z"
   },
   {
    "duration": 1786,
    "start_time": "2024-11-12T22:22:01.252Z"
   },
   {
    "duration": 4806,
    "start_time": "2024-11-12T22:22:03.041Z"
   },
   {
    "duration": 3205,
    "start_time": "2024-11-12T22:22:07.849Z"
   },
   {
    "duration": 191,
    "start_time": "2024-11-12T22:22:11.055Z"
   },
   {
    "duration": 84,
    "start_time": "2024-11-12T22:22:11.250Z"
   },
   {
    "duration": 32,
    "start_time": "2024-11-12T22:22:11.335Z"
   },
   {
    "duration": 66,
    "start_time": "2024-11-12T22:22:11.369Z"
   },
   {
    "duration": 11,
    "start_time": "2024-11-12T22:22:11.437Z"
   },
   {
    "duration": 3,
    "start_time": "2024-11-12T22:22:11.450Z"
   },
   {
    "duration": 83,
    "start_time": "2024-11-12T22:22:11.455Z"
   },
   {
    "duration": 9,
    "start_time": "2024-11-12T22:22:11.539Z"
   },
   {
    "duration": 5546,
    "start_time": "2024-11-12T22:22:11.549Z"
   },
   {
    "duration": 5,
    "start_time": "2024-11-12T22:22:17.097Z"
   },
   {
    "duration": 162351,
    "start_time": "2024-11-12T22:22:17.104Z"
   },
   {
    "duration": 76507,
    "start_time": "2024-11-12T22:24:59.457Z"
   },
   {
    "duration": 21,
    "start_time": "2024-11-12T22:26:15.966Z"
   },
   {
    "duration": 2,
    "start_time": "2024-11-12T22:26:15.991Z"
   },
   {
    "duration": 100259,
    "start_time": "2024-11-12T22:26:16.020Z"
   },
   {
    "duration": 558,
    "start_time": "2024-11-12T22:27:56.281Z"
   },
   {
    "duration": 3,
    "start_time": "2024-11-12T22:27:56.840Z"
   },
   {
    "duration": 1372,
    "start_time": "2024-11-12T22:31:41.316Z"
   },
   {
    "duration": 3,
    "start_time": "2024-11-12T22:31:42.690Z"
   },
   {
    "duration": 15828,
    "start_time": "2024-11-12T22:31:42.694Z"
   },
   {
    "duration": 9528,
    "start_time": "2024-11-12T22:31:58.525Z"
   },
   {
    "duration": 1212,
    "start_time": "2024-11-12T22:32:08.055Z"
   },
   {
    "duration": 765,
    "start_time": "2024-11-12T22:32:09.269Z"
   },
   {
    "duration": 15,
    "start_time": "2024-11-12T22:32:10.037Z"
   },
   {
    "duration": 4,
    "start_time": "2024-11-12T22:32:10.120Z"
   },
   {
    "duration": 2423,
    "start_time": "2024-11-12T22:32:10.126Z"
   },
   {
    "duration": 4879,
    "start_time": "2024-11-12T22:32:12.552Z"
   },
   {
    "duration": 3426,
    "start_time": "2024-11-12T22:32:17.433Z"
   },
   {
    "duration": 1475,
    "start_time": "2024-11-12T22:32:20.860Z"
   },
   {
    "duration": 4412,
    "start_time": "2024-11-12T22:32:22.337Z"
   },
   {
    "duration": 3174,
    "start_time": "2024-11-12T22:32:26.750Z"
   },
   {
    "duration": 198,
    "start_time": "2024-11-12T22:32:29.927Z"
   },
   {
    "duration": 31,
    "start_time": "2024-11-12T22:32:30.127Z"
   },
   {
    "duration": 96,
    "start_time": "2024-11-12T22:32:30.160Z"
   },
   {
    "duration": 71,
    "start_time": "2024-11-12T22:32:30.258Z"
   },
   {
    "duration": 7,
    "start_time": "2024-11-12T22:32:30.331Z"
   },
   {
    "duration": 18,
    "start_time": "2024-11-12T22:32:30.340Z"
   },
   {
    "duration": 69,
    "start_time": "2024-11-12T22:32:30.359Z"
   },
   {
    "duration": 7,
    "start_time": "2024-11-12T22:32:30.430Z"
   },
   {
    "duration": 5421,
    "start_time": "2024-11-12T22:32:30.439Z"
   },
   {
    "duration": 7,
    "start_time": "2024-11-12T22:32:35.862Z"
   },
   {
    "duration": 140593,
    "start_time": "2024-11-12T22:32:35.871Z"
   },
   {
    "duration": 76273,
    "start_time": "2024-11-12T22:34:56.466Z"
   },
   {
    "duration": 21,
    "start_time": "2024-11-12T22:36:12.741Z"
   },
   {
    "duration": 3,
    "start_time": "2024-11-12T22:36:12.765Z"
   },
   {
    "duration": 98671,
    "start_time": "2024-11-12T22:36:12.769Z"
   },
   {
    "duration": 290,
    "start_time": "2024-11-12T22:37:51.442Z"
   },
   {
    "duration": 1308,
    "start_time": "2024-11-12T22:49:02.653Z"
   },
   {
    "duration": 4,
    "start_time": "2024-11-12T22:49:03.963Z"
   },
   {
    "duration": 15777,
    "start_time": "2024-11-12T22:49:03.968Z"
   },
   {
    "duration": 8874,
    "start_time": "2024-11-12T22:49:19.748Z"
   },
   {
    "duration": 1121,
    "start_time": "2024-11-12T22:49:28.625Z"
   },
   {
    "duration": 787,
    "start_time": "2024-11-12T22:49:29.748Z"
   },
   {
    "duration": 16,
    "start_time": "2024-11-12T22:49:30.537Z"
   },
   {
    "duration": 92,
    "start_time": "2024-11-12T22:49:30.555Z"
   },
   {
    "duration": 2279,
    "start_time": "2024-11-12T22:49:30.649Z"
   },
   {
    "duration": 4920,
    "start_time": "2024-11-12T22:49:32.931Z"
   },
   {
    "duration": 3598,
    "start_time": "2024-11-12T22:49:37.853Z"
   },
   {
    "duration": 1405,
    "start_time": "2024-11-12T22:49:41.453Z"
   },
   {
    "duration": 4207,
    "start_time": "2024-11-12T22:49:42.920Z"
   },
   {
    "duration": 2912,
    "start_time": "2024-11-12T22:49:47.129Z"
   },
   {
    "duration": 191,
    "start_time": "2024-11-12T22:49:50.043Z"
   },
   {
    "duration": 27,
    "start_time": "2024-11-12T22:49:50.236Z"
   },
   {
    "duration": 81,
    "start_time": "2024-11-12T22:49:50.265Z"
   },
   {
    "duration": 13,
    "start_time": "2024-11-12T22:49:50.348Z"
   },
   {
    "duration": 8,
    "start_time": "2024-11-12T22:49:50.363Z"
   },
   {
    "duration": 3,
    "start_time": "2024-11-12T22:49:50.421Z"
   },
   {
    "duration": 103,
    "start_time": "2024-11-12T22:49:50.426Z"
   },
   {
    "duration": 13,
    "start_time": "2024-11-12T22:49:50.531Z"
   },
   {
    "duration": 4774,
    "start_time": "2024-11-12T22:49:50.547Z"
   },
   {
    "duration": 6,
    "start_time": "2024-11-12T22:49:55.324Z"
   },
   {
    "duration": 144591,
    "start_time": "2024-11-12T22:49:55.332Z"
   },
   {
    "duration": 96157,
    "start_time": "2024-11-12T22:52:19.926Z"
   },
   {
    "duration": 56,
    "start_time": "2024-11-12T22:53:56.085Z"
   },
   {
    "duration": 3,
    "start_time": "2024-11-12T22:53:56.144Z"
   },
   {
    "duration": 96540,
    "start_time": "2024-11-12T22:53:56.149Z"
   },
   {
    "duration": 487,
    "start_time": "2024-11-12T22:55:32.691Z"
   },
   {
    "duration": 1349,
    "start_time": "2024-11-12T22:56:08.910Z"
   },
   {
    "duration": 3,
    "start_time": "2024-11-12T22:56:10.261Z"
   },
   {
    "duration": 118,
    "start_time": "2024-11-12T22:56:10.265Z"
   },
   {
    "duration": 0,
    "start_time": "2024-11-12T22:56:10.385Z"
   },
   {
    "duration": 0,
    "start_time": "2024-11-12T22:56:10.386Z"
   },
   {
    "duration": 0,
    "start_time": "2024-11-12T22:56:10.387Z"
   },
   {
    "duration": 0,
    "start_time": "2024-11-12T22:56:10.388Z"
   },
   {
    "duration": 0,
    "start_time": "2024-11-12T22:56:10.389Z"
   },
   {
    "duration": 0,
    "start_time": "2024-11-12T22:56:10.389Z"
   },
   {
    "duration": 0,
    "start_time": "2024-11-12T22:56:10.391Z"
   },
   {
    "duration": 0,
    "start_time": "2024-11-12T22:56:10.391Z"
   },
   {
    "duration": 0,
    "start_time": "2024-11-12T22:56:10.393Z"
   },
   {
    "duration": 0,
    "start_time": "2024-11-12T22:56:10.394Z"
   },
   {
    "duration": 0,
    "start_time": "2024-11-12T22:56:10.395Z"
   },
   {
    "duration": 0,
    "start_time": "2024-11-12T22:56:10.396Z"
   },
   {
    "duration": 0,
    "start_time": "2024-11-12T22:56:10.396Z"
   },
   {
    "duration": 0,
    "start_time": "2024-11-12T22:56:10.398Z"
   },
   {
    "duration": 0,
    "start_time": "2024-11-12T22:56:10.420Z"
   },
   {
    "duration": 0,
    "start_time": "2024-11-12T22:56:10.421Z"
   },
   {
    "duration": 0,
    "start_time": "2024-11-12T22:56:10.422Z"
   },
   {
    "duration": 0,
    "start_time": "2024-11-12T22:56:10.423Z"
   },
   {
    "duration": 0,
    "start_time": "2024-11-12T22:56:10.423Z"
   },
   {
    "duration": 0,
    "start_time": "2024-11-12T22:56:10.424Z"
   },
   {
    "duration": 0,
    "start_time": "2024-11-12T22:56:10.425Z"
   },
   {
    "duration": 0,
    "start_time": "2024-11-12T22:56:10.425Z"
   },
   {
    "duration": 0,
    "start_time": "2024-11-12T22:56:10.426Z"
   },
   {
    "duration": 0,
    "start_time": "2024-11-12T22:56:10.427Z"
   },
   {
    "duration": 0,
    "start_time": "2024-11-12T22:56:10.428Z"
   },
   {
    "duration": 0,
    "start_time": "2024-11-12T22:56:10.428Z"
   },
   {
    "duration": 0,
    "start_time": "2024-11-12T22:56:10.429Z"
   },
   {
    "duration": 0,
    "start_time": "2024-11-12T22:56:10.430Z"
   },
   {
    "duration": 1347,
    "start_time": "2024-11-12T22:56:40.183Z"
   },
   {
    "duration": 3,
    "start_time": "2024-11-12T22:56:41.531Z"
   },
   {
    "duration": 111,
    "start_time": "2024-11-12T22:56:41.536Z"
   },
   {
    "duration": 0,
    "start_time": "2024-11-12T22:56:41.650Z"
   },
   {
    "duration": 0,
    "start_time": "2024-11-12T22:56:41.651Z"
   },
   {
    "duration": 0,
    "start_time": "2024-11-12T22:56:41.652Z"
   },
   {
    "duration": 0,
    "start_time": "2024-11-12T22:56:41.653Z"
   },
   {
    "duration": 0,
    "start_time": "2024-11-12T22:56:41.654Z"
   },
   {
    "duration": 0,
    "start_time": "2024-11-12T22:56:41.655Z"
   },
   {
    "duration": 0,
    "start_time": "2024-11-12T22:56:41.657Z"
   },
   {
    "duration": 0,
    "start_time": "2024-11-12T22:56:41.658Z"
   },
   {
    "duration": 0,
    "start_time": "2024-11-12T22:56:41.659Z"
   },
   {
    "duration": 0,
    "start_time": "2024-11-12T22:56:41.660Z"
   },
   {
    "duration": 0,
    "start_time": "2024-11-12T22:56:41.661Z"
   },
   {
    "duration": 0,
    "start_time": "2024-11-12T22:56:41.662Z"
   },
   {
    "duration": 0,
    "start_time": "2024-11-12T22:56:41.664Z"
   },
   {
    "duration": 0,
    "start_time": "2024-11-12T22:56:41.665Z"
   },
   {
    "duration": 0,
    "start_time": "2024-11-12T22:56:41.667Z"
   },
   {
    "duration": 0,
    "start_time": "2024-11-12T22:56:41.668Z"
   },
   {
    "duration": 1,
    "start_time": "2024-11-12T22:56:41.669Z"
   },
   {
    "duration": 0,
    "start_time": "2024-11-12T22:56:41.671Z"
   },
   {
    "duration": 0,
    "start_time": "2024-11-12T22:56:41.672Z"
   },
   {
    "duration": 0,
    "start_time": "2024-11-12T22:56:41.673Z"
   },
   {
    "duration": 0,
    "start_time": "2024-11-12T22:56:41.675Z"
   },
   {
    "duration": 0,
    "start_time": "2024-11-12T22:56:41.676Z"
   },
   {
    "duration": 0,
    "start_time": "2024-11-12T22:56:41.677Z"
   },
   {
    "duration": 0,
    "start_time": "2024-11-12T22:56:41.719Z"
   },
   {
    "duration": 0,
    "start_time": "2024-11-12T22:56:41.721Z"
   },
   {
    "duration": 0,
    "start_time": "2024-11-12T22:56:41.722Z"
   },
   {
    "duration": 0,
    "start_time": "2024-11-12T22:56:41.723Z"
   },
   {
    "duration": 0,
    "start_time": "2024-11-12T22:56:41.724Z"
   },
   {
    "duration": 1365,
    "start_time": "2024-11-12T22:57:31.225Z"
   },
   {
    "duration": 4,
    "start_time": "2024-11-12T22:57:32.592Z"
   },
   {
    "duration": 118,
    "start_time": "2024-11-12T22:57:32.598Z"
   },
   {
    "duration": 0,
    "start_time": "2024-11-12T22:57:32.720Z"
   },
   {
    "duration": 0,
    "start_time": "2024-11-12T22:57:32.722Z"
   },
   {
    "duration": 0,
    "start_time": "2024-11-12T22:57:32.724Z"
   },
   {
    "duration": 0,
    "start_time": "2024-11-12T22:57:32.725Z"
   },
   {
    "duration": 0,
    "start_time": "2024-11-12T22:57:32.727Z"
   },
   {
    "duration": 0,
    "start_time": "2024-11-12T22:57:32.729Z"
   },
   {
    "duration": 0,
    "start_time": "2024-11-12T22:57:32.730Z"
   },
   {
    "duration": 0,
    "start_time": "2024-11-12T22:57:32.732Z"
   },
   {
    "duration": 0,
    "start_time": "2024-11-12T22:57:32.734Z"
   },
   {
    "duration": 0,
    "start_time": "2024-11-12T22:57:32.735Z"
   },
   {
    "duration": 0,
    "start_time": "2024-11-12T22:57:32.737Z"
   },
   {
    "duration": 0,
    "start_time": "2024-11-12T22:57:32.738Z"
   },
   {
    "duration": 0,
    "start_time": "2024-11-12T22:57:32.739Z"
   },
   {
    "duration": 0,
    "start_time": "2024-11-12T22:57:32.741Z"
   },
   {
    "duration": 0,
    "start_time": "2024-11-12T22:57:32.743Z"
   },
   {
    "duration": 0,
    "start_time": "2024-11-12T22:57:32.744Z"
   },
   {
    "duration": 0,
    "start_time": "2024-11-12T22:57:32.746Z"
   },
   {
    "duration": 0,
    "start_time": "2024-11-12T22:57:32.747Z"
   },
   {
    "duration": 1,
    "start_time": "2024-11-12T22:57:32.748Z"
   },
   {
    "duration": 0,
    "start_time": "2024-11-12T22:57:32.751Z"
   },
   {
    "duration": 0,
    "start_time": "2024-11-12T22:57:32.752Z"
   },
   {
    "duration": 0,
    "start_time": "2024-11-12T22:57:32.753Z"
   },
   {
    "duration": 0,
    "start_time": "2024-11-12T22:57:32.755Z"
   },
   {
    "duration": 0,
    "start_time": "2024-11-12T22:57:32.756Z"
   },
   {
    "duration": 0,
    "start_time": "2024-11-12T22:57:32.758Z"
   },
   {
    "duration": 0,
    "start_time": "2024-11-12T22:57:32.760Z"
   },
   {
    "duration": 0,
    "start_time": "2024-11-12T22:57:32.761Z"
   },
   {
    "duration": 0,
    "start_time": "2024-11-12T22:57:32.821Z"
   },
   {
    "duration": 1314,
    "start_time": "2024-11-12T22:58:37.240Z"
   },
   {
    "duration": 3,
    "start_time": "2024-11-12T22:58:38.556Z"
   },
   {
    "duration": 19,
    "start_time": "2024-11-12T22:58:38.560Z"
   },
   {
    "duration": 15647,
    "start_time": "2024-11-12T22:58:38.581Z"
   },
   {
    "duration": 8913,
    "start_time": "2024-11-12T22:58:54.230Z"
   },
   {
    "duration": 1178,
    "start_time": "2024-11-12T22:59:03.146Z"
   },
   {
    "duration": 718,
    "start_time": "2024-11-12T22:59:04.325Z"
   },
   {
    "duration": 93,
    "start_time": "2024-11-12T22:59:05.045Z"
   },
   {
    "duration": 3,
    "start_time": "2024-11-12T22:59:05.140Z"
   },
   {
    "duration": 2397,
    "start_time": "2024-11-12T22:59:05.146Z"
   },
   {
    "duration": 4743,
    "start_time": "2024-11-12T22:59:07.545Z"
   },
   {
    "duration": 3662,
    "start_time": "2024-11-12T22:59:12.290Z"
   },
   {
    "duration": 1286,
    "start_time": "2024-11-12T22:59:15.955Z"
   },
   {
    "duration": 4194,
    "start_time": "2024-11-12T22:59:17.242Z"
   },
   {
    "duration": 2983,
    "start_time": "2024-11-12T22:59:21.438Z"
   },
   {
    "duration": 115,
    "start_time": "2024-11-12T22:59:24.423Z"
   },
   {
    "duration": 91,
    "start_time": "2024-11-12T22:59:24.540Z"
   },
   {
    "duration": 36,
    "start_time": "2024-11-12T22:59:24.633Z"
   },
   {
    "duration": 12,
    "start_time": "2024-11-12T22:59:24.671Z"
   },
   {
    "duration": 36,
    "start_time": "2024-11-12T22:59:24.685Z"
   },
   {
    "duration": 3,
    "start_time": "2024-11-12T22:59:24.723Z"
   },
   {
    "duration": 102,
    "start_time": "2024-11-12T22:59:24.728Z"
   },
   {
    "duration": 13,
    "start_time": "2024-11-12T22:59:24.831Z"
   },
   {
    "duration": 5556,
    "start_time": "2024-11-12T22:59:24.845Z"
   },
   {
    "duration": 6,
    "start_time": "2024-11-12T22:59:30.404Z"
   },
   {
    "duration": 152003,
    "start_time": "2024-11-12T22:59:30.420Z"
   },
   {
    "duration": 70225,
    "start_time": "2024-11-12T23:02:02.426Z"
   },
   {
    "duration": 72,
    "start_time": "2024-11-12T23:03:12.654Z"
   },
   {
    "duration": 7,
    "start_time": "2024-11-12T23:03:12.734Z"
   },
   {
    "duration": 98325,
    "start_time": "2024-11-12T23:03:12.743Z"
   },
   {
    "duration": 692,
    "start_time": "2024-11-12T23:04:51.070Z"
   },
   {
    "duration": 1408,
    "start_time": "2024-11-12T23:07:33.838Z"
   },
   {
    "duration": 3,
    "start_time": "2024-11-12T23:07:35.248Z"
   },
   {
    "duration": 43,
    "start_time": "2024-11-12T23:07:35.253Z"
   },
   {
    "duration": 16840,
    "start_time": "2024-11-12T23:07:35.298Z"
   },
   {
    "duration": 9793,
    "start_time": "2024-11-12T23:07:52.141Z"
   },
   {
    "duration": 1403,
    "start_time": "2024-11-12T23:08:01.936Z"
   },
   {
    "duration": 791,
    "start_time": "2024-11-12T23:08:03.341Z"
   },
   {
    "duration": 90,
    "start_time": "2024-11-12T23:08:04.133Z"
   },
   {
    "duration": 5,
    "start_time": "2024-11-12T23:08:04.227Z"
   },
   {
    "duration": 2499,
    "start_time": "2024-11-12T23:08:04.235Z"
   },
   {
    "duration": 6014,
    "start_time": "2024-11-12T23:08:06.736Z"
   },
   {
    "duration": 4304,
    "start_time": "2024-11-12T23:08:12.752Z"
   },
   {
    "duration": 1698,
    "start_time": "2024-11-12T23:08:17.058Z"
   },
   {
    "duration": 4482,
    "start_time": "2024-11-12T23:08:18.757Z"
   },
   {
    "duration": 3081,
    "start_time": "2024-11-12T23:08:23.241Z"
   },
   {
    "duration": 134,
    "start_time": "2024-11-12T23:08:26.325Z"
   },
   {
    "duration": 30,
    "start_time": "2024-11-12T23:08:26.526Z"
   },
   {
    "duration": 94,
    "start_time": "2024-11-12T23:08:26.558Z"
   },
   {
    "duration": 14,
    "start_time": "2024-11-12T23:08:26.654Z"
   },
   {
    "duration": 65,
    "start_time": "2024-11-12T23:08:26.669Z"
   },
   {
    "duration": 3,
    "start_time": "2024-11-12T23:08:26.736Z"
   },
   {
    "duration": 82,
    "start_time": "2024-11-12T23:08:26.741Z"
   },
   {
    "duration": 31,
    "start_time": "2024-11-12T23:08:26.825Z"
   },
   {
    "duration": 5627,
    "start_time": "2024-11-12T23:08:26.858Z"
   },
   {
    "duration": 5,
    "start_time": "2024-11-12T23:08:32.487Z"
   },
   {
    "duration": 158443,
    "start_time": "2024-11-12T23:08:32.494Z"
   },
   {
    "duration": 103106,
    "start_time": "2024-11-12T23:11:10.939Z"
   },
   {
    "duration": 89,
    "start_time": "2024-11-12T23:12:54.049Z"
   },
   {
    "duration": 3,
    "start_time": "2024-11-12T23:12:54.140Z"
   },
   {
    "duration": 101419,
    "start_time": "2024-11-12T23:12:54.146Z"
   },
   {
    "duration": 663,
    "start_time": "2024-11-12T23:14:35.567Z"
   },
   {
    "duration": 1281,
    "start_time": "2024-11-12T23:16:03.271Z"
   },
   {
    "duration": 3,
    "start_time": "2024-11-12T23:16:04.554Z"
   },
   {
    "duration": 102,
    "start_time": "2024-11-12T23:16:04.559Z"
   },
   {
    "duration": 15583,
    "start_time": "2024-11-12T23:16:04.663Z"
   },
   {
    "duration": 8907,
    "start_time": "2024-11-12T23:16:20.248Z"
   },
   {
    "duration": 1112,
    "start_time": "2024-11-12T23:16:29.220Z"
   },
   {
    "duration": 609,
    "start_time": "2024-11-12T23:16:30.333Z"
   },
   {
    "duration": 81,
    "start_time": "2024-11-12T23:16:30.944Z"
   },
   {
    "duration": 16,
    "start_time": "2024-11-12T23:16:31.027Z"
   },
   {
    "duration": 2181,
    "start_time": "2024-11-12T23:16:31.048Z"
   },
   {
    "duration": 4811,
    "start_time": "2024-11-12T23:16:33.230Z"
   },
   {
    "duration": 3703,
    "start_time": "2024-11-12T23:16:38.044Z"
   },
   {
    "duration": 1472,
    "start_time": "2024-11-12T23:16:41.749Z"
   },
   {
    "duration": 4211,
    "start_time": "2024-11-12T23:16:43.223Z"
   },
   {
    "duration": 2794,
    "start_time": "2024-11-12T23:16:47.436Z"
   },
   {
    "duration": 121,
    "start_time": "2024-11-12T23:16:50.231Z"
   },
   {
    "duration": 95,
    "start_time": "2024-11-12T23:16:50.353Z"
   },
   {
    "duration": 34,
    "start_time": "2024-11-12T23:16:50.450Z"
   },
   {
    "duration": 41,
    "start_time": "2024-11-12T23:16:50.485Z"
   },
   {
    "duration": 7,
    "start_time": "2024-11-12T23:16:50.528Z"
   },
   {
    "duration": 6,
    "start_time": "2024-11-12T23:16:50.537Z"
   },
   {
    "duration": 106,
    "start_time": "2024-11-12T23:16:50.545Z"
   },
   {
    "duration": 13,
    "start_time": "2024-11-12T23:16:50.653Z"
   },
   {
    "duration": 4930,
    "start_time": "2024-11-12T23:16:50.720Z"
   },
   {
    "duration": 5,
    "start_time": "2024-11-12T23:16:55.652Z"
   },
   {
    "duration": 149004,
    "start_time": "2024-11-12T23:16:55.658Z"
   },
   {
    "duration": 74475,
    "start_time": "2024-11-12T23:19:24.664Z"
   },
   {
    "duration": 19,
    "start_time": "2024-11-12T23:20:39.143Z"
   },
   {
    "duration": 13,
    "start_time": "2024-11-12T23:20:39.164Z"
   },
   {
    "duration": 96963,
    "start_time": "2024-11-12T23:20:39.179Z"
   },
   {
    "duration": 330,
    "start_time": "2024-11-12T23:22:16.147Z"
   },
   {
    "duration": 1349,
    "start_time": "2024-11-12T23:31:40.013Z"
   },
   {
    "duration": 2,
    "start_time": "2024-11-12T23:31:41.364Z"
   },
   {
    "duration": 16486,
    "start_time": "2024-11-12T23:31:41.368Z"
   },
   {
    "duration": 10498,
    "start_time": "2024-11-12T23:31:57.857Z"
   },
   {
    "duration": 1273,
    "start_time": "2024-11-12T23:32:08.357Z"
   },
   {
    "duration": 987,
    "start_time": "2024-11-12T23:32:09.635Z"
   },
   {
    "duration": 23,
    "start_time": "2024-11-12T23:32:10.623Z"
   },
   {
    "duration": 82,
    "start_time": "2024-11-12T23:32:10.648Z"
   },
   {
    "duration": 3593,
    "start_time": "2024-11-12T23:32:10.732Z"
   },
   {
    "duration": 5520,
    "start_time": "2024-11-12T23:32:14.329Z"
   },
   {
    "duration": 980,
    "start_time": "2024-11-12T23:32:19.851Z"
   },
   {
    "duration": 0,
    "start_time": "2024-11-12T23:32:20.833Z"
   },
   {
    "duration": 0,
    "start_time": "2024-11-12T23:32:20.834Z"
   },
   {
    "duration": 0,
    "start_time": "2024-11-12T23:32:20.835Z"
   },
   {
    "duration": 0,
    "start_time": "2024-11-12T23:32:20.836Z"
   },
   {
    "duration": 0,
    "start_time": "2024-11-12T23:32:20.837Z"
   },
   {
    "duration": 0,
    "start_time": "2024-11-12T23:32:20.838Z"
   },
   {
    "duration": 0,
    "start_time": "2024-11-12T23:32:20.841Z"
   },
   {
    "duration": 0,
    "start_time": "2024-11-12T23:32:20.842Z"
   },
   {
    "duration": 0,
    "start_time": "2024-11-12T23:32:20.844Z"
   },
   {
    "duration": 0,
    "start_time": "2024-11-12T23:32:20.845Z"
   },
   {
    "duration": 0,
    "start_time": "2024-11-12T23:32:20.847Z"
   },
   {
    "duration": 0,
    "start_time": "2024-11-12T23:32:20.925Z"
   },
   {
    "duration": 0,
    "start_time": "2024-11-12T23:32:20.926Z"
   },
   {
    "duration": 0,
    "start_time": "2024-11-12T23:32:20.928Z"
   },
   {
    "duration": 0,
    "start_time": "2024-11-12T23:32:20.929Z"
   },
   {
    "duration": 0,
    "start_time": "2024-11-12T23:32:20.930Z"
   },
   {
    "duration": 0,
    "start_time": "2024-11-12T23:32:20.932Z"
   },
   {
    "duration": 0,
    "start_time": "2024-11-12T23:32:20.933Z"
   },
   {
    "duration": 0,
    "start_time": "2024-11-12T23:32:20.935Z"
   },
   {
    "duration": 6,
    "start_time": "2024-11-12T23:32:35.996Z"
   },
   {
    "duration": 11,
    "start_time": "2024-11-12T23:32:36.734Z"
   },
   {
    "duration": 3,
    "start_time": "2024-11-12T23:32:48.086Z"
   },
   {
    "duration": 1346,
    "start_time": "2024-11-12T23:34:34.042Z"
   },
   {
    "duration": 3,
    "start_time": "2024-11-12T23:34:35.390Z"
   },
   {
    "duration": 16266,
    "start_time": "2024-11-12T23:34:35.395Z"
   },
   {
    "duration": 9890,
    "start_time": "2024-11-12T23:34:51.663Z"
   },
   {
    "duration": 1293,
    "start_time": "2024-11-12T23:35:01.555Z"
   },
   {
    "duration": 865,
    "start_time": "2024-11-12T23:35:02.858Z"
   },
   {
    "duration": 21,
    "start_time": "2024-11-12T23:35:03.725Z"
   },
   {
    "duration": 5,
    "start_time": "2024-11-12T23:35:03.748Z"
   },
   {
    "duration": 2499,
    "start_time": "2024-11-12T23:35:03.755Z"
   },
   {
    "duration": 5634,
    "start_time": "2024-11-12T23:35:06.329Z"
   },
   {
    "duration": 4467,
    "start_time": "2024-11-12T23:35:11.965Z"
   },
   {
    "duration": 1727,
    "start_time": "2024-11-12T23:35:16.435Z"
   },
   {
    "duration": 4515,
    "start_time": "2024-11-12T23:35:18.222Z"
   },
   {
    "duration": 3298,
    "start_time": "2024-11-12T23:35:22.739Z"
   },
   {
    "duration": 194,
    "start_time": "2024-11-12T23:35:26.039Z"
   },
   {
    "duration": 27,
    "start_time": "2024-11-12T23:35:26.235Z"
   },
   {
    "duration": 58,
    "start_time": "2024-11-12T23:35:26.264Z"
   },
   {
    "duration": 17,
    "start_time": "2024-11-12T23:35:26.326Z"
   },
   {
    "duration": 8,
    "start_time": "2024-11-12T23:35:26.345Z"
   },
   {
    "duration": 4,
    "start_time": "2024-11-12T23:35:26.354Z"
   },
   {
    "duration": 98,
    "start_time": "2024-11-12T23:35:26.359Z"
   },
   {
    "duration": 71,
    "start_time": "2024-11-12T23:35:26.459Z"
   },
   {
    "duration": 5557,
    "start_time": "2024-11-12T23:35:26.533Z"
   },
   {
    "duration": 5,
    "start_time": "2024-11-12T23:35:32.092Z"
   },
   {
    "duration": 168442,
    "start_time": "2024-11-12T23:35:32.099Z"
   },
   {
    "duration": 73067,
    "start_time": "2024-11-12T23:38:20.543Z"
   },
   {
    "duration": 23,
    "start_time": "2024-11-12T23:39:33.627Z"
   },
   {
    "duration": 3,
    "start_time": "2024-11-12T23:39:33.653Z"
   },
   {
    "duration": 100113,
    "start_time": "2024-11-12T23:39:33.658Z"
   },
   {
    "duration": 685,
    "start_time": "2024-11-12T23:41:13.773Z"
   },
   {
    "duration": 1742,
    "start_time": "2025-08-16T21:33:03.694Z"
   },
   {
    "duration": 4,
    "start_time": "2025-08-16T21:33:05.439Z"
   },
   {
    "duration": 19158,
    "start_time": "2025-08-16T21:33:05.446Z"
   },
   {
    "duration": 12378,
    "start_time": "2025-08-16T21:33:24.608Z"
   },
   {
    "duration": 1474,
    "start_time": "2025-08-16T21:33:36.988Z"
   },
   {
    "duration": 999,
    "start_time": "2025-08-16T21:33:38.465Z"
   },
   {
    "duration": 24,
    "start_time": "2025-08-16T21:33:39.467Z"
   },
   {
    "duration": 67,
    "start_time": "2025-08-16T21:33:39.494Z"
   },
   {
    "duration": 2622,
    "start_time": "2025-08-16T21:33:39.564Z"
   },
   {
    "duration": 7699,
    "start_time": "2025-08-16T21:33:42.191Z"
   },
   {
    "duration": 5014,
    "start_time": "2025-08-16T21:33:49.893Z"
   },
   {
    "duration": 1899,
    "start_time": "2025-08-16T21:33:54.962Z"
   },
   {
    "duration": 5708,
    "start_time": "2025-08-16T21:33:56.863Z"
   },
   {
    "duration": 3898,
    "start_time": "2025-08-16T21:34:02.573Z"
   },
   {
    "duration": 220,
    "start_time": "2025-08-16T21:34:06.473Z"
   },
   {
    "duration": 104,
    "start_time": "2025-08-16T21:34:06.697Z"
   },
   {
    "duration": 161,
    "start_time": "2025-08-16T21:34:06.804Z"
   },
   {
    "duration": 21,
    "start_time": "2025-08-16T21:34:06.968Z"
   },
   {
    "duration": 18,
    "start_time": "2025-08-16T21:34:06.992Z"
   },
   {
    "duration": 14,
    "start_time": "2025-08-16T21:34:07.013Z"
   },
   {
    "duration": 96,
    "start_time": "2025-08-16T21:34:07.030Z"
   },
   {
    "duration": 37,
    "start_time": "2025-08-16T21:34:07.129Z"
   },
   {
    "duration": 5829,
    "start_time": "2025-08-16T21:34:07.169Z"
   },
   {
    "duration": 6,
    "start_time": "2025-08-16T21:34:13.000Z"
   },
   {
    "duration": 168256,
    "start_time": "2025-08-16T21:34:13.007Z"
   },
   {
    "duration": 104537,
    "start_time": "2025-08-16T21:37:01.266Z"
   },
   {
    "duration": 32,
    "start_time": "2025-08-16T21:38:45.806Z"
   },
   {
    "duration": 20,
    "start_time": "2025-08-16T21:38:45.842Z"
   },
   {
    "duration": 105825,
    "start_time": "2025-08-16T21:38:45.865Z"
   },
   {
    "duration": 501,
    "start_time": "2025-08-16T21:40:31.693Z"
   }
  ],
  "colab": {
   "name": "PySparkSprint.ipynb",
   "provenance": []
  },
  "kernelspec": {
   "display_name": "Python 3 (ipykernel)",
   "language": "python",
   "name": "python3"
  },
  "language_info": {
   "codemirror_mode": {
    "name": "ipython",
    "version": 3
   },
   "file_extension": ".py",
   "mimetype": "text/x-python",
   "name": "python",
   "nbconvert_exporter": "python",
   "pygments_lexer": "ipython3",
   "version": "3.9.5"
  },
  "toc": {
   "base_numbering": 1,
   "nav_menu": {},
   "number_sections": true,
   "sideBar": true,
   "skip_h1_title": true,
   "title_cell": "Table of Contents",
   "title_sidebar": "Contents",
   "toc_cell": false,
   "toc_position": {
    "height": "calc(100% - 180px)",
    "left": "10px",
    "top": "150px",
    "width": "320px"
   },
   "toc_section_display": true,
   "toc_window_display": true
  }
 },
 "nbformat": 4,
 "nbformat_minor": 5
}
