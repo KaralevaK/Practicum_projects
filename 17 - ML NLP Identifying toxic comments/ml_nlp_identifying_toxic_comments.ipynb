{
 "cells": [
  {
   "cell_type": "markdown",
   "metadata": {},
   "source": [
    "# Проект для «Викишоп»"
   ]
  },
  {
   "cell_type": "markdown",
   "metadata": {},
   "source": [
    "__Заказчик__:  интернет-магазин «Викишоп».\n",
    "\n",
    "__Описание задачи__\n",
    "\n",
    "Интернет-магазин «Викишоп» запускает новый сервис. Теперь пользователи могут редактировать и дополнять описания товаров, как в вики-сообществах. То есть клиенты предлагают свои правки и комментируют изменения других. Магазину нужен инструмент, который будет искать токсичные комментарии и отправлять их на модерацию. \n",
    "\n",
    "__Цель__: разработать модель для классификации комментариев на позитивные и негативные.\n",
    "\n",
    "__Целевая метрика__: *F1* не меньше 0.75. \n",
    "\n",
    "__Описание данных__: Набор данных с разметкой о токсичности комментариев (`comment_toxicity_dataset.csv`). Столбец *text* в нём содержит текст комментария, а *toxic* — целевой признак."
   ]
  },
  {
   "cell_type": "markdown",
   "metadata": {},
   "source": [
    "## Подготовка"
   ]
  },
  {
   "cell_type": "code",
   "execution_count": null,
   "metadata": {},
   "outputs": [],
   "source": [
    "#!pip install -q contractions"
   ]
  },
  {
   "cell_type": "code",
   "execution_count": null,
   "metadata": {},
   "outputs": [],
   "source": [
    "import re\n",
    "\n",
    "import contractions\n",
    "import matplotlib.pyplot as plt\n",
    "import nltk\n",
    "import pandas as pd\n",
    "import seaborn as sns\n",
    "from lightgbm import LGBMClassifier\n",
    "from nltk import pos_tag, word_tokenize\n",
    "from nltk.corpus import stopwords\n",
    "from nltk.stem import WordNetLemmatizer\n",
    "from sklearn.ensemble import RandomForestClassifier\n",
    "from sklearn.feature_extraction.text import TfidfVectorizer\n",
    "from sklearn.linear_model import LogisticRegression\n",
    "from sklearn.metrics import confusion_matrix, f1_score\n",
    "from sklearn.model_selection import train_test_split, GridSearchCV\n",
    "from sklearn.pipeline import Pipeline\n",
    "from sklearn.tree import DecisionTreeClassifier\n",
    "\n",
    "# константы\n",
    "RANDOM_SEED = 57\n",
    "RANDOM_STATE = 42"
   ]
  },
  {
   "cell_type": "code",
   "execution_count": 4,
   "metadata": {},
   "outputs": [
    {
     "name": "stderr",
     "output_type": "stream",
     "text": [
      "[nltk_data] Downloading package stopwords to\n",
      "[nltk_data]     C:\\Users\\PC\\AppData\\Roaming\\nltk_data...\n",
      "[nltk_data]   Package stopwords is already up-to-date!\n",
      "[nltk_data] Downloading package wordnet to\n",
      "[nltk_data]     C:\\Users\\PC\\AppData\\Roaming\\nltk_data...\n",
      "[nltk_data]   Package wordnet is already up-to-date!\n",
      "[nltk_data] Downloading package averaged_perceptron_tagger to\n",
      "[nltk_data]     C:\\Users\\PC\\AppData\\Roaming\\nltk_data...\n",
      "[nltk_data]   Package averaged_perceptron_tagger is already up-to-\n",
      "[nltk_data]       date!\n"
     ]
    },
    {
     "data": {
      "text/plain": [
       "True"
      ]
     },
     "execution_count": 4,
     "metadata": {},
     "output_type": "execute_result"
    }
   ],
   "source": [
    "# для удаления стоп-слов\n",
    "nltk.download('stopwords')\n",
    "# для лемматизации\n",
    "nltk.download('wordnet')\n",
    "# для POS-тегирования\n",
    "nltk.download('averaged_perceptron_tagger')"
   ]
  },
  {
   "cell_type": "markdown",
   "metadata": {},
   "source": [
    "### Загрузка и обзор данных"
   ]
  },
  {
   "cell_type": "code",
   "execution_count": null,
   "metadata": {},
   "outputs": [],
   "source": [
    "data = pd.read_csv('/datasets/comment_toxicity_dataset.csv')"
   ]
  },
  {
   "cell_type": "code",
   "execution_count": 6,
   "metadata": {},
   "outputs": [
    {
     "data": {
      "text/html": [
       "<div>\n",
       "<style scoped>\n",
       "    .dataframe tbody tr th:only-of-type {\n",
       "        vertical-align: middle;\n",
       "    }\n",
       "\n",
       "    .dataframe tbody tr th {\n",
       "        vertical-align: top;\n",
       "    }\n",
       "\n",
       "    .dataframe thead th {\n",
       "        text-align: right;\n",
       "    }\n",
       "</style>\n",
       "<table border=\"1\" class=\"dataframe\">\n",
       "  <thead>\n",
       "    <tr style=\"text-align: right;\">\n",
       "      <th></th>\n",
       "      <th>Unnamed: 0</th>\n",
       "      <th>text</th>\n",
       "      <th>toxic</th>\n",
       "    </tr>\n",
       "  </thead>\n",
       "  <tbody>\n",
       "    <tr>\n",
       "      <th>125513</th>\n",
       "      <td>125642</td>\n",
       "      <td>So it both?\\nCould animes be longer? —</td>\n",
       "      <td>0</td>\n",
       "    </tr>\n",
       "    <tr>\n",
       "      <th>137061</th>\n",
       "      <td>137199</td>\n",
       "      <td>Dick Merrill \\n\\nI think it was great of you t...</td>\n",
       "      <td>0</td>\n",
       "    </tr>\n",
       "    <tr>\n",
       "      <th>121568</th>\n",
       "      <td>121673</td>\n",
       "      <td>Please unblock .75 and .252.  I can personally...</td>\n",
       "      <td>1</td>\n",
       "    </tr>\n",
       "    <tr>\n",
       "      <th>137030</th>\n",
       "      <td>137168</td>\n",
       "      <td>\"\\n Sorry, I overlooked a miniscule \"\"cc-by-sa...</td>\n",
       "      <td>0</td>\n",
       "    </tr>\n",
       "    <tr>\n",
       "      <th>116902</th>\n",
       "      <td>117001</td>\n",
       "      <td>As long as this encyclopedia is administered b...</td>\n",
       "      <td>0</td>\n",
       "    </tr>\n",
       "    <tr>\n",
       "      <th>20579</th>\n",
       "      <td>20599</td>\n",
       "      <td>We should not include house of lords since the...</td>\n",
       "      <td>0</td>\n",
       "    </tr>\n",
       "    <tr>\n",
       "      <th>145759</th>\n",
       "      <td>145915</td>\n",
       "      <td>\"\\n\\nRegarding edits made during October 28 20...</td>\n",
       "      <td>0</td>\n",
       "    </tr>\n",
       "    <tr>\n",
       "      <th>23583</th>\n",
       "      <td>23603</td>\n",
       "      <td>April 2013\\nSorry.  Won't happen again.  I'm n...</td>\n",
       "      <td>0</td>\n",
       "    </tr>\n",
       "    <tr>\n",
       "      <th>132082</th>\n",
       "      <td>132218</td>\n",
       "      <td>One more history merge \\n\\nDear Mark:\\n\\nIf yo...</td>\n",
       "      <td>0</td>\n",
       "    </tr>\n",
       "    <tr>\n",
       "      <th>42961</th>\n",
       "      <td>43011</td>\n",
       "      <td>\"\\n\\nWikipedia is supposed to be non-partial. ...</td>\n",
       "      <td>0</td>\n",
       "    </tr>\n",
       "  </tbody>\n",
       "</table>\n",
       "</div>"
      ],
      "text/plain": [
       "        Unnamed: 0                                               text  toxic\n",
       "125513      125642             So it both?\\nCould animes be longer? —      0\n",
       "137061      137199  Dick Merrill \\n\\nI think it was great of you t...      0\n",
       "121568      121673  Please unblock .75 and .252.  I can personally...      1\n",
       "137030      137168  \"\\n Sorry, I overlooked a miniscule \"\"cc-by-sa...      0\n",
       "116902      117001  As long as this encyclopedia is administered b...      0\n",
       "20579        20599  We should not include house of lords since the...      0\n",
       "145759      145915  \"\\n\\nRegarding edits made during October 28 20...      0\n",
       "23583        23603  April 2013\\nSorry.  Won't happen again.  I'm n...      0\n",
       "132082      132218  One more history merge \\n\\nDear Mark:\\n\\nIf yo...      0\n",
       "42961        43011  \"\\n\\nWikipedia is supposed to be non-partial. ...      0"
      ]
     },
     "execution_count": 6,
     "metadata": {},
     "output_type": "execute_result"
    }
   ],
   "source": [
    "data.sample(10)"
   ]
  },
  {
   "cell_type": "code",
   "execution_count": 7,
   "metadata": {},
   "outputs": [],
   "source": [
    "data = data.drop('Unnamed: 0', axis=1)"
   ]
  },
  {
   "cell_type": "code",
   "execution_count": 8,
   "metadata": {},
   "outputs": [
    {
     "name": "stdout",
     "output_type": "stream",
     "text": [
      "<class 'pandas.core.frame.DataFrame'>\n",
      "RangeIndex: 159292 entries, 0 to 159291\n",
      "Data columns (total 2 columns):\n",
      " #   Column  Non-Null Count   Dtype \n",
      "---  ------  --------------   ----- \n",
      " 0   text    159292 non-null  object\n",
      " 1   toxic   159292 non-null  int64 \n",
      "dtypes: int64(1), object(1)\n",
      "memory usage: 2.4+ MB\n"
     ]
    }
   ],
   "source": [
    "data.info()"
   ]
  },
  {
   "cell_type": "code",
   "execution_count": 9,
   "metadata": {},
   "outputs": [
    {
     "data": {
      "text/plain": [
       "0    0.898388\n",
       "1    0.101612\n",
       "Name: toxic, dtype: float64"
      ]
     },
     "execution_count": 9,
     "metadata": {},
     "output_type": "execute_result"
    }
   ],
   "source": [
    "data['toxic'].value_counts(normalize=True)"
   ]
  },
  {
   "cell_type": "code",
   "execution_count": 10,
   "metadata": {},
   "outputs": [
    {
     "data": {
      "text/plain": [
       "0"
      ]
     },
     "execution_count": 10,
     "metadata": {},
     "output_type": "execute_result"
    }
   ],
   "source": [
    "data.duplicated().sum()"
   ]
  },
  {
   "cell_type": "markdown",
   "metadata": {},
   "source": [
    "Мы загрузили данные - 159 292 записей, пропусков и дубликатов нет. Лишний столбец (содержащий индексы) удалили. Типы данных определены верно. Всего 10% из комментариев отмечены как токсичные. Наблюдаем дисбаланс классов в таргете."
   ]
  },
  {
   "cell_type": "markdown",
   "metadata": {},
   "source": [
    "### Очистка и лемматизация текста"
   ]
  },
  {
   "cell_type": "code",
   "execution_count": 11,
   "metadata": {},
   "outputs": [],
   "source": [
    "def clear_text(text):\n",
    "\n",
    "    text = contractions.fix(text)\n",
    "    text = text.lower()\n",
    "    pattern = r\"[^a-z'\\s]\"\n",
    "    t = re.sub(pattern, ' ', text)\n",
    "    return ' '.join(t.split())"
   ]
  },
  {
   "cell_type": "code",
   "execution_count": 12,
   "metadata": {},
   "outputs": [
    {
     "data": {
      "text/plain": [
       "0    explanation why the edits made under my userna...\n",
       "1    d'aww he matches this background colour i am s...\n",
       "2    hey man i am really not trying to edit war it ...\n",
       "3    more i cannot make any real suggestions on imp...\n",
       "4    you sir are my hero any chance you remember wh...\n",
       "Name: prepared_data, dtype: object"
      ]
     },
     "execution_count": 12,
     "metadata": {},
     "output_type": "execute_result"
    }
   ],
   "source": [
    "data['prepared_data'] = data['text'].apply(clear_text)\n",
    "data['prepared_data'].head()"
   ]
  },
  {
   "cell_type": "markdown",
   "metadata": {},
   "source": [
    "Приведем слова к начальной форме - лемме."
   ]
  },
  {
   "cell_type": "code",
   "execution_count": 13,
   "metadata": {},
   "outputs": [],
   "source": [
    "def penn2morphy(penntag):\n",
    "    \"\"\" Converts Penn Treebank tags to WordNet. \"\"\"\n",
    "    morphy_tag = {'NN':'n', 'JJ':'a',\n",
    "                  'VB':'v', 'RB':'r'}\n",
    "    try:\n",
    "        return morphy_tag[penntag[:2]]\n",
    "    except:\n",
    "        return 'n' "
   ]
  },
  {
   "cell_type": "code",
   "execution_count": 14,
   "metadata": {},
   "outputs": [
    {
     "data": {
      "text/plain": [
       "0    explanation why the edits make under my userna...\n",
       "1    d'aww he match this background colour i be see...\n",
       "2    hey man i be really not try to edit war it be ...\n",
       "3    more i can not make any real suggestion on imp...\n",
       "4    you sir be my hero any chance you remember wha...\n",
       "Name: prepared_data, dtype: object"
      ]
     },
     "execution_count": 14,
     "metadata": {},
     "output_type": "execute_result"
    }
   ],
   "source": [
    "lemmatizer = WordNetLemmatizer()\n",
    "data['prepared_data'] = data['prepared_data'].apply(\n",
    "    lambda x: ' '.join([lemmatizer.lemmatize(word, pos=penn2morphy(tag)) for word, tag in pos_tag(word_tokenize(x))]))\n",
    "data['prepared_data'].head()"
   ]
  },
  {
   "cell_type": "code",
   "execution_count": 15,
   "metadata": {},
   "outputs": [
    {
     "data": {
      "text/plain": [
       "1274"
      ]
     },
     "execution_count": 15,
     "metadata": {},
     "output_type": "execute_result"
    }
   ],
   "source": [
    "data.duplicated(subset=['prepared_data', 'toxic']).sum()"
   ]
  },
  {
   "cell_type": "code",
   "execution_count": 16,
   "metadata": {},
   "outputs": [
    {
     "data": {
      "text/plain": [
       "(158018, 3)"
      ]
     },
     "execution_count": 16,
     "metadata": {},
     "output_type": "execute_result"
    }
   ],
   "source": [
    "data = data.drop_duplicates(subset=['prepared_data', 'toxic'])\n",
    "data.shape"
   ]
  },
  {
   "cell_type": "code",
   "execution_count": 17,
   "metadata": {},
   "outputs": [
    {
     "data": {
      "text/plain": [
       "0    0.898379\n",
       "1    0.101621\n",
       "Name: toxic, dtype: float64"
      ]
     },
     "execution_count": 17,
     "metadata": {},
     "output_type": "execute_result"
    }
   ],
   "source": [
    "data['toxic'].value_counts(normalize=True)"
   ]
  },
  {
   "cell_type": "markdown",
   "metadata": {},
   "source": [
    "После удаления дубликатов до и после лемматизации количество записей сократилось до 158018."
   ]
  },
  {
   "cell_type": "markdown",
   "metadata": {},
   "source": [
    "### Подготовка признаков"
   ]
  },
  {
   "cell_type": "code",
   "execution_count": 18,
   "metadata": {},
   "outputs": [],
   "source": [
    "# выделим выборки с учетом страт\n",
    "X_train, X_test, y_train, y_test = train_test_split(\n",
    "    data['prepared_data'],\n",
    "    data['toxic'].values, \n",
    "    test_size = 0.1, \n",
    "    random_state = RANDOM_STATE,\n",
    "    shuffle=True,\n",
    "    stratify = data['toxic'].values)"
   ]
  },
  {
   "cell_type": "code",
   "execution_count": 19,
   "metadata": {},
   "outputs": [],
   "source": [
    "# получение стоп-слов для дальнейшего использования в векторайзере\n",
    "stop_words = set(stopwords.words('english'))"
   ]
  },
  {
   "cell_type": "markdown",
   "metadata": {},
   "source": [
    "## Обучение"
   ]
  },
  {
   "cell_type": "code",
   "execution_count": 20,
   "metadata": {},
   "outputs": [
    {
     "name": "stdout",
     "output_type": "stream",
     "text": [
      "Лучшая модель и ее параметры:{'model': LogisticRegression(C=10, solver='saga'), 'model__C': 10, 'model__class_weight': None}\n",
      "F1 на кросс-валидации:0.7683\n"
     ]
    }
   ],
   "source": [
    "pipeline = Pipeline([\n",
    "    ('tfidf', TfidfVectorizer(stop_words=stop_words, max_features=10000)),\n",
    "    ('model', LogisticRegression())\n",
    "])\n",
    "\n",
    "param_grid = [\n",
    "    {\n",
    "        'model': [LogisticRegression(solver='saga')],\n",
    "        'model__C': [1, 10, 100],\n",
    "        'model__class_weight': [None, 'balanced']\n",
    "    },\n",
    "    {\n",
    "        'model': [RandomForestClassifier(random_state=RANDOM_STATE)],\n",
    "        'model__n_estimators': [100, 300],\n",
    "        'model__max_depth': [5, 10, 15],\n",
    "        'model__class_weight': [None, 'balanced']\n",
    "    },\n",
    "    {\n",
    "        'model': [LGBMClassifier(random_state=RANDOM_STATE)],\n",
    "        'model__num_leaves': [16, 32],\n",
    "        'model__n_estimators': [300, 400],\n",
    "        'model__max_depth': [8, 10]\n",
    "    },\n",
    "    {\n",
    "        'model': [DecisionTreeClassifier(random_state=RANDOM_STATE)],\n",
    "        'model__max_depth': [5, 10],\n",
    "        'model__class_weight': [None, 'balanced'],\n",
    "        'model__min_samples_split': [2, 5]\n",
    "    }\n",
    "]\n",
    "\n",
    "grid_search = GridSearchCV(\n",
    "    estimator=pipeline,\n",
    "    param_grid=param_grid,\n",
    "    cv=5,\n",
    "    scoring='f1',\n",
    "    n_jobs=-1\n",
    ")\n",
    "\n",
    "grid_search.fit(X_train, y_train)\n",
    "\n",
    "# результаты\n",
    "best_model = grid_search.best_estimator_\n",
    "best_params = grid_search.best_params_\n",
    "best_score = grid_search.best_score_\n",
    "print(f'Лучшая модель и ее параметры:{best_params}\\nF1 на кросс-валидации:{best_score:.4f}')"
   ]
  },
  {
   "cell_type": "code",
   "execution_count": 21,
   "metadata": {},
   "outputs": [
    {
     "data": {
      "text/html": [
       "<div>\n",
       "<style scoped>\n",
       "    .dataframe tbody tr th:only-of-type {\n",
       "        vertical-align: middle;\n",
       "    }\n",
       "\n",
       "    .dataframe tbody tr th {\n",
       "        vertical-align: top;\n",
       "    }\n",
       "\n",
       "    .dataframe thead th {\n",
       "        text-align: right;\n",
       "    }\n",
       "</style>\n",
       "<table border=\"1\" class=\"dataframe\">\n",
       "  <thead>\n",
       "    <tr style=\"text-align: right;\">\n",
       "      <th></th>\n",
       "      <th>rank_test_score</th>\n",
       "      <th>param_model</th>\n",
       "      <th>mean_test_score</th>\n",
       "      <th>params</th>\n",
       "    </tr>\n",
       "  </thead>\n",
       "  <tbody>\n",
       "    <tr>\n",
       "      <th>2</th>\n",
       "      <td>1</td>\n",
       "      <td>LogisticRegression(C=10, solver='saga')</td>\n",
       "      <td>0.768343</td>\n",
       "      <td>{'model': LogisticRegression(C=10, solver='saga'), 'model__C': 10, 'model__class_weight': None}</td>\n",
       "    </tr>\n",
       "    <tr>\n",
       "      <th>24</th>\n",
       "      <td>2</td>\n",
       "      <td>LGBMClassifier(random_state=42)</td>\n",
       "      <td>0.753511</td>\n",
       "      <td>{'model': LGBMClassifier(random_state=42), 'model__max_depth': 10, 'model__n_estimators': 400, 'model__num_leaves': 16}</td>\n",
       "    </tr>\n",
       "    <tr>\n",
       "      <th>25</th>\n",
       "      <td>3</td>\n",
       "      <td>LGBMClassifier(random_state=42)</td>\n",
       "      <td>0.751160</td>\n",
       "      <td>{'model': LGBMClassifier(random_state=42), 'model__max_depth': 10, 'model__n_estimators': 400, 'model__num_leaves': 32}</td>\n",
       "    </tr>\n",
       "    <tr>\n",
       "      <th>4</th>\n",
       "      <td>4</td>\n",
       "      <td>LogisticRegression(C=10, solver='saga')</td>\n",
       "      <td>0.749720</td>\n",
       "      <td>{'model': LogisticRegression(C=10, solver='saga'), 'model__C': 100, 'model__class_weight': None}</td>\n",
       "    </tr>\n",
       "    <tr>\n",
       "      <th>20</th>\n",
       "      <td>5</td>\n",
       "      <td>LGBMClassifier(random_state=42)</td>\n",
       "      <td>0.747207</td>\n",
       "      <td>{'model': LGBMClassifier(random_state=42), 'model__max_depth': 8, 'model__n_estimators': 400, 'model__num_leaves': 16}</td>\n",
       "    </tr>\n",
       "    <tr>\n",
       "      <th>21</th>\n",
       "      <td>6</td>\n",
       "      <td>LGBMClassifier(random_state=42)</td>\n",
       "      <td>0.745004</td>\n",
       "      <td>{'model': LGBMClassifier(random_state=42), 'model__max_depth': 8, 'model__n_estimators': 400, 'model__num_leaves': 32}</td>\n",
       "    </tr>\n",
       "    <tr>\n",
       "      <th>22</th>\n",
       "      <td>7</td>\n",
       "      <td>LGBMClassifier(random_state=42)</td>\n",
       "      <td>0.744631</td>\n",
       "      <td>{'model': LGBMClassifier(random_state=42), 'model__max_depth': 10, 'model__n_estimators': 300, 'model__num_leaves': 16}</td>\n",
       "    </tr>\n",
       "    <tr>\n",
       "      <th>23</th>\n",
       "      <td>8</td>\n",
       "      <td>LGBMClassifier(random_state=42)</td>\n",
       "      <td>0.743157</td>\n",
       "      <td>{'model': LGBMClassifier(random_state=42), 'model__max_depth': 10, 'model__n_estimators': 300, 'model__num_leaves': 32}</td>\n",
       "    </tr>\n",
       "    <tr>\n",
       "      <th>0</th>\n",
       "      <td>9</td>\n",
       "      <td>LogisticRegression(C=10, solver='saga')</td>\n",
       "      <td>0.739538</td>\n",
       "      <td>{'model': LogisticRegression(C=10, solver='saga'), 'model__C': 1, 'model__class_weight': None}</td>\n",
       "    </tr>\n",
       "    <tr>\n",
       "      <th>18</th>\n",
       "      <td>10</td>\n",
       "      <td>LGBMClassifier(random_state=42)</td>\n",
       "      <td>0.736145</td>\n",
       "      <td>{'model': LGBMClassifier(random_state=42), 'model__max_depth': 8, 'model__n_estimators': 300, 'model__num_leaves': 16}</td>\n",
       "    </tr>\n",
       "  </tbody>\n",
       "</table>\n",
       "</div>"
      ],
      "text/plain": [
       "    rank_test_score                              param_model  mean_test_score  \\\n",
       "2                 1  LogisticRegression(C=10, solver='saga')         0.768343   \n",
       "24                2          LGBMClassifier(random_state=42)         0.753511   \n",
       "25                3          LGBMClassifier(random_state=42)         0.751160   \n",
       "4                 4  LogisticRegression(C=10, solver='saga')         0.749720   \n",
       "20                5          LGBMClassifier(random_state=42)         0.747207   \n",
       "21                6          LGBMClassifier(random_state=42)         0.745004   \n",
       "22                7          LGBMClassifier(random_state=42)         0.744631   \n",
       "23                8          LGBMClassifier(random_state=42)         0.743157   \n",
       "0                 9  LogisticRegression(C=10, solver='saga')         0.739538   \n",
       "18               10          LGBMClassifier(random_state=42)         0.736145   \n",
       "\n",
       "                                                                                                                     params  \n",
       "2                           {'model': LogisticRegression(C=10, solver='saga'), 'model__C': 10, 'model__class_weight': None}  \n",
       "24  {'model': LGBMClassifier(random_state=42), 'model__max_depth': 10, 'model__n_estimators': 400, 'model__num_leaves': 16}  \n",
       "25  {'model': LGBMClassifier(random_state=42), 'model__max_depth': 10, 'model__n_estimators': 400, 'model__num_leaves': 32}  \n",
       "4                          {'model': LogisticRegression(C=10, solver='saga'), 'model__C': 100, 'model__class_weight': None}  \n",
       "20   {'model': LGBMClassifier(random_state=42), 'model__max_depth': 8, 'model__n_estimators': 400, 'model__num_leaves': 16}  \n",
       "21   {'model': LGBMClassifier(random_state=42), 'model__max_depth': 8, 'model__n_estimators': 400, 'model__num_leaves': 32}  \n",
       "22  {'model': LGBMClassifier(random_state=42), 'model__max_depth': 10, 'model__n_estimators': 300, 'model__num_leaves': 16}  \n",
       "23  {'model': LGBMClassifier(random_state=42), 'model__max_depth': 10, 'model__n_estimators': 300, 'model__num_leaves': 32}  \n",
       "0                            {'model': LogisticRegression(C=10, solver='saga'), 'model__C': 1, 'model__class_weight': None}  \n",
       "18   {'model': LGBMClassifier(random_state=42), 'model__max_depth': 8, 'model__n_estimators': 300, 'model__num_leaves': 16}  "
      ]
     },
     "execution_count": 21,
     "metadata": {},
     "output_type": "execute_result"
    }
   ],
   "source": [
    "results = pd.DataFrame(grid_search.cv_results_)\n",
    "\n",
    "# посмотрим на топ-10\n",
    "top_10 = results[\n",
    "    ['rank_test_score', 'param_model', 'mean_test_score','params']\n",
    "].sort_values(by='rank_test_score').head(10)\n",
    "\n",
    "pd.set_option('display.max_colwidth', None)\n",
    "top_10"
   ]
  },
  {
   "cell_type": "markdown",
   "metadata": {},
   "source": [
    "Нужное значение метрики удается достигнуть только при использовании логистической регрессии и LGBMClassifier."
   ]
  },
  {
   "cell_type": "code",
   "execution_count": 22,
   "metadata": {},
   "outputs": [
    {
     "name": "stdout",
     "output_type": "stream",
     "text": [
      "Test F1 Score: 0.7887\n"
     ]
    }
   ],
   "source": [
    "# оценка лучшей модели на тестовых данных\n",
    "y_pred = best_model.predict(X_test)\n",
    "f1 = f1_score(y_test, y_pred, average='binary')\n",
    "\n",
    "print(f\"Test F1 Score: {f1:.4f}\")"
   ]
  },
  {
   "cell_type": "code",
   "execution_count": 23,
   "metadata": {},
   "outputs": [
    {
     "data": {
      "image/png": "[encoded data removed]",
      "text/plain": [
       "<Figure size 640x480 with 2 Axes>"
      ]
     },
     "metadata": {},
     "output_type": "display_data"
    }
   ],
   "source": [
    "cm = confusion_matrix(y_test, y_pred)\n",
    "sns.heatmap(cm, annot=True, fmt='d', cmap='Blues_r')\n",
    "plt.ylabel('True label')\n",
    "plt.xlabel('Predicted')\n",
    "plt.title('Confusion Matrix')\n",
    "plt.show()"
   ]
  },
  {
   "cell_type": "markdown",
   "metadata": {},
   "source": [
    "Промежуточный вывод: \n",
    "\n",
    "Лучший результат показала модель логистической регрессии с параметрами 'C': 10, 'solver': 'saga', 'class_weight': None, метрика F1 на кросс-валидации - 0.77, на тестовой выборке - 0.79.\n",
    "\n",
    "Модель редко определяет позитивные комментарии как негативные, т.е. сообщений, отправленных на модерацию по ошибке, не так много. Вместе с этим, большое число негативных комментариев пропущено, т.е. модель требует доработки."
   ]
  },
  {
   "cell_type": "markdown",
   "metadata": {},
   "source": [
    "## Выводы"
   ]
  },
  {
   "cell_type": "markdown",
   "metadata": {},
   "source": [
    "Мы работали с датасетом, содержащим данные о токсичности правок. Только 10% комментариев были отмечены как токсичные. Мы очистили и лемматизировали текст, исключили стоп-слова, рассчитали TF-IDF. Обучили несколько моделей, лучшей оказалась модель логистической регрессии с параметрами 'C': 10, 'solver': 'saga', 'class_weight': None,  метрика F1 на кросс-валидации - 0.77, на тестовой выборке - 0.79. Требуемое значение целевой метрики достигнуто. Вместе с этим, при наличии ресурсов рекомендуется доработать модель, чтобы повысить ее способность выявлять негативные комментарии."
   ]
  }
 ],
 "metadata": {
  "kernelspec": {
   "display_name": "Python 3 (ipykernel)",
   "language": "python",
   "name": "python3"
  },
  "language_info": {
   "codemirror_mode": {
    "name": "ipython",
    "version": 3
   },
   "file_extension": ".py",
   "mimetype": "text/x-python",
   "name": "python",
   "nbconvert_exporter": "python",
   "pygments_lexer": "ipython3",
   "version": "3.9.5"
  },
  "toc": {
   "base_numbering": 1,
   "nav_menu": {},
   "number_sections": true,
   "sideBar": true,
   "skip_h1_title": true,
   "title_cell": "Содержание",
   "title_sidebar": "Contents",
   "toc_cell": true,
   "toc_position": {
    "height": "calc(100% - 180px)",
    "left": "10px",
    "top": "150px",
    "width": "302.391px"
   },
   "toc_section_display": true,
   "toc_window_display": false
  }
 },
 "nbformat": 4,
 "nbformat_minor": 2
}
