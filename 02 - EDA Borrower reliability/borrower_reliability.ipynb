{
 "cells": [
  {
   "cell_type": "markdown",
   "id": "95b050fe",
   "metadata": {
    "deletable": false,
    "editable": false,
    "id": "c81daeeb"
   },
   "source": [
    "# Проект: Исследование надежности заемщиков"
   ]
  },
  {
   "cell_type": "markdown",
   "id": "01f209f5",
   "metadata": {},
   "source": [
    "___Заказчик исследования:___\n",
    "кредитный отдел банка. \n",
    "\n",
    "___Главная цель исследования:___ \n",
    "определить, влияет ли семейное положение и количество детей клиента на факт погашения кредита в срок. Результаты исследования будут учтены при построении модели кредитного скоринга — специальной системы, которая оценивает способность потенциального заёмщика вернуть кредит банку.\n",
    "\n",
    "___Данные для анализа:___\n",
    "статистика о платёжеспособности клиентов от банка (файл `borrower_reliability.csv`).\n",
    "\n",
    "__Необходимо учесть:__\n",
    "\n",
    "В зависимости от дохода банк относит клиента к одной из категорий:\n",
    "- 0–30000 — 'E';\n",
    "- 30001–50000 — 'D';\n",
    "- 50001–200000 — 'C';\n",
    "- 200001–1000000 — 'B';\n",
    "- 1000001 и выше — 'A'."
   ]
  },
  {
   "cell_type": "markdown",
   "id": "2f75a851",
   "metadata": {
    "deletable": false,
    "editable": false,
    "id": "744d7639"
   },
   "source": [
    "## Загрузка и обзор данных"
   ]
  },
  {
   "cell_type": "code",
   "execution_count": 1,
   "id": "ec5a0e17",
   "metadata": {},
   "outputs": [],
   "source": [
    "import pandas as pd"
   ]
  },
  {
   "cell_type": "code",
   "execution_count": null,
   "id": "f36b51c1",
   "metadata": {
    "deletable": false,
    "id": "7bcf75c9"
   },
   "outputs": [],
   "source": [
    "data = pd.read_csv('/datasets/borrower_reliability.csv')"
   ]
  },
  {
   "cell_type": "code",
   "execution_count": 3,
   "id": "2225fd3a",
   "metadata": {
    "deletable": false,
    "id": "2a7cab99",
    "outputId": "1a8f3ef2-d323-4ec2-ddf7-89670b5944c4"
   },
   "outputs": [
    {
     "data": {
      "text/html": [
       "<div>\n",
       "<style scoped>\n",
       "    .dataframe tbody tr th:only-of-type {\n",
       "        vertical-align: middle;\n",
       "    }\n",
       "\n",
       "    .dataframe tbody tr th {\n",
       "        vertical-align: top;\n",
       "    }\n",
       "\n",
       "    .dataframe thead th {\n",
       "        text-align: right;\n",
       "    }\n",
       "</style>\n",
       "<table border=\"1\" class=\"dataframe\">\n",
       "  <thead>\n",
       "    <tr style=\"text-align: right;\">\n",
       "      <th></th>\n",
       "      <th>children</th>\n",
       "      <th>days_employed</th>\n",
       "      <th>dob_years</th>\n",
       "      <th>education</th>\n",
       "      <th>education_id</th>\n",
       "      <th>family_status</th>\n",
       "      <th>family_status_id</th>\n",
       "      <th>gender</th>\n",
       "      <th>income_type</th>\n",
       "      <th>debt</th>\n",
       "      <th>total_income</th>\n",
       "      <th>purpose</th>\n",
       "    </tr>\n",
       "  </thead>\n",
       "  <tbody>\n",
       "    <tr>\n",
       "      <th>0</th>\n",
       "      <td>1</td>\n",
       "      <td>-8437.673028</td>\n",
       "      <td>42</td>\n",
       "      <td>высшее</td>\n",
       "      <td>0</td>\n",
       "      <td>женат / замужем</td>\n",
       "      <td>0</td>\n",
       "      <td>F</td>\n",
       "      <td>сотрудник</td>\n",
       "      <td>0</td>\n",
       "      <td>253875.639453</td>\n",
       "      <td>покупка жилья</td>\n",
       "    </tr>\n",
       "    <tr>\n",
       "      <th>1</th>\n",
       "      <td>1</td>\n",
       "      <td>-4024.803754</td>\n",
       "      <td>36</td>\n",
       "      <td>среднее</td>\n",
       "      <td>1</td>\n",
       "      <td>женат / замужем</td>\n",
       "      <td>0</td>\n",
       "      <td>F</td>\n",
       "      <td>сотрудник</td>\n",
       "      <td>0</td>\n",
       "      <td>112080.014102</td>\n",
       "      <td>приобретение автомобиля</td>\n",
       "    </tr>\n",
       "    <tr>\n",
       "      <th>2</th>\n",
       "      <td>0</td>\n",
       "      <td>-5623.422610</td>\n",
       "      <td>33</td>\n",
       "      <td>Среднее</td>\n",
       "      <td>1</td>\n",
       "      <td>женат / замужем</td>\n",
       "      <td>0</td>\n",
       "      <td>M</td>\n",
       "      <td>сотрудник</td>\n",
       "      <td>0</td>\n",
       "      <td>145885.952297</td>\n",
       "      <td>покупка жилья</td>\n",
       "    </tr>\n",
       "    <tr>\n",
       "      <th>3</th>\n",
       "      <td>3</td>\n",
       "      <td>-4124.747207</td>\n",
       "      <td>32</td>\n",
       "      <td>среднее</td>\n",
       "      <td>1</td>\n",
       "      <td>женат / замужем</td>\n",
       "      <td>0</td>\n",
       "      <td>M</td>\n",
       "      <td>сотрудник</td>\n",
       "      <td>0</td>\n",
       "      <td>267628.550329</td>\n",
       "      <td>дополнительное образование</td>\n",
       "    </tr>\n",
       "    <tr>\n",
       "      <th>4</th>\n",
       "      <td>0</td>\n",
       "      <td>340266.072047</td>\n",
       "      <td>53</td>\n",
       "      <td>среднее</td>\n",
       "      <td>1</td>\n",
       "      <td>гражданский брак</td>\n",
       "      <td>1</td>\n",
       "      <td>F</td>\n",
       "      <td>пенсионер</td>\n",
       "      <td>0</td>\n",
       "      <td>158616.077870</td>\n",
       "      <td>сыграть свадьбу</td>\n",
       "    </tr>\n",
       "    <tr>\n",
       "      <th>5</th>\n",
       "      <td>0</td>\n",
       "      <td>-926.185831</td>\n",
       "      <td>27</td>\n",
       "      <td>высшее</td>\n",
       "      <td>0</td>\n",
       "      <td>гражданский брак</td>\n",
       "      <td>1</td>\n",
       "      <td>M</td>\n",
       "      <td>компаньон</td>\n",
       "      <td>0</td>\n",
       "      <td>255763.565419</td>\n",
       "      <td>покупка жилья</td>\n",
       "    </tr>\n",
       "    <tr>\n",
       "      <th>6</th>\n",
       "      <td>0</td>\n",
       "      <td>-2879.202052</td>\n",
       "      <td>43</td>\n",
       "      <td>высшее</td>\n",
       "      <td>0</td>\n",
       "      <td>женат / замужем</td>\n",
       "      <td>0</td>\n",
       "      <td>F</td>\n",
       "      <td>компаньон</td>\n",
       "      <td>0</td>\n",
       "      <td>240525.971920</td>\n",
       "      <td>операции с жильем</td>\n",
       "    </tr>\n",
       "    <tr>\n",
       "      <th>7</th>\n",
       "      <td>0</td>\n",
       "      <td>-152.779569</td>\n",
       "      <td>50</td>\n",
       "      <td>СРЕДНЕЕ</td>\n",
       "      <td>1</td>\n",
       "      <td>женат / замужем</td>\n",
       "      <td>0</td>\n",
       "      <td>M</td>\n",
       "      <td>сотрудник</td>\n",
       "      <td>0</td>\n",
       "      <td>135823.934197</td>\n",
       "      <td>образование</td>\n",
       "    </tr>\n",
       "    <tr>\n",
       "      <th>8</th>\n",
       "      <td>2</td>\n",
       "      <td>-6929.865299</td>\n",
       "      <td>35</td>\n",
       "      <td>ВЫСШЕЕ</td>\n",
       "      <td>0</td>\n",
       "      <td>гражданский брак</td>\n",
       "      <td>1</td>\n",
       "      <td>F</td>\n",
       "      <td>сотрудник</td>\n",
       "      <td>0</td>\n",
       "      <td>95856.832424</td>\n",
       "      <td>на проведение свадьбы</td>\n",
       "    </tr>\n",
       "    <tr>\n",
       "      <th>9</th>\n",
       "      <td>0</td>\n",
       "      <td>-2188.756445</td>\n",
       "      <td>41</td>\n",
       "      <td>среднее</td>\n",
       "      <td>1</td>\n",
       "      <td>женат / замужем</td>\n",
       "      <td>0</td>\n",
       "      <td>M</td>\n",
       "      <td>сотрудник</td>\n",
       "      <td>0</td>\n",
       "      <td>144425.938277</td>\n",
       "      <td>покупка жилья для семьи</td>\n",
       "    </tr>\n",
       "    <tr>\n",
       "      <th>10</th>\n",
       "      <td>2</td>\n",
       "      <td>-4171.483647</td>\n",
       "      <td>36</td>\n",
       "      <td>высшее</td>\n",
       "      <td>0</td>\n",
       "      <td>женат / замужем</td>\n",
       "      <td>0</td>\n",
       "      <td>M</td>\n",
       "      <td>компаньон</td>\n",
       "      <td>0</td>\n",
       "      <td>113943.491460</td>\n",
       "      <td>покупка недвижимости</td>\n",
       "    </tr>\n",
       "    <tr>\n",
       "      <th>11</th>\n",
       "      <td>0</td>\n",
       "      <td>-792.701887</td>\n",
       "      <td>40</td>\n",
       "      <td>среднее</td>\n",
       "      <td>1</td>\n",
       "      <td>женат / замужем</td>\n",
       "      <td>0</td>\n",
       "      <td>F</td>\n",
       "      <td>сотрудник</td>\n",
       "      <td>0</td>\n",
       "      <td>77069.234271</td>\n",
       "      <td>покупка коммерческой недвижимости</td>\n",
       "    </tr>\n",
       "    <tr>\n",
       "      <th>12</th>\n",
       "      <td>0</td>\n",
       "      <td>NaN</td>\n",
       "      <td>65</td>\n",
       "      <td>среднее</td>\n",
       "      <td>1</td>\n",
       "      <td>гражданский брак</td>\n",
       "      <td>1</td>\n",
       "      <td>M</td>\n",
       "      <td>пенсионер</td>\n",
       "      <td>0</td>\n",
       "      <td>NaN</td>\n",
       "      <td>сыграть свадьбу</td>\n",
       "    </tr>\n",
       "    <tr>\n",
       "      <th>13</th>\n",
       "      <td>0</td>\n",
       "      <td>-1846.641941</td>\n",
       "      <td>54</td>\n",
       "      <td>неоконченное высшее</td>\n",
       "      <td>2</td>\n",
       "      <td>женат / замужем</td>\n",
       "      <td>0</td>\n",
       "      <td>F</td>\n",
       "      <td>сотрудник</td>\n",
       "      <td>0</td>\n",
       "      <td>130458.228857</td>\n",
       "      <td>приобретение автомобиля</td>\n",
       "    </tr>\n",
       "    <tr>\n",
       "      <th>14</th>\n",
       "      <td>0</td>\n",
       "      <td>-1844.956182</td>\n",
       "      <td>56</td>\n",
       "      <td>высшее</td>\n",
       "      <td>0</td>\n",
       "      <td>гражданский брак</td>\n",
       "      <td>1</td>\n",
       "      <td>F</td>\n",
       "      <td>компаньон</td>\n",
       "      <td>1</td>\n",
       "      <td>165127.911772</td>\n",
       "      <td>покупка жилой недвижимости</td>\n",
       "    </tr>\n",
       "    <tr>\n",
       "      <th>15</th>\n",
       "      <td>1</td>\n",
       "      <td>-972.364419</td>\n",
       "      <td>26</td>\n",
       "      <td>среднее</td>\n",
       "      <td>1</td>\n",
       "      <td>женат / замужем</td>\n",
       "      <td>0</td>\n",
       "      <td>F</td>\n",
       "      <td>сотрудник</td>\n",
       "      <td>0</td>\n",
       "      <td>116820.904450</td>\n",
       "      <td>строительство собственной недвижимости</td>\n",
       "    </tr>\n",
       "    <tr>\n",
       "      <th>16</th>\n",
       "      <td>0</td>\n",
       "      <td>-1719.934226</td>\n",
       "      <td>35</td>\n",
       "      <td>среднее</td>\n",
       "      <td>1</td>\n",
       "      <td>женат / замужем</td>\n",
       "      <td>0</td>\n",
       "      <td>F</td>\n",
       "      <td>сотрудник</td>\n",
       "      <td>0</td>\n",
       "      <td>289202.704229</td>\n",
       "      <td>недвижимость</td>\n",
       "    </tr>\n",
       "    <tr>\n",
       "      <th>17</th>\n",
       "      <td>0</td>\n",
       "      <td>-2369.999720</td>\n",
       "      <td>33</td>\n",
       "      <td>высшее</td>\n",
       "      <td>0</td>\n",
       "      <td>гражданский брак</td>\n",
       "      <td>1</td>\n",
       "      <td>M</td>\n",
       "      <td>сотрудник</td>\n",
       "      <td>0</td>\n",
       "      <td>90410.586745</td>\n",
       "      <td>строительство недвижимости</td>\n",
       "    </tr>\n",
       "    <tr>\n",
       "      <th>18</th>\n",
       "      <td>0</td>\n",
       "      <td>400281.136913</td>\n",
       "      <td>53</td>\n",
       "      <td>среднее</td>\n",
       "      <td>1</td>\n",
       "      <td>вдовец / вдова</td>\n",
       "      <td>2</td>\n",
       "      <td>F</td>\n",
       "      <td>пенсионер</td>\n",
       "      <td>0</td>\n",
       "      <td>56823.777243</td>\n",
       "      <td>на покупку подержанного автомобиля</td>\n",
       "    </tr>\n",
       "    <tr>\n",
       "      <th>19</th>\n",
       "      <td>0</td>\n",
       "      <td>-10038.818549</td>\n",
       "      <td>48</td>\n",
       "      <td>СРЕДНЕЕ</td>\n",
       "      <td>1</td>\n",
       "      <td>в разводе</td>\n",
       "      <td>3</td>\n",
       "      <td>F</td>\n",
       "      <td>сотрудник</td>\n",
       "      <td>0</td>\n",
       "      <td>242831.107982</td>\n",
       "      <td>на покупку своего автомобиля</td>\n",
       "    </tr>\n",
       "  </tbody>\n",
       "</table>\n",
       "</div>"
      ],
      "text/plain": [
       "    children  days_employed  dob_years            education  education_id  \\\n",
       "0          1   -8437.673028         42               высшее             0   \n",
       "1          1   -4024.803754         36              среднее             1   \n",
       "2          0   -5623.422610         33              Среднее             1   \n",
       "3          3   -4124.747207         32              среднее             1   \n",
       "4          0  340266.072047         53              среднее             1   \n",
       "5          0    -926.185831         27               высшее             0   \n",
       "6          0   -2879.202052         43               высшее             0   \n",
       "7          0    -152.779569         50              СРЕДНЕЕ             1   \n",
       "8          2   -6929.865299         35               ВЫСШЕЕ             0   \n",
       "9          0   -2188.756445         41              среднее             1   \n",
       "10         2   -4171.483647         36               высшее             0   \n",
       "11         0    -792.701887         40              среднее             1   \n",
       "12         0            NaN         65              среднее             1   \n",
       "13         0   -1846.641941         54  неоконченное высшее             2   \n",
       "14         0   -1844.956182         56               высшее             0   \n",
       "15         1    -972.364419         26              среднее             1   \n",
       "16         0   -1719.934226         35              среднее             1   \n",
       "17         0   -2369.999720         33               высшее             0   \n",
       "18         0  400281.136913         53              среднее             1   \n",
       "19         0  -10038.818549         48              СРЕДНЕЕ             1   \n",
       "\n",
       "       family_status  family_status_id gender income_type  debt  \\\n",
       "0    женат / замужем                 0      F   сотрудник     0   \n",
       "1    женат / замужем                 0      F   сотрудник     0   \n",
       "2    женат / замужем                 0      M   сотрудник     0   \n",
       "3    женат / замужем                 0      M   сотрудник     0   \n",
       "4   гражданский брак                 1      F   пенсионер     0   \n",
       "5   гражданский брак                 1      M   компаньон     0   \n",
       "6    женат / замужем                 0      F   компаньон     0   \n",
       "7    женат / замужем                 0      M   сотрудник     0   \n",
       "8   гражданский брак                 1      F   сотрудник     0   \n",
       "9    женат / замужем                 0      M   сотрудник     0   \n",
       "10   женат / замужем                 0      M   компаньон     0   \n",
       "11   женат / замужем                 0      F   сотрудник     0   \n",
       "12  гражданский брак                 1      M   пенсионер     0   \n",
       "13   женат / замужем                 0      F   сотрудник     0   \n",
       "14  гражданский брак                 1      F   компаньон     1   \n",
       "15   женат / замужем                 0      F   сотрудник     0   \n",
       "16   женат / замужем                 0      F   сотрудник     0   \n",
       "17  гражданский брак                 1      M   сотрудник     0   \n",
       "18    вдовец / вдова                 2      F   пенсионер     0   \n",
       "19         в разводе                 3      F   сотрудник     0   \n",
       "\n",
       "     total_income                                 purpose  \n",
       "0   253875.639453                           покупка жилья  \n",
       "1   112080.014102                 приобретение автомобиля  \n",
       "2   145885.952297                           покупка жилья  \n",
       "3   267628.550329              дополнительное образование  \n",
       "4   158616.077870                         сыграть свадьбу  \n",
       "5   255763.565419                           покупка жилья  \n",
       "6   240525.971920                       операции с жильем  \n",
       "7   135823.934197                             образование  \n",
       "8    95856.832424                   на проведение свадьбы  \n",
       "9   144425.938277                 покупка жилья для семьи  \n",
       "10  113943.491460                    покупка недвижимости  \n",
       "11   77069.234271       покупка коммерческой недвижимости  \n",
       "12            NaN                         сыграть свадьбу  \n",
       "13  130458.228857                 приобретение автомобиля  \n",
       "14  165127.911772              покупка жилой недвижимости  \n",
       "15  116820.904450  строительство собственной недвижимости  \n",
       "16  289202.704229                            недвижимость  \n",
       "17   90410.586745              строительство недвижимости  \n",
       "18   56823.777243      на покупку подержанного автомобиля  \n",
       "19  242831.107982            на покупку своего автомобиля  "
      ]
     },
     "execution_count": 3,
     "metadata": {},
     "output_type": "execute_result"
    }
   ],
   "source": [
    "data.head(20)"
   ]
  },
  {
   "cell_type": "code",
   "execution_count": 4,
   "id": "a8c72d21",
   "metadata": {
    "deletable": false,
    "id": "2b757bca",
    "outputId": "15376089-8dad-46c9-b520-c05248d43158"
   },
   "outputs": [
    {
     "name": "stdout",
     "output_type": "stream",
     "text": [
      "<class 'pandas.core.frame.DataFrame'>\n",
      "RangeIndex: 21525 entries, 0 to 21524\n",
      "Data columns (total 12 columns):\n",
      " #   Column            Non-Null Count  Dtype  \n",
      "---  ------            --------------  -----  \n",
      " 0   children          21525 non-null  int64  \n",
      " 1   days_employed     19351 non-null  float64\n",
      " 2   dob_years         21525 non-null  int64  \n",
      " 3   education         21525 non-null  object \n",
      " 4   education_id      21525 non-null  int64  \n",
      " 5   family_status     21525 non-null  object \n",
      " 6   family_status_id  21525 non-null  int64  \n",
      " 7   gender            21525 non-null  object \n",
      " 8   income_type       21525 non-null  object \n",
      " 9   debt              21525 non-null  int64  \n",
      " 10  total_income      19351 non-null  float64\n",
      " 11  purpose           21525 non-null  object \n",
      "dtypes: float64(2), int64(5), object(5)\n",
      "memory usage: 2.0+ MB\n"
     ]
    }
   ],
   "source": [
    "data.info()"
   ]
  },
  {
   "cell_type": "markdown",
   "id": "435d6f89",
   "metadata": {},
   "source": [
    "__Вывод__:\n",
    "- Датасет содержит 21525 записей, данные соответствуют описанию. Названия столбцов соответствуют змеиному регистру.\n",
    "- Есть пропуски в столбцах `days_employed` и `total_income`. \n",
    "- В данных присутствуют аномалии - заметили отрицательное количество дней трудового стажа в столбце `days_employed`. \n",
    "- Присутствуют неявные дубликаты (например, \"СРЕДНЕЕ\"/\"среднее\")."
   ]
  },
  {
   "cell_type": "markdown",
   "id": "104d9e62",
   "metadata": {
    "deletable": false,
    "editable": false,
    "id": "333ec665"
   },
   "source": [
    "## Предобработка данных"
   ]
  },
  {
   "cell_type": "markdown",
   "id": "76aa3f62",
   "metadata": {
    "deletable": false,
    "editable": false,
    "id": "02d92d53"
   },
   "source": [
    "### Удаление пропусков"
   ]
  },
  {
   "cell_type": "code",
   "execution_count": 5,
   "id": "f91cb063",
   "metadata": {},
   "outputs": [],
   "source": [
    "# сохраним количество строк исходного датасета для контроля изменения размерности\n",
    "original_size = data.shape[0]"
   ]
  },
  {
   "cell_type": "markdown",
   "id": "670b5d70",
   "metadata": {
    "deletable": false,
    "editable": false,
    "id": "cd84967c"
   },
   "source": [
    "Выведем количество пропущенных значений для каждого столбца."
   ]
  },
  {
   "cell_type": "code",
   "execution_count": 6,
   "id": "893546df",
   "metadata": {
    "deletable": false,
    "id": "7f9b2309",
    "outputId": "81f4d817-781c-465c-ed15-91ce4446810d"
   },
   "outputs": [
    {
     "data": {
      "text/plain": [
       "children               0\n",
       "days_employed       2174\n",
       "dob_years              0\n",
       "education              0\n",
       "education_id           0\n",
       "family_status          0\n",
       "family_status_id       0\n",
       "gender                 0\n",
       "income_type            0\n",
       "debt                   0\n",
       "total_income        2174\n",
       "purpose                0\n",
       "dtype: int64"
      ]
     },
     "execution_count": 6,
     "metadata": {},
     "output_type": "execute_result"
    }
   ],
   "source": [
    "data.isna().sum()"
   ]
  },
  {
   "cell_type": "markdown",
   "id": "3ec3f4af",
   "metadata": {
    "deletable": false,
    "editable": false,
    "id": "db86e27b"
   },
   "source": [
    "В двух столбцах `days_employed` и `total_income` есть пропущенные значения. Пропуски могли возникнуть по техническим причинам (во время выгрузки данных, копирования, считывания, сохранения информации), из-за ошибок, допущенных при вводе, либо данные могли быть не предоставлены.\n",
    "\n",
    "Столбец `total_income` хранит данные о доходах. На сумму дохода сильнее всего влияет тип занятости, поэтому заполним пропуски в этом столбце медианным значением по каждому типу из столбца `income_type`. Пропуски в столбце `days_employed` также будем заполнять медианными значениями по каждому типу занятости."
   ]
  },
  {
   "cell_type": "code",
   "execution_count": 7,
   "id": "bb9af902",
   "metadata": {
    "deletable": false,
    "id": "42006a93"
   },
   "outputs": [],
   "source": [
    "for t in data['income_type'].unique():\n",
    "    data.loc[(data['income_type'] == t) & (data['total_income'].isna()), 'total_income'] = \\\n",
    "    data.loc[(data['income_type'] == t), 'total_income'].median()"
   ]
  },
  {
   "cell_type": "code",
   "execution_count": 8,
   "id": "2216fbdc",
   "metadata": {},
   "outputs": [],
   "source": [
    "for t in data['income_type'].unique():\n",
    "    data.loc[(data['income_type'] == t) & (data['days_employed'].isna()), 'days_employed'] = \\\n",
    "    data.loc[(data['income_type'] == t), 'days_employed'].median()"
   ]
  },
  {
   "cell_type": "markdown",
   "id": "d9269ef7",
   "metadata": {},
   "source": [
    "Убедимся, что все пропуски заполнены."
   ]
  },
  {
   "cell_type": "code",
   "execution_count": 9,
   "id": "edcdc0e6",
   "metadata": {},
   "outputs": [
    {
     "data": {
      "text/plain": [
       "children            0\n",
       "days_employed       0\n",
       "dob_years           0\n",
       "education           0\n",
       "education_id        0\n",
       "family_status       0\n",
       "family_status_id    0\n",
       "gender              0\n",
       "income_type         0\n",
       "debt                0\n",
       "total_income        0\n",
       "purpose             0\n",
       "dtype: int64"
      ]
     },
     "execution_count": 9,
     "metadata": {},
     "output_type": "execute_result"
    }
   ],
   "source": [
    "data.isna().sum()"
   ]
  },
  {
   "cell_type": "markdown",
   "id": "2d427a2b",
   "metadata": {
    "deletable": false,
    "editable": false,
    "id": "89da5ece"
   },
   "source": [
    "### Обработка аномальных значений"
   ]
  },
  {
   "cell_type": "markdown",
   "id": "db251829",
   "metadata": {
    "deletable": false,
    "editable": false,
    "id": "57964554"
   },
   "source": [
    "Отрицательное количество дней трудового стажа в столбце `days_employed` является аномалией. Заменим все отрицательные значения положительными с помощью метода `abs()`."
   ]
  },
  {
   "cell_type": "code",
   "execution_count": 10,
   "id": "71711d43",
   "metadata": {
    "deletable": false,
    "id": "f6f055bf"
   },
   "outputs": [],
   "source": [
    "data['days_employed'] = data['days_employed'].abs()"
   ]
  },
  {
   "cell_type": "markdown",
   "id": "c3502ccb",
   "metadata": {
    "deletable": false,
    "editable": false,
    "id": "6107dd2f"
   },
   "source": [
    "Для каждого типа занятости выведем медианное значение трудового стажа в днях."
   ]
  },
  {
   "cell_type": "code",
   "execution_count": 11,
   "id": "77baafa4",
   "metadata": {
    "deletable": false,
    "id": "85a5faf6",
    "outputId": "801ef80e-522b-4668-f34e-565af7432bcf"
   },
   "outputs": [
    {
     "data": {
      "text/plain": [
       "income_type\n",
       "безработный        366413.652744\n",
       "в декрете            3296.759962\n",
       "госслужащий          2689.368353\n",
       "компаньон            1547.382223\n",
       "пенсионер          365213.306266\n",
       "предприниматель       520.848083\n",
       "сотрудник            1574.202821\n",
       "студент               578.751554\n",
       "Name: days_employed, dtype: float64"
      ]
     },
     "execution_count": 11,
     "metadata": {},
     "output_type": "execute_result"
    }
   ],
   "source": [
    "data.groupby('income_type')['days_employed'].agg('median')"
   ]
  },
  {
   "cell_type": "markdown",
   "id": "2ec36255",
   "metadata": {
    "deletable": false,
    "editable": false,
    "id": "38d1a030"
   },
   "source": [
    "У двух типов (безработные и пенсионеры) получаются аномально большие значения. Оставим как есть, т.к. этот столбец не понадобится для исследования."
   ]
  },
  {
   "cell_type": "markdown",
   "id": "a5d2d841",
   "metadata": {
    "deletable": false,
    "editable": false,
    "id": "d8a9f147"
   },
   "source": [
    "Посмотрим на уникальные значения столбца `children`."
   ]
  },
  {
   "cell_type": "code",
   "execution_count": 12,
   "id": "6f9a4eca",
   "metadata": {
    "deletable": false,
    "id": "ef5056eb",
    "outputId": "6975b15c-7f95-4697-d16d-a0c79b657b03"
   },
   "outputs": [
    {
     "data": {
      "text/plain": [
       "array([ 1,  0,  3,  2, -1,  4, 20,  5], dtype=int64)"
      ]
     },
     "execution_count": 12,
     "metadata": {},
     "output_type": "execute_result"
    }
   ],
   "source": [
    "data['children'].unique()"
   ]
  },
  {
   "cell_type": "code",
   "execution_count": 13,
   "id": "cf984ed4",
   "metadata": {},
   "outputs": [
    {
     "data": {
      "text/plain": [
       "0.9942857142857143"
      ]
     },
     "execution_count": 13,
     "metadata": {},
     "output_type": "execute_result"
    }
   ],
   "source": [
    "# контролируем размер потерь при удалении аномалий\n",
    "data[(data['children'] != -1) & (data['children'] != 20)].shape[0] / original_size"
   ]
  },
  {
   "cell_type": "markdown",
   "id": "dba97997",
   "metadata": {
    "deletable": false,
    "editable": false,
    "id": "40b9ebf2"
   },
   "source": [
    "Значения `-1` и `20` являются аномалией, удалим их."
   ]
  },
  {
   "cell_type": "code",
   "execution_count": 14,
   "id": "e1d68826",
   "metadata": {
    "deletable": false,
    "id": "3ff9801d"
   },
   "outputs": [],
   "source": [
    "data = data[(data['children'] != -1) & (data['children'] != 20)]"
   ]
  },
  {
   "cell_type": "markdown",
   "id": "bbd3cb61",
   "metadata": {
    "deletable": false,
    "editable": false,
    "id": "bbc4d0ce"
   },
   "source": [
    "Убедимся, что артефакты удалены."
   ]
  },
  {
   "cell_type": "code",
   "execution_count": 15,
   "id": "0f6ea8cc",
   "metadata": {
    "deletable": false,
    "id": "ad4fa8b7",
    "outputId": "b2097101-d49d-44d9-901b-32a65c9463d1"
   },
   "outputs": [
    {
     "data": {
      "text/plain": [
       "array([1, 0, 3, 2, 4, 5], dtype=int64)"
      ]
     },
     "execution_count": 15,
     "metadata": {},
     "output_type": "execute_result"
    }
   ],
   "source": [
    "data['children'].unique()"
   ]
  },
  {
   "cell_type": "markdown",
   "id": "8a9b4ba6",
   "metadata": {},
   "source": [
    "Проверим значения возраста клиента."
   ]
  },
  {
   "cell_type": "code",
   "execution_count": 16,
   "id": "309ee0e9",
   "metadata": {},
   "outputs": [
    {
     "name": "stdout",
     "output_type": "stream",
     "text": [
      "[0, 19, 20, 21, 22, 23, 24, 25, 26, 27, 28, 29, 30, 31, 32, 33, 34, 35, 36, 37, 38, 39, 40, 41, 42, 43, 44, 45, 46, 47, 48, 49, 50, 51, 52, 53, 54, 55, 56, 57, 58, 59, 60, 61, 62, 63, 64, 65, 66, 67, 68, 69, 70, 71, 72, 73, 74, 75]\n"
     ]
    }
   ],
   "source": [
    "print(sorted(data['dob_years'].unique()))"
   ]
  },
  {
   "cell_type": "code",
   "execution_count": 17,
   "id": "55df669a",
   "metadata": {},
   "outputs": [
    {
     "data": {
      "text/plain": [
       "0.9896399535423925"
      ]
     },
     "execution_count": 17,
     "metadata": {},
     "output_type": "execute_result"
    }
   ],
   "source": [
    "# контролируем размер потерь при удалении аномалий\n",
    "data[data['dob_years'] != 0].shape[0] / original_size"
   ]
  },
  {
   "cell_type": "markdown",
   "id": "5b04312f",
   "metadata": {},
   "source": [
    "Удалим строки с аномальными значениями."
   ]
  },
  {
   "cell_type": "code",
   "execution_count": 18,
   "id": "6970eb1e",
   "metadata": {},
   "outputs": [],
   "source": [
    "data = data[data['dob_years'] != 0]"
   ]
  },
  {
   "cell_type": "markdown",
   "id": "83b6bd20",
   "metadata": {
    "deletable": false,
    "editable": false,
    "id": "ddc81e43"
   },
   "source": [
    "### Изменение типов данных"
   ]
  },
  {
   "cell_type": "markdown",
   "id": "5bd97080",
   "metadata": {
    "deletable": false,
    "editable": false,
    "id": "42d19d24"
   },
   "source": [
    "Заменим вещественный тип данных в столбце `total_income` на целочисленный."
   ]
  },
  {
   "cell_type": "code",
   "execution_count": 19,
   "id": "1488a805",
   "metadata": {
    "deletable": false,
    "id": "920b65ad"
   },
   "outputs": [],
   "source": [
    "data['total_income'] = data['total_income'].astype(int)"
   ]
  },
  {
   "cell_type": "markdown",
   "id": "1d48dae1",
   "metadata": {
    "deletable": false,
    "editable": false,
    "id": "80c420ba"
   },
   "source": [
    "### Обработка дубликатов"
   ]
  },
  {
   "cell_type": "markdown",
   "id": "0010f2ce",
   "metadata": {
    "deletable": false,
    "editable": false
   },
   "source": [
    "Поработаем с неявными дубликатами. В столбце `education` есть одни и те же значения, но записанные по-разному: с использованием заглавных и строчных букв. Приведем их к нижнему регистру. Проверим остальные столбцы."
   ]
  },
  {
   "cell_type": "code",
   "execution_count": 20,
   "id": "5e5a64bc",
   "metadata": {
    "deletable": false
   },
   "outputs": [],
   "source": [
    "data['education'] = data['education'].str.lower()"
   ]
  },
  {
   "cell_type": "code",
   "execution_count": 21,
   "id": "ffa5555e",
   "metadata": {},
   "outputs": [
    {
     "data": {
      "text/plain": [
       "array(['F', 'M', 'XNA'], dtype=object)"
      ]
     },
     "execution_count": 21,
     "metadata": {},
     "output_type": "execute_result"
    }
   ],
   "source": [
    "data['gender'].unique()"
   ]
  },
  {
   "cell_type": "code",
   "execution_count": 22,
   "id": "02153451",
   "metadata": {},
   "outputs": [
    {
     "data": {
      "text/plain": [
       "gender\n",
       "F      14083\n",
       "M       7218\n",
       "XNA        1\n",
       "Name: children, dtype: int64"
      ]
     },
     "execution_count": 22,
     "metadata": {},
     "output_type": "execute_result"
    }
   ],
   "source": [
    "data.groupby('gender')['children'].count()"
   ]
  },
  {
   "cell_type": "markdown",
   "id": "339abb92",
   "metadata": {},
   "source": [
    "Выявили аномалию `XNA`. Всего одна строка - удалим."
   ]
  },
  {
   "cell_type": "code",
   "execution_count": 23,
   "id": "e1a67960",
   "metadata": {},
   "outputs": [],
   "source": [
    "data = data[data['gender'] != 'XNA']"
   ]
  },
  {
   "cell_type": "code",
   "execution_count": 24,
   "id": "2c8ef481",
   "metadata": {},
   "outputs": [
    {
     "data": {
      "text/plain": [
       "array(['сотрудник', 'пенсионер', 'компаньон', 'госслужащий',\n",
       "       'безработный', 'предприниматель', 'студент', 'в декрете'],\n",
       "      dtype=object)"
      ]
     },
     "execution_count": 24,
     "metadata": {},
     "output_type": "execute_result"
    }
   ],
   "source": [
    "data['income_type'].unique()"
   ]
  },
  {
   "cell_type": "code",
   "execution_count": 25,
   "id": "7dc3e7f1",
   "metadata": {},
   "outputs": [
    {
     "data": {
      "text/plain": [
       "array(['женат / замужем', 'гражданский брак', 'вдовец / вдова',\n",
       "       'в разводе', 'Не женат / не замужем'], dtype=object)"
      ]
     },
     "execution_count": 25,
     "metadata": {},
     "output_type": "execute_result"
    }
   ],
   "source": [
    "data['family_status'].unique()"
   ]
  },
  {
   "cell_type": "markdown",
   "id": "0d8fc5a4",
   "metadata": {},
   "source": [
    "Неявных дубликатов и аномалий нет, но стоит привести к единообразному написанию."
   ]
  },
  {
   "cell_type": "code",
   "execution_count": 26,
   "id": "b81fe153",
   "metadata": {},
   "outputs": [],
   "source": [
    "data['family_status'] = data['family_status'].str.lower()"
   ]
  },
  {
   "cell_type": "markdown",
   "id": "0ed99e63",
   "metadata": {
    "deletable": false,
    "editable": false,
    "id": "dc587695"
   },
   "source": [
    "Проверим наличие явных дубликатов. Удалим, если такие имеются."
   ]
  },
  {
   "cell_type": "code",
   "execution_count": 27,
   "id": "b23d694e",
   "metadata": {
    "deletable": false,
    "id": "3ee445e4",
    "outputId": "9684deba-1934-42d1-99e1-cda61740f822"
   },
   "outputs": [
    {
     "data": {
      "text/plain": [
       "71"
      ]
     },
     "execution_count": 27,
     "metadata": {},
     "output_type": "execute_result"
    }
   ],
   "source": [
    "data.duplicated().sum()"
   ]
  },
  {
   "cell_type": "code",
   "execution_count": 28,
   "id": "ac570321",
   "metadata": {
    "deletable": false,
    "id": "8575fe05"
   },
   "outputs": [],
   "source": [
    "data = data.drop_duplicates()"
   ]
  },
  {
   "cell_type": "code",
   "execution_count": 29,
   "id": "1ecab7aa",
   "metadata": {},
   "outputs": [
    {
     "data": {
      "text/plain": [
       "0.986295005807201"
      ]
     },
     "execution_count": 29,
     "metadata": {},
     "output_type": "execute_result"
    }
   ],
   "source": [
    "# контролируем размер датасета после изменений\n",
    "data.shape[0] / original_size"
   ]
  },
  {
   "cell_type": "code",
   "execution_count": 30,
   "id": "a2aa3fc3",
   "metadata": {},
   "outputs": [
    {
     "data": {
      "text/plain": [
       "21230"
      ]
     },
     "execution_count": 30,
     "metadata": {},
     "output_type": "execute_result"
    }
   ],
   "source": [
    "data.shape[0]"
   ]
  },
  {
   "cell_type": "markdown",
   "id": "cedb2b34",
   "metadata": {
    "deletable": false,
    "editable": false,
    "id": "9904cf55"
   },
   "source": [
    "### Категоризация данных"
   ]
  },
  {
   "cell_type": "markdown",
   "id": "4db9b778",
   "metadata": {
    "deletable": false,
    "editable": false,
    "id": "72fcc8a2"
   },
   "source": [
    "На основании диапазонов, которые используются банком, создадим столбец `total_income_category` с категориями:\n",
    "\n",
    "- 0–30000 — `'E'`;\n",
    "- 30001–50000 — `'D'`;\n",
    "- 50001–200000 — `'C'`;\n",
    "- 200001–1000000 — `'B'`;\n",
    "- 1000001 и выше — `'A'`."
   ]
  },
  {
   "cell_type": "code",
   "execution_count": 31,
   "id": "f72d275d",
   "metadata": {
    "deletable": false,
    "id": "e1771346"
   },
   "outputs": [],
   "source": [
    "def categorize_income(income):\n",
    "    \"\"\"\n",
    "    Классифицирует клиента по уровню дохода на категории от A до E.\n",
    "\n",
    "    Параметры:\n",
    "        income: Размер дохода клиента. Должен быть числовым значением.\n",
    "\n",
    "    Возвращает:\n",
    "        str: Буквенное обозначение категории дохода:\n",
    "            - 'A' - доход от 1 000 001 и выше\n",
    "            - 'B' - доход от 200 001 до 1 000 000\n",
    "            - 'C' - доход от 50 001 до 200 000\n",
    "            - 'D' - доход от 30 001 до 50 000\n",
    "            - 'E' - доход от 0 до 30 000\n",
    "            - None: Если входные данные некорректны (не число)\n",
    "    \"\"\"\n",
    "    try:\n",
    "        if 0 <= income <= 30000:\n",
    "            return 'E'\n",
    "        elif 30001 <= income <= 50000:\n",
    "            return 'D'\n",
    "        elif 50001 <= income <= 200000:\n",
    "            return 'C'\n",
    "        elif 200001 <= income <= 1000000:\n",
    "            return 'B'\n",
    "        elif income >= 1000001:\n",
    "            return 'A'\n",
    "    except:\n",
    "        pass"
   ]
  },
  {
   "cell_type": "code",
   "execution_count": 32,
   "id": "dad8e9b3",
   "metadata": {
    "deletable": false,
    "id": "d5f3586d"
   },
   "outputs": [],
   "source": [
    "data['total_income_category'] = data['total_income'].apply(categorize_income)"
   ]
  },
  {
   "cell_type": "markdown",
   "id": "84879a85",
   "metadata": {
    "deletable": false,
    "editable": false,
    "id": "dde49b5c"
   },
   "source": [
    "Посмотрим на перечень уникальных целей взятия кредита из столбца `purpose`."
   ]
  },
  {
   "cell_type": "code",
   "execution_count": 33,
   "id": "3937e86c",
   "metadata": {
    "deletable": false,
    "id": "f67ce9b3",
    "outputId": "673c12d9-7d7e-4ae0-9812-c622c89dd244"
   },
   "outputs": [
    {
     "data": {
      "text/plain": [
       "array(['покупка жилья', 'приобретение автомобиля',\n",
       "       'дополнительное образование', 'сыграть свадьбу',\n",
       "       'операции с жильем', 'образование', 'на проведение свадьбы',\n",
       "       'покупка жилья для семьи', 'покупка недвижимости',\n",
       "       'покупка коммерческой недвижимости', 'покупка жилой недвижимости',\n",
       "       'строительство собственной недвижимости', 'недвижимость',\n",
       "       'строительство недвижимости', 'на покупку подержанного автомобиля',\n",
       "       'на покупку своего автомобиля',\n",
       "       'операции с коммерческой недвижимостью',\n",
       "       'строительство жилой недвижимости', 'жилье',\n",
       "       'операции со своей недвижимостью', 'автомобили',\n",
       "       'заняться образованием', 'сделка с подержанным автомобилем',\n",
       "       'получение образования', 'автомобиль', 'свадьба',\n",
       "       'получение дополнительного образования', 'покупка своего жилья',\n",
       "       'операции с недвижимостью', 'получение высшего образования',\n",
       "       'свой автомобиль', 'сделка с автомобилем',\n",
       "       'профильное образование', 'высшее образование',\n",
       "       'покупка жилья для сдачи', 'на покупку автомобиля', 'ремонт жилью',\n",
       "       'заняться высшим образованием'], dtype=object)"
      ]
     },
     "execution_count": 33,
     "metadata": {},
     "output_type": "execute_result"
    }
   ],
   "source": [
    "data['purpose'].unique()"
   ]
  },
  {
   "cell_type": "markdown",
   "id": "fc731770",
   "metadata": {
    "deletable": false,
    "editable": false,
    "id": "85d0aef0"
   },
   "source": [
    "Некоторые цели похожи. На основании данных из столбца `purpose` сформируем новый столбец `purpose_category`, в который войдут следующие категории:\n",
    "\n",
    "- `'операции с автомобилем'`,\n",
    "- `'операции с недвижимостью'`,\n",
    "- `'проведение свадьбы'`,\n",
    "- `'получение образования'`."
   ]
  },
  {
   "cell_type": "code",
   "execution_count": 34,
   "id": "04a33850",
   "metadata": {
    "deletable": false,
    "id": "e149fab4"
   },
   "outputs": [],
   "source": [
    "def categorize_purpose(row):\n",
    "    \"\"\"\n",
    "    Классифицирует цель кредита на категории на основе ключевых слов в строке.\n",
    "\n",
    "    Параметры:\n",
    "        row (str): Строка с описанием цели кредита.\n",
    "\n",
    "    Возвращает:\n",
    "        str: Категория цели кредита:\n",
    "            - 'операции с автомобилем' - если содержит 'автом'\n",
    "            - 'операции с недвижимостью' - если содержит 'жил' или 'недвиж'\n",
    "            - 'проведение свадьбы' - если содержит 'свад'\n",
    "            - 'получение образования' - если содержит 'образов'\n",
    "            - 'нет категории' - если не найдено совпадений или произошла ошибка\n",
    "    \"\"\"        \n",
    "    try:\n",
    "        if 'автом' in row:\n",
    "            return 'операции с автомобилем'\n",
    "        elif 'жил' in row or 'недвиж' in row:\n",
    "            return 'операции с недвижимостью'\n",
    "        elif 'свад' in row:\n",
    "            return 'проведение свадьбы'\n",
    "        elif 'образов' in row:\n",
    "            return 'получение образования'\n",
    "    except:\n",
    "        return 'нет категории'"
   ]
  },
  {
   "cell_type": "code",
   "execution_count": 35,
   "id": "43c604a4",
   "metadata": {
    "deletable": false,
    "id": "bf36e69b"
   },
   "outputs": [],
   "source": [
    "data['purpose_category'] = data['purpose'].apply(categorize_purpose)"
   ]
  },
  {
   "cell_type": "markdown",
   "id": "86436705",
   "metadata": {},
   "source": [
    "__Вывод__:\n",
    "- Пропуски в столбцах `days_employed` и `total_income` заполнили медианными значениями по каждому типу занятости.\n",
    "- Удалили строки, содержащие аномальные значения количества дней трудовог остажа, детей, возраста. \n",
    "- Удалили явные и неявные дубликаты.\n",
    "- Выполнили категоризацию данных по уровню дохода и цели ккредитования.\n",
    "- После предобработки осталось 98,6% данных - 21230 записей."
   ]
  },
  {
   "cell_type": "markdown",
   "id": "89624f82",
   "metadata": {
    "deletable": false,
    "editable": false,
    "id": "09b242bf"
   },
   "source": [
    "### Исследование данных"
   ]
  },
  {
   "cell_type": "markdown",
   "id": "ac1df4ae",
   "metadata": {
    "deletable": false,
    "editable": false,
    "id": "c5d66278"
   },
   "source": [
    "#### Зависимость между количеством детей и возвратом кредита в срок"
   ]
  },
  {
   "cell_type": "markdown",
   "id": "626462a6",
   "metadata": {},
   "source": [
    "Исследуем исходные данные и определим долю каждого из уникальных значений столбца `children`."
   ]
  },
  {
   "cell_type": "code",
   "execution_count": 36,
   "id": "77349c89",
   "metadata": {
    "deletable": false,
    "id": "2cacfc4a",
    "scrolled": true
   },
   "outputs": [
    {
     "data": {
      "text/plain": [
       "children\n",
       "0    0.660433\n",
       "1    0.225718\n",
       "2    0.096043\n",
       "3    0.015450\n",
       "4    0.001931\n",
       "5    0.000424\n",
       "Name: count, dtype: float64"
      ]
     },
     "execution_count": 36,
     "metadata": {},
     "output_type": "execute_result"
    }
   ],
   "source": [
    "data['children'].value_counts()/data.shape[0]"
   ]
  },
  {
   "cell_type": "markdown",
   "id": "dbbaa3f5",
   "metadata": {},
   "source": [
    "С учетом полученных значений разделим данные на следующие категории:\n",
    "- нет детей\n",
    "- один ребенок\n",
    "- двое детей\n",
    "- многодетная семья (трое и более детей)\n",
    "\n",
    "Категории запишем в новый столбец `children_category`."
   ]
  },
  {
   "cell_type": "code",
   "execution_count": 37,
   "id": "3a1cb199",
   "metadata": {},
   "outputs": [],
   "source": [
    "def categorize_children(children):\n",
    "    \"\"\"\n",
    "    Возвращает наименование категории в зависимости от количества детей children, используя правила:\n",
    "    - 'нет детей', если children = 0;\n",
    "    - 'один ребенок', если children = 1;\n",
    "    - 'двое детей', если children = 2;\n",
    "    - 'многодетная семья' — если children > 2.\n",
    "\n",
    "    Параметры:\n",
    "       children (int): Количество детей в семье.\n",
    "       \n",
    "    Возвращает:\n",
    "        str: Категория семьи\n",
    "    \"\"\"    \n",
    "    if children == 0:\n",
    "        return 'нет детей'\n",
    "    elif children == 1:\n",
    "        return 'один ребенок'\n",
    "    elif children == 2:\n",
    "        return 'двое детей'\n",
    "    elif children > 2:\n",
    "        return 'многодетная семья'"
   ]
  },
  {
   "cell_type": "code",
   "execution_count": 38,
   "id": "29f74551",
   "metadata": {},
   "outputs": [],
   "source": [
    "data['children_category'] = data['children'].apply(categorize_children)"
   ]
  },
  {
   "cell_type": "markdown",
   "id": "2b63ffb7",
   "metadata": {},
   "source": [
    "Вычислим для каждой из категорий количество клиентов, которые в нее входят, а также долю клиентов, у которых имелась задолженность по возврату кредита. В этой и последующих сводных таблицах для наглядности будем производить сортировку по долям клиентов, у которых имелась задолженность."
   ]
  },
  {
   "cell_type": "code",
   "execution_count": 39,
   "id": "5ef64a90",
   "metadata": {},
   "outputs": [
    {
     "data": {
      "text/html": [
       "<div>\n",
       "<style scoped>\n",
       "    .dataframe tbody tr th:only-of-type {\n",
       "        vertical-align: middle;\n",
       "    }\n",
       "\n",
       "    .dataframe tbody tr th {\n",
       "        vertical-align: top;\n",
       "    }\n",
       "\n",
       "    .dataframe thead th {\n",
       "        text-align: right;\n",
       "    }\n",
       "</style>\n",
       "<table border=\"1\" class=\"dataframe\">\n",
       "  <thead>\n",
       "    <tr style=\"text-align: right;\">\n",
       "      <th></th>\n",
       "      <th>number_of_clients</th>\n",
       "      <th>share_of_debts</th>\n",
       "    </tr>\n",
       "    <tr>\n",
       "      <th>children_category</th>\n",
       "      <th></th>\n",
       "      <th></th>\n",
       "    </tr>\n",
       "  </thead>\n",
       "  <tbody>\n",
       "    <tr>\n",
       "      <th>нет детей</th>\n",
       "      <td>14021</td>\n",
       "      <td>0.075458</td>\n",
       "    </tr>\n",
       "    <tr>\n",
       "      <th>многодетная семья</th>\n",
       "      <td>378</td>\n",
       "      <td>0.082011</td>\n",
       "    </tr>\n",
       "    <tr>\n",
       "      <th>один ребенок</th>\n",
       "      <td>4792</td>\n",
       "      <td>0.092028</td>\n",
       "    </tr>\n",
       "    <tr>\n",
       "      <th>двое детей</th>\n",
       "      <td>2039</td>\n",
       "      <td>0.095145</td>\n",
       "    </tr>\n",
       "  </tbody>\n",
       "</table>\n",
       "</div>"
      ],
      "text/plain": [
       "                   number_of_clients  share_of_debts\n",
       "children_category                                   \n",
       "нет детей                      14021        0.075458\n",
       "многодетная семья                378        0.082011\n",
       "один ребенок                    4792        0.092028\n",
       "двое детей                      2039        0.095145"
      ]
     },
     "execution_count": 39,
     "metadata": {},
     "output_type": "execute_result"
    }
   ],
   "source": [
    "data.groupby('children_category')['debt'].agg(number_of_clients='count', share_of_debts='mean').sort_values('share_of_debts')"
   ]
  },
  {
   "cell_type": "markdown",
   "id": "71d9507c",
   "metadata": {
    "deletable": false,
    "id": "3a6b99ec"
   },
   "source": [
    "**Вывод:**\n",
    "\n",
    " Клиенты, у которых нет детей, реже имеют задолженность по возврату кредита, чем клиенты, у которых есть дети. \n",
    " \n",
    " Доля клиентов, у которых нет детей, имеющих задолженность по возврату кредита, составляет 7,5%.\n",
    " Чаще задолженность по возврату кредита возникает среди клиентов, имеющих 1 и 2 детей: 9,2% и 9,5% соответственно. \n",
    " Вместе с тем стоит отметить, что задолженность по возврату кредита у клиентов, имеющих 3 и более детей, возникает реже, чем у клиентов, имеющих 1 или 2 детей, и составляет 8,2%. \n"
   ]
  },
  {
   "cell_type": "markdown",
   "id": "76c4925c",
   "metadata": {
    "deletable": false,
    "editable": false,
    "id": "97be82ca"
   },
   "source": [
    "#### Зависимость между семейным положением и возвратом кредита в срок"
   ]
  },
  {
   "cell_type": "markdown",
   "id": "0cff1106",
   "metadata": {},
   "source": [
    "Данные о семейном положении (столбец `family_status`) являются категориальными. Определим для каждой категорий количество клиентов, которые в нее входят, и долю клиентов, у которых имелась задолженность по возврату кредита."
   ]
  },
  {
   "cell_type": "code",
   "execution_count": 40,
   "id": "db410976",
   "metadata": {
    "deletable": false,
    "id": "dc3f7ee8",
    "scrolled": false
   },
   "outputs": [
    {
     "data": {
      "text/html": [
       "<div>\n",
       "<style scoped>\n",
       "    .dataframe tbody tr th:only-of-type {\n",
       "        vertical-align: middle;\n",
       "    }\n",
       "\n",
       "    .dataframe tbody tr th {\n",
       "        vertical-align: top;\n",
       "    }\n",
       "\n",
       "    .dataframe thead th {\n",
       "        text-align: right;\n",
       "    }\n",
       "</style>\n",
       "<table border=\"1\" class=\"dataframe\">\n",
       "  <thead>\n",
       "    <tr style=\"text-align: right;\">\n",
       "      <th></th>\n",
       "      <th>number_of_clients</th>\n",
       "      <th>share_of_debts</th>\n",
       "    </tr>\n",
       "    <tr>\n",
       "      <th>family_status</th>\n",
       "      <th></th>\n",
       "      <th></th>\n",
       "    </tr>\n",
       "  </thead>\n",
       "  <tbody>\n",
       "    <tr>\n",
       "      <th>вдовец / вдова</th>\n",
       "      <td>946</td>\n",
       "      <td>0.065539</td>\n",
       "    </tr>\n",
       "    <tr>\n",
       "      <th>в разводе</th>\n",
       "      <td>1179</td>\n",
       "      <td>0.071247</td>\n",
       "    </tr>\n",
       "    <tr>\n",
       "      <th>женат / замужем</th>\n",
       "      <td>12213</td>\n",
       "      <td>0.075575</td>\n",
       "    </tr>\n",
       "    <tr>\n",
       "      <th>гражданский брак</th>\n",
       "      <td>4112</td>\n",
       "      <td>0.093142</td>\n",
       "    </tr>\n",
       "    <tr>\n",
       "      <th>не женат / не замужем</th>\n",
       "      <td>2780</td>\n",
       "      <td>0.097842</td>\n",
       "    </tr>\n",
       "  </tbody>\n",
       "</table>\n",
       "</div>"
      ],
      "text/plain": [
       "                       number_of_clients  share_of_debts\n",
       "family_status                                           \n",
       "вдовец / вдова                       946        0.065539\n",
       "в разводе                           1179        0.071247\n",
       "женат / замужем                    12213        0.075575\n",
       "гражданский брак                    4112        0.093142\n",
       "не женат / не замужем               2780        0.097842"
      ]
     },
     "execution_count": 40,
     "metadata": {},
     "output_type": "execute_result"
    }
   ],
   "source": [
    "data.groupby('family_status')['debt'].agg(number_of_clients='count', share_of_debts='mean').sort_values('share_of_debts')"
   ]
  },
  {
   "cell_type": "markdown",
   "id": "b0eff363",
   "metadata": {
    "deletable": false,
    "id": "1cef7837"
   },
   "source": [
    "**Вывод:** \n",
    "\n",
    "Незамужние/неженатые клиенты, а также клиенты, состоящие в гражданском браке, чаще имеют задолженность по возврату кредита. \n",
    "Это наблюдается в 9,8% и 9,3% случаев соответственно.\n",
    "\n",
    "Реже имеют задолженность по возврату кредита клиенты, состоящие в официальном браке - 7,6%, они состоявляют самую многочисленную категорию. Клиенты в разводе имеют задолженность в 7,1% случаев.\n",
    "\n",
    "Наименьший процент должников 6,6% - среди вдов/вдовцов.\n"
   ]
  },
  {
   "cell_type": "markdown",
   "id": "404722a8",
   "metadata": {
    "deletable": false,
    "editable": false,
    "id": "1e8b2fca"
   },
   "source": [
    "#### Зависимость между уровнем дохода и возвратом кредита в срок"
   ]
  },
  {
   "cell_type": "markdown",
   "id": "46ede0cd",
   "metadata": {},
   "source": [
    "Для анализа зависимости будем использовать данные из созданного выше столбца `total_income_category`, в котором клиенту определялась категория в зависимости от дохода:\n",
    "- 0–30000 — 'E';\n",
    "- 30001–50000 — 'D';\n",
    "- 50001–200000 — 'C';\n",
    "- 200001–1000000 — 'B';\n",
    "- 1000001 и выше — 'A'.\n",
    "\n",
    "Определим для каждой категории количество клиентов, которые в нее входят, и долю клиентов, у которых имелась задолженность по возврату кредита."
   ]
  },
  {
   "cell_type": "code",
   "execution_count": 41,
   "id": "d7966284",
   "metadata": {
    "deletable": false,
    "id": "cd7e3720",
    "scrolled": true
   },
   "outputs": [
    {
     "data": {
      "text/html": [
       "<div>\n",
       "<style scoped>\n",
       "    .dataframe tbody tr th:only-of-type {\n",
       "        vertical-align: middle;\n",
       "    }\n",
       "\n",
       "    .dataframe tbody tr th {\n",
       "        vertical-align: top;\n",
       "    }\n",
       "\n",
       "    .dataframe thead th {\n",
       "        text-align: right;\n",
       "    }\n",
       "</style>\n",
       "<table border=\"1\" class=\"dataframe\">\n",
       "  <thead>\n",
       "    <tr style=\"text-align: right;\">\n",
       "      <th></th>\n",
       "      <th>number_of_clients</th>\n",
       "      <th>share_of_debts</th>\n",
       "    </tr>\n",
       "    <tr>\n",
       "      <th>total_income_category</th>\n",
       "      <th></th>\n",
       "      <th></th>\n",
       "    </tr>\n",
       "  </thead>\n",
       "  <tbody>\n",
       "    <tr>\n",
       "      <th>D</th>\n",
       "      <td>347</td>\n",
       "      <td>0.060519</td>\n",
       "    </tr>\n",
       "    <tr>\n",
       "      <th>B</th>\n",
       "      <td>4987</td>\n",
       "      <td>0.070784</td>\n",
       "    </tr>\n",
       "    <tr>\n",
       "      <th>A</th>\n",
       "      <td>25</td>\n",
       "      <td>0.080000</td>\n",
       "    </tr>\n",
       "    <tr>\n",
       "      <th>C</th>\n",
       "      <td>15849</td>\n",
       "      <td>0.084926</td>\n",
       "    </tr>\n",
       "    <tr>\n",
       "      <th>E</th>\n",
       "      <td>22</td>\n",
       "      <td>0.090909</td>\n",
       "    </tr>\n",
       "  </tbody>\n",
       "</table>\n",
       "</div>"
      ],
      "text/plain": [
       "                       number_of_clients  share_of_debts\n",
       "total_income_category                                   \n",
       "D                                    347        0.060519\n",
       "B                                   4987        0.070784\n",
       "A                                     25        0.080000\n",
       "C                                  15849        0.084926\n",
       "E                                     22        0.090909"
      ]
     },
     "execution_count": 41,
     "metadata": {},
     "output_type": "execute_result"
    }
   ],
   "source": [
    "data.groupby('total_income_category')['debt'].agg(number_of_clients='count', share_of_debts='mean').sort_values('share_of_debts')"
   ]
  },
  {
   "cell_type": "markdown",
   "id": "58d60712",
   "metadata": {
    "deletable": false,
    "id": "e8593def"
   },
   "source": [
    "**Вывод:** \n",
    "\n",
    "Количество клиентов данной выборки, которые были отнесены к категориям 'A' и 'E', не позволяет сделать какие-либо выводы о наличии зависимости между уровнем дохода и возвратом кредита в срок для данных категорий.\n",
    "\n",
    "Касательно остальных категорий можно сделать вывод, что клиенты самой многочисленной категории 'С' чаще других имеют задолженность по возврату кредита - 8,5%, наименьший процент должников среди клиентов категории 'D' - 6%. Для клиентов категории 'B' этот показатель составляет 7,1%.\n"
   ]
  },
  {
   "cell_type": "markdown",
   "id": "23c8ae74",
   "metadata": {
    "deletable": false,
    "editable": false,
    "id": "99ecbd1f"
   },
   "source": [
    "#### Влияние цели кредита на его возврат в срок"
   ]
  },
  {
   "cell_type": "markdown",
   "id": "14c8b073",
   "metadata": {},
   "source": [
    "Для данного исследования будем группировать данные по столбцу `purpose_category`."
   ]
  },
  {
   "cell_type": "code",
   "execution_count": 42,
   "id": "1f468bca",
   "metadata": {
    "deletable": false,
    "id": "2b687290",
    "scrolled": true
   },
   "outputs": [
    {
     "data": {
      "text/html": [
       "<div>\n",
       "<style scoped>\n",
       "    .dataframe tbody tr th:only-of-type {\n",
       "        vertical-align: middle;\n",
       "    }\n",
       "\n",
       "    .dataframe tbody tr th {\n",
       "        vertical-align: top;\n",
       "    }\n",
       "\n",
       "    .dataframe thead th {\n",
       "        text-align: right;\n",
       "    }\n",
       "</style>\n",
       "<table border=\"1\" class=\"dataframe\">\n",
       "  <thead>\n",
       "    <tr style=\"text-align: right;\">\n",
       "      <th></th>\n",
       "      <th>number_of_clients</th>\n",
       "      <th>share_of_debts</th>\n",
       "    </tr>\n",
       "    <tr>\n",
       "      <th>purpose_category</th>\n",
       "      <th></th>\n",
       "      <th></th>\n",
       "    </tr>\n",
       "  </thead>\n",
       "  <tbody>\n",
       "    <tr>\n",
       "      <th>операции с недвижимостью</th>\n",
       "      <td>10703</td>\n",
       "      <td>0.072596</td>\n",
       "    </tr>\n",
       "    <tr>\n",
       "      <th>проведение свадьбы</th>\n",
       "      <td>2299</td>\n",
       "      <td>0.078730</td>\n",
       "    </tr>\n",
       "    <tr>\n",
       "      <th>получение образования</th>\n",
       "      <td>3970</td>\n",
       "      <td>0.092947</td>\n",
       "    </tr>\n",
       "    <tr>\n",
       "      <th>операции с автомобилем</th>\n",
       "      <td>4258</td>\n",
       "      <td>0.093236</td>\n",
       "    </tr>\n",
       "  </tbody>\n",
       "</table>\n",
       "</div>"
      ],
      "text/plain": [
       "                          number_of_clients  share_of_debts\n",
       "purpose_category                                           \n",
       "операции с недвижимостью              10703        0.072596\n",
       "проведение свадьбы                     2299        0.078730\n",
       "получение образования                  3970        0.092947\n",
       "операции с автомобилем                 4258        0.093236"
      ]
     },
     "execution_count": 42,
     "metadata": {},
     "output_type": "execute_result"
    }
   ],
   "source": [
    "# для создания сводной таблицы используем метод pivot_table\n",
    "data_pivot = data.pivot_table(index='purpose_category',  values='debt', aggfunc=['count', 'mean']).sort_values(by=[('mean','debt')])\n",
    "# переименуем столбцы для лучшего восприятия итоговой таблицы\n",
    "data_pivot.columns = ['number_of_clients','share_of_debts']\n",
    "data_pivot"
   ]
  },
  {
   "cell_type": "markdown",
   "id": "408f0871",
   "metadata": {
    "deletable": false,
    "id": "b4bb2ce6"
   },
   "source": [
    "**Вывод:** \n",
    "\n",
    "Наиболее часто проблемы с возвратом кредита в срок возникают у клиентов, которые берут кредит с целью получения образования или проведения операций с автомобилем - в 9,3% случаев. Наименьший процент должников среди тех, кто берет кредит для проведения операций с недвижимостью - 7,2%. Задолженность возврата по кредиту в срок у клиентов, целью кредитования которых является проведение свадьбы - 7,9%."
   ]
  },
  {
   "cell_type": "markdown",
   "id": "e7cb185a",
   "metadata": {
    "deletable": false,
    "editable": false,
    "id": "6db5255a"
   },
   "source": [
    "### Общий вывод"
   ]
  },
  {
   "cell_type": "markdown",
   "id": "961b39ed",
   "metadata": {
    "deletable": false,
    "id": "bad65432"
   },
   "source": [
    "Для проведения данного исследования использовалась статистика о платёжеспособности клиентов банка. \n",
    "\n",
    "Во время предобработки данных пропуски об общем трудовом стаже в днях и ежемесячном доходе были заполнены медианным значением в зависимости от типа занятости. Обработаны аномальные значения, которые присутствовали в информации об общем трудовом стаже в днях (отрицательные значения заменены на положительные). Строки, содержащие аномалии в данных о количестве детей, удалены из выборки. Данные о ежемесячном доходе привели к целочисленному типу. Данные об уровне образования привели к нижнему регистру, после чего удалили дубликаты. Произведена категоризация данных по ежемесячному доходу, цели получения кредита, количеству детей.\n",
    "\n",
    "Стоит отметить, что выборки на основе категорий по ежемесячному доходу, предложенные заказчиком, крайне несбалансированны."
   ]
  },
  {
   "cell_type": "markdown",
   "id": "d2631bb8",
   "metadata": {},
   "source": [
    "Подтвердилось наличие зависимости между количеством детей и возвратом кредита в срок: \n",
    "* клиенты, у которых нет детей, реже имеют задолженность по возврату кредита, чем клиенты, у которых есть дети,\n",
    "* задолженность по возврату кредита чаще возникает у клиентов, имеющих 1 или 2 детей, чем у клиентов, имеющих 3 и более детей."
   ]
  },
  {
   "cell_type": "markdown",
   "id": "c5cdf4f3",
   "metadata": {},
   "source": [
    " Подтвердилось наличие зависимости между семейным положением и возвратом кредита в срок:\n",
    " * незамужние/неженатые клиенты, а также клиенты, состоящие в гражданском браке, чаще имеют задолженность по возврату кредита, чем состоящие в официальном браке либо в разводе,\n",
    "  * наименьший процент должников - среди вдов/вдовцов."
   ]
  },
  {
   "cell_type": "markdown",
   "id": "5920d2ed",
   "metadata": {},
   "source": [
    "Подтвердилось наличие зависимости между уровнем дохода и возвратом кредита в срок:\n",
    "* клиенты с ежемесячным уровнем дохода 50001–200000 чаще имеют задолженность по возврату кредита, чем клиенты с ежемесячным уровнем дохода 200001–1000000,\n",
    "* наименьший процент должников - среди клиентов с ежемесячным уровнем дохода 30001–50000."
   ]
  },
  {
   "cell_type": "markdown",
   "id": "b2cd6802",
   "metadata": {},
   "source": [
    "Цели кредита влияют на его возврат в срок следующим образом:\n",
    "* чаще всего задолженность возникает по кредитам с целью получения образования или проведения операций с автомобилем,\n",
    "* наименьшее число должников среди тех, кто берет кредит для проведения операций с недвижимостью."
   ]
  },
  {
   "cell_type": "markdown",
   "id": "23da1d96",
   "metadata": {},
   "source": [
    "Пропуски в исходных данных могли возникнуть по техническим причинам (во время выгрузки данных, копирования, считывания, сохранения информации), из-за ошибок, допущенных при вводе, либо данные могли быть не предоставлены. Заполнение пропусков для количественных переменных медианным значением дает более объективную информацию в случае, когда в выборке есть значения, отражающие действительность, которые сильно выделяются среди всех остальных, а также при наличии аномалий в данных."
   ]
  }
 ],
 "metadata": {
  "ExecuteTimeLog": [
   {
    "duration": 475,
    "start_time": "2024-03-30T11:48:29.893Z"
   },
   {
    "duration": 22,
    "start_time": "2024-03-30T11:48:30.370Z"
   },
   {
    "duration": 35,
    "start_time": "2024-03-30T11:48:30.393Z"
   },
   {
    "duration": 84,
    "start_time": "2024-03-30T11:48:30.430Z"
   },
   {
    "duration": 119,
    "start_time": "2024-03-30T11:48:30.516Z"
   },
   {
    "duration": 62,
    "start_time": "2024-03-30T11:48:30.637Z"
   },
   {
    "duration": 50,
    "start_time": "2024-03-30T11:48:30.701Z"
   },
   {
    "duration": 40,
    "start_time": "2024-03-30T11:48:30.753Z"
   },
   {
    "duration": 37,
    "start_time": "2024-03-30T11:48:30.794Z"
   },
   {
    "duration": 80,
    "start_time": "2024-03-30T11:48:30.833Z"
   },
   {
    "duration": 104,
    "start_time": "2024-03-30T11:48:30.914Z"
   },
   {
    "duration": 32,
    "start_time": "2024-03-30T11:48:31.019Z"
   },
   {
    "duration": 72,
    "start_time": "2024-03-30T11:48:31.053Z"
   },
   {
    "duration": 61,
    "start_time": "2024-03-30T11:48:31.128Z"
   },
   {
    "duration": 80,
    "start_time": "2024-03-30T11:48:31.191Z"
   },
   {
    "duration": 116,
    "start_time": "2024-03-30T11:48:31.273Z"
   },
   {
    "duration": 72,
    "start_time": "2024-03-30T11:48:31.390Z"
   },
   {
    "duration": 69,
    "start_time": "2024-03-30T11:48:31.464Z"
   },
   {
    "duration": 134,
    "start_time": "2024-03-30T11:48:31.534Z"
   },
   {
    "duration": 21,
    "start_time": "2024-03-30T11:48:31.670Z"
   },
   {
    "duration": 29,
    "start_time": "2024-03-30T11:48:31.692Z"
   },
   {
    "duration": 27,
    "start_time": "2024-03-30T11:48:31.722Z"
   },
   {
    "duration": 9,
    "start_time": "2024-03-30T11:48:31.751Z"
   },
   {
    "duration": 56,
    "start_time": "2024-03-30T11:48:31.762Z"
   },
   {
    "duration": 21,
    "start_time": "2024-03-30T11:48:31.819Z"
   },
   {
    "duration": 10,
    "start_time": "2024-03-30T11:48:31.842Z"
   },
   {
    "duration": 44,
    "start_time": "2024-03-30T11:48:31.854Z"
   },
   {
    "duration": 40,
    "start_time": "2024-03-30T11:48:31.900Z"
   }
  ],
  "kernelspec": {
   "display_name": "base",
   "language": "python",
   "name": "python3"
  },
  "language_info": {
   "codemirror_mode": {
    "name": "ipython",
    "version": 3
   },
   "file_extension": ".py",
   "mimetype": "text/x-python",
   "name": "python",
   "nbconvert_exporter": "python",
   "pygments_lexer": "ipython3",
   "version": "3.11.5"
  },
  "toc": {
   "base_numbering": 1,
   "nav_menu": {},
   "number_sections": true,
   "sideBar": true,
   "skip_h1_title": true,
   "title_cell": "Table of Contents",
   "title_sidebar": "Contents",
   "toc_cell": false,
   "toc_position": {},
   "toc_section_display": true,
   "toc_window_display": true
  }
 },
 "nbformat": 4,
 "nbformat_minor": 5
}
