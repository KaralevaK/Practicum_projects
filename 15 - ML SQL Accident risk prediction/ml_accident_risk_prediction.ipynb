{
 "cells": [
  {
   "cell_type": "markdown",
   "id": "07540419",
   "metadata": {},
   "source": [
    "# Проект: Оценка риска ДТП"
   ]
  },
  {
   "cell_type": "markdown",
   "id": "36e82cca",
   "metadata": {},
   "source": [
    "\n",
    "__Заказчик__: каршеринговая компания.\n",
    "\n",
    "__Цель проекта__: разработка системы, которая могла бы оценить риск ДТП по выбранному маршруту движения.\n",
    "\n",
    "_Справочно:  под риском понимается вероятность ДТП с любым повреждением транспортного средства._\n",
    "\n",
    "__Идея решения заказчика__:\n",
    "\n",
    "Создать модель предсказания ДТП (целевое значение — at_fault (виновник) в таблице parties)\n",
    "- Для модели выбрать тип виновника — только машина (car).\n",
    "- Выбрать случаи, когда ДТП привело к любым повреждениям транспортного средства, кроме типа SCRATCH (царапина).\n",
    "- Для моделирования ограничиться данными за 2012 год — они самые свежие.\n",
    "- Обязательное условие — учесть фактор возраста автомобиля.\n",
    "\n",
    "На основе модели исследовать основные факторы ДТП.\n",
    "\n",
    "Понять, помогут ли результаты моделирования и анализ важности факторов ответить на вопросы:\n",
    "- Возможно ли создать адекватную системы оценки водительского риска при выдаче авто?\n",
    "- Какие ещё факторы нужно учесть?\n",
    "- Нужно ли оборудовать автомобиль какими-либо датчиками или камерой?\n",
    "\n",
    "\n",
    "__Описание данных__:  база данных по происшествиям.\n",
    "\n",
    "_Краткое описание таблиц:_\n",
    "\n",
    "`collisions` — общая информация о ДТП\n",
    "\n",
    "Имеет уникальный case_id. Эта таблица описывает общую информацию о ДТП. Например, где оно произошло и когда.\n",
    "\n",
    "`parties` — информация об участниках ДТП\n",
    "\n",
    "Имеет неуникальный case_id, который сопоставляется с соответствующим ДТП в таблице collisions. Каждая строка здесь описывает одну из сторон, участвующих в ДТП. Если столкнулись две машины, в этой таблице должно быть две строки с совпадением case_id. Если нужен уникальный идентификатор, это case_id and party_number.\n",
    "\n",
    "`vehicles` — информация о пострадавших машинах\n",
    "\n",
    "Имеет неуникальные case_id и неуникальные party_number, которые сопоставляются с таблицей collisions и таблицей parties. Если нужен уникальный идентификатор, это case_id and party_number.\n",
    "\n",
    "__План работы__:\n",
    "\n",
    "- загрузка таблиц sql\n",
    "- первичное исследование таблиц\n",
    "- статистический анализ факторов ДТП\n",
    "- создание моделей для оценки водительского риска\n",
    "- выбор и оценка наилучшей модели \n",
    "- общий вывод"
   ]
  },
  {
   "cell_type": "markdown",
   "id": "f26f6eb3",
   "metadata": {
    "ExecuteTime": {
     "end_time": "2022-05-05T04:58:05.692448Z",
     "start_time": "2022-05-05T04:58:05.688565Z"
    }
   },
   "source": [
    "## Подготовка к исследованию"
   ]
  },
  {
   "cell_type": "code",
   "execution_count": null,
   "id": "02b94365",
   "metadata": {},
   "outputs": [],
   "source": [
    "#!pip install -q scikit-learn==1.1.3 "
   ]
  },
  {
   "cell_type": "code",
   "execution_count": null,
   "id": "f7aaef87",
   "metadata": {},
   "outputs": [],
   "source": [
    "#!pip install -q phik"
   ]
  },
  {
   "cell_type": "code",
   "execution_count": null,
   "id": "c68f4397",
   "metadata": {},
   "outputs": [],
   "source": [
    "# импорты\n",
    "import time\n",
    "import warnings\n",
    "\n",
    "import pandas as pd\n",
    "import matplotlib.pyplot as plt\n",
    "import seaborn as sns\n",
    "import shap\n",
    "\n",
    "from phik import phik_matrix\n",
    "from sqlalchemy import create_engine, inspect, text\n",
    "\n",
    "from catboost import CatBoostClassifier\n",
    "from lightgbm import LGBMClassifier\n",
    "from sklearn.compose import ColumnTransformer\n",
    "from sklearn.dummy import DummyClassifier\n",
    "from sklearn.ensemble import RandomForestClassifier\n",
    "from sklearn.linear_model import LogisticRegression\n",
    "from sklearn.metrics import roc_auc_score, f1_score,  \\\n",
    "     confusion_matrix, precision_recall_curve, precision_score, \\\n",
    "     recall_score, PrecisionRecallDisplay\n",
    "from sklearn.model_selection import train_test_split, RandomizedSearchCV\n",
    "from sklearn.pipeline import Pipeline\n",
    "from sklearn.preprocessing import OneHotEncoder, OrdinalEncoder\n",
    "\n",
    "# игнорирование предупреждений\n",
    "warnings.filterwarnings(\"ignore\", category=UserWarning)\n",
    "\n",
    "# константы\n",
    "TEST_SIZE = 0.25\n",
    "TITLE_SIZE = 16\n",
    "LABEL_SIZE = 14\n",
    "RANDOM_STATE = 42"
   ]
  },
  {
   "cell_type": "markdown",
   "id": "19e6c65c",
   "metadata": {},
   "source": [
    "## Подключение к базе данных"
   ]
  },
  {
   "cell_type": "code",
   "execution_count": null,
   "id": "186673e4",
   "metadata": {},
   "outputs": [],
   "source": [
    "#  данные для авторизации\n",
    "db_config = {\n",
    "'user': 'student', # имя пользователя,\n",
    "'pwd': 'Sqw4$2;d-d59pp', # пароль,\n",
    "'host': 'we7b-rtoijxj5yxfsf5fs.mdb.yandexcloud.net',\n",
    "'port': 6342, # порт подключения,\n",
    "'db': 'accidents-db' # название базы данных,\n",
    "} \n",
    "\n",
    "# строка для соединения с базой данных\n",
    "connection_string = 'postgresql://{}:{}@{}:{}/{}'.format(\n",
    "    db_config['user'],\n",
    "    db_config['pwd'],\n",
    "    db_config['host'],\n",
    "    db_config['port'],\n",
    "    db_config['db'],\n",
    ")\n",
    "\n",
    "# создаем соединение\n",
    "engine = create_engine(connection_string)"
   ]
  },
  {
   "cell_type": "markdown",
   "id": "9a33d39e",
   "metadata": {},
   "source": [
    "## Первичное исследование таблиц"
   ]
  },
  {
   "cell_type": "markdown",
   "id": "c95080f8",
   "metadata": {},
   "source": [
    "Мы должны работать с тремя таблицами: `collisions`, `parties`, `vehicles`. Также на диаграмме присутствует `case_ids`(описание не предоставлено). Получим список имен таблиц в базе. Проверим наличие данных в таблицах."
   ]
  },
  {
   "cell_type": "code",
   "execution_count": 7,
   "id": "a1913d6f",
   "metadata": {},
   "outputs": [
    {
     "data": {
      "text/plain": [
       "['collisions', 'case_ids', 'parties', 'vehicles']"
      ]
     },
     "execution_count": 7,
     "metadata": {},
     "output_type": "execute_result"
    }
   ],
   "source": [
    "inspector = inspect(engine)\n",
    "table_names = inspector.get_table_names()\n",
    "table_names"
   ]
  },
  {
   "cell_type": "code",
   "execution_count": 8,
   "id": "e395b504",
   "metadata": {},
   "outputs": [
    {
     "name": "stdout",
     "output_type": "stream",
     "text": [
      "Таблица: collisions, количество записей: 1400000\n"
     ]
    },
    {
     "data": {
      "text/html": [
       "<div>\n",
       "<style scoped>\n",
       "    .dataframe tbody tr th:only-of-type {\n",
       "        vertical-align: middle;\n",
       "    }\n",
       "\n",
       "    .dataframe tbody tr th {\n",
       "        vertical-align: top;\n",
       "    }\n",
       "\n",
       "    .dataframe thead th {\n",
       "        text-align: right;\n",
       "    }\n",
       "</style>\n",
       "<table border=\"1\" class=\"dataframe\">\n",
       "  <thead>\n",
       "    <tr style=\"text-align: right;\">\n",
       "      <th></th>\n",
       "      <th>case_id</th>\n",
       "      <th>county_city_location</th>\n",
       "      <th>county_location</th>\n",
       "      <th>distance</th>\n",
       "      <th>direction</th>\n",
       "      <th>intersection</th>\n",
       "      <th>weather_1</th>\n",
       "      <th>location_type</th>\n",
       "      <th>collision_damage</th>\n",
       "      <th>party_count</th>\n",
       "      <th>primary_collision_factor</th>\n",
       "      <th>pcf_violation_category</th>\n",
       "      <th>type_of_collision</th>\n",
       "      <th>motor_vehicle_involved_with</th>\n",
       "      <th>road_surface</th>\n",
       "      <th>road_condition_1</th>\n",
       "      <th>lighting</th>\n",
       "      <th>control_device</th>\n",
       "      <th>collision_date</th>\n",
       "      <th>collision_time</th>\n",
       "    </tr>\n",
       "  </thead>\n",
       "  <tbody>\n",
       "    <tr>\n",
       "      <th>0</th>\n",
       "      <td>4083072</td>\n",
       "      <td>1942</td>\n",
       "      <td>los angeles</td>\n",
       "      <td>528.0</td>\n",
       "      <td>north</td>\n",
       "      <td>0</td>\n",
       "      <td>cloudy</td>\n",
       "      <td>highway</td>\n",
       "      <td>small damage</td>\n",
       "      <td>2</td>\n",
       "      <td>vehicle code violation</td>\n",
       "      <td>unsafe lane change</td>\n",
       "      <td>sideswipe</td>\n",
       "      <td>other motor vehicle</td>\n",
       "      <td>wet</td>\n",
       "      <td>normal</td>\n",
       "      <td>daylight</td>\n",
       "      <td>none</td>\n",
       "      <td>2009-01-22</td>\n",
       "      <td>07:25:00</td>\n",
       "    </tr>\n",
       "    <tr>\n",
       "      <th>1</th>\n",
       "      <td>4083075</td>\n",
       "      <td>4313</td>\n",
       "      <td>santa clara</td>\n",
       "      <td>0.0</td>\n",
       "      <td>None</td>\n",
       "      <td>1</td>\n",
       "      <td>clear</td>\n",
       "      <td>None</td>\n",
       "      <td>small damage</td>\n",
       "      <td>1</td>\n",
       "      <td>vehicle code violation</td>\n",
       "      <td>improper passing</td>\n",
       "      <td>hit object</td>\n",
       "      <td>fixed object</td>\n",
       "      <td>dry</td>\n",
       "      <td>normal</td>\n",
       "      <td>dark with street lights</td>\n",
       "      <td>functioning</td>\n",
       "      <td>2009-01-03</td>\n",
       "      <td>02:26:00</td>\n",
       "    </tr>\n",
       "    <tr>\n",
       "      <th>2</th>\n",
       "      <td>4083073</td>\n",
       "      <td>0109</td>\n",
       "      <td>alameda</td>\n",
       "      <td>0.0</td>\n",
       "      <td>None</td>\n",
       "      <td>1</td>\n",
       "      <td>clear</td>\n",
       "      <td>None</td>\n",
       "      <td>scratch</td>\n",
       "      <td>2</td>\n",
       "      <td>vehicle code violation</td>\n",
       "      <td>improper turning</td>\n",
       "      <td>broadside</td>\n",
       "      <td>other motor vehicle</td>\n",
       "      <td>dry</td>\n",
       "      <td>normal</td>\n",
       "      <td>dark with street lights</td>\n",
       "      <td>functioning</td>\n",
       "      <td>2009-01-11</td>\n",
       "      <td>03:32:00</td>\n",
       "    </tr>\n",
       "    <tr>\n",
       "      <th>3</th>\n",
       "      <td>4083077</td>\n",
       "      <td>0109</td>\n",
       "      <td>alameda</td>\n",
       "      <td>0.0</td>\n",
       "      <td>None</td>\n",
       "      <td>1</td>\n",
       "      <td>clear</td>\n",
       "      <td>None</td>\n",
       "      <td>scratch</td>\n",
       "      <td>2</td>\n",
       "      <td>vehicle code violation</td>\n",
       "      <td>automobile right of way</td>\n",
       "      <td>broadside</td>\n",
       "      <td>other motor vehicle</td>\n",
       "      <td>dry</td>\n",
       "      <td>normal</td>\n",
       "      <td>daylight</td>\n",
       "      <td>functioning</td>\n",
       "      <td>2009-01-11</td>\n",
       "      <td>10:35:00</td>\n",
       "    </tr>\n",
       "    <tr>\n",
       "      <th>4</th>\n",
       "      <td>4083087</td>\n",
       "      <td>4313</td>\n",
       "      <td>santa clara</td>\n",
       "      <td>0.0</td>\n",
       "      <td>None</td>\n",
       "      <td>1</td>\n",
       "      <td>clear</td>\n",
       "      <td>None</td>\n",
       "      <td>scratch</td>\n",
       "      <td>2</td>\n",
       "      <td>vehicle code violation</td>\n",
       "      <td>speeding</td>\n",
       "      <td>rear end</td>\n",
       "      <td>other motor vehicle</td>\n",
       "      <td>dry</td>\n",
       "      <td>None</td>\n",
       "      <td>dark with street lights</td>\n",
       "      <td>functioning</td>\n",
       "      <td>2009-01-02</td>\n",
       "      <td>22:43:00</td>\n",
       "    </tr>\n",
       "  </tbody>\n",
       "</table>\n",
       "</div>"
      ],
      "text/plain": [
       "   case_id county_city_location county_location  distance direction  \\\n",
       "0  4083072                 1942     los angeles     528.0     north   \n",
       "1  4083075                 4313     santa clara       0.0      None   \n",
       "2  4083073                 0109         alameda       0.0      None   \n",
       "3  4083077                 0109         alameda       0.0      None   \n",
       "4  4083087                 4313     santa clara       0.0      None   \n",
       "\n",
       "   intersection weather_1 location_type collision_damage  party_count  \\\n",
       "0             0    cloudy       highway     small damage            2   \n",
       "1             1     clear          None     small damage            1   \n",
       "2             1     clear          None          scratch            2   \n",
       "3             1     clear          None          scratch            2   \n",
       "4             1     clear          None          scratch            2   \n",
       "\n",
       "  primary_collision_factor   pcf_violation_category type_of_collision  \\\n",
       "0   vehicle code violation       unsafe lane change         sideswipe   \n",
       "1   vehicle code violation         improper passing        hit object   \n",
       "2   vehicle code violation         improper turning         broadside   \n",
       "3   vehicle code violation  automobile right of way         broadside   \n",
       "4   vehicle code violation                 speeding          rear end   \n",
       "\n",
       "  motor_vehicle_involved_with road_surface road_condition_1  \\\n",
       "0         other motor vehicle          wet           normal   \n",
       "1                fixed object          dry           normal   \n",
       "2         other motor vehicle          dry           normal   \n",
       "3         other motor vehicle          dry           normal   \n",
       "4         other motor vehicle          dry             None   \n",
       "\n",
       "                  lighting control_device collision_date collision_time  \n",
       "0                 daylight           none     2009-01-22       07:25:00  \n",
       "1  dark with street lights    functioning     2009-01-03       02:26:00  \n",
       "2  dark with street lights    functioning     2009-01-11       03:32:00  \n",
       "3                 daylight    functioning     2009-01-11       10:35:00  \n",
       "4  dark with street lights    functioning     2009-01-02       22:43:00  "
      ]
     },
     "metadata": {},
     "output_type": "display_data"
    },
    {
     "name": "stdout",
     "output_type": "stream",
     "text": [
      "Столбцы:\n",
      "  case_id: TEXT\n",
      "  county_city_location: TEXT\n",
      "  county_location: TEXT\n",
      "  distance: REAL\n",
      "  direction: TEXT\n",
      "  intersection: INTEGER\n",
      "  weather_1: TEXT\n",
      "  location_type: TEXT\n",
      "  collision_damage: TEXT\n",
      "  party_count: INTEGER\n",
      "  primary_collision_factor: TEXT\n",
      "  pcf_violation_category: TEXT\n",
      "  type_of_collision: TEXT\n",
      "  motor_vehicle_involved_with: TEXT\n",
      "  road_surface: TEXT\n",
      "  road_condition_1: TEXT\n",
      "  lighting: TEXT\n",
      "  control_device: TEXT\n",
      "  collision_date: DATE\n",
      "  collision_time: TIME\n",
      "\n",
      "Таблица: case_ids, количество записей: 1400000\n"
     ]
    },
    {
     "data": {
      "text/html": [
       "<div>\n",
       "<style scoped>\n",
       "    .dataframe tbody tr th:only-of-type {\n",
       "        vertical-align: middle;\n",
       "    }\n",
       "\n",
       "    .dataframe tbody tr th {\n",
       "        vertical-align: top;\n",
       "    }\n",
       "\n",
       "    .dataframe thead th {\n",
       "        text-align: right;\n",
       "    }\n",
       "</style>\n",
       "<table border=\"1\" class=\"dataframe\">\n",
       "  <thead>\n",
       "    <tr style=\"text-align: right;\">\n",
       "      <th></th>\n",
       "      <th>case_id</th>\n",
       "      <th>db_year</th>\n",
       "    </tr>\n",
       "  </thead>\n",
       "  <tbody>\n",
       "    <tr>\n",
       "      <th>0</th>\n",
       "      <td>0081715</td>\n",
       "      <td>2021</td>\n",
       "    </tr>\n",
       "    <tr>\n",
       "      <th>1</th>\n",
       "      <td>0726202</td>\n",
       "      <td>2021</td>\n",
       "    </tr>\n",
       "    <tr>\n",
       "      <th>2</th>\n",
       "      <td>3858022</td>\n",
       "      <td>2021</td>\n",
       "    </tr>\n",
       "    <tr>\n",
       "      <th>3</th>\n",
       "      <td>3899441</td>\n",
       "      <td>2021</td>\n",
       "    </tr>\n",
       "    <tr>\n",
       "      <th>4</th>\n",
       "      <td>3899442</td>\n",
       "      <td>2021</td>\n",
       "    </tr>\n",
       "  </tbody>\n",
       "</table>\n",
       "</div>"
      ],
      "text/plain": [
       "   case_id db_year\n",
       "0  0081715    2021\n",
       "1  0726202    2021\n",
       "2  3858022    2021\n",
       "3  3899441    2021\n",
       "4  3899442    2021"
      ]
     },
     "metadata": {},
     "output_type": "display_data"
    },
    {
     "name": "stdout",
     "output_type": "stream",
     "text": [
      "Столбцы:\n",
      "  case_id: TEXT\n",
      "  db_year: TEXT\n",
      "\n",
      "Таблица: parties, количество записей: 2752408\n"
     ]
    },
    {
     "data": {
      "text/html": [
       "<div>\n",
       "<style scoped>\n",
       "    .dataframe tbody tr th:only-of-type {\n",
       "        vertical-align: middle;\n",
       "    }\n",
       "\n",
       "    .dataframe tbody tr th {\n",
       "        vertical-align: top;\n",
       "    }\n",
       "\n",
       "    .dataframe thead th {\n",
       "        text-align: right;\n",
       "    }\n",
       "</style>\n",
       "<table border=\"1\" class=\"dataframe\">\n",
       "  <thead>\n",
       "    <tr style=\"text-align: right;\">\n",
       "      <th></th>\n",
       "      <th>id</th>\n",
       "      <th>case_id</th>\n",
       "      <th>party_number</th>\n",
       "      <th>party_type</th>\n",
       "      <th>at_fault</th>\n",
       "      <th>insurance_premium</th>\n",
       "      <th>party_sobriety</th>\n",
       "      <th>party_drug_physical</th>\n",
       "      <th>cellphone_in_use</th>\n",
       "    </tr>\n",
       "  </thead>\n",
       "  <tbody>\n",
       "    <tr>\n",
       "      <th>0</th>\n",
       "      <td>22</td>\n",
       "      <td>3899454</td>\n",
       "      <td>1</td>\n",
       "      <td>road signs</td>\n",
       "      <td>1</td>\n",
       "      <td>29.0</td>\n",
       "      <td>had not been drinking</td>\n",
       "      <td>None</td>\n",
       "      <td>0</td>\n",
       "    </tr>\n",
       "    <tr>\n",
       "      <th>1</th>\n",
       "      <td>23</td>\n",
       "      <td>3899454</td>\n",
       "      <td>2</td>\n",
       "      <td>road signs</td>\n",
       "      <td>0</td>\n",
       "      <td>7.0</td>\n",
       "      <td>had not been drinking</td>\n",
       "      <td>None</td>\n",
       "      <td>0</td>\n",
       "    </tr>\n",
       "    <tr>\n",
       "      <th>2</th>\n",
       "      <td>29</td>\n",
       "      <td>3899462</td>\n",
       "      <td>2</td>\n",
       "      <td>car</td>\n",
       "      <td>0</td>\n",
       "      <td>21.0</td>\n",
       "      <td>had not been drinking</td>\n",
       "      <td>None</td>\n",
       "      <td>0</td>\n",
       "    </tr>\n",
       "    <tr>\n",
       "      <th>3</th>\n",
       "      <td>31</td>\n",
       "      <td>3899465</td>\n",
       "      <td>2</td>\n",
       "      <td>road signs</td>\n",
       "      <td>0</td>\n",
       "      <td>24.0</td>\n",
       "      <td>had not been drinking</td>\n",
       "      <td>None</td>\n",
       "      <td>0</td>\n",
       "    </tr>\n",
       "    <tr>\n",
       "      <th>4</th>\n",
       "      <td>41</td>\n",
       "      <td>3899478</td>\n",
       "      <td>2</td>\n",
       "      <td>road bumper</td>\n",
       "      <td>0</td>\n",
       "      <td>NaN</td>\n",
       "      <td>not applicable</td>\n",
       "      <td>not applicable</td>\n",
       "      <td>0</td>\n",
       "    </tr>\n",
       "  </tbody>\n",
       "</table>\n",
       "</div>"
      ],
      "text/plain": [
       "   id  case_id  party_number   party_type  at_fault  insurance_premium  \\\n",
       "0  22  3899454             1   road signs         1               29.0   \n",
       "1  23  3899454             2   road signs         0                7.0   \n",
       "2  29  3899462             2          car         0               21.0   \n",
       "3  31  3899465             2   road signs         0               24.0   \n",
       "4  41  3899478             2  road bumper         0                NaN   \n",
       "\n",
       "          party_sobriety party_drug_physical  cellphone_in_use  \n",
       "0  had not been drinking                None                 0  \n",
       "1  had not been drinking                None                 0  \n",
       "2  had not been drinking                None                 0  \n",
       "3  had not been drinking                None                 0  \n",
       "4         not applicable      not applicable                 0  "
      ]
     },
     "metadata": {},
     "output_type": "display_data"
    },
    {
     "name": "stdout",
     "output_type": "stream",
     "text": [
      "Столбцы:\n",
      "  id: INTEGER\n",
      "  case_id: TEXT\n",
      "  party_number: INTEGER\n",
      "  party_type: TEXT\n",
      "  at_fault: INTEGER\n",
      "  insurance_premium: INTEGER\n",
      "  party_sobriety: TEXT\n",
      "  party_drug_physical: TEXT\n",
      "  cellphone_in_use: INTEGER\n",
      "\n",
      "Таблица: vehicles, количество записей: 1021234\n"
     ]
    },
    {
     "data": {
      "text/html": [
       "<div>\n",
       "<style scoped>\n",
       "    .dataframe tbody tr th:only-of-type {\n",
       "        vertical-align: middle;\n",
       "    }\n",
       "\n",
       "    .dataframe tbody tr th {\n",
       "        vertical-align: top;\n",
       "    }\n",
       "\n",
       "    .dataframe thead th {\n",
       "        text-align: right;\n",
       "    }\n",
       "</style>\n",
       "<table border=\"1\" class=\"dataframe\">\n",
       "  <thead>\n",
       "    <tr style=\"text-align: right;\">\n",
       "      <th></th>\n",
       "      <th>id</th>\n",
       "      <th>case_id</th>\n",
       "      <th>party_number</th>\n",
       "      <th>vehicle_type</th>\n",
       "      <th>vehicle_transmission</th>\n",
       "      <th>vehicle_age</th>\n",
       "    </tr>\n",
       "  </thead>\n",
       "  <tbody>\n",
       "    <tr>\n",
       "      <th>0</th>\n",
       "      <td>1175713</td>\n",
       "      <td>5305032</td>\n",
       "      <td>2</td>\n",
       "      <td>sedan</td>\n",
       "      <td>manual</td>\n",
       "      <td>3</td>\n",
       "    </tr>\n",
       "    <tr>\n",
       "      <th>1</th>\n",
       "      <td>1</td>\n",
       "      <td>3858022</td>\n",
       "      <td>1</td>\n",
       "      <td>sedan</td>\n",
       "      <td>auto</td>\n",
       "      <td>3</td>\n",
       "    </tr>\n",
       "    <tr>\n",
       "      <th>2</th>\n",
       "      <td>1175712</td>\n",
       "      <td>5305030</td>\n",
       "      <td>1</td>\n",
       "      <td>sedan</td>\n",
       "      <td>auto</td>\n",
       "      <td>3</td>\n",
       "    </tr>\n",
       "    <tr>\n",
       "      <th>3</th>\n",
       "      <td>1175717</td>\n",
       "      <td>5305033</td>\n",
       "      <td>3</td>\n",
       "      <td>sedan</td>\n",
       "      <td>auto</td>\n",
       "      <td>5</td>\n",
       "    </tr>\n",
       "    <tr>\n",
       "      <th>4</th>\n",
       "      <td>1175722</td>\n",
       "      <td>5305034</td>\n",
       "      <td>2</td>\n",
       "      <td>sedan</td>\n",
       "      <td>auto</td>\n",
       "      <td>5</td>\n",
       "    </tr>\n",
       "  </tbody>\n",
       "</table>\n",
       "</div>"
      ],
      "text/plain": [
       "        id  case_id  party_number vehicle_type vehicle_transmission  \\\n",
       "0  1175713  5305032             2        sedan               manual   \n",
       "1        1  3858022             1        sedan                 auto   \n",
       "2  1175712  5305030             1        sedan                 auto   \n",
       "3  1175717  5305033             3        sedan                 auto   \n",
       "4  1175722  5305034             2        sedan                 auto   \n",
       "\n",
       "   vehicle_age  \n",
       "0            3  \n",
       "1            3  \n",
       "2            3  \n",
       "3            5  \n",
       "4            5  "
      ]
     },
     "metadata": {},
     "output_type": "display_data"
    },
    {
     "name": "stdout",
     "output_type": "stream",
     "text": [
      "Столбцы:\n",
      "  id: INTEGER\n",
      "  case_id: TEXT\n",
      "  party_number: INTEGER\n",
      "  vehicle_type: TEXT\n",
      "  vehicle_transmission: TEXT\n",
      "  vehicle_age: INTEGER\n",
      "\n"
     ]
    }
   ],
   "source": [
    "for table_name in table_names:\n",
    "\n",
    "    with engine.connect() as connection:\n",
    "        row_count = connection.execute(text(f\"SELECT COUNT(*) FROM {table_name}\")).scalar()\n",
    "        print(f\"Таблица: {table_name}, количество записей: {row_count}\")\n",
    "\n",
    "        query_sample = f'''\n",
    "                        SELECT *\n",
    "                        FROM {table_name}\n",
    "                        LIMIT 5'''\n",
    "        sample_data = pd.read_sql_query(query_sample, con = engine)\n",
    "        display(sample_data)\n",
    "   \n",
    "    columns = inspector.get_columns(table_name)\n",
    "    print(\"Столбцы:\")\n",
    "    for column in columns:\n",
    "        column_name = column['name']\n",
    "        column_type = str(column['type'])  # Тип данных столбца\n",
    "        print(f\"  {column_name}: {column_type}\")\n",
    "    print()"
   ]
  },
  {
   "cell_type": "markdown",
   "id": "5f18c65f",
   "metadata": {},
   "source": [
    "В базе присутствуют все таблицы, указанные в описании данных. Каждая из указанных таблиц не является пустой и содержит значительное количество записей. В таблицах `vehicles` и `parties` для связи есть поля `case_id` and `party_number`, сочетание которых является уникальным ключом. Для связи с таблицой `collisions` будет использоваться поле `case_id`. Описание таблиц соответствует действительности не для всех случаев."
   ]
  },
  {
   "cell_type": "markdown",
   "id": "f490114b",
   "metadata": {},
   "source": [
    "В описании таблиц нет информации о `case_ids`. В ней содержатся всего 2 столбца. Изучим подробнее, что в ней содержится."
   ]
  },
  {
   "cell_type": "code",
   "execution_count": 9,
   "id": "3710bc14",
   "metadata": {},
   "outputs": [
    {
     "data": {
      "text/html": [
       "<div>\n",
       "<style scoped>\n",
       "    .dataframe tbody tr th:only-of-type {\n",
       "        vertical-align: middle;\n",
       "    }\n",
       "\n",
       "    .dataframe tbody tr th {\n",
       "        vertical-align: top;\n",
       "    }\n",
       "\n",
       "    .dataframe thead th {\n",
       "        text-align: right;\n",
       "    }\n",
       "</style>\n",
       "<table border=\"1\" class=\"dataframe\">\n",
       "  <thead>\n",
       "    <tr style=\"text-align: right;\">\n",
       "      <th></th>\n",
       "      <th>db_year</th>\n",
       "      <th>count</th>\n",
       "    </tr>\n",
       "  </thead>\n",
       "  <tbody>\n",
       "    <tr>\n",
       "      <th>0</th>\n",
       "      <td>2021</td>\n",
       "      <td>1400000</td>\n",
       "    </tr>\n",
       "  </tbody>\n",
       "</table>\n",
       "</div>"
      ],
      "text/plain": [
       "  db_year    count\n",
       "0    2021  1400000"
      ]
     },
     "execution_count": 9,
     "metadata": {},
     "output_type": "execute_result"
    }
   ],
   "source": [
    "query_case_ids = '''\n",
    "SELECT db_year,\n",
    "       COUNT(case_id)\n",
    "FROM case_ids\n",
    "GROUP BY db_year\n",
    "'''\n",
    "\n",
    "case_ids = pd.read_sql_query(query_case_ids, con = engine)\n",
    "case_ids"
   ]
  },
  {
   "cell_type": "markdown",
   "id": "9fd1b739",
   "metadata": {},
   "source": [
    "Опираться на по поле `db_year` при получении данных за определенный период мы не можем. Наиболее вероятно, что данные вносились в базу единовременно в 2021 году. Значит, нам нужно использовать поле `collision_date` из таблицы `collisions`. \n",
    "\n",
    "Таблица `case_ids` для проведения дальнейшего исследования не требуется."
   ]
  },
  {
   "cell_type": "markdown",
   "id": "e9cbe816",
   "metadata": {},
   "source": [
    "__Промежуточный вывод:__\n",
    "\n",
    "- в базе содержатся непустые таблицы, отображенные на ER диаграмме (`collisions` - 1 400 000 записей, `case_ids` - 1 400 000 записей, `parties` - 2 752 408 записей, `vehicles` - 1 021 234 записей);\n",
    "- для проведения дальнейшего исследования данных достаточно, таблица `case_ids` не требуется;\n",
    "- в таблицах `vehicles` и `parties` для связи есть поля `case_id` and `party_number`, сочетание которых является уникальным ключом, для связи с таблицой `collisions` будет использоваться поле `case_id`."
   ]
  },
  {
   "cell_type": "markdown",
   "id": "eec291cf",
   "metadata": {},
   "source": [
    "## Статистический анализ факторов ДТП"
   ]
  },
  {
   "cell_type": "markdown",
   "id": "790fed4b",
   "metadata": {},
   "source": [
    "### Задача: _Выясните, в какие месяцы происходит наибольшее количество аварий. Проанализируйте весь период наблюдений (таблица collisions)._"
   ]
  },
  {
   "cell_type": "markdown",
   "id": "92134a47",
   "metadata": {},
   "source": [
    "Посмотрим, как представлены данные за разные месяцы."
   ]
  },
  {
   "cell_type": "code",
   "execution_count": 10,
   "id": "3c967117",
   "metadata": {},
   "outputs": [
    {
     "data": {
      "text/html": [
       "<div>\n",
       "<style scoped>\n",
       "    .dataframe tbody tr th:only-of-type {\n",
       "        vertical-align: middle;\n",
       "    }\n",
       "\n",
       "    .dataframe tbody tr th {\n",
       "        vertical-align: top;\n",
       "    }\n",
       "\n",
       "    .dataframe thead th {\n",
       "        text-align: right;\n",
       "    }\n",
       "</style>\n",
       "<table border=\"1\" class=\"dataframe\">\n",
       "  <thead>\n",
       "    <tr style=\"text-align: right;\">\n",
       "      <th></th>\n",
       "      <th>collision_date_month</th>\n",
       "      <th>count</th>\n",
       "    </tr>\n",
       "  </thead>\n",
       "  <tbody>\n",
       "    <tr>\n",
       "      <th>0</th>\n",
       "      <td>2009-01-01</td>\n",
       "      <td>35062</td>\n",
       "    </tr>\n",
       "    <tr>\n",
       "      <th>1</th>\n",
       "      <td>2009-02-01</td>\n",
       "      <td>34480</td>\n",
       "    </tr>\n",
       "    <tr>\n",
       "      <th>2</th>\n",
       "      <td>2009-03-01</td>\n",
       "      <td>36648</td>\n",
       "    </tr>\n",
       "    <tr>\n",
       "      <th>3</th>\n",
       "      <td>2009-04-01</td>\n",
       "      <td>35239</td>\n",
       "    </tr>\n",
       "    <tr>\n",
       "      <th>4</th>\n",
       "      <td>2009-05-01</td>\n",
       "      <td>36916</td>\n",
       "    </tr>\n",
       "    <tr>\n",
       "      <th>5</th>\n",
       "      <td>2009-06-01</td>\n",
       "      <td>34202</td>\n",
       "    </tr>\n",
       "    <tr>\n",
       "      <th>6</th>\n",
       "      <td>2009-07-01</td>\n",
       "      <td>35161</td>\n",
       "    </tr>\n",
       "    <tr>\n",
       "      <th>7</th>\n",
       "      <td>2009-08-01</td>\n",
       "      <td>34508</td>\n",
       "    </tr>\n",
       "    <tr>\n",
       "      <th>8</th>\n",
       "      <td>2009-09-01</td>\n",
       "      <td>35555</td>\n",
       "    </tr>\n",
       "    <tr>\n",
       "      <th>9</th>\n",
       "      <td>2009-10-01</td>\n",
       "      <td>37835</td>\n",
       "    </tr>\n",
       "    <tr>\n",
       "      <th>10</th>\n",
       "      <td>2009-11-01</td>\n",
       "      <td>34562</td>\n",
       "    </tr>\n",
       "    <tr>\n",
       "      <th>11</th>\n",
       "      <td>2009-12-01</td>\n",
       "      <td>36060</td>\n",
       "    </tr>\n",
       "    <tr>\n",
       "      <th>12</th>\n",
       "      <td>2010-01-01</td>\n",
       "      <td>32892</td>\n",
       "    </tr>\n",
       "    <tr>\n",
       "      <th>13</th>\n",
       "      <td>2010-02-01</td>\n",
       "      <td>31918</td>\n",
       "    </tr>\n",
       "    <tr>\n",
       "      <th>14</th>\n",
       "      <td>2010-03-01</td>\n",
       "      <td>35803</td>\n",
       "    </tr>\n",
       "    <tr>\n",
       "      <th>15</th>\n",
       "      <td>2010-04-01</td>\n",
       "      <td>34416</td>\n",
       "    </tr>\n",
       "    <tr>\n",
       "      <th>16</th>\n",
       "      <td>2010-05-01</td>\n",
       "      <td>34862</td>\n",
       "    </tr>\n",
       "    <tr>\n",
       "      <th>17</th>\n",
       "      <td>2010-06-01</td>\n",
       "      <td>33367</td>\n",
       "    </tr>\n",
       "    <tr>\n",
       "      <th>18</th>\n",
       "      <td>2010-07-01</td>\n",
       "      <td>33645</td>\n",
       "    </tr>\n",
       "    <tr>\n",
       "      <th>19</th>\n",
       "      <td>2010-08-01</td>\n",
       "      <td>34620</td>\n",
       "    </tr>\n",
       "    <tr>\n",
       "      <th>20</th>\n",
       "      <td>2010-09-01</td>\n",
       "      <td>34957</td>\n",
       "    </tr>\n",
       "    <tr>\n",
       "      <th>21</th>\n",
       "      <td>2010-10-01</td>\n",
       "      <td>37480</td>\n",
       "    </tr>\n",
       "    <tr>\n",
       "      <th>22</th>\n",
       "      <td>2010-11-01</td>\n",
       "      <td>35460</td>\n",
       "    </tr>\n",
       "    <tr>\n",
       "      <th>23</th>\n",
       "      <td>2010-12-01</td>\n",
       "      <td>37070</td>\n",
       "    </tr>\n",
       "    <tr>\n",
       "      <th>24</th>\n",
       "      <td>2011-01-01</td>\n",
       "      <td>31926</td>\n",
       "    </tr>\n",
       "    <tr>\n",
       "      <th>25</th>\n",
       "      <td>2011-02-01</td>\n",
       "      <td>31975</td>\n",
       "    </tr>\n",
       "    <tr>\n",
       "      <th>26</th>\n",
       "      <td>2011-03-01</td>\n",
       "      <td>34585</td>\n",
       "    </tr>\n",
       "    <tr>\n",
       "      <th>27</th>\n",
       "      <td>2011-04-01</td>\n",
       "      <td>31377</td>\n",
       "    </tr>\n",
       "    <tr>\n",
       "      <th>28</th>\n",
       "      <td>2011-05-01</td>\n",
       "      <td>33370</td>\n",
       "    </tr>\n",
       "    <tr>\n",
       "      <th>29</th>\n",
       "      <td>2011-06-01</td>\n",
       "      <td>31962</td>\n",
       "    </tr>\n",
       "    <tr>\n",
       "      <th>30</th>\n",
       "      <td>2011-07-01</td>\n",
       "      <td>33029</td>\n",
       "    </tr>\n",
       "    <tr>\n",
       "      <th>31</th>\n",
       "      <td>2011-08-01</td>\n",
       "      <td>34339</td>\n",
       "    </tr>\n",
       "    <tr>\n",
       "      <th>32</th>\n",
       "      <td>2011-09-01</td>\n",
       "      <td>34137</td>\n",
       "    </tr>\n",
       "    <tr>\n",
       "      <th>33</th>\n",
       "      <td>2011-10-01</td>\n",
       "      <td>36618</td>\n",
       "    </tr>\n",
       "    <tr>\n",
       "      <th>34</th>\n",
       "      <td>2011-11-01</td>\n",
       "      <td>34495</td>\n",
       "    </tr>\n",
       "    <tr>\n",
       "      <th>35</th>\n",
       "      <td>2011-12-01</td>\n",
       "      <td>34615</td>\n",
       "    </tr>\n",
       "    <tr>\n",
       "      <th>36</th>\n",
       "      <td>2012-01-01</td>\n",
       "      <td>32020</td>\n",
       "    </tr>\n",
       "    <tr>\n",
       "      <th>37</th>\n",
       "      <td>2012-02-01</td>\n",
       "      <td>30377</td>\n",
       "    </tr>\n",
       "    <tr>\n",
       "      <th>38</th>\n",
       "      <td>2012-03-01</td>\n",
       "      <td>32498</td>\n",
       "    </tr>\n",
       "    <tr>\n",
       "      <th>39</th>\n",
       "      <td>2012-04-01</td>\n",
       "      <td>29143</td>\n",
       "    </tr>\n",
       "    <tr>\n",
       "      <th>40</th>\n",
       "      <td>2012-05-01</td>\n",
       "      <td>25168</td>\n",
       "    </tr>\n",
       "    <tr>\n",
       "      <th>41</th>\n",
       "      <td>2012-06-01</td>\n",
       "      <td>3062</td>\n",
       "    </tr>\n",
       "    <tr>\n",
       "      <th>42</th>\n",
       "      <td>2012-07-01</td>\n",
       "      <td>390</td>\n",
       "    </tr>\n",
       "    <tr>\n",
       "      <th>43</th>\n",
       "      <td>2012-08-01</td>\n",
       "      <td>622</td>\n",
       "    </tr>\n",
       "    <tr>\n",
       "      <th>44</th>\n",
       "      <td>2012-09-01</td>\n",
       "      <td>510</td>\n",
       "    </tr>\n",
       "    <tr>\n",
       "      <th>45</th>\n",
       "      <td>2012-10-01</td>\n",
       "      <td>304</td>\n",
       "    </tr>\n",
       "    <tr>\n",
       "      <th>46</th>\n",
       "      <td>2012-11-01</td>\n",
       "      <td>253</td>\n",
       "    </tr>\n",
       "    <tr>\n",
       "      <th>47</th>\n",
       "      <td>2012-12-01</td>\n",
       "      <td>200</td>\n",
       "    </tr>\n",
       "    <tr>\n",
       "      <th>48</th>\n",
       "      <td>2013-01-01</td>\n",
       "      <td>144</td>\n",
       "    </tr>\n",
       "    <tr>\n",
       "      <th>49</th>\n",
       "      <td>2013-02-01</td>\n",
       "      <td>108</td>\n",
       "    </tr>\n",
       "    <tr>\n",
       "      <th>50</th>\n",
       "      <td>2013-03-01</td>\n",
       "      <td>46</td>\n",
       "    </tr>\n",
       "    <tr>\n",
       "      <th>51</th>\n",
       "      <td>2013-04-01</td>\n",
       "      <td>5</td>\n",
       "    </tr>\n",
       "    <tr>\n",
       "      <th>52</th>\n",
       "      <td>2013-06-01</td>\n",
       "      <td>1</td>\n",
       "    </tr>\n",
       "    <tr>\n",
       "      <th>53</th>\n",
       "      <td>2013-07-01</td>\n",
       "      <td>1</td>\n",
       "    </tr>\n",
       "    <tr>\n",
       "      <th>54</th>\n",
       "      <td>2020-03-01</td>\n",
       "      <td>1</td>\n",
       "    </tr>\n",
       "    <tr>\n",
       "      <th>55</th>\n",
       "      <td>2020-07-01</td>\n",
       "      <td>1</td>\n",
       "    </tr>\n",
       "  </tbody>\n",
       "</table>\n",
       "</div>"
      ],
      "text/plain": [
       "   collision_date_month  count\n",
       "0            2009-01-01  35062\n",
       "1            2009-02-01  34480\n",
       "2            2009-03-01  36648\n",
       "3            2009-04-01  35239\n",
       "4            2009-05-01  36916\n",
       "5            2009-06-01  34202\n",
       "6            2009-07-01  35161\n",
       "7            2009-08-01  34508\n",
       "8            2009-09-01  35555\n",
       "9            2009-10-01  37835\n",
       "10           2009-11-01  34562\n",
       "11           2009-12-01  36060\n",
       "12           2010-01-01  32892\n",
       "13           2010-02-01  31918\n",
       "14           2010-03-01  35803\n",
       "15           2010-04-01  34416\n",
       "16           2010-05-01  34862\n",
       "17           2010-06-01  33367\n",
       "18           2010-07-01  33645\n",
       "19           2010-08-01  34620\n",
       "20           2010-09-01  34957\n",
       "21           2010-10-01  37480\n",
       "22           2010-11-01  35460\n",
       "23           2010-12-01  37070\n",
       "24           2011-01-01  31926\n",
       "25           2011-02-01  31975\n",
       "26           2011-03-01  34585\n",
       "27           2011-04-01  31377\n",
       "28           2011-05-01  33370\n",
       "29           2011-06-01  31962\n",
       "30           2011-07-01  33029\n",
       "31           2011-08-01  34339\n",
       "32           2011-09-01  34137\n",
       "33           2011-10-01  36618\n",
       "34           2011-11-01  34495\n",
       "35           2011-12-01  34615\n",
       "36           2012-01-01  32020\n",
       "37           2012-02-01  30377\n",
       "38           2012-03-01  32498\n",
       "39           2012-04-01  29143\n",
       "40           2012-05-01  25168\n",
       "41           2012-06-01   3062\n",
       "42           2012-07-01    390\n",
       "43           2012-08-01    622\n",
       "44           2012-09-01    510\n",
       "45           2012-10-01    304\n",
       "46           2012-11-01    253\n",
       "47           2012-12-01    200\n",
       "48           2013-01-01    144\n",
       "49           2013-02-01    108\n",
       "50           2013-03-01     46\n",
       "51           2013-04-01      5\n",
       "52           2013-06-01      1\n",
       "53           2013-07-01      1\n",
       "54           2020-03-01      1\n",
       "55           2020-07-01      1"
      ]
     },
     "execution_count": 10,
     "metadata": {},
     "output_type": "execute_result"
    }
   ],
   "source": [
    "collisions_by_period_query = '''\n",
    "SELECT DATE_TRUNC('month', CAST(collision_date AS timestamp)) AS collision_date_month,\n",
    "       COUNT(*)\n",
    "FROM collisions\n",
    "GROUP BY collision_date_month\n",
    "'''\n",
    "\n",
    "collisions_by_period = pd.read_sql_query(collisions_by_period_query, con = engine)\n",
    "collisions_by_period"
   ]
  },
  {
   "cell_type": "code",
   "execution_count": 11,
   "id": "ca1d1ce1",
   "metadata": {},
   "outputs": [
    {
     "data": {
      "image/png": "[encoded data removed]",
      "text/plain": [
       "<Figure size 1080x432 with 1 Axes>"
      ]
     },
     "metadata": {
      "needs_background": "light"
     },
     "output_type": "display_data"
    }
   ],
   "source": [
    "# Построение графика\n",
    "_, ax = plt.subplots(figsize=(15, 6))\n",
    "plt.plot(collisions_by_period['collision_date_month'], collisions_by_period['count'], marker='o')\n",
    "plt.title('Количество столкновений по месяцам', fontsize=TITLE_SIZE)\n",
    "plt.xlabel('Дата', fontsize=LABEL_SIZE)\n",
    "plt.ylabel('Количество столкновений', fontsize=LABEL_SIZE)\n",
    "plt.grid(True)\n",
    "plt.show()"
   ]
  },
  {
   "cell_type": "markdown",
   "id": "454e501f",
   "metadata": {},
   "source": [
    "С января 2009 по апрель 2012 года в базе есть информация о примерно 30 000 ДТП в месяц. Затем это число заметно снижается. Такое резкое снижение скорее говорит нам о прекращении внесения данных за последующие периоды, чем о резком снижении аварийности."
   ]
  },
  {
   "cell_type": "markdown",
   "id": "41c3bbbf",
   "metadata": {},
   "source": [
    "> Заказчик предлагает для моделирования ограничиться данными за 2012 год — они самые свежие. \n",
    "\n",
    "Данные за 2012 год внесены не полностью, они не будут в полной мере отражать аварийность на дороге, это может привести к построению неверных зависимостей и ошибочным результатам моделирования. Модель, возможно, будет неплохо предсказывать только для первых 5 месяцев года. Стоит обсудить с заказчиком использование данных за период с мая 2011 по апрель 2012 года. Это даст полные данные за год (за каждый из 12 месяцев) и позволит учесть сезонность поездки."
   ]
  },
  {
   "cell_type": "markdown",
   "id": "ac789853",
   "metadata": {},
   "source": [
    "Проанализируем данные о ДТП в разрезе по месяцам. Т.к. данные с 2012 года внесены не в полном объеме, не будем их учитывать в следующем запросе."
   ]
  },
  {
   "cell_type": "code",
   "execution_count": 12,
   "id": "d139e3a8",
   "metadata": {},
   "outputs": [
    {
     "data": {
      "text/html": [
       "<div>\n",
       "<style scoped>\n",
       "    .dataframe tbody tr th:only-of-type {\n",
       "        vertical-align: middle;\n",
       "    }\n",
       "\n",
       "    .dataframe tbody tr th {\n",
       "        vertical-align: top;\n",
       "    }\n",
       "\n",
       "    .dataframe thead th {\n",
       "        text-align: right;\n",
       "    }\n",
       "</style>\n",
       "<table border=\"1\" class=\"dataframe\">\n",
       "  <thead>\n",
       "    <tr style=\"text-align: right;\">\n",
       "      <th></th>\n",
       "      <th>month_name</th>\n",
       "      <th>count</th>\n",
       "    </tr>\n",
       "  </thead>\n",
       "  <tbody>\n",
       "    <tr>\n",
       "      <th>1</th>\n",
       "      <td>Февраль</td>\n",
       "      <td>98373</td>\n",
       "    </tr>\n",
       "    <tr>\n",
       "      <th>5</th>\n",
       "      <td>Июнь</td>\n",
       "      <td>99531</td>\n",
       "    </tr>\n",
       "    <tr>\n",
       "      <th>0</th>\n",
       "      <td>Январь</td>\n",
       "      <td>99880</td>\n",
       "    </tr>\n",
       "    <tr>\n",
       "      <th>3</th>\n",
       "      <td>Апрель</td>\n",
       "      <td>101032</td>\n",
       "    </tr>\n",
       "    <tr>\n",
       "      <th>6</th>\n",
       "      <td>Июль</td>\n",
       "      <td>101835</td>\n",
       "    </tr>\n",
       "    <tr>\n",
       "      <th>7</th>\n",
       "      <td>Август</td>\n",
       "      <td>103467</td>\n",
       "    </tr>\n",
       "    <tr>\n",
       "      <th>10</th>\n",
       "      <td>Ноябрь</td>\n",
       "      <td>104517</td>\n",
       "    </tr>\n",
       "    <tr>\n",
       "      <th>8</th>\n",
       "      <td>Сентябрь</td>\n",
       "      <td>104649</td>\n",
       "    </tr>\n",
       "    <tr>\n",
       "      <th>4</th>\n",
       "      <td>Май</td>\n",
       "      <td>105148</td>\n",
       "    </tr>\n",
       "    <tr>\n",
       "      <th>2</th>\n",
       "      <td>Март</td>\n",
       "      <td>107036</td>\n",
       "    </tr>\n",
       "    <tr>\n",
       "      <th>11</th>\n",
       "      <td>Декабрь</td>\n",
       "      <td>107745</td>\n",
       "    </tr>\n",
       "    <tr>\n",
       "      <th>9</th>\n",
       "      <td>Октябрь</td>\n",
       "      <td>111933</td>\n",
       "    </tr>\n",
       "  </tbody>\n",
       "</table>\n",
       "</div>"
      ],
      "text/plain": [
       "   month_name   count\n",
       "1     Февраль   98373\n",
       "5        Июнь   99531\n",
       "0      Январь   99880\n",
       "3      Апрель  101032\n",
       "6        Июль  101835\n",
       "7      Август  103467\n",
       "10     Ноябрь  104517\n",
       "8    Сентябрь  104649\n",
       "4         Май  105148\n",
       "2        Март  107036\n",
       "11    Декабрь  107745\n",
       "9     Октябрь  111933"
      ]
     },
     "metadata": {},
     "output_type": "display_data"
    },
    {
     "data": {
      "image/png": "[encoded data removed]",
      "text/plain": [
       "<Figure size 1080x432 with 1 Axes>"
      ]
     },
     "metadata": {
      "needs_background": "light"
     },
     "output_type": "display_data"
    }
   ],
   "source": [
    "collisions_by_month_query = '''\n",
    "SELECT EXTRACT(MONTH FROM CAST(collision_date AS timestamp))::int AS month,\n",
    "       COUNT(*)\n",
    "FROM collisions\n",
    "WHERE EXTRACT(YEAR FROM CAST(collision_date AS timestamp)) < 2012\n",
    "GROUP BY month\n",
    "'''\n",
    "\n",
    "collisions_by_month = pd.read_sql_query(collisions_by_month_query, con = engine)\n",
    "collisions_by_month = collisions_by_month.sort_values(by='month')\n",
    "\n",
    "months = [\n",
    "    'Январь', 'Февраль', 'Март', 'Апрель', 'Май', 'Июнь', \n",
    "    'Июль', 'Август', 'Сентябрь', 'Октябрь', 'Ноябрь', 'Декабрь'\n",
    "]\n",
    "collisions_by_month['month_name'] = collisions_by_month['month'].apply(lambda x: months[x - 1])\n",
    "display(collisions_by_month[['month_name', 'count']].sort_values(by='count'))\n",
    "\n",
    "_, ax = plt.subplots(figsize=(15, 6))\n",
    "collisions_by_month.plot(kind='bar', x='month_name', y='count',\n",
    "                               legend=False, color='skyblue', edgecolor='black', rot=45, ax=ax)\n",
    "plt.title('Количество записей о ДТП по месяцам', fontsize=TITLE_SIZE)\n",
    "plt.ylabel('Количество ДТП', fontsize=LABEL_SIZE)\n",
    "plt.xlabel('Месяц', fontsize=LABEL_SIZE)\n",
    "plt.show()"
   ]
  },
  {
   "cell_type": "markdown",
   "id": "43dcee19",
   "metadata": {},
   "source": [
    "Наибольшее количество ДТП за период с 2009 по 2011 годы наблюдалось в октябре (111933), наименьшее - в феврале (98373). Никаких особенностей не наблюдается."
   ]
  },
  {
   "cell_type": "code",
   "execution_count": 13,
   "id": "09f5df4c",
   "metadata": {},
   "outputs": [
    {
     "data": {
      "text/html": [
       "<style  type=\"text/css\" >\n",
       "#T_63056_row0_col5,#T_63056_row1_col1,#T_63056_row2_col3,#T_63056_row3_col5,#T_63056_row3_col6,#T_63056_row3_col7,#T_63056_row3_col8,#T_63056_row3_col9,#T_63056_row3_col10,#T_63056_row3_col11{\n",
       "            background-color:  lightgreen;\n",
       "        }#T_63056_row0_col9,#T_63056_row1_col9,#T_63056_row2_col9,#T_63056_row3_col2{\n",
       "            background-color:  lightcoral;\n",
       "        }</style><table id=\"T_63056_\" ><thead>    <tr>        <th class=\"index_name level0\" >month</th>        <th class=\"col_heading level0 col0\" >1</th>        <th class=\"col_heading level0 col1\" >2</th>        <th class=\"col_heading level0 col2\" >3</th>        <th class=\"col_heading level0 col3\" >4</th>        <th class=\"col_heading level0 col4\" >5</th>        <th class=\"col_heading level0 col5\" >6</th>        <th class=\"col_heading level0 col6\" >7</th>        <th class=\"col_heading level0 col7\" >8</th>        <th class=\"col_heading level0 col8\" >9</th>        <th class=\"col_heading level0 col9\" >10</th>        <th class=\"col_heading level0 col10\" >11</th>        <th class=\"col_heading level0 col11\" >12</th>    </tr>    <tr>        <th class=\"index_name level0\" >year</th>        <th class=\"blank\" ></th>        <th class=\"blank\" ></th>        <th class=\"blank\" ></th>        <th class=\"blank\" ></th>        <th class=\"blank\" ></th>        <th class=\"blank\" ></th>        <th class=\"blank\" ></th>        <th class=\"blank\" ></th>        <th class=\"blank\" ></th>        <th class=\"blank\" ></th>        <th class=\"blank\" ></th>        <th class=\"blank\" ></th>    </tr></thead><tbody>\n",
       "                <tr>\n",
       "                        <th id=\"T_63056_level0_row0\" class=\"row_heading level0 row0\" >2009</th>\n",
       "                        <td id=\"T_63056_row0_col0\" class=\"data row0 col0\" >35062</td>\n",
       "                        <td id=\"T_63056_row0_col1\" class=\"data row0 col1\" >34480</td>\n",
       "                        <td id=\"T_63056_row0_col2\" class=\"data row0 col2\" >36648</td>\n",
       "                        <td id=\"T_63056_row0_col3\" class=\"data row0 col3\" >35239</td>\n",
       "                        <td id=\"T_63056_row0_col4\" class=\"data row0 col4\" >36916</td>\n",
       "                        <td id=\"T_63056_row0_col5\" class=\"data row0 col5\" >34202</td>\n",
       "                        <td id=\"T_63056_row0_col6\" class=\"data row0 col6\" >35161</td>\n",
       "                        <td id=\"T_63056_row0_col7\" class=\"data row0 col7\" >34508</td>\n",
       "                        <td id=\"T_63056_row0_col8\" class=\"data row0 col8\" >35555</td>\n",
       "                        <td id=\"T_63056_row0_col9\" class=\"data row0 col9\" >37835</td>\n",
       "                        <td id=\"T_63056_row0_col10\" class=\"data row0 col10\" >34562</td>\n",
       "                        <td id=\"T_63056_row0_col11\" class=\"data row0 col11\" >36060</td>\n",
       "            </tr>\n",
       "            <tr>\n",
       "                        <th id=\"T_63056_level0_row1\" class=\"row_heading level0 row1\" >2010</th>\n",
       "                        <td id=\"T_63056_row1_col0\" class=\"data row1 col0\" >32892</td>\n",
       "                        <td id=\"T_63056_row1_col1\" class=\"data row1 col1\" >31918</td>\n",
       "                        <td id=\"T_63056_row1_col2\" class=\"data row1 col2\" >35803</td>\n",
       "                        <td id=\"T_63056_row1_col3\" class=\"data row1 col3\" >34416</td>\n",
       "                        <td id=\"T_63056_row1_col4\" class=\"data row1 col4\" >34862</td>\n",
       "                        <td id=\"T_63056_row1_col5\" class=\"data row1 col5\" >33367</td>\n",
       "                        <td id=\"T_63056_row1_col6\" class=\"data row1 col6\" >33645</td>\n",
       "                        <td id=\"T_63056_row1_col7\" class=\"data row1 col7\" >34620</td>\n",
       "                        <td id=\"T_63056_row1_col8\" class=\"data row1 col8\" >34957</td>\n",
       "                        <td id=\"T_63056_row1_col9\" class=\"data row1 col9\" >37480</td>\n",
       "                        <td id=\"T_63056_row1_col10\" class=\"data row1 col10\" >35460</td>\n",
       "                        <td id=\"T_63056_row1_col11\" class=\"data row1 col11\" >37070</td>\n",
       "            </tr>\n",
       "            <tr>\n",
       "                        <th id=\"T_63056_level0_row2\" class=\"row_heading level0 row2\" >2011</th>\n",
       "                        <td id=\"T_63056_row2_col0\" class=\"data row2 col0\" >31926</td>\n",
       "                        <td id=\"T_63056_row2_col1\" class=\"data row2 col1\" >31975</td>\n",
       "                        <td id=\"T_63056_row2_col2\" class=\"data row2 col2\" >34585</td>\n",
       "                        <td id=\"T_63056_row2_col3\" class=\"data row2 col3\" >31377</td>\n",
       "                        <td id=\"T_63056_row2_col4\" class=\"data row2 col4\" >33370</td>\n",
       "                        <td id=\"T_63056_row2_col5\" class=\"data row2 col5\" >31962</td>\n",
       "                        <td id=\"T_63056_row2_col6\" class=\"data row2 col6\" >33029</td>\n",
       "                        <td id=\"T_63056_row2_col7\" class=\"data row2 col7\" >34339</td>\n",
       "                        <td id=\"T_63056_row2_col8\" class=\"data row2 col8\" >34137</td>\n",
       "                        <td id=\"T_63056_row2_col9\" class=\"data row2 col9\" >36618</td>\n",
       "                        <td id=\"T_63056_row2_col10\" class=\"data row2 col10\" >34495</td>\n",
       "                        <td id=\"T_63056_row2_col11\" class=\"data row2 col11\" >34615</td>\n",
       "            </tr>\n",
       "            <tr>\n",
       "                        <th id=\"T_63056_level0_row3\" class=\"row_heading level0 row3\" >2012</th>\n",
       "                        <td id=\"T_63056_row3_col0\" class=\"data row3 col0\" >32020</td>\n",
       "                        <td id=\"T_63056_row3_col1\" class=\"data row3 col1\" >30377</td>\n",
       "                        <td id=\"T_63056_row3_col2\" class=\"data row3 col2\" >32498</td>\n",
       "                        <td id=\"T_63056_row3_col3\" class=\"data row3 col3\" >29143</td>\n",
       "                        <td id=\"T_63056_row3_col4\" class=\"data row3 col4\" >25168</td>\n",
       "                        <td id=\"T_63056_row3_col5\" class=\"data row3 col5\" >0</td>\n",
       "                        <td id=\"T_63056_row3_col6\" class=\"data row3 col6\" >0</td>\n",
       "                        <td id=\"T_63056_row3_col7\" class=\"data row3 col7\" >0</td>\n",
       "                        <td id=\"T_63056_row3_col8\" class=\"data row3 col8\" >0</td>\n",
       "                        <td id=\"T_63056_row3_col9\" class=\"data row3 col9\" >0</td>\n",
       "                        <td id=\"T_63056_row3_col10\" class=\"data row3 col10\" >0</td>\n",
       "                        <td id=\"T_63056_row3_col11\" class=\"data row3 col11\" >0</td>\n",
       "            </tr>\n",
       "    </tbody></table>"
      ],
      "text/plain": [
       "<pandas.io.formats.style.Styler at 0x7f5e1073f4f0>"
      ]
     },
     "execution_count": 13,
     "metadata": {},
     "output_type": "execute_result"
    }
   ],
   "source": [
    "collisions_by_month_year_query = '''\n",
    "SELECT EXTRACT(YEAR FROM CAST(collision_date AS timestamp))::int AS year,\n",
    "       EXTRACT(MONTH FROM CAST(collision_date AS timestamp))::int AS month,\n",
    "       COUNT(*)\n",
    "FROM collisions\n",
    "WHERE DATE_TRUNC('month', CAST(collision_date AS timestamp)) <= '2012-05-01'\n",
    "GROUP BY year, month\n",
    "'''\n",
    "\n",
    "collisions_by_month_year = pd.read_sql_query(collisions_by_month_year_query, con = engine)\n",
    "\n",
    "pivot_table = collisions_by_month_year.pivot_table(\n",
    "    index='year',  \n",
    "    columns='month',    \n",
    "    values='count', \n",
    "    fill_value=0       \n",
    ")\n",
    "\n",
    "styled_table = (\n",
    "    pivot_table\n",
    "    .style.highlight_max(axis=1, color='lightcoral')\n",
    "    .highlight_min(axis=1, color='lightgreen'))\n",
    "styled_table"
   ]
  },
  {
   "cell_type": "markdown",
   "id": "29355964",
   "metadata": {},
   "source": [
    "Как общую тенденцию можно выделить то, что с 2009 по 2011 годы наибольшее число ДТП приходилось на октябрь (данные за октябрь 2012 года отсутствуют). "
   ]
  },
  {
   "cell_type": "code",
   "execution_count": 14,
   "id": "b028e19c",
   "metadata": {},
   "outputs": [
    {
     "data": {
      "text/html": [
       "<div>\n",
       "<style scoped>\n",
       "    .dataframe tbody tr th:only-of-type {\n",
       "        vertical-align: middle;\n",
       "    }\n",
       "\n",
       "    .dataframe tbody tr th {\n",
       "        vertical-align: top;\n",
       "    }\n",
       "\n",
       "    .dataframe thead th {\n",
       "        text-align: right;\n",
       "    }\n",
       "</style>\n",
       "<table border=\"1\" class=\"dataframe\">\n",
       "  <thead>\n",
       "    <tr style=\"text-align: right;\">\n",
       "      <th></th>\n",
       "      <th>county_location</th>\n",
       "      <th>count</th>\n",
       "    </tr>\n",
       "  </thead>\n",
       "  <tbody>\n",
       "    <tr>\n",
       "      <th>0</th>\n",
       "      <td>alameda</td>\n",
       "      <td>64553</td>\n",
       "    </tr>\n",
       "    <tr>\n",
       "      <th>1</th>\n",
       "      <td>alpine</td>\n",
       "      <td>290</td>\n",
       "    </tr>\n",
       "    <tr>\n",
       "      <th>2</th>\n",
       "      <td>amador</td>\n",
       "      <td>1741</td>\n",
       "    </tr>\n",
       "    <tr>\n",
       "      <th>3</th>\n",
       "      <td>butte</td>\n",
       "      <td>6394</td>\n",
       "    </tr>\n",
       "    <tr>\n",
       "      <th>4</th>\n",
       "      <td>calaveras</td>\n",
       "      <td>1870</td>\n",
       "    </tr>\n",
       "    <tr>\n",
       "      <th>5</th>\n",
       "      <td>colusa</td>\n",
       "      <td>1086</td>\n",
       "    </tr>\n",
       "    <tr>\n",
       "      <th>6</th>\n",
       "      <td>contra costa</td>\n",
       "      <td>31492</td>\n",
       "    </tr>\n",
       "    <tr>\n",
       "      <th>7</th>\n",
       "      <td>del norte</td>\n",
       "      <td>1207</td>\n",
       "    </tr>\n",
       "    <tr>\n",
       "      <th>8</th>\n",
       "      <td>el dorado</td>\n",
       "      <td>5562</td>\n",
       "    </tr>\n",
       "    <tr>\n",
       "      <th>9</th>\n",
       "      <td>fresno</td>\n",
       "      <td>26476</td>\n",
       "    </tr>\n",
       "    <tr>\n",
       "      <th>10</th>\n",
       "      <td>glenn</td>\n",
       "      <td>1064</td>\n",
       "    </tr>\n",
       "    <tr>\n",
       "      <th>11</th>\n",
       "      <td>humboldt</td>\n",
       "      <td>6830</td>\n",
       "    </tr>\n",
       "    <tr>\n",
       "      <th>12</th>\n",
       "      <td>imperial</td>\n",
       "      <td>3955</td>\n",
       "    </tr>\n",
       "    <tr>\n",
       "      <th>13</th>\n",
       "      <td>inyo</td>\n",
       "      <td>1029</td>\n",
       "    </tr>\n",
       "    <tr>\n",
       "      <th>14</th>\n",
       "      <td>kern</td>\n",
       "      <td>29027</td>\n",
       "    </tr>\n",
       "    <tr>\n",
       "      <th>15</th>\n",
       "      <td>kings</td>\n",
       "      <td>4672</td>\n",
       "    </tr>\n",
       "    <tr>\n",
       "      <th>16</th>\n",
       "      <td>lake</td>\n",
       "      <td>2122</td>\n",
       "    </tr>\n",
       "    <tr>\n",
       "      <th>17</th>\n",
       "      <td>lassen</td>\n",
       "      <td>1448</td>\n",
       "    </tr>\n",
       "    <tr>\n",
       "      <th>18</th>\n",
       "      <td>los angeles</td>\n",
       "      <td>433809</td>\n",
       "    </tr>\n",
       "    <tr>\n",
       "      <th>19</th>\n",
       "      <td>madera</td>\n",
       "      <td>5468</td>\n",
       "    </tr>\n",
       "    <tr>\n",
       "      <th>20</th>\n",
       "      <td>marin</td>\n",
       "      <td>9601</td>\n",
       "    </tr>\n",
       "    <tr>\n",
       "      <th>21</th>\n",
       "      <td>mariposa</td>\n",
       "      <td>810</td>\n",
       "    </tr>\n",
       "    <tr>\n",
       "      <th>22</th>\n",
       "      <td>mendocino</td>\n",
       "      <td>3852</td>\n",
       "    </tr>\n",
       "    <tr>\n",
       "      <th>23</th>\n",
       "      <td>merced</td>\n",
       "      <td>10858</td>\n",
       "    </tr>\n",
       "    <tr>\n",
       "      <th>24</th>\n",
       "      <td>modoc</td>\n",
       "      <td>407</td>\n",
       "    </tr>\n",
       "    <tr>\n",
       "      <th>25</th>\n",
       "      <td>mono</td>\n",
       "      <td>945</td>\n",
       "    </tr>\n",
       "    <tr>\n",
       "      <th>26</th>\n",
       "      <td>monterey</td>\n",
       "      <td>17861</td>\n",
       "    </tr>\n",
       "    <tr>\n",
       "      <th>27</th>\n",
       "      <td>napa</td>\n",
       "      <td>5295</td>\n",
       "    </tr>\n",
       "    <tr>\n",
       "      <th>28</th>\n",
       "      <td>nevada</td>\n",
       "      <td>4121</td>\n",
       "    </tr>\n",
       "    <tr>\n",
       "      <th>29</th>\n",
       "      <td>orange</td>\n",
       "      <td>118276</td>\n",
       "    </tr>\n",
       "    <tr>\n",
       "      <th>30</th>\n",
       "      <td>placer</td>\n",
       "      <td>13481</td>\n",
       "    </tr>\n",
       "    <tr>\n",
       "      <th>31</th>\n",
       "      <td>plumas</td>\n",
       "      <td>854</td>\n",
       "    </tr>\n",
       "    <tr>\n",
       "      <th>32</th>\n",
       "      <td>riverside</td>\n",
       "      <td>69328</td>\n",
       "    </tr>\n",
       "    <tr>\n",
       "      <th>33</th>\n",
       "      <td>sacramento</td>\n",
       "      <td>56988</td>\n",
       "    </tr>\n",
       "    <tr>\n",
       "      <th>34</th>\n",
       "      <td>san benito</td>\n",
       "      <td>1842</td>\n",
       "    </tr>\n",
       "    <tr>\n",
       "      <th>35</th>\n",
       "      <td>san bernardino</td>\n",
       "      <td>79382</td>\n",
       "    </tr>\n",
       "    <tr>\n",
       "      <th>36</th>\n",
       "      <td>san diego</td>\n",
       "      <td>78391</td>\n",
       "    </tr>\n",
       "    <tr>\n",
       "      <th>37</th>\n",
       "      <td>san francisco</td>\n",
       "      <td>20656</td>\n",
       "    </tr>\n",
       "    <tr>\n",
       "      <th>38</th>\n",
       "      <td>san joaquin</td>\n",
       "      <td>27263</td>\n",
       "    </tr>\n",
       "    <tr>\n",
       "      <th>39</th>\n",
       "      <td>san luis obispo</td>\n",
       "      <td>11505</td>\n",
       "    </tr>\n",
       "    <tr>\n",
       "      <th>40</th>\n",
       "      <td>san mateo</td>\n",
       "      <td>24591</td>\n",
       "    </tr>\n",
       "    <tr>\n",
       "      <th>41</th>\n",
       "      <td>santa barbara</td>\n",
       "      <td>19207</td>\n",
       "    </tr>\n",
       "    <tr>\n",
       "      <th>42</th>\n",
       "      <td>santa clara</td>\n",
       "      <td>50786</td>\n",
       "    </tr>\n",
       "    <tr>\n",
       "      <th>43</th>\n",
       "      <td>santa cruz</td>\n",
       "      <td>11570</td>\n",
       "    </tr>\n",
       "    <tr>\n",
       "      <th>44</th>\n",
       "      <td>shasta</td>\n",
       "      <td>7742</td>\n",
       "    </tr>\n",
       "    <tr>\n",
       "      <th>45</th>\n",
       "      <td>sierra</td>\n",
       "      <td>222</td>\n",
       "    </tr>\n",
       "    <tr>\n",
       "      <th>46</th>\n",
       "      <td>siskiyou</td>\n",
       "      <td>1778</td>\n",
       "    </tr>\n",
       "    <tr>\n",
       "      <th>47</th>\n",
       "      <td>solano</td>\n",
       "      <td>14412</td>\n",
       "    </tr>\n",
       "    <tr>\n",
       "      <th>48</th>\n",
       "      <td>sonoma</td>\n",
       "      <td>17686</td>\n",
       "    </tr>\n",
       "    <tr>\n",
       "      <th>49</th>\n",
       "      <td>stanislaus</td>\n",
       "      <td>20103</td>\n",
       "    </tr>\n",
       "    <tr>\n",
       "      <th>50</th>\n",
       "      <td>sutter</td>\n",
       "      <td>3281</td>\n",
       "    </tr>\n",
       "    <tr>\n",
       "      <th>51</th>\n",
       "      <td>tehama</td>\n",
       "      <td>2565</td>\n",
       "    </tr>\n",
       "    <tr>\n",
       "      <th>52</th>\n",
       "      <td>trinity</td>\n",
       "      <td>677</td>\n",
       "    </tr>\n",
       "    <tr>\n",
       "      <th>53</th>\n",
       "      <td>tulare</td>\n",
       "      <td>19307</td>\n",
       "    </tr>\n",
       "    <tr>\n",
       "      <th>54</th>\n",
       "      <td>tuolumne</td>\n",
       "      <td>2546</td>\n",
       "    </tr>\n",
       "    <tr>\n",
       "      <th>55</th>\n",
       "      <td>ventura</td>\n",
       "      <td>32335</td>\n",
       "    </tr>\n",
       "    <tr>\n",
       "      <th>56</th>\n",
       "      <td>yolo</td>\n",
       "      <td>7054</td>\n",
       "    </tr>\n",
       "    <tr>\n",
       "      <th>57</th>\n",
       "      <td>yuba</td>\n",
       "      <td>2327</td>\n",
       "    </tr>\n",
       "  </tbody>\n",
       "</table>\n",
       "</div>"
      ],
      "text/plain": [
       "    county_location   count\n",
       "0           alameda   64553\n",
       "1            alpine     290\n",
       "2            amador    1741\n",
       "3             butte    6394\n",
       "4         calaveras    1870\n",
       "5            colusa    1086\n",
       "6      contra costa   31492\n",
       "7         del norte    1207\n",
       "8         el dorado    5562\n",
       "9            fresno   26476\n",
       "10            glenn    1064\n",
       "11         humboldt    6830\n",
       "12         imperial    3955\n",
       "13             inyo    1029\n",
       "14             kern   29027\n",
       "15            kings    4672\n",
       "16             lake    2122\n",
       "17           lassen    1448\n",
       "18      los angeles  433809\n",
       "19           madera    5468\n",
       "20            marin    9601\n",
       "21         mariposa     810\n",
       "22        mendocino    3852\n",
       "23           merced   10858\n",
       "24            modoc     407\n",
       "25             mono     945\n",
       "26         monterey   17861\n",
       "27             napa    5295\n",
       "28           nevada    4121\n",
       "29           orange  118276\n",
       "30           placer   13481\n",
       "31           plumas     854\n",
       "32        riverside   69328\n",
       "33       sacramento   56988\n",
       "34       san benito    1842\n",
       "35   san bernardino   79382\n",
       "36        san diego   78391\n",
       "37    san francisco   20656\n",
       "38      san joaquin   27263\n",
       "39  san luis obispo   11505\n",
       "40        san mateo   24591\n",
       "41    santa barbara   19207\n",
       "42      santa clara   50786\n",
       "43       santa cruz   11570\n",
       "44           shasta    7742\n",
       "45           sierra     222\n",
       "46         siskiyou    1778\n",
       "47           solano   14412\n",
       "48           sonoma   17686\n",
       "49       stanislaus   20103\n",
       "50           sutter    3281\n",
       "51           tehama    2565\n",
       "52          trinity     677\n",
       "53           tulare   19307\n",
       "54         tuolumne    2546\n",
       "55          ventura   32335\n",
       "56             yolo    7054\n",
       "57             yuba    2327"
      ]
     },
     "execution_count": 14,
     "metadata": {},
     "output_type": "execute_result"
    }
   ],
   "source": [
    "collisions_countries_query = '''\n",
    "SELECT county_location,\n",
    "       COUNT(*)\n",
    "FROM collisions\n",
    "GROUP BY county_location\n",
    "'''\n",
    "\n",
    "collisions_countries = pd.read_sql_query(collisions_countries_query, con = engine)\n",
    "collisions_countries"
   ]
  },
  {
   "cell_type": "markdown",
   "id": "4b1e1c43",
   "metadata": {},
   "source": [
    "Географические районы, в которых произошло ДТП, это округи штата Калифорния. Повышенная аварийность в октябре может быть связана с особенностями климата."
   ]
  },
  {
   "cell_type": "markdown",
   "id": "2f45ca7e",
   "metadata": {},
   "source": [
    "### Постановка задач для проведения анализа"
   ]
  },
  {
   "cell_type": "markdown",
   "id": "3bdf5fee",
   "metadata": {},
   "source": [
    "Для лучшего понимания данных могут быть поставлены следующие аналитические задачи: \n",
    "\n",
    "1) Проведите анализ серьёзности повреждений транспортного средства, исходя из состояния дороги в момент ДТП (связать `collisions` и `parties`, поле `ROAD_SURFACE`).\n",
    "\n",
    "2) Проведите анализ серьёзности повреждений транспортного средства, исходя из дорожного состояния при разных погодных условиях (связать `collisions` и `parties`, поле `ROAD_CONDITION_1`).  \n",
    "\n",
    "3) Найдите самые частые причины ДТП (таблица `collisions`).\n",
    "\n",
    "4) Проведите анализ количества ДТП с учетом типа КПП автомобиля (связать `collisions` и `vehicles`).\n",
    "\n",
    "5) Проанализируйте частоту ДТП при разной освещенности (таблица `collisions`).\n",
    "\n",
    "6) Проведите анализ серьезности повреждений в зависимости от возраста автомобиля (связать `collisions` и `vehicles`).\n",
    "\n",
    "7) Проанализируйте взаимосвязь аварийности и наличия в автомобиле возможности разговаривать по громкой связи (связать `collisions` и `parties`).\n",
    "\n",
    "8) Проведите анализ аварийности в зависимости от трезвости участника ДТП (связать `collisions` и `parties`)."
   ]
  },
  {
   "cell_type": "markdown",
   "id": "db70da79",
   "metadata": {},
   "source": [
    "#### Задача: _анализ серьезности повреждений в зависимости от возраста автомобиля_"
   ]
  },
  {
   "cell_type": "markdown",
   "id": "aa933d85",
   "metadata": {},
   "source": [
    "Порядок выполнения:\n",
    "- Создайте sql-запрос. Объедините таблицы `collisions` и `vehicles`. Создайте дополнительное поле для категоризации авто по возрасту. Получите информацию о количестве повреждений каждого типа для каждой из категорий.\n",
    "- Постройте график.\n",
    "- Сделайте вывод."
   ]
  },
  {
   "cell_type": "code",
   "execution_count": 15,
   "id": "c3827c05",
   "metadata": {},
   "outputs": [
    {
     "data": {
      "text/html": [
       "<div>\n",
       "<style scoped>\n",
       "    .dataframe tbody tr th:only-of-type {\n",
       "        vertical-align: middle;\n",
       "    }\n",
       "\n",
       "    .dataframe tbody tr th {\n",
       "        vertical-align: top;\n",
       "    }\n",
       "\n",
       "    .dataframe thead th {\n",
       "        text-align: right;\n",
       "    }\n",
       "</style>\n",
       "<table border=\"1\" class=\"dataframe\">\n",
       "  <thead>\n",
       "    <tr style=\"text-align: right;\">\n",
       "      <th></th>\n",
       "      <th>age</th>\n",
       "      <th>damage</th>\n",
       "      <th>count</th>\n",
       "      <th>percent</th>\n",
       "    </tr>\n",
       "  </thead>\n",
       "  <tbody>\n",
       "    <tr>\n",
       "      <th>0</th>\n",
       "      <td>3 &lt; age &lt;= 5</td>\n",
       "      <td>fatal</td>\n",
       "      <td>3373</td>\n",
       "      <td>1.46</td>\n",
       "    </tr>\n",
       "    <tr>\n",
       "      <th>1</th>\n",
       "      <td>3 &lt; age &lt;= 5</td>\n",
       "      <td>middle damage</td>\n",
       "      <td>52032</td>\n",
       "      <td>22.57</td>\n",
       "    </tr>\n",
       "    <tr>\n",
       "      <th>2</th>\n",
       "      <td>3 &lt; age &lt;= 5</td>\n",
       "      <td>scratch</td>\n",
       "      <td>108994</td>\n",
       "      <td>47.28</td>\n",
       "    </tr>\n",
       "    <tr>\n",
       "      <th>3</th>\n",
       "      <td>3 &lt; age &lt;= 5</td>\n",
       "      <td>severe damage</td>\n",
       "      <td>9740</td>\n",
       "      <td>4.23</td>\n",
       "    </tr>\n",
       "    <tr>\n",
       "      <th>4</th>\n",
       "      <td>3 &lt; age &lt;= 5</td>\n",
       "      <td>small damage</td>\n",
       "      <td>56368</td>\n",
       "      <td>24.45</td>\n",
       "    </tr>\n",
       "    <tr>\n",
       "      <th>5</th>\n",
       "      <td>5 &lt; age &lt;= 10</td>\n",
       "      <td>fatal</td>\n",
       "      <td>6157</td>\n",
       "      <td>1.80</td>\n",
       "    </tr>\n",
       "    <tr>\n",
       "      <th>6</th>\n",
       "      <td>5 &lt; age &lt;= 10</td>\n",
       "      <td>middle damage</td>\n",
       "      <td>72842</td>\n",
       "      <td>21.27</td>\n",
       "    </tr>\n",
       "    <tr>\n",
       "      <th>7</th>\n",
       "      <td>5 &lt; age &lt;= 10</td>\n",
       "      <td>scratch</td>\n",
       "      <td>181714</td>\n",
       "      <td>53.07</td>\n",
       "    </tr>\n",
       "    <tr>\n",
       "      <th>8</th>\n",
       "      <td>5 &lt; age &lt;= 10</td>\n",
       "      <td>severe damage</td>\n",
       "      <td>15444</td>\n",
       "      <td>4.51</td>\n",
       "    </tr>\n",
       "    <tr>\n",
       "      <th>9</th>\n",
       "      <td>5 &lt; age &lt;= 10</td>\n",
       "      <td>small damage</td>\n",
       "      <td>66269</td>\n",
       "      <td>19.35</td>\n",
       "    </tr>\n",
       "    <tr>\n",
       "      <th>10</th>\n",
       "      <td>age &lt;= 3</td>\n",
       "      <td>fatal</td>\n",
       "      <td>3762</td>\n",
       "      <td>1.03</td>\n",
       "    </tr>\n",
       "    <tr>\n",
       "      <th>11</th>\n",
       "      <td>age &lt;= 3</td>\n",
       "      <td>middle damage</td>\n",
       "      <td>79964</td>\n",
       "      <td>21.81</td>\n",
       "    </tr>\n",
       "    <tr>\n",
       "      <th>12</th>\n",
       "      <td>age &lt;= 3</td>\n",
       "      <td>scratch</td>\n",
       "      <td>134039</td>\n",
       "      <td>36.56</td>\n",
       "    </tr>\n",
       "    <tr>\n",
       "      <th>13</th>\n",
       "      <td>age &lt;= 3</td>\n",
       "      <td>severe damage</td>\n",
       "      <td>12950</td>\n",
       "      <td>3.53</td>\n",
       "    </tr>\n",
       "    <tr>\n",
       "      <th>14</th>\n",
       "      <td>age &lt;= 3</td>\n",
       "      <td>small damage</td>\n",
       "      <td>135934</td>\n",
       "      <td>37.07</td>\n",
       "    </tr>\n",
       "    <tr>\n",
       "      <th>15</th>\n",
       "      <td>age &gt; 10</td>\n",
       "      <td>fatal</td>\n",
       "      <td>1723</td>\n",
       "      <td>3.02</td>\n",
       "    </tr>\n",
       "    <tr>\n",
       "      <th>16</th>\n",
       "      <td>age &gt; 10</td>\n",
       "      <td>middle damage</td>\n",
       "      <td>13770</td>\n",
       "      <td>24.13</td>\n",
       "    </tr>\n",
       "    <tr>\n",
       "      <th>17</th>\n",
       "      <td>age &gt; 10</td>\n",
       "      <td>scratch</td>\n",
       "      <td>26547</td>\n",
       "      <td>46.52</td>\n",
       "    </tr>\n",
       "    <tr>\n",
       "      <th>18</th>\n",
       "      <td>age &gt; 10</td>\n",
       "      <td>severe damage</td>\n",
       "      <td>2514</td>\n",
       "      <td>4.41</td>\n",
       "    </tr>\n",
       "    <tr>\n",
       "      <th>19</th>\n",
       "      <td>age &gt; 10</td>\n",
       "      <td>small damage</td>\n",
       "      <td>12516</td>\n",
       "      <td>21.93</td>\n",
       "    </tr>\n",
       "  </tbody>\n",
       "</table>\n",
       "</div>"
      ],
      "text/plain": [
       "              age         damage   count  percent\n",
       "0    3 < age <= 5          fatal    3373     1.46\n",
       "1    3 < age <= 5  middle damage   52032    22.57\n",
       "2    3 < age <= 5        scratch  108994    47.28\n",
       "3    3 < age <= 5  severe damage    9740     4.23\n",
       "4    3 < age <= 5   small damage   56368    24.45\n",
       "5   5 < age <= 10          fatal    6157     1.80\n",
       "6   5 < age <= 10  middle damage   72842    21.27\n",
       "7   5 < age <= 10        scratch  181714    53.07\n",
       "8   5 < age <= 10  severe damage   15444     4.51\n",
       "9   5 < age <= 10   small damage   66269    19.35\n",
       "10       age <= 3          fatal    3762     1.03\n",
       "11       age <= 3  middle damage   79964    21.81\n",
       "12       age <= 3        scratch  134039    36.56\n",
       "13       age <= 3  severe damage   12950     3.53\n",
       "14       age <= 3   small damage  135934    37.07\n",
       "15       age > 10          fatal    1723     3.02\n",
       "16       age > 10  middle damage   13770    24.13\n",
       "17       age > 10        scratch   26547    46.52\n",
       "18       age > 10  severe damage    2514     4.41\n",
       "19       age > 10   small damage   12516    21.93"
      ]
     },
     "execution_count": 15,
     "metadata": {},
     "output_type": "execute_result"
    }
   ],
   "source": [
    "collisions_cars_query = '''\n",
    "SELECT CASE \n",
    "         WHEN v.vehicle_age <= 3 THEN 'age <= 3'\n",
    "         WHEN v.vehicle_age > 3 AND v.vehicle_age <= 5 THEN '3 < age <= 5'\n",
    "         WHEN v.vehicle_age > 5 AND v.vehicle_age <= 10 THEN '5 < age <= 10'\n",
    "         WHEN v.vehicle_age > 10 THEN 'age > 10'\n",
    "         ELSE 'unknown'\n",
    "       END AS age,\n",
    "       c.collision_damage AS damage,\n",
    "       COUNT(*) AS count\n",
    "FROM collisions AS c\n",
    "JOIN vehicles AS v ON c.case_id = v.case_id\n",
    "WHERE v.vehicle_age IS NOT NULL\n",
    "GROUP BY age, damage\n",
    "'''\n",
    "\n",
    "collisions_cars = pd.read_sql_query(collisions_cars_query, con = engine)\n",
    "\n",
    "total_counts = collisions_cars.groupby(\"age\")[\"count\"].transform(\"sum\")\n",
    "collisions_cars[\"percent\"] = (collisions_cars[\"count\"] * 100 / total_counts).round(2)\n",
    "\n",
    "collisions_cars"
   ]
  },
  {
   "cell_type": "code",
   "execution_count": 16,
   "id": "e2b0f2a4",
   "metadata": {},
   "outputs": [
    {
     "data": {
      "image/png": "[encoded data removed]",
      "text/plain": [
       "<Figure size 1080x432 with 1 Axes>"
      ]
     },
     "metadata": {
      "needs_background": "light"
     },
     "output_type": "display_data"
    }
   ],
   "source": [
    "plt.subplots(figsize=(15, 6))\n",
    "sns.barplot(data=collisions_cars, x=\"damage\", y=\"percent\", hue=\"age\", palette=\"pastel6\")\n",
    "plt.title(\"Распределение ДТП по типу повреждений в разрезе возрастной категории авто\", fontsize=TITLE_SIZE)\n",
    "plt.xlabel(\"Серьезность повреждений\", fontsize=LABEL_SIZE)\n",
    "plt.ylabel(\"Процент происшествий\", fontsize=LABEL_SIZE)\n",
    "plt.legend(title=\"Возраст автомобиля\", fontsize=12)\n",
    "plt.show()"
   ]
  },
  {
   "cell_type": "code",
   "execution_count": 17,
   "id": "8d5bf82c",
   "metadata": {},
   "outputs": [
    {
     "data": {
      "image/png": "[encoded data removed]",
      "text/plain": [
       "<Figure size 1080x432 with 1 Axes>"
      ]
     },
     "metadata": {
      "needs_background": "light"
     },
     "output_type": "display_data"
    }
   ],
   "source": [
    "plt.subplots(figsize=(15, 6))\n",
    "sns.barplot(data=collisions_cars, x=\"age\", y=\"count\", hue=\"damage\", palette=\"pastel6\")\n",
    "plt.title(\"Количество ДТП в зависимости от возраста авто по типам повреждения\", fontsize=TITLE_SIZE)\n",
    "plt.xlabel(\"Возраст автомобиля\", fontsize=LABEL_SIZE)\n",
    "plt.ylabel(\"Количество происшествий\", fontsize=LABEL_SIZE)\n",
    "plt.legend(title=\"Серьезность повреждений\", fontsize=12)\n",
    "plt.show()"
   ]
  },
  {
   "cell_type": "markdown",
   "id": "42bc7cdd",
   "metadata": {},
   "source": [
    "Наиболее часто встречаются повреждения типа scratch (царапины). На втором месте - малые (отдельный элемент кузова под замену/покраску) и средние (средний ремонт, машина в целом на ходу) повреждения. Серьезные и не подлежащие восстановлению повреждения встречаются гораздо реже. \n",
    "Это говорит о том, что большинство ДТП приводят к незначительным повреждениям. Из общих тенденций выделяется только группа авто, которым менее 3 лет: для них зафиксировано практически равное число небольших повреждений и царапин. \n",
    "\n",
    "Автомобили старше 10 лет имеют наибольшую долю повреждений типа fatal (3.02%). Это может быть связано с ухудшением технического состояния старых автомобилей."
   ]
  },
  {
   "cell_type": "markdown",
   "id": "6afeeb0d",
   "metadata": {},
   "source": [
    "#### Задача: _анализ количества ДТП по основным факторам аварий с учетом типа КПП автомобиля_"
   ]
  },
  {
   "cell_type": "markdown",
   "id": "3aa450cf",
   "metadata": {},
   "source": [
    "Порядок выполнения:\n",
    "- Создайте sql-запрос. Объедините таблицы `collisions` и `vehicles`. Получите информацию о количестве повреждений для авто с разными типами КПП по основным факторам аварий.\n",
    "- Постройте график.\n",
    "- Сделайте вывод."
   ]
  },
  {
   "cell_type": "code",
   "execution_count": 18,
   "id": "b82f6340",
   "metadata": {},
   "outputs": [
    {
     "data": {
      "text/html": [
       "<div>\n",
       "<style scoped>\n",
       "    .dataframe tbody tr th:only-of-type {\n",
       "        vertical-align: middle;\n",
       "    }\n",
       "\n",
       "    .dataframe tbody tr th {\n",
       "        vertical-align: top;\n",
       "    }\n",
       "\n",
       "    .dataframe thead th {\n",
       "        text-align: right;\n",
       "    }\n",
       "</style>\n",
       "<table border=\"1\" class=\"dataframe\">\n",
       "  <thead>\n",
       "    <tr style=\"text-align: right;\">\n",
       "      <th></th>\n",
       "      <th>count</th>\n",
       "    </tr>\n",
       "    <tr>\n",
       "      <th>transmission</th>\n",
       "      <th></th>\n",
       "    </tr>\n",
       "  </thead>\n",
       "  <tbody>\n",
       "    <tr>\n",
       "      <th>auto</th>\n",
       "      <td>502243</td>\n",
       "    </tr>\n",
       "    <tr>\n",
       "      <th>manual</th>\n",
       "      <td>495332</td>\n",
       "    </tr>\n",
       "    <tr>\n",
       "      <th>unknown</th>\n",
       "      <td>23659</td>\n",
       "    </tr>\n",
       "  </tbody>\n",
       "</table>\n",
       "</div>"
      ],
      "text/plain": [
       "               count\n",
       "transmission        \n",
       "auto          502243\n",
       "manual        495332\n",
       "unknown        23659"
      ]
     },
     "execution_count": 18,
     "metadata": {},
     "output_type": "execute_result"
    }
   ],
   "source": [
    "collisions_transmission_query = '''\n",
    "SELECT v.vehicle_transmission AS transmission,\n",
    "       c.primary_collision_factor AS primary_factor,\n",
    "       COUNT(*) AS count\n",
    "FROM collisions AS c\n",
    "JOIN vehicles AS v ON c.case_id = v.case_id\n",
    "GROUP BY v.vehicle_transmission, c.primary_collision_factor\n",
    "'''\n",
    "\n",
    "collisions_transmission = pd.read_sql_query(collisions_transmission_query, con = engine)\n",
    "collisions_transmission = collisions_transmission.fillna('unknown')\n",
    "collisions_transmission.groupby('transmission').agg(sum)"
   ]
  },
  {
   "cell_type": "markdown",
   "id": "2099a1a4",
   "metadata": {},
   "source": [
    "Число ДТП с участием машин, по которым данных о типе КПП нет, значительно меньше, чем с участием остальных. Их не будем выводить на график. Общее число ДТП немного выше для машин с АКПП."
   ]
  },
  {
   "cell_type": "code",
   "execution_count": 19,
   "id": "0b4c90c2",
   "metadata": {},
   "outputs": [
    {
     "data": {
      "image/png": "[encoded data removed]",
      "text/plain": [
       "<Figure size 1080x432 with 1 Axes>"
      ]
     },
     "metadata": {
      "needs_background": "light"
     },
     "output_type": "display_data"
    }
   ],
   "source": [
    "plt.subplots(figsize=(15, 6))\n",
    "sns.barplot(\n",
    "    data=collisions_transmission[collisions_transmission['transmission']\n",
    "                                 .isin(['auto', 'manual'])],\n",
    "    x=\"transmission\", y=\"count\", hue=\"primary_factor\", palette=\"pastel6\")\n",
    "\n",
    "plt.title(\"Количество ДТП в разрезе по основым факторам аварий\", fontsize=TITLE_SIZE)\n",
    "plt.xlabel(\"Тип КПП\", fontsize=LABEL_SIZE)\n",
    "plt.ylabel(\"Количество происшествий\", fontsize=LABEL_SIZE)\n",
    "plt.legend(title=\"Основной фактор аварии\", fontsize=12)\n",
    "plt.show()"
   ]
  },
  {
   "cell_type": "markdown",
   "id": "6d66825a",
   "metadata": {},
   "source": [
    "Распределения выглядят похоже. Большинство ДТП случались из-за нарушения ПДД. "
   ]
  },
  {
   "cell_type": "markdown",
   "id": "4bc56e48",
   "metadata": {},
   "source": [
    "_Вывод_: не удалось выявить зависимость количества ДТП / основных факторов ДТП от типа КПП. Преобладающее большинство аварий вызвано нарушением ПДД."
   ]
  },
  {
   "cell_type": "markdown",
   "id": "f4aa2042",
   "metadata": {},
   "source": [
    "__Промежуточный вывод__: \n",
    "- С января 2009 по апрель 2012 года в базе есть информация о примерно 30 000 ДТП в месяц. Затем это число заметно снижается до полного отсутствия записей за последующие периоды.\n",
    "- Наибольшее количество ДТП за период с 2009 по 2011 годы наблюдалось в октябре (111933), наименьшее - в феврале (98373). Никаких особенностей не наблюдается. Самый аварийный месяц в разрезе по годам - октябрь.\n",
    "- Наиболее часто встречаются повреждения типа scratch, на втором месте - малые и средние повреждения, гораздо реже - серьезные и не подлежащие восстановлению повреждения. Для авто, которым менее 3 лет, зафиксировано практически равное число небольших повреждений и царапин. Автомобили старше 10 лет имеют наибольшую долю повреждений типа fatal. \n",
    "- Преобладающее большинство аварий вызвано нарушением ПДД. Зависимость количества ДТП / основных факторов ДТП от типа КПП не наблюдается. "
   ]
  },
  {
   "cell_type": "markdown",
   "id": "f84fb317",
   "metadata": {},
   "source": [
    "## Создание модели для оценки водительского риска"
   ]
  },
  {
   "cell_type": "markdown",
   "id": "7ad3695d",
   "metadata": {},
   "source": [
    "### Получение набора данных"
   ]
  },
  {
   "cell_type": "markdown",
   "id": "ae2b3291",
   "metadata": {},
   "source": [
    "На данном этапе работы от нас требуется использовать набор данных на основе первичного предложения заказчика."
   ]
  },
  {
   "cell_type": "code",
   "execution_count": 20,
   "id": "5860f617",
   "metadata": {},
   "outputs": [],
   "source": [
    "# используем JOIN, т.к. нам нужны только те строки, где есть совпадения во всех трех таблицах.\n",
    "\n",
    "query = '''\n",
    "SELECT *,\n",
    "       EXTRACT(MONTH FROM CAST(c.collision_date AS timestamp))::int AS collision_month,\n",
    "       EXTRACT(ISODOW FROM CAST(c.collision_date AS timestamp))::int AS collision_isodow,\n",
    "       CASE\n",
    "         WHEN COLLISION_TIME BETWEEN '06:00' AND '11:59' THEN 'morning'\n",
    "         WHEN COLLISION_TIME BETWEEN '12:00' AND '17:59' THEN 'afternoon'\n",
    "         WHEN COLLISION_TIME BETWEEN '18:00' AND '23:59' THEN 'evening'\n",
    "         ELSE 'night'\n",
    "       END AS time_period,\n",
    "       CASE \n",
    "         WHEN v.vehicle_age <= 3 THEN 'age <= 3'\n",
    "         WHEN v.vehicle_age > 3 AND v.vehicle_age <= 5 THEN '3 < age <= 5'\n",
    "         WHEN v.vehicle_age > 5 AND v.vehicle_age <= 10 THEN '5 < age <= 10'\n",
    "         WHEN v.vehicle_age > 10 THEN 'age > 10'\n",
    "         ELSE 'unknown'\n",
    "       END AS age\n",
    "FROM collisions c\n",
    "JOIN parties p ON c.case_id = p.case_id\n",
    "JOIN vehicles v ON c.case_id = v.case_id AND p.party_number = v.party_number\n",
    "WHERE p.party_type = 'car'\n",
    "  AND c.collision_damage !='scratch'\n",
    "  AND EXTRACT(YEAR FROM CAST(c.collision_date AS timestamp)) = 2012\n",
    "''' \n",
    "data = pd.read_sql_query(query, con = engine)"
   ]
  },
  {
   "cell_type": "code",
   "execution_count": 21,
   "id": "3323f16c",
   "metadata": {},
   "outputs": [
    {
     "data": {
      "text/html": [
       "<div>\n",
       "<style scoped>\n",
       "    .dataframe tbody tr th:only-of-type {\n",
       "        vertical-align: middle;\n",
       "    }\n",
       "\n",
       "    .dataframe tbody tr th {\n",
       "        vertical-align: top;\n",
       "    }\n",
       "\n",
       "    .dataframe thead th {\n",
       "        text-align: right;\n",
       "    }\n",
       "</style>\n",
       "<table border=\"1\" class=\"dataframe\">\n",
       "  <thead>\n",
       "    <tr style=\"text-align: right;\">\n",
       "      <th></th>\n",
       "      <th>0</th>\n",
       "      <th>1</th>\n",
       "      <th>2</th>\n",
       "      <th>3</th>\n",
       "      <th>4</th>\n",
       "    </tr>\n",
       "  </thead>\n",
       "  <tbody>\n",
       "    <tr>\n",
       "      <th>case_id</th>\n",
       "      <td>5454402</td>\n",
       "      <td>5612888</td>\n",
       "      <td>5613058</td>\n",
       "      <td>5613642</td>\n",
       "      <td>5614237</td>\n",
       "    </tr>\n",
       "    <tr>\n",
       "      <th>county_city_location</th>\n",
       "      <td>3711</td>\n",
       "      <td>3026</td>\n",
       "      <td>1900</td>\n",
       "      <td>0109</td>\n",
       "      <td>3708</td>\n",
       "    </tr>\n",
       "    <tr>\n",
       "      <th>county_location</th>\n",
       "      <td>san diego</td>\n",
       "      <td>orange</td>\n",
       "      <td>los angeles</td>\n",
       "      <td>alameda</td>\n",
       "      <td>san diego</td>\n",
       "    </tr>\n",
       "    <tr>\n",
       "      <th>distance</th>\n",
       "      <td>1500.0</td>\n",
       "      <td>40.0</td>\n",
       "      <td>0.0</td>\n",
       "      <td>1900.0</td>\n",
       "      <td>506.0</td>\n",
       "    </tr>\n",
       "    <tr>\n",
       "      <th>direction</th>\n",
       "      <td>south</td>\n",
       "      <td>north</td>\n",
       "      <td>None</td>\n",
       "      <td>west</td>\n",
       "      <td>east</td>\n",
       "    </tr>\n",
       "    <tr>\n",
       "      <th>intersection</th>\n",
       "      <td>0.0</td>\n",
       "      <td>0.0</td>\n",
       "      <td>1.0</td>\n",
       "      <td>0.0</td>\n",
       "      <td>0.0</td>\n",
       "    </tr>\n",
       "    <tr>\n",
       "      <th>weather_1</th>\n",
       "      <td>clear</td>\n",
       "      <td>clear</td>\n",
       "      <td>clear</td>\n",
       "      <td>clear</td>\n",
       "      <td>clear</td>\n",
       "    </tr>\n",
       "    <tr>\n",
       "      <th>location_type</th>\n",
       "      <td>highway</td>\n",
       "      <td>None</td>\n",
       "      <td>None</td>\n",
       "      <td>highway</td>\n",
       "      <td>highway</td>\n",
       "    </tr>\n",
       "    <tr>\n",
       "      <th>collision_damage</th>\n",
       "      <td>middle damage</td>\n",
       "      <td>small damage</td>\n",
       "      <td>small damage</td>\n",
       "      <td>small damage</td>\n",
       "      <td>small damage</td>\n",
       "    </tr>\n",
       "    <tr>\n",
       "      <th>party_count</th>\n",
       "      <td>2</td>\n",
       "      <td>2</td>\n",
       "      <td>2</td>\n",
       "      <td>4</td>\n",
       "      <td>2</td>\n",
       "    </tr>\n",
       "    <tr>\n",
       "      <th>primary_collision_factor</th>\n",
       "      <td>vehicle code violation</td>\n",
       "      <td>vehicle code violation</td>\n",
       "      <td>vehicle code violation</td>\n",
       "      <td>vehicle code violation</td>\n",
       "      <td>vehicle code violation</td>\n",
       "    </tr>\n",
       "    <tr>\n",
       "      <th>pcf_violation_category</th>\n",
       "      <td>speeding</td>\n",
       "      <td>speeding</td>\n",
       "      <td>automobile right of way</td>\n",
       "      <td>unsafe lane change</td>\n",
       "      <td>speeding</td>\n",
       "    </tr>\n",
       "    <tr>\n",
       "      <th>type_of_collision</th>\n",
       "      <td>rear end</td>\n",
       "      <td>rear end</td>\n",
       "      <td>broadside</td>\n",
       "      <td>sideswipe</td>\n",
       "      <td>sideswipe</td>\n",
       "    </tr>\n",
       "    <tr>\n",
       "      <th>motor_vehicle_involved_with</th>\n",
       "      <td>other motor vehicle</td>\n",
       "      <td>other motor vehicle</td>\n",
       "      <td>other motor vehicle</td>\n",
       "      <td>other motor vehicle</td>\n",
       "      <td>other motor vehicle</td>\n",
       "    </tr>\n",
       "    <tr>\n",
       "      <th>road_surface</th>\n",
       "      <td>dry</td>\n",
       "      <td>dry</td>\n",
       "      <td>dry</td>\n",
       "      <td>dry</td>\n",
       "      <td>dry</td>\n",
       "    </tr>\n",
       "    <tr>\n",
       "      <th>road_condition_1</th>\n",
       "      <td>normal</td>\n",
       "      <td>normal</td>\n",
       "      <td>normal</td>\n",
       "      <td>normal</td>\n",
       "      <td>normal</td>\n",
       "    </tr>\n",
       "    <tr>\n",
       "      <th>lighting</th>\n",
       "      <td>dark with street lights</td>\n",
       "      <td>daylight</td>\n",
       "      <td>daylight</td>\n",
       "      <td>dark with street lights</td>\n",
       "      <td>daylight</td>\n",
       "    </tr>\n",
       "    <tr>\n",
       "      <th>control_device</th>\n",
       "      <td>none</td>\n",
       "      <td>functioning</td>\n",
       "      <td>functioning</td>\n",
       "      <td>none</td>\n",
       "      <td>none</td>\n",
       "    </tr>\n",
       "    <tr>\n",
       "      <th>collision_date</th>\n",
       "      <td>2012-01-20</td>\n",
       "      <td>2012-05-04</td>\n",
       "      <td>2012-05-07</td>\n",
       "      <td>2012-03-25</td>\n",
       "      <td>2012-04-27</td>\n",
       "    </tr>\n",
       "    <tr>\n",
       "      <th>collision_time</th>\n",
       "      <td>01:50:00</td>\n",
       "      <td>12:50:00</td>\n",
       "      <td>13:04:00</td>\n",
       "      <td>19:50:00</td>\n",
       "      <td>15:50:00</td>\n",
       "    </tr>\n",
       "    <tr>\n",
       "      <th>id</th>\n",
       "      <td>2405698</td>\n",
       "      <td>2680477</td>\n",
       "      <td>2680781</td>\n",
       "      <td>2681864</td>\n",
       "      <td>2682963</td>\n",
       "    </tr>\n",
       "    <tr>\n",
       "      <th>case_id</th>\n",
       "      <td>5454402</td>\n",
       "      <td>5612888</td>\n",
       "      <td>5613058</td>\n",
       "      <td>5613642</td>\n",
       "      <td>5614237</td>\n",
       "    </tr>\n",
       "    <tr>\n",
       "      <th>party_number</th>\n",
       "      <td>1</td>\n",
       "      <td>1</td>\n",
       "      <td>1</td>\n",
       "      <td>2</td>\n",
       "      <td>2</td>\n",
       "    </tr>\n",
       "    <tr>\n",
       "      <th>party_type</th>\n",
       "      <td>car</td>\n",
       "      <td>car</td>\n",
       "      <td>car</td>\n",
       "      <td>car</td>\n",
       "      <td>car</td>\n",
       "    </tr>\n",
       "    <tr>\n",
       "      <th>at_fault</th>\n",
       "      <td>1</td>\n",
       "      <td>1</td>\n",
       "      <td>1</td>\n",
       "      <td>0</td>\n",
       "      <td>0</td>\n",
       "    </tr>\n",
       "    <tr>\n",
       "      <th>insurance_premium</th>\n",
       "      <td>NaN</td>\n",
       "      <td>28.0</td>\n",
       "      <td>45.0</td>\n",
       "      <td>20.0</td>\n",
       "      <td>32.0</td>\n",
       "    </tr>\n",
       "    <tr>\n",
       "      <th>party_sobriety</th>\n",
       "      <td>impairment unknown</td>\n",
       "      <td>had not been drinking</td>\n",
       "      <td>had not been drinking</td>\n",
       "      <td>had not been drinking</td>\n",
       "      <td>had not been drinking</td>\n",
       "    </tr>\n",
       "    <tr>\n",
       "      <th>party_drug_physical</th>\n",
       "      <td>G</td>\n",
       "      <td>None</td>\n",
       "      <td>None</td>\n",
       "      <td>None</td>\n",
       "      <td>None</td>\n",
       "    </tr>\n",
       "    <tr>\n",
       "      <th>cellphone_in_use</th>\n",
       "      <td>0.0</td>\n",
       "      <td>0.0</td>\n",
       "      <td>0.0</td>\n",
       "      <td>0.0</td>\n",
       "      <td>0.0</td>\n",
       "    </tr>\n",
       "    <tr>\n",
       "      <th>id</th>\n",
       "      <td>1326101</td>\n",
       "      <td>1475782</td>\n",
       "      <td>1475866</td>\n",
       "      <td>1476685</td>\n",
       "      <td>1477299</td>\n",
       "    </tr>\n",
       "    <tr>\n",
       "      <th>case_id</th>\n",
       "      <td>5454402</td>\n",
       "      <td>5612888</td>\n",
       "      <td>5613058</td>\n",
       "      <td>5613642</td>\n",
       "      <td>5614237</td>\n",
       "    </tr>\n",
       "    <tr>\n",
       "      <th>party_number</th>\n",
       "      <td>1</td>\n",
       "      <td>1</td>\n",
       "      <td>1</td>\n",
       "      <td>2</td>\n",
       "      <td>2</td>\n",
       "    </tr>\n",
       "    <tr>\n",
       "      <th>vehicle_type</th>\n",
       "      <td>sedan</td>\n",
       "      <td>sedan</td>\n",
       "      <td>sedan</td>\n",
       "      <td>sedan</td>\n",
       "      <td>sedan</td>\n",
       "    </tr>\n",
       "    <tr>\n",
       "      <th>vehicle_transmission</th>\n",
       "      <td>manual</td>\n",
       "      <td>auto</td>\n",
       "      <td>auto</td>\n",
       "      <td>auto</td>\n",
       "      <td>auto</td>\n",
       "    </tr>\n",
       "    <tr>\n",
       "      <th>vehicle_age</th>\n",
       "      <td>3.0</td>\n",
       "      <td>4.0</td>\n",
       "      <td>0.0</td>\n",
       "      <td>0.0</td>\n",
       "      <td>2.0</td>\n",
       "    </tr>\n",
       "    <tr>\n",
       "      <th>collision_month</th>\n",
       "      <td>1</td>\n",
       "      <td>5</td>\n",
       "      <td>5</td>\n",
       "      <td>3</td>\n",
       "      <td>4</td>\n",
       "    </tr>\n",
       "    <tr>\n",
       "      <th>collision_isodow</th>\n",
       "      <td>5</td>\n",
       "      <td>5</td>\n",
       "      <td>1</td>\n",
       "      <td>7</td>\n",
       "      <td>5</td>\n",
       "    </tr>\n",
       "    <tr>\n",
       "      <th>time_period</th>\n",
       "      <td>night</td>\n",
       "      <td>afternoon</td>\n",
       "      <td>afternoon</td>\n",
       "      <td>evening</td>\n",
       "      <td>afternoon</td>\n",
       "    </tr>\n",
       "    <tr>\n",
       "      <th>age</th>\n",
       "      <td>age &lt;= 3</td>\n",
       "      <td>3 &lt; age &lt;= 5</td>\n",
       "      <td>age &lt;= 3</td>\n",
       "      <td>age &lt;= 3</td>\n",
       "      <td>age &lt;= 3</td>\n",
       "    </tr>\n",
       "  </tbody>\n",
       "</table>\n",
       "</div>"
      ],
      "text/plain": [
       "                                                   0                       1  \\\n",
       "case_id                                      5454402                 5612888   \n",
       "county_city_location                            3711                    3026   \n",
       "county_location                            san diego                  orange   \n",
       "distance                                      1500.0                    40.0   \n",
       "direction                                      south                   north   \n",
       "intersection                                     0.0                     0.0   \n",
       "weather_1                                      clear                   clear   \n",
       "location_type                                highway                    None   \n",
       "collision_damage                       middle damage            small damage   \n",
       "party_count                                        2                       2   \n",
       "primary_collision_factor      vehicle code violation  vehicle code violation   \n",
       "pcf_violation_category                      speeding                speeding   \n",
       "type_of_collision                           rear end                rear end   \n",
       "motor_vehicle_involved_with      other motor vehicle     other motor vehicle   \n",
       "road_surface                                     dry                     dry   \n",
       "road_condition_1                              normal                  normal   \n",
       "lighting                     dark with street lights                daylight   \n",
       "control_device                                  none             functioning   \n",
       "collision_date                            2012-01-20              2012-05-04   \n",
       "collision_time                              01:50:00                12:50:00   \n",
       "id                                           2405698                 2680477   \n",
       "case_id                                      5454402                 5612888   \n",
       "party_number                                       1                       1   \n",
       "party_type                                       car                     car   \n",
       "at_fault                                           1                       1   \n",
       "insurance_premium                                NaN                    28.0   \n",
       "party_sobriety                    impairment unknown   had not been drinking   \n",
       "party_drug_physical                                G                    None   \n",
       "cellphone_in_use                                 0.0                     0.0   \n",
       "id                                           1326101                 1475782   \n",
       "case_id                                      5454402                 5612888   \n",
       "party_number                                       1                       1   \n",
       "vehicle_type                                   sedan                   sedan   \n",
       "vehicle_transmission                          manual                    auto   \n",
       "vehicle_age                                      3.0                     4.0   \n",
       "collision_month                                    1                       5   \n",
       "collision_isodow                                   5                       5   \n",
       "time_period                                    night               afternoon   \n",
       "age                                         age <= 3            3 < age <= 5   \n",
       "\n",
       "                                                   2                        3  \\\n",
       "case_id                                      5613058                  5613642   \n",
       "county_city_location                            1900                     0109   \n",
       "county_location                          los angeles                  alameda   \n",
       "distance                                         0.0                   1900.0   \n",
       "direction                                       None                     west   \n",
       "intersection                                     1.0                      0.0   \n",
       "weather_1                                      clear                    clear   \n",
       "location_type                                   None                  highway   \n",
       "collision_damage                        small damage             small damage   \n",
       "party_count                                        2                        4   \n",
       "primary_collision_factor      vehicle code violation   vehicle code violation   \n",
       "pcf_violation_category       automobile right of way       unsafe lane change   \n",
       "type_of_collision                          broadside                sideswipe   \n",
       "motor_vehicle_involved_with      other motor vehicle      other motor vehicle   \n",
       "road_surface                                     dry                      dry   \n",
       "road_condition_1                              normal                   normal   \n",
       "lighting                                    daylight  dark with street lights   \n",
       "control_device                           functioning                     none   \n",
       "collision_date                            2012-05-07               2012-03-25   \n",
       "collision_time                              13:04:00                 19:50:00   \n",
       "id                                           2680781                  2681864   \n",
       "case_id                                      5613058                  5613642   \n",
       "party_number                                       1                        2   \n",
       "party_type                                       car                      car   \n",
       "at_fault                                           1                        0   \n",
       "insurance_premium                               45.0                     20.0   \n",
       "party_sobriety                 had not been drinking    had not been drinking   \n",
       "party_drug_physical                             None                     None   \n",
       "cellphone_in_use                                 0.0                      0.0   \n",
       "id                                           1475866                  1476685   \n",
       "case_id                                      5613058                  5613642   \n",
       "party_number                                       1                        2   \n",
       "vehicle_type                                   sedan                    sedan   \n",
       "vehicle_transmission                            auto                     auto   \n",
       "vehicle_age                                      0.0                      0.0   \n",
       "collision_month                                    5                        3   \n",
       "collision_isodow                                   1                        7   \n",
       "time_period                                afternoon                  evening   \n",
       "age                                         age <= 3                 age <= 3   \n",
       "\n",
       "                                                  4  \n",
       "case_id                                     5614237  \n",
       "county_city_location                           3708  \n",
       "county_location                           san diego  \n",
       "distance                                      506.0  \n",
       "direction                                      east  \n",
       "intersection                                    0.0  \n",
       "weather_1                                     clear  \n",
       "location_type                               highway  \n",
       "collision_damage                       small damage  \n",
       "party_count                                       2  \n",
       "primary_collision_factor     vehicle code violation  \n",
       "pcf_violation_category                     speeding  \n",
       "type_of_collision                         sideswipe  \n",
       "motor_vehicle_involved_with     other motor vehicle  \n",
       "road_surface                                    dry  \n",
       "road_condition_1                             normal  \n",
       "lighting                                   daylight  \n",
       "control_device                                 none  \n",
       "collision_date                           2012-04-27  \n",
       "collision_time                             15:50:00  \n",
       "id                                          2682963  \n",
       "case_id                                     5614237  \n",
       "party_number                                      2  \n",
       "party_type                                      car  \n",
       "at_fault                                          0  \n",
       "insurance_premium                              32.0  \n",
       "party_sobriety                had not been drinking  \n",
       "party_drug_physical                            None  \n",
       "cellphone_in_use                                0.0  \n",
       "id                                          1477299  \n",
       "case_id                                     5614237  \n",
       "party_number                                      2  \n",
       "vehicle_type                                  sedan  \n",
       "vehicle_transmission                           auto  \n",
       "vehicle_age                                     2.0  \n",
       "collision_month                                   4  \n",
       "collision_isodow                                  5  \n",
       "time_period                               afternoon  \n",
       "age                                        age <= 3  "
      ]
     },
     "execution_count": 21,
     "metadata": {},
     "output_type": "execute_result"
    }
   ],
   "source": [
    "data.head().T"
   ]
  },
  {
   "cell_type": "code",
   "execution_count": 22,
   "id": "3038302f",
   "metadata": {},
   "outputs": [
    {
     "data": {
      "text/plain": [
       "Index(['case_id', 'county_city_location', 'county_location', 'distance',\n",
       "       'direction', 'intersection', 'weather_1', 'location_type',\n",
       "       'collision_damage', 'party_count', 'primary_collision_factor',\n",
       "       'pcf_violation_category', 'type_of_collision',\n",
       "       'motor_vehicle_involved_with', 'road_surface', 'road_condition_1',\n",
       "       'lighting', 'control_device', 'collision_date', 'collision_time', 'id',\n",
       "       'case_id', 'party_number', 'party_type', 'at_fault',\n",
       "       'insurance_premium', 'party_sobriety', 'party_drug_physical',\n",
       "       'cellphone_in_use', 'id', 'case_id', 'party_number', 'vehicle_type',\n",
       "       'vehicle_transmission', 'vehicle_age', 'collision_month',\n",
       "       'collision_isodow', 'time_period', 'age'],\n",
       "      dtype='object')"
      ]
     },
     "execution_count": 22,
     "metadata": {},
     "output_type": "execute_result"
    }
   ],
   "source": [
    "data.columns"
   ]
  },
  {
   "cell_type": "markdown",
   "id": "4e637e57",
   "metadata": {},
   "source": [
    "### Первичный отбор признаков"
   ]
  },
  {
   "cell_type": "markdown",
   "id": "440d5732",
   "metadata": {},
   "source": [
    "Проведем первичный отбор факторов, необходимых для модели.\n",
    "\n",
    "Поля, которые можно исключить, т.к. они не несут полезной информации:\n",
    "- идентификаторы (case_id, id, party_number\t)\n",
    "- collision_date, collision_time (т.к. при формировании таблицы мы уже извлекли номер месяца и день недели, период суток)\n",
    "- party_type (только одно значение)\n",
    "\n",
    "Также исключим:\n",
    "- direction\n",
    "- distance (расстояние от главной дороги, нам пригодился бы признак, если бы содержал расстояние от места старта до пункта назначения)\n",
    "- insurance_premium\n",
    "- vehicle_type \n",
    "\n",
    "Не можем знать до момента ДТП:\n",
    "- collision_damage\n",
    "- primary_collision_factor\n",
    "- party_count\n",
    "- pcf_violation_category\n",
    "- type_of_collision\n",
    "- motor_vehicle_involved_with\n",
    "- party_drug_physical\n",
    "- party_sobriety (даже если проверять при посадке с использованием специальных приборов + камер, нет способа проконтролировать изменение в течение поездки)"
   ]
  },
  {
   "cell_type": "code",
   "execution_count": 23,
   "id": "43e04d87",
   "metadata": {},
   "outputs": [
    {
     "data": {
      "text/html": [
       "<div>\n",
       "<style scoped>\n",
       "    .dataframe tbody tr th:only-of-type {\n",
       "        vertical-align: middle;\n",
       "    }\n",
       "\n",
       "    .dataframe tbody tr th {\n",
       "        vertical-align: top;\n",
       "    }\n",
       "\n",
       "    .dataframe thead th {\n",
       "        text-align: right;\n",
       "    }\n",
       "</style>\n",
       "<table border=\"1\" class=\"dataframe\">\n",
       "  <thead>\n",
       "    <tr style=\"text-align: right;\">\n",
       "      <th></th>\n",
       "      <th>11884</th>\n",
       "      <th>2356</th>\n",
       "      <th>30572</th>\n",
       "      <th>43491</th>\n",
       "      <th>28006</th>\n",
       "    </tr>\n",
       "  </thead>\n",
       "  <tbody>\n",
       "    <tr>\n",
       "      <th>county_city_location</th>\n",
       "      <td>3104</td>\n",
       "      <td>1000</td>\n",
       "      <td>4100</td>\n",
       "      <td>1942</td>\n",
       "      <td>1941</td>\n",
       "    </tr>\n",
       "    <tr>\n",
       "      <th>county_location</th>\n",
       "      <td>placer</td>\n",
       "      <td>fresno</td>\n",
       "      <td>san mateo</td>\n",
       "      <td>los angeles</td>\n",
       "      <td>los angeles</td>\n",
       "    </tr>\n",
       "    <tr>\n",
       "      <th>intersection</th>\n",
       "      <td>NaN</td>\n",
       "      <td>1.0</td>\n",
       "      <td>0.0</td>\n",
       "      <td>1.0</td>\n",
       "      <td>0.0</td>\n",
       "    </tr>\n",
       "    <tr>\n",
       "      <th>weather_1</th>\n",
       "      <td>clear</td>\n",
       "      <td>clear</td>\n",
       "      <td>cloudy</td>\n",
       "      <td>clear</td>\n",
       "      <td>clear</td>\n",
       "    </tr>\n",
       "    <tr>\n",
       "      <th>location_type</th>\n",
       "      <td>None</td>\n",
       "      <td>None</td>\n",
       "      <td>ramp</td>\n",
       "      <td>None</td>\n",
       "      <td>None</td>\n",
       "    </tr>\n",
       "    <tr>\n",
       "      <th>road_surface</th>\n",
       "      <td>dry</td>\n",
       "      <td>dry</td>\n",
       "      <td>dry</td>\n",
       "      <td>dry</td>\n",
       "      <td>dry</td>\n",
       "    </tr>\n",
       "    <tr>\n",
       "      <th>road_condition_1</th>\n",
       "      <td>normal</td>\n",
       "      <td>normal</td>\n",
       "      <td>normal</td>\n",
       "      <td>normal</td>\n",
       "      <td>construction</td>\n",
       "    </tr>\n",
       "    <tr>\n",
       "      <th>lighting</th>\n",
       "      <td>daylight</td>\n",
       "      <td>daylight</td>\n",
       "      <td>daylight</td>\n",
       "      <td>dark with street lights</td>\n",
       "      <td>daylight</td>\n",
       "    </tr>\n",
       "    <tr>\n",
       "      <th>control_device</th>\n",
       "      <td>none</td>\n",
       "      <td>functioning</td>\n",
       "      <td>none</td>\n",
       "      <td>functioning</td>\n",
       "      <td>none</td>\n",
       "    </tr>\n",
       "    <tr>\n",
       "      <th>collision_month</th>\n",
       "      <td>5</td>\n",
       "      <td>4</td>\n",
       "      <td>2</td>\n",
       "      <td>1</td>\n",
       "      <td>5</td>\n",
       "    </tr>\n",
       "    <tr>\n",
       "      <th>collision_isodow</th>\n",
       "      <td>1</td>\n",
       "      <td>3</td>\n",
       "      <td>7</td>\n",
       "      <td>3</td>\n",
       "      <td>6</td>\n",
       "    </tr>\n",
       "    <tr>\n",
       "      <th>time_period</th>\n",
       "      <td>afternoon</td>\n",
       "      <td>morning</td>\n",
       "      <td>afternoon</td>\n",
       "      <td>evening</td>\n",
       "      <td>afternoon</td>\n",
       "    </tr>\n",
       "    <tr>\n",
       "      <th>at_fault</th>\n",
       "      <td>1</td>\n",
       "      <td>1</td>\n",
       "      <td>1</td>\n",
       "      <td>0</td>\n",
       "      <td>0</td>\n",
       "    </tr>\n",
       "    <tr>\n",
       "      <th>cellphone_in_use</th>\n",
       "      <td>0.0</td>\n",
       "      <td>0.0</td>\n",
       "      <td>0.0</td>\n",
       "      <td>0.0</td>\n",
       "      <td>NaN</td>\n",
       "    </tr>\n",
       "    <tr>\n",
       "      <th>vehicle_transmission</th>\n",
       "      <td>auto</td>\n",
       "      <td>auto</td>\n",
       "      <td>manual</td>\n",
       "      <td>auto</td>\n",
       "      <td>manual</td>\n",
       "    </tr>\n",
       "    <tr>\n",
       "      <th>vehicle_age</th>\n",
       "      <td>3.0</td>\n",
       "      <td>5.0</td>\n",
       "      <td>3.0</td>\n",
       "      <td>3.0</td>\n",
       "      <td>5.0</td>\n",
       "    </tr>\n",
       "    <tr>\n",
       "      <th>age</th>\n",
       "      <td>age &lt;= 3</td>\n",
       "      <td>3 &lt; age &lt;= 5</td>\n",
       "      <td>age &lt;= 3</td>\n",
       "      <td>age &lt;= 3</td>\n",
       "      <td>3 &lt; age &lt;= 5</td>\n",
       "    </tr>\n",
       "  </tbody>\n",
       "</table>\n",
       "</div>"
      ],
      "text/plain": [
       "                          11884         2356       30572  \\\n",
       "county_city_location       3104          1000       4100   \n",
       "county_location          placer        fresno  san mateo   \n",
       "intersection                NaN           1.0        0.0   \n",
       "weather_1                 clear         clear     cloudy   \n",
       "location_type              None          None       ramp   \n",
       "road_surface                dry           dry        dry   \n",
       "road_condition_1         normal        normal     normal   \n",
       "lighting               daylight      daylight   daylight   \n",
       "control_device             none   functioning       none   \n",
       "collision_month               5             4          2   \n",
       "collision_isodow              1             3          7   \n",
       "time_period           afternoon       morning  afternoon   \n",
       "at_fault                      1             1          1   \n",
       "cellphone_in_use            0.0           0.0        0.0   \n",
       "vehicle_transmission       auto          auto     manual   \n",
       "vehicle_age                 3.0           5.0        3.0   \n",
       "age                    age <= 3  3 < age <= 5   age <= 3   \n",
       "\n",
       "                                        43491         28006  \n",
       "county_city_location                     1942          1941  \n",
       "county_location                   los angeles   los angeles  \n",
       "intersection                              1.0           0.0  \n",
       "weather_1                               clear         clear  \n",
       "location_type                            None          None  \n",
       "road_surface                              dry           dry  \n",
       "road_condition_1                       normal  construction  \n",
       "lighting              dark with street lights      daylight  \n",
       "control_device                    functioning          none  \n",
       "collision_month                             1             5  \n",
       "collision_isodow                            3             6  \n",
       "time_period                           evening     afternoon  \n",
       "at_fault                                    0             0  \n",
       "cellphone_in_use                          0.0           NaN  \n",
       "vehicle_transmission                     auto        manual  \n",
       "vehicle_age                               3.0           5.0  \n",
       "age                                  age <= 3  3 < age <= 5  "
      ]
     },
     "execution_count": 23,
     "metadata": {},
     "output_type": "execute_result"
    }
   ],
   "source": [
    "columns = [# collisions\n",
    "           'county_city_location', # интенсивность движения может быть разной в зависимости от географического района\n",
    "           'county_location',\n",
    "           'intersection', # перекрестки - места повышенной опасности, где часто происходят дтп\n",
    "           'weather_1', # влияет на видимость и состояние дорожного покрытия\n",
    "           'location_type', # характеризует интенсивность и скоростные ограничения\n",
    "           'road_surface', # влияет на управляемость автомобилем\n",
    "           'road_condition_1', # влияет на управляемость автомобилем, скоростные ограничения\n",
    "           'lighting', # влияет на видимость\n",
    "           'control_device', # неработающие светофоры оказывают влияние на поток\n",
    "           'collision_month', # определяет сезонность\n",
    "           'collision_isodow', # характеризует интенсивность движения, особенно в сочетании с периодом суток\n",
    "           'time_period', # характеризует видимость и интенсивность движения\n",
    "           # parties\n",
    "           'at_fault', # целевой признак\n",
    "           'cellphone_in_use', # влияет на способность принимать звонки, не отвлекаясь от дороги\n",
    "           # vehicles\n",
    "           'vehicle_transmission', # может косвенно влиять на сложность управления при недостаточном опыте водителя,\n",
    "            # на динамику, на степень контроля над авто\n",
    "           'vehicle_age',\n",
    "           'age'] # влияет на вероятность поломки авто, в т.ч. во время движения\n",
    "\n",
    "data = data[columns]\n",
    "data.sample(5).T"
   ]
  },
  {
   "cell_type": "markdown",
   "id": "28852150",
   "metadata": {},
   "source": [
    "Изучим данные подробнее."
   ]
  },
  {
   "cell_type": "code",
   "execution_count": 24,
   "id": "0a05bc2e",
   "metadata": {},
   "outputs": [
    {
     "name": "stdout",
     "output_type": "stream",
     "text": [
      "<class 'pandas.core.frame.DataFrame'>\n",
      "RangeIndex: 56248 entries, 0 to 56247\n",
      "Data columns (total 17 columns):\n",
      " #   Column                Non-Null Count  Dtype  \n",
      "---  ------                --------------  -----  \n",
      " 0   county_city_location  56248 non-null  object \n",
      " 1   county_location       56248 non-null  object \n",
      " 2   intersection          56073 non-null  float64\n",
      " 3   weather_1             56080 non-null  object \n",
      " 4   location_type         25932 non-null  object \n",
      " 5   road_surface          55900 non-null  object \n",
      " 6   road_condition_1      55999 non-null  object \n",
      " 7   lighting              56094 non-null  object \n",
      " 8   control_device        56033 non-null  object \n",
      " 9   collision_month       56248 non-null  int64  \n",
      " 10  collision_isodow      56248 non-null  int64  \n",
      " 11  time_period           56248 non-null  object \n",
      " 12  at_fault              56248 non-null  int64  \n",
      " 13  cellphone_in_use      51777 non-null  float64\n",
      " 14  vehicle_transmission  55389 non-null  object \n",
      " 15  vehicle_age           54554 non-null  float64\n",
      " 16  age                   56248 non-null  object \n",
      "dtypes: float64(3), int64(3), object(11)\n",
      "memory usage: 7.3+ MB\n"
     ]
    }
   ],
   "source": [
    "data.info()"
   ]
  },
  {
   "cell_type": "markdown",
   "id": "f8358fde",
   "metadata": {},
   "source": [
    "### Предобработка данных"
   ]
  },
  {
   "cell_type": "code",
   "execution_count": 25,
   "id": "085e1fb1",
   "metadata": {},
   "outputs": [
    {
     "data": {
      "text/plain": [
       "56248"
      ]
     },
     "execution_count": 25,
     "metadata": {},
     "output_type": "execute_result"
    }
   ],
   "source": [
    "temp = data.copy()\n",
    "len(temp)"
   ]
  },
  {
   "cell_type": "markdown",
   "id": "82162494",
   "metadata": {},
   "source": [
    "Изучим пропуски."
   ]
  },
  {
   "cell_type": "code",
   "execution_count": 26,
   "id": "e33abb9c",
   "metadata": {},
   "outputs": [
    {
     "data": {
      "text/html": [
       "<div>\n",
       "<style scoped>\n",
       "    .dataframe tbody tr th:only-of-type {\n",
       "        vertical-align: middle;\n",
       "    }\n",
       "\n",
       "    .dataframe tbody tr th {\n",
       "        vertical-align: top;\n",
       "    }\n",
       "\n",
       "    .dataframe thead th {\n",
       "        text-align: right;\n",
       "    }\n",
       "</style>\n",
       "<table border=\"1\" class=\"dataframe\">\n",
       "  <thead>\n",
       "    <tr style=\"text-align: right;\">\n",
       "      <th></th>\n",
       "      <th>missing values</th>\n",
       "      <th>percent</th>\n",
       "    </tr>\n",
       "  </thead>\n",
       "  <tbody>\n",
       "    <tr>\n",
       "      <th>location_type</th>\n",
       "      <td>30316</td>\n",
       "      <td>53.90</td>\n",
       "    </tr>\n",
       "    <tr>\n",
       "      <th>cellphone_in_use</th>\n",
       "      <td>4471</td>\n",
       "      <td>7.95</td>\n",
       "    </tr>\n",
       "    <tr>\n",
       "      <th>vehicle_age</th>\n",
       "      <td>1694</td>\n",
       "      <td>3.01</td>\n",
       "    </tr>\n",
       "    <tr>\n",
       "      <th>vehicle_transmission</th>\n",
       "      <td>859</td>\n",
       "      <td>1.53</td>\n",
       "    </tr>\n",
       "    <tr>\n",
       "      <th>road_surface</th>\n",
       "      <td>348</td>\n",
       "      <td>0.62</td>\n",
       "    </tr>\n",
       "    <tr>\n",
       "      <th>road_condition_1</th>\n",
       "      <td>249</td>\n",
       "      <td>0.44</td>\n",
       "    </tr>\n",
       "    <tr>\n",
       "      <th>control_device</th>\n",
       "      <td>215</td>\n",
       "      <td>0.38</td>\n",
       "    </tr>\n",
       "    <tr>\n",
       "      <th>intersection</th>\n",
       "      <td>175</td>\n",
       "      <td>0.31</td>\n",
       "    </tr>\n",
       "    <tr>\n",
       "      <th>weather_1</th>\n",
       "      <td>168</td>\n",
       "      <td>0.30</td>\n",
       "    </tr>\n",
       "    <tr>\n",
       "      <th>lighting</th>\n",
       "      <td>154</td>\n",
       "      <td>0.27</td>\n",
       "    </tr>\n",
       "    <tr>\n",
       "      <th>at_fault</th>\n",
       "      <td>0</td>\n",
       "      <td>0.00</td>\n",
       "    </tr>\n",
       "    <tr>\n",
       "      <th>county_city_location</th>\n",
       "      <td>0</td>\n",
       "      <td>0.00</td>\n",
       "    </tr>\n",
       "    <tr>\n",
       "      <th>time_period</th>\n",
       "      <td>0</td>\n",
       "      <td>0.00</td>\n",
       "    </tr>\n",
       "    <tr>\n",
       "      <th>collision_isodow</th>\n",
       "      <td>0</td>\n",
       "      <td>0.00</td>\n",
       "    </tr>\n",
       "    <tr>\n",
       "      <th>collision_month</th>\n",
       "      <td>0</td>\n",
       "      <td>0.00</td>\n",
       "    </tr>\n",
       "    <tr>\n",
       "      <th>county_location</th>\n",
       "      <td>0</td>\n",
       "      <td>0.00</td>\n",
       "    </tr>\n",
       "    <tr>\n",
       "      <th>age</th>\n",
       "      <td>0</td>\n",
       "      <td>0.00</td>\n",
       "    </tr>\n",
       "  </tbody>\n",
       "</table>\n",
       "</div>"
      ],
      "text/plain": [
       "                      missing values  percent\n",
       "location_type                  30316    53.90\n",
       "cellphone_in_use                4471     7.95\n",
       "vehicle_age                     1694     3.01\n",
       "vehicle_transmission             859     1.53\n",
       "road_surface                     348     0.62\n",
       "road_condition_1                 249     0.44\n",
       "control_device                   215     0.38\n",
       "intersection                     175     0.31\n",
       "weather_1                        168     0.30\n",
       "lighting                         154     0.27\n",
       "at_fault                           0     0.00\n",
       "county_city_location               0     0.00\n",
       "time_period                        0     0.00\n",
       "collision_isodow                   0     0.00\n",
       "collision_month                    0     0.00\n",
       "county_location                    0     0.00\n",
       "age                                0     0.00"
      ]
     },
     "execution_count": 26,
     "metadata": {},
     "output_type": "execute_result"
    }
   ],
   "source": [
    "missing_values = data.isna().sum()\n",
    "missing_percent = round((missing_values / len(data)) * 100, 2)\n",
    "\n",
    "missing_data = pd.DataFrame({\n",
    "    'missing values': missing_values,\n",
    "    'percent': missing_percent\n",
    "})\n",
    "\n",
    "missing_data.sort_values(by='percent', ascending=False)"
   ]
  },
  {
   "cell_type": "markdown",
   "id": "affdf35d",
   "metadata": {},
   "source": [
    "Пропуски в данных присутствуют. Предварительно определим стратегию работы с ними: заполним пропуски в категориальных столбцах значением по умолчанию `unknown`, данные о возрасте авто - медианным значением.\n",
    "Пропуски в cellphone_in_use и intersection заполним нулями (считаем, что это не перекресток и возможности использовать громкую связь нет).\n",
    "\n",
    "Пропусков в целевом признаке нет."
   ]
  },
  {
   "cell_type": "markdown",
   "id": "ce90b157",
   "metadata": {},
   "source": [
    "Выполним минимальную предобработку категориальных значений. Удалим явные дубликаты, если они имеются."
   ]
  },
  {
   "cell_type": "code",
   "execution_count": 27,
   "id": "bfbbb302",
   "metadata": {},
   "outputs": [
    {
     "data": {
      "text/plain": [
       "1160"
      ]
     },
     "execution_count": 27,
     "metadata": {},
     "output_type": "execute_result"
    }
   ],
   "source": [
    "cat_columns = data.select_dtypes(include='object').columns.tolist()\n",
    "for col in cat_columns:\n",
    "    data[col] = data[col].str.strip().str.lower()\n",
    "    \n",
    "data.duplicated().sum()"
   ]
  },
  {
   "cell_type": "code",
   "execution_count": 28,
   "id": "bbf0b3b0",
   "metadata": {},
   "outputs": [],
   "source": [
    "data = data.drop_duplicates().reset_index(drop=True)"
   ]
  },
  {
   "cell_type": "markdown",
   "id": "7b72893d",
   "metadata": {},
   "source": [
    "Т.к. в данных много категориальных признаков, будем устранять возможные проблемы при их изучении, после чего выполним проверку на дубликаты повторно."
   ]
  },
  {
   "cell_type": "markdown",
   "id": "bca68f70",
   "metadata": {},
   "source": [
    "### Исследовательский анализ данных"
   ]
  },
  {
   "cell_type": "code",
   "execution_count": 29,
   "id": "238c563e",
   "metadata": {},
   "outputs": [],
   "source": [
    "def analyze_categorical_data(data, column, column_to_calculate):\n",
    "    \"\"\"\n",
    "    Функция используется при анализе категориальных данных.\n",
    "\n",
    "    Args:\n",
    "        data (DataFrame): датафрейм\n",
    "        column (string): столбец для анализа\n",
    "        column_to_calculate (string): столбец, используемый для подсчетов\n",
    "    Returns:\n",
    "        agg_data - агрегированные данные\n",
    "    \"\"\"\n",
    "    agg_data = (\n",
    "    data\n",
    "    .groupby(column) \n",
    "    .agg(count=(column_to_calculate, 'count'), share_of_pos_target=(column_to_calculate, 'mean')))\n",
    "    display(agg_data.sort_values(by='share_of_pos_target', ascending=False))\n",
    "    return agg_data"
   ]
  },
  {
   "cell_type": "code",
   "execution_count": 30,
   "id": "3e6f7303",
   "metadata": {},
   "outputs": [],
   "source": [
    "def analyze_numerical_data(data, column, title, bins_number=100):\n",
    "    \"\"\"\n",
    "    Функция помогает при проведении статистического анализа количественных признаков.\n",
    "\n",
    "    Принимает датасет, столбец для анализа и значение заголовка для вывода графика.\n",
    "    Может принимать bins для построения графика.\n",
    "\n",
    "    Выводит для колонки:\n",
    "    - гистограмму с отмеченным средним значением и медианой\n",
    "    - диаграмму размаха\n",
    "    \"\"\"\n",
    "\n",
    "    print(data[column].describe())\n",
    "     \n",
    "    median = data[column].median()\n",
    "    mean = data[column].mean()\n",
    "        \n",
    "    # Создаем фигуру и оси для гистограммы\n",
    "    fig, ax = plt.subplots(2, 1, figsize=(17, 10))\n",
    "\n",
    "    # Гистограмма\n",
    "    ax[0].hist(data[column], bins=bins_number, color='skyblue')\n",
    "    ax[0].set_title(f'Гистограмма для признака \"{title}\"', fontsize=TITLE_SIZE)\n",
    "    ax[0].set_xlabel(title, fontsize=LABEL_SIZE)\n",
    "    ax[0].set_ylabel('Частота', fontsize=LABEL_SIZE)\n",
    "    ax[0].grid(True)\n",
    "    \n",
    "    ax[0].axvline(median, color='green', linestyle='dashed', linewidth=1.5, label=f'Медиана: {median:.2f}')\n",
    "    ax[0].axvline(mean, color='red', linestyle='dashed', linewidth=1.5, label=f'Среднее: {mean:.2f}')\n",
    "    ax[0].legend()\n",
    "\n",
    "    # Диаграмма размаха\n",
    "    ax[1] = data[[column]].boxplot(vert=False, ax=ax[1])\n",
    "    ax[1].set_title(f'Диаграмма размаха для признака \"{title}\"', fontsize=TITLE_SIZE)\n",
    "    \n",
    "    plt.tight_layout()\n",
    "    # Установка вертикального отступа между графиками\n",
    "    plt.subplots_adjust(hspace=0.3)\n",
    "    plt.show()"
   ]
  },
  {
   "cell_type": "markdown",
   "id": "02446e05",
   "metadata": {},
   "source": [
    "Изучим значения таргета. Стоит отметить, что с учетом признака, выбранного целевым, речь идет о вероятности стать виновным в ДТП (т.к. признак содержит информацию о виновности участника)."
   ]
  },
  {
   "cell_type": "code",
   "execution_count": 31,
   "id": "8fdeef0b",
   "metadata": {},
   "outputs": [
    {
     "data": {
      "image/png": "[encoded data removed]",
      "text/plain": [
       "<Figure size 1080x360 with 1 Axes>"
      ]
     },
     "metadata": {
      "needs_background": "light"
     },
     "output_type": "display_data"
    }
   ],
   "source": [
    "value_counts = data['at_fault'].value_counts()\n",
    "percentages = (value_counts / len(data)) * 100\n",
    "status_counts = pd.DataFrame({'count': value_counts, 'percentage': percentages})\n",
    "\n",
    "# Построение графика\n",
    "plt.figure(figsize=(15, 5))\n",
    "status_counts['count'].plot(kind='barh', color='skyblue', alpha=0.7, edgecolor='black')\n",
    "\n",
    "# Добавление подписей с числами и процентами\n",
    "for index, value in enumerate(status_counts['count']):\n",
    "    plt.text(value + 0.05, index, f\"{value} ({status_counts['percentage'].iloc[index]:.2f}%)\", va='center')\n",
    "\n",
    "plt.title('Распределение целевого признака', fontsize=TITLE_SIZE)\n",
    "plt.xlabel('Количество записей о ДТП', fontsize=LABEL_SIZE)\n",
    "plt.ylabel('Статус', fontsize=LABEL_SIZE)\n",
    "plt.grid(axis='x')\n",
    "plt.show()"
   ]
  },
  {
   "cell_type": "markdown",
   "id": "eb084e4f",
   "metadata": {},
   "source": [
    "Количество записей, когда участники виновны, незначительно превышает число случаев, когда участники не виновны - 50,72% и 49,28% соответсвенно."
   ]
  },
  {
   "cell_type": "markdown",
   "id": "d37f1185",
   "metadata": {},
   "source": [
    "Посмотрим подробнее на географические данные. Мы уже выяснили, что данные содержат информацию о ДТП в Калифорнии."
   ]
  },
  {
   "cell_type": "code",
   "execution_count": 32,
   "id": "356a0d4e",
   "metadata": {},
   "outputs": [
    {
     "data": {
      "text/plain": [
       "496"
      ]
     },
     "execution_count": 32,
     "metadata": {},
     "output_type": "execute_result"
    }
   ],
   "source": [
    "data['county_city_location'].nunique()"
   ]
  },
  {
   "cell_type": "code",
   "execution_count": 33,
   "id": "33675f6f",
   "metadata": {},
   "outputs": [
    {
     "data": {
      "text/plain": [
       "58"
      ]
     },
     "execution_count": 33,
     "metadata": {},
     "output_type": "execute_result"
    }
   ],
   "source": [
    "data['county_location'].nunique()"
   ]
  },
  {
   "cell_type": "code",
   "execution_count": 34,
   "id": "f719b9f6",
   "metadata": {},
   "outputs": [
    {
     "data": {
      "text/html": [
       "<div>\n",
       "<style scoped>\n",
       "    .dataframe tbody tr th:only-of-type {\n",
       "        vertical-align: middle;\n",
       "    }\n",
       "\n",
       "    .dataframe tbody tr th {\n",
       "        vertical-align: top;\n",
       "    }\n",
       "\n",
       "    .dataframe thead th {\n",
       "        text-align: right;\n",
       "    }\n",
       "</style>\n",
       "<table border=\"1\" class=\"dataframe\">\n",
       "  <thead>\n",
       "    <tr style=\"text-align: right;\">\n",
       "      <th></th>\n",
       "      <th>count</th>\n",
       "      <th>share_of_pos_target</th>\n",
       "    </tr>\n",
       "    <tr>\n",
       "      <th>county_location</th>\n",
       "      <th></th>\n",
       "      <th></th>\n",
       "    </tr>\n",
       "  </thead>\n",
       "  <tbody>\n",
       "    <tr>\n",
       "      <th>plumas</th>\n",
       "      <td>34</td>\n",
       "      <td>0.911765</td>\n",
       "    </tr>\n",
       "    <tr>\n",
       "      <th>sierra</th>\n",
       "      <td>14</td>\n",
       "      <td>0.857143</td>\n",
       "    </tr>\n",
       "    <tr>\n",
       "      <th>trinity</th>\n",
       "      <td>33</td>\n",
       "      <td>0.787879</td>\n",
       "    </tr>\n",
       "    <tr>\n",
       "      <th>inyo</th>\n",
       "      <td>71</td>\n",
       "      <td>0.760563</td>\n",
       "    </tr>\n",
       "    <tr>\n",
       "      <th>mariposa</th>\n",
       "      <td>60</td>\n",
       "      <td>0.733333</td>\n",
       "    </tr>\n",
       "    <tr>\n",
       "      <th>lake</th>\n",
       "      <td>115</td>\n",
       "      <td>0.730435</td>\n",
       "    </tr>\n",
       "    <tr>\n",
       "      <th>glenn</th>\n",
       "      <td>40</td>\n",
       "      <td>0.725000</td>\n",
       "    </tr>\n",
       "    <tr>\n",
       "      <th>mendocino</th>\n",
       "      <td>194</td>\n",
       "      <td>0.716495</td>\n",
       "    </tr>\n",
       "    <tr>\n",
       "      <th>amador</th>\n",
       "      <td>85</td>\n",
       "      <td>0.705882</td>\n",
       "    </tr>\n",
       "    <tr>\n",
       "      <th>alpine</th>\n",
       "      <td>20</td>\n",
       "      <td>0.700000</td>\n",
       "    </tr>\n",
       "    <tr>\n",
       "      <th>nevada</th>\n",
       "      <td>184</td>\n",
       "      <td>0.673913</td>\n",
       "    </tr>\n",
       "    <tr>\n",
       "      <th>lassen</th>\n",
       "      <td>58</td>\n",
       "      <td>0.655172</td>\n",
       "    </tr>\n",
       "    <tr>\n",
       "      <th>shasta</th>\n",
       "      <td>282</td>\n",
       "      <td>0.652482</td>\n",
       "    </tr>\n",
       "    <tr>\n",
       "      <th>siskiyou</th>\n",
       "      <td>90</td>\n",
       "      <td>0.644444</td>\n",
       "    </tr>\n",
       "    <tr>\n",
       "      <th>el dorado</th>\n",
       "      <td>290</td>\n",
       "      <td>0.637931</td>\n",
       "    </tr>\n",
       "    <tr>\n",
       "      <th>tehama</th>\n",
       "      <td>149</td>\n",
       "      <td>0.624161</td>\n",
       "    </tr>\n",
       "    <tr>\n",
       "      <th>colusa</th>\n",
       "      <td>63</td>\n",
       "      <td>0.619048</td>\n",
       "    </tr>\n",
       "    <tr>\n",
       "      <th>yuba</th>\n",
       "      <td>110</td>\n",
       "      <td>0.618182</td>\n",
       "    </tr>\n",
       "    <tr>\n",
       "      <th>humboldt</th>\n",
       "      <td>329</td>\n",
       "      <td>0.617021</td>\n",
       "    </tr>\n",
       "    <tr>\n",
       "      <th>del norte</th>\n",
       "      <td>62</td>\n",
       "      <td>0.612903</td>\n",
       "    </tr>\n",
       "    <tr>\n",
       "      <th>calaveras</th>\n",
       "      <td>112</td>\n",
       "      <td>0.607143</td>\n",
       "    </tr>\n",
       "    <tr>\n",
       "      <th>imperial</th>\n",
       "      <td>209</td>\n",
       "      <td>0.602871</td>\n",
       "    </tr>\n",
       "    <tr>\n",
       "      <th>butte</th>\n",
       "      <td>318</td>\n",
       "      <td>0.600629</td>\n",
       "    </tr>\n",
       "    <tr>\n",
       "      <th>tuolumne</th>\n",
       "      <td>123</td>\n",
       "      <td>0.585366</td>\n",
       "    </tr>\n",
       "    <tr>\n",
       "      <th>fresno</th>\n",
       "      <td>1062</td>\n",
       "      <td>0.577213</td>\n",
       "    </tr>\n",
       "    <tr>\n",
       "      <th>san luis obispo</th>\n",
       "      <td>438</td>\n",
       "      <td>0.575342</td>\n",
       "    </tr>\n",
       "    <tr>\n",
       "      <th>solano</th>\n",
       "      <td>549</td>\n",
       "      <td>0.561020</td>\n",
       "    </tr>\n",
       "    <tr>\n",
       "      <th>merced</th>\n",
       "      <td>395</td>\n",
       "      <td>0.556962</td>\n",
       "    </tr>\n",
       "    <tr>\n",
       "      <th>madera</th>\n",
       "      <td>326</td>\n",
       "      <td>0.555215</td>\n",
       "    </tr>\n",
       "    <tr>\n",
       "      <th>santa barbara</th>\n",
       "      <td>727</td>\n",
       "      <td>0.554333</td>\n",
       "    </tr>\n",
       "    <tr>\n",
       "      <th>tulare</th>\n",
       "      <td>720</td>\n",
       "      <td>0.552778</td>\n",
       "    </tr>\n",
       "    <tr>\n",
       "      <th>santa cruz</th>\n",
       "      <td>428</td>\n",
       "      <td>0.549065</td>\n",
       "    </tr>\n",
       "    <tr>\n",
       "      <th>kern</th>\n",
       "      <td>1400</td>\n",
       "      <td>0.548571</td>\n",
       "    </tr>\n",
       "    <tr>\n",
       "      <th>sonoma</th>\n",
       "      <td>691</td>\n",
       "      <td>0.548480</td>\n",
       "    </tr>\n",
       "    <tr>\n",
       "      <th>monterey</th>\n",
       "      <td>574</td>\n",
       "      <td>0.547038</td>\n",
       "    </tr>\n",
       "    <tr>\n",
       "      <th>placer</th>\n",
       "      <td>585</td>\n",
       "      <td>0.545299</td>\n",
       "    </tr>\n",
       "    <tr>\n",
       "      <th>yolo</th>\n",
       "      <td>281</td>\n",
       "      <td>0.544484</td>\n",
       "    </tr>\n",
       "    <tr>\n",
       "      <th>stanislaus</th>\n",
       "      <td>802</td>\n",
       "      <td>0.543641</td>\n",
       "    </tr>\n",
       "    <tr>\n",
       "      <th>kings</th>\n",
       "      <td>247</td>\n",
       "      <td>0.542510</td>\n",
       "    </tr>\n",
       "    <tr>\n",
       "      <th>san diego</th>\n",
       "      <td>3684</td>\n",
       "      <td>0.542345</td>\n",
       "    </tr>\n",
       "    <tr>\n",
       "      <th>san benito</th>\n",
       "      <td>72</td>\n",
       "      <td>0.541667</td>\n",
       "    </tr>\n",
       "    <tr>\n",
       "      <th>san joaquin</th>\n",
       "      <td>930</td>\n",
       "      <td>0.538710</td>\n",
       "    </tr>\n",
       "    <tr>\n",
       "      <th>napa</th>\n",
       "      <td>208</td>\n",
       "      <td>0.538462</td>\n",
       "    </tr>\n",
       "    <tr>\n",
       "      <th>marin</th>\n",
       "      <td>370</td>\n",
       "      <td>0.535135</td>\n",
       "    </tr>\n",
       "    <tr>\n",
       "      <th>santa clara</th>\n",
       "      <td>1824</td>\n",
       "      <td>0.513706</td>\n",
       "    </tr>\n",
       "    <tr>\n",
       "      <th>ventura</th>\n",
       "      <td>1456</td>\n",
       "      <td>0.511676</td>\n",
       "    </tr>\n",
       "    <tr>\n",
       "      <th>mono</th>\n",
       "      <td>51</td>\n",
       "      <td>0.509804</td>\n",
       "    </tr>\n",
       "    <tr>\n",
       "      <th>sutter</th>\n",
       "      <td>144</td>\n",
       "      <td>0.506944</td>\n",
       "    </tr>\n",
       "    <tr>\n",
       "      <th>riverside</th>\n",
       "      <td>3273</td>\n",
       "      <td>0.503208</td>\n",
       "    </tr>\n",
       "    <tr>\n",
       "      <th>san mateo</th>\n",
       "      <td>933</td>\n",
       "      <td>0.502680</td>\n",
       "    </tr>\n",
       "    <tr>\n",
       "      <th>contra costa</th>\n",
       "      <td>985</td>\n",
       "      <td>0.498477</td>\n",
       "    </tr>\n",
       "    <tr>\n",
       "      <th>alameda</th>\n",
       "      <td>1864</td>\n",
       "      <td>0.498391</td>\n",
       "    </tr>\n",
       "    <tr>\n",
       "      <th>san bernardino</th>\n",
       "      <td>3599</td>\n",
       "      <td>0.495693</td>\n",
       "    </tr>\n",
       "    <tr>\n",
       "      <th>sacramento</th>\n",
       "      <td>2153</td>\n",
       "      <td>0.490478</td>\n",
       "    </tr>\n",
       "    <tr>\n",
       "      <th>orange</th>\n",
       "      <td>5309</td>\n",
       "      <td>0.467696</td>\n",
       "    </tr>\n",
       "    <tr>\n",
       "      <th>los angeles</th>\n",
       "      <td>15446</td>\n",
       "      <td>0.461932</td>\n",
       "    </tr>\n",
       "    <tr>\n",
       "      <th>san francisco</th>\n",
       "      <td>500</td>\n",
       "      <td>0.442000</td>\n",
       "    </tr>\n",
       "    <tr>\n",
       "      <th>modoc</th>\n",
       "      <td>17</td>\n",
       "      <td>0.294118</td>\n",
       "    </tr>\n",
       "  </tbody>\n",
       "</table>\n",
       "</div>"
      ],
      "text/plain": [
       "                 count  share_of_pos_target\n",
       "county_location                            \n",
       "plumas              34             0.911765\n",
       "sierra              14             0.857143\n",
       "trinity             33             0.787879\n",
       "inyo                71             0.760563\n",
       "mariposa            60             0.733333\n",
       "lake               115             0.730435\n",
       "glenn               40             0.725000\n",
       "mendocino          194             0.716495\n",
       "amador              85             0.705882\n",
       "alpine              20             0.700000\n",
       "nevada             184             0.673913\n",
       "lassen              58             0.655172\n",
       "shasta             282             0.652482\n",
       "siskiyou            90             0.644444\n",
       "el dorado          290             0.637931\n",
       "tehama             149             0.624161\n",
       "colusa              63             0.619048\n",
       "yuba               110             0.618182\n",
       "humboldt           329             0.617021\n",
       "del norte           62             0.612903\n",
       "calaveras          112             0.607143\n",
       "imperial           209             0.602871\n",
       "butte              318             0.600629\n",
       "tuolumne           123             0.585366\n",
       "fresno            1062             0.577213\n",
       "san luis obispo    438             0.575342\n",
       "solano             549             0.561020\n",
       "merced             395             0.556962\n",
       "madera             326             0.555215\n",
       "santa barbara      727             0.554333\n",
       "tulare             720             0.552778\n",
       "santa cruz         428             0.549065\n",
       "kern              1400             0.548571\n",
       "sonoma             691             0.548480\n",
       "monterey           574             0.547038\n",
       "placer             585             0.545299\n",
       "yolo               281             0.544484\n",
       "stanislaus         802             0.543641\n",
       "kings              247             0.542510\n",
       "san diego         3684             0.542345\n",
       "san benito          72             0.541667\n",
       "san joaquin        930             0.538710\n",
       "napa               208             0.538462\n",
       "marin              370             0.535135\n",
       "santa clara       1824             0.513706\n",
       "ventura           1456             0.511676\n",
       "mono                51             0.509804\n",
       "sutter             144             0.506944\n",
       "riverside         3273             0.503208\n",
       "san mateo          933             0.502680\n",
       "contra costa       985             0.498477\n",
       "alameda           1864             0.498391\n",
       "san bernardino    3599             0.495693\n",
       "sacramento        2153             0.490478\n",
       "orange            5309             0.467696\n",
       "los angeles      15446             0.461932\n",
       "san francisco      500             0.442000\n",
       "modoc               17             0.294118"
      ]
     },
     "metadata": {},
     "output_type": "display_data"
    }
   ],
   "source": [
    "_ = analyze_categorical_data(data, 'county_location', 'at_fault')"
   ]
  },
  {
   "cell_type": "markdown",
   "id": "c0ac149c",
   "metadata": {},
   "source": [
    "Уникальных значений `county_city_location` слишком много, этот признак врядли будет полезен для моделирования. Для признака `county_location` представлено 58 уникальных значений. Доля положительных значений целевого признака варьируется от 0.29 до 0.91. Этот признак может быть полезным."
   ]
  },
  {
   "cell_type": "code",
   "execution_count": 35,
   "id": "77e2b3de",
   "metadata": {},
   "outputs": [
    {
     "data": {
      "text/html": [
       "<div>\n",
       "<style scoped>\n",
       "    .dataframe tbody tr th:only-of-type {\n",
       "        vertical-align: middle;\n",
       "    }\n",
       "\n",
       "    .dataframe tbody tr th {\n",
       "        vertical-align: top;\n",
       "    }\n",
       "\n",
       "    .dataframe thead th {\n",
       "        text-align: right;\n",
       "    }\n",
       "</style>\n",
       "<table border=\"1\" class=\"dataframe\">\n",
       "  <thead>\n",
       "    <tr style=\"text-align: right;\">\n",
       "      <th></th>\n",
       "      <th>count</th>\n",
       "      <th>share_of_pos_target</th>\n",
       "    </tr>\n",
       "    <tr>\n",
       "      <th>intersection</th>\n",
       "      <th></th>\n",
       "      <th></th>\n",
       "    </tr>\n",
       "  </thead>\n",
       "  <tbody>\n",
       "    <tr>\n",
       "      <th>0.0</th>\n",
       "      <td>42629</td>\n",
       "      <td>0.524572</td>\n",
       "    </tr>\n",
       "    <tr>\n",
       "      <th>1.0</th>\n",
       "      <td>12285</td>\n",
       "      <td>0.446724</td>\n",
       "    </tr>\n",
       "  </tbody>\n",
       "</table>\n",
       "</div>"
      ],
      "text/plain": [
       "              count  share_of_pos_target\n",
       "intersection                            \n",
       "0.0           42629             0.524572\n",
       "1.0           12285             0.446724"
      ]
     },
     "metadata": {},
     "output_type": "display_data"
    }
   ],
   "source": [
    "_ = analyze_categorical_data(data, 'intersection', 'at_fault')"
   ]
  },
  {
   "cell_type": "markdown",
   "id": "d5f5a133",
   "metadata": {},
   "source": [
    "В нашей выборке есть информация о ДТП на 12325 перекрестках, аварийность на перекрестках ниже - 44.6% против 52.4%.\n",
    "\n",
    "Проверим признак `location_type`, т.к. одним из значений является intersection. Возможно, данные дублируются."
   ]
  },
  {
   "cell_type": "code",
   "execution_count": 36,
   "id": "8caae540",
   "metadata": {},
   "outputs": [
    {
     "data": {
      "text/html": [
       "<div>\n",
       "<style scoped>\n",
       "    .dataframe tbody tr th:only-of-type {\n",
       "        vertical-align: middle;\n",
       "    }\n",
       "\n",
       "    .dataframe tbody tr th {\n",
       "        vertical-align: top;\n",
       "    }\n",
       "\n",
       "    .dataframe thead th {\n",
       "        text-align: right;\n",
       "    }\n",
       "</style>\n",
       "<table border=\"1\" class=\"dataframe\">\n",
       "  <thead>\n",
       "    <tr style=\"text-align: right;\">\n",
       "      <th></th>\n",
       "      <th>count</th>\n",
       "      <th>share_of_pos_target</th>\n",
       "    </tr>\n",
       "    <tr>\n",
       "      <th>location_type</th>\n",
       "      <th></th>\n",
       "      <th></th>\n",
       "    </tr>\n",
       "  </thead>\n",
       "  <tbody>\n",
       "    <tr>\n",
       "      <th>ramp</th>\n",
       "      <td>3248</td>\n",
       "      <td>0.543103</td>\n",
       "    </tr>\n",
       "    <tr>\n",
       "      <th>highway</th>\n",
       "      <td>20674</td>\n",
       "      <td>0.495260</td>\n",
       "    </tr>\n",
       "    <tr>\n",
       "      <th>intersection</th>\n",
       "      <td>1340</td>\n",
       "      <td>0.461194</td>\n",
       "    </tr>\n",
       "  </tbody>\n",
       "</table>\n",
       "</div>"
      ],
      "text/plain": [
       "               count  share_of_pos_target\n",
       "location_type                            \n",
       "ramp            3248             0.543103\n",
       "highway        20674             0.495260\n",
       "intersection    1340             0.461194"
      ]
     },
     "metadata": {},
     "output_type": "display_data"
    }
   ],
   "source": [
    "_ = analyze_categorical_data(data, 'location_type', 'at_fault')"
   ]
  },
  {
   "cell_type": "markdown",
   "id": "1539cd41",
   "metadata": {},
   "source": [
    "Самая высокая доля положительного значения целевого признака - при ДТП на съездах (54.3%), затем шоссе (49.6%) и перекрестки (46.1%). Количество перекрестков при анализе признаков разное, оставляем оба признака. "
   ]
  },
  {
   "cell_type": "code",
   "execution_count": 37,
   "id": "cab205fd",
   "metadata": {},
   "outputs": [
    {
     "data": {
      "text/html": [
       "<div>\n",
       "<style scoped>\n",
       "    .dataframe tbody tr th:only-of-type {\n",
       "        vertical-align: middle;\n",
       "    }\n",
       "\n",
       "    .dataframe tbody tr th {\n",
       "        vertical-align: top;\n",
       "    }\n",
       "\n",
       "    .dataframe thead th {\n",
       "        text-align: right;\n",
       "    }\n",
       "</style>\n",
       "<table border=\"1\" class=\"dataframe\">\n",
       "  <thead>\n",
       "    <tr style=\"text-align: right;\">\n",
       "      <th></th>\n",
       "      <th>count</th>\n",
       "      <th>share_of_pos_target</th>\n",
       "    </tr>\n",
       "    <tr>\n",
       "      <th>weather_1</th>\n",
       "      <th></th>\n",
       "      <th></th>\n",
       "    </tr>\n",
       "  </thead>\n",
       "  <tbody>\n",
       "    <tr>\n",
       "      <th>snowing</th>\n",
       "      <td>156</td>\n",
       "      <td>0.685897</td>\n",
       "    </tr>\n",
       "    <tr>\n",
       "      <th>other</th>\n",
       "      <td>34</td>\n",
       "      <td>0.676471</td>\n",
       "    </tr>\n",
       "    <tr>\n",
       "      <th>fog</th>\n",
       "      <td>180</td>\n",
       "      <td>0.600000</td>\n",
       "    </tr>\n",
       "    <tr>\n",
       "      <th>raining</th>\n",
       "      <td>2162</td>\n",
       "      <td>0.581869</td>\n",
       "    </tr>\n",
       "    <tr>\n",
       "      <th>wind</th>\n",
       "      <td>11</td>\n",
       "      <td>0.545455</td>\n",
       "    </tr>\n",
       "    <tr>\n",
       "      <th>cloudy</th>\n",
       "      <td>8372</td>\n",
       "      <td>0.542403</td>\n",
       "    </tr>\n",
       "    <tr>\n",
       "      <th>clear</th>\n",
       "      <td>44005</td>\n",
       "      <td>0.496103</td>\n",
       "    </tr>\n",
       "  </tbody>\n",
       "</table>\n",
       "</div>"
      ],
      "text/plain": [
       "           count  share_of_pos_target\n",
       "weather_1                            \n",
       "snowing      156             0.685897\n",
       "other         34             0.676471\n",
       "fog          180             0.600000\n",
       "raining     2162             0.581869\n",
       "wind          11             0.545455\n",
       "cloudy      8372             0.542403\n",
       "clear      44005             0.496103"
      ]
     },
     "metadata": {},
     "output_type": "display_data"
    }
   ],
   "source": [
    "grouped_data = analyze_categorical_data(data, 'weather_1', 'at_fault')"
   ]
  },
  {
   "cell_type": "code",
   "execution_count": 38,
   "id": "ea71d07e",
   "metadata": {},
   "outputs": [
    {
     "data": {
      "image/png": "[encoded data removed]",
      "text/plain": [
       "<Figure size 1296x504 with 1 Axes>"
      ]
     },
     "metadata": {
      "needs_background": "light"
     },
     "output_type": "display_data"
    }
   ],
   "source": [
    "# построим столбчатую диаграмму\n",
    "ax = grouped_data['count'].sort_values().plot.barh(\n",
    "    legend=False, figsize = (18, 7), rot=0, fontsize=14,  color='skyblue', edgecolor='black')\n",
    "ax.set_title('Количество записей о ДТП по разным типам погоды', fontsize = TITLE_SIZE)\n",
    "ax.set_ylabel('Погода', fontsize = LABEL_SIZE)\n",
    "ax.set_xlabel('Количество записей', fontsize = LABEL_SIZE)\n",
    "\n",
    "# Выводим значения над каждым столбцом\n",
    "for p in ax.patches:\n",
    "    ax.annotate(f'{int(p.get_width())}',\n",
    "                (p.get_width() + 0.5, p.get_y() + p.get_height() / 2.), \n",
    "                ha='left', va='center', fontsize=16)\n",
    "    \n",
    "plt.show()"
   ]
  },
  {
   "cell_type": "markdown",
   "id": "409a70a5",
   "metadata": {},
   "source": [
    "Большинство записей о ДТП, совершенных в ясную погоду. Далее - облачную и дождливую. Записей о ДТП в другую погоду значительно меньше. При этом наибольшая доля положительных значений целевого признака - при снегопаде."
   ]
  },
  {
   "cell_type": "code",
   "execution_count": 39,
   "id": "dff11dff",
   "metadata": {
    "scrolled": false
   },
   "outputs": [
    {
     "data": {
      "text/html": [
       "<div>\n",
       "<style scoped>\n",
       "    .dataframe tbody tr th:only-of-type {\n",
       "        vertical-align: middle;\n",
       "    }\n",
       "\n",
       "    .dataframe tbody tr th {\n",
       "        vertical-align: top;\n",
       "    }\n",
       "\n",
       "    .dataframe thead th {\n",
       "        text-align: right;\n",
       "    }\n",
       "</style>\n",
       "<table border=\"1\" class=\"dataframe\">\n",
       "  <thead>\n",
       "    <tr style=\"text-align: right;\">\n",
       "      <th></th>\n",
       "      <th>count</th>\n",
       "      <th>share_of_pos_target</th>\n",
       "    </tr>\n",
       "    <tr>\n",
       "      <th>road_surface</th>\n",
       "      <th></th>\n",
       "      <th></th>\n",
       "    </tr>\n",
       "  </thead>\n",
       "  <tbody>\n",
       "    <tr>\n",
       "      <th>snowy</th>\n",
       "      <td>356</td>\n",
       "      <td>0.719101</td>\n",
       "    </tr>\n",
       "    <tr>\n",
       "      <th>wet</th>\n",
       "      <td>5224</td>\n",
       "      <td>0.592075</td>\n",
       "    </tr>\n",
       "    <tr>\n",
       "      <th>slippery</th>\n",
       "      <td>43</td>\n",
       "      <td>0.511628</td>\n",
       "    </tr>\n",
       "    <tr>\n",
       "      <th>dry</th>\n",
       "      <td>49119</td>\n",
       "      <td>0.496997</td>\n",
       "    </tr>\n",
       "  </tbody>\n",
       "</table>\n",
       "</div>"
      ],
      "text/plain": [
       "              count  share_of_pos_target\n",
       "road_surface                            \n",
       "snowy           356             0.719101\n",
       "wet            5224             0.592075\n",
       "slippery         43             0.511628\n",
       "dry           49119             0.496997"
      ]
     },
     "metadata": {},
     "output_type": "display_data"
    },
    {
     "data": {
      "text/html": [
       "<div>\n",
       "<style scoped>\n",
       "    .dataframe tbody tr th:only-of-type {\n",
       "        vertical-align: middle;\n",
       "    }\n",
       "\n",
       "    .dataframe tbody tr th {\n",
       "        vertical-align: top;\n",
       "    }\n",
       "\n",
       "    .dataframe thead th {\n",
       "        text-align: right;\n",
       "    }\n",
       "</style>\n",
       "<table border=\"1\" class=\"dataframe\">\n",
       "  <thead>\n",
       "    <tr style=\"text-align: right;\">\n",
       "      <th></th>\n",
       "      <th>count</th>\n",
       "      <th>share_of_pos_target</th>\n",
       "    </tr>\n",
       "    <tr>\n",
       "      <th>road_condition_1</th>\n",
       "      <th></th>\n",
       "      <th></th>\n",
       "    </tr>\n",
       "  </thead>\n",
       "  <tbody>\n",
       "    <tr>\n",
       "      <th>flooded</th>\n",
       "      <td>32</td>\n",
       "      <td>0.718750</td>\n",
       "    </tr>\n",
       "    <tr>\n",
       "      <th>loose material</th>\n",
       "      <td>128</td>\n",
       "      <td>0.640625</td>\n",
       "    </tr>\n",
       "    <tr>\n",
       "      <th>reduced width</th>\n",
       "      <td>71</td>\n",
       "      <td>0.619718</td>\n",
       "    </tr>\n",
       "    <tr>\n",
       "      <th>other</th>\n",
       "      <td>228</td>\n",
       "      <td>0.557018</td>\n",
       "    </tr>\n",
       "    <tr>\n",
       "      <th>obstruction</th>\n",
       "      <td>247</td>\n",
       "      <td>0.514170</td>\n",
       "    </tr>\n",
       "    <tr>\n",
       "      <th>normal</th>\n",
       "      <td>52919</td>\n",
       "      <td>0.507625</td>\n",
       "    </tr>\n",
       "    <tr>\n",
       "      <th>holes</th>\n",
       "      <td>219</td>\n",
       "      <td>0.506849</td>\n",
       "    </tr>\n",
       "    <tr>\n",
       "      <th>construction</th>\n",
       "      <td>996</td>\n",
       "      <td>0.467871</td>\n",
       "    </tr>\n",
       "  </tbody>\n",
       "</table>\n",
       "</div>"
      ],
      "text/plain": [
       "                  count  share_of_pos_target\n",
       "road_condition_1                            \n",
       "flooded              32             0.718750\n",
       "loose material      128             0.640625\n",
       "reduced width        71             0.619718\n",
       "other               228             0.557018\n",
       "obstruction         247             0.514170\n",
       "normal            52919             0.507625\n",
       "holes               219             0.506849\n",
       "construction        996             0.467871"
      ]
     },
     "metadata": {},
     "output_type": "display_data"
    },
    {
     "data": {
      "text/html": [
       "<div>\n",
       "<style scoped>\n",
       "    .dataframe tbody tr th:only-of-type {\n",
       "        vertical-align: middle;\n",
       "    }\n",
       "\n",
       "    .dataframe tbody tr th {\n",
       "        vertical-align: top;\n",
       "    }\n",
       "\n",
       "    .dataframe thead th {\n",
       "        text-align: right;\n",
       "    }\n",
       "</style>\n",
       "<table border=\"1\" class=\"dataframe\">\n",
       "  <thead>\n",
       "    <tr style=\"text-align: right;\">\n",
       "      <th></th>\n",
       "      <th>count</th>\n",
       "      <th>share_of_pos_target</th>\n",
       "    </tr>\n",
       "    <tr>\n",
       "      <th>lighting</th>\n",
       "      <th></th>\n",
       "      <th></th>\n",
       "    </tr>\n",
       "  </thead>\n",
       "  <tbody>\n",
       "    <tr>\n",
       "      <th>dark with no street lights</th>\n",
       "      <td>5057</td>\n",
       "      <td>0.629227</td>\n",
       "    </tr>\n",
       "    <tr>\n",
       "      <th>dark with street lights</th>\n",
       "      <td>10798</td>\n",
       "      <td>0.537229</td>\n",
       "    </tr>\n",
       "    <tr>\n",
       "      <th>dark with street lights not functioning</th>\n",
       "      <td>135</td>\n",
       "      <td>0.511111</td>\n",
       "    </tr>\n",
       "    <tr>\n",
       "      <th>dusk or dawn</th>\n",
       "      <td>1761</td>\n",
       "      <td>0.492902</td>\n",
       "    </tr>\n",
       "    <tr>\n",
       "      <th>daylight</th>\n",
       "      <td>37183</td>\n",
       "      <td>0.482936</td>\n",
       "    </tr>\n",
       "  </tbody>\n",
       "</table>\n",
       "</div>"
      ],
      "text/plain": [
       "                                         count  share_of_pos_target\n",
       "lighting                                                           \n",
       "dark with no street lights                5057             0.629227\n",
       "dark with street lights                  10798             0.537229\n",
       "dark with street lights not functioning    135             0.511111\n",
       "dusk or dawn                              1761             0.492902\n",
       "daylight                                 37183             0.482936"
      ]
     },
     "metadata": {},
     "output_type": "display_data"
    },
    {
     "data": {
      "text/html": [
       "<div>\n",
       "<style scoped>\n",
       "    .dataframe tbody tr th:only-of-type {\n",
       "        vertical-align: middle;\n",
       "    }\n",
       "\n",
       "    .dataframe tbody tr th {\n",
       "        vertical-align: top;\n",
       "    }\n",
       "\n",
       "    .dataframe thead th {\n",
       "        text-align: right;\n",
       "    }\n",
       "</style>\n",
       "<table border=\"1\" class=\"dataframe\">\n",
       "  <thead>\n",
       "    <tr style=\"text-align: right;\">\n",
       "      <th></th>\n",
       "      <th>count</th>\n",
       "      <th>share_of_pos_target</th>\n",
       "    </tr>\n",
       "    <tr>\n",
       "      <th>control_device</th>\n",
       "      <th></th>\n",
       "      <th></th>\n",
       "    </tr>\n",
       "  </thead>\n",
       "  <tbody>\n",
       "    <tr>\n",
       "      <th>none</th>\n",
       "      <td>36635</td>\n",
       "      <td>0.537410</td>\n",
       "    </tr>\n",
       "    <tr>\n",
       "      <th>not functioning</th>\n",
       "      <td>116</td>\n",
       "      <td>0.491379</td>\n",
       "    </tr>\n",
       "    <tr>\n",
       "      <th>obscured</th>\n",
       "      <td>29</td>\n",
       "      <td>0.482759</td>\n",
       "    </tr>\n",
       "    <tr>\n",
       "      <th>functioning</th>\n",
       "      <td>18093</td>\n",
       "      <td>0.446471</td>\n",
       "    </tr>\n",
       "  </tbody>\n",
       "</table>\n",
       "</div>"
      ],
      "text/plain": [
       "                 count  share_of_pos_target\n",
       "control_device                             \n",
       "none             36635             0.537410\n",
       "not functioning    116             0.491379\n",
       "obscured            29             0.482759\n",
       "functioning      18093             0.446471"
      ]
     },
     "metadata": {},
     "output_type": "display_data"
    },
    {
     "data": {
      "text/html": [
       "<div>\n",
       "<style scoped>\n",
       "    .dataframe tbody tr th:only-of-type {\n",
       "        vertical-align: middle;\n",
       "    }\n",
       "\n",
       "    .dataframe tbody tr th {\n",
       "        vertical-align: top;\n",
       "    }\n",
       "\n",
       "    .dataframe thead th {\n",
       "        text-align: right;\n",
       "    }\n",
       "</style>\n",
       "<table border=\"1\" class=\"dataframe\">\n",
       "  <thead>\n",
       "    <tr style=\"text-align: right;\">\n",
       "      <th></th>\n",
       "      <th>count</th>\n",
       "      <th>share_of_pos_target</th>\n",
       "    </tr>\n",
       "    <tr>\n",
       "      <th>cellphone_in_use</th>\n",
       "      <th></th>\n",
       "      <th></th>\n",
       "    </tr>\n",
       "  </thead>\n",
       "  <tbody>\n",
       "    <tr>\n",
       "      <th>1.0</th>\n",
       "      <td>1047</td>\n",
       "      <td>0.540592</td>\n",
       "    </tr>\n",
       "    <tr>\n",
       "      <th>0.0</th>\n",
       "      <td>49609</td>\n",
       "      <td>0.503840</td>\n",
       "    </tr>\n",
       "  </tbody>\n",
       "</table>\n",
       "</div>"
      ],
      "text/plain": [
       "                  count  share_of_pos_target\n",
       "cellphone_in_use                            \n",
       "1.0                1047             0.540592\n",
       "0.0               49609             0.503840"
      ]
     },
     "metadata": {},
     "output_type": "display_data"
    },
    {
     "data": {
      "text/html": [
       "<div>\n",
       "<style scoped>\n",
       "    .dataframe tbody tr th:only-of-type {\n",
       "        vertical-align: middle;\n",
       "    }\n",
       "\n",
       "    .dataframe tbody tr th {\n",
       "        vertical-align: top;\n",
       "    }\n",
       "\n",
       "    .dataframe thead th {\n",
       "        text-align: right;\n",
       "    }\n",
       "</style>\n",
       "<table border=\"1\" class=\"dataframe\">\n",
       "  <thead>\n",
       "    <tr style=\"text-align: right;\">\n",
       "      <th></th>\n",
       "      <th>count</th>\n",
       "      <th>share_of_pos_target</th>\n",
       "    </tr>\n",
       "    <tr>\n",
       "      <th>vehicle_transmission</th>\n",
       "      <th></th>\n",
       "      <th></th>\n",
       "    </tr>\n",
       "  </thead>\n",
       "  <tbody>\n",
       "    <tr>\n",
       "      <th>manual</th>\n",
       "      <td>28698</td>\n",
       "      <td>0.551049</td>\n",
       "    </tr>\n",
       "    <tr>\n",
       "      <th>auto</th>\n",
       "      <td>25537</td>\n",
       "      <td>0.458511</td>\n",
       "    </tr>\n",
       "  </tbody>\n",
       "</table>\n",
       "</div>"
      ],
      "text/plain": [
       "                      count  share_of_pos_target\n",
       "vehicle_transmission                            \n",
       "manual                28698             0.551049\n",
       "auto                  25537             0.458511"
      ]
     },
     "metadata": {},
     "output_type": "display_data"
    },
    {
     "data": {
      "text/html": [
       "<div>\n",
       "<style scoped>\n",
       "    .dataframe tbody tr th:only-of-type {\n",
       "        vertical-align: middle;\n",
       "    }\n",
       "\n",
       "    .dataframe tbody tr th {\n",
       "        vertical-align: top;\n",
       "    }\n",
       "\n",
       "    .dataframe thead th {\n",
       "        text-align: right;\n",
       "    }\n",
       "</style>\n",
       "<table border=\"1\" class=\"dataframe\">\n",
       "  <thead>\n",
       "    <tr style=\"text-align: right;\">\n",
       "      <th></th>\n",
       "      <th>count</th>\n",
       "      <th>share_of_pos_target</th>\n",
       "    </tr>\n",
       "    <tr>\n",
       "      <th>time_period</th>\n",
       "      <th></th>\n",
       "      <th></th>\n",
       "    </tr>\n",
       "  </thead>\n",
       "  <tbody>\n",
       "    <tr>\n",
       "      <th>night</th>\n",
       "      <td>5271</td>\n",
       "      <td>0.706507</td>\n",
       "    </tr>\n",
       "    <tr>\n",
       "      <th>evening</th>\n",
       "      <td>13024</td>\n",
       "      <td>0.501152</td>\n",
       "    </tr>\n",
       "    <tr>\n",
       "      <th>morning</th>\n",
       "      <td>13140</td>\n",
       "      <td>0.496347</td>\n",
       "    </tr>\n",
       "    <tr>\n",
       "      <th>afternoon</th>\n",
       "      <td>23653</td>\n",
       "      <td>0.472202</td>\n",
       "    </tr>\n",
       "  </tbody>\n",
       "</table>\n",
       "</div>"
      ],
      "text/plain": [
       "             count  share_of_pos_target\n",
       "time_period                            \n",
       "night         5271             0.706507\n",
       "evening      13024             0.501152\n",
       "morning      13140             0.496347\n",
       "afternoon    23653             0.472202"
      ]
     },
     "metadata": {},
     "output_type": "display_data"
    },
    {
     "data": {
      "text/html": [
       "<div>\n",
       "<style scoped>\n",
       "    .dataframe tbody tr th:only-of-type {\n",
       "        vertical-align: middle;\n",
       "    }\n",
       "\n",
       "    .dataframe tbody tr th {\n",
       "        vertical-align: top;\n",
       "    }\n",
       "\n",
       "    .dataframe thead th {\n",
       "        text-align: right;\n",
       "    }\n",
       "</style>\n",
       "<table border=\"1\" class=\"dataframe\">\n",
       "  <thead>\n",
       "    <tr style=\"text-align: right;\">\n",
       "      <th></th>\n",
       "      <th>count</th>\n",
       "      <th>share_of_pos_target</th>\n",
       "    </tr>\n",
       "    <tr>\n",
       "      <th>collision_month</th>\n",
       "      <th></th>\n",
       "      <th></th>\n",
       "    </tr>\n",
       "  </thead>\n",
       "  <tbody>\n",
       "    <tr>\n",
       "      <th>10</th>\n",
       "      <td>262</td>\n",
       "      <td>0.603053</td>\n",
       "    </tr>\n",
       "    <tr>\n",
       "      <th>12</th>\n",
       "      <td>191</td>\n",
       "      <td>0.602094</td>\n",
       "    </tr>\n",
       "    <tr>\n",
       "      <th>7</th>\n",
       "      <td>326</td>\n",
       "      <td>0.579755</td>\n",
       "    </tr>\n",
       "    <tr>\n",
       "      <th>8</th>\n",
       "      <td>373</td>\n",
       "      <td>0.568365</td>\n",
       "    </tr>\n",
       "    <tr>\n",
       "      <th>11</th>\n",
       "      <td>264</td>\n",
       "      <td>0.560606</td>\n",
       "    </tr>\n",
       "    <tr>\n",
       "      <th>9</th>\n",
       "      <td>342</td>\n",
       "      <td>0.535088</td>\n",
       "    </tr>\n",
       "    <tr>\n",
       "      <th>6</th>\n",
       "      <td>1303</td>\n",
       "      <td>0.524942</td>\n",
       "    </tr>\n",
       "    <tr>\n",
       "      <th>4</th>\n",
       "      <td>10612</td>\n",
       "      <td>0.510837</td>\n",
       "    </tr>\n",
       "    <tr>\n",
       "      <th>2</th>\n",
       "      <td>10119</td>\n",
       "      <td>0.505287</td>\n",
       "    </tr>\n",
       "    <tr>\n",
       "      <th>3</th>\n",
       "      <td>11251</td>\n",
       "      <td>0.504400</td>\n",
       "    </tr>\n",
       "    <tr>\n",
       "      <th>1</th>\n",
       "      <td>10577</td>\n",
       "      <td>0.501560</td>\n",
       "    </tr>\n",
       "    <tr>\n",
       "      <th>5</th>\n",
       "      <td>9468</td>\n",
       "      <td>0.500528</td>\n",
       "    </tr>\n",
       "  </tbody>\n",
       "</table>\n",
       "</div>"
      ],
      "text/plain": [
       "                 count  share_of_pos_target\n",
       "collision_month                            \n",
       "10                 262             0.603053\n",
       "12                 191             0.602094\n",
       "7                  326             0.579755\n",
       "8                  373             0.568365\n",
       "11                 264             0.560606\n",
       "9                  342             0.535088\n",
       "6                 1303             0.524942\n",
       "4                10612             0.510837\n",
       "2                10119             0.505287\n",
       "3                11251             0.504400\n",
       "1                10577             0.501560\n",
       "5                 9468             0.500528"
      ]
     },
     "metadata": {},
     "output_type": "display_data"
    },
    {
     "data": {
      "text/html": [
       "<div>\n",
       "<style scoped>\n",
       "    .dataframe tbody tr th:only-of-type {\n",
       "        vertical-align: middle;\n",
       "    }\n",
       "\n",
       "    .dataframe tbody tr th {\n",
       "        vertical-align: top;\n",
       "    }\n",
       "\n",
       "    .dataframe thead th {\n",
       "        text-align: right;\n",
       "    }\n",
       "</style>\n",
       "<table border=\"1\" class=\"dataframe\">\n",
       "  <thead>\n",
       "    <tr style=\"text-align: right;\">\n",
       "      <th></th>\n",
       "      <th>count</th>\n",
       "      <th>share_of_pos_target</th>\n",
       "    </tr>\n",
       "    <tr>\n",
       "      <th>collision_isodow</th>\n",
       "      <th></th>\n",
       "      <th></th>\n",
       "    </tr>\n",
       "  </thead>\n",
       "  <tbody>\n",
       "    <tr>\n",
       "      <th>7</th>\n",
       "      <td>7918</td>\n",
       "      <td>0.534100</td>\n",
       "    </tr>\n",
       "    <tr>\n",
       "      <th>6</th>\n",
       "      <td>9125</td>\n",
       "      <td>0.522740</td>\n",
       "    </tr>\n",
       "    <tr>\n",
       "      <th>1</th>\n",
       "      <td>6960</td>\n",
       "      <td>0.511063</td>\n",
       "    </tr>\n",
       "    <tr>\n",
       "      <th>3</th>\n",
       "      <td>7402</td>\n",
       "      <td>0.506485</td>\n",
       "    </tr>\n",
       "    <tr>\n",
       "      <th>4</th>\n",
       "      <td>7553</td>\n",
       "      <td>0.494373</td>\n",
       "    </tr>\n",
       "    <tr>\n",
       "      <th>5</th>\n",
       "      <td>9071</td>\n",
       "      <td>0.491015</td>\n",
       "    </tr>\n",
       "    <tr>\n",
       "      <th>2</th>\n",
       "      <td>7059</td>\n",
       "      <td>0.488596</td>\n",
       "    </tr>\n",
       "  </tbody>\n",
       "</table>\n",
       "</div>"
      ],
      "text/plain": [
       "                  count  share_of_pos_target\n",
       "collision_isodow                            \n",
       "7                  7918             0.534100\n",
       "6                  9125             0.522740\n",
       "1                  6960             0.511063\n",
       "3                  7402             0.506485\n",
       "4                  7553             0.494373\n",
       "5                  9071             0.491015\n",
       "2                  7059             0.488596"
      ]
     },
     "metadata": {},
     "output_type": "display_data"
    },
    {
     "data": {
      "text/html": [
       "<div>\n",
       "<style scoped>\n",
       "    .dataframe tbody tr th:only-of-type {\n",
       "        vertical-align: middle;\n",
       "    }\n",
       "\n",
       "    .dataframe tbody tr th {\n",
       "        vertical-align: top;\n",
       "    }\n",
       "\n",
       "    .dataframe thead th {\n",
       "        text-align: right;\n",
       "    }\n",
       "</style>\n",
       "<table border=\"1\" class=\"dataframe\">\n",
       "  <thead>\n",
       "    <tr style=\"text-align: right;\">\n",
       "      <th></th>\n",
       "      <th>count</th>\n",
       "      <th>share_of_pos_target</th>\n",
       "    </tr>\n",
       "    <tr>\n",
       "      <th>age</th>\n",
       "      <th></th>\n",
       "      <th></th>\n",
       "    </tr>\n",
       "  </thead>\n",
       "  <tbody>\n",
       "    <tr>\n",
       "      <th>age &lt;= 3</th>\n",
       "      <td>22117</td>\n",
       "      <td>0.559705</td>\n",
       "    </tr>\n",
       "    <tr>\n",
       "      <th>age &gt; 10</th>\n",
       "      <td>3128</td>\n",
       "      <td>0.505115</td>\n",
       "    </tr>\n",
       "    <tr>\n",
       "      <th>3 &lt; age &lt;= 5</th>\n",
       "      <td>12395</td>\n",
       "      <td>0.503590</td>\n",
       "    </tr>\n",
       "    <tr>\n",
       "      <th>unknown</th>\n",
       "      <td>1677</td>\n",
       "      <td>0.493143</td>\n",
       "    </tr>\n",
       "    <tr>\n",
       "      <th>5 &lt; age &lt;= 10</th>\n",
       "      <td>15771</td>\n",
       "      <td>0.438400</td>\n",
       "    </tr>\n",
       "  </tbody>\n",
       "</table>\n",
       "</div>"
      ],
      "text/plain": [
       "               count  share_of_pos_target\n",
       "age                                      \n",
       "age <= 3       22117             0.559705\n",
       "age > 10        3128             0.505115\n",
       "3 < age <= 5   12395             0.503590\n",
       "unknown         1677             0.493143\n",
       "5 < age <= 10  15771             0.438400"
      ]
     },
     "metadata": {},
     "output_type": "display_data"
    }
   ],
   "source": [
    "for col in ['road_surface', 'road_condition_1',  'lighting', 'control_device', 'cellphone_in_use',\n",
    "            #'vehicle_type', \n",
    "            'vehicle_transmission', 'time_period', 'collision_month',\n",
    "            'collision_isodow', 'age']:\n",
    "    _ = analyze_categorical_data(data, col, 'at_fault') "
   ]
  },
  {
   "cell_type": "markdown",
   "id": "5a77ce59",
   "metadata": {},
   "source": [
    "Для всех выделенных нами признаков видим, что доля положительных значений таргета отличается в зависимости от категории. \n",
    "\n",
    "Наблюдаем наибольшую долю положительных значений целевого признака (виновности участника ДТП) в следующих случаях:\n",
    "- снег и мокрое дорожное покрытие\n",
    "- затопленные дороги и дороги с сыпучим материалом\n",
    "- темное время суток, особенно без уличных фонарей\n",
    "- отсутствие устройств управления (например, светофоров)\n",
    "- ночное время\n",
    "- автомобили с механической коробкой передач \n",
    "- наличие телефона в авто\n",
    "- машины с кузовом 'coupe'\n",
    "- машины возраста до 3 лет"
   ]
  },
  {
   "cell_type": "code",
   "execution_count": 40,
   "id": "fbf13f97",
   "metadata": {},
   "outputs": [
    {
     "name": "stdout",
     "output_type": "stream",
     "text": [
      "count    53411.000000\n",
      "mean         4.871169\n",
      "std          3.249981\n",
      "min          0.000000\n",
      "25%          3.000000\n",
      "50%          4.000000\n",
      "75%          7.000000\n",
      "max        161.000000\n",
      "Name: vehicle_age, dtype: float64\n"
     ]
    },
    {
     "data": {
      "image/png": "[encoded data removed]",
      "text/plain": [
       "<Figure size 1224x720 with 2 Axes>"
      ]
     },
     "metadata": {
      "needs_background": "light"
     },
     "output_type": "display_data"
    }
   ],
   "source": [
    "analyze_numerical_data(data, 'vehicle_age', 'Возраст автомобиля')"
   ]
  },
  {
   "cell_type": "markdown",
   "id": "3581dacb",
   "metadata": {},
   "source": [
    "Возраст машин находится в диапазоне от 0 до 161 (явно аномалия в данных). Медианное значение - 4, среднее - 4.87. Межквартильный размах - от 3 до 7. Стандартное отклонение - 3,2.\n",
    "В данных присутствует небольшое количество выбросов, размер датасета позволяет нам удалить их. Оставим данные только об автомобилях до 15 лет."
   ]
  },
  {
   "cell_type": "code",
   "execution_count": 41,
   "id": "1b42ae0f",
   "metadata": {},
   "outputs": [
    {
     "data": {
      "text/plain": [
       "0.9487092874413312"
      ]
     },
     "execution_count": 41,
     "metadata": {},
     "output_type": "execute_result"
    }
   ],
   "source": [
    "data = data[data['vehicle_age'] < 15]\n",
    "data.shape[0] / temp.shape[0]"
   ]
  },
  {
   "cell_type": "markdown",
   "id": "7d420e23",
   "metadata": {},
   "source": [
    "Проблем в значениях категориальных признаков не обнаружено. Т.к. изменения не вносили, повторная проверка на дубликаты не требуется. Потеря данных на этапе предобработки составила 4,6%. \n",
    "\n",
    "Т.к. нами была создана специальная категория для учета возраста авто, этот признак мы можем не использовать."
   ]
  },
  {
   "cell_type": "markdown",
   "id": "79bb140c",
   "metadata": {},
   "source": [
    "### Корреляционный анализ"
   ]
  },
  {
   "cell_type": "code",
   "execution_count": 42,
   "id": "4670d81f",
   "metadata": {},
   "outputs": [
    {
     "data": {
      "image/png": "[encoded data removed]",
      "text/plain": [
       "<Figure size 864x576 with 2 Axes>"
      ]
     },
     "metadata": {
      "needs_background": "light"
     },
     "output_type": "display_data"
    }
   ],
   "source": [
    "corr_matrix  = phik_matrix(data, interval_cols=['vehicle_age'])\n",
    "\n",
    "plt.figure(figsize=(12, 8))\n",
    "plt.title('Корреляционная матрица признаков', fontsize=TITLE_SIZE)\n",
    "sns.heatmap(corr_matrix, annot=True, cmap='cividis');"
   ]
  },
  {
   "cell_type": "markdown",
   "id": "e1a47b92",
   "metadata": {},
   "source": [
    "Выявлена слабая взаимосвязь таргета с признаками county_city_location, county_location, intersection, road_surface, control_device, time_period, vehicle_transmission, vehicle_age, age.\n",
    "\n",
    "Корреляционный анализ подтверждает наши решение: признаки `county_city_location` и `vehicle_age` использовать не будем. "
   ]
  },
  {
   "cell_type": "markdown",
   "id": "bda16dbc",
   "metadata": {},
   "source": [
    "### Подготовка данных"
   ]
  },
  {
   "cell_type": "code",
   "execution_count": 43,
   "id": "0b8638cc",
   "metadata": {},
   "outputs": [
    {
     "data": {
      "text/plain": [
       "Index(['county_location', 'intersection', 'weather_1', 'location_type',\n",
       "       'road_surface', 'road_condition_1', 'lighting', 'control_device',\n",
       "       'collision_month', 'collision_isodow', 'time_period', 'at_fault',\n",
       "       'cellphone_in_use', 'vehicle_transmission', 'age'],\n",
       "      dtype='object')"
      ]
     },
     "execution_count": 43,
     "metadata": {},
     "output_type": "execute_result"
    }
   ],
   "source": [
    "data = data.drop(['county_city_location', 'vehicle_age'], axis=1)\n",
    "data.columns"
   ]
  },
  {
   "cell_type": "code",
   "execution_count": 44,
   "id": "51c98347",
   "metadata": {},
   "outputs": [
    {
     "data": {
      "text/plain": [
       "6658"
      ]
     },
     "execution_count": 44,
     "metadata": {},
     "output_type": "execute_result"
    }
   ],
   "source": [
    "data.duplicated().sum()"
   ]
  },
  {
   "cell_type": "code",
   "execution_count": 45,
   "id": "32ce74ae",
   "metadata": {},
   "outputs": [
    {
     "data": {
      "text/plain": [
       "(46705, 15)"
      ]
     },
     "execution_count": 45,
     "metadata": {},
     "output_type": "execute_result"
    }
   ],
   "source": [
    "data = data.drop_duplicates()\n",
    "data.shape"
   ]
  },
  {
   "cell_type": "markdown",
   "id": "76b21672",
   "metadata": {},
   "source": [
    "Используя предоставленные данные, в качестве целевого признака используется виновность/невиновность участника ДТП. Данные о поездках, прошедших без аварий, отсутствуют. Т.е. наша модель будет показывать вероятность стать виновником ДТП.\n",
    "\n",
    "Перед нами стоит задача бинарной классификации, обучение с учителем, дисбаланса классов в целевой переменной нет. Все входные признаки - категориальные. Заполним пропуски."
   ]
  },
  {
   "cell_type": "code",
   "execution_count": 46,
   "id": "dd98830d",
   "metadata": {},
   "outputs": [
    {
     "data": {
      "text/plain": [
       "county_location             0\n",
       "intersection              165\n",
       "weather_1                 163\n",
       "location_type           25457\n",
       "road_surface              322\n",
       "road_condition_1          236\n",
       "lighting                  152\n",
       "control_device            206\n",
       "collision_month             0\n",
       "collision_isodow            0\n",
       "time_period                 0\n",
       "at_fault                    0\n",
       "cellphone_in_use         4022\n",
       "vehicle_transmission      569\n",
       "age                         0\n",
       "dtype: int64"
      ]
     },
     "execution_count": 46,
     "metadata": {},
     "output_type": "execute_result"
    }
   ],
   "source": [
    "data.isna().sum()"
   ]
  },
  {
   "cell_type": "code",
   "execution_count": 47,
   "id": "7e43357a",
   "metadata": {},
   "outputs": [
    {
     "name": "stdout",
     "output_type": "stream",
     "text": [
      "<class 'pandas.core.frame.DataFrame'>\n",
      "Int64Index: 46705 entries, 0 to 55086\n",
      "Data columns (total 15 columns):\n",
      " #   Column                Non-Null Count  Dtype  \n",
      "---  ------                --------------  -----  \n",
      " 0   county_location       46705 non-null  object \n",
      " 1   intersection          46705 non-null  float64\n",
      " 2   weather_1             46705 non-null  object \n",
      " 3   location_type         46705 non-null  object \n",
      " 4   road_surface          46705 non-null  object \n",
      " 5   road_condition_1      46705 non-null  object \n",
      " 6   lighting              46705 non-null  object \n",
      " 7   control_device        46705 non-null  object \n",
      " 8   collision_month       46705 non-null  int64  \n",
      " 9   collision_isodow      46705 non-null  int64  \n",
      " 10  time_period           46705 non-null  object \n",
      " 11  at_fault              46705 non-null  int64  \n",
      " 12  cellphone_in_use      46705 non-null  float64\n",
      " 13  vehicle_transmission  46705 non-null  object \n",
      " 14  age                   46705 non-null  object \n",
      "dtypes: float64(2), int64(3), object(10)\n",
      "memory usage: 5.7+ MB\n"
     ]
    }
   ],
   "source": [
    "data['intersection'] = data['intersection'].fillna(0)\n",
    "data['cellphone_in_use'] = data['cellphone_in_use'].fillna(0)\n",
    "\n",
    "for column in ['weather_1', 'location_type', 'road_surface', \n",
    "               'road_condition_1', 'lighting', 'control_device', 'vehicle_transmission']:\n",
    "    data[column] = data[column].fillna('unknown')\n",
    "\n",
    "data.info()"
   ]
  },
  {
   "cell_type": "code",
   "execution_count": 48,
   "id": "52531767",
   "metadata": {},
   "outputs": [
    {
     "name": "stdout",
     "output_type": "stream",
     "text": [
      "<class 'pandas.core.frame.DataFrame'>\n",
      "Int64Index: 46705 entries, 0 to 55086\n",
      "Data columns (total 15 columns):\n",
      " #   Column                Non-Null Count  Dtype \n",
      "---  ------                --------------  ----- \n",
      " 0   county_location       46705 non-null  object\n",
      " 1   intersection          46705 non-null  bool  \n",
      " 2   weather_1             46705 non-null  object\n",
      " 3   location_type         46705 non-null  object\n",
      " 4   road_surface          46705 non-null  object\n",
      " 5   road_condition_1      46705 non-null  object\n",
      " 6   lighting              46705 non-null  object\n",
      " 7   control_device        46705 non-null  object\n",
      " 8   collision_month       46705 non-null  object\n",
      " 9   collision_isodow      46705 non-null  object\n",
      " 10  time_period           46705 non-null  object\n",
      " 11  at_fault              46705 non-null  int64 \n",
      " 12  cellphone_in_use      46705 non-null  bool  \n",
      " 13  vehicle_transmission  46705 non-null  object\n",
      " 14  age                   46705 non-null  object\n",
      "dtypes: bool(2), int64(1), object(12)\n",
      "memory usage: 5.1+ MB\n"
     ]
    }
   ],
   "source": [
    "# Преобразуем типы некоторых столбцов\n",
    "data['collision_month'] = data['collision_month'].astype(str)\n",
    "data['collision_isodow'] = data['collision_isodow'].astype(str)\n",
    "data['cellphone_in_use'] = data['cellphone_in_use'].astype(bool)\n",
    "data['intersection'] = data['intersection'].astype(bool)\n",
    "data.info()"
   ]
  },
  {
   "cell_type": "markdown",
   "id": "dcae98f6",
   "metadata": {},
   "source": [
    "Подготовим тренировочную и тестовые выборки для дальнейшего моделирования."
   ]
  },
  {
   "cell_type": "code",
   "execution_count": 49,
   "id": "cde9e063",
   "metadata": {},
   "outputs": [
    {
     "data": {
      "text/plain": [
       "((35028, 14), (11677, 14))"
      ]
     },
     "execution_count": 49,
     "metadata": {},
     "output_type": "execute_result"
    }
   ],
   "source": [
    "cat_cols = data.select_dtypes(exclude='number').columns.tolist()\n",
    "target = 'at_fault'\n",
    "# выделяем признаки и целевую переменную\n",
    "X = data.drop(columns=[target])\n",
    "y = data[target]\n",
    "\n",
    "X_train, X_test, y_train, y_test = train_test_split(\n",
    "    X,\n",
    "    y, \n",
    "    test_size = TEST_SIZE, \n",
    "    random_state = RANDOM_STATE)\n",
    "\n",
    "X_train.shape, X_test.shape"
   ]
  },
  {
   "cell_type": "markdown",
   "id": "e848d8da",
   "metadata": {},
   "source": [
    "__Промежуточный вывод__:\n",
    "- подготовили набор данных в соответствии с требованиями заказчика;\n",
    "- провели первичный набор факторов, необходимых для модели;\n",
    "- предобработали данные, удалили дубликаты;\n",
    "- провели исследовательский и корреляционный анализ данных;\n",
    "- подготовили тренировочную и тестовые выборки."
   ]
  },
  {
   "cell_type": "markdown",
   "id": "460ca9cf",
   "metadata": {},
   "source": [
    "## Подготовка моделей"
   ]
  },
  {
   "cell_type": "markdown",
   "id": "ada761c7",
   "metadata": {},
   "source": [
    "Построим несколько моделей:\n",
    "- CatBoostClassifier\n",
    "- LightGBM\n",
    "- RandomForestClassifier\n",
    "- LogisticRegression\n",
    "- DummyClassifier (для сравнения)\n",
    "\n",
    "_Выбор метрики:_\n",
    "Модель будет использоваться в работе рекомендательной системы. Для нас важно минимизировать ошибки, которые могут привести к опасным ситуациям (FN). Вместе в этим, большое количество FP предсказаний может привести к недовольству при использовании системы, в итоге \"постоянные навязчивые рекомендации\" будут игнорироваться. В качестве метрики будем использовать F1-score. Дополнительно учтем ROC-AUC для общей оценки качества модели.\n",
    "\n",
    "Работать с каждой моделью будем отдельно, т.к. используется разный подход к работе с категориальными данными."
   ]
  },
  {
   "cell_type": "code",
   "execution_count": 50,
   "id": "76fa3367",
   "metadata": {},
   "outputs": [],
   "source": [
    "def search_best_estimator(model, param, X_train, y_train):\n",
    "    \"\"\"\n",
    "    Функция ищет лучшую модель с помощью RandomizedSearchCV.\n",
    "    Выводит на экран время поиска, лучшие параметры\n",
    "    и F1-score на кросс-валидации.\n",
    "\n",
    "    model - модель/пайплайн\n",
    "    param - словарь с гиперпараметрами\n",
    "    X_train - обучающая выборка\n",
    "    y_train - целевая переменная\n",
    "\n",
    "    Args:\n",
    "        model (object): модель/пайплайн\n",
    "        param (dict): словарь с гиперпараметрами\n",
    "        X_train (pd.DataFrame): обучающая выборка\n",
    "        y_train (pd.Series): целевая переменная\n",
    "\n",
    "    Returns:\n",
    "        object: rand_search - объект RandomizedSearchCV\n",
    "    \"\"\"\n",
    "\n",
    "    start_time = time.time()\n",
    "\n",
    "    rnd_search = RandomizedSearchCV(\n",
    "        model,\n",
    "        param,\n",
    "        scoring=['f1', 'roc_auc'],\n",
    "        refit='f1',\n",
    "        random_state=RANDOM_STATE,\n",
    "        cv=5, #\n",
    "        n_jobs=-1)\n",
    "\n",
    "    rnd_search.fit(X_train, y_train)\n",
    "    search_time = time.time() - start_time\n",
    "    results = rnd_search.cv_results_\n",
    "    # индекс лучшей модели по F1\n",
    "    best_index = results['rank_test_f1'].argmin() \n",
    "    f1 = results[\"mean_test_f1\"][best_index]\n",
    "    roc_auc = results[\"mean_test_roc_auc\"][best_index]\n",
    "    print(f'Время поиска: {search_time} cекунд')\n",
    "    print(f'Лучшие параметры: {rnd_search.best_params_}')\n",
    "    print(f'F1-score на кросс-валидации: {f1}')\n",
    "    print(f'ROC AUC на кросс-валидации: {roc_auc}')\n",
    "    return rnd_search, f1, roc_auc "
   ]
  },
  {
   "cell_type": "markdown",
   "id": "1558d4b9",
   "metadata": {},
   "source": [
    "### CatBoostClassifier"
   ]
  },
  {
   "cell_type": "markdown",
   "id": "b83641d7",
   "metadata": {},
   "source": [
    "Предварительное кодирование категориальных данных не требуется, воспользуемся встроенными возможностями."
   ]
  },
  {
   "cell_type": "code",
   "execution_count": 51,
   "id": "3e3a9092",
   "metadata": {},
   "outputs": [
    {
     "name": "stdout",
     "output_type": "stream",
     "text": [
      "Время поиска: 1307.7130391597748 cекунд\n",
      "Лучшие параметры: {'learning_rate': 0.01, 'l2_leaf_reg': 1, 'iterations': 200, 'depth': 4}\n",
      "F1-score на кросс-валидации: 0.6095297498321728\n",
      "ROC AUC на кросс-валидации: 0.6174356283777632\n"
     ]
    }
   ],
   "source": [
    "model_catboost = CatBoostClassifier(cat_features=cat_cols, random_seed=12345, verbose=0)\n",
    "\n",
    "param_catboost = {\n",
    "    'learning_rate': [0.03, 0.01, 0.1],\n",
    "    'iterations': [200, 400, 600],  \n",
    "    'depth': [4, 6, 8],\n",
    "    'l2_leaf_reg': [0, 1, 3, 5]\n",
    "}\n",
    "\n",
    "catboost_model, f1_catboost, roc_auc_catboost = search_best_estimator(\n",
    "    model_catboost, param_catboost, X_train, y_train)"
   ]
  },
  {
   "cell_type": "markdown",
   "id": "6307bfe6",
   "metadata": {},
   "source": [
    "### LGBMClassifier"
   ]
  },
  {
   "cell_type": "code",
   "execution_count": 52,
   "id": "9a075d8b",
   "metadata": {},
   "outputs": [],
   "source": [
    "X_train_lgbm = X_train.copy()\n",
    "X_test_lgbm = X_test.copy()\n",
    "\n",
    "for c in cat_cols:\n",
    "    X_train_lgbm[c] = X_train_lgbm[c].astype('category')\n",
    "    X_test_lgbm[c] = X_test_lgbm[c].astype('category')"
   ]
  },
  {
   "cell_type": "code",
   "execution_count": 53,
   "id": "59df404e",
   "metadata": {},
   "outputs": [
    {
     "name": "stdout",
     "output_type": "stream",
     "text": [
      "Время поиска: 383.07154178619385 cекунд\n",
      "Лучшие параметры: {'num_leaves': 16, 'n_estimators': 200, 'min_child_samples': 10, 'max_depth': 6, 'learning_rate': 0.01}\n",
      "F1-score на кросс-валидации: 0.6008897471601637\n",
      "ROC AUC на кросс-валидации: 0.6174057395642808\n"
     ]
    }
   ],
   "source": [
    "model_lgbm = LGBMClassifier(random_state=RANDOM_STATE)\n",
    "param_lgbm = {\n",
    "    'num_leaves': [16, 32, 64],\n",
    "    'n_estimators': [200, 300, 500],\n",
    "    'max_depth': [6, 8, 10],\n",
    "    'min_child_samples': [5, 10, 20],\n",
    "    'learning_rate': [0.01, 0.03, 0.1]\n",
    "}\n",
    "\n",
    "lgbm_model, f1_lgbm, roc_auc_lgbm = search_best_estimator(\n",
    "    model_lgbm, param_lgbm, X_train_lgbm, y_train)"
   ]
  },
  {
   "cell_type": "markdown",
   "id": "158bb566",
   "metadata": {},
   "source": [
    "### RandomForestClassifier"
   ]
  },
  {
   "cell_type": "code",
   "execution_count": 54,
   "id": "a26c5a8b",
   "metadata": {},
   "outputs": [
    {
     "name": "stdout",
     "output_type": "stream",
     "text": [
      "Время поиска: 250.96917033195496 cекунд\n",
      "Лучшие параметры: {'models__n_estimators': 300, 'models__min_samples_split': 2, 'models__min_samples_leaf': 4, 'models__max_depth': 5}\n",
      "F1-score на кросс-валидации: 0.6177415595565031\n",
      "ROC AUC на кросс-валидации: 0.6142736547160907\n"
     ]
    }
   ],
   "source": [
    "# общий пайплайн для подготовки данных\n",
    "data_preprocessor = ColumnTransformer(\n",
    "    [\n",
    "        ('cat', OrdinalEncoder(handle_unknown='use_encoded_value', unknown_value=-1),cat_cols)\n",
    "    ],\n",
    "    remainder = 'passthrough'\n",
    ")\n",
    "\n",
    "# итоговый пайплайн: подготовка данных и модель\n",
    "pipe_tree = Pipeline(\n",
    "    [\n",
    "        ('preprocessor', data_preprocessor),\n",
    "        ('models', RandomForestClassifier(random_state=RANDOM_STATE))\n",
    "    ]\n",
    ")\n",
    "param_rfc = {\n",
    "    'models__min_samples_leaf': [4, 7, 9],\n",
    "    'models__min_samples_split': [2, 3, 5],\n",
    "    'models__n_estimators': [300, 500, 700],\n",
    "    'models__max_depth': [5, 7, 10]}\n",
    "\n",
    "tree_model, f1_tree, roc_auc_tree = search_best_estimator(pipe_tree, param_rfc, X_train, y_train)"
   ]
  },
  {
   "cell_type": "markdown",
   "id": "64d14bef",
   "metadata": {},
   "source": [
    "### LogisticRegression"
   ]
  },
  {
   "cell_type": "code",
   "execution_count": 55,
   "id": "2c598e29",
   "metadata": {},
   "outputs": [
    {
     "name": "stdout",
     "output_type": "stream",
     "text": [
      "Время поиска: 107.92183494567871 cекунд\n",
      "Лучшие параметры: {'models__penalty': 'l2', 'models__C': 0.01}\n",
      "F1-score на кросс-валидации: 0.6111451355455754\n",
      "ROC AUC на кросс-валидации: 0.6170797348000298\n"
     ]
    }
   ],
   "source": [
    "# общий пайплайн для подготовки данных\n",
    "data_preprocessor = ColumnTransformer(\n",
    "    [\n",
    "        ('cat', OneHotEncoder(drop='first', sparse=False,\n",
    "                              handle_unknown='ignore'), cat_cols)\n",
    "    ],\n",
    "    remainder = 'passthrough'\n",
    ")\n",
    "\n",
    "# итоговый пайплайн: подготовка данных и модель\n",
    "pipe_final = Pipeline(\n",
    "    [\n",
    "        ('preprocessor', data_preprocessor),\n",
    "        ('models', LogisticRegression(random_state=RANDOM_STATE))\n",
    "    ]\n",
    ")\n",
    "\n",
    "param_lr= {\n",
    "        'models__C': [0.01, 0.1, 1, 10],\n",
    "        'models__penalty': ['l2']\n",
    "    }\n",
    "\n",
    "rand_search_lr, f1_lr, roc_auc_lr = search_best_estimator(pipe_final, param_lr, X_train, y_train)"
   ]
  },
  {
   "cell_type": "markdown",
   "id": "329446a0",
   "metadata": {},
   "source": [
    "### DummyClassifier"
   ]
  },
  {
   "cell_type": "code",
   "execution_count": 56,
   "id": "ac52ba9f",
   "metadata": {},
   "outputs": [
    {
     "name": "stdout",
     "output_type": "stream",
     "text": [
      "Время поиска: 0.2658078670501709 cекунд\n",
      "Лучшие параметры: {}\n",
      "F1-score на кросс-валидации: 0.5117428120033269\n",
      "ROC AUC на кросс-валидации: 0.5\n"
     ]
    }
   ],
   "source": [
    "model_dummy =  DummyClassifier(strategy='uniform', random_state=RANDOM_STATE)\n",
    "dummy_model, f1_dummy, roc_auc_dummy = search_best_estimator(model_dummy, {}, X_train, y_train)"
   ]
  },
  {
   "cell_type": "markdown",
   "id": "1926cde6",
   "metadata": {},
   "source": [
    "### Анализ моделей"
   ]
  },
  {
   "cell_type": "code",
   "execution_count": 57,
   "id": "f2204a12",
   "metadata": {},
   "outputs": [
    {
     "data": {
      "text/html": [
       "<div>\n",
       "<style scoped>\n",
       "    .dataframe tbody tr th:only-of-type {\n",
       "        vertical-align: middle;\n",
       "    }\n",
       "\n",
       "    .dataframe tbody tr th {\n",
       "        vertical-align: top;\n",
       "    }\n",
       "\n",
       "    .dataframe thead th {\n",
       "        text-align: right;\n",
       "    }\n",
       "</style>\n",
       "<table border=\"1\" class=\"dataframe\">\n",
       "  <thead>\n",
       "    <tr style=\"text-align: right;\">\n",
       "      <th></th>\n",
       "      <th>F1</th>\n",
       "      <th>ROC-AUC</th>\n",
       "    </tr>\n",
       "    <tr>\n",
       "      <th>Model</th>\n",
       "      <th></th>\n",
       "      <th></th>\n",
       "    </tr>\n",
       "  </thead>\n",
       "  <tbody>\n",
       "    <tr>\n",
       "      <th>CatBoostClassifier</th>\n",
       "      <td>0.609530</td>\n",
       "      <td>0.617436</td>\n",
       "    </tr>\n",
       "    <tr>\n",
       "      <th>LightGBMClassifier</th>\n",
       "      <td>0.600890</td>\n",
       "      <td>0.617406</td>\n",
       "    </tr>\n",
       "    <tr>\n",
       "      <th>RandomForestClassifier</th>\n",
       "      <td>0.617742</td>\n",
       "      <td>0.614274</td>\n",
       "    </tr>\n",
       "    <tr>\n",
       "      <th>LogisticRegression</th>\n",
       "      <td>0.611145</td>\n",
       "      <td>0.617080</td>\n",
       "    </tr>\n",
       "    <tr>\n",
       "      <th>DummyClassifier</th>\n",
       "      <td>0.511743</td>\n",
       "      <td>0.500000</td>\n",
       "    </tr>\n",
       "  </tbody>\n",
       "</table>\n",
       "</div>"
      ],
      "text/plain": [
       "                              F1   ROC-AUC\n",
       "Model                                     \n",
       "CatBoostClassifier      0.609530  0.617436\n",
       "LightGBMClassifier      0.600890  0.617406\n",
       "RandomForestClassifier  0.617742  0.614274\n",
       "LogisticRegression      0.611145  0.617080\n",
       "DummyClassifier         0.511743  0.500000"
      ]
     },
     "execution_count": 57,
     "metadata": {},
     "output_type": "execute_result"
    }
   ],
   "source": [
    "data = {\n",
    "    'Model': ['CatBoostClassifier', 'LightGBMClassifier',\n",
    "               'RandomForestClassifier', 'LogisticRegression', 'DummyClassifier'],\n",
    "    'F1': [f1_catboost, f1_lgbm, f1_tree, f1_lr, f1_dummy ],\n",
    "    'ROC-AUC': [roc_auc_catboost, roc_auc_lgbm, roc_auc_tree, roc_auc_lr, roc_auc_dummy]\n",
    "}\n",
    " \n",
    "df = pd.DataFrame(data)\n",
    "df.set_index('Model', inplace=True)\n",
    "df"
   ]
  },
  {
   "cell_type": "markdown",
   "id": "ef586fb7",
   "metadata": {},
   "source": [
    "__Промежуточный вывод__:\n",
    "\n",
    " Лучший результат показала модель RandomForestClassifier с параметрами 'n_estimators': 300, 'min_samples_split': 2, 'min_samples_leaf': 4, 'max_depth': 5. F1-score на кросс-валидации: 0.618, ROC-AUC на кросс-валидации: 0.614."
   ]
  },
  {
   "cell_type": "markdown",
   "id": "ade1ef4d",
   "metadata": {},
   "source": [
    "## Проверка лучшей модели"
   ]
  },
  {
   "cell_type": "markdown",
   "id": "367072cc",
   "metadata": {},
   "source": [
    "### Анализ модели"
   ]
  },
  {
   "cell_type": "code",
   "execution_count": 58,
   "id": "a6477cc0",
   "metadata": {},
   "outputs": [],
   "source": [
    "def analyze_model(model, X_test, y_test):\n",
    "    \"\"\"\n",
    "    Функция для анализа модели:\n",
    "    - находит значение метрик ROC-AUC, F1-Score, Precision, Recall\n",
    "    - выводит Confusion Matrix\n",
    "\n",
    "    Args:\n",
    "        model: модель\n",
    "        X_test: признаки\n",
    "        y_test: целевая переменная\n",
    "\n",
    "    Returns:\n",
    "        None\n",
    "    \"\"\"\n",
    "    pred = model.predict(X_test)\n",
    "\n",
    "    print('ROC AUC модели на тестовой выборке:', roc_auc_score(y_test, model.predict_proba(X_test)[:, 1]))\n",
    "    print('F1 Score:', f1_score(y_test, pred))\n",
    "    print('Precision:', precision_score(y_test, pred))\n",
    "    print('Recall:', recall_score(y_test, pred))\n",
    "\n",
    "    cm = confusion_matrix(y_test, pred)\n",
    "    sns.heatmap(cm, annot=True, fmt='d', cmap='Blues_r')\n",
    "    plt.title('Матрица ошибок', fontsize=TITLE_SIZE)\n",
    "    plt.ylabel('True label')\n",
    "    plt.xlabel('Predicted')\n",
    "    plt.show()"
   ]
  },
  {
   "cell_type": "code",
   "execution_count": 59,
   "id": "424e9b8c",
   "metadata": {},
   "outputs": [
    {
     "name": "stdout",
     "output_type": "stream",
     "text": [
      "ROC AUC модели на тестовой выборке: 0.6223152649913894\n",
      "F1 Score: 0.6282150007700601\n",
      "Precision: 0.5914165579237349\n",
      "Recall: 0.6698965347347676\n"
     ]
    },
    {
     "data": {
      "image/png": "[encoded data removed]",
      "text/plain": [
       "<Figure size 432x288 with 2 Axes>"
      ]
     },
     "metadata": {
      "needs_background": "light"
     },
     "output_type": "display_data"
    }
   ],
   "source": [
    "best_model = tree_model.best_estimator_\n",
    "analyze_model(best_model, X_test, y_test)"
   ]
  },
  {
   "cell_type": "code",
   "execution_count": 60,
   "id": "beb805bf",
   "metadata": {},
   "outputs": [
    {
     "data": {
      "text/plain": [
       "<Figure size 576x432 with 0 Axes>"
      ]
     },
     "metadata": {},
     "output_type": "display_data"
    },
    {
     "data": {
      "image/png": "[encoded data removed]",
      "text/plain": [
       "<Figure size 432x288 with 1 Axes>"
      ]
     },
     "metadata": {
      "needs_background": "light"
     },
     "output_type": "display_data"
    }
   ],
   "source": [
    "y_score = best_model.predict_proba(X_test)[:, 1]\n",
    "precision, recall, _ = precision_recall_curve(y_test, y_score)\n",
    "\n",
    "plt.figure(figsize=(8, 6))\n",
    "pr_display = PrecisionRecallDisplay(precision=precision, recall=recall).plot()\n",
    "plt.title('Precision-Recall Curve', fontsize=TITLE_SIZE)\n",
    "plt.xlabel('Recall', fontsize=LABEL_SIZE)\n",
    "plt.ylabel('Precision', fontsize=LABEL_SIZE)\n",
    "plt.grid(True, linestyle='--', alpha=0.7)\n",
    "plt.show()"
   ]
  },
  {
   "cell_type": "markdown",
   "id": "276771cf",
   "metadata": {},
   "source": [
    "График отображает зависимость точности (Precision) от полноты (Recall) для различных пороговых значений классификации. Чем ближе кривая к верхнему правому углу, тем лучше работа модели (и наоборот). Судя по графику, качество модели не очень хорошее - кривая ближе к нижнему левому углу. Матрица ошибок также говорит о том, что у модели имеются проблемы с разделением классов. Ошибок первого рода (FP) - 2818, ошибок второго рода (FN) - 2010. \n",
    "\n",
    "Метрики лучшей модели на тестовой выборке: F1 - 0.628, ROC-AUC - 0.622."
   ]
  },
  {
   "cell_type": "markdown",
   "id": "ee9487cc",
   "metadata": {},
   "source": [
    "### Анализ важности признаков"
   ]
  },
  {
   "cell_type": "code",
   "execution_count": 61,
   "id": "9ef5cb6a",
   "metadata": {},
   "outputs": [
    {
     "data": {
      "image/png": "[encoded data removed]",
      "text/plain": [
       "<Figure size 1080x432 with 1 Axes>"
      ]
     },
     "metadata": {
      "needs_background": "light"
     },
     "output_type": "display_data"
    }
   ],
   "source": [
    "feature_importances = pd.DataFrame(\n",
    "    {\n",
    "        'feature': X_train.columns,\n",
    "        'importance': tree_model.best_estimator_.named_steps['models'].feature_importances_\n",
    "    }).sort_values(by='importance', ascending=True)\n",
    "\n",
    "plt.figure(figsize=(15, 6))\n",
    "plt.barh(feature_importances['feature'], feature_importances['importance'], color='skyblue')\n",
    "plt.xlabel('Важность', fontsize=LABEL_SIZE)\n",
    "plt.title('Важность признаков для DecisionTreeClassifier', fontsize=TITLE_SIZE)\n",
    "plt.show()\n"
   ]
  },
  {
   "cell_type": "markdown",
   "id": "a5c30667",
   "metadata": {},
   "source": [
    "Топ-6 важных признаков в порядке убывания важности:\n",
    "- time_period (06:00-11:59 - 'morning', 12:00-17:59 - 'afternoon', 18:00-23:59 - 'evening', 00:00-05:59 - night)\n",
    "- control_device\n",
    "- vehicle_transmission\n",
    "- age ('age <= 3', '3 < age <= 5', '5 < age <= 10', 'age > 10')\n",
    "- lightning\n",
    "- intersection\n",
    "\n",
    "Самым малозначимым признаком для модели является cellphone_in_use."
   ]
  },
  {
   "cell_type": "markdown",
   "id": "b74d039f",
   "metadata": {},
   "source": [
    "### Влияние фактора \"time_period\" на целевую переменную"
   ]
  },
  {
   "cell_type": "markdown",
   "id": "5606df5d",
   "metadata": {},
   "source": [
    "Предполагаем, что в современных каршеринговых авто есть система синхронизации с сервером времени, которую можно использовать для получения точного времени и дальнейшего определения периода суток. "
   ]
  },
  {
   "cell_type": "code",
   "execution_count": 62,
   "id": "98b2ad8e",
   "metadata": {},
   "outputs": [
    {
     "data": {
      "text/html": [
       "<div>\n",
       "<style scoped>\n",
       "    .dataframe tbody tr th:only-of-type {\n",
       "        vertical-align: middle;\n",
       "    }\n",
       "\n",
       "    .dataframe tbody tr th {\n",
       "        vertical-align: top;\n",
       "    }\n",
       "\n",
       "    .dataframe thead th {\n",
       "        text-align: right;\n",
       "    }\n",
       "</style>\n",
       "<table border=\"1\" class=\"dataframe\">\n",
       "  <thead>\n",
       "    <tr style=\"text-align: right;\">\n",
       "      <th></th>\n",
       "      <th>count</th>\n",
       "      <th>share_of_fault</th>\n",
       "      <th>percentage_of_fault</th>\n",
       "    </tr>\n",
       "    <tr>\n",
       "      <th>time_period</th>\n",
       "      <th></th>\n",
       "      <th></th>\n",
       "      <th></th>\n",
       "    </tr>\n",
       "  </thead>\n",
       "  <tbody>\n",
       "    <tr>\n",
       "      <th>afternoon</th>\n",
       "      <td>4728</td>\n",
       "      <td>0.515440</td>\n",
       "      <td>51.54</td>\n",
       "    </tr>\n",
       "    <tr>\n",
       "      <th>evening</th>\n",
       "      <td>2942</td>\n",
       "      <td>0.580218</td>\n",
       "      <td>58.02</td>\n",
       "    </tr>\n",
       "    <tr>\n",
       "      <th>morning</th>\n",
       "      <td>2787</td>\n",
       "      <td>0.558665</td>\n",
       "      <td>55.87</td>\n",
       "    </tr>\n",
       "    <tr>\n",
       "      <th>night</th>\n",
       "      <td>1220</td>\n",
       "      <td>0.980328</td>\n",
       "      <td>98.03</td>\n",
       "    </tr>\n",
       "  </tbody>\n",
       "</table>\n",
       "</div>"
      ],
      "text/plain": [
       "             count  share_of_fault  percentage_of_fault\n",
       "time_period                                            \n",
       "afternoon     4728        0.515440                51.54\n",
       "evening       2942        0.580218                58.02\n",
       "morning       2787        0.558665                55.87\n",
       "night         1220        0.980328                98.03"
      ]
     },
     "execution_count": 62,
     "metadata": {},
     "output_type": "execute_result"
    }
   ],
   "source": [
    "predictions = best_model.predict(X_test)\n",
    "\n",
    "data = pd.DataFrame({\n",
    "    'at_fault': best_model.predict(X_test),\n",
    "    'time_period': X_test['time_period']\n",
    "}) \n",
    "grouped_data = (\n",
    "    data\n",
    "    .groupby('time_period')\n",
    "    .agg(count=('at_fault', 'count'),\n",
    "         share_of_fault=('at_fault', 'mean')         )\n",
    ")\n",
    "grouped_data['percentage_of_fault'] = round(grouped_data['share_of_fault'] * 100, 2)\n",
    "grouped_data"
   ]
  },
  {
   "cell_type": "code",
   "execution_count": 63,
   "id": "1cc115e6",
   "metadata": {},
   "outputs": [
    {
     "data": {
      "image/png": "[encoded data removed]",
      "text/plain": [
       "<Figure size 1080x576 with 1 Axes>"
      ]
     },
     "metadata": {
      "needs_background": "light"
     },
     "output_type": "display_data"
    }
   ],
   "source": [
    "plt.figure(figsize=(15, 8))\n",
    "plt.bar(grouped_data.index, grouped_data['percentage_of_fault'], color='skyblue')\n",
    "plt.xlabel('Период суток', fontsize=LABEL_SIZE)\n",
    "plt.ylabel('Процент виновных водителей, %', fontsize=LABEL_SIZE)\n",
    "plt.title('Зависимость доли виновных водителей от периода суток', fontsize=TITLE_SIZE)\n",
    "plt.xticks(rotation=0)\n",
    "for i, percentage in enumerate(grouped_data['percentage_of_fault']):\n",
    "    plt.text(i, percentage + 1, f'{percentage}%', ha='center')\n",
    "plt.show()"
   ]
  },
  {
   "cell_type": "markdown",
   "id": "443ee0fc",
   "metadata": {},
   "source": [
    "В ночное время суток наибольший процент водителей - виновники ДТП. Самое \"безопасное\" время - утреннее и дневное, вечером доля водителей-виновников ДТП растет."
   ]
  },
  {
   "cell_type": "markdown",
   "id": "44f98261",
   "metadata": {},
   "source": [
    "__Промежуточный вывод:__\n",
    "- метрики лучшей модели на тестовой выборке: F1 - 0.628, ROC-AUC - 0.622. Модель требует улучшения, т.к. имеются проблемы с разделением классов. \n",
    "- самые важные признаки для модели: time_period, control_device, vehicle_transmission, age, самый малозначимый признак - cellphone_in_use."
   ]
  },
  {
   "cell_type": "markdown",
   "id": "3fd08fc3",
   "metadata": {},
   "source": [
    "## Общий вывод\n",
    "\n",
    "В данном проекте мы изучили данные, предоставленные каршеринговой компанией: \n",
    "- общая информация о ДТП\n",
    "- информация об участниках ДТП\n",
    "- информация о пострадавших машинах\n",
    "\n",
    "Мы разработали модель для предсказания того, окажется ли водитель виновным в ДТП: \n",
    "__RandomForestClassifier__ с параметрами __'n_estimators': 300, 'min_samples_split': 2, 'min_samples_leaf': 4, 'max_depth': 5__. Метрики лучшей модели на тестовой выборке: __F1 - 0.628, ROC-AUC - 0.622__. Модель требует доработки.\n",
    "\n",
    "Самыми __важными факторами__ являются:\n",
    "- период суток\n",
    "- устройства управления\n",
    "- тип КПП\n",
    "- категория возраста авто\n",
    "- освещенность\n",
    "- является ли место перекрестком\n",
    "\n",
    "Самым малозначимым признаком для модели является наличие cellphone_in_use.\n",
    "\n",
    "Стоит __обратить внимание__ заказчика на следующие моменты:\n",
    "\n",
    "- Заказчик планирует разработку системы, которая позволит оценить риск ДТП по выбранному маршруту движения. Однако предоставленные данные позволяют создать модель для предсказания того, станет ли водитель виновником аварии. Для проработки изначальной идеи заказчика нужны данные о поездках, во время которых ДТП не было. \n",
    "- Данные за 2012 год в базе представлены не в полном объеме, что может повлиять на результаты моделирования. Стоит проверить, даст ли использование данных с мая 2011 по апрель 2012 лучший результат.\n",
    "\n",
    "__Идеи__ по работе над системой:\n",
    "- добавить данные об успешных поездках, т.к. именно их не хватает для того, чтобы появился необходимый таргет - произошло или не произошло ДТП;\n",
    "- добавить данные о профиле пользователей (например, остлеживание поведения пользователя (нарушение скоростного режима, игнорирование дорожной разметки, правил парковки и др.) позволит учесть склонность водителя к нарушению ПДД),\n",
    "- рассмотреть возможность учета субъективной оценки пользователей после завершения маршрута, наколько безопасным он был,\n",
    "- получить более свежие данные.\n",
    "\n",
    "Адекватную системы оценки водительского риска при выдаче авто на основании имеющихся данных нельзя. Датасет нужно расширить данными о неаварийных поездках. В качестве дополнительных факторов рекомендуется учесть информацию о пользователях. Можно рассмотреть вопрос об использовании таких решений, как телематические системы и системы мониторинга водителя."
   ]
  }
 ],
 "metadata": {
  "ExecuteTimeLog": [
   {
    "duration": 5,
    "start_time": "2025-02-17T15:22:35.194Z"
   },
   {
    "duration": 3,
    "start_time": "2025-02-17T15:22:35.214Z"
   },
   {
    "duration": 695017,
    "start_time": "2025-02-17T15:22:35.220Z"
   },
   {
    "duration": 4097,
    "start_time": "2025-02-17T15:34:10.240Z"
   },
   {
    "duration": 2555,
    "start_time": "2025-02-17T15:34:14.339Z"
   },
   {
    "duration": 0,
    "start_time": "2025-02-17T15:34:16.899Z"
   },
   {
    "duration": 0,
    "start_time": "2025-02-17T15:34:16.900Z"
   },
   {
    "duration": 0,
    "start_time": "2025-02-17T15:34:16.901Z"
   },
   {
    "duration": 0,
    "start_time": "2025-02-17T15:34:16.902Z"
   },
   {
    "duration": 0,
    "start_time": "2025-02-17T15:34:16.903Z"
   },
   {
    "duration": 0,
    "start_time": "2025-02-17T15:34:16.905Z"
   },
   {
    "duration": 0,
    "start_time": "2025-02-17T15:34:16.906Z"
   },
   {
    "duration": 0,
    "start_time": "2025-02-17T15:34:16.907Z"
   },
   {
    "duration": 0,
    "start_time": "2025-02-17T15:34:16.908Z"
   },
   {
    "duration": 0,
    "start_time": "2025-02-17T15:34:16.909Z"
   },
   {
    "duration": 0,
    "start_time": "2025-02-17T15:34:16.910Z"
   },
   {
    "duration": 0,
    "start_time": "2025-02-17T15:34:16.911Z"
   },
   {
    "duration": 0,
    "start_time": "2025-02-17T15:34:16.912Z"
   },
   {
    "duration": 0,
    "start_time": "2025-02-17T15:34:16.913Z"
   },
   {
    "duration": 0,
    "start_time": "2025-02-17T15:34:16.915Z"
   },
   {
    "duration": 0,
    "start_time": "2025-02-17T15:34:16.916Z"
   },
   {
    "duration": 0,
    "start_time": "2025-02-17T15:34:16.917Z"
   },
   {
    "duration": 0,
    "start_time": "2025-02-17T15:34:16.918Z"
   },
   {
    "duration": 0,
    "start_time": "2025-02-17T15:34:16.920Z"
   },
   {
    "duration": 0,
    "start_time": "2025-02-17T15:34:16.921Z"
   },
   {
    "duration": 0,
    "start_time": "2025-02-17T15:34:16.922Z"
   },
   {
    "duration": 0,
    "start_time": "2025-02-17T15:34:16.923Z"
   },
   {
    "duration": 0,
    "start_time": "2025-02-17T15:34:16.924Z"
   },
   {
    "duration": 0,
    "start_time": "2025-02-17T15:34:16.926Z"
   },
   {
    "duration": 0,
    "start_time": "2025-02-17T15:34:16.927Z"
   },
   {
    "duration": 0,
    "start_time": "2025-02-17T15:34:16.973Z"
   },
   {
    "duration": 0,
    "start_time": "2025-02-17T15:34:16.974Z"
   },
   {
    "duration": 0,
    "start_time": "2025-02-17T15:34:16.975Z"
   },
   {
    "duration": 0,
    "start_time": "2025-02-17T15:34:16.977Z"
   },
   {
    "duration": 0,
    "start_time": "2025-02-17T15:34:16.978Z"
   },
   {
    "duration": 0,
    "start_time": "2025-02-17T15:34:16.979Z"
   },
   {
    "duration": 0,
    "start_time": "2025-02-17T15:34:16.980Z"
   },
   {
    "duration": 0,
    "start_time": "2025-02-17T15:34:16.981Z"
   },
   {
    "duration": 0,
    "start_time": "2025-02-17T15:34:16.982Z"
   },
   {
    "duration": 0,
    "start_time": "2025-02-17T15:34:16.983Z"
   },
   {
    "duration": 0,
    "start_time": "2025-02-17T15:34:16.984Z"
   },
   {
    "duration": 0,
    "start_time": "2025-02-17T15:34:16.985Z"
   },
   {
    "duration": 0,
    "start_time": "2025-02-17T15:34:16.986Z"
   },
   {
    "duration": 0,
    "start_time": "2025-02-17T15:34:16.987Z"
   },
   {
    "duration": 0,
    "start_time": "2025-02-17T15:34:16.989Z"
   },
   {
    "duration": 0,
    "start_time": "2025-02-17T15:34:16.990Z"
   },
   {
    "duration": 0,
    "start_time": "2025-02-17T15:34:16.991Z"
   },
   {
    "duration": 0,
    "start_time": "2025-02-17T15:34:16.992Z"
   },
   {
    "duration": 0,
    "start_time": "2025-02-17T15:34:16.993Z"
   },
   {
    "duration": 0,
    "start_time": "2025-02-17T15:34:16.994Z"
   },
   {
    "duration": 0,
    "start_time": "2025-02-17T15:34:16.996Z"
   },
   {
    "duration": 0,
    "start_time": "2025-02-17T15:34:16.996Z"
   },
   {
    "duration": 0,
    "start_time": "2025-02-17T15:34:16.998Z"
   },
   {
    "duration": 0,
    "start_time": "2025-02-17T15:34:16.998Z"
   },
   {
    "duration": 0,
    "start_time": "2025-02-17T15:34:16.999Z"
   },
   {
    "duration": 0,
    "start_time": "2025-02-17T15:34:17.001Z"
   },
   {
    "duration": 0,
    "start_time": "2025-02-17T15:34:17.002Z"
   },
   {
    "duration": 0,
    "start_time": "2025-02-17T15:34:17.003Z"
   },
   {
    "duration": 0,
    "start_time": "2025-02-17T15:34:17.004Z"
   },
   {
    "duration": 0,
    "start_time": "2025-02-17T15:34:17.006Z"
   },
   {
    "duration": 0,
    "start_time": "2025-02-17T15:34:17.007Z"
   },
   {
    "duration": 0,
    "start_time": "2025-02-17T15:34:17.072Z"
   },
   {
    "duration": 0,
    "start_time": "2025-02-17T15:34:17.073Z"
   },
   {
    "duration": 0,
    "start_time": "2025-02-17T15:34:17.074Z"
   },
   {
    "duration": 0,
    "start_time": "2025-02-17T15:34:17.075Z"
   },
   {
    "duration": 4,
    "start_time": "2025-02-17T15:35:33.578Z"
   },
   {
    "duration": 15,
    "start_time": "2025-02-17T15:35:33.599Z"
   },
   {
    "duration": 23431,
    "start_time": "2025-02-17T15:35:33.616Z"
   },
   {
    "duration": 2670,
    "start_time": "2025-02-17T15:35:57.049Z"
   },
   {
    "duration": 1942,
    "start_time": "2025-02-17T15:35:59.721Z"
   },
   {
    "duration": 0,
    "start_time": "2025-02-17T15:36:01.672Z"
   },
   {
    "duration": 0,
    "start_time": "2025-02-17T15:36:01.674Z"
   },
   {
    "duration": 0,
    "start_time": "2025-02-17T15:36:01.676Z"
   },
   {
    "duration": 0,
    "start_time": "2025-02-17T15:36:01.677Z"
   },
   {
    "duration": 0,
    "start_time": "2025-02-17T15:36:01.678Z"
   },
   {
    "duration": 0,
    "start_time": "2025-02-17T15:36:01.680Z"
   },
   {
    "duration": 0,
    "start_time": "2025-02-17T15:36:01.681Z"
   },
   {
    "duration": 0,
    "start_time": "2025-02-17T15:36:01.682Z"
   },
   {
    "duration": 0,
    "start_time": "2025-02-17T15:36:01.683Z"
   },
   {
    "duration": 0,
    "start_time": "2025-02-17T15:36:01.685Z"
   },
   {
    "duration": 0,
    "start_time": "2025-02-17T15:36:01.686Z"
   },
   {
    "duration": 0,
    "start_time": "2025-02-17T15:36:01.687Z"
   },
   {
    "duration": 0,
    "start_time": "2025-02-17T15:36:01.688Z"
   },
   {
    "duration": 0,
    "start_time": "2025-02-17T15:36:01.690Z"
   },
   {
    "duration": 0,
    "start_time": "2025-02-17T15:36:01.691Z"
   },
   {
    "duration": 0,
    "start_time": "2025-02-17T15:36:01.692Z"
   },
   {
    "duration": 0,
    "start_time": "2025-02-17T15:36:01.693Z"
   },
   {
    "duration": 0,
    "start_time": "2025-02-17T15:36:01.694Z"
   },
   {
    "duration": 0,
    "start_time": "2025-02-17T15:36:01.696Z"
   },
   {
    "duration": 0,
    "start_time": "2025-02-17T15:36:01.697Z"
   },
   {
    "duration": 0,
    "start_time": "2025-02-17T15:36:01.698Z"
   },
   {
    "duration": 0,
    "start_time": "2025-02-17T15:36:01.699Z"
   },
   {
    "duration": 0,
    "start_time": "2025-02-17T15:36:01.701Z"
   },
   {
    "duration": 0,
    "start_time": "2025-02-17T15:36:01.702Z"
   },
   {
    "duration": 0,
    "start_time": "2025-02-17T15:36:01.704Z"
   },
   {
    "duration": 0,
    "start_time": "2025-02-17T15:36:01.705Z"
   },
   {
    "duration": 0,
    "start_time": "2025-02-17T15:36:01.706Z"
   },
   {
    "duration": 0,
    "start_time": "2025-02-17T15:36:01.707Z"
   },
   {
    "duration": 0,
    "start_time": "2025-02-17T15:36:01.709Z"
   },
   {
    "duration": 0,
    "start_time": "2025-02-17T15:36:01.710Z"
   },
   {
    "duration": 0,
    "start_time": "2025-02-17T15:36:01.711Z"
   },
   {
    "duration": 0,
    "start_time": "2025-02-17T15:36:01.712Z"
   },
   {
    "duration": 0,
    "start_time": "2025-02-17T15:36:01.774Z"
   },
   {
    "duration": 0,
    "start_time": "2025-02-17T15:36:01.775Z"
   },
   {
    "duration": 0,
    "start_time": "2025-02-17T15:36:01.776Z"
   },
   {
    "duration": 0,
    "start_time": "2025-02-17T15:36:01.778Z"
   },
   {
    "duration": 0,
    "start_time": "2025-02-17T15:36:01.779Z"
   },
   {
    "duration": 0,
    "start_time": "2025-02-17T15:36:01.780Z"
   },
   {
    "duration": 0,
    "start_time": "2025-02-17T15:36:01.781Z"
   },
   {
    "duration": 0,
    "start_time": "2025-02-17T15:36:01.782Z"
   },
   {
    "duration": 0,
    "start_time": "2025-02-17T15:36:01.783Z"
   },
   {
    "duration": 0,
    "start_time": "2025-02-17T15:36:01.784Z"
   },
   {
    "duration": 0,
    "start_time": "2025-02-17T15:36:01.785Z"
   },
   {
    "duration": 0,
    "start_time": "2025-02-17T15:36:01.786Z"
   },
   {
    "duration": 0,
    "start_time": "2025-02-17T15:36:01.788Z"
   },
   {
    "duration": 1,
    "start_time": "2025-02-17T15:36:01.788Z"
   },
   {
    "duration": 0,
    "start_time": "2025-02-17T15:36:01.790Z"
   },
   {
    "duration": 0,
    "start_time": "2025-02-17T15:36:01.791Z"
   },
   {
    "duration": 0,
    "start_time": "2025-02-17T15:36:01.792Z"
   },
   {
    "duration": 0,
    "start_time": "2025-02-17T15:36:01.793Z"
   },
   {
    "duration": 0,
    "start_time": "2025-02-17T15:36:01.794Z"
   },
   {
    "duration": 0,
    "start_time": "2025-02-17T15:36:01.795Z"
   },
   {
    "duration": 0,
    "start_time": "2025-02-17T15:36:01.796Z"
   },
   {
    "duration": 0,
    "start_time": "2025-02-17T15:36:01.798Z"
   },
   {
    "duration": 0,
    "start_time": "2025-02-17T15:36:01.799Z"
   },
   {
    "duration": 0,
    "start_time": "2025-02-17T15:36:01.800Z"
   },
   {
    "duration": 0,
    "start_time": "2025-02-17T15:36:01.801Z"
   },
   {
    "duration": 0,
    "start_time": "2025-02-17T15:36:01.802Z"
   },
   {
    "duration": 0,
    "start_time": "2025-02-17T15:36:01.803Z"
   },
   {
    "duration": 0,
    "start_time": "2025-02-17T15:36:01.804Z"
   },
   {
    "duration": 4,
    "start_time": "2025-02-17T15:40:48.751Z"
   },
   {
    "duration": 22,
    "start_time": "2025-02-17T15:40:48.769Z"
   },
   {
    "duration": 2755,
    "start_time": "2025-02-17T15:40:48.793Z"
   },
   {
    "duration": 3514,
    "start_time": "2025-02-17T15:40:51.550Z"
   },
   {
    "duration": 1998,
    "start_time": "2025-02-17T15:40:55.067Z"
   },
   {
    "duration": 3,
    "start_time": "2025-02-17T15:40:57.068Z"
   },
   {
    "duration": 4,
    "start_time": "2025-02-17T15:40:57.072Z"
   },
   {
    "duration": 8467,
    "start_time": "2025-02-17T15:40:57.078Z"
   },
   {
    "duration": 49,
    "start_time": "2025-02-17T15:41:05.547Z"
   },
   {
    "duration": 409,
    "start_time": "2025-02-17T15:41:05.598Z"
   },
   {
    "duration": 114,
    "start_time": "2025-02-17T15:41:06.009Z"
   },
   {
    "duration": 228,
    "start_time": "2025-02-17T15:41:06.125Z"
   },
   {
    "duration": 275,
    "start_time": "2025-02-17T15:41:06.355Z"
   },
   {
    "duration": 530,
    "start_time": "2025-02-17T15:41:06.632Z"
   },
   {
    "duration": 607,
    "start_time": "2025-02-17T15:41:07.171Z"
   },
   {
    "duration": 175,
    "start_time": "2025-02-17T15:41:07.780Z"
   },
   {
    "duration": 562,
    "start_time": "2025-02-17T15:41:07.957Z"
   },
   {
    "duration": 280,
    "start_time": "2025-02-17T15:41:08.521Z"
   },
   {
    "duration": 348,
    "start_time": "2025-02-17T15:41:08.802Z"
   },
   {
    "duration": 561,
    "start_time": "2025-02-17T15:41:09.152Z"
   },
   {
    "duration": 281,
    "start_time": "2025-02-17T15:41:09.715Z"
   },
   {
    "duration": 15188,
    "start_time": "2025-02-17T15:41:09.998Z"
   },
   {
    "duration": 18,
    "start_time": "2025-02-17T15:41:25.188Z"
   },
   {
    "duration": 8,
    "start_time": "2025-02-17T15:41:25.209Z"
   },
   {
    "duration": 113,
    "start_time": "2025-02-17T15:41:25.220Z"
   },
   {
    "duration": 127,
    "start_time": "2025-02-17T15:41:25.335Z"
   },
   {
    "duration": 25,
    "start_time": "2025-02-17T15:41:25.473Z"
   },
   {
    "duration": 134,
    "start_time": "2025-02-17T15:41:25.501Z"
   },
   {
    "duration": 1238,
    "start_time": "2025-02-17T15:41:25.637Z"
   },
   {
    "duration": 138,
    "start_time": "2025-02-17T15:41:26.877Z"
   },
   {
    "duration": 4,
    "start_time": "2025-02-17T15:41:27.017Z"
   },
   {
    "duration": 14,
    "start_time": "2025-02-17T15:41:27.022Z"
   },
   {
    "duration": 176,
    "start_time": "2025-02-17T15:41:27.038Z"
   },
   {
    "duration": 17,
    "start_time": "2025-02-17T15:41:27.216Z"
   },
   {
    "duration": 18,
    "start_time": "2025-02-17T15:41:27.234Z"
   },
   {
    "duration": 29,
    "start_time": "2025-02-17T15:41:27.272Z"
   },
   {
    "duration": 16,
    "start_time": "2025-02-17T15:41:27.302Z"
   },
   {
    "duration": 21,
    "start_time": "2025-02-17T15:41:27.320Z"
   },
   {
    "duration": 53,
    "start_time": "2025-02-17T15:41:27.342Z"
   },
   {
    "duration": 232,
    "start_time": "2025-02-17T15:41:27.397Z"
   },
   {
    "duration": 203,
    "start_time": "2025-02-17T15:41:27.631Z"
   },
   {
    "duration": 869,
    "start_time": "2025-02-17T15:41:27.839Z"
   },
   {
    "duration": 28,
    "start_time": "2025-02-17T15:41:28.710Z"
   },
   {
    "duration": 7674,
    "start_time": "2025-02-17T15:41:28.739Z"
   },
   {
    "duration": 23,
    "start_time": "2025-02-17T15:41:36.415Z"
   },
   {
    "duration": 149,
    "start_time": "2025-02-17T15:41:36.439Z"
   },
   {
    "duration": 106,
    "start_time": "2025-02-17T15:41:36.590Z"
   },
   {
    "duration": 47,
    "start_time": "2025-02-17T15:41:36.698Z"
   },
   {
    "duration": 118,
    "start_time": "2025-02-17T15:41:36.746Z"
   },
   {
    "duration": 135,
    "start_time": "2025-02-17T15:41:36.872Z"
   },
   {
    "duration": 115,
    "start_time": "2025-02-17T15:41:37.008Z"
   },
   {
    "duration": 5,
    "start_time": "2025-02-17T15:41:37.125Z"
   },
   {
    "duration": 1049237,
    "start_time": "2025-02-17T15:41:37.133Z"
   },
   {
    "duration": 0,
    "start_time": "2025-02-17T15:59:06.373Z"
   },
   {
    "duration": 0,
    "start_time": "2025-02-17T15:59:06.374Z"
   },
   {
    "duration": 0,
    "start_time": "2025-02-17T15:59:06.375Z"
   },
   {
    "duration": 0,
    "start_time": "2025-02-17T15:59:06.376Z"
   },
   {
    "duration": 0,
    "start_time": "2025-02-17T15:59:06.378Z"
   },
   {
    "duration": 0,
    "start_time": "2025-02-17T15:59:06.379Z"
   },
   {
    "duration": 0,
    "start_time": "2025-02-17T15:59:06.380Z"
   },
   {
    "duration": 0,
    "start_time": "2025-02-17T15:59:06.382Z"
   },
   {
    "duration": 0,
    "start_time": "2025-02-17T15:59:06.383Z"
   },
   {
    "duration": 0,
    "start_time": "2025-02-17T15:59:06.384Z"
   },
   {
    "duration": 0,
    "start_time": "2025-02-17T15:59:06.385Z"
   },
   {
    "duration": 0,
    "start_time": "2025-02-17T15:59:06.386Z"
   },
   {
    "duration": 635,
    "start_time": "2025-02-17T15:59:18.323Z"
   },
   {
    "duration": 517,
    "start_time": "2025-02-17T15:59:54.140Z"
   },
   {
    "duration": 524,
    "start_time": "2025-02-17T16:00:25.078Z"
   },
   {
    "duration": 525,
    "start_time": "2025-02-17T16:03:13.831Z"
   },
   {
    "duration": 658,
    "start_time": "2025-02-17T16:04:29.862Z"
   },
   {
    "duration": 659,
    "start_time": "2025-02-17T16:07:21.886Z"
   },
   {
    "duration": 849,
    "start_time": "2025-02-17T16:07:46.549Z"
   },
   {
    "duration": 641,
    "start_time": "2025-02-17T16:11:57.378Z"
   },
   {
    "duration": 542,
    "start_time": "2025-02-17T16:13:43.003Z"
   },
   {
    "duration": 557,
    "start_time": "2025-02-17T16:14:56.037Z"
   },
   {
    "duration": 207,
    "start_time": "2025-02-17T16:16:39.672Z"
   },
   {
    "duration": 310,
    "start_time": "2025-02-17T16:18:04.827Z"
   },
   {
    "duration": 318,
    "start_time": "2025-02-17T16:18:25.033Z"
   },
   {
    "duration": 312,
    "start_time": "2025-02-17T16:18:31.155Z"
   },
   {
    "duration": 636,
    "start_time": "2025-02-17T16:19:12.425Z"
   },
   {
    "duration": 542,
    "start_time": "2025-02-17T16:19:38.214Z"
   },
   {
    "duration": 2811,
    "start_time": "2025-02-17T16:24:01.007Z"
   },
   {
    "duration": 2755,
    "start_time": "2025-02-17T16:24:03.821Z"
   },
   {
    "duration": 2046,
    "start_time": "2025-02-17T16:24:06.579Z"
   },
   {
    "duration": 3,
    "start_time": "2025-02-17T16:24:08.628Z"
   },
   {
    "duration": 4,
    "start_time": "2025-02-17T16:24:08.633Z"
   },
   {
    "duration": 8186,
    "start_time": "2025-02-17T16:24:08.639Z"
   },
   {
    "duration": 35,
    "start_time": "2025-02-17T16:24:16.827Z"
   },
   {
    "duration": 395,
    "start_time": "2025-02-17T16:24:16.863Z"
   },
   {
    "duration": 113,
    "start_time": "2025-02-17T16:24:17.260Z"
   },
   {
    "duration": 229,
    "start_time": "2025-02-17T16:24:17.376Z"
   },
   {
    "duration": 307,
    "start_time": "2025-02-17T16:24:17.607Z"
   },
   {
    "duration": 559,
    "start_time": "2025-02-17T16:24:17.916Z"
   },
   {
    "duration": 620,
    "start_time": "2025-02-17T16:24:18.477Z"
   },
   {
    "duration": 165,
    "start_time": "2025-02-17T16:24:19.099Z"
   },
   {
    "duration": 554,
    "start_time": "2025-02-17T16:24:19.266Z"
   },
   {
    "duration": 286,
    "start_time": "2025-02-17T16:24:19.821Z"
   },
   {
    "duration": 318,
    "start_time": "2025-02-17T16:24:20.109Z"
   },
   {
    "duration": 550,
    "start_time": "2025-02-17T16:24:20.429Z"
   },
   {
    "duration": 310,
    "start_time": "2025-02-17T16:24:20.981Z"
   },
   {
    "duration": 13322,
    "start_time": "2025-02-17T16:24:21.293Z"
   },
   {
    "duration": 18,
    "start_time": "2025-02-17T16:24:34.617Z"
   },
   {
    "duration": 36,
    "start_time": "2025-02-17T16:24:34.637Z"
   },
   {
    "duration": 138,
    "start_time": "2025-02-17T16:24:34.675Z"
   },
   {
    "duration": 120,
    "start_time": "2025-02-17T16:24:34.815Z"
   },
   {
    "duration": 41,
    "start_time": "2025-02-17T16:24:34.936Z"
   },
   {
    "duration": 185,
    "start_time": "2025-02-17T16:24:34.979Z"
   },
   {
    "duration": 1260,
    "start_time": "2025-02-17T16:24:35.165Z"
   },
   {
    "duration": 138,
    "start_time": "2025-02-17T16:24:36.429Z"
   },
   {
    "duration": 4,
    "start_time": "2025-02-17T16:24:36.571Z"
   },
   {
    "duration": 59,
    "start_time": "2025-02-17T16:24:36.577Z"
   },
   {
    "duration": 172,
    "start_time": "2025-02-17T16:24:36.638Z"
   },
   {
    "duration": 17,
    "start_time": "2025-02-17T16:24:36.812Z"
   },
   {
    "duration": 42,
    "start_time": "2025-02-17T16:24:36.831Z"
   },
   {
    "duration": 27,
    "start_time": "2025-02-17T16:24:36.875Z"
   },
   {
    "duration": 18,
    "start_time": "2025-02-17T16:24:36.904Z"
   },
   {
    "duration": 22,
    "start_time": "2025-02-17T16:24:36.923Z"
   },
   {
    "duration": 23,
    "start_time": "2025-02-17T16:24:36.973Z"
   },
   {
    "duration": 261,
    "start_time": "2025-02-17T16:24:36.999Z"
   },
   {
    "duration": 211,
    "start_time": "2025-02-17T16:24:37.262Z"
   },
   {
    "duration": 890,
    "start_time": "2025-02-17T16:24:37.475Z"
   },
   {
    "duration": 31,
    "start_time": "2025-02-17T16:24:38.367Z"
   },
   {
    "duration": 7933,
    "start_time": "2025-02-17T16:24:38.400Z"
   },
   {
    "duration": 23,
    "start_time": "2025-02-17T16:24:46.335Z"
   },
   {
    "duration": 116,
    "start_time": "2025-02-17T16:24:46.360Z"
   },
   {
    "duration": 155,
    "start_time": "2025-02-17T16:24:46.478Z"
   },
   {
    "duration": 50,
    "start_time": "2025-02-17T16:24:46.634Z"
   },
   {
    "duration": 176,
    "start_time": "2025-02-17T16:24:46.686Z"
   },
   {
    "duration": 142,
    "start_time": "2025-02-17T16:24:46.864Z"
   },
   {
    "duration": 109,
    "start_time": "2025-02-17T16:24:47.008Z"
   },
   {
    "duration": 6,
    "start_time": "2025-02-17T16:24:47.119Z"
   },
   {
    "duration": 1355689,
    "start_time": "2025-02-17T16:24:47.127Z"
   },
   {
    "duration": 313,
    "start_time": "2025-02-17T16:47:22.817Z"
   },
   {
    "duration": 3946778,
    "start_time": "2025-02-17T16:47:23.132Z"
   },
   {
    "duration": 0,
    "start_time": "2025-02-17T17:53:09.912Z"
   },
   {
    "duration": 0,
    "start_time": "2025-02-17T17:53:09.914Z"
   },
   {
    "duration": 0,
    "start_time": "2025-02-17T17:53:09.915Z"
   },
   {
    "duration": 0,
    "start_time": "2025-02-17T17:53:09.916Z"
   },
   {
    "duration": 0,
    "start_time": "2025-02-17T17:53:09.918Z"
   },
   {
    "duration": 0,
    "start_time": "2025-02-17T17:53:09.919Z"
   },
   {
    "duration": 0,
    "start_time": "2025-02-17T17:53:09.920Z"
   },
   {
    "duration": 0,
    "start_time": "2025-02-17T17:53:09.922Z"
   },
   {
    "duration": 0,
    "start_time": "2025-02-17T17:53:09.924Z"
   },
   {
    "duration": 0,
    "start_time": "2025-02-17T17:53:09.925Z"
   },
   {
    "duration": 304,
    "start_time": "2025-02-17T17:53:16.453Z"
   },
   {
    "duration": 2888,
    "start_time": "2025-02-17T17:56:54.240Z"
   },
   {
    "duration": 2677,
    "start_time": "2025-02-17T17:56:57.130Z"
   },
   {
    "duration": 1968,
    "start_time": "2025-02-17T17:56:59.809Z"
   },
   {
    "duration": 4,
    "start_time": "2025-02-17T17:57:01.780Z"
   },
   {
    "duration": 24,
    "start_time": "2025-02-17T17:57:01.785Z"
   },
   {
    "duration": 8353,
    "start_time": "2025-02-17T17:57:01.810Z"
   },
   {
    "duration": 42,
    "start_time": "2025-02-17T17:57:10.166Z"
   },
   {
    "duration": 409,
    "start_time": "2025-02-17T17:57:10.209Z"
   },
   {
    "duration": 111,
    "start_time": "2025-02-17T17:57:10.620Z"
   },
   {
    "duration": 232,
    "start_time": "2025-02-17T17:57:10.734Z"
   },
   {
    "duration": 315,
    "start_time": "2025-02-17T17:57:10.967Z"
   },
   {
    "duration": 552,
    "start_time": "2025-02-17T17:57:11.285Z"
   },
   {
    "duration": 601,
    "start_time": "2025-02-17T17:57:11.839Z"
   },
   {
    "duration": 170,
    "start_time": "2025-02-17T17:57:12.442Z"
   },
   {
    "duration": 1083,
    "start_time": "2025-02-17T17:57:12.614Z"
   },
   {
    "duration": 288,
    "start_time": "2025-02-17T17:57:13.699Z"
   },
   {
    "duration": 311,
    "start_time": "2025-02-17T17:57:13.989Z"
   },
   {
    "duration": 2581,
    "start_time": "2025-02-17T17:57:14.302Z"
   },
   {
    "duration": 294,
    "start_time": "2025-02-17T17:57:16.886Z"
   },
   {
    "duration": 9519,
    "start_time": "2025-02-17T17:57:17.181Z"
   },
   {
    "duration": 17,
    "start_time": "2025-02-17T17:57:26.702Z"
   },
   {
    "duration": 29,
    "start_time": "2025-02-17T17:57:26.720Z"
   },
   {
    "duration": 97,
    "start_time": "2025-02-17T17:57:26.750Z"
   },
   {
    "duration": 132,
    "start_time": "2025-02-17T17:57:26.849Z"
   },
   {
    "duration": 24,
    "start_time": "2025-02-17T17:57:26.983Z"
   },
   {
    "duration": 199,
    "start_time": "2025-02-17T17:57:27.009Z"
   },
   {
    "duration": 1173,
    "start_time": "2025-02-17T17:57:27.210Z"
   },
   {
    "duration": 138,
    "start_time": "2025-02-17T17:57:28.388Z"
   },
   {
    "duration": 4,
    "start_time": "2025-02-17T17:57:28.528Z"
   },
   {
    "duration": 7,
    "start_time": "2025-02-17T17:57:28.534Z"
   },
   {
    "duration": 192,
    "start_time": "2025-02-17T17:57:28.543Z"
   },
   {
    "duration": 20,
    "start_time": "2025-02-17T17:57:28.737Z"
   },
   {
    "duration": 42,
    "start_time": "2025-02-17T17:57:28.759Z"
   },
   {
    "duration": 30,
    "start_time": "2025-02-17T17:57:28.803Z"
   },
   {
    "duration": 16,
    "start_time": "2025-02-17T17:57:28.834Z"
   },
   {
    "duration": 60,
    "start_time": "2025-02-17T17:57:28.851Z"
   },
   {
    "duration": 26,
    "start_time": "2025-02-17T17:57:28.913Z"
   },
   {
    "duration": 248,
    "start_time": "2025-02-17T17:57:28.940Z"
   },
   {
    "duration": 210,
    "start_time": "2025-02-17T17:57:29.191Z"
   },
   {
    "duration": 850,
    "start_time": "2025-02-17T17:57:29.402Z"
   },
   {
    "duration": 37,
    "start_time": "2025-02-17T17:57:30.254Z"
   },
   {
    "duration": 7996,
    "start_time": "2025-02-17T17:57:30.293Z"
   },
   {
    "duration": 26,
    "start_time": "2025-02-17T17:57:38.291Z"
   },
   {
    "duration": 110,
    "start_time": "2025-02-17T17:57:38.319Z"
   },
   {
    "duration": 123,
    "start_time": "2025-02-17T17:57:38.431Z"
   },
   {
    "duration": 53,
    "start_time": "2025-02-17T17:57:38.556Z"
   },
   {
    "duration": 122,
    "start_time": "2025-02-17T17:57:38.611Z"
   },
   {
    "duration": 144,
    "start_time": "2025-02-17T17:57:38.735Z"
   },
   {
    "duration": 141,
    "start_time": "2025-02-17T17:57:38.881Z"
   },
   {
    "duration": 10,
    "start_time": "2025-02-17T17:57:39.024Z"
   },
   {
    "duration": 1351613,
    "start_time": "2025-02-17T17:57:39.036Z"
   },
   {
    "duration": 303,
    "start_time": "2025-02-17T18:20:10.650Z"
   },
   {
    "duration": 433620,
    "start_time": "2025-02-17T18:20:10.955Z"
   },
   {
    "duration": 252417,
    "start_time": "2025-02-17T18:27:24.577Z"
   },
   {
    "duration": 109578,
    "start_time": "2025-02-17T18:31:36.996Z"
   },
   {
    "duration": 185,
    "start_time": "2025-02-17T18:33:26.671Z"
   },
   {
    "duration": 24,
    "start_time": "2025-02-17T18:33:26.858Z"
   },
   {
    "duration": 6,
    "start_time": "2025-02-17T18:33:26.883Z"
   },
   {
    "duration": 1087,
    "start_time": "2025-02-17T18:33:26.890Z"
   },
   {
    "duration": 553,
    "start_time": "2025-02-17T18:33:27.979Z"
   },
   {
    "duration": 245,
    "start_time": "2025-02-17T18:33:28.534Z"
   },
   {
    "duration": 819,
    "start_time": "2025-02-17T18:33:28.781Z"
   },
   {
    "duration": 161,
    "start_time": "2025-02-17T18:33:29.602Z"
   },
   {
    "duration": 179,
    "start_time": "2025-02-17T18:37:15.370Z"
   },
   {
    "duration": 252,
    "start_time": "2025-02-17T18:37:25.585Z"
   },
   {
    "duration": 74,
    "start_time": "2025-02-17T19:34:00.995Z"
   },
   {
    "duration": 2663,
    "start_time": "2025-02-17T19:47:14.216Z"
   },
   {
    "duration": 2719,
    "start_time": "2025-02-17T19:47:16.882Z"
   },
   {
    "duration": 1938,
    "start_time": "2025-02-17T19:47:19.603Z"
   },
   {
    "duration": 3,
    "start_time": "2025-02-17T19:47:21.543Z"
   },
   {
    "duration": 7,
    "start_time": "2025-02-17T19:47:21.547Z"
   },
   {
    "duration": 7448,
    "start_time": "2025-02-17T19:47:21.556Z"
   },
   {
    "duration": 43,
    "start_time": "2025-02-17T19:47:29.006Z"
   },
   {
    "duration": 432,
    "start_time": "2025-02-17T19:47:29.051Z"
   },
   {
    "duration": 120,
    "start_time": "2025-02-17T19:47:29.486Z"
   },
   {
    "duration": 227,
    "start_time": "2025-02-17T19:47:29.610Z"
   },
   {
    "duration": 436,
    "start_time": "2025-02-17T19:47:29.840Z"
   },
   {
    "duration": 0,
    "start_time": "2025-02-17T19:47:30.280Z"
   },
   {
    "duration": 0,
    "start_time": "2025-02-17T19:47:30.282Z"
   },
   {
    "duration": 0,
    "start_time": "2025-02-17T19:47:30.283Z"
   },
   {
    "duration": 0,
    "start_time": "2025-02-17T19:47:30.285Z"
   },
   {
    "duration": 0,
    "start_time": "2025-02-17T19:47:30.286Z"
   },
   {
    "duration": 0,
    "start_time": "2025-02-17T19:47:30.288Z"
   },
   {
    "duration": 0,
    "start_time": "2025-02-17T19:47:30.289Z"
   },
   {
    "duration": 0,
    "start_time": "2025-02-17T19:47:30.290Z"
   },
   {
    "duration": 0,
    "start_time": "2025-02-17T19:47:30.291Z"
   },
   {
    "duration": 0,
    "start_time": "2025-02-17T19:47:30.292Z"
   },
   {
    "duration": 0,
    "start_time": "2025-02-17T19:47:30.294Z"
   },
   {
    "duration": 0,
    "start_time": "2025-02-17T19:47:30.295Z"
   },
   {
    "duration": 0,
    "start_time": "2025-02-17T19:47:30.296Z"
   },
   {
    "duration": 0,
    "start_time": "2025-02-17T19:47:30.297Z"
   },
   {
    "duration": 0,
    "start_time": "2025-02-17T19:47:30.298Z"
   },
   {
    "duration": 0,
    "start_time": "2025-02-17T19:47:30.300Z"
   },
   {
    "duration": 0,
    "start_time": "2025-02-17T19:47:30.301Z"
   },
   {
    "duration": 0,
    "start_time": "2025-02-17T19:47:30.302Z"
   },
   {
    "duration": 0,
    "start_time": "2025-02-17T19:47:30.303Z"
   },
   {
    "duration": 0,
    "start_time": "2025-02-17T19:47:30.304Z"
   },
   {
    "duration": 0,
    "start_time": "2025-02-17T19:47:30.305Z"
   },
   {
    "duration": 0,
    "start_time": "2025-02-17T19:47:30.306Z"
   },
   {
    "duration": 0,
    "start_time": "2025-02-17T19:47:30.307Z"
   },
   {
    "duration": 0,
    "start_time": "2025-02-17T19:47:30.308Z"
   },
   {
    "duration": 0,
    "start_time": "2025-02-17T19:47:30.310Z"
   },
   {
    "duration": 0,
    "start_time": "2025-02-17T19:47:30.311Z"
   },
   {
    "duration": 0,
    "start_time": "2025-02-17T19:47:30.312Z"
   },
   {
    "duration": 0,
    "start_time": "2025-02-17T19:47:30.313Z"
   },
   {
    "duration": 0,
    "start_time": "2025-02-17T19:47:30.314Z"
   },
   {
    "duration": 0,
    "start_time": "2025-02-17T19:47:30.315Z"
   },
   {
    "duration": 0,
    "start_time": "2025-02-17T19:47:30.373Z"
   },
   {
    "duration": 0,
    "start_time": "2025-02-17T19:47:30.374Z"
   },
   {
    "duration": 0,
    "start_time": "2025-02-17T19:47:30.375Z"
   },
   {
    "duration": 0,
    "start_time": "2025-02-17T19:47:30.376Z"
   },
   {
    "duration": 0,
    "start_time": "2025-02-17T19:47:30.378Z"
   },
   {
    "duration": 0,
    "start_time": "2025-02-17T19:47:30.379Z"
   },
   {
    "duration": 0,
    "start_time": "2025-02-17T19:47:30.380Z"
   },
   {
    "duration": 0,
    "start_time": "2025-02-17T19:47:30.381Z"
   },
   {
    "duration": 0,
    "start_time": "2025-02-17T19:47:30.382Z"
   },
   {
    "duration": 0,
    "start_time": "2025-02-17T19:47:30.384Z"
   },
   {
    "duration": 0,
    "start_time": "2025-02-17T19:47:30.385Z"
   },
   {
    "duration": 0,
    "start_time": "2025-02-17T19:47:30.386Z"
   },
   {
    "duration": 0,
    "start_time": "2025-02-17T19:47:30.387Z"
   },
   {
    "duration": 0,
    "start_time": "2025-02-17T19:47:30.388Z"
   },
   {
    "duration": 0,
    "start_time": "2025-02-17T19:47:30.389Z"
   },
   {
    "duration": 0,
    "start_time": "2025-02-17T19:47:30.390Z"
   },
   {
    "duration": 0,
    "start_time": "2025-02-17T19:47:30.391Z"
   },
   {
    "duration": 0,
    "start_time": "2025-02-17T19:47:30.392Z"
   },
   {
    "duration": 0,
    "start_time": "2025-02-17T19:47:30.394Z"
   },
   {
    "duration": 0,
    "start_time": "2025-02-17T19:47:30.395Z"
   },
   {
    "duration": 0,
    "start_time": "2025-02-17T19:47:30.396Z"
   },
   {
    "duration": 0,
    "start_time": "2025-02-17T19:47:30.397Z"
   },
   {
    "duration": 2823,
    "start_time": "2025-02-17T19:50:06.974Z"
   },
   {
    "duration": 2708,
    "start_time": "2025-02-17T19:50:09.799Z"
   },
   {
    "duration": 1944,
    "start_time": "2025-02-17T19:50:12.509Z"
   },
   {
    "duration": 3,
    "start_time": "2025-02-17T19:50:14.455Z"
   },
   {
    "duration": 5,
    "start_time": "2025-02-17T19:50:14.460Z"
   },
   {
    "duration": 7964,
    "start_time": "2025-02-17T19:50:14.471Z"
   },
   {
    "duration": 45,
    "start_time": "2025-02-17T19:50:22.437Z"
   },
   {
    "duration": 379,
    "start_time": "2025-02-17T19:50:22.484Z"
   },
   {
    "duration": 110,
    "start_time": "2025-02-17T19:50:22.865Z"
   },
   {
    "duration": 219,
    "start_time": "2025-02-17T19:50:22.977Z"
   },
   {
    "duration": 283,
    "start_time": "2025-02-17T19:50:23.198Z"
   },
   {
    "duration": 546,
    "start_time": "2025-02-17T19:50:23.482Z"
   },
   {
    "duration": 600,
    "start_time": "2025-02-17T19:50:24.030Z"
   },
   {
    "duration": 162,
    "start_time": "2025-02-17T19:50:24.633Z"
   },
   {
    "duration": 521,
    "start_time": "2025-02-17T19:50:24.797Z"
   },
   {
    "duration": 287,
    "start_time": "2025-02-17T19:50:25.320Z"
   },
   {
    "duration": 308,
    "start_time": "2025-02-17T19:50:25.609Z"
   },
   {
    "duration": 3727,
    "start_time": "2025-02-17T19:50:25.918Z"
   },
   {
    "duration": 281,
    "start_time": "2025-02-17T19:50:29.647Z"
   },
   {
    "duration": 13072,
    "start_time": "2025-02-17T19:50:29.930Z"
   },
   {
    "duration": 16,
    "start_time": "2025-02-17T19:50:43.004Z"
   },
   {
    "duration": 5,
    "start_time": "2025-02-17T19:50:43.021Z"
   },
   {
    "duration": 110,
    "start_time": "2025-02-17T19:50:43.028Z"
   },
   {
    "duration": 119,
    "start_time": "2025-02-17T19:50:43.140Z"
   },
   {
    "duration": 33,
    "start_time": "2025-02-17T19:50:43.261Z"
   },
   {
    "duration": 122,
    "start_time": "2025-02-17T19:50:43.296Z"
   },
   {
    "duration": 1047,
    "start_time": "2025-02-17T19:50:43.420Z"
   },
   {
    "duration": 136,
    "start_time": "2025-02-17T19:50:44.473Z"
   },
   {
    "duration": 4,
    "start_time": "2025-02-17T19:50:44.611Z"
   },
   {
    "duration": 8,
    "start_time": "2025-02-17T19:50:44.617Z"
   },
   {
    "duration": 182,
    "start_time": "2025-02-17T19:50:44.626Z"
   },
   {
    "duration": 17,
    "start_time": "2025-02-17T19:50:44.810Z"
   },
   {
    "duration": 19,
    "start_time": "2025-02-17T19:50:44.828Z"
   },
   {
    "duration": 28,
    "start_time": "2025-02-17T19:50:44.872Z"
   },
   {
    "duration": 29,
    "start_time": "2025-02-17T19:50:44.902Z"
   },
   {
    "duration": 21,
    "start_time": "2025-02-17T19:50:44.933Z"
   },
   {
    "duration": 39,
    "start_time": "2025-02-17T19:50:44.956Z"
   },
   {
    "duration": 246,
    "start_time": "2025-02-17T19:50:44.996Z"
   },
   {
    "duration": 209,
    "start_time": "2025-02-17T19:50:45.244Z"
   },
   {
    "duration": 864,
    "start_time": "2025-02-17T19:50:45.471Z"
   },
   {
    "duration": 41,
    "start_time": "2025-02-17T19:50:46.340Z"
   },
   {
    "duration": 7630,
    "start_time": "2025-02-17T19:50:46.383Z"
   },
   {
    "duration": 25,
    "start_time": "2025-02-17T19:50:54.014Z"
   },
   {
    "duration": 100,
    "start_time": "2025-02-17T19:50:54.041Z"
   },
   {
    "duration": 115,
    "start_time": "2025-02-17T19:50:54.143Z"
   },
   {
    "duration": 51,
    "start_time": "2025-02-17T19:50:54.260Z"
   },
   {
    "duration": 119,
    "start_time": "2025-02-17T19:50:54.313Z"
   },
   {
    "duration": 142,
    "start_time": "2025-02-17T19:50:54.434Z"
   },
   {
    "duration": 118,
    "start_time": "2025-02-17T19:50:54.578Z"
   },
   {
    "duration": 6,
    "start_time": "2025-02-17T19:50:54.697Z"
   },
   {
    "duration": 1329394,
    "start_time": "2025-02-17T19:50:54.704Z"
   },
   {
    "duration": 305,
    "start_time": "2025-02-17T20:13:04.099Z"
   },
   {
    "duration": 407577,
    "start_time": "2025-02-17T20:13:04.406Z"
   },
   {
    "duration": 249747,
    "start_time": "2025-02-17T20:19:51.985Z"
   },
   {
    "duration": 109846,
    "start_time": "2025-02-17T20:24:01.734Z"
   },
   {
    "duration": 351,
    "start_time": "2025-02-17T20:25:51.582Z"
   },
   {
    "duration": 19,
    "start_time": "2025-02-17T20:25:51.935Z"
   },
   {
    "duration": 5,
    "start_time": "2025-02-17T20:25:51.972Z"
   },
   {
    "duration": 1081,
    "start_time": "2025-02-17T20:25:51.979Z"
   },
   {
    "duration": 527,
    "start_time": "2025-02-17T20:25:53.071Z"
   },
   {
    "duration": 256,
    "start_time": "2025-02-17T20:25:53.599Z"
   },
   {
    "duration": 788,
    "start_time": "2025-02-17T20:25:53.857Z"
   },
   {
    "duration": 190,
    "start_time": "2025-02-17T20:25:54.647Z"
   },
   {
    "duration": 6,
    "start_time": "2025-02-17T20:46:26.884Z"
   },
   {
    "duration": 246270,
    "start_time": "2025-02-17T20:46:38.434Z"
   },
   {
    "duration": 246224,
    "start_time": "2025-02-17T20:51:33.385Z"
   },
   {
    "duration": 108734,
    "start_time": "2025-02-17T20:55:56.546Z"
   },
   {
    "duration": 107625,
    "start_time": "2025-02-17T20:59:17.349Z"
   },
   {
    "duration": 2683,
    "start_time": "2025-02-17T21:01:51.145Z"
   },
   {
    "duration": 2662,
    "start_time": "2025-02-17T21:01:53.831Z"
   },
   {
    "duration": 1913,
    "start_time": "2025-02-17T21:01:56.495Z"
   },
   {
    "duration": 2,
    "start_time": "2025-02-17T21:01:58.411Z"
   },
   {
    "duration": 41,
    "start_time": "2025-02-17T21:01:58.415Z"
   },
   {
    "duration": 8160,
    "start_time": "2025-02-17T21:01:58.459Z"
   },
   {
    "duration": 43,
    "start_time": "2025-02-17T21:02:06.621Z"
   },
   {
    "duration": 412,
    "start_time": "2025-02-17T21:02:06.666Z"
   },
   {
    "duration": 114,
    "start_time": "2025-02-17T21:02:07.080Z"
   },
   {
    "duration": 233,
    "start_time": "2025-02-17T21:02:07.197Z"
   },
   {
    "duration": 282,
    "start_time": "2025-02-17T21:02:07.432Z"
   },
   {
    "duration": 556,
    "start_time": "2025-02-17T21:02:07.716Z"
   },
   {
    "duration": 589,
    "start_time": "2025-02-17T21:02:08.274Z"
   },
   {
    "duration": 163,
    "start_time": "2025-02-17T21:02:08.864Z"
   },
   {
    "duration": 561,
    "start_time": "2025-02-17T21:02:09.028Z"
   },
   {
    "duration": 287,
    "start_time": "2025-02-17T21:02:09.591Z"
   },
   {
    "duration": 318,
    "start_time": "2025-02-17T21:02:09.880Z"
   },
   {
    "duration": 564,
    "start_time": "2025-02-17T21:02:10.202Z"
   },
   {
    "duration": 280,
    "start_time": "2025-02-17T21:02:10.768Z"
   },
   {
    "duration": 12088,
    "start_time": "2025-02-17T21:02:11.050Z"
   },
   {
    "duration": 16,
    "start_time": "2025-02-17T21:02:23.139Z"
   },
   {
    "duration": 16,
    "start_time": "2025-02-17T21:02:23.157Z"
   },
   {
    "duration": 98,
    "start_time": "2025-02-17T21:02:23.175Z"
   },
   {
    "duration": 118,
    "start_time": "2025-02-17T21:02:23.275Z"
   },
   {
    "duration": 25,
    "start_time": "2025-02-17T21:02:23.395Z"
   },
   {
    "duration": 136,
    "start_time": "2025-02-17T21:02:23.421Z"
   },
   {
    "duration": 1177,
    "start_time": "2025-02-17T21:02:23.559Z"
   },
   {
    "duration": 143,
    "start_time": "2025-02-17T21:02:24.740Z"
   },
   {
    "duration": 4,
    "start_time": "2025-02-17T21:02:24.885Z"
   },
   {
    "duration": 9,
    "start_time": "2025-02-17T21:02:24.891Z"
   },
   {
    "duration": 177,
    "start_time": "2025-02-17T21:02:24.902Z"
   },
   {
    "duration": 17,
    "start_time": "2025-02-17T21:02:25.081Z"
   },
   {
    "duration": 45,
    "start_time": "2025-02-17T21:02:25.100Z"
   },
   {
    "duration": 27,
    "start_time": "2025-02-17T21:02:25.146Z"
   },
   {
    "duration": 16,
    "start_time": "2025-02-17T21:02:25.175Z"
   },
   {
    "duration": 31,
    "start_time": "2025-02-17T21:02:25.193Z"
   },
   {
    "duration": 25,
    "start_time": "2025-02-17T21:02:25.226Z"
   },
   {
    "duration": 236,
    "start_time": "2025-02-17T21:02:25.253Z"
   },
   {
    "duration": 210,
    "start_time": "2025-02-17T21:02:25.491Z"
   },
   {
    "duration": 846,
    "start_time": "2025-02-17T21:02:25.702Z"
   },
   {
    "duration": 39,
    "start_time": "2025-02-17T21:02:26.550Z"
   },
   {
    "duration": 7429,
    "start_time": "2025-02-17T21:02:26.592Z"
   },
   {
    "duration": 24,
    "start_time": "2025-02-17T21:02:34.022Z"
   },
   {
    "duration": 104,
    "start_time": "2025-02-17T21:02:34.048Z"
   },
   {
    "duration": 107,
    "start_time": "2025-02-17T21:02:34.154Z"
   },
   {
    "duration": 50,
    "start_time": "2025-02-17T21:02:34.263Z"
   },
   {
    "duration": 184,
    "start_time": "2025-02-17T21:02:34.314Z"
   },
   {
    "duration": 139,
    "start_time": "2025-02-17T21:02:34.499Z"
   },
   {
    "duration": 114,
    "start_time": "2025-02-17T21:02:34.639Z"
   },
   {
    "duration": 6,
    "start_time": "2025-02-17T21:02:34.755Z"
   },
   {
    "duration": 1311292,
    "start_time": "2025-02-17T21:02:34.762Z"
   },
   {
    "duration": 294,
    "start_time": "2025-02-17T21:24:26.056Z"
   },
   {
    "duration": 398225,
    "start_time": "2025-02-17T21:24:26.352Z"
   },
   {
    "duration": 247384,
    "start_time": "2025-02-17T21:31:04.579Z"
   },
   {
    "duration": 103817,
    "start_time": "2025-02-17T21:35:11.965Z"
   },
   {
    "duration": 278,
    "start_time": "2025-02-17T21:36:55.879Z"
   },
   {
    "duration": 22,
    "start_time": "2025-02-17T21:36:56.158Z"
   },
   {
    "duration": 5,
    "start_time": "2025-02-17T21:36:56.182Z"
   },
   {
    "duration": 1068,
    "start_time": "2025-02-17T21:36:56.189Z"
   },
   {
    "duration": 532,
    "start_time": "2025-02-17T21:36:57.259Z"
   },
   {
    "duration": 253,
    "start_time": "2025-02-17T21:36:57.793Z"
   },
   {
    "duration": 810,
    "start_time": "2025-02-17T21:36:58.048Z"
   },
   {
    "duration": 196,
    "start_time": "2025-02-17T21:36:58.859Z"
   },
   {
    "duration": 5,
    "start_time": "2025-02-17T21:38:28.413Z"
   },
   {
    "duration": 1062,
    "start_time": "2025-02-17T21:38:29.210Z"
   },
   {
    "duration": 523,
    "start_time": "2025-02-17T21:38:36.957Z"
   },
   {
    "duration": 241,
    "start_time": "2025-02-17T21:39:24.214Z"
   },
   {
    "duration": 2660,
    "start_time": "2025-02-17T21:40:43.270Z"
   },
   {
    "duration": 2650,
    "start_time": "2025-02-17T21:40:45.932Z"
   },
   {
    "duration": 1929,
    "start_time": "2025-02-17T21:40:48.584Z"
   },
   {
    "duration": 3,
    "start_time": "2025-02-17T21:40:50.515Z"
   },
   {
    "duration": 16,
    "start_time": "2025-02-17T21:40:50.519Z"
   },
   {
    "duration": 9006,
    "start_time": "2025-02-17T21:40:50.536Z"
   },
   {
    "duration": 34,
    "start_time": "2025-02-17T21:40:59.544Z"
   },
   {
    "duration": 368,
    "start_time": "2025-02-17T21:40:59.580Z"
   },
   {
    "duration": 116,
    "start_time": "2025-02-17T21:40:59.950Z"
   },
   {
    "duration": 233,
    "start_time": "2025-02-17T21:41:00.069Z"
   },
   {
    "duration": 283,
    "start_time": "2025-02-17T21:41:00.304Z"
   },
   {
    "duration": 558,
    "start_time": "2025-02-17T21:41:00.588Z"
   },
   {
    "duration": 609,
    "start_time": "2025-02-17T21:41:01.148Z"
   },
   {
    "duration": 161,
    "start_time": "2025-02-17T21:41:01.759Z"
   },
   {
    "duration": 556,
    "start_time": "2025-02-17T21:41:01.922Z"
   },
   {
    "duration": 292,
    "start_time": "2025-02-17T21:41:02.480Z"
   },
   {
    "duration": 308,
    "start_time": "2025-02-17T21:41:02.774Z"
   },
   {
    "duration": 543,
    "start_time": "2025-02-17T21:41:03.084Z"
   },
   {
    "duration": 288,
    "start_time": "2025-02-17T21:41:03.628Z"
   },
   {
    "duration": 8419,
    "start_time": "2025-02-17T21:41:03.919Z"
   },
   {
    "duration": 14,
    "start_time": "2025-02-17T21:41:12.340Z"
   },
   {
    "duration": 17,
    "start_time": "2025-02-17T21:41:12.356Z"
   },
   {
    "duration": 111,
    "start_time": "2025-02-17T21:41:12.374Z"
   },
   {
    "duration": 112,
    "start_time": "2025-02-17T21:41:12.487Z"
   },
   {
    "duration": 23,
    "start_time": "2025-02-17T21:41:12.601Z"
   },
   {
    "duration": 128,
    "start_time": "2025-02-17T21:41:12.626Z"
   },
   {
    "duration": 1123,
    "start_time": "2025-02-17T21:41:12.756Z"
   },
   {
    "duration": 140,
    "start_time": "2025-02-17T21:41:13.883Z"
   },
   {
    "duration": 4,
    "start_time": "2025-02-17T21:41:14.025Z"
   },
   {
    "duration": 12,
    "start_time": "2025-02-17T21:41:14.030Z"
   },
   {
    "duration": 184,
    "start_time": "2025-02-17T21:41:14.044Z"
   },
   {
    "duration": 18,
    "start_time": "2025-02-17T21:41:14.230Z"
   },
   {
    "duration": 32,
    "start_time": "2025-02-17T21:41:14.250Z"
   },
   {
    "duration": 26,
    "start_time": "2025-02-17T21:41:14.284Z"
   },
   {
    "duration": 16,
    "start_time": "2025-02-17T21:41:14.311Z"
   },
   {
    "duration": 49,
    "start_time": "2025-02-17T21:41:14.329Z"
   },
   {
    "duration": 24,
    "start_time": "2025-02-17T21:41:14.379Z"
   },
   {
    "duration": 227,
    "start_time": "2025-02-17T21:41:14.404Z"
   },
   {
    "duration": 208,
    "start_time": "2025-02-17T21:41:14.632Z"
   },
   {
    "duration": 865,
    "start_time": "2025-02-17T21:41:14.842Z"
   },
   {
    "duration": 30,
    "start_time": "2025-02-17T21:41:15.709Z"
   },
   {
    "duration": 7159,
    "start_time": "2025-02-17T21:41:15.741Z"
   },
   {
    "duration": 25,
    "start_time": "2025-02-17T21:41:22.902Z"
   },
   {
    "duration": 83,
    "start_time": "2025-02-17T21:41:22.929Z"
   },
   {
    "duration": 109,
    "start_time": "2025-02-17T21:41:23.014Z"
   },
   {
    "duration": 52,
    "start_time": "2025-02-17T21:41:23.126Z"
   },
   {
    "duration": 109,
    "start_time": "2025-02-17T21:41:23.179Z"
   },
   {
    "duration": 141,
    "start_time": "2025-02-17T21:41:23.290Z"
   },
   {
    "duration": 110,
    "start_time": "2025-02-17T21:41:23.433Z"
   },
   {
    "duration": 6,
    "start_time": "2025-02-17T21:41:23.545Z"
   },
   {
    "duration": 1307739,
    "start_time": "2025-02-17T21:41:23.552Z"
   },
   {
    "duration": 309,
    "start_time": "2025-02-17T22:03:11.292Z"
   },
   {
    "duration": 383076,
    "start_time": "2025-02-17T22:03:11.603Z"
   },
   {
    "duration": 250974,
    "start_time": "2025-02-17T22:09:34.681Z"
   },
   {
    "duration": 108016,
    "start_time": "2025-02-17T22:13:45.657Z"
   },
   {
    "duration": 270,
    "start_time": "2025-02-17T22:15:33.676Z"
   },
   {
    "duration": 25,
    "start_time": "2025-02-17T22:15:33.948Z"
   },
   {
    "duration": 5,
    "start_time": "2025-02-17T22:15:33.975Z"
   },
   {
    "duration": 1095,
    "start_time": "2025-02-17T22:15:33.982Z"
   },
   {
    "duration": 543,
    "start_time": "2025-02-17T22:15:35.079Z"
   },
   {
    "duration": 266,
    "start_time": "2025-02-17T22:15:35.624Z"
   },
   {
    "duration": 794,
    "start_time": "2025-02-17T22:15:35.892Z"
   },
   {
    "duration": 180,
    "start_time": "2025-02-17T22:15:36.687Z"
   }
  ],
  "kernelspec": {
   "display_name": "Python 3 (ipykernel)",
   "language": "python",
   "name": "python3"
  },
  "language_info": {
   "codemirror_mode": {
    "name": "ipython",
    "version": 3
   },
   "file_extension": ".py",
   "mimetype": "text/x-python",
   "name": "python",
   "nbconvert_exporter": "python",
   "pygments_lexer": "ipython3",
   "version": "3.9.5"
  },
  "toc": {
   "base_numbering": 1,
   "nav_menu": {},
   "number_sections": false,
   "sideBar": true,
   "skip_h1_title": false,
   "title_cell": "Table of Contents",
   "title_sidebar": "Contents",
   "toc_cell": false,
   "toc_position": {
    "height": "calc(100% - 180px)",
    "left": "10px",
    "top": "150px",
    "width": "191px"
   },
   "toc_section_display": true,
   "toc_window_display": true
  },
  "varInspector": {
   "cols": {
    "lenName": 16,
    "lenType": 16,
    "lenVar": 40
   },
   "kernels_config": {
    "python": {
     "delete_cmd_postfix": "",
     "delete_cmd_prefix": "del ",
     "library": "var_list.py",
     "varRefreshCmd": "print(var_dic_list())"
    },
    "r": {
     "delete_cmd_postfix": ") ",
     "delete_cmd_prefix": "rm(",
     "library": "var_list.r",
     "varRefreshCmd": "cat(var_dic_list()) "
    }
   },
   "types_to_exclude": [
    "module",
    "function",
    "builtin_function_or_method",
    "instance",
    "_Feature"
   ],
   "window_display": false
  }
 },
 "nbformat": 4,
 "nbformat_minor": 5
}
