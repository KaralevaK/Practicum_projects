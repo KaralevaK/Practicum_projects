{
 "cells": [
  {
   "cell_type": "markdown",
   "metadata": {},
   "source": [
    "# Проект: Определение стоимости автомобилей"
   ]
  },
  {
   "cell_type": "markdown",
   "metadata": {},
   "source": [
    "__Заказчик__: сервис по продаже автомобилей с пробегом «Не бит, не крашен»\n",
    "\n",
    "__Цель проекта__: построение модели для предсказания стоимости автомобиля\n",
    "\n",
    "__Данные__: технические характеристики, комплектации и цены автомобилей\n",
    "    \n",
    "__Оценка модели__:\n",
    "- метрика RMSE (должно быть меньше 2500)\n",
    "\n",
    "__Критерии, которые важны заказчику__:\n",
    "- качество предсказания;\n",
    "- время предсказания модели;\n",
    "- время обучения модели."
   ]
  },
  {
   "cell_type": "markdown",
   "metadata": {},
   "source": [
    "## Подготовка данных"
   ]
  },
  {
   "cell_type": "code",
   "execution_count": null,
   "metadata": {},
   "outputs": [],
   "source": [
    "#!pip install -q phik"
   ]
  },
  {
   "cell_type": "code",
   "execution_count": null,
   "metadata": {},
   "outputs": [],
   "source": [
    "# импорты\n",
    "from time import time\n",
    "import warnings\n",
    "\n",
    "import datetime as dt\n",
    "import numpy as np  \n",
    "import pandas as pd\n",
    "import matplotlib.pyplot as plt\n",
    "import seaborn as sns\n",
    "\n",
    "from phik import phik_matrix\n",
    "from phik.report import plot_correlation_matrix\n",
    "\n",
    "from catboost import CatBoostRegressor \n",
    "from lightgbm import LGBMRegressor\n",
    "from sklearn.compose import ColumnTransformer\n",
    "from sklearn.dummy import DummyRegressor\n",
    "from sklearn.metrics import mean_squared_error\n",
    "from sklearn.model_selection import GridSearchCV, train_test_split\n",
    "from sklearn.pipeline import Pipeline\n",
    "from sklearn.preprocessing import OrdinalEncoder\n",
    "from sklearn.tree import DecisionTreeRegressor\n",
    "\n",
    "# отключение предупреждений\n",
    "warnings.filterwarnings(\"ignore\", category=UserWarning)\n",
    "\n",
    "# константы\n",
    "TEST_SIZE = 0.25\n",
    "TITLE_SIZE = 16\n",
    "LABEL_SIZE = 14\n",
    "RANDOM_STATE = 42"
   ]
  },
  {
   "cell_type": "markdown",
   "metadata": {},
   "source": [
    "### Загрузка данных"
   ]
  },
  {
   "cell_type": "code",
   "execution_count": null,
   "metadata": {},
   "outputs": [],
   "source": [
    "data = pd.read_csv('/datasets/cars.csv',\n",
    "                       parse_dates=['DateCrawled', 'DateCreated', 'LastSeen'])"
   ]
  },
  {
   "cell_type": "code",
   "execution_count": 6,
   "metadata": {},
   "outputs": [
    {
     "name": "stdout",
     "output_type": "stream",
     "text": [
      "<class 'pandas.core.frame.DataFrame'>\n",
      "RangeIndex: 354369 entries, 0 to 354368\n",
      "Data columns (total 16 columns):\n",
      " #   Column             Non-Null Count   Dtype         \n",
      "---  ------             --------------   -----         \n",
      " 0   DateCrawled        354369 non-null  datetime64[ns]\n",
      " 1   Price              354369 non-null  int64         \n",
      " 2   VehicleType        316879 non-null  object        \n",
      " 3   RegistrationYear   354369 non-null  int64         \n",
      " 4   Gearbox            334536 non-null  object        \n",
      " 5   Power              354369 non-null  int64         \n",
      " 6   Model              334664 non-null  object        \n",
      " 7   Kilometer          354369 non-null  int64         \n",
      " 8   RegistrationMonth  354369 non-null  int64         \n",
      " 9   FuelType           321474 non-null  object        \n",
      " 10  Brand              354369 non-null  object        \n",
      " 11  Repaired           283215 non-null  object        \n",
      " 12  DateCreated        354369 non-null  datetime64[ns]\n",
      " 13  NumberOfPictures   354369 non-null  int64         \n",
      " 14  PostalCode         354369 non-null  int64         \n",
      " 15  LastSeen           354369 non-null  datetime64[ns]\n",
      "dtypes: datetime64[ns](3), int64(7), object(6)\n",
      "memory usage: 43.3+ MB\n"
     ]
    }
   ],
   "source": [
    "data.info()"
   ]
  },
  {
   "cell_type": "code",
   "execution_count": 7,
   "metadata": {},
   "outputs": [
    {
     "data": {
      "text/html": [
       "<div>\n",
       "<style scoped>\n",
       "    .dataframe tbody tr th:only-of-type {\n",
       "        vertical-align: middle;\n",
       "    }\n",
       "\n",
       "    .dataframe tbody tr th {\n",
       "        vertical-align: top;\n",
       "    }\n",
       "\n",
       "    .dataframe thead th {\n",
       "        text-align: right;\n",
       "    }\n",
       "</style>\n",
       "<table border=\"1\" class=\"dataframe\">\n",
       "  <thead>\n",
       "    <tr style=\"text-align: right;\">\n",
       "      <th></th>\n",
       "      <th>DateCrawled</th>\n",
       "      <th>Price</th>\n",
       "      <th>VehicleType</th>\n",
       "      <th>RegistrationYear</th>\n",
       "      <th>Gearbox</th>\n",
       "      <th>Power</th>\n",
       "      <th>Model</th>\n",
       "      <th>Kilometer</th>\n",
       "      <th>RegistrationMonth</th>\n",
       "      <th>FuelType</th>\n",
       "      <th>Brand</th>\n",
       "      <th>Repaired</th>\n",
       "      <th>DateCreated</th>\n",
       "      <th>NumberOfPictures</th>\n",
       "      <th>PostalCode</th>\n",
       "      <th>LastSeen</th>\n",
       "    </tr>\n",
       "  </thead>\n",
       "  <tbody>\n",
       "    <tr>\n",
       "      <th>0</th>\n",
       "      <td>2016-03-24 11:52:17</td>\n",
       "      <td>480</td>\n",
       "      <td>NaN</td>\n",
       "      <td>1993</td>\n",
       "      <td>manual</td>\n",
       "      <td>0</td>\n",
       "      <td>golf</td>\n",
       "      <td>150000</td>\n",
       "      <td>0</td>\n",
       "      <td>petrol</td>\n",
       "      <td>volkswagen</td>\n",
       "      <td>NaN</td>\n",
       "      <td>2016-03-24</td>\n",
       "      <td>0</td>\n",
       "      <td>70435</td>\n",
       "      <td>2016-04-07 03:16:57</td>\n",
       "    </tr>\n",
       "    <tr>\n",
       "      <th>1</th>\n",
       "      <td>2016-03-24 10:58:45</td>\n",
       "      <td>18300</td>\n",
       "      <td>coupe</td>\n",
       "      <td>2011</td>\n",
       "      <td>manual</td>\n",
       "      <td>190</td>\n",
       "      <td>NaN</td>\n",
       "      <td>125000</td>\n",
       "      <td>5</td>\n",
       "      <td>gasoline</td>\n",
       "      <td>audi</td>\n",
       "      <td>yes</td>\n",
       "      <td>2016-03-24</td>\n",
       "      <td>0</td>\n",
       "      <td>66954</td>\n",
       "      <td>2016-04-07 01:46:50</td>\n",
       "    </tr>\n",
       "    <tr>\n",
       "      <th>2</th>\n",
       "      <td>2016-03-14 12:52:21</td>\n",
       "      <td>9800</td>\n",
       "      <td>suv</td>\n",
       "      <td>2004</td>\n",
       "      <td>auto</td>\n",
       "      <td>163</td>\n",
       "      <td>grand</td>\n",
       "      <td>125000</td>\n",
       "      <td>8</td>\n",
       "      <td>gasoline</td>\n",
       "      <td>jeep</td>\n",
       "      <td>NaN</td>\n",
       "      <td>2016-03-14</td>\n",
       "      <td>0</td>\n",
       "      <td>90480</td>\n",
       "      <td>2016-04-05 12:47:46</td>\n",
       "    </tr>\n",
       "    <tr>\n",
       "      <th>3</th>\n",
       "      <td>2016-03-17 16:54:04</td>\n",
       "      <td>1500</td>\n",
       "      <td>small</td>\n",
       "      <td>2001</td>\n",
       "      <td>manual</td>\n",
       "      <td>75</td>\n",
       "      <td>golf</td>\n",
       "      <td>150000</td>\n",
       "      <td>6</td>\n",
       "      <td>petrol</td>\n",
       "      <td>volkswagen</td>\n",
       "      <td>no</td>\n",
       "      <td>2016-03-17</td>\n",
       "      <td>0</td>\n",
       "      <td>91074</td>\n",
       "      <td>2016-03-17 17:40:17</td>\n",
       "    </tr>\n",
       "    <tr>\n",
       "      <th>4</th>\n",
       "      <td>2016-03-31 17:25:20</td>\n",
       "      <td>3600</td>\n",
       "      <td>small</td>\n",
       "      <td>2008</td>\n",
       "      <td>manual</td>\n",
       "      <td>69</td>\n",
       "      <td>fabia</td>\n",
       "      <td>90000</td>\n",
       "      <td>7</td>\n",
       "      <td>gasoline</td>\n",
       "      <td>skoda</td>\n",
       "      <td>no</td>\n",
       "      <td>2016-03-31</td>\n",
       "      <td>0</td>\n",
       "      <td>60437</td>\n",
       "      <td>2016-04-06 10:17:21</td>\n",
       "    </tr>\n",
       "  </tbody>\n",
       "</table>\n",
       "</div>"
      ],
      "text/plain": [
       "          DateCrawled  Price VehicleType  RegistrationYear Gearbox  Power  \\\n",
       "0 2016-03-24 11:52:17    480         NaN              1993  manual      0   \n",
       "1 2016-03-24 10:58:45  18300       coupe              2011  manual    190   \n",
       "2 2016-03-14 12:52:21   9800         suv              2004    auto    163   \n",
       "3 2016-03-17 16:54:04   1500       small              2001  manual     75   \n",
       "4 2016-03-31 17:25:20   3600       small              2008  manual     69   \n",
       "\n",
       "   Model  Kilometer  RegistrationMonth  FuelType       Brand Repaired  \\\n",
       "0   golf     150000                  0    petrol  volkswagen      NaN   \n",
       "1    NaN     125000                  5  gasoline        audi      yes   \n",
       "2  grand     125000                  8  gasoline        jeep      NaN   \n",
       "3   golf     150000                  6    petrol  volkswagen       no   \n",
       "4  fabia      90000                  7  gasoline       skoda       no   \n",
       "\n",
       "  DateCreated  NumberOfPictures  PostalCode            LastSeen  \n",
       "0  2016-03-24                 0       70435 2016-04-07 03:16:57  \n",
       "1  2016-03-24                 0       66954 2016-04-07 01:46:50  \n",
       "2  2016-03-14                 0       90480 2016-04-05 12:47:46  \n",
       "3  2016-03-17                 0       91074 2016-03-17 17:40:17  \n",
       "4  2016-03-31                 0       60437 2016-04-06 10:17:21  "
      ]
     },
     "execution_count": 7,
     "metadata": {},
     "output_type": "execute_result"
    }
   ],
   "source": [
    "data.head(5)"
   ]
  },
  {
   "cell_type": "markdown",
   "metadata": {},
   "source": [
    "Всего в датасете 354369 записей. В некоторых столбцах есть пропуски. Запишем названия столбцов в змеином регистре."
   ]
  },
  {
   "cell_type": "code",
   "execution_count": 8,
   "metadata": {},
   "outputs": [
    {
     "data": {
      "text/plain": [
       "Index(['date_crawled', 'price', 'vehicle_type', 'registration_year', 'gearbox',\n",
       "       'power', 'model', 'kilometer', 'registration_month', 'fuel_type',\n",
       "       'brand', 'repaired', 'date_created', 'number_of_pictures',\n",
       "       'postal_code', 'last_seen'],\n",
       "      dtype='object')"
      ]
     },
     "execution_count": 8,
     "metadata": {},
     "output_type": "execute_result"
    }
   ],
   "source": [
    "data = data.rename(columns={'DateCrawled': 'date_crawled',\n",
    "                            'Price': 'price',\n",
    "                            'VehicleType': 'vehicle_type',\n",
    "                            'RegistrationYear':'registration_year',\n",
    "                            'Gearbox': 'gearbox',\n",
    "                            'Power': 'power',\n",
    "                            'Model': 'model',\n",
    "                            'Kilometer': 'kilometer',\n",
    "                            'RegistrationMonth': 'registration_month',\n",
    "                            'FuelType': 'fuel_type',\n",
    "                            'Brand': 'brand',\n",
    "                            'Repaired': 'repaired',\n",
    "                            'DateCreated': 'date_created',\n",
    "                            'NumberOfPictures': 'number_of_pictures',\n",
    "                            'PostalCode': 'postal_code',\n",
    "                            'LastSeen': 'last_seen'\n",
    "                           })\n",
    "data.columns"
   ]
  },
  {
   "cell_type": "markdown",
   "metadata": {},
   "source": [
    "### Предобработка данных"
   ]
  },
  {
   "cell_type": "markdown",
   "metadata": {},
   "source": [
    "Создадим копию датасета до обработки пропущенных и аномальных значений для контроля изменения размерности."
   ]
  },
  {
   "cell_type": "code",
   "execution_count": 9,
   "metadata": {},
   "outputs": [],
   "source": [
    "temp = data.copy()"
   ]
  },
  {
   "cell_type": "markdown",
   "metadata": {},
   "source": [
    "Изучим пропущенные значения."
   ]
  },
  {
   "cell_type": "code",
   "execution_count": 10,
   "metadata": {},
   "outputs": [
    {
     "data": {
      "image/png": "[encoded data removed]",
      "text/plain": [
       "<Figure size 1080x432 with 1 Axes>"
      ]
     },
     "metadata": {
      "needs_background": "light"
     },
     "output_type": "display_data"
    }
   ],
   "source": [
    "ax = (\n",
    "    (data.isna().mean() * 100)\n",
    "    .to_frame()\n",
    "    .rename(columns={0: 'percentage_of_missing_values'})\n",
    "    .query('percentage_of_missing_values > 0')\n",
    "    .sort_values(by='percentage_of_missing_values')\n",
    "    .plot(kind='barh', figsize=(15, 6),\n",
    "          title='Процент пропущенных значений в столбцах', legend=False, xlim=(0, 22))\n",
    ")\n",
    "ax.grid(axis='x')\n",
    "ax.set(xlabel='Процент пропущенных значений, %', ylabel='Столбцы c пропусками');\n",
    "\n",
    "# Добавление меток к столбцам с коррекцией координат для избежания перекрытия\n",
    "for p in ax.patches:\n",
    "    ax.annotate(f'{p.get_width():.2f}%', ((p.get_width()), p.get_y() + p.get_height() / 2))\n",
    "\n",
    "plt.show()"
   ]
  },
  {
   "cell_type": "markdown",
   "metadata": {},
   "source": [
    "Пропущенных значений довольно много, поэтому мы не можем их просто удалить. В целевом признаке пропусков нет.\n",
    "\n",
    "Признаки с пропущенными значениями являются важными характеристиками, которыми обычно интересуются покупатели. Логично предположить, что они будут оказывать влияние на целевой признак. Лучшей стратегией для заполнения пропусков в категориальных признаках выглядит использование значения по умолчанию. "
   ]
  },
  {
   "cell_type": "code",
   "execution_count": 11,
   "metadata": {},
   "outputs": [
    {
     "data": {
      "text/plain": [
       "date_crawled          0\n",
       "price                 0\n",
       "vehicle_type          0\n",
       "registration_year     0\n",
       "gearbox               0\n",
       "power                 0\n",
       "model                 0\n",
       "kilometer             0\n",
       "registration_month    0\n",
       "fuel_type             0\n",
       "brand                 0\n",
       "repaired              0\n",
       "date_created          0\n",
       "number_of_pictures    0\n",
       "postal_code           0\n",
       "last_seen             0\n",
       "dtype: int64"
      ]
     },
     "execution_count": 11,
     "metadata": {},
     "output_type": "execute_result"
    }
   ],
   "source": [
    "columns_to_replace = ['repaired', 'vehicle_type', 'fuel_type', 'gearbox', 'model']\n",
    "for column in columns_to_replace:\n",
    "    data[column] = data[column].fillna('unknown')\n",
    "data.isna().sum()"
   ]
  },
  {
   "cell_type": "markdown",
   "metadata": {},
   "source": [
    "Проверим данные на явные дубликаты."
   ]
  },
  {
   "cell_type": "code",
   "execution_count": 12,
   "metadata": {},
   "outputs": [
    {
     "data": {
      "text/plain": [
       "4"
      ]
     },
     "execution_count": 12,
     "metadata": {},
     "output_type": "execute_result"
    }
   ],
   "source": [
    "data.duplicated().sum()"
   ]
  },
  {
   "cell_type": "markdown",
   "metadata": {},
   "source": [
    "Удалим найденные дубликаты."
   ]
  },
  {
   "cell_type": "code",
   "execution_count": 13,
   "metadata": {},
   "outputs": [
    {
     "data": {
      "text/plain": [
       "0.9999887123309319"
      ]
     },
     "execution_count": 13,
     "metadata": {},
     "output_type": "execute_result"
    }
   ],
   "source": [
    "data = data.drop_duplicates()\n",
    "data.shape[0] / temp.shape[0]"
   ]
  },
  {
   "cell_type": "markdown",
   "metadata": {},
   "source": [
    "Поищем неявные дубликаты по признакам, непосредственно связанным с характеристиками машины, и по ее стоимости. "
   ]
  },
  {
   "cell_type": "code",
   "execution_count": 14,
   "metadata": {},
   "outputs": [
    {
     "data": {
      "text/plain": [
       "0.1270878660379435"
      ]
     },
     "execution_count": 14,
     "metadata": {},
     "output_type": "execute_result"
    }
   ],
   "source": [
    "columns = ['price',\n",
    "           'vehicle_type',\n",
    "           'registration_year',\n",
    "           'gearbox',\n",
    "           'power',\n",
    "           'model',\n",
    "           'kilometer',\n",
    "           'fuel_type',\n",
    "           'brand',\n",
    "           'repaired']\n",
    "data.duplicated(columns).sum() / temp.shape[0]"
   ]
  },
  {
   "cell_type": "markdown",
   "metadata": {},
   "source": [
    "Неявных дубликатов 12.7%, удалим их."
   ]
  },
  {
   "cell_type": "code",
   "execution_count": 15,
   "metadata": {},
   "outputs": [
    {
     "data": {
      "text/plain": [
       "0.8729008462929884"
      ]
     },
     "execution_count": 15,
     "metadata": {},
     "output_type": "execute_result"
    }
   ],
   "source": [
    "data = data.drop_duplicates(subset=columns, keep='first')\n",
    "data.shape[0] / temp.shape[0]"
   ]
  },
  {
   "cell_type": "markdown",
   "metadata": {},
   "source": [
    "### Исследовательский анализ данных"
   ]
  },
  {
   "cell_type": "code",
   "execution_count": 16,
   "metadata": {},
   "outputs": [],
   "source": [
    "def analyze_numerical_data(data, column, title, bins_number=100):\n",
    "    \"\"\"\n",
    "    Функция помогает при проведении статистического анализа количественных\n",
    "     признаков.\n",
    "\n",
    "    Принимает датасет, столбец для анализа и значение заголовка для вывода графика.\n",
    "    Может принимать bins для построения графика.\n",
    "\n",
    "    Выводит для колонки:\n",
    "    - гистограмму с отмеченным средним значением и медианой\n",
    "    - диаграмму размаха\n",
    "    \"\"\"\n",
    "\n",
    "    median = data[column].median()\n",
    "    mean = data[column].mean()\n",
    "\n",
    "    # Создаем фигуру и оси для гистограммы\n",
    "    fig, ax = plt.subplots(2, 1, figsize=(17, 10))\n",
    "\n",
    "    # Гистограмма\n",
    "    ax[0].hist(data[column], bins=bins_number, color='skyblue')\n",
    "    ax[0].set_title(f'Гистограмма для признака \"{title}\"', fontsize=TITLE_SIZE)\n",
    "    ax[0].set_xlabel(title, fontsize=LABEL_SIZE)\n",
    "    ax[0].set_ylabel('Частота', fontsize=LABEL_SIZE)\n",
    "    ax[0].grid(True)\n",
    "\n",
    "    ax[0].axvline(median, color='green', linestyle='dashed', linewidth=1.5,\n",
    "                  label=f'Медиана: {median:.2f}')\n",
    "    ax[0].axvline(mean, color='red', linestyle='dashed', linewidth=1.5,\n",
    "                  label=f'Среднее: {mean:.2f}')\n",
    "    ax[0].legend()\n",
    "\n",
    "    # Диаграмма размаха\n",
    "    ax[1] = data[[column]].boxplot(vert=False, ax=ax[1])\n",
    "    ax[1].set_title(f'Диаграмма размаха для признака \"{title}\"',\n",
    "                    fontsize=TITLE_SIZE)\n",
    "\n",
    "    plt.tight_layout()\n",
    "    # Установка вертикального отступа между графиками\n",
    "    plt.subplots_adjust(hspace=0.3)\n",
    "    plt.show()"
   ]
  },
  {
   "cell_type": "code",
   "execution_count": 17,
   "metadata": {},
   "outputs": [],
   "source": [
    "def analyze_discrete_data(data, column, title):\n",
    "    \"\"\"\n",
    "    Функция помогает при проведении статистического анализа дискретных численных признаков.\n",
    "\n",
    "    Принимает датасет, столбец для анализа и значение заголовка для вывода графика.\n",
    "\n",
    "    Выводит для колонки:\n",
    "    - описание данных\n",
    "    - график частот\n",
    "    - диаграмму размаха\n",
    "    \"\"\"\n",
    "     \n",
    "    # получим описание данных\n",
    "    print('\\033[1m' + title + '\\033[0m')\n",
    "    display(data[column].describe())\n",
    "        \n",
    "    # Создаем фигуру и оси\n",
    "    fig, ax = plt.subplots(2, 1, figsize=(17, 12))\n",
    "\n",
    "    # График частот\n",
    "    sns.countplot(x=data[column], ax=ax[0], palette='Blues')\n",
    "    ax[0].set_title(title, fontsize=TITLE_SIZE)\n",
    "    ax[0].set_xlabel(title, fontsize=LABEL_SIZE)\n",
    "    ax[0].set_ylabel('Частота', fontsize=LABEL_SIZE)\n",
    "    ax[0].grid(False)\n",
    "    # Добавление значений на столбцах\n",
    "    for p in ax[0].patches:\n",
    "        ax[0].annotate(f'{p.get_height():.0f}',\n",
    "                       (p.get_x() + p.get_width() / 2., p.get_height()),\n",
    "                       ha='center', va='center',\n",
    "                       fontsize=12, color='black',\n",
    "                       xytext=(0, 5), textcoords='offset points')\n",
    "\n",
    "    # Диаграмма размаха\n",
    "    ax[1] = data[[column]].boxplot(vert=False, ax=ax[1])\n",
    "    ax[1].set_title(f'Диаграмма размаха для признака \"{title}\"', fontsize=TITLE_SIZE)\n",
    "    \n",
    "    plt.tight_layout()\n",
    "    plt.subplots_adjust(hspace=0.3)\n",
    "    plt.show()"
   ]
  },
  {
   "cell_type": "code",
   "execution_count": 18,
   "metadata": {},
   "outputs": [],
   "source": [
    "def analyze_categorical_data(data, column):\n",
    "    \"\"\"\n",
    "    Функция используется при анализе категориальных данных.\n",
    "    Выводит на экран информацию:\n",
    "    - название столбца,\n",
    "    - число уникальных значений и уникальные значения,\n",
    "    - сгруппированную таблицу с числом записей, \n",
    "    процентом от общего числа,\n",
    "    медианным значением авто для каждой группы\n",
    " \n",
    "    Params:\n",
    "    data - датафрейм\n",
    "    column - столбец для анализа\n",
    "\n",
    "    Returns:\n",
    "    grouped_data - сгруппированные по столбцу column данные\n",
    "    min_median_row\n",
    "    max_median_row\n",
    "    \"\"\"\n",
    "\n",
    "    grouped_data = (\n",
    "        data\n",
    "        .groupby(column)\n",
    "        .agg(\n",
    "            count=('price', 'count'),\n",
    "            percent=('price', lambda x: 100 * x.count() / data.shape[0]),\n",
    "            median=('price', 'median')\n",
    "        )\n",
    "        .sort_values(by='count', ascending=False)\n",
    "    )\n",
    "    unique_values = data[column].unique()\n",
    "    print(f'Столбец {column}\\n')\n",
    "    print(f'Число уникальных значений: {data[column].nunique()}')\n",
    "    print(f'Уникальные значения {data[column].unique()}\\n')\n",
    "    print(grouped_data, '\\n')\n",
    "    min_median_row = grouped_data[grouped_data['median'] == grouped_data['median'].min()]\n",
    "    max_median_row = grouped_data[grouped_data['median'] == grouped_data['median'].max()]\n",
    "    print(f'Минимальная медианная стоимость:')\n",
    "    print(min_median_row)\n",
    "    print('Максимальная медианная стоимость:')\n",
    "    print(max_median_row)"
   ]
  },
  {
   "cell_type": "markdown",
   "metadata": {},
   "source": [
    "Датасет содержит 16 признаков.\n",
    "\n",
    "Неинформативные признаки:\n",
    "- date_crawled\n",
    "- date_created\n",
    "- last_seen\n",
    "- postal_code\n",
    "- registration_month\n",
    "\n",
    "На первый взгляд не должны влиять, но т.к. дает дополнительную информацию о состоянии автомобиля (наличие фото может оказать влияние на стоимость непосредственно в приложении), стоит проверить влияние:\n",
    "- number_of_pictures — количество фотографий автомобиля\n",
    "\n",
    "Числовые признаки:\n",
    "- registration_year — год регистрации автомобиля\n",
    "- power — мощность (л.с.)\n",
    "- kilometer — пробег (км)\n",
    "\n",
    "Категориальные признаки:\n",
    "- vehicle_type — тип автомобильного кузова\n",
    "- gearbox — тип коробки передач\n",
    "- model — модель автомобиля\n",
    "- fuel_type — тип топлива\n",
    "- brand — марка автомобиля\n",
    "- repaired — была машина в ремонте или нет\n",
    "\n",
    "Целевой признак: \n",
    "- price\n",
    "\n",
    "Отметим, что к анализу мы приступаем с 87,3% от изначальных данных."
   ]
  },
  {
   "cell_type": "markdown",
   "metadata": {},
   "source": [
    "__Неинформативные для модели признаки__"
   ]
  },
  {
   "cell_type": "code",
   "execution_count": 19,
   "metadata": {
    "scrolled": true
   },
   "outputs": [
    {
     "name": "stdout",
     "output_type": "stream",
     "text": [
      "Column: date_crawled\n",
      " min: 2016-03-05 14:06:24\n",
      " max: 2016-04-07 14:36:58\n",
      "Column: date_created\n",
      " min: 2014-03-10 00:00:00\n",
      " max: 2016-04-07 00:00:00\n"
     ]
    }
   ],
   "source": [
    "for column in ['date_crawled', 'date_created']:\n",
    "    print(f'Column: {column}\\n min: {data[column].min()}\\n max: {data[column].max()}')"
   ]
  },
  {
   "cell_type": "markdown",
   "metadata": {},
   "source": [
    "Датасет содержит данные, собранные с 10.03.2014 по 07.04.2016, данные были выгружены в период с 05.03.2016 по 07.04.2016 год. \n",
    "\n",
    "Эти признаки (date_crawled, date_created), а также registration_month, last_seen и postal_code, определенно не оказывают влияние на стоимость автомобиля. Не будем их использовать."
   ]
  },
  {
   "cell_type": "code",
   "execution_count": 20,
   "metadata": {},
   "outputs": [
    {
     "data": {
      "text/plain": [
       "(309329, 11)"
      ]
     },
     "execution_count": 20,
     "metadata": {},
     "output_type": "execute_result"
    }
   ],
   "source": [
    "data = data.drop(['date_crawled', 'date_created', 'last_seen',\n",
    "                  'postal_code', 'registration_month'], axis=1)\n",
    "data.shape"
   ]
  },
  {
   "cell_type": "markdown",
   "metadata": {},
   "source": [
    "__price (целевой признак)__"
   ]
  },
  {
   "cell_type": "code",
   "execution_count": 21,
   "metadata": {},
   "outputs": [
    {
     "data": {
      "text/plain": [
       "count    309329.000000\n",
       "mean       4486.937196\n",
       "std        4564.852796\n",
       "min           0.000000\n",
       "25%        1100.000000\n",
       "50%        2800.000000\n",
       "75%        6500.000000\n",
       "max       20000.000000\n",
       "Name: price, dtype: float64"
      ]
     },
     "execution_count": 21,
     "metadata": {},
     "output_type": "execute_result"
    }
   ],
   "source": [
    "data['price'].describe()"
   ]
  },
  {
   "cell_type": "code",
   "execution_count": 22,
   "metadata": {},
   "outputs": [
    {
     "data": {
      "image/png": "[encoded data removed]",
      "text/plain": [
       "<Figure size 1224x720 with 2 Axes>"
      ]
     },
     "metadata": {
      "needs_background": "light"
     },
     "output_type": "display_data"
    }
   ],
   "source": [
    "analyze_numerical_data(data, 'price', 'Рыночная стоимость автомобиля')"
   ]
  },
  {
   "cell_type": "markdown",
   "metadata": {},
   "source": [
    "Стоимость машин, равная 0, явно является аномалией. Удалим такие записи. "
   ]
  },
  {
   "cell_type": "code",
   "execution_count": 23,
   "metadata": {},
   "outputs": [
    {
     "data": {
      "text/plain": [
       "0.025126351345631247"
      ]
     },
     "execution_count": 23,
     "metadata": {},
     "output_type": "execute_result"
    }
   ],
   "source": [
    "data[data['price'] == 0].shape[0] / temp.shape[0]"
   ]
  },
  {
   "cell_type": "code",
   "execution_count": 24,
   "metadata": {},
   "outputs": [
    {
     "data": {
      "text/plain": [
       "0.8477744949473571"
      ]
     },
     "execution_count": 24,
     "metadata": {},
     "output_type": "execute_result"
    }
   ],
   "source": [
    "data = data.drop(data[(data['price'] == 0)].index)\n",
    "data.shape[0] / temp.shape[0]"
   ]
  },
  {
   "cell_type": "code",
   "execution_count": 25,
   "metadata": {},
   "outputs": [
    {
     "data": {
      "text/plain": [
       "0.17870919860371534"
      ]
     },
     "execution_count": 25,
     "metadata": {},
     "output_type": "execute_result"
    }
   ],
   "source": [
    "data[data['price'] < 1000].shape[0] / temp.shape[0]"
   ]
  },
  {
   "cell_type": "code",
   "execution_count": 26,
   "metadata": {},
   "outputs": [
    {
     "data": {
      "text/plain": [
       "0.06524272721372355"
      ]
     },
     "execution_count": 26,
     "metadata": {},
     "output_type": "execute_result"
    }
   ],
   "source": [
    "data[data['price'] < 500].shape[0] / temp.shape[0]"
   ]
  },
  {
   "cell_type": "code",
   "execution_count": 27,
   "metadata": {},
   "outputs": [],
   "source": [
    "# оставим только те автомобили, цена которых больше 500 евро\n",
    "data = data[data['price'] > 500]"
   ]
  },
  {
   "cell_type": "markdown",
   "metadata": {},
   "source": [
    "__Категориальные данные__"
   ]
  },
  {
   "cell_type": "code",
   "execution_count": 28,
   "metadata": {},
   "outputs": [
    {
     "name": "stdout",
     "output_type": "stream",
     "text": [
      "Столбец vehicle_type\n",
      "\n",
      "Число уникальных значений: 9\n",
      "Уникальные значения ['coupe' 'suv' 'small' 'sedan' 'convertible' 'bus' 'wagon' 'unknown'\n",
      " 'other']\n",
      "\n",
      "              count    percent  median\n",
      "vehicle_type                          \n",
      "sedan         71747  26.314207    3500\n",
      "small         55933  20.514203    2179\n",
      "wagon         51509  18.891640    3600\n",
      "bus           24789   9.091709    4444\n",
      "unknown       24764   9.082540    1999\n",
      "convertible   17483   6.412133    5800\n",
      "coupe         13310   4.881627    4650\n",
      "suv           10498   3.850287    8500\n",
      "other          2622   0.961655    2850 \n",
      "\n",
      "Минимальная медианная стоимость:\n",
      "              count  percent  median\n",
      "vehicle_type                        \n",
      "unknown       24764  9.08254    1999\n",
      "Максимальная медианная стоимость:\n",
      "              count   percent  median\n",
      "vehicle_type                         \n",
      "suv           10498  3.850287    8500\n"
     ]
    }
   ],
   "source": [
    "analyze_categorical_data(data, 'vehicle_type')"
   ]
  },
  {
   "cell_type": "markdown",
   "metadata": {},
   "source": [
    "Число уникальных значений признака vehicle_type - 8. Чаще всего встречаются значения 'sedan',\n",
    "'small', 'wagon'. Наибольшая медианная стоимость у авто с кузовом 'suv' - 8500, наименьшая - 2179, кузов 'small'."
   ]
  },
  {
   "cell_type": "code",
   "execution_count": 29,
   "metadata": {},
   "outputs": [
    {
     "name": "stdout",
     "output_type": "stream",
     "text": [
      "Столбец gearbox\n",
      "\n",
      "Число уникальных значений: 3\n",
      "Уникальные значения ['manual' 'auto' 'unknown']\n",
      "\n",
      "          count    percent  median\n",
      "gearbox                           \n",
      "manual   205092  75.220333    3000\n",
      "auto      56247  20.629367    5800\n",
      "unknown   11316   4.150300    2000 \n",
      "\n",
      "Минимальная медианная стоимость:\n",
      "         count  percent  median\n",
      "gearbox                        \n",
      "unknown  11316   4.1503    2000\n",
      "Максимальная медианная стоимость:\n",
      "         count    percent  median\n",
      "gearbox                          \n",
      "auto     56247  20.629367    5800\n"
     ]
    }
   ],
   "source": [
    "analyze_categorical_data(data, 'gearbox')"
   ]
  },
  {
   "cell_type": "markdown",
   "metadata": {},
   "source": [
    "Количество машин с ручной коробкой передач в несколько раз превышает количество машин с автоматической. При этом медианная стоимость машин с автоматической коробкой передач почти в 2 раза превышает стоимость машин с ручной коробкой передач."
   ]
  },
  {
   "cell_type": "code",
   "execution_count": 30,
   "metadata": {},
   "outputs": [
    {
     "name": "stdout",
     "output_type": "stream",
     "text": [
      "Столбец model\n",
      "\n",
      "Число уникальных значений: 251\n",
      "Уникальные значения ['unknown' 'grand' 'golf' 'fabia' '3er' '2_reihe' 'c_max' '3_reihe'\n",
      " 'passat' 'navara' 'twingo' 'a_klasse' 'scirocco' '5er' 'meriva' 'c4'\n",
      " 'civic' 'transporter' 'punto' 'e_klasse' 'clio' 'kadett' 'kangoo' 'other'\n",
      " 'one' 'fortwo' '1er' 'b_klasse' 'signum' 'astra' 'a8' 'jetta' 'polo'\n",
      " 'fiesta' 'c_klasse' 'micra' 'vito' 'sprinter' 'escort' 'forester'\n",
      " 'xc_reihe' 'scenic' 'a4' 'a1' 'insignia' 'combo' 'focus' 'tt' 'a6' 'jazz'\n",
      " 'slk' '7er' '80' '147' 'z_reihe' 'sportage' 'sorento' 'ibiza' 'mustang'\n",
      " 'eos' 'touran' 'getz' 'a3' 'ka' 'almera' 'megane' 'lupo' 'zafira' 'caddy'\n",
      " 'corsa' 'mondeo' 'cordoba' 'colt' 'impreza' 'vectra' 'berlingo' 'tiguan'\n",
      " 'i_reihe' 'espace' 'sharan' '6_reihe' 'panda' 'up' 'seicento' 'ceed'\n",
      " '5_reihe' 'yeti' 'octavia' 'mii' 'rx_reihe' '6er' 'modus' 'fox' 'matiz'\n",
      " 'beetle' 'c1' 'rio' 'touareg' 'logan' 'spider' 'omega' 'cuore' 's_max'\n",
      " 'a2' 'galaxy' 'c3' 'viano' 's_klasse' '1_reihe' 'avensis' 'roomster' 'sl'\n",
      " 'kaefer' 'santa' 'cooper' 'leon' '4_reihe' 'a5' '500' 'laguna'\n",
      " 'ptcruiser' 'clk' 'primera' 'x_reihe' 'exeo' '159' 'transit' 'juke'\n",
      " 'qashqai' 'v40' 'carisma' 'accord' 'corolla' 'lanos' 'phaeton' 'verso'\n",
      " 'swift' 'rav' 'picanto' 'boxster' 'kalos' 'superb' 'stilo' 'alhambra'\n",
      " 'roadster' 'galant' '90' 'crossfire' 'agila' 'duster' 'cr_reihe' 'v50'\n",
      " 'mx_reihe' 'c_reihe' 'v_klasse' 'm_klasse' 'yaris' 'c5' 'aygo' 'cc'\n",
      " 'carnival' '911' 'bora' 'forfour' 'cl' 'tigra' '156' '300c' '100' 'spark'\n",
      " 'kuga' 'x_type' 'ducato' 's_type' 'x_trail' 'toledo' 'altea' 'arosa'\n",
      " 'voyager' 'v70' 'antara' 'tucson' 'citigo' 'jimny' 'cayenne' 'wrangler'\n",
      " 'lybra' 'q7' 'lancer' 'captiva' 'fusion' 'c2' 'discovery' 'freelander'\n",
      " 'sandero' 'note' 'sirion' '900' 'cherokee' 'clubman' 'defender' '601'\n",
      " 'cx_reihe' 'legacy' 'pajero' 'auris' 'niva' 's60' 'm_reihe' 'nubira'\n",
      " 'vivaro' 'g_klasse' 'ypsilon' 'justy' 'lodgy' 'range_rover' '850' 'q3'\n",
      " 'serie_2' 'calibra' 'glk' 'charade' 'croma' 'bravo' 'outlander' 'doblo'\n",
      " 'musa' '9000' 'v60' 'aveo' 'r19' '200' '145' 'b_max' 'range_rover_sport'\n",
      " 'terios' 'move' 'rangerover' 'q5' 'range_rover_evoque' 'materia' 'gl'\n",
      " 'kalina' 'amarok' 'elefantino' 'delta' 'i3' 'samara' 'kappa' 'serie_3'\n",
      " 'serie_1']\n",
      "\n",
      "                    count   percent   median\n",
      "model                                       \n",
      "golf                20794  7.626488   3200.0\n",
      "other               20202  7.409363   3200.0\n",
      "3er                 15356  5.632026   3900.0\n",
      "unknown             13589  4.983954   2299.0\n",
      "polo                 8200  3.007464   2150.0\n",
      "...                   ...       ...      ...\n",
      "samara                  5  0.001834   1499.0\n",
      "rangerover              4  0.001467   2900.0\n",
      "serie_3                 3  0.001100  12500.0\n",
      "range_rover_evoque      1  0.000367  12500.0\n",
      "serie_1                 1  0.000367   3800.0\n",
      "\n",
      "[251 rows x 3 columns] \n",
      "\n",
      "Минимальная медианная стоимость:\n",
      "         count   percent  median\n",
      "model                           \n",
      "charade     12  0.004401   775.0\n",
      "Максимальная медианная стоимость:\n",
      "       count   percent   median\n",
      "model                          \n",
      "gl        11  0.004034  18999.0\n"
     ]
    }
   ],
   "source": [
    "analyze_categorical_data(data, 'model')"
   ]
  },
  {
   "cell_type": "code",
   "execution_count": 31,
   "metadata": {},
   "outputs": [
    {
     "data": {
      "text/plain": [
       "['100',\n",
       " '145',\n",
       " '147',\n",
       " '156',\n",
       " '159',\n",
       " '1_reihe',\n",
       " '1er',\n",
       " '200',\n",
       " '2_reihe',\n",
       " '300c',\n",
       " '3_reihe',\n",
       " '3er',\n",
       " '4_reihe',\n",
       " '500',\n",
       " '5_reihe',\n",
       " '5er',\n",
       " '601',\n",
       " '6_reihe',\n",
       " '6er',\n",
       " '7er',\n",
       " '80',\n",
       " '850',\n",
       " '90',\n",
       " '900',\n",
       " '9000',\n",
       " '911',\n",
       " 'a1',\n",
       " 'a2',\n",
       " 'a3',\n",
       " 'a4',\n",
       " 'a5',\n",
       " 'a6',\n",
       " 'a8',\n",
       " 'a_klasse',\n",
       " 'accord',\n",
       " 'agila',\n",
       " 'alhambra',\n",
       " 'almera',\n",
       " 'altea',\n",
       " 'amarok',\n",
       " 'antara',\n",
       " 'arosa',\n",
       " 'astra',\n",
       " 'auris',\n",
       " 'avensis',\n",
       " 'aveo',\n",
       " 'aygo',\n",
       " 'b_klasse',\n",
       " 'b_max',\n",
       " 'beetle',\n",
       " 'berlingo',\n",
       " 'bora',\n",
       " 'boxster',\n",
       " 'bravo',\n",
       " 'c1',\n",
       " 'c2',\n",
       " 'c3',\n",
       " 'c4',\n",
       " 'c5',\n",
       " 'c_klasse',\n",
       " 'c_max',\n",
       " 'c_reihe',\n",
       " 'caddy',\n",
       " 'calibra',\n",
       " 'captiva',\n",
       " 'carisma',\n",
       " 'carnival',\n",
       " 'cayenne',\n",
       " 'cc',\n",
       " 'ceed',\n",
       " 'charade',\n",
       " 'cherokee',\n",
       " 'citigo',\n",
       " 'civic',\n",
       " 'cl',\n",
       " 'clio',\n",
       " 'clk',\n",
       " 'clubman',\n",
       " 'colt',\n",
       " 'combo',\n",
       " 'cooper',\n",
       " 'cordoba',\n",
       " 'corolla',\n",
       " 'corsa',\n",
       " 'cr_reihe',\n",
       " 'croma',\n",
       " 'crossfire',\n",
       " 'cuore',\n",
       " 'cx_reihe',\n",
       " 'defender',\n",
       " 'delta',\n",
       " 'discovery',\n",
       " 'doblo',\n",
       " 'ducato',\n",
       " 'duster',\n",
       " 'e_klasse',\n",
       " 'elefantino',\n",
       " 'eos',\n",
       " 'escort',\n",
       " 'espace',\n",
       " 'exeo',\n",
       " 'fabia',\n",
       " 'fiesta',\n",
       " 'focus',\n",
       " 'forester',\n",
       " 'forfour',\n",
       " 'fortwo',\n",
       " 'fox',\n",
       " 'freelander',\n",
       " 'fusion',\n",
       " 'g_klasse',\n",
       " 'galant',\n",
       " 'galaxy',\n",
       " 'getz',\n",
       " 'gl',\n",
       " 'glk',\n",
       " 'golf',\n",
       " 'grand',\n",
       " 'i3',\n",
       " 'i_reihe',\n",
       " 'ibiza',\n",
       " 'impreza',\n",
       " 'insignia',\n",
       " 'jazz',\n",
       " 'jetta',\n",
       " 'jimny',\n",
       " 'juke',\n",
       " 'justy',\n",
       " 'ka',\n",
       " 'kadett',\n",
       " 'kaefer',\n",
       " 'kalina',\n",
       " 'kalos',\n",
       " 'kangoo',\n",
       " 'kappa',\n",
       " 'kuga',\n",
       " 'laguna',\n",
       " 'lancer',\n",
       " 'lanos',\n",
       " 'legacy',\n",
       " 'leon',\n",
       " 'lodgy',\n",
       " 'logan',\n",
       " 'lupo',\n",
       " 'lybra',\n",
       " 'm_klasse',\n",
       " 'm_reihe',\n",
       " 'materia',\n",
       " 'matiz',\n",
       " 'megane',\n",
       " 'meriva',\n",
       " 'micra',\n",
       " 'mii',\n",
       " 'modus',\n",
       " 'mondeo',\n",
       " 'move',\n",
       " 'musa',\n",
       " 'mustang',\n",
       " 'mx_reihe',\n",
       " 'navara',\n",
       " 'niva',\n",
       " 'note',\n",
       " 'nubira',\n",
       " 'octavia',\n",
       " 'omega',\n",
       " 'one',\n",
       " 'other',\n",
       " 'outlander',\n",
       " 'pajero',\n",
       " 'panda',\n",
       " 'passat',\n",
       " 'phaeton',\n",
       " 'picanto',\n",
       " 'polo',\n",
       " 'primera',\n",
       " 'ptcruiser',\n",
       " 'punto',\n",
       " 'q3',\n",
       " 'q5',\n",
       " 'q7',\n",
       " 'qashqai',\n",
       " 'r19',\n",
       " 'range_rover',\n",
       " 'range_rover_evoque',\n",
       " 'range_rover_sport',\n",
       " 'rangerover',\n",
       " 'rav',\n",
       " 'rio',\n",
       " 'roadster',\n",
       " 'roomster',\n",
       " 'rx_reihe',\n",
       " 's60',\n",
       " 's_klasse',\n",
       " 's_max',\n",
       " 's_type',\n",
       " 'samara',\n",
       " 'sandero',\n",
       " 'santa',\n",
       " 'scenic',\n",
       " 'scirocco',\n",
       " 'seicento',\n",
       " 'serie_1',\n",
       " 'serie_2',\n",
       " 'serie_3',\n",
       " 'sharan',\n",
       " 'signum',\n",
       " 'sirion',\n",
       " 'sl',\n",
       " 'slk',\n",
       " 'sorento',\n",
       " 'spark',\n",
       " 'spider',\n",
       " 'sportage',\n",
       " 'sprinter',\n",
       " 'stilo',\n",
       " 'superb',\n",
       " 'swift',\n",
       " 'terios',\n",
       " 'tigra',\n",
       " 'tiguan',\n",
       " 'toledo',\n",
       " 'touareg',\n",
       " 'touran',\n",
       " 'transit',\n",
       " 'transporter',\n",
       " 'tt',\n",
       " 'tucson',\n",
       " 'twingo',\n",
       " 'unknown',\n",
       " 'up',\n",
       " 'v40',\n",
       " 'v50',\n",
       " 'v60',\n",
       " 'v70',\n",
       " 'v_klasse',\n",
       " 'vectra',\n",
       " 'verso',\n",
       " 'viano',\n",
       " 'vito',\n",
       " 'vivaro',\n",
       " 'voyager',\n",
       " 'wrangler',\n",
       " 'x_reihe',\n",
       " 'x_trail',\n",
       " 'x_type',\n",
       " 'xc_reihe',\n",
       " 'yaris',\n",
       " 'yeti',\n",
       " 'ypsilon',\n",
       " 'z_reihe',\n",
       " 'zafira']"
      ]
     },
     "execution_count": 31,
     "metadata": {},
     "output_type": "execute_result"
    }
   ],
   "source": [
    "sorted(data['model'].dropna().unique())"
   ]
  },
  {
   "cell_type": "markdown",
   "metadata": {},
   "source": [
    "Медианная стоимость различных моделей предсказуемо различается - от 775 до 18999. Удалось заметить один неявный дубликат, избавимся от него."
   ]
  },
  {
   "cell_type": "code",
   "execution_count": 32,
   "metadata": {},
   "outputs": [],
   "source": [
    "data['model'] = data['model'].replace('rangerover', 'range_rover') "
   ]
  },
  {
   "cell_type": "code",
   "execution_count": 33,
   "metadata": {},
   "outputs": [
    {
     "name": "stdout",
     "output_type": "stream",
     "text": [
      "Столбец fuel_type\n",
      "\n",
      "Число уникальных значений: 8\n",
      "Уникальные значения ['gasoline' 'petrol' 'unknown' 'lpg' 'other' 'hybrid' 'cng' 'electric']\n",
      "\n",
      "            count    percent  median\n",
      "fuel_type                           \n",
      "petrol     163520  59.973226    2790\n",
      "gasoline    82058  30.095909    5500\n",
      "unknown     21599   7.921733    1990\n",
      "lpg          4575   1.677945    3100\n",
      "cng           490   0.179714    3900\n",
      "hybrid        212   0.077754   10850\n",
      "other         119   0.043645    2350\n",
      "electric       82   0.030075    5935 \n",
      "\n",
      "Минимальная медианная стоимость:\n",
      "           count   percent  median\n",
      "fuel_type                         \n",
      "unknown    21599  7.921733    1990\n",
      "Максимальная медианная стоимость:\n",
      "           count   percent  median\n",
      "fuel_type                         \n",
      "hybrid       212  0.077754   10850\n"
     ]
    }
   ],
   "source": [
    "analyze_categorical_data(data, 'fuel_type')"
   ]
  },
  {
   "cell_type": "code",
   "execution_count": 34,
   "metadata": {},
   "outputs": [],
   "source": [
    "data['fuel_type'] = data['fuel_type'].replace('gasoline', 'petrol') "
   ]
  },
  {
   "cell_type": "markdown",
   "metadata": {},
   "source": [
    "Дороже всего гибриды, их медианная стоимость - 10850, однако их количество менее 1%. Стоит отметить, что petrol и gasoline - один и тот же вид топлива, поэтому мы осуществили замену 'gasoline' на 'petrol'."
   ]
  },
  {
   "cell_type": "code",
   "execution_count": 35,
   "metadata": {},
   "outputs": [
    {
     "name": "stdout",
     "output_type": "stream",
     "text": [
      "Столбец brand\n",
      "\n",
      "Число уникальных значений: 40\n",
      "Уникальные значения ['audi' 'jeep' 'volkswagen' 'skoda' 'bmw' 'peugeot' 'ford' 'mazda'\n",
      " 'nissan' 'renault' 'mercedes_benz' 'opel' 'citroen' 'honda' 'fiat' 'mini'\n",
      " 'smart' 'hyundai' 'seat' 'subaru' 'volvo' 'mitsubishi' 'alfa_romeo' 'kia'\n",
      " 'suzuki' 'lancia' 'toyota' 'chevrolet' 'dacia' 'sonstige_autos'\n",
      " 'daihatsu' 'chrysler' 'jaguar' 'daewoo' 'rover' 'porsche' 'saab'\n",
      " 'trabant' 'land_rover' 'lada']\n",
      "\n",
      "                count    percent  median\n",
      "brand                                   \n",
      "volkswagen      56258  20.633401    3499\n",
      "bmw             29486  10.814399    5500\n",
      "opel            27695  10.157525    2100\n",
      "mercedes_benz   27412  10.053731    4500\n",
      "audi            23617   8.661862    5400\n",
      "ford            18167   6.662999    2300\n",
      "renault         12728   4.668170    1700\n",
      "peugeot          8659   3.175808    2550\n",
      "fiat             7046   2.584218    2200\n",
      "seat             5405   1.982359    3250\n",
      "skoda            4763   1.746896    4999\n",
      "smart            4665   1.710953    2950\n",
      "mazda            4425   1.622930    2800\n",
      "citroen          4243   1.556179    2800\n",
      "toyota           4093   1.501164    4190\n",
      "nissan           3829   1.404339    2500\n",
      "hyundai          3071   1.126332    4290\n",
      "mini             2814   1.032073    8490\n",
      "volvo            2557   0.937815    2950\n",
      "sonstige_autos   2350   0.861895    5200\n",
      "honda            2319   0.850525    2700\n",
      "mitsubishi       2294   0.841356    2250\n",
      "kia              2102   0.770938    3850\n",
      "suzuki           1907   0.699419    3450\n",
      "alfa_romeo       1854   0.679980    2700\n",
      "chevrolet        1571   0.576186    4300\n",
      "chrysler         1166   0.427647    2700\n",
      "dacia             817   0.299646    5100\n",
      "porsche           637   0.233629   12475\n",
      "jeep              611   0.224093    6000\n",
      "subaru            583   0.213823    2600\n",
      "daihatsu          537   0.196952    1490\n",
      "land_rover        493   0.180815    7000\n",
      "jaguar            458   0.167978    5300\n",
      "saab              435   0.159542    2750\n",
      "daewoo            375   0.137536    1150\n",
      "trabant           356   0.130568    1775\n",
      "lancia            340   0.124700    1500\n",
      "rover             329   0.120665    1250\n",
      "lada              188   0.068952    2800 \n",
      "\n",
      "Минимальная медианная стоимость:\n",
      "        count   percent  median\n",
      "brand                          \n",
      "daewoo    375  0.137536    1150\n",
      "Максимальная медианная стоимость:\n",
      "         count   percent  median\n",
      "brand                           \n",
      "porsche    637  0.233629   12475\n"
     ]
    }
   ],
   "source": [
    "analyze_categorical_data(data, 'brand')"
   ]
  },
  {
   "cell_type": "markdown",
   "metadata": {},
   "source": [
    "Неявных дубликатов не выявлено. Медианная стоимость самого дорогого бренда porsche составляет 12475, что в 10.8 раз превышает стоимость самого дешевого бренда."
   ]
  },
  {
   "cell_type": "code",
   "execution_count": 36,
   "metadata": {
    "scrolled": false
   },
   "outputs": [
    {
     "name": "stdout",
     "output_type": "stream",
     "text": [
      "Столбец repaired\n",
      "\n",
      "Число уникальных значений: 3\n",
      "Уникальные значения ['yes' 'unknown' 'no']\n",
      "\n",
      "           count    percent  median\n",
      "repaired                           \n",
      "no        201111  73.760246    4000\n",
      "unknown    48634  17.837194    2100\n",
      "yes        22910   8.402560    1500 \n",
      "\n",
      "Минимальная медианная стоимость:\n",
      "          count  percent  median\n",
      "repaired                        \n",
      "yes       22910  8.40256    1500\n",
      "Максимальная медианная стоимость:\n",
      "           count    percent  median\n",
      "repaired                           \n",
      "no        201111  73.760246    4000\n"
     ]
    }
   ],
   "source": [
    "analyze_categorical_data(data, 'repaired')"
   ]
  },
  {
   "cell_type": "markdown",
   "metadata": {},
   "source": [
    "Машины, которые не были в ремонте, в несколько раз дороже отремонтированных. В нашем датасете 73.76% машин не были в ремонте согласно анкетам."
   ]
  },
  {
   "cell_type": "markdown",
   "metadata": {},
   "source": [
    "__Числовые признаки__"
   ]
  },
  {
   "cell_type": "code",
   "execution_count": 37,
   "metadata": {},
   "outputs": [
    {
     "data": {
      "text/html": [
       "<div>\n",
       "<style scoped>\n",
       "    .dataframe tbody tr th:only-of-type {\n",
       "        vertical-align: middle;\n",
       "    }\n",
       "\n",
       "    .dataframe tbody tr th {\n",
       "        vertical-align: top;\n",
       "    }\n",
       "\n",
       "    .dataframe thead th {\n",
       "        text-align: right;\n",
       "    }\n",
       "</style>\n",
       "<table border=\"1\" class=\"dataframe\">\n",
       "  <thead>\n",
       "    <tr style=\"text-align: right;\">\n",
       "      <th></th>\n",
       "      <th>power</th>\n",
       "      <th>kilometer</th>\n",
       "      <th>number_of_pictures</th>\n",
       "      <th>registration_year</th>\n",
       "    </tr>\n",
       "  </thead>\n",
       "  <tbody>\n",
       "    <tr>\n",
       "      <th>count</th>\n",
       "      <td>272655.000000</td>\n",
       "      <td>272655.000000</td>\n",
       "      <td>272655.0</td>\n",
       "      <td>272655.000000</td>\n",
       "    </tr>\n",
       "    <tr>\n",
       "      <th>mean</th>\n",
       "      <td>116.512153</td>\n",
       "      <td>126772.844804</td>\n",
       "      <td>0.0</td>\n",
       "      <td>2004.360356</td>\n",
       "    </tr>\n",
       "    <tr>\n",
       "      <th>std</th>\n",
       "      <td>200.047866</td>\n",
       "      <td>37971.490208</td>\n",
       "      <td>0.0</td>\n",
       "      <td>68.042345</td>\n",
       "    </tr>\n",
       "    <tr>\n",
       "      <th>min</th>\n",
       "      <td>0.000000</td>\n",
       "      <td>5000.000000</td>\n",
       "      <td>0.0</td>\n",
       "      <td>1000.000000</td>\n",
       "    </tr>\n",
       "    <tr>\n",
       "      <th>25%</th>\n",
       "      <td>75.000000</td>\n",
       "      <td>125000.000000</td>\n",
       "      <td>0.0</td>\n",
       "      <td>2000.000000</td>\n",
       "    </tr>\n",
       "    <tr>\n",
       "      <th>50%</th>\n",
       "      <td>109.000000</td>\n",
       "      <td>150000.000000</td>\n",
       "      <td>0.0</td>\n",
       "      <td>2004.000000</td>\n",
       "    </tr>\n",
       "    <tr>\n",
       "      <th>75%</th>\n",
       "      <td>149.000000</td>\n",
       "      <td>150000.000000</td>\n",
       "      <td>0.0</td>\n",
       "      <td>2008.000000</td>\n",
       "    </tr>\n",
       "    <tr>\n",
       "      <th>max</th>\n",
       "      <td>20000.000000</td>\n",
       "      <td>150000.000000</td>\n",
       "      <td>0.0</td>\n",
       "      <td>9999.000000</td>\n",
       "    </tr>\n",
       "  </tbody>\n",
       "</table>\n",
       "</div>"
      ],
      "text/plain": [
       "               power      kilometer  number_of_pictures  registration_year\n",
       "count  272655.000000  272655.000000            272655.0      272655.000000\n",
       "mean      116.512153  126772.844804                 0.0        2004.360356\n",
       "std       200.047866   37971.490208                 0.0          68.042345\n",
       "min         0.000000    5000.000000                 0.0        1000.000000\n",
       "25%        75.000000  125000.000000                 0.0        2000.000000\n",
       "50%       109.000000  150000.000000                 0.0        2004.000000\n",
       "75%       149.000000  150000.000000                 0.0        2008.000000\n",
       "max     20000.000000  150000.000000                 0.0        9999.000000"
      ]
     },
     "execution_count": 37,
     "metadata": {},
     "output_type": "execute_result"
    }
   ],
   "source": [
    "data[['power', 'kilometer', 'number_of_pictures', 'registration_year']].describe()"
   ]
  },
  {
   "cell_type": "markdown",
   "metadata": {},
   "source": [
    "Признак 'number_of_pictures' неинформативный, содержит только нули. Удалим его."
   ]
  },
  {
   "cell_type": "code",
   "execution_count": 38,
   "metadata": {},
   "outputs": [
    {
     "data": {
      "text/plain": [
       "(272655, 10)"
      ]
     },
     "execution_count": 38,
     "metadata": {},
     "output_type": "execute_result"
    }
   ],
   "source": [
    "data = data.drop('number_of_pictures', axis=1)\n",
    "data.shape"
   ]
  },
  {
   "cell_type": "code",
   "execution_count": 39,
   "metadata": {},
   "outputs": [
    {
     "data": {
      "image/png": "[encoded data removed]",
      "text/plain": [
       "<Figure size 1224x720 with 2 Axes>"
      ]
     },
     "metadata": {
      "needs_background": "light"
     },
     "output_type": "display_data"
    }
   ],
   "source": [
    "analyze_numerical_data(data, 'registration_year', 'Год регистрации автомобиля')"
   ]
  },
  {
   "cell_type": "markdown",
   "metadata": {},
   "source": [
    "Значения признака 'registration_year' находятся в диапазоне от 1000 до 9999. Многие значения явно не соответствуют действительности."
   ]
  },
  {
   "cell_type": "code",
   "execution_count": 40,
   "metadata": {},
   "outputs": [
    {
     "data": {
      "text/plain": [
       "0.7354057493742399"
      ]
     },
     "execution_count": 40,
     "metadata": {},
     "output_type": "execute_result"
    }
   ],
   "source": [
    "# сколько записей с момента появления регистрационных номеров до даты выгрузки\n",
    "data[(data['registration_year'] > 1901) & (data['registration_year'] < 2017)].shape[0] / temp.shape[0]"
   ]
  },
  {
   "cell_type": "code",
   "execution_count": 41,
   "metadata": {},
   "outputs": [
    {
     "data": {
      "text/plain": [
       "0.7354057493742399"
      ]
     },
     "execution_count": 41,
     "metadata": {},
     "output_type": "execute_result"
    }
   ],
   "source": [
    "data = data[(data['registration_year'] > 1901) & (data['registration_year'] < 2017)]\n",
    "data.shape[0] / temp.shape[0]"
   ]
  },
  {
   "cell_type": "code",
   "execution_count": 42,
   "metadata": {},
   "outputs": [
    {
     "data": {
      "image/png": "[encoded data removed]",
      "text/plain": [
       "<Figure size 1224x720 with 2 Axes>"
      ]
     },
     "metadata": {
      "needs_background": "light"
     },
     "output_type": "display_data"
    }
   ],
   "source": [
    "analyze_numerical_data(data, 'registration_year', 'Год регистрации автомобиля')"
   ]
  },
  {
   "cell_type": "markdown",
   "metadata": {},
   "source": [
    "Чтобы сделать выборку более однородной, удалим также значения меньше 1985."
   ]
  },
  {
   "cell_type": "code",
   "execution_count": 43,
   "metadata": {},
   "outputs": [
    {
     "data": {
      "text/plain": [
       "0.7229300531367021"
      ]
     },
     "execution_count": 43,
     "metadata": {},
     "output_type": "execute_result"
    }
   ],
   "source": [
    "data[data['registration_year'] >= 1985].shape[0] / temp.shape[0]"
   ]
  },
  {
   "cell_type": "code",
   "execution_count": 44,
   "metadata": {},
   "outputs": [],
   "source": [
    "data = data[data['registration_year'] >= 1985]"
   ]
  },
  {
   "cell_type": "code",
   "execution_count": 45,
   "metadata": {},
   "outputs": [
    {
     "data": {
      "image/png": "[encoded data removed]",
      "text/plain": [
       "<Figure size 1224x720 with 2 Axes>"
      ]
     },
     "metadata": {
      "needs_background": "light"
     },
     "output_type": "display_data"
    }
   ],
   "source": [
    "analyze_numerical_data(data, 'power', 'Мощность автомобиля')"
   ]
  },
  {
   "cell_type": "code",
   "execution_count": 46,
   "metadata": {},
   "outputs": [
    {
     "data": {
      "text/plain": [
       "262.5"
      ]
     },
     "execution_count": 46,
     "metadata": {},
     "output_type": "execute_result"
    }
   ],
   "source": [
    "Q1 = data['power'].quantile(0.25)\n",
    "Q3 = data['power'].quantile(0.75)\n",
    "IQR = Q3 - Q1\n",
    "upper_bound = Q3 + 1.5 * IQR\n",
    "upper_bound"
   ]
  },
  {
   "cell_type": "code",
   "execution_count": 47,
   "metadata": {},
   "outputs": [
    {
     "data": {
      "text/plain": [
       "0.6480109716143342"
      ]
     },
     "execution_count": 47,
     "metadata": {},
     "output_type": "execute_result"
    }
   ],
   "source": [
    "data[(data['power'] > 0) & (data['power'] <= upper_bound)].shape[0] / temp.shape[0]"
   ]
  },
  {
   "cell_type": "code",
   "execution_count": 48,
   "metadata": {},
   "outputs": [
    {
     "data": {
      "text/plain": [
       "0.6618073251328418"
      ]
     },
     "execution_count": 48,
     "metadata": {},
     "output_type": "execute_result"
    }
   ],
   "source": [
    "data[(data['power'] >= 30) & (data['power'] <= 1000)].shape[0] / temp.shape[0]"
   ]
  },
  {
   "cell_type": "markdown",
   "metadata": {},
   "source": [
    "В качестве верхней границы возьмем 1000 л.с. Также удалим записи, где мощность авто меньше 30 л.с.\n",
    "\n",
    "__Стоит отметить, что в данных очень много выбросов и аномалий__, из-за чего мы теряем большой процент данных. Вместе с тем, учитывая относительно большой размер датасета, это поможет повысить качество данных."
   ]
  },
  {
   "cell_type": "code",
   "execution_count": 49,
   "metadata": {},
   "outputs": [
    {
     "data": {
      "text/plain": [
       "0.6618073251328418"
      ]
     },
     "execution_count": 49,
     "metadata": {},
     "output_type": "execute_result"
    }
   ],
   "source": [
    "data = data[(data['power'] >= 30) & (data['power'] <= 1000)]\n",
    "data.shape[0] / temp.shape[0]"
   ]
  },
  {
   "cell_type": "code",
   "execution_count": 50,
   "metadata": {},
   "outputs": [
    {
     "data": {
      "image/png": "[encoded data removed]",
      "text/plain": [
       "<Figure size 1224x720 with 2 Axes>"
      ]
     },
     "metadata": {
      "needs_background": "light"
     },
     "output_type": "display_data"
    }
   ],
   "source": [
    "analyze_numerical_data(data, 'power', 'Мощность автомобиля')"
   ]
  },
  {
   "cell_type": "markdown",
   "metadata": {},
   "source": [
    "Рассмотрим признак 'kilometer' как дискретный."
   ]
  },
  {
   "cell_type": "code",
   "execution_count": 51,
   "metadata": {},
   "outputs": [
    {
     "data": {
      "text/plain": [
       "array([125000, 150000,  90000,  30000,  70000, 100000,  60000,  20000,\n",
       "        80000,   5000,  50000,  40000,  10000])"
      ]
     },
     "execution_count": 51,
     "metadata": {},
     "output_type": "execute_result"
    }
   ],
   "source": [
    "data['kilometer'].unique()"
   ]
  },
  {
   "cell_type": "code",
   "execution_count": 52,
   "metadata": {},
   "outputs": [
    {
     "name": "stdout",
     "output_type": "stream",
     "text": [
      "\u001b[1mПробег автомобиля\u001b[0m\n"
     ]
    },
    {
     "data": {
      "text/plain": [
       "count    234524.000000\n",
       "mean     126890.488820\n",
       "std       37272.545207\n",
       "min        5000.000000\n",
       "25%      125000.000000\n",
       "50%      150000.000000\n",
       "75%      150000.000000\n",
       "max      150000.000000\n",
       "Name: kilometer, dtype: float64"
      ]
     },
     "metadata": {},
     "output_type": "display_data"
    },
    {
     "data": {
      "image/png": "[encoded data removed]",
      "text/plain": [
       "<Figure size 1224x864 with 2 Axes>"
      ]
     },
     "metadata": {
      "needs_background": "light"
     },
     "output_type": "display_data"
    }
   ],
   "source": [
    "analyze_discrete_data(data, 'kilometer', 'Пробег автомобиля')"
   ]
  },
  {
   "cell_type": "markdown",
   "metadata": {},
   "source": [
    "Низкие значения пробега являются редкими, не являются аномальными. "
   ]
  },
  {
   "cell_type": "code",
   "execution_count": 53,
   "metadata": {},
   "outputs": [
    {
     "data": {
      "text/plain": [
       "(234524, 10)"
      ]
     },
     "execution_count": 53,
     "metadata": {},
     "output_type": "execute_result"
    }
   ],
   "source": [
    "data.shape"
   ]
  },
  {
   "cell_type": "code",
   "execution_count": 54,
   "metadata": {},
   "outputs": [
    {
     "data": {
      "text/plain": [
       "0.6618073251328418"
      ]
     },
     "execution_count": 54,
     "metadata": {},
     "output_type": "execute_result"
    }
   ],
   "source": [
    "data.shape[0] / temp.shape[0]"
   ]
  },
  {
   "cell_type": "markdown",
   "metadata": {},
   "source": [
    "После удаления неявных дубликатов, аномалий и выбросов __размер датасета сократился на 33.8% и составляет 234524 записи, 10 признаков.__"
   ]
  },
  {
   "cell_type": "code",
   "execution_count": 55,
   "metadata": {},
   "outputs": [],
   "source": [
    "del temp"
   ]
  },
  {
   "cell_type": "markdown",
   "metadata": {},
   "source": [
    "Изучим __матрицу корреляции__ между признаками."
   ]
  },
  {
   "cell_type": "code",
   "execution_count": 56,
   "metadata": {},
   "outputs": [
    {
     "data": {
      "text/plain": [
       "Index(['price', 'vehicle_type', 'registration_year', 'gearbox', 'power',\n",
       "       'model', 'kilometer', 'fuel_type', 'brand', 'repaired'],\n",
       "      dtype='object')"
      ]
     },
     "execution_count": 56,
     "metadata": {},
     "output_type": "execute_result"
    }
   ],
   "source": [
    "data.columns"
   ]
  },
  {
   "cell_type": "code",
   "execution_count": 57,
   "metadata": {},
   "outputs": [
    {
     "data": {
      "image/png": "[encoded data removed]",
      "text/plain": [
       "<Figure size 1080x720 with 2 Axes>"
      ]
     },
     "metadata": {
      "needs_background": "light"
     },
     "output_type": "display_data"
    }
   ],
   "source": [
    "phik_overview = phik_matrix(data, interval_cols=['price', 'power']) \n",
    "\n",
    "plot_correlation_matrix(\n",
    "    phik_overview.values,\n",
    "    x_labels=phik_overview.columns,\n",
    "    y_labels=phik_overview.index,\n",
    "    vmin=0, vmax=1, color_map='Greens',\n",
    "    title=r'correlation $\\phi_K$',\n",
    "    fontsize_factor=1.5,\n",
    "    figsize=(15, 10)\n",
    ") "
   ]
  },
  {
   "cell_type": "markdown",
   "metadata": {},
   "source": [
    "Видим мультиколлинеарность между брендом и моделью, однако будем учитывать оба признака, т.к. оба признака влияют на стоимость."
   ]
  },
  {
   "cell_type": "markdown",
   "metadata": {},
   "source": [
    "Все отобранные нами признаки имеют взаимосвязь с целевым:\n",
    "- заметная (model,  registration_year)\n",
    "- умеренная (power, brand, kilometer)\n",
    "- слабая (repaired, fuel_type, vehicle_type, gearbox)"
   ]
  },
  {
   "cell_type": "markdown",
   "metadata": {},
   "source": [
    "__Промежуточный вывод__:\n",
    "- загрузили данные, распарсив при этом даты;\n",
    "- данные соответствуют описанию;\n",
    "- привели названия столбцов к змеиному регистру;\n",
    "- удалили явные и неявные дубликаты, выбросы и аномальные значения;\n",
    "- удалили неинформативные признаки;\n",
    "- размер датасета сократился на 33.8% и составляет 234524 записи, 10 признаков;\n",
    "- корреляционная матрица показывает наличие взаимосвязей между выбранными признаками и таргетом."
   ]
  },
  {
   "cell_type": "markdown",
   "metadata": {},
   "source": [
    "## Обучение моделей"
   ]
  },
  {
   "cell_type": "code",
   "execution_count": 58,
   "metadata": {},
   "outputs": [],
   "source": [
    "def get_time_to_fit_and_predict(model, X_train, y_train):\n",
    "    \"\"\"\n",
    "    Функция измеряет время, затраченное моделью на обучение,\n",
    "    и время на получение предсказаний модели.\n",
    "\n",
    "    Params:\n",
    "    model - модель\n",
    "    X_train - тренировочный датасет\n",
    "    y_train - значения целевой переменной для тренировочного набора данных\n",
    "\n",
    "    Returns:\n",
    "    time_to_fit - время, затраченное на обучение, в минутах\n",
    "    time_to_predict - время на получение предсказаний модели, в минутах\n",
    "    \"\"\"\n",
    "\n",
    "    # вычисляем время обучения\n",
    "    start = time()\n",
    "    model.fit(X_train, y_train)\n",
    "    end = time()\n",
    "    time_to_fit = (end-start) / 60 \n",
    "\n",
    "    # вычисляем время получения предсказаний\n",
    "    start = time()\n",
    "    model.predict(X_train)\n",
    "    end = time()\n",
    "    time_to_predict = (end-start) / 60 \n",
    "    \n",
    "    return time_to_fit, time_to_predict"
   ]
  },
  {
   "cell_type": "markdown",
   "metadata": {},
   "source": [
    "Перед нами задача регрессии, обучение с учителем."
   ]
  },
  {
   "cell_type": "code",
   "execution_count": 59,
   "metadata": {},
   "outputs": [],
   "source": [
    "cat_cols = ['vehicle_type', 'gearbox', 'model', 'fuel_type', 'brand', 'repaired']\n",
    "target = 'price'"
   ]
  },
  {
   "cell_type": "markdown",
   "metadata": {},
   "source": [
    "Повторим проверку на дубликаты для финальной версии датасета."
   ]
  },
  {
   "cell_type": "code",
   "execution_count": 60,
   "metadata": {},
   "outputs": [
    {
     "data": {
      "text/plain": [
       "683"
      ]
     },
     "execution_count": 60,
     "metadata": {},
     "output_type": "execute_result"
    }
   ],
   "source": [
    "data.duplicated().sum()"
   ]
  },
  {
   "cell_type": "code",
   "execution_count": 61,
   "metadata": {},
   "outputs": [],
   "source": [
    "data = data.drop_duplicates()"
   ]
  },
  {
   "cell_type": "code",
   "execution_count": 62,
   "metadata": {},
   "outputs": [
    {
     "data": {
      "text/plain": [
       "((175380, 9), (58461, 9))"
      ]
     },
     "execution_count": 62,
     "metadata": {},
     "output_type": "execute_result"
    }
   ],
   "source": [
    "# выделяем признаки и целевую переменную\n",
    "X = data.drop(columns=[target])\n",
    "y = data[target]\n",
    "\n",
    "X_train, X_test, y_train, y_test = train_test_split(\n",
    "    X,\n",
    "    y, \n",
    "    test_size = TEST_SIZE, \n",
    "    random_state = RANDOM_STATE)\n",
    "\n",
    "X_train.shape, X_test.shape"
   ]
  },
  {
   "cell_type": "code",
   "execution_count": 63,
   "metadata": {},
   "outputs": [],
   "source": [
    "del data"
   ]
  },
  {
   "cell_type": "markdown",
   "metadata": {},
   "source": [
    "### CatBoostRegressor"
   ]
  },
  {
   "cell_type": "code",
   "execution_count": 64,
   "metadata": {},
   "outputs": [
    {
     "name": "stdout",
     "output_type": "stream",
     "text": [
      "Лучшие параметры модели: {'depth': 6, 'iterations': 600}.\n",
      "RMSE на кросс-валидации: 1593.6638661523\n",
      "CPU times: user 18min 20s, sys: 5.2 s, total: 18min 26s\n",
      "Wall time: 18min 47s\n"
     ]
    }
   ],
   "source": [
    "%%time\n",
    "model_catboost = CatBoostRegressor(cat_features=cat_cols, random_state=RANDOM_STATE, verbose=0)\n",
    "\n",
    "param_catboost = {\n",
    "    'iterations': [200, 600],  \n",
    "    'depth': [4, 6]\n",
    "}\n",
    "\n",
    "grid_search_catboost = GridSearchCV(model_catboost,\n",
    "                                     param_catboost,\n",
    "                                     scoring='neg_root_mean_squared_error',\n",
    "                                     n_jobs=-1)\n",
    "\n",
    "grid_search_catboost.fit(X_train, y_train)\n",
    "\n",
    "best_params = grid_search_catboost.best_params_\n",
    "best_score_catboost = -grid_search_catboost.best_score_\n",
    "print(f\"Лучшие параметры модели: {best_params}.\\nRMSE на кросс-валидации: {best_score_catboost}\")"
   ]
  },
  {
   "cell_type": "code",
   "execution_count": 65,
   "metadata": {},
   "outputs": [],
   "source": [
    "best_model_catboost = CatBoostRegressor(cat_features=cat_cols, random_state=RANDOM_STATE,\n",
    "                                        verbose=0, **best_params)\n",
    "time_to_fit_catboost, time_to_predict_catboost = get_time_to_fit_and_predict(\n",
    "                                                     best_model_catboost, X_train, y_train)"
   ]
  },
  {
   "cell_type": "code",
   "execution_count": 66,
   "metadata": {},
   "outputs": [
    {
     "data": {
      "text/plain": [
       "(1.9314723412195842, 0.01870555877685547)"
      ]
     },
     "execution_count": 66,
     "metadata": {},
     "output_type": "execute_result"
    }
   ],
   "source": [
    "time_to_fit_catboost, time_to_predict_catboost"
   ]
  },
  {
   "cell_type": "markdown",
   "metadata": {},
   "source": [
    "### LGBMRegressor"
   ]
  },
  {
   "cell_type": "code",
   "execution_count": 67,
   "metadata": {},
   "outputs": [],
   "source": [
    "X_train_lgbm = X_train.copy()\n",
    "X_test_lgbm = X_test.copy()\n",
    "for c in cat_cols:\n",
    "    X_train_lgbm[c] = X_train_lgbm[c].astype('category')\n",
    "    X_test_lgbm[c] = X_test_lgbm[c].astype('category')"
   ]
  },
  {
   "cell_type": "code",
   "execution_count": 68,
   "metadata": {},
   "outputs": [
    {
     "name": "stdout",
     "output_type": "stream",
     "text": [
      "Лучшие параметры модели: {'max_depth': 8, 'n_estimators': 200}.\n",
      "RMSE на кросс-валидации: 1568.8043481539855\n",
      "CPU times: user 2min 21s, sys: 881 ms, total: 2min 22s\n",
      "Wall time: 2min 25s\n"
     ]
    }
   ],
   "source": [
    "%%time\n",
    "model_lgbm = LGBMRegressor(random_state=RANDOM_STATE)\n",
    "param_lgbm = {\n",
    "   # 'num_leaves': [31, 62],  \n",
    "    'n_estimators': [100, 200],\n",
    "    'max_depth': [6, 8]\n",
    "}\n",
    "\n",
    "grid_search_lgbm = GridSearchCV(model_lgbm,\n",
    "                                param_lgbm,\n",
    "                                scoring='neg_root_mean_squared_error', \n",
    "                                n_jobs=-1  \n",
    ")\n",
    "\n",
    "grid_search_lgbm.fit(X_train_lgbm, y_train)\n",
    "best_params = grid_search_lgbm.best_params_\n",
    "best_score_lgbm = -grid_search_lgbm.best_score_\n",
    "print(f\"Лучшие параметры модели: {best_params}.\\nRMSE на кросс-валидации: {best_score_lgbm}\")"
   ]
  },
  {
   "cell_type": "code",
   "execution_count": 69,
   "metadata": {},
   "outputs": [],
   "source": [
    "best_model_lgbm = LGBMRegressor(**best_params, random_state=RANDOM_STATE)\n",
    "time_to_fit_lgbm, time_to_predict_lgbm = get_time_to_fit_and_predict(\n",
    "                                                     best_model_lgbm, X_train_lgbm, y_train)"
   ]
  },
  {
   "cell_type": "markdown",
   "metadata": {},
   "source": [
    "### DecisionTreeRegressor"
   ]
  },
  {
   "cell_type": "code",
   "execution_count": 70,
   "metadata": {
    "scrolled": true
   },
   "outputs": [
    {
     "name": "stdout",
     "output_type": "stream",
     "text": [
      "Лучшие параметры модели: {'model__max_depth': 15, 'model__min_samples_split': 15}.\n",
      "RMSE на кросс-валидации: 1842.5959397408842\n",
      "CPU times: user 25.7 s, sys: 99.7 ms, total: 25.8 s\n",
      "Wall time: 25.9 s\n"
     ]
    }
   ],
   "source": [
    "%%time\n",
    "\n",
    "data_preprocessor = ColumnTransformer(\n",
    "    [\n",
    "        ('ord', OrdinalEncoder(handle_unknown='use_encoded_value', unknown_value=-1), cat_cols),\n",
    "    ], \n",
    "    remainder='passthrough'\n",
    ")\n",
    "\n",
    "pipe_final_dt = Pipeline(\n",
    "    steps=[\n",
    "        (\"preprocessor\", data_preprocessor),\n",
    "        (\"model\", DecisionTreeRegressor(random_state=RANDOM_STATE)) \n",
    "    ]\n",
    ")\n",
    "\n",
    "param_dt = {\n",
    "    'model__max_depth': [7, 10, 15], \n",
    "    'model__min_samples_split': [5, 10, 15]\n",
    "}\n",
    "\n",
    "grid_search_dt = GridSearchCV(\n",
    "    estimator=pipe_final_dt,\n",
    "    param_grid=param_dt,\n",
    "    scoring='neg_root_mean_squared_error', \n",
    "    cv=5,  \n",
    "    n_jobs=-1  \n",
    ")\n",
    "\n",
    "# Обучение модели\n",
    "grid_search_dt.fit(X_train, y_train)\n",
    "best_params = grid_search_dt.best_params_\n",
    "best_score_dt = -grid_search_dt.best_score_\n",
    "print(f\"Лучшие параметры модели: {best_params}.\\nRMSE на кросс-валидации: {best_score_dt}\")"
   ]
  },
  {
   "cell_type": "code",
   "execution_count": 71,
   "metadata": {},
   "outputs": [],
   "source": [
    "best_params_dt = {key.split('__')[1]: value for key, value in best_params.items()}  # Убираем 'model__' из ключей\n",
    "best_model_dt = Pipeline(\n",
    "    steps=[\n",
    "        (\"preprocessor\", data_preprocessor), \n",
    "        (\"model\", DecisionTreeRegressor(random_state=RANDOM_STATE, **best_params_dt))  \n",
    "    ]\n",
    ")\n",
    "time_to_fit_dt, time_to_predict_dt = get_time_to_fit_and_predict(\n",
    "                                                     best_model_dt, X_train, y_train)"
   ]
  },
  {
   "cell_type": "markdown",
   "metadata": {},
   "source": [
    "__Промежуточный вывод__:\n",
    "- обучили модели CatBoostRegressor, LGBMRegressor, DecisionTreeRegressor с различными гиперпараметрами,\n",
    "- выбрали модели с наименьшей метрикой RMSE."
   ]
  },
  {
   "cell_type": "markdown",
   "metadata": {},
   "source": [
    "## Анализ моделей"
   ]
  },
  {
   "cell_type": "code",
   "execution_count": 72,
   "metadata": {},
   "outputs": [],
   "source": [
    "def analyze_residuals_variance(model, y_test, predictions):\n",
    "    \"\"\"\n",
    "    Функция строит гистограмму остатков и график для анализа дисперсии.\n",
    "    \n",
    "    Params:\n",
    "    model - модель\n",
    "    y_test - значения таргета для тестовой выборки\n",
    "    predictions - предсказания модели для тестовой выборки\n",
    "\n",
    "    Returns:\n",
    "    None\n",
    "    \"\"\"\n",
    "\n",
    "    residuals = y_test - predictions\n",
    "    mean_residual = np.mean(residuals) \n",
    "\n",
    "   # Строим гистограмму частотности и диаграмму рассеяния\n",
    "    fig, axes = plt.subplots(nrows=1, ncols=2, figsize=(10, 5))\n",
    "    axes[0].hist(residuals, bins=30)\n",
    "    axes[0].set_title('Гистограмма распределения остатков')\n",
    "    axes[0].set_xlabel('Остатки')\n",
    "    axes[0].set_ylabel('Частота')\n",
    "    axes[0].axvline(mean_residual, color='r', linestyle='dashed', linewidth=1)  \n",
    "    axes[0].text(mean_residual, axes[0].get_ylim()[1]*0.9, f'Среднее: {mean_residual:.2f}', color='r')\n",
    "\n",
    "    axes[1].scatter(predictions, residuals)\n",
    "    axes[1].set_xlabel('Предсказания модели')\n",
    "    axes[1].set_ylabel('Остатки')\n",
    "    axes[1].set_title('Анализ дисперсии')\n",
    "\n",
    "    plt.tight_layout()\n",
    "    plt.show()"
   ]
  },
  {
   "cell_type": "markdown",
   "metadata": {},
   "source": [
    "### Выбор лучшей модели"
   ]
  },
  {
   "cell_type": "markdown",
   "metadata": {},
   "source": [
    "Соберем результаты в таблицу."
   ]
  },
  {
   "cell_type": "code",
   "execution_count": 73,
   "metadata": {},
   "outputs": [
    {
     "data": {
      "text/html": [
       "<div>\n",
       "<style scoped>\n",
       "    .dataframe tbody tr th:only-of-type {\n",
       "        vertical-align: middle;\n",
       "    }\n",
       "\n",
       "    .dataframe tbody tr th {\n",
       "        vertical-align: top;\n",
       "    }\n",
       "\n",
       "    .dataframe thead th {\n",
       "        text-align: right;\n",
       "    }\n",
       "</style>\n",
       "<table border=\"1\" class=\"dataframe\">\n",
       "  <thead>\n",
       "    <tr style=\"text-align: right;\">\n",
       "      <th></th>\n",
       "      <th>Time to fit (min)</th>\n",
       "      <th>Time to predict (min)</th>\n",
       "      <th>RMSE</th>\n",
       "    </tr>\n",
       "    <tr>\n",
       "      <th>Model</th>\n",
       "      <th></th>\n",
       "      <th></th>\n",
       "      <th></th>\n",
       "    </tr>\n",
       "  </thead>\n",
       "  <tbody>\n",
       "    <tr>\n",
       "      <th>CatBoostRegressor</th>\n",
       "      <td>1.931472</td>\n",
       "      <td>0.018706</td>\n",
       "      <td>1593.663866</td>\n",
       "    </tr>\n",
       "    <tr>\n",
       "      <th>LightGBMRegressor</th>\n",
       "      <td>0.128320</td>\n",
       "      <td>0.058586</td>\n",
       "      <td>1568.804348</td>\n",
       "    </tr>\n",
       "    <tr>\n",
       "      <th>DecisionTreeRegressor</th>\n",
       "      <td>0.011796</td>\n",
       "      <td>0.004086</td>\n",
       "      <td>1842.595940</td>\n",
       "    </tr>\n",
       "  </tbody>\n",
       "</table>\n",
       "</div>"
      ],
      "text/plain": [
       "                       Time to fit (min)  Time to predict (min)         RMSE\n",
       "Model                                                                       \n",
       "CatBoostRegressor               1.931472               0.018706  1593.663866\n",
       "LightGBMRegressor               0.128320               0.058586  1568.804348\n",
       "DecisionTreeRegressor           0.011796               0.004086  1842.595940"
      ]
     },
     "execution_count": 73,
     "metadata": {},
     "output_type": "execute_result"
    }
   ],
   "source": [
    "data = {\n",
    "    'Model': ['CatBoostRegressor', 'LightGBMRegressor', 'DecisionTreeRegressor'],\n",
    "    'Time to fit (min)': [time_to_fit_catboost, time_to_fit_lgbm, time_to_fit_dt],\n",
    "    'Time to predict (min)': [time_to_predict_catboost, time_to_predict_lgbm, time_to_predict_dt],\n",
    "    'RMSE': [best_score_catboost, best_score_lgbm, best_score_dt]\n",
    "}\n",
    "\n",
    "df = pd.DataFrame(data)\n",
    "df.set_index('Model', inplace=True)\n",
    "df"
   ]
  },
  {
   "cell_type": "markdown",
   "metadata": {},
   "source": [
    "Лучшее значение метрики получено для модели LightGBMRegressor, быстрее всего обучается и тратит наименьшее количество времени на предсказания модель DecisionTreeRegressor, однако значение метрики данной модели намного хуже, чем у других. \n",
    "\n",
    "Остановим свой выбор на LightGBMRegressor, т.к. ее предсказания более точные, адекватное время на обучение и получение предсказаний. "
   ]
  },
  {
   "cell_type": "markdown",
   "metadata": {},
   "source": [
    "### Проверка качества лучшей модели"
   ]
  },
  {
   "cell_type": "code",
   "execution_count": 74,
   "metadata": {},
   "outputs": [
    {
     "name": "stdout",
     "output_type": "stream",
     "text": [
      "RMSE для лучшей модели: 1545.03\n"
     ]
    }
   ],
   "source": [
    "rmse_test = np.sqrt(mean_squared_error(y_test, best_model_lgbm.predict(X_test_lgbm)))\n",
    "print(f'RMSE для лучшей модели: {rmse_test:.2f}')"
   ]
  },
  {
   "cell_type": "code",
   "execution_count": 75,
   "metadata": {},
   "outputs": [
    {
     "name": "stdout",
     "output_type": "stream",
     "text": [
      "RMSE для Dummy Regressor: 4648.22\n"
     ]
    }
   ],
   "source": [
    "dummy_regr = DummyRegressor(strategy=\"mean\")\n",
    "dummy_regr.fit(X_train, y_train)\n",
    "y_pred = dummy_regr.predict(X_test)\n",
    "\n",
    "rmse_dummy = np.sqrt(mean_squared_error(y_test, y_pred))\n",
    "print(f'RMSE для Dummy Regressor: {rmse_dummy:.2f}')"
   ]
  },
  {
   "cell_type": "markdown",
   "metadata": {},
   "source": [
    "Наша модель показывает на тестовой выборке результат лучше, чем DummyRegressor."
   ]
  },
  {
   "cell_type": "code",
   "execution_count": 76,
   "metadata": {},
   "outputs": [
    {
     "data": {
      "image/png": "[encoded data removed]",
      "text/plain": [
       "<Figure size 720x360 with 2 Axes>"
      ]
     },
     "metadata": {
      "needs_background": "light"
     },
     "output_type": "display_data"
    }
   ],
   "source": [
    "analyze_residuals_variance(best_model_lgbm, y_test, best_model_lgbm.predict(X_test_lgbm))"
   ]
  },
  {
   "cell_type": "markdown",
   "metadata": {},
   "source": [
    "### Получение важности признаков"
   ]
  },
  {
   "cell_type": "code",
   "execution_count": 77,
   "metadata": {},
   "outputs": [
    {
     "name": "stdout",
     "output_type": "stream",
     "text": [
      "             Feature  Importance\n",
      "6          fuel_type          43\n",
      "2            gearbox         119\n",
      "8           repaired         206\n",
      "0       vehicle_type         402\n",
      "7              brand         502\n",
      "5          kilometer         586\n",
      "1  registration_year        1271\n",
      "4              model        1397\n",
      "3              power        1474\n"
     ]
    },
    {
     "data": {
      "image/png": "[encoded data removed]",
      "text/plain": [
       "<Figure size 720x432 with 1 Axes>"
      ]
     },
     "metadata": {
      "needs_background": "light"
     },
     "output_type": "display_data"
    }
   ],
   "source": [
    "# Получение важности признаков\n",
    "feature_importances = best_model_lgbm.feature_importances_\n",
    "feature_names = X.columns  \n",
    "\n",
    "# Создание DataFrame для отображения\n",
    "importance_df = pd.DataFrame({'Feature': feature_names, 'Importance': feature_importances})\n",
    "importance_df = importance_df.sort_values(by='Importance')\n",
    "print(importance_df)\n",
    "\n",
    "# Визуализация важности признаков\n",
    "plt.figure(figsize=(10, 6))\n",
    "plt.barh(importance_df['Feature'], importance_df['Importance'])\n",
    "plt.xlabel('Importance')\n",
    "plt.title('Feature Importance')\n",
    "plt.show()"
   ]
  },
  {
   "cell_type": "markdown",
   "metadata": {},
   "source": [
    "__Промежуточный вывод__:\n",
    "Лучшее значение метрики получено для модели LightGBMRegressor, быстрее всего обучается и тратит наименьшее количество времени на предсказания модель DecisionTreeRegressor, однако значение метрики данной модели намного хуже, чем у других. \n",
    "\n",
    "Выбираем LightGBMRegressor, т.к. ее предсказания более точные, адекватное время на обучение и получение предсказаний. \n",
    "\n",
    "Наша модель показывает на тестовой выборке результат лучше, чем DummyRegressor, RMSE на тестовой выборке 1545.03 против 4648.22.\n",
    "\n",
    "График остатков модели симметричен относительно нуля (среднее очень близко к нулю, с учетом масштаба предсказаний), имеет одну вершину, распределение по форме похоже на нормальное. Вместе с этим видим неравномерность дисперсии остатков. Модель работает по-разному для различных диапазонов значений, ее можно улучшить.\n",
    "\n",
    "Наибольший вклад в предсказание модели вносят значение мощности, модель и год регистрации автомобиля, наименьшее - тип топлива."
   ]
  },
  {
   "cell_type": "markdown",
   "metadata": {},
   "source": [
    "## Вывод"
   ]
  },
  {
   "cell_type": "markdown",
   "metadata": {},
   "source": [
    "Мы загрузили и проанализировали данные о технических характеристиках, комплектации и ценах автомобилей. В данных было большое число дубликатов (полных и неявных), аномалий и нетипичных для датасета значений. Также мы удалили неинформативные признаки (date_crawled, date_created, last_seen, postal_code, registration_month, number_of_pictures).  После очистки размер датасета сократился 33.8% и составил 234524 записи, 10 признаков. С учетом достаточного количества записей в изначальном датасете мы так сильно сократили датасет с целью повышения качества данных. Далее мы провели корреляционный анализ данных, убедились в наличии взаимосвязи между выбранными признаками.\n",
    "\n",
    "Обучили модели CatBoostRegressor, LGBMRegressor, DecisionTreeRegressor с различными гиперпараметрами, определили гиперпараметры моделей с наименьшей метрикой RMSE. Для каждой модели вычислили время обучения и получения предсказаний. \n",
    "\n",
    "Лучшее значение метрики получено для модели LightGBMRegressor, быстрее всего обучается и тратит наименьшее количество времени на предсказания модель DecisionTreeRegressor, однако значение метрики данной модели намного хуже, чем у других. Выбираем __LightGBMRegressor с параметрами 'max_depth': 8, 'n_estimators': 200, 'random_state': 42__, т.к. ее предсказания более точные, адекватное время на обучение и получение предсказаний. \n",
    "\n",
    "Выбранная модель на тестовой выборке показывает __RMSE 1545.03__, результат лучше, чем у DummyRegressor (RMSE 4648.22).\n",
    "Наибольший вклад в предсказание модели вносят значение мощности, модель и год регистрации автомобиля, наименьшее - тип топлива.\n",
    "\n",
    "При анализе моделей заметили неравномерность дисперсии остатков. Можно попробовать улучшить модель:\n",
    "- введение новых признаков (класс автомобиля и др.),\n",
    "- подбор гиперпараметров из более широкого диапазона,\n",
    "- использование других моделей."
   ]
  }
 ],
 "metadata": {
  "ExecuteTimeLog": [
   {
    "duration": 492,
    "start_time": "2024-11-28T14:09:55.561Z"
   },
   {
    "duration": 3,
    "start_time": "2024-11-28T14:17:08.813Z"
   },
   {
    "duration": 1204,
    "start_time": "2024-11-28T14:22:45.578Z"
   },
   {
    "duration": 159,
    "start_time": "2024-11-28T14:23:02.146Z"
   },
   {
    "duration": 101,
    "start_time": "2024-11-28T14:23:12.859Z"
   },
   {
    "duration": 13,
    "start_time": "2024-11-28T14:23:39.098Z"
   },
   {
    "duration": 847,
    "start_time": "2024-11-29T14:10:14.992Z"
   },
   {
    "duration": 2,
    "start_time": "2024-11-29T14:10:15.842Z"
   },
   {
    "duration": 11,
    "start_time": "2024-11-29T14:10:15.846Z"
   },
   {
    "duration": 1528,
    "start_time": "2024-11-29T14:10:15.859Z"
   },
   {
    "duration": 98,
    "start_time": "2024-11-29T14:10:17.389Z"
   },
   {
    "duration": 17,
    "start_time": "2024-11-29T14:10:17.489Z"
   },
   {
    "duration": 56,
    "start_time": "2024-11-29T14:10:17.507Z"
   },
   {
    "duration": 41,
    "start_time": "2024-11-29T14:10:17.564Z"
   },
   {
    "duration": 305,
    "start_time": "2024-11-29T14:10:17.606Z"
   },
   {
    "duration": 267,
    "start_time": "2024-11-29T14:15:56.468Z"
   },
   {
    "duration": 269,
    "start_time": "2024-11-29T14:16:04.065Z"
   },
   {
    "duration": 253,
    "start_time": "2024-11-29T14:16:10.384Z"
   },
   {
    "duration": 353,
    "start_time": "2024-11-29T14:16:16.527Z"
   },
   {
    "duration": 294,
    "start_time": "2024-11-29T14:16:22.116Z"
   },
   {
    "duration": 73,
    "start_time": "2024-11-29T14:23:35.144Z"
   },
   {
    "duration": 2,
    "start_time": "2024-11-29T14:24:24.561Z"
   },
   {
    "duration": 829,
    "start_time": "2024-11-29T18:17:34.867Z"
   },
   {
    "duration": 3,
    "start_time": "2024-11-29T18:17:35.698Z"
   },
   {
    "duration": 50,
    "start_time": "2024-11-29T18:17:35.702Z"
   },
   {
    "duration": 1428,
    "start_time": "2024-11-29T18:17:35.754Z"
   },
   {
    "duration": 106,
    "start_time": "2024-11-29T18:17:37.184Z"
   },
   {
    "duration": 18,
    "start_time": "2024-11-29T18:17:37.292Z"
   },
   {
    "duration": 54,
    "start_time": "2024-11-29T18:17:37.311Z"
   },
   {
    "duration": 38,
    "start_time": "2024-11-29T18:17:37.366Z"
   },
   {
    "duration": 304,
    "start_time": "2024-11-29T18:17:37.406Z"
   },
   {
    "duration": 79,
    "start_time": "2024-11-29T18:17:37.712Z"
   },
   {
    "duration": 14,
    "start_time": "2024-11-29T18:18:54.253Z"
   },
   {
    "duration": 15,
    "start_time": "2024-11-29T18:19:11.326Z"
   },
   {
    "duration": 14,
    "start_time": "2024-11-29T18:19:20.917Z"
   },
   {
    "duration": 7,
    "start_time": "2024-11-29T18:19:35.401Z"
   },
   {
    "duration": 347,
    "start_time": "2024-11-29T18:21:18.921Z"
   },
   {
    "duration": 352,
    "start_time": "2024-11-29T18:24:22.010Z"
   },
   {
    "duration": 401,
    "start_time": "2024-11-29T18:24:31.108Z"
   },
   {
    "duration": 339,
    "start_time": "2024-11-29T18:24:36.916Z"
   },
   {
    "duration": 53,
    "start_time": "2024-11-29T18:25:34.910Z"
   },
   {
    "duration": 3,
    "start_time": "2024-11-29T18:32:53.148Z"
   },
   {
    "duration": 86,
    "start_time": "2024-11-29T18:50:04.951Z"
   },
   {
    "duration": 60,
    "start_time": "2024-11-29T18:51:53.006Z"
   },
   {
    "duration": 6,
    "start_time": "2024-11-29T18:52:19.238Z"
   },
   {
    "duration": 6,
    "start_time": "2024-11-29T18:52:29.904Z"
   },
   {
    "duration": 11,
    "start_time": "2024-11-29T19:14:07.003Z"
   },
   {
    "duration": 7,
    "start_time": "2024-11-29T19:14:21.341Z"
   },
   {
    "duration": 32,
    "start_time": "2024-11-29T19:25:50.538Z"
   },
   {
    "duration": 20,
    "start_time": "2024-11-29T20:04:27.391Z"
   },
   {
    "duration": 55,
    "start_time": "2024-11-29T20:06:39.320Z"
   },
   {
    "duration": 59,
    "start_time": "2024-11-29T20:07:17.431Z"
   },
   {
    "duration": 65,
    "start_time": "2024-11-29T20:33:07.987Z"
   },
   {
    "duration": 93,
    "start_time": "2024-11-29T20:33:31.007Z"
   },
   {
    "duration": 59,
    "start_time": "2024-11-29T20:33:47.126Z"
   },
   {
    "duration": 61,
    "start_time": "2024-11-29T20:33:53.720Z"
   },
   {
    "duration": 4,
    "start_time": "2024-11-29T20:34:50.326Z"
   },
   {
    "duration": 71,
    "start_time": "2024-11-29T20:34:51.935Z"
   },
   {
    "duration": 4,
    "start_time": "2024-11-29T20:35:41.900Z"
   },
   {
    "duration": 56,
    "start_time": "2024-11-29T20:35:42.646Z"
   },
   {
    "duration": 3,
    "start_time": "2024-11-29T20:35:54.588Z"
   },
   {
    "duration": 56,
    "start_time": "2024-11-29T20:35:58.955Z"
   },
   {
    "duration": 4,
    "start_time": "2024-11-29T20:37:25.907Z"
   },
   {
    "duration": 79,
    "start_time": "2024-11-29T20:37:27.669Z"
   },
   {
    "duration": 4,
    "start_time": "2024-11-29T20:37:40.777Z"
   },
   {
    "duration": 72,
    "start_time": "2024-11-29T20:37:41.717Z"
   },
   {
    "duration": 3,
    "start_time": "2024-11-29T20:38:24.887Z"
   },
   {
    "duration": 76,
    "start_time": "2024-11-29T20:38:27.557Z"
   },
   {
    "duration": 4,
    "start_time": "2024-11-29T20:43:29.010Z"
   },
   {
    "duration": 75,
    "start_time": "2024-11-29T20:43:29.931Z"
   },
   {
    "duration": 3,
    "start_time": "2024-11-29T20:43:38.957Z"
   },
   {
    "duration": 73,
    "start_time": "2024-11-29T20:43:39.702Z"
   },
   {
    "duration": 4,
    "start_time": "2024-11-29T20:43:57.229Z"
   },
   {
    "duration": 76,
    "start_time": "2024-11-29T20:43:57.869Z"
   },
   {
    "duration": 54,
    "start_time": "2024-11-29T20:46:25.099Z"
   },
   {
    "duration": 4,
    "start_time": "2024-11-29T20:46:42.754Z"
   },
   {
    "duration": 75,
    "start_time": "2024-11-29T20:46:44.412Z"
   },
   {
    "duration": 4,
    "start_time": "2024-11-29T20:46:51.582Z"
   },
   {
    "duration": 75,
    "start_time": "2024-11-29T20:46:52.104Z"
   },
   {
    "duration": 5,
    "start_time": "2024-11-29T20:47:06.222Z"
   },
   {
    "duration": 75,
    "start_time": "2024-11-29T20:47:06.860Z"
   },
   {
    "duration": 4,
    "start_time": "2024-11-29T20:47:18.270Z"
   },
   {
    "duration": 76,
    "start_time": "2024-11-29T20:47:19.012Z"
   },
   {
    "duration": 4,
    "start_time": "2024-11-29T20:49:15.855Z"
   },
   {
    "duration": 110,
    "start_time": "2024-11-29T20:49:16.737Z"
   },
   {
    "duration": 115,
    "start_time": "2024-11-29T20:54:10.958Z"
   },
   {
    "duration": 105,
    "start_time": "2024-11-29T20:55:07.052Z"
   },
   {
    "duration": 44,
    "start_time": "2024-11-29T20:56:27.396Z"
   },
   {
    "duration": 43,
    "start_time": "2024-11-29T20:56:40.658Z"
   },
   {
    "duration": 339,
    "start_time": "2024-11-29T20:57:10.160Z"
   },
   {
    "duration": 5,
    "start_time": "2024-11-29T20:58:20.342Z"
   },
   {
    "duration": 138,
    "start_time": "2024-11-29T20:58:21.962Z"
   },
   {
    "duration": 122,
    "start_time": "2024-11-29T20:58:35.840Z"
   },
   {
    "duration": 731,
    "start_time": "2024-11-29T20:58:53.263Z"
   },
   {
    "duration": 116,
    "start_time": "2024-11-29T21:08:08.478Z"
   },
   {
    "duration": 120,
    "start_time": "2024-11-29T21:19:19.098Z"
   },
   {
    "duration": 146,
    "start_time": "2024-11-29T21:27:04.693Z"
   },
   {
    "duration": 7,
    "start_time": "2024-11-29T21:28:02.653Z"
   },
   {
    "duration": 26,
    "start_time": "2024-11-29T21:28:07.133Z"
   },
   {
    "duration": 41,
    "start_time": "2024-11-29T21:28:25.836Z"
   },
   {
    "duration": 42,
    "start_time": "2024-11-29T21:28:46.367Z"
   },
   {
    "duration": 142,
    "start_time": "2024-11-29T21:41:12.297Z"
   },
   {
    "duration": 68,
    "start_time": "2024-11-29T21:42:37.550Z"
   },
   {
    "duration": 59,
    "start_time": "2024-11-29T21:42:43.705Z"
   },
   {
    "duration": 152,
    "start_time": "2024-11-29T21:43:20.120Z"
   },
   {
    "duration": 142,
    "start_time": "2024-11-29T21:43:39.489Z"
   },
   {
    "duration": 148,
    "start_time": "2024-11-29T21:44:04.358Z"
   },
   {
    "duration": 73,
    "start_time": "2024-11-29T21:46:25.026Z"
   },
   {
    "duration": 93,
    "start_time": "2024-11-29T21:46:29.112Z"
   },
   {
    "duration": 5,
    "start_time": "2024-11-29T21:46:56.176Z"
   },
   {
    "duration": 123,
    "start_time": "2024-11-29T21:46:57.864Z"
   },
   {
    "duration": 6,
    "start_time": "2024-11-29T21:49:25.487Z"
   },
   {
    "duration": 125,
    "start_time": "2024-11-29T21:49:26.683Z"
   },
   {
    "duration": 77,
    "start_time": "2024-11-29T21:51:00.712Z"
   },
   {
    "duration": 64,
    "start_time": "2024-11-29T21:51:50.070Z"
   },
   {
    "duration": 6,
    "start_time": "2024-11-29T21:52:44.269Z"
   },
   {
    "duration": 1584,
    "start_time": "2024-11-29T21:52:45.526Z"
   },
   {
    "duration": 5,
    "start_time": "2024-11-29T21:53:04.109Z"
   },
   {
    "duration": 128,
    "start_time": "2024-11-29T21:53:04.816Z"
   },
   {
    "duration": 5,
    "start_time": "2024-11-29T21:54:26.149Z"
   },
   {
    "duration": 123,
    "start_time": "2024-11-29T21:54:26.367Z"
   },
   {
    "duration": 6,
    "start_time": "2024-11-29T21:54:42.171Z"
   },
   {
    "duration": 130,
    "start_time": "2024-11-29T21:54:42.726Z"
   },
   {
    "duration": 5,
    "start_time": "2024-11-29T21:59:55.355Z"
   },
   {
    "duration": 137,
    "start_time": "2024-11-29T22:00:00.043Z"
   },
   {
    "duration": 5,
    "start_time": "2024-11-29T22:00:41.202Z"
   },
   {
    "duration": 125,
    "start_time": "2024-11-29T22:00:41.872Z"
   },
   {
    "duration": 115,
    "start_time": "2024-11-29T22:01:42.915Z"
   },
   {
    "duration": 146,
    "start_time": "2024-11-29T22:01:46.989Z"
   },
   {
    "duration": 139,
    "start_time": "2024-11-29T22:02:16.579Z"
   },
   {
    "duration": 127,
    "start_time": "2024-11-29T22:21:41.640Z"
   },
   {
    "duration": 131,
    "start_time": "2024-11-29T22:37:47.045Z"
   },
   {
    "duration": 119,
    "start_time": "2024-11-29T22:37:53.443Z"
   },
   {
    "duration": 6,
    "start_time": "2024-11-29T22:45:39.377Z"
   },
   {
    "duration": 383,
    "start_time": "2024-11-29T22:47:22.955Z"
   },
   {
    "duration": 3,
    "start_time": "2024-11-29T22:47:46.776Z"
   },
   {
    "duration": 424,
    "start_time": "2024-11-29T22:47:54.084Z"
   },
   {
    "duration": 2,
    "start_time": "2024-11-29T22:48:14.067Z"
   },
   {
    "duration": 1092,
    "start_time": "2024-11-29T22:48:22.416Z"
   },
   {
    "duration": 48,
    "start_time": "2024-11-29T22:56:49.750Z"
   },
   {
    "duration": 13,
    "start_time": "2024-11-29T22:57:30.277Z"
   },
   {
    "duration": 13,
    "start_time": "2024-11-29T22:57:36.055Z"
   },
   {
    "duration": 16,
    "start_time": "2024-11-29T22:57:50.702Z"
   },
   {
    "duration": 15,
    "start_time": "2024-11-29T22:58:03.979Z"
   },
   {
    "duration": 14,
    "start_time": "2024-11-29T22:58:49.316Z"
   },
   {
    "duration": 14,
    "start_time": "2024-11-29T22:59:01.075Z"
   },
   {
    "duration": 14,
    "start_time": "2024-11-29T23:00:47.623Z"
   },
   {
    "duration": 14,
    "start_time": "2024-11-29T23:00:57.585Z"
   },
   {
    "duration": 14,
    "start_time": "2024-11-29T23:01:00.827Z"
   },
   {
    "duration": 14,
    "start_time": "2024-11-29T23:01:05.657Z"
   },
   {
    "duration": 14,
    "start_time": "2024-11-29T23:01:12.554Z"
   },
   {
    "duration": 14,
    "start_time": "2024-11-29T23:01:17.525Z"
   },
   {
    "duration": 59,
    "start_time": "2024-11-29T23:04:04.043Z"
   },
   {
    "duration": 9,
    "start_time": "2024-11-29T23:04:41.194Z"
   },
   {
    "duration": 9,
    "start_time": "2024-11-29T23:04:47.495Z"
   },
   {
    "duration": 9,
    "start_time": "2024-11-29T23:05:20.543Z"
   },
   {
    "duration": 38,
    "start_time": "2024-11-29T23:09:55.893Z"
   },
   {
    "duration": 3,
    "start_time": "2024-11-29T23:10:03.915Z"
   },
   {
    "duration": 4,
    "start_time": "2024-11-29T23:10:56.470Z"
   },
   {
    "duration": 4,
    "start_time": "2024-11-29T23:11:22.723Z"
   },
   {
    "duration": 78,
    "start_time": "2024-11-29T23:11:42.978Z"
   },
   {
    "duration": 629,
    "start_time": "2024-11-29T23:12:34.826Z"
   },
   {
    "duration": 5,
    "start_time": "2024-11-29T23:12:35.457Z"
   },
   {
    "duration": 27,
    "start_time": "2024-11-29T23:12:35.463Z"
   },
   {
    "duration": 1085,
    "start_time": "2024-11-29T23:12:35.493Z"
   },
   {
    "duration": 105,
    "start_time": "2024-11-29T23:12:36.580Z"
   },
   {
    "duration": 16,
    "start_time": "2024-11-29T23:12:36.687Z"
   },
   {
    "duration": 49,
    "start_time": "2024-11-29T23:12:36.705Z"
   },
   {
    "duration": 38,
    "start_time": "2024-11-29T23:12:36.762Z"
   },
   {
    "duration": 296,
    "start_time": "2024-11-29T23:12:36.801Z"
   },
   {
    "duration": 328,
    "start_time": "2024-11-29T23:12:37.100Z"
   },
   {
    "duration": 365,
    "start_time": "2024-11-29T23:12:37.429Z"
   },
   {
    "duration": 6,
    "start_time": "2024-11-29T23:12:37.796Z"
   },
   {
    "duration": 12,
    "start_time": "2024-11-29T23:12:37.804Z"
   },
   {
    "duration": 45,
    "start_time": "2024-11-29T23:12:37.818Z"
   },
   {
    "duration": 18,
    "start_time": "2024-11-29T23:12:37.864Z"
   },
   {
    "duration": 1116,
    "start_time": "2024-11-29T23:12:37.883Z"
   },
   {
    "duration": 123,
    "start_time": "2024-11-29T23:12:39.001Z"
   },
   {
    "duration": 9,
    "start_time": "2024-11-29T23:12:39.125Z"
   },
   {
    "duration": 70,
    "start_time": "2024-11-29T23:12:39.136Z"
   },
   {
    "duration": 6,
    "start_time": "2024-11-29T23:12:39.207Z"
   },
   {
    "duration": 148,
    "start_time": "2024-11-29T23:12:39.214Z"
   },
   {
    "duration": 127,
    "start_time": "2024-11-29T23:12:39.363Z"
   },
   {
    "duration": 144,
    "start_time": "2024-11-29T23:12:39.492Z"
   },
   {
    "duration": 44,
    "start_time": "2024-11-29T23:12:39.638Z"
   },
   {
    "duration": 12,
    "start_time": "2024-11-29T23:12:39.684Z"
   },
   {
    "duration": 135,
    "start_time": "2024-11-29T23:12:39.697Z"
   },
   {
    "duration": 138,
    "start_time": "2024-11-29T23:12:39.833Z"
   },
   {
    "duration": 124,
    "start_time": "2024-11-29T23:12:39.974Z"
   },
   {
    "duration": 111,
    "start_time": "2024-11-29T23:21:10.516Z"
   },
   {
    "duration": 938,
    "start_time": "2024-11-29T23:22:57.644Z"
   },
   {
    "duration": 1033,
    "start_time": "2024-11-29T23:25:42.462Z"
   },
   {
    "duration": 1565,
    "start_time": "2024-11-29T23:26:55.210Z"
   },
   {
    "duration": 6,
    "start_time": "2024-11-29T23:27:05.330Z"
   },
   {
    "duration": 7,
    "start_time": "2024-11-29T23:29:55.515Z"
   },
   {
    "duration": 226,
    "start_time": "2024-11-29T23:30:44.674Z"
   },
   {
    "duration": 586,
    "start_time": "2024-11-29T23:31:04.927Z"
   },
   {
    "duration": 922,
    "start_time": "2024-11-29T23:31:14.237Z"
   },
   {
    "duration": 641,
    "start_time": "2024-11-29T23:35:31.588Z"
   },
   {
    "duration": 82,
    "start_time": "2024-11-29T23:36:07.099Z"
   },
   {
    "duration": 63,
    "start_time": "2024-11-29T23:37:24.868Z"
   },
   {
    "duration": 3413,
    "start_time": "2024-11-29T23:38:04.716Z"
   },
   {
    "duration": 38,
    "start_time": "2024-11-29T23:38:22.507Z"
   },
   {
    "duration": 1124,
    "start_time": "2024-11-29T23:38:26.424Z"
   },
   {
    "duration": 5,
    "start_time": "2024-11-29T23:39:15.768Z"
   },
   {
    "duration": 5,
    "start_time": "2024-11-29T23:39:37.105Z"
   },
   {
    "duration": 6,
    "start_time": "2024-11-29T23:39:58.954Z"
   },
   {
    "duration": 65,
    "start_time": "2024-11-29T23:47:23.897Z"
   },
   {
    "duration": 3,
    "start_time": "2024-11-29T23:47:32.877Z"
   },
   {
    "duration": 1440,
    "start_time": "2024-11-29T23:47:49.916Z"
   },
   {
    "duration": 51,
    "start_time": "2024-11-29T23:49:30.693Z"
   },
   {
    "duration": 1172,
    "start_time": "2024-11-29T23:50:35.859Z"
   },
   {
    "duration": 3,
    "start_time": "2024-11-29T23:50:37.033Z"
   },
   {
    "duration": 31,
    "start_time": "2024-11-29T23:50:37.037Z"
   },
   {
    "duration": 1113,
    "start_time": "2024-11-29T23:50:37.070Z"
   },
   {
    "duration": 113,
    "start_time": "2024-11-29T23:50:38.184Z"
   },
   {
    "duration": 18,
    "start_time": "2024-11-29T23:50:38.299Z"
   },
   {
    "duration": 62,
    "start_time": "2024-11-29T23:50:38.318Z"
   },
   {
    "duration": 41,
    "start_time": "2024-11-29T23:50:38.381Z"
   },
   {
    "duration": 306,
    "start_time": "2024-11-29T23:50:38.424Z"
   },
   {
    "duration": 367,
    "start_time": "2024-11-29T23:50:38.733Z"
   },
   {
    "duration": 371,
    "start_time": "2024-11-29T23:50:39.101Z"
   },
   {
    "duration": 7,
    "start_time": "2024-11-29T23:50:39.474Z"
   },
   {
    "duration": 7,
    "start_time": "2024-11-29T23:50:39.482Z"
   },
   {
    "duration": 10,
    "start_time": "2024-11-29T23:50:39.490Z"
   },
   {
    "duration": 2,
    "start_time": "2024-11-29T23:50:39.502Z"
   },
   {
    "duration": 27,
    "start_time": "2024-11-29T23:50:39.506Z"
   },
   {
    "duration": 1158,
    "start_time": "2024-11-29T23:50:39.535Z"
   },
   {
    "duration": 54,
    "start_time": "2024-11-29T23:50:40.695Z"
   },
   {
    "duration": 12,
    "start_time": "2024-11-29T23:50:40.761Z"
   },
   {
    "duration": 69,
    "start_time": "2024-11-29T23:50:40.775Z"
   },
   {
    "duration": 18,
    "start_time": "2024-11-29T23:50:40.845Z"
   },
   {
    "duration": 171,
    "start_time": "2024-11-29T23:50:40.865Z"
   },
   {
    "duration": 132,
    "start_time": "2024-11-29T23:50:41.037Z"
   },
   {
    "duration": 155,
    "start_time": "2024-11-29T23:50:41.171Z"
   },
   {
    "duration": 61,
    "start_time": "2024-11-29T23:50:41.328Z"
   },
   {
    "duration": 14,
    "start_time": "2024-11-29T23:50:41.391Z"
   },
   {
    "duration": 156,
    "start_time": "2024-11-29T23:50:41.407Z"
   },
   {
    "duration": 139,
    "start_time": "2024-11-29T23:50:41.567Z"
   },
   {
    "duration": 137,
    "start_time": "2024-11-29T23:50:41.708Z"
   },
   {
    "duration": 99,
    "start_time": "2024-11-29T23:50:41.846Z"
   },
   {
    "duration": 106,
    "start_time": "2024-11-29T23:50:41.947Z"
   },
   {
    "duration": 0,
    "start_time": "2024-11-29T23:50:42.062Z"
   },
   {
    "duration": 0,
    "start_time": "2024-11-29T23:50:42.063Z"
   },
   {
    "duration": 0,
    "start_time": "2024-11-29T23:50:42.064Z"
   },
   {
    "duration": 0,
    "start_time": "2024-11-29T23:50:42.065Z"
   },
   {
    "duration": 0,
    "start_time": "2024-11-29T23:50:42.066Z"
   },
   {
    "duration": 0,
    "start_time": "2024-11-29T23:50:42.067Z"
   },
   {
    "duration": 0,
    "start_time": "2024-11-29T23:50:42.068Z"
   },
   {
    "duration": 0,
    "start_time": "2024-11-29T23:50:42.069Z"
   },
   {
    "duration": 0,
    "start_time": "2024-11-29T23:50:42.070Z"
   },
   {
    "duration": 1505,
    "start_time": "2024-11-29T23:55:13.359Z"
   },
   {
    "duration": 60,
    "start_time": "2024-11-29T23:55:28.821Z"
   },
   {
    "duration": 71,
    "start_time": "2024-11-29T23:55:37.374Z"
   },
   {
    "duration": 1143,
    "start_time": "2024-11-29T23:57:26.587Z"
   },
   {
    "duration": 3,
    "start_time": "2024-11-29T23:57:27.731Z"
   },
   {
    "duration": 6,
    "start_time": "2024-11-29T23:57:27.736Z"
   },
   {
    "duration": 1012,
    "start_time": "2024-11-29T23:57:27.744Z"
   },
   {
    "duration": 129,
    "start_time": "2024-11-29T23:57:28.758Z"
   },
   {
    "duration": 16,
    "start_time": "2024-11-29T23:57:28.888Z"
   },
   {
    "duration": 58,
    "start_time": "2024-11-29T23:57:28.905Z"
   },
   {
    "duration": 41,
    "start_time": "2024-11-29T23:57:28.964Z"
   },
   {
    "duration": 286,
    "start_time": "2024-11-29T23:57:29.006Z"
   },
   {
    "duration": 336,
    "start_time": "2024-11-29T23:57:29.295Z"
   },
   {
    "duration": 357,
    "start_time": "2024-11-29T23:57:29.633Z"
   },
   {
    "duration": 9,
    "start_time": "2024-11-29T23:57:29.991Z"
   },
   {
    "duration": 43,
    "start_time": "2024-11-29T23:57:30.001Z"
   },
   {
    "duration": 35,
    "start_time": "2024-11-29T23:57:30.046Z"
   },
   {
    "duration": 42,
    "start_time": "2024-11-29T23:57:30.083Z"
   },
   {
    "duration": 5,
    "start_time": "2024-11-29T23:57:30.127Z"
   },
   {
    "duration": 27,
    "start_time": "2024-11-29T23:57:30.133Z"
   },
   {
    "duration": 1232,
    "start_time": "2024-11-29T23:57:30.161Z"
   },
   {
    "duration": 47,
    "start_time": "2024-11-29T23:57:31.395Z"
   },
   {
    "duration": 22,
    "start_time": "2024-11-29T23:57:31.443Z"
   },
   {
    "duration": 66,
    "start_time": "2024-11-29T23:57:31.466Z"
   },
   {
    "duration": 153,
    "start_time": "2024-11-29T23:57:31.533Z"
   },
   {
    "duration": 122,
    "start_time": "2024-11-29T23:57:31.688Z"
   },
   {
    "duration": 268,
    "start_time": "2024-11-29T23:57:31.811Z"
   },
   {
    "duration": 96,
    "start_time": "2024-11-29T23:57:32.080Z"
   },
   {
    "duration": 13,
    "start_time": "2024-11-29T23:57:32.177Z"
   },
   {
    "duration": 283,
    "start_time": "2024-11-29T23:57:32.192Z"
   },
   {
    "duration": 295,
    "start_time": "2024-11-29T23:57:32.478Z"
   },
   {
    "duration": 231,
    "start_time": "2024-11-29T23:57:32.775Z"
   },
   {
    "duration": 125,
    "start_time": "2024-11-29T23:57:33.062Z"
   },
   {
    "duration": 3,
    "start_time": "2024-11-29T23:57:33.188Z"
   },
   {
    "duration": 1065,
    "start_time": "2024-11-29T23:57:33.192Z"
   },
   {
    "duration": 7,
    "start_time": "2024-11-29T23:57:34.261Z"
   },
   {
    "duration": 854,
    "start_time": "2024-11-29T23:57:34.269Z"
   },
   {
    "duration": 3,
    "start_time": "2024-11-29T23:57:35.125Z"
   },
   {
    "duration": 0,
    "start_time": "2024-11-29T23:57:35.130Z"
   },
   {
    "duration": 0,
    "start_time": "2024-11-29T23:57:35.131Z"
   },
   {
    "duration": 0,
    "start_time": "2024-11-29T23:57:35.133Z"
   },
   {
    "duration": 0,
    "start_time": "2024-11-29T23:57:35.134Z"
   },
   {
    "duration": 0,
    "start_time": "2024-11-29T23:57:35.136Z"
   },
   {
    "duration": 172,
    "start_time": "2024-11-30T00:19:27.404Z"
   },
   {
    "duration": 33,
    "start_time": "2024-11-30T00:19:56.873Z"
   },
   {
    "duration": 30,
    "start_time": "2024-11-30T00:20:22.390Z"
   },
   {
    "duration": 86,
    "start_time": "2024-11-30T00:22:13.827Z"
   },
   {
    "duration": 19,
    "start_time": "2024-11-30T00:22:21.210Z"
   },
   {
    "duration": 109,
    "start_time": "2024-11-30T00:22:27.402Z"
   },
   {
    "duration": 21,
    "start_time": "2024-11-30T00:24:02.012Z"
   },
   {
    "duration": 4,
    "start_time": "2024-11-30T00:24:59.161Z"
   },
   {
    "duration": 48,
    "start_time": "2024-11-30T00:30:46.950Z"
   },
   {
    "duration": 60,
    "start_time": "2024-11-30T00:31:21.815Z"
   },
   {
    "duration": 61,
    "start_time": "2024-11-30T00:31:59.140Z"
   },
   {
    "duration": 1186,
    "start_time": "2024-11-30T00:32:07.388Z"
   },
   {
    "duration": 3,
    "start_time": "2024-11-30T00:32:08.576Z"
   },
   {
    "duration": 5,
    "start_time": "2024-11-30T00:32:08.580Z"
   },
   {
    "duration": 1101,
    "start_time": "2024-11-30T00:32:08.587Z"
   },
   {
    "duration": 104,
    "start_time": "2024-11-30T00:32:09.689Z"
   },
   {
    "duration": 17,
    "start_time": "2024-11-30T00:32:09.795Z"
   },
   {
    "duration": 62,
    "start_time": "2024-11-30T00:32:09.813Z"
   },
   {
    "duration": 42,
    "start_time": "2024-11-30T00:32:09.876Z"
   },
   {
    "duration": 295,
    "start_time": "2024-11-30T00:32:09.920Z"
   },
   {
    "duration": 333,
    "start_time": "2024-11-30T00:32:10.217Z"
   },
   {
    "duration": 405,
    "start_time": "2024-11-30T00:32:10.551Z"
   },
   {
    "duration": 10,
    "start_time": "2024-11-30T00:32:10.958Z"
   },
   {
    "duration": 7,
    "start_time": "2024-11-30T00:32:10.970Z"
   },
   {
    "duration": 7,
    "start_time": "2024-11-30T00:32:10.978Z"
   },
   {
    "duration": 10,
    "start_time": "2024-11-30T00:32:10.986Z"
   },
   {
    "duration": 2,
    "start_time": "2024-11-30T00:32:10.998Z"
   },
   {
    "duration": 19,
    "start_time": "2024-11-30T00:32:11.001Z"
   },
   {
    "duration": 1120,
    "start_time": "2024-11-30T00:32:11.021Z"
   },
   {
    "duration": 57,
    "start_time": "2024-11-30T00:32:12.142Z"
   },
   {
    "duration": 10,
    "start_time": "2024-11-30T00:32:12.200Z"
   },
   {
    "duration": 83,
    "start_time": "2024-11-30T00:32:12.211Z"
   },
   {
    "duration": 144,
    "start_time": "2024-11-30T00:32:12.296Z"
   },
   {
    "duration": 130,
    "start_time": "2024-11-30T00:32:12.442Z"
   },
   {
    "duration": 155,
    "start_time": "2024-11-30T00:32:12.573Z"
   },
   {
    "duration": 48,
    "start_time": "2024-11-30T00:32:12.729Z"
   },
   {
    "duration": 12,
    "start_time": "2024-11-30T00:32:12.778Z"
   },
   {
    "duration": 132,
    "start_time": "2024-11-30T00:32:12.791Z"
   },
   {
    "duration": 142,
    "start_time": "2024-11-30T00:32:12.926Z"
   },
   {
    "duration": 119,
    "start_time": "2024-11-30T00:32:13.070Z"
   },
   {
    "duration": 81,
    "start_time": "2024-11-30T00:32:13.191Z"
   },
   {
    "duration": 2,
    "start_time": "2024-11-30T00:32:13.274Z"
   },
   {
    "duration": 995,
    "start_time": "2024-11-30T00:32:13.278Z"
   },
   {
    "duration": 20,
    "start_time": "2024-11-30T00:32:14.275Z"
   },
   {
    "duration": 4,
    "start_time": "2024-11-30T00:32:14.297Z"
   },
   {
    "duration": 162,
    "start_time": "2024-11-30T00:32:14.302Z"
   },
   {
    "duration": 0,
    "start_time": "2024-11-30T00:32:14.466Z"
   },
   {
    "duration": 0,
    "start_time": "2024-11-30T00:32:14.467Z"
   },
   {
    "duration": 0,
    "start_time": "2024-11-30T00:32:14.468Z"
   },
   {
    "duration": 0,
    "start_time": "2024-11-30T00:32:14.469Z"
   },
   {
    "duration": 0,
    "start_time": "2024-11-30T00:32:14.470Z"
   },
   {
    "duration": 0,
    "start_time": "2024-11-30T00:32:14.471Z"
   },
   {
    "duration": 0,
    "start_time": "2024-11-30T00:32:14.472Z"
   },
   {
    "duration": 0,
    "start_time": "2024-11-30T00:32:14.472Z"
   },
   {
    "duration": 0,
    "start_time": "2024-11-30T00:32:14.474Z"
   },
   {
    "duration": 45,
    "start_time": "2024-11-30T00:34:04.183Z"
   },
   {
    "duration": 41,
    "start_time": "2024-11-30T00:34:25.065Z"
   },
   {
    "duration": 5,
    "start_time": "2024-11-30T00:38:46.921Z"
   },
   {
    "duration": 912,
    "start_time": "2024-11-30T00:38:50.472Z"
   },
   {
    "duration": 1112,
    "start_time": "2024-11-30T00:40:42.863Z"
   },
   {
    "duration": 3,
    "start_time": "2024-11-30T00:40:43.976Z"
   },
   {
    "duration": 7,
    "start_time": "2024-11-30T00:40:43.980Z"
   },
   {
    "duration": 1065,
    "start_time": "2024-11-30T00:40:43.989Z"
   },
   {
    "duration": 112,
    "start_time": "2024-11-30T00:40:45.055Z"
   },
   {
    "duration": 16,
    "start_time": "2024-11-30T00:40:45.168Z"
   },
   {
    "duration": 78,
    "start_time": "2024-11-30T00:40:45.186Z"
   },
   {
    "duration": 42,
    "start_time": "2024-11-30T00:40:45.266Z"
   },
   {
    "duration": 309,
    "start_time": "2024-11-30T00:40:45.310Z"
   },
   {
    "duration": 344,
    "start_time": "2024-11-30T00:40:45.621Z"
   },
   {
    "duration": 368,
    "start_time": "2024-11-30T00:40:45.966Z"
   },
   {
    "duration": 7,
    "start_time": "2024-11-30T00:40:46.335Z"
   },
   {
    "duration": 7,
    "start_time": "2024-11-30T00:40:46.343Z"
   },
   {
    "duration": 21,
    "start_time": "2024-11-30T00:40:46.362Z"
   },
   {
    "duration": 11,
    "start_time": "2024-11-30T00:40:46.384Z"
   },
   {
    "duration": 9,
    "start_time": "2024-11-30T00:40:46.397Z"
   },
   {
    "duration": 20,
    "start_time": "2024-11-30T00:40:46.408Z"
   },
   {
    "duration": 1096,
    "start_time": "2024-11-30T00:40:46.429Z"
   },
   {
    "duration": 58,
    "start_time": "2024-11-30T00:40:47.526Z"
   },
   {
    "duration": 10,
    "start_time": "2024-11-30T00:40:47.586Z"
   },
   {
    "duration": 85,
    "start_time": "2024-11-30T00:40:47.598Z"
   },
   {
    "duration": 149,
    "start_time": "2024-11-30T00:40:47.685Z"
   },
   {
    "duration": 130,
    "start_time": "2024-11-30T00:40:47.835Z"
   },
   {
    "duration": 144,
    "start_time": "2024-11-30T00:40:47.966Z"
   },
   {
    "duration": 51,
    "start_time": "2024-11-30T00:40:48.112Z"
   },
   {
    "duration": 12,
    "start_time": "2024-11-30T00:40:48.164Z"
   },
   {
    "duration": 133,
    "start_time": "2024-11-30T00:40:48.178Z"
   },
   {
    "duration": 149,
    "start_time": "2024-11-30T00:40:48.315Z"
   },
   {
    "duration": 126,
    "start_time": "2024-11-30T00:40:48.466Z"
   },
   {
    "duration": 81,
    "start_time": "2024-11-30T00:40:48.593Z"
   },
   {
    "duration": 3,
    "start_time": "2024-11-30T00:40:48.675Z"
   },
   {
    "duration": 998,
    "start_time": "2024-11-30T00:40:48.679Z"
   },
   {
    "duration": 19,
    "start_time": "2024-11-30T00:40:49.678Z"
   },
   {
    "duration": 3,
    "start_time": "2024-11-30T00:40:49.699Z"
   },
   {
    "duration": 43,
    "start_time": "2024-11-30T00:40:49.703Z"
   },
   {
    "duration": 54,
    "start_time": "2024-11-30T00:40:49.747Z"
   },
   {
    "duration": 6,
    "start_time": "2024-11-30T00:40:49.803Z"
   },
   {
    "duration": 1584,
    "start_time": "2024-11-30T00:40:49.810Z"
   },
   {
    "duration": 3,
    "start_time": "2024-11-30T00:40:51.396Z"
   },
   {
    "duration": 0,
    "start_time": "2024-11-30T00:40:51.400Z"
   },
   {
    "duration": 0,
    "start_time": "2024-11-30T00:40:51.401Z"
   },
   {
    "duration": 0,
    "start_time": "2024-11-30T00:40:51.403Z"
   },
   {
    "duration": 0,
    "start_time": "2024-11-30T00:40:51.404Z"
   },
   {
    "duration": 0,
    "start_time": "2024-11-30T00:40:51.405Z"
   },
   {
    "duration": 12,
    "start_time": "2024-11-30T00:43:37.546Z"
   },
   {
    "duration": 5,
    "start_time": "2024-11-30T00:44:01.757Z"
   },
   {
    "duration": 26,
    "start_time": "2024-11-30T00:44:19.934Z"
   },
   {
    "duration": 1156,
    "start_time": "2024-11-30T00:44:36.072Z"
   },
   {
    "duration": 3,
    "start_time": "2024-11-30T00:44:37.231Z"
   },
   {
    "duration": 17,
    "start_time": "2024-11-30T00:44:37.236Z"
   },
   {
    "duration": 1080,
    "start_time": "2024-11-30T00:44:37.255Z"
   },
   {
    "duration": 111,
    "start_time": "2024-11-30T00:44:38.336Z"
   },
   {
    "duration": 21,
    "start_time": "2024-11-30T00:44:38.449Z"
   },
   {
    "duration": 79,
    "start_time": "2024-11-30T00:44:38.472Z"
   },
   {
    "duration": 42,
    "start_time": "2024-11-30T00:44:38.553Z"
   },
   {
    "duration": 306,
    "start_time": "2024-11-30T00:44:38.598Z"
   },
   {
    "duration": 328,
    "start_time": "2024-11-30T00:44:38.905Z"
   },
   {
    "duration": 371,
    "start_time": "2024-11-30T00:44:39.234Z"
   },
   {
    "duration": 6,
    "start_time": "2024-11-30T00:44:39.607Z"
   },
   {
    "duration": 7,
    "start_time": "2024-11-30T00:44:39.614Z"
   },
   {
    "duration": 19,
    "start_time": "2024-11-30T00:44:39.623Z"
   },
   {
    "duration": 18,
    "start_time": "2024-11-30T00:44:39.644Z"
   },
   {
    "duration": 7,
    "start_time": "2024-11-30T00:44:39.663Z"
   },
   {
    "duration": 23,
    "start_time": "2024-11-30T00:44:39.672Z"
   },
   {
    "duration": 1112,
    "start_time": "2024-11-30T00:44:39.697Z"
   },
   {
    "duration": 58,
    "start_time": "2024-11-30T00:44:40.810Z"
   },
   {
    "duration": 10,
    "start_time": "2024-11-30T00:44:40.870Z"
   },
   {
    "duration": 82,
    "start_time": "2024-11-30T00:44:40.881Z"
   },
   {
    "duration": 149,
    "start_time": "2024-11-30T00:44:40.964Z"
   },
   {
    "duration": 128,
    "start_time": "2024-11-30T00:44:41.115Z"
   },
   {
    "duration": 146,
    "start_time": "2024-11-30T00:44:41.244Z"
   },
   {
    "duration": 43,
    "start_time": "2024-11-30T00:44:41.392Z"
   },
   {
    "duration": 29,
    "start_time": "2024-11-30T00:44:41.436Z"
   },
   {
    "duration": 135,
    "start_time": "2024-11-30T00:44:41.469Z"
   },
   {
    "duration": 143,
    "start_time": "2024-11-30T00:44:41.605Z"
   },
   {
    "duration": 131,
    "start_time": "2024-11-30T00:44:41.750Z"
   },
   {
    "duration": 81,
    "start_time": "2024-11-30T00:44:41.882Z"
   },
   {
    "duration": 3,
    "start_time": "2024-11-30T00:44:41.964Z"
   },
   {
    "duration": 1494,
    "start_time": "2024-11-30T00:44:41.968Z"
   },
   {
    "duration": 20,
    "start_time": "2024-11-30T00:44:43.463Z"
   },
   {
    "duration": 3,
    "start_time": "2024-11-30T00:44:43.485Z"
   },
   {
    "duration": 95,
    "start_time": "2024-11-30T00:44:43.489Z"
   },
   {
    "duration": 94,
    "start_time": "2024-11-30T00:44:43.585Z"
   },
   {
    "duration": 6,
    "start_time": "2024-11-30T00:44:43.681Z"
   },
   {
    "duration": 1133,
    "start_time": "2024-11-30T00:44:43.689Z"
   },
   {
    "duration": 12,
    "start_time": "2024-11-30T00:44:44.824Z"
   },
   {
    "duration": 39,
    "start_time": "2024-11-30T00:44:44.838Z"
   },
   {
    "duration": 3,
    "start_time": "2024-11-30T00:44:44.879Z"
   },
   {
    "duration": 0,
    "start_time": "2024-11-30T00:44:44.883Z"
   },
   {
    "duration": 0,
    "start_time": "2024-11-30T00:44:44.884Z"
   },
   {
    "duration": 0,
    "start_time": "2024-11-30T00:44:44.885Z"
   },
   {
    "duration": 0,
    "start_time": "2024-11-30T00:44:44.887Z"
   },
   {
    "duration": 0,
    "start_time": "2024-11-30T00:44:44.887Z"
   },
   {
    "duration": 31,
    "start_time": "2024-11-30T00:45:25.846Z"
   },
   {
    "duration": 25,
    "start_time": "2024-11-30T00:45:31.107Z"
   },
   {
    "duration": 25,
    "start_time": "2024-11-30T00:45:58.535Z"
   },
   {
    "duration": 26,
    "start_time": "2024-11-30T00:46:01.826Z"
   },
   {
    "duration": 25,
    "start_time": "2024-11-30T00:46:36.376Z"
   },
   {
    "duration": 27,
    "start_time": "2024-11-30T00:47:51.795Z"
   },
   {
    "duration": 1144,
    "start_time": "2024-11-30T00:52:31.126Z"
   },
   {
    "duration": 2,
    "start_time": "2024-11-30T00:52:32.272Z"
   },
   {
    "duration": 16,
    "start_time": "2024-11-30T00:52:32.275Z"
   },
   {
    "duration": 1083,
    "start_time": "2024-11-30T00:52:32.293Z"
   },
   {
    "duration": 109,
    "start_time": "2024-11-30T00:52:33.377Z"
   },
   {
    "duration": 15,
    "start_time": "2024-11-30T00:52:33.487Z"
   },
   {
    "duration": 50,
    "start_time": "2024-11-30T00:52:33.503Z"
   },
   {
    "duration": 39,
    "start_time": "2024-11-30T00:52:33.562Z"
   },
   {
    "duration": 278,
    "start_time": "2024-11-30T00:52:33.603Z"
   },
   {
    "duration": 312,
    "start_time": "2024-11-30T00:52:33.883Z"
   },
   {
    "duration": 376,
    "start_time": "2024-11-30T00:52:34.197Z"
   },
   {
    "duration": 7,
    "start_time": "2024-11-30T00:52:34.574Z"
   },
   {
    "duration": 25,
    "start_time": "2024-11-30T00:52:34.583Z"
   },
   {
    "duration": 28,
    "start_time": "2024-11-30T00:52:34.609Z"
   },
   {
    "duration": 27,
    "start_time": "2024-11-30T00:52:34.638Z"
   },
   {
    "duration": 7,
    "start_time": "2024-11-30T00:52:34.666Z"
   },
   {
    "duration": 37,
    "start_time": "2024-11-30T00:52:34.674Z"
   },
   {
    "duration": 1073,
    "start_time": "2024-11-30T00:52:34.712Z"
   },
   {
    "duration": 47,
    "start_time": "2024-11-30T00:52:35.786Z"
   },
   {
    "duration": 9,
    "start_time": "2024-11-30T00:52:35.834Z"
   },
   {
    "duration": 81,
    "start_time": "2024-11-30T00:52:35.845Z"
   },
   {
    "duration": 140,
    "start_time": "2024-11-30T00:52:35.927Z"
   },
   {
    "duration": 121,
    "start_time": "2024-11-30T00:52:36.069Z"
   },
   {
    "duration": 146,
    "start_time": "2024-11-30T00:52:36.191Z"
   },
   {
    "duration": 46,
    "start_time": "2024-11-30T00:52:36.339Z"
   },
   {
    "duration": 12,
    "start_time": "2024-11-30T00:52:36.386Z"
   },
   {
    "duration": 140,
    "start_time": "2024-11-30T00:52:36.400Z"
   },
   {
    "duration": 139,
    "start_time": "2024-11-30T00:52:36.543Z"
   },
   {
    "duration": 128,
    "start_time": "2024-11-30T00:52:36.684Z"
   },
   {
    "duration": 74,
    "start_time": "2024-11-30T00:52:36.814Z"
   },
   {
    "duration": 3,
    "start_time": "2024-11-30T00:52:36.889Z"
   },
   {
    "duration": 973,
    "start_time": "2024-11-30T00:52:36.893Z"
   },
   {
    "duration": 19,
    "start_time": "2024-11-30T00:52:37.868Z"
   },
   {
    "duration": 3,
    "start_time": "2024-11-30T00:52:37.888Z"
   },
   {
    "duration": 36,
    "start_time": "2024-11-30T00:52:37.893Z"
   },
   {
    "duration": 65,
    "start_time": "2024-11-30T00:52:37.930Z"
   },
   {
    "duration": 5,
    "start_time": "2024-11-30T00:52:37.997Z"
   },
   {
    "duration": 967,
    "start_time": "2024-11-30T00:52:38.004Z"
   },
   {
    "duration": 12,
    "start_time": "2024-11-30T00:52:38.972Z"
   },
   {
    "duration": 23,
    "start_time": "2024-11-30T00:52:38.985Z"
   },
   {
    "duration": 53,
    "start_time": "2024-11-30T00:52:39.010Z"
   },
   {
    "duration": 25,
    "start_time": "2024-11-30T00:52:39.064Z"
   },
   {
    "duration": 1092,
    "start_time": "2024-11-30T00:52:39.091Z"
   },
   {
    "duration": 6,
    "start_time": "2024-11-30T00:52:40.185Z"
   },
   {
    "duration": 51,
    "start_time": "2024-11-30T00:52:40.193Z"
   },
   {
    "duration": 20,
    "start_time": "2024-11-30T00:52:40.262Z"
   },
   {
    "duration": 1667,
    "start_time": "2024-11-30T00:56:38.325Z"
   },
   {
    "duration": 3,
    "start_time": "2024-11-30T00:56:59.596Z"
   },
   {
    "duration": 1511,
    "start_time": "2024-11-30T00:57:08.985Z"
   },
   {
    "duration": 9,
    "start_time": "2024-11-30T00:58:09.761Z"
   },
   {
    "duration": 13,
    "start_time": "2024-11-30T01:00:44.235Z"
   },
   {
    "duration": 30,
    "start_time": "2024-11-30T01:01:07.344Z"
   },
   {
    "duration": 23,
    "start_time": "2024-11-30T01:01:39.344Z"
   },
   {
    "duration": 23,
    "start_time": "2024-11-30T01:01:50.459Z"
   },
   {
    "duration": 21,
    "start_time": "2024-11-30T01:02:00.623Z"
   },
   {
    "duration": 23,
    "start_time": "2024-11-30T01:02:18.404Z"
   },
   {
    "duration": 22,
    "start_time": "2024-11-30T01:02:22.469Z"
   },
   {
    "duration": 22,
    "start_time": "2024-11-30T01:02:27.522Z"
   },
   {
    "duration": 22,
    "start_time": "2024-11-30T01:02:32.146Z"
   },
   {
    "duration": 23,
    "start_time": "2024-11-30T01:02:46.998Z"
   },
   {
    "duration": 3,
    "start_time": "2024-11-30T01:03:33.015Z"
   },
   {
    "duration": 4,
    "start_time": "2024-11-30T01:03:55.836Z"
   },
   {
    "duration": 23,
    "start_time": "2024-11-30T01:04:44.959Z"
   },
   {
    "duration": 1524,
    "start_time": "2024-11-30T01:05:47.581Z"
   },
   {
    "duration": 1554,
    "start_time": "2024-11-30T01:06:07.290Z"
   },
   {
    "duration": 1541,
    "start_time": "2024-11-30T01:06:46.231Z"
   },
   {
    "duration": 1578,
    "start_time": "2024-11-30T01:07:31.687Z"
   },
   {
    "duration": 23,
    "start_time": "2024-11-30T01:07:42.472Z"
   },
   {
    "duration": 22,
    "start_time": "2024-11-30T01:07:45.875Z"
   },
   {
    "duration": 1506,
    "start_time": "2024-11-30T01:08:01.664Z"
   },
   {
    "duration": 1150,
    "start_time": "2024-11-30T01:09:17.177Z"
   },
   {
    "duration": 3,
    "start_time": "2024-11-30T01:09:18.328Z"
   },
   {
    "duration": 5,
    "start_time": "2024-11-30T01:09:18.332Z"
   },
   {
    "duration": 1125,
    "start_time": "2024-11-30T01:09:18.339Z"
   },
   {
    "duration": 118,
    "start_time": "2024-11-30T01:09:19.466Z"
   },
   {
    "duration": 17,
    "start_time": "2024-11-30T01:09:19.585Z"
   },
   {
    "duration": 60,
    "start_time": "2024-11-30T01:09:19.603Z"
   },
   {
    "duration": 42,
    "start_time": "2024-11-30T01:09:19.664Z"
   },
   {
    "duration": 314,
    "start_time": "2024-11-30T01:09:19.707Z"
   },
   {
    "duration": 322,
    "start_time": "2024-11-30T01:09:20.024Z"
   },
   {
    "duration": 382,
    "start_time": "2024-11-30T01:09:20.347Z"
   },
   {
    "duration": 9,
    "start_time": "2024-11-30T01:09:20.731Z"
   },
   {
    "duration": 20,
    "start_time": "2024-11-30T01:09:20.742Z"
   },
   {
    "duration": 17,
    "start_time": "2024-11-30T01:09:20.764Z"
   },
   {
    "duration": 26,
    "start_time": "2024-11-30T01:09:20.782Z"
   },
   {
    "duration": 22,
    "start_time": "2024-11-30T01:09:20.809Z"
   },
   {
    "duration": 54,
    "start_time": "2024-11-30T01:09:20.832Z"
   },
   {
    "duration": 1112,
    "start_time": "2024-11-30T01:09:20.887Z"
   },
   {
    "duration": 50,
    "start_time": "2024-11-30T01:09:22.001Z"
   },
   {
    "duration": 10,
    "start_time": "2024-11-30T01:09:22.062Z"
   },
   {
    "duration": 66,
    "start_time": "2024-11-30T01:09:22.073Z"
   },
   {
    "duration": 160,
    "start_time": "2024-11-30T01:09:22.141Z"
   },
   {
    "duration": 127,
    "start_time": "2024-11-30T01:09:22.302Z"
   },
   {
    "duration": 154,
    "start_time": "2024-11-30T01:09:22.430Z"
   },
   {
    "duration": 44,
    "start_time": "2024-11-30T01:09:22.585Z"
   },
   {
    "duration": 13,
    "start_time": "2024-11-30T01:09:22.630Z"
   },
   {
    "duration": 151,
    "start_time": "2024-11-30T01:09:22.644Z"
   },
   {
    "duration": 149,
    "start_time": "2024-11-30T01:09:22.799Z"
   },
   {
    "duration": 137,
    "start_time": "2024-11-30T01:09:22.950Z"
   },
   {
    "duration": 82,
    "start_time": "2024-11-30T01:09:23.089Z"
   },
   {
    "duration": 3,
    "start_time": "2024-11-30T01:09:23.173Z"
   },
   {
    "duration": 999,
    "start_time": "2024-11-30T01:09:23.178Z"
   },
   {
    "duration": 19,
    "start_time": "2024-11-30T01:09:24.179Z"
   },
   {
    "duration": 4,
    "start_time": "2024-11-30T01:09:24.199Z"
   },
   {
    "duration": 58,
    "start_time": "2024-11-30T01:09:24.204Z"
   },
   {
    "duration": 42,
    "start_time": "2024-11-30T01:09:24.264Z"
   },
   {
    "duration": 6,
    "start_time": "2024-11-30T01:09:24.307Z"
   },
   {
    "duration": 1009,
    "start_time": "2024-11-30T01:09:24.314Z"
   },
   {
    "duration": 13,
    "start_time": "2024-11-30T01:09:25.324Z"
   },
   {
    "duration": 41,
    "start_time": "2024-11-30T01:09:25.338Z"
   },
   {
    "duration": 31,
    "start_time": "2024-11-30T01:09:25.381Z"
   },
   {
    "duration": 24,
    "start_time": "2024-11-30T01:09:25.414Z"
   },
   {
    "duration": 1210,
    "start_time": "2024-11-30T01:09:25.440Z"
   },
   {
    "duration": 30,
    "start_time": "2024-11-30T01:09:26.652Z"
   },
   {
    "duration": 138,
    "start_time": "2024-11-30T01:09:26.683Z"
   },
   {
    "duration": 0,
    "start_time": "2024-11-30T01:09:26.823Z"
   },
   {
    "duration": 0,
    "start_time": "2024-11-30T01:09:26.824Z"
   },
   {
    "duration": 51,
    "start_time": "2024-11-30T01:12:07.924Z"
   },
   {
    "duration": 49,
    "start_time": "2024-11-30T01:12:32.611Z"
   },
   {
    "duration": 1208,
    "start_time": "2024-11-30T01:13:15.462Z"
   },
   {
    "duration": 2,
    "start_time": "2024-11-30T01:13:16.672Z"
   },
   {
    "duration": 10,
    "start_time": "2024-11-30T01:13:16.676Z"
   },
   {
    "duration": 1116,
    "start_time": "2024-11-30T01:13:16.688Z"
   },
   {
    "duration": 108,
    "start_time": "2024-11-30T01:13:17.806Z"
   },
   {
    "duration": 17,
    "start_time": "2024-11-30T01:13:17.916Z"
   },
   {
    "duration": 62,
    "start_time": "2024-11-30T01:13:17.935Z"
   },
   {
    "duration": 41,
    "start_time": "2024-11-30T01:13:17.999Z"
   },
   {
    "duration": 316,
    "start_time": "2024-11-30T01:13:18.042Z"
   },
   {
    "duration": 335,
    "start_time": "2024-11-30T01:13:18.363Z"
   },
   {
    "duration": 394,
    "start_time": "2024-11-30T01:13:18.700Z"
   },
   {
    "duration": 8,
    "start_time": "2024-11-30T01:13:19.096Z"
   },
   {
    "duration": 24,
    "start_time": "2024-11-30T01:13:19.106Z"
   },
   {
    "duration": 14,
    "start_time": "2024-11-30T01:13:19.131Z"
   },
   {
    "duration": 20,
    "start_time": "2024-11-30T01:13:19.147Z"
   },
   {
    "duration": 3,
    "start_time": "2024-11-30T01:13:19.168Z"
   },
   {
    "duration": 24,
    "start_time": "2024-11-30T01:13:19.173Z"
   },
   {
    "duration": 1089,
    "start_time": "2024-11-30T01:13:19.198Z"
   },
   {
    "duration": 48,
    "start_time": "2024-11-30T01:13:20.288Z"
   },
   {
    "duration": 30,
    "start_time": "2024-11-30T01:13:20.337Z"
   },
   {
    "duration": 66,
    "start_time": "2024-11-30T01:13:20.369Z"
   },
   {
    "duration": 155,
    "start_time": "2024-11-30T01:13:20.437Z"
   },
   {
    "duration": 140,
    "start_time": "2024-11-30T01:13:20.594Z"
   },
   {
    "duration": 151,
    "start_time": "2024-11-30T01:13:20.736Z"
   },
   {
    "duration": 39,
    "start_time": "2024-11-30T01:13:20.889Z"
   },
   {
    "duration": 12,
    "start_time": "2024-11-30T01:13:20.929Z"
   },
   {
    "duration": 126,
    "start_time": "2024-11-30T01:13:20.961Z"
   },
   {
    "duration": 143,
    "start_time": "2024-11-30T01:13:21.090Z"
   },
   {
    "duration": 129,
    "start_time": "2024-11-30T01:13:21.235Z"
   },
   {
    "duration": 76,
    "start_time": "2024-11-30T01:13:21.365Z"
   },
   {
    "duration": 19,
    "start_time": "2024-11-30T01:13:21.443Z"
   },
   {
    "duration": 1013,
    "start_time": "2024-11-30T01:13:21.464Z"
   },
   {
    "duration": 21,
    "start_time": "2024-11-30T01:13:22.478Z"
   },
   {
    "duration": 4,
    "start_time": "2024-11-30T01:13:22.500Z"
   },
   {
    "duration": 72,
    "start_time": "2024-11-30T01:13:22.505Z"
   },
   {
    "duration": 42,
    "start_time": "2024-11-30T01:13:22.578Z"
   },
   {
    "duration": 6,
    "start_time": "2024-11-30T01:13:22.622Z"
   },
   {
    "duration": 1005,
    "start_time": "2024-11-30T01:13:22.629Z"
   },
   {
    "duration": 13,
    "start_time": "2024-11-30T01:13:23.636Z"
   },
   {
    "duration": 35,
    "start_time": "2024-11-30T01:13:23.650Z"
   },
   {
    "duration": 34,
    "start_time": "2024-11-30T01:13:23.686Z"
   },
   {
    "duration": 45,
    "start_time": "2024-11-30T01:13:23.721Z"
   },
   {
    "duration": 1104,
    "start_time": "2024-11-30T01:13:23.768Z"
   },
   {
    "duration": 27,
    "start_time": "2024-11-30T01:13:24.873Z"
   },
   {
    "duration": 68,
    "start_time": "2024-11-30T01:13:24.901Z"
   },
   {
    "duration": 20,
    "start_time": "2024-11-30T01:13:24.970Z"
   },
   {
    "duration": 3,
    "start_time": "2024-11-30T01:13:24.992Z"
   },
   {
    "duration": 3811,
    "start_time": "2024-11-30T01:16:03.048Z"
   },
   {
    "duration": 68,
    "start_time": "2024-11-30T01:16:20.676Z"
   },
   {
    "duration": 107,
    "start_time": "2024-11-30T01:16:25.482Z"
   },
   {
    "duration": 15,
    "start_time": "2024-11-30T01:18:16.845Z"
   },
   {
    "duration": 13,
    "start_time": "2024-11-30T01:18:37.652Z"
   },
   {
    "duration": 6247,
    "start_time": "2024-11-30T01:18:52.212Z"
   },
   {
    "duration": 5,
    "start_time": "2024-11-30T01:25:14.560Z"
   },
   {
    "duration": 3,
    "start_time": "2024-11-30T01:25:52.202Z"
   },
   {
    "duration": 3662,
    "start_time": "2024-12-01T12:59:03.709Z"
   },
   {
    "duration": 1506,
    "start_time": "2024-12-01T12:59:07.373Z"
   },
   {
    "duration": 3,
    "start_time": "2024-12-01T12:59:08.881Z"
   },
   {
    "duration": 36,
    "start_time": "2024-12-01T12:59:08.885Z"
   },
   {
    "duration": 1493,
    "start_time": "2024-12-01T12:59:08.922Z"
   },
   {
    "duration": 117,
    "start_time": "2024-12-01T12:59:10.417Z"
   },
   {
    "duration": 31,
    "start_time": "2024-12-01T12:59:10.537Z"
   },
   {
    "duration": 52,
    "start_time": "2024-12-01T12:59:10.570Z"
   },
   {
    "duration": 46,
    "start_time": "2024-12-01T12:59:10.624Z"
   },
   {
    "duration": 331,
    "start_time": "2024-12-01T12:59:10.672Z"
   },
   {
    "duration": 365,
    "start_time": "2024-12-01T12:59:11.004Z"
   },
   {
    "duration": 408,
    "start_time": "2024-12-01T12:59:11.370Z"
   },
   {
    "duration": 7,
    "start_time": "2024-12-01T12:59:11.780Z"
   },
   {
    "duration": 7,
    "start_time": "2024-12-01T12:59:11.788Z"
   },
   {
    "duration": 14,
    "start_time": "2024-12-01T12:59:11.797Z"
   },
   {
    "duration": 11,
    "start_time": "2024-12-01T12:59:11.813Z"
   },
   {
    "duration": 26,
    "start_time": "2024-12-01T12:59:11.826Z"
   },
   {
    "duration": 18,
    "start_time": "2024-12-01T12:59:11.968Z"
   },
   {
    "duration": 1234,
    "start_time": "2024-12-01T12:59:16.109Z"
   },
   {
    "duration": 55,
    "start_time": "2024-12-01T12:59:19.557Z"
   },
   {
    "duration": 10,
    "start_time": "2024-12-01T12:59:24.323Z"
   },
   {
    "duration": 71,
    "start_time": "2024-12-01T12:59:25.642Z"
   },
   {
    "duration": 167,
    "start_time": "2024-12-01T12:59:30.537Z"
   },
   {
    "duration": 134,
    "start_time": "2024-12-01T12:59:31.770Z"
   },
   {
    "duration": 153,
    "start_time": "2024-12-01T12:59:33.173Z"
   },
   {
    "duration": 55,
    "start_time": "2024-12-01T12:59:33.974Z"
   },
   {
    "duration": 13,
    "start_time": "2024-12-01T12:59:35.277Z"
   },
   {
    "duration": 160,
    "start_time": "2024-12-01T12:59:35.768Z"
   },
   {
    "duration": 158,
    "start_time": "2024-12-01T12:59:37.842Z"
   },
   {
    "duration": 141,
    "start_time": "2024-12-01T12:59:40.643Z"
   },
   {
    "duration": 76,
    "start_time": "2024-12-01T13:00:06.119Z"
   },
   {
    "duration": 3,
    "start_time": "2024-12-01T13:00:15.477Z"
   },
   {
    "duration": 1213,
    "start_time": "2024-12-01T13:00:18.665Z"
   },
   {
    "duration": 2507,
    "start_time": "2024-12-01T13:52:07.061Z"
   },
   {
    "duration": 4,
    "start_time": "2024-12-01T13:52:09.570Z"
   },
   {
    "duration": 11,
    "start_time": "2024-12-01T13:52:09.576Z"
   },
   {
    "duration": 5,
    "start_time": "2024-12-01T13:52:09.589Z"
   },
   {
    "duration": 1028,
    "start_time": "2024-12-01T13:52:09.595Z"
   },
   {
    "duration": 118,
    "start_time": "2024-12-01T13:52:10.624Z"
   },
   {
    "duration": 15,
    "start_time": "2024-12-01T13:52:10.752Z"
   },
   {
    "duration": 132,
    "start_time": "2024-12-01T13:52:10.768Z"
   },
   {
    "duration": 21,
    "start_time": "2024-12-01T13:52:10.902Z"
   },
   {
    "duration": 280,
    "start_time": "2024-12-01T13:52:11.190Z"
   },
   {
    "duration": 310,
    "start_time": "2024-12-01T13:52:12.419Z"
   },
   {
    "duration": 331,
    "start_time": "2024-12-01T13:52:13.222Z"
   },
   {
    "duration": 8,
    "start_time": "2024-12-01T13:52:14.114Z"
   },
   {
    "duration": 8,
    "start_time": "2024-12-01T13:52:14.575Z"
   },
   {
    "duration": 7,
    "start_time": "2024-12-01T13:52:15.066Z"
   },
   {
    "duration": 8,
    "start_time": "2024-12-01T13:52:17.350Z"
   },
   {
    "duration": 3,
    "start_time": "2024-12-01T13:52:19.135Z"
   },
   {
    "duration": 19,
    "start_time": "2024-12-01T13:52:20.489Z"
   },
   {
    "duration": 1167,
    "start_time": "2024-12-01T13:52:23.623Z"
   },
   {
    "duration": 21,
    "start_time": "2024-12-01T13:54:23.887Z"
   },
   {
    "duration": 143,
    "start_time": "2024-12-01T13:54:26.638Z"
   },
   {
    "duration": 153,
    "start_time": "2024-12-01T13:57:20.208Z"
   },
   {
    "duration": 128,
    "start_time": "2024-12-01T13:57:57.873Z"
   },
   {
    "duration": 2631,
    "start_time": "2024-12-01T17:15:08.679Z"
   },
   {
    "duration": 4,
    "start_time": "2024-12-01T17:15:11.313Z"
   },
   {
    "duration": 19,
    "start_time": "2024-12-01T17:15:11.319Z"
   },
   {
    "duration": 9,
    "start_time": "2024-12-01T17:15:11.340Z"
   },
   {
    "duration": 1150,
    "start_time": "2024-12-01T17:15:12.075Z"
   },
   {
    "duration": 137,
    "start_time": "2024-12-01T17:15:13.227Z"
   },
   {
    "duration": 18,
    "start_time": "2024-12-01T17:15:13.367Z"
   },
   {
    "duration": 28,
    "start_time": "2024-12-01T17:15:13.972Z"
   },
   {
    "duration": 29,
    "start_time": "2024-12-01T17:15:15.129Z"
   },
   {
    "duration": 315,
    "start_time": "2024-12-01T17:15:16.074Z"
   },
   {
    "duration": 301,
    "start_time": "2024-12-01T17:15:20.322Z"
   },
   {
    "duration": 311,
    "start_time": "2024-12-01T17:15:22.014Z"
   },
   {
    "duration": 7,
    "start_time": "2024-12-01T17:15:23.721Z"
   },
   {
    "duration": 7,
    "start_time": "2024-12-01T17:15:25.317Z"
   },
   {
    "duration": 8,
    "start_time": "2024-12-01T17:15:25.880Z"
   },
   {
    "duration": 9,
    "start_time": "2024-12-01T17:16:13.794Z"
   },
   {
    "duration": 2,
    "start_time": "2024-12-01T17:16:30.428Z"
   },
   {
    "duration": 18,
    "start_time": "2024-12-01T17:16:31.784Z"
   },
   {
    "duration": 2794,
    "start_time": "2024-12-01T17:18:36.623Z"
   },
   {
    "duration": 4,
    "start_time": "2024-12-01T17:18:39.419Z"
   },
   {
    "duration": 8,
    "start_time": "2024-12-01T17:18:39.424Z"
   },
   {
    "duration": 4,
    "start_time": "2024-12-01T17:18:39.434Z"
   },
   {
    "duration": 1124,
    "start_time": "2024-12-01T17:18:39.439Z"
   },
   {
    "duration": 122,
    "start_time": "2024-12-01T17:18:40.566Z"
   },
   {
    "duration": 14,
    "start_time": "2024-12-01T17:18:40.690Z"
   },
   {
    "duration": 28,
    "start_time": "2024-12-01T17:18:40.705Z"
   },
   {
    "duration": 40,
    "start_time": "2024-12-01T17:18:40.734Z"
   },
   {
    "duration": 328,
    "start_time": "2024-12-01T17:18:41.782Z"
   },
   {
    "duration": 315,
    "start_time": "2024-12-01T17:18:42.456Z"
   },
   {
    "duration": 318,
    "start_time": "2024-12-01T17:18:43.044Z"
   },
   {
    "duration": 9,
    "start_time": "2024-12-01T17:18:45.050Z"
   },
   {
    "duration": 8,
    "start_time": "2024-12-01T17:18:45.720Z"
   },
   {
    "duration": 6,
    "start_time": "2024-12-01T17:18:46.390Z"
   },
   {
    "duration": 8,
    "start_time": "2024-12-01T17:18:47.834Z"
   },
   {
    "duration": 3,
    "start_time": "2024-12-01T17:18:48.778Z"
   },
   {
    "duration": 17,
    "start_time": "2024-12-01T17:18:49.493Z"
   },
   {
    "duration": 1224,
    "start_time": "2024-12-01T17:18:50.120Z"
   },
   {
    "duration": 9,
    "start_time": "2024-12-01T17:19:15.387Z"
   },
   {
    "duration": 48,
    "start_time": "2024-12-01T17:19:16.379Z"
   },
   {
    "duration": 141,
    "start_time": "2024-12-01T17:19:22.604Z"
   },
   {
    "duration": 134,
    "start_time": "2024-12-01T17:20:59.579Z"
   },
   {
    "duration": 174,
    "start_time": "2024-12-01T17:21:50.861Z"
   },
   {
    "duration": 47,
    "start_time": "2024-12-01T17:21:57.701Z"
   },
   {
    "duration": 197,
    "start_time": "2024-12-01T17:29:31.814Z"
   },
   {
    "duration": 48,
    "start_time": "2024-12-01T17:31:36.351Z"
   },
   {
    "duration": 14,
    "start_time": "2024-12-01T17:32:54.419Z"
   },
   {
    "duration": 125,
    "start_time": "2024-12-01T17:32:55.604Z"
   },
   {
    "duration": 147,
    "start_time": "2024-12-01T17:33:33.979Z"
   },
   {
    "duration": 123,
    "start_time": "2024-12-01T17:34:14.921Z"
   },
   {
    "duration": 70,
    "start_time": "2024-12-01T17:36:46.461Z"
   },
   {
    "duration": 4,
    "start_time": "2024-12-01T17:37:03.884Z"
   },
   {
    "duration": 1055,
    "start_time": "2024-12-01T17:37:04.715Z"
   },
   {
    "duration": 27,
    "start_time": "2024-12-01T17:42:24.582Z"
   },
   {
    "duration": 28,
    "start_time": "2024-12-01T17:51:15.201Z"
   },
   {
    "duration": 26,
    "start_time": "2024-12-01T17:52:12.770Z"
   },
   {
    "duration": 1150,
    "start_time": "2024-12-01T17:52:24.250Z"
   },
   {
    "duration": 18,
    "start_time": "2024-12-01T17:52:34.618Z"
   },
   {
    "duration": 5,
    "start_time": "2024-12-01T17:54:47.690Z"
   },
   {
    "duration": 2545,
    "start_time": "2024-12-01T18:02:49.370Z"
   },
   {
    "duration": 4,
    "start_time": "2024-12-01T18:02:51.918Z"
   },
   {
    "duration": 32,
    "start_time": "2024-12-01T18:02:51.923Z"
   },
   {
    "duration": 5,
    "start_time": "2024-12-01T18:02:51.957Z"
   },
   {
    "duration": 1069,
    "start_time": "2024-12-01T18:02:51.964Z"
   },
   {
    "duration": 118,
    "start_time": "2024-12-01T18:02:53.035Z"
   },
   {
    "duration": 16,
    "start_time": "2024-12-01T18:02:53.156Z"
   },
   {
    "duration": 35,
    "start_time": "2024-12-01T18:02:53.174Z"
   },
   {
    "duration": 18,
    "start_time": "2024-12-01T18:02:53.211Z"
   },
   {
    "duration": 296,
    "start_time": "2024-12-01T18:02:53.231Z"
   },
   {
    "duration": 283,
    "start_time": "2024-12-01T18:02:53.529Z"
   },
   {
    "duration": 340,
    "start_time": "2024-12-01T18:02:53.813Z"
   },
   {
    "duration": 7,
    "start_time": "2024-12-01T18:02:54.569Z"
   },
   {
    "duration": 7,
    "start_time": "2024-12-01T18:02:54.781Z"
   },
   {
    "duration": 6,
    "start_time": "2024-12-01T18:02:54.972Z"
   },
   {
    "duration": 9,
    "start_time": "2024-12-01T18:02:55.670Z"
   },
   {
    "duration": 3,
    "start_time": "2024-12-01T18:02:56.361Z"
   },
   {
    "duration": 18,
    "start_time": "2024-12-01T18:02:56.876Z"
   },
   {
    "duration": 1225,
    "start_time": "2024-12-01T18:02:57.352Z"
   },
   {
    "duration": 10,
    "start_time": "2024-12-01T18:02:58.925Z"
   },
   {
    "duration": 41,
    "start_time": "2024-12-01T18:02:59.757Z"
   },
   {
    "duration": 2561,
    "start_time": "2024-12-01T18:03:30.384Z"
   },
   {
    "duration": 3,
    "start_time": "2024-12-01T18:03:32.948Z"
   },
   {
    "duration": 22,
    "start_time": "2024-12-01T18:03:32.953Z"
   },
   {
    "duration": 3,
    "start_time": "2024-12-01T18:03:33.044Z"
   },
   {
    "duration": 1126,
    "start_time": "2024-12-01T18:03:33.741Z"
   },
   {
    "duration": 111,
    "start_time": "2024-12-01T18:03:34.869Z"
   },
   {
    "duration": 16,
    "start_time": "2024-12-01T18:03:34.982Z"
   },
   {
    "duration": 37,
    "start_time": "2024-12-01T18:03:35.000Z"
   },
   {
    "duration": 39,
    "start_time": "2024-12-01T18:03:35.918Z"
   },
   {
    "duration": 292,
    "start_time": "2024-12-01T18:03:36.327Z"
   },
   {
    "duration": 288,
    "start_time": "2024-12-01T18:03:36.896Z"
   },
   {
    "duration": 291,
    "start_time": "2024-12-01T18:03:37.256Z"
   },
   {
    "duration": 7,
    "start_time": "2024-12-01T18:03:37.634Z"
   },
   {
    "duration": 7,
    "start_time": "2024-12-01T18:03:37.809Z"
   },
   {
    "duration": 6,
    "start_time": "2024-12-01T18:03:37.998Z"
   },
   {
    "duration": 8,
    "start_time": "2024-12-01T18:03:38.536Z"
   },
   {
    "duration": 3,
    "start_time": "2024-12-01T18:03:38.901Z"
   },
   {
    "duration": 17,
    "start_time": "2024-12-01T18:03:39.337Z"
   },
   {
    "duration": 1157,
    "start_time": "2024-12-01T18:03:39.725Z"
   },
   {
    "duration": 9,
    "start_time": "2024-12-01T18:03:40.884Z"
   },
   {
    "duration": 59,
    "start_time": "2024-12-01T18:03:40.896Z"
   },
   {
    "duration": 131,
    "start_time": "2024-12-01T18:03:41.094Z"
   },
   {
    "duration": 123,
    "start_time": "2024-12-01T18:03:41.694Z"
   },
   {
    "duration": 151,
    "start_time": "2024-12-01T18:03:42.102Z"
   },
   {
    "duration": 44,
    "start_time": "2024-12-01T18:03:42.316Z"
   },
   {
    "duration": 12,
    "start_time": "2024-12-01T18:03:43.634Z"
   },
   {
    "duration": 170,
    "start_time": "2024-12-01T18:03:43.873Z"
   },
   {
    "duration": 140,
    "start_time": "2024-12-01T18:03:47.024Z"
   },
   {
    "duration": 124,
    "start_time": "2024-12-01T18:03:50.215Z"
   },
   {
    "duration": 67,
    "start_time": "2024-12-01T18:03:58.453Z"
   },
   {
    "duration": 2,
    "start_time": "2024-12-01T18:04:00.388Z"
   },
   {
    "duration": 1223,
    "start_time": "2024-12-01T18:04:00.840Z"
   },
   {
    "duration": 29,
    "start_time": "2024-12-01T18:04:07.670Z"
   },
   {
    "duration": 28,
    "start_time": "2024-12-01T18:04:08.422Z"
   },
   {
    "duration": 1022,
    "start_time": "2024-12-01T18:04:13.733Z"
   },
   {
    "duration": 24,
    "start_time": "2024-12-01T18:04:17.506Z"
   },
   {
    "duration": 19,
    "start_time": "2024-12-01T18:04:22.908Z"
   },
   {
    "duration": 35,
    "start_time": "2024-12-01T18:05:10.961Z"
   },
   {
    "duration": 27,
    "start_time": "2024-12-01T18:06:10.926Z"
   },
   {
    "duration": 25,
    "start_time": "2024-12-01T18:06:44.431Z"
   },
   {
    "duration": 5,
    "start_time": "2024-12-01T18:06:50.781Z"
   },
   {
    "duration": 896,
    "start_time": "2024-12-01T18:06:52.479Z"
   },
   {
    "duration": 13,
    "start_time": "2024-12-01T18:06:58.957Z"
   },
   {
    "duration": 24,
    "start_time": "2024-12-01T18:07:11.867Z"
   },
   {
    "duration": 61,
    "start_time": "2024-12-01T18:14:00.589Z"
   },
   {
    "duration": 28,
    "start_time": "2024-12-01T18:14:08.832Z"
   },
   {
    "duration": 48,
    "start_time": "2024-12-01T18:14:20.282Z"
   },
   {
    "duration": 2566,
    "start_time": "2024-12-01T18:14:28.697Z"
   },
   {
    "duration": 1266,
    "start_time": "2024-12-01T18:14:31.265Z"
   },
   {
    "duration": 3,
    "start_time": "2024-12-01T18:14:32.532Z"
   },
   {
    "duration": 17,
    "start_time": "2024-12-01T18:14:32.537Z"
   },
   {
    "duration": 1113,
    "start_time": "2024-12-01T18:14:32.555Z"
   },
   {
    "duration": 113,
    "start_time": "2024-12-01T18:14:33.669Z"
   },
   {
    "duration": 17,
    "start_time": "2024-12-01T18:14:33.783Z"
   },
   {
    "duration": 59,
    "start_time": "2024-12-01T18:14:33.801Z"
   },
   {
    "duration": 47,
    "start_time": "2024-12-01T18:14:33.862Z"
   },
   {
    "duration": 344,
    "start_time": "2024-12-01T18:14:33.913Z"
   },
   {
    "duration": 337,
    "start_time": "2024-12-01T18:14:34.259Z"
   },
   {
    "duration": 368,
    "start_time": "2024-12-01T18:14:34.597Z"
   },
   {
    "duration": 7,
    "start_time": "2024-12-01T18:14:34.967Z"
   },
   {
    "duration": 8,
    "start_time": "2024-12-01T18:14:34.976Z"
   },
   {
    "duration": 45,
    "start_time": "2024-12-01T18:14:34.986Z"
   },
   {
    "duration": 31,
    "start_time": "2024-12-01T18:14:35.033Z"
   },
   {
    "duration": 2,
    "start_time": "2024-12-01T18:14:35.066Z"
   },
   {
    "duration": 25,
    "start_time": "2024-12-01T18:14:35.070Z"
   },
   {
    "duration": 1114,
    "start_time": "2024-12-01T18:14:35.096Z"
   },
   {
    "duration": 9,
    "start_time": "2024-12-01T18:14:36.212Z"
   },
   {
    "duration": 125,
    "start_time": "2024-12-01T18:14:36.222Z"
   },
   {
    "duration": 141,
    "start_time": "2024-12-01T18:14:36.348Z"
   },
   {
    "duration": 133,
    "start_time": "2024-12-01T18:14:36.490Z"
   },
   {
    "duration": 155,
    "start_time": "2024-12-01T18:14:36.625Z"
   },
   {
    "duration": 45,
    "start_time": "2024-12-01T18:14:36.782Z"
   },
   {
    "duration": 29,
    "start_time": "2024-12-01T18:14:36.829Z"
   },
   {
    "duration": 141,
    "start_time": "2024-12-01T18:14:36.860Z"
   },
   {
    "duration": 152,
    "start_time": "2024-12-01T18:14:37.004Z"
   },
   {
    "duration": 134,
    "start_time": "2024-12-01T18:14:37.157Z"
   },
   {
    "duration": 78,
    "start_time": "2024-12-01T18:14:37.292Z"
   },
   {
    "duration": 3,
    "start_time": "2024-12-01T18:14:37.371Z"
   },
   {
    "duration": 1117,
    "start_time": "2024-12-01T18:14:37.375Z"
   },
   {
    "duration": 39,
    "start_time": "2024-12-01T18:14:38.494Z"
   },
   {
    "duration": 55,
    "start_time": "2024-12-01T18:14:38.535Z"
   },
   {
    "duration": 1086,
    "start_time": "2024-12-01T18:14:38.592Z"
   },
   {
    "duration": 36,
    "start_time": "2024-12-01T18:14:39.680Z"
   },
   {
    "duration": 4,
    "start_time": "2024-12-01T18:14:39.718Z"
   },
   {
    "duration": 49,
    "start_time": "2024-12-01T18:14:39.723Z"
   },
   {
    "duration": 62,
    "start_time": "2024-12-01T18:14:39.773Z"
   },
   {
    "duration": 7,
    "start_time": "2024-12-01T18:14:39.851Z"
   },
   {
    "duration": 969,
    "start_time": "2024-12-01T18:14:39.860Z"
   },
   {
    "duration": 54,
    "start_time": "2024-12-01T18:14:40.831Z"
   },
   {
    "duration": 38,
    "start_time": "2024-12-01T18:14:40.887Z"
   },
   {
    "duration": 32,
    "start_time": "2024-12-01T18:14:40.927Z"
   },
   {
    "duration": 52,
    "start_time": "2024-12-01T18:14:40.961Z"
   },
   {
    "duration": 6334,
    "start_time": "2024-12-01T18:14:41.015Z"
   },
   {
    "duration": 4,
    "start_time": "2024-12-01T18:14:47.350Z"
   },
   {
    "duration": 131,
    "start_time": "2024-12-01T18:14:47.355Z"
   },
   {
    "duration": 32,
    "start_time": "2024-12-01T18:34:24.125Z"
   },
   {
    "duration": 2560,
    "start_time": "2024-12-01T18:34:57.849Z"
   },
   {
    "duration": 4,
    "start_time": "2024-12-01T18:35:00.411Z"
   },
   {
    "duration": 55,
    "start_time": "2024-12-01T18:35:00.417Z"
   },
   {
    "duration": 12,
    "start_time": "2024-12-01T18:35:00.474Z"
   },
   {
    "duration": 1143,
    "start_time": "2024-12-01T18:35:00.488Z"
   },
   {
    "duration": 112,
    "start_time": "2024-12-01T18:35:01.633Z"
   },
   {
    "duration": 15,
    "start_time": "2024-12-01T18:35:01.752Z"
   },
   {
    "duration": 23,
    "start_time": "2024-12-01T18:35:01.769Z"
   },
   {
    "duration": 65,
    "start_time": "2024-12-01T18:35:01.793Z"
   },
   {
    "duration": 296,
    "start_time": "2024-12-01T18:35:01.860Z"
   },
   {
    "duration": 328,
    "start_time": "2024-12-01T18:35:02.157Z"
   },
   {
    "duration": 356,
    "start_time": "2024-12-01T18:35:02.487Z"
   },
   {
    "duration": 11,
    "start_time": "2024-12-01T18:35:02.844Z"
   },
   {
    "duration": 23,
    "start_time": "2024-12-01T18:35:02.857Z"
   },
   {
    "duration": 45,
    "start_time": "2024-12-01T18:35:02.882Z"
   },
   {
    "duration": 40,
    "start_time": "2024-12-01T18:35:02.929Z"
   },
   {
    "duration": 2,
    "start_time": "2024-12-01T18:35:02.971Z"
   },
   {
    "duration": 20,
    "start_time": "2024-12-01T18:35:02.974Z"
   },
   {
    "duration": 1263,
    "start_time": "2024-12-01T18:35:02.996Z"
   },
   {
    "duration": 11,
    "start_time": "2024-12-01T18:35:04.261Z"
   },
   {
    "duration": 57,
    "start_time": "2024-12-01T18:35:04.274Z"
   },
   {
    "duration": 156,
    "start_time": "2024-12-01T18:35:04.333Z"
   },
   {
    "duration": 131,
    "start_time": "2024-12-01T18:35:04.490Z"
   },
   {
    "duration": 162,
    "start_time": "2024-12-01T18:35:04.623Z"
   },
   {
    "duration": 44,
    "start_time": "2024-12-01T18:35:04.787Z"
   },
   {
    "duration": 25,
    "start_time": "2024-12-01T18:35:04.833Z"
   },
   {
    "duration": 144,
    "start_time": "2024-12-01T18:35:04.860Z"
   },
   {
    "duration": 152,
    "start_time": "2024-12-01T18:35:05.006Z"
   },
   {
    "duration": 125,
    "start_time": "2024-12-01T18:35:05.295Z"
   },
   {
    "duration": 71,
    "start_time": "2024-12-01T18:35:06.977Z"
   },
   {
    "duration": 3,
    "start_time": "2024-12-01T18:35:07.958Z"
   },
   {
    "duration": 1176,
    "start_time": "2024-12-01T18:35:08.183Z"
   },
   {
    "duration": 27,
    "start_time": "2024-12-01T18:35:09.360Z"
   },
   {
    "duration": 28,
    "start_time": "2024-12-01T18:35:10.250Z"
   },
   {
    "duration": 1029,
    "start_time": "2024-12-01T18:35:11.086Z"
   },
   {
    "duration": 38,
    "start_time": "2024-12-01T18:35:20.711Z"
   },
   {
    "duration": 3,
    "start_time": "2024-12-01T18:35:22.072Z"
   },
   {
    "duration": 26,
    "start_time": "2024-12-01T18:35:23.736Z"
   },
   {
    "duration": 29,
    "start_time": "2024-12-01T18:35:42.233Z"
   },
   {
    "duration": 28,
    "start_time": "2024-12-01T18:35:45.934Z"
   },
   {
    "duration": 6,
    "start_time": "2024-12-01T18:35:55.372Z"
   },
   {
    "duration": 941,
    "start_time": "2024-12-01T18:35:57.193Z"
   },
   {
    "duration": 27,
    "start_time": "2024-12-01T18:37:09.943Z"
   },
   {
    "duration": 6,
    "start_time": "2024-12-01T18:42:05.070Z"
   },
   {
    "duration": 927,
    "start_time": "2024-12-01T18:42:05.618Z"
   },
   {
    "duration": 32,
    "start_time": "2024-12-01T18:42:29.928Z"
   },
   {
    "duration": 25,
    "start_time": "2024-12-01T18:43:14.320Z"
   },
   {
    "duration": 26,
    "start_time": "2024-12-01T18:43:24.019Z"
   },
   {
    "duration": 3,
    "start_time": "2024-12-01T18:43:53.540Z"
   },
   {
    "duration": 19,
    "start_time": "2024-12-01T18:44:22.050Z"
   },
   {
    "duration": 5,
    "start_time": "2024-12-01T18:45:50.572Z"
   },
   {
    "duration": 6275,
    "start_time": "2024-12-01T18:46:08.317Z"
   },
   {
    "duration": 10,
    "start_time": "2024-12-01T18:48:32.078Z"
   },
   {
    "duration": 4,
    "start_time": "2024-12-01T18:48:41.944Z"
   },
   {
    "duration": 75,
    "start_time": "2024-12-01T18:53:22.783Z"
   },
   {
    "duration": 76,
    "start_time": "2024-12-01T19:28:18.487Z"
   },
   {
    "duration": 2542,
    "start_time": "2024-12-01T19:33:17.938Z"
   },
   {
    "duration": 1194,
    "start_time": "2024-12-01T19:33:20.482Z"
   },
   {
    "duration": 3,
    "start_time": "2024-12-01T19:33:21.677Z"
   },
   {
    "duration": 7,
    "start_time": "2024-12-01T19:33:21.681Z"
   },
   {
    "duration": 1112,
    "start_time": "2024-12-01T19:33:21.689Z"
   },
   {
    "duration": 113,
    "start_time": "2024-12-01T19:33:22.802Z"
   },
   {
    "duration": 16,
    "start_time": "2024-12-01T19:33:22.917Z"
   },
   {
    "duration": 52,
    "start_time": "2024-12-01T19:33:22.934Z"
   },
   {
    "duration": 42,
    "start_time": "2024-12-01T19:33:22.988Z"
   },
   {
    "duration": 322,
    "start_time": "2024-12-01T19:33:23.033Z"
   },
   {
    "duration": 338,
    "start_time": "2024-12-01T19:33:23.357Z"
   },
   {
    "duration": 414,
    "start_time": "2024-12-01T19:33:23.697Z"
   },
   {
    "duration": 8,
    "start_time": "2024-12-01T19:33:24.113Z"
   },
   {
    "duration": 7,
    "start_time": "2024-12-01T19:33:24.123Z"
   },
   {
    "duration": 23,
    "start_time": "2024-12-01T19:33:24.132Z"
   },
   {
    "duration": 10,
    "start_time": "2024-12-01T19:33:24.157Z"
   },
   {
    "duration": 3,
    "start_time": "2024-12-01T19:33:24.169Z"
   },
   {
    "duration": 25,
    "start_time": "2024-12-01T19:33:24.174Z"
   },
   {
    "duration": 1108,
    "start_time": "2024-12-01T19:33:24.200Z"
   },
   {
    "duration": 10,
    "start_time": "2024-12-01T19:33:25.310Z"
   },
   {
    "duration": 84,
    "start_time": "2024-12-01T19:33:25.321Z"
   },
   {
    "duration": 151,
    "start_time": "2024-12-01T19:33:25.406Z"
   },
   {
    "duration": 132,
    "start_time": "2024-12-01T19:33:25.558Z"
   },
   {
    "duration": 160,
    "start_time": "2024-12-01T19:33:25.692Z"
   },
   {
    "duration": 47,
    "start_time": "2024-12-01T19:33:25.854Z"
   },
   {
    "duration": 12,
    "start_time": "2024-12-01T19:33:25.903Z"
   },
   {
    "duration": 149,
    "start_time": "2024-12-01T19:33:25.916Z"
   },
   {
    "duration": 145,
    "start_time": "2024-12-01T19:33:26.068Z"
   },
   {
    "duration": 126,
    "start_time": "2024-12-01T19:33:26.215Z"
   },
   {
    "duration": 118,
    "start_time": "2024-12-01T19:33:26.343Z"
   },
   {
    "duration": 0,
    "start_time": "2024-12-01T19:33:26.462Z"
   },
   {
    "duration": 0,
    "start_time": "2024-12-01T19:33:26.463Z"
   },
   {
    "duration": 0,
    "start_time": "2024-12-01T19:33:26.464Z"
   },
   {
    "duration": 0,
    "start_time": "2024-12-01T19:33:26.466Z"
   },
   {
    "duration": 0,
    "start_time": "2024-12-01T19:33:26.466Z"
   },
   {
    "duration": 0,
    "start_time": "2024-12-01T19:33:26.468Z"
   },
   {
    "duration": 0,
    "start_time": "2024-12-01T19:33:26.468Z"
   },
   {
    "duration": 0,
    "start_time": "2024-12-01T19:33:26.470Z"
   },
   {
    "duration": 0,
    "start_time": "2024-12-01T19:33:26.471Z"
   },
   {
    "duration": 0,
    "start_time": "2024-12-01T19:33:26.472Z"
   },
   {
    "duration": 0,
    "start_time": "2024-12-01T19:33:26.473Z"
   },
   {
    "duration": 0,
    "start_time": "2024-12-01T19:33:26.474Z"
   },
   {
    "duration": 0,
    "start_time": "2024-12-01T19:33:26.475Z"
   },
   {
    "duration": 0,
    "start_time": "2024-12-01T19:33:26.476Z"
   },
   {
    "duration": 0,
    "start_time": "2024-12-01T19:33:26.477Z"
   },
   {
    "duration": 0,
    "start_time": "2024-12-01T19:33:26.478Z"
   },
   {
    "duration": 0,
    "start_time": "2024-12-01T19:33:26.480Z"
   },
   {
    "duration": 0,
    "start_time": "2024-12-01T19:33:26.481Z"
   },
   {
    "duration": 0,
    "start_time": "2024-12-01T19:33:26.482Z"
   },
   {
    "duration": 0,
    "start_time": "2024-12-01T19:33:26.483Z"
   },
   {
    "duration": 0,
    "start_time": "2024-12-01T19:33:26.484Z"
   },
   {
    "duration": 103,
    "start_time": "2024-12-01T19:59:28.970Z"
   },
   {
    "duration": 192,
    "start_time": "2024-12-01T19:59:44.314Z"
   },
   {
    "duration": 2528,
    "start_time": "2024-12-01T20:07:30.536Z"
   },
   {
    "duration": 1480,
    "start_time": "2024-12-01T20:07:33.067Z"
   },
   {
    "duration": 3,
    "start_time": "2024-12-01T20:07:34.548Z"
   },
   {
    "duration": 11,
    "start_time": "2024-12-01T20:07:34.553Z"
   },
   {
    "duration": 1199,
    "start_time": "2024-12-01T20:07:34.565Z"
   },
   {
    "duration": 130,
    "start_time": "2024-12-01T20:07:35.765Z"
   },
   {
    "duration": 18,
    "start_time": "2024-12-01T20:07:35.896Z"
   },
   {
    "duration": 62,
    "start_time": "2024-12-01T20:07:35.916Z"
   },
   {
    "duration": 44,
    "start_time": "2024-12-01T20:07:35.980Z"
   },
   {
    "duration": 316,
    "start_time": "2024-12-01T20:07:36.026Z"
   },
   {
    "duration": 319,
    "start_time": "2024-12-01T20:07:36.352Z"
   },
   {
    "duration": 395,
    "start_time": "2024-12-01T20:07:36.672Z"
   },
   {
    "duration": 7,
    "start_time": "2024-12-01T20:07:37.069Z"
   },
   {
    "duration": 16,
    "start_time": "2024-12-01T20:07:37.077Z"
   },
   {
    "duration": 69,
    "start_time": "2024-12-01T20:07:37.095Z"
   },
   {
    "duration": 26,
    "start_time": "2024-12-01T20:07:37.165Z"
   },
   {
    "duration": 20,
    "start_time": "2024-12-01T20:07:37.193Z"
   },
   {
    "duration": 25,
    "start_time": "2024-12-01T20:07:37.215Z"
   },
   {
    "duration": 1114,
    "start_time": "2024-12-01T20:07:37.242Z"
   },
   {
    "duration": 9,
    "start_time": "2024-12-01T20:07:38.358Z"
   },
   {
    "duration": 84,
    "start_time": "2024-12-01T20:07:38.369Z"
   },
   {
    "duration": 141,
    "start_time": "2024-12-01T20:07:38.454Z"
   },
   {
    "duration": 131,
    "start_time": "2024-12-01T20:07:38.597Z"
   },
   {
    "duration": 225,
    "start_time": "2024-12-01T20:07:38.730Z"
   },
   {
    "duration": 43,
    "start_time": "2024-12-01T20:07:38.957Z"
   },
   {
    "duration": 13,
    "start_time": "2024-12-01T20:07:39.002Z"
   },
   {
    "duration": 153,
    "start_time": "2024-12-01T20:07:39.016Z"
   },
   {
    "duration": 143,
    "start_time": "2024-12-01T20:07:39.172Z"
   },
   {
    "duration": 124,
    "start_time": "2024-12-01T20:07:39.317Z"
   },
   {
    "duration": 193,
    "start_time": "2024-12-01T20:07:39.452Z"
   },
   {
    "duration": 69,
    "start_time": "2024-12-01T20:07:39.647Z"
   },
   {
    "duration": 3,
    "start_time": "2024-12-01T20:07:39.718Z"
   },
   {
    "duration": 1091,
    "start_time": "2024-12-01T20:07:39.722Z"
   },
   {
    "duration": 48,
    "start_time": "2024-12-01T20:07:40.815Z"
   },
   {
    "duration": 42,
    "start_time": "2024-12-01T20:07:40.865Z"
   },
   {
    "duration": 982,
    "start_time": "2024-12-01T20:07:40.909Z"
   },
   {
    "duration": 36,
    "start_time": "2024-12-01T20:07:41.893Z"
   },
   {
    "duration": 4,
    "start_time": "2024-12-01T20:07:41.931Z"
   },
   {
    "duration": 42,
    "start_time": "2024-12-01T20:07:41.936Z"
   },
   {
    "duration": 28,
    "start_time": "2024-12-01T20:07:41.980Z"
   },
   {
    "duration": 6,
    "start_time": "2024-12-01T20:07:42.010Z"
   },
   {
    "duration": 941,
    "start_time": "2024-12-01T20:07:42.017Z"
   },
   {
    "duration": 41,
    "start_time": "2024-12-01T20:07:42.959Z"
   },
   {
    "duration": 2,
    "start_time": "2024-12-01T20:07:43.001Z"
   },
   {
    "duration": 9,
    "start_time": "2024-12-01T20:07:43.005Z"
   },
   {
    "duration": 47,
    "start_time": "2024-12-01T20:07:43.015Z"
   },
   {
    "duration": 5,
    "start_time": "2024-12-01T20:07:43.063Z"
   },
   {
    "duration": 13,
    "start_time": "2024-12-01T20:07:43.069Z"
   },
   {
    "duration": 88,
    "start_time": "2024-12-01T20:07:43.084Z"
   },
   {
    "duration": 6327,
    "start_time": "2024-12-01T20:07:43.174Z"
   },
   {
    "duration": 4,
    "start_time": "2024-12-01T20:07:49.502Z"
   },
   {
    "duration": 125,
    "start_time": "2024-12-01T20:07:49.507Z"
   },
   {
    "duration": 2533,
    "start_time": "2024-12-01T20:08:29.727Z"
   },
   {
    "duration": 1511,
    "start_time": "2024-12-01T20:08:32.263Z"
   },
   {
    "duration": 2,
    "start_time": "2024-12-01T20:08:33.776Z"
   },
   {
    "duration": 35,
    "start_time": "2024-12-01T20:08:33.780Z"
   },
   {
    "duration": 1138,
    "start_time": "2024-12-01T20:08:33.817Z"
   },
   {
    "duration": 116,
    "start_time": "2024-12-01T20:08:34.957Z"
   },
   {
    "duration": 17,
    "start_time": "2024-12-01T20:08:35.075Z"
   },
   {
    "duration": 60,
    "start_time": "2024-12-01T20:08:35.093Z"
   },
   {
    "duration": 52,
    "start_time": "2024-12-01T20:08:35.155Z"
   },
   {
    "duration": 300,
    "start_time": "2024-12-01T20:08:35.209Z"
   },
   {
    "duration": 320,
    "start_time": "2024-12-01T20:08:35.510Z"
   },
   {
    "duration": 372,
    "start_time": "2024-12-01T20:08:35.832Z"
   },
   {
    "duration": 6,
    "start_time": "2024-12-01T20:08:36.206Z"
   },
   {
    "duration": 29,
    "start_time": "2024-12-01T20:08:36.214Z"
   },
   {
    "duration": 6,
    "start_time": "2024-12-01T20:08:36.245Z"
   },
   {
    "duration": 14,
    "start_time": "2024-12-01T20:08:36.253Z"
   },
   {
    "duration": 3,
    "start_time": "2024-12-01T20:08:36.269Z"
   },
   {
    "duration": 62,
    "start_time": "2024-12-01T20:08:36.273Z"
   },
   {
    "duration": 1153,
    "start_time": "2024-12-01T20:08:36.337Z"
   },
   {
    "duration": 10,
    "start_time": "2024-12-01T20:08:37.492Z"
   },
   {
    "duration": 84,
    "start_time": "2024-12-01T20:08:37.503Z"
   },
   {
    "duration": 152,
    "start_time": "2024-12-01T20:08:37.588Z"
   },
   {
    "duration": 128,
    "start_time": "2024-12-01T20:08:37.741Z"
   },
   {
    "duration": 231,
    "start_time": "2024-12-01T20:08:37.871Z"
   },
   {
    "duration": 53,
    "start_time": "2024-12-01T20:08:38.104Z"
   },
   {
    "duration": 14,
    "start_time": "2024-12-01T20:08:38.159Z"
   },
   {
    "duration": 143,
    "start_time": "2024-12-01T20:08:38.174Z"
   },
   {
    "duration": 150,
    "start_time": "2024-12-01T20:08:38.320Z"
   },
   {
    "duration": 130,
    "start_time": "2024-12-01T20:08:38.471Z"
   },
   {
    "duration": 202,
    "start_time": "2024-12-01T20:08:38.603Z"
   },
   {
    "duration": 73,
    "start_time": "2024-12-01T20:08:38.806Z"
   },
   {
    "duration": 2,
    "start_time": "2024-12-01T20:08:38.881Z"
   },
   {
    "duration": 1073,
    "start_time": "2024-12-01T20:08:38.884Z"
   },
   {
    "duration": 36,
    "start_time": "2024-12-01T20:08:39.959Z"
   },
   {
    "duration": 58,
    "start_time": "2024-12-01T20:08:39.996Z"
   },
   {
    "duration": 1022,
    "start_time": "2024-12-01T20:08:40.056Z"
   },
   {
    "duration": 39,
    "start_time": "2024-12-01T20:08:41.079Z"
   },
   {
    "duration": 4,
    "start_time": "2024-12-01T20:08:41.120Z"
   },
   {
    "duration": 47,
    "start_time": "2024-12-01T20:08:41.125Z"
   },
   {
    "duration": 27,
    "start_time": "2024-12-01T20:08:41.174Z"
   },
   {
    "duration": 6,
    "start_time": "2024-12-01T20:08:41.202Z"
   },
   {
    "duration": 964,
    "start_time": "2024-12-01T20:08:41.209Z"
   },
   {
    "duration": 40,
    "start_time": "2024-12-01T20:08:42.175Z"
   },
   {
    "duration": 2,
    "start_time": "2024-12-01T20:08:42.216Z"
   },
   {
    "duration": 13,
    "start_time": "2024-12-01T20:08:42.220Z"
   },
   {
    "duration": 40,
    "start_time": "2024-12-01T20:08:42.235Z"
   },
   {
    "duration": 5,
    "start_time": "2024-12-01T20:08:42.277Z"
   },
   {
    "duration": 8,
    "start_time": "2024-12-01T20:08:42.284Z"
   },
   {
    "duration": 6,
    "start_time": "2024-12-01T20:08:42.294Z"
   },
   {
    "duration": 6423,
    "start_time": "2024-12-01T20:08:42.302Z"
   },
   {
    "duration": 3,
    "start_time": "2024-12-01T20:08:48.726Z"
   },
   {
    "duration": 74,
    "start_time": "2024-12-01T20:08:48.731Z"
   },
   {
    "duration": 277,
    "start_time": "2024-12-01T20:48:23.890Z"
   },
   {
    "duration": 32,
    "start_time": "2024-12-01T20:49:11.635Z"
   },
   {
    "duration": 2152,
    "start_time": "2024-12-01T21:07:47.315Z"
   },
   {
    "duration": 11,
    "start_time": "2024-12-01T21:09:01.502Z"
   },
   {
    "duration": 264150,
    "start_time": "2024-12-01T21:09:08.438Z"
   },
   {
    "duration": 3,
    "start_time": "2024-12-01T21:38:46.702Z"
   },
   {
    "duration": 2,
    "start_time": "2024-12-01T21:43:08.516Z"
   },
   {
    "duration": 169,
    "start_time": "2024-12-01T22:04:27.012Z"
   },
   {
    "duration": 167,
    "start_time": "2024-12-01T22:13:12.469Z"
   },
   {
    "duration": 2495,
    "start_time": "2024-12-01T22:16:28.273Z"
   },
   {
    "duration": 1507,
    "start_time": "2024-12-01T22:16:30.770Z"
   },
   {
    "duration": 3,
    "start_time": "2024-12-01T22:16:32.278Z"
   },
   {
    "duration": 17,
    "start_time": "2024-12-01T22:16:32.284Z"
   },
   {
    "duration": 1126,
    "start_time": "2024-12-01T22:16:32.303Z"
   },
   {
    "duration": 111,
    "start_time": "2024-12-01T22:16:33.430Z"
   },
   {
    "duration": 24,
    "start_time": "2024-12-01T22:16:33.542Z"
   },
   {
    "duration": 45,
    "start_time": "2024-12-01T22:16:33.567Z"
   },
   {
    "duration": 55,
    "start_time": "2024-12-01T22:16:33.614Z"
   },
   {
    "duration": 337,
    "start_time": "2024-12-01T22:16:33.672Z"
   },
   {
    "duration": 341,
    "start_time": "2024-12-01T22:16:34.011Z"
   },
   {
    "duration": 367,
    "start_time": "2024-12-01T22:16:34.354Z"
   },
   {
    "duration": 6,
    "start_time": "2024-12-01T22:16:34.723Z"
   },
   {
    "duration": 6,
    "start_time": "2024-12-01T22:16:34.731Z"
   },
   {
    "duration": 18,
    "start_time": "2024-12-01T22:16:34.738Z"
   },
   {
    "duration": 10,
    "start_time": "2024-12-01T22:16:34.757Z"
   },
   {
    "duration": 3,
    "start_time": "2024-12-01T22:16:34.768Z"
   },
   {
    "duration": 18,
    "start_time": "2024-12-01T22:16:34.772Z"
   },
   {
    "duration": 1163,
    "start_time": "2024-12-01T22:16:34.792Z"
   },
   {
    "duration": 10,
    "start_time": "2024-12-01T22:16:35.957Z"
   },
   {
    "duration": 85,
    "start_time": "2024-12-01T22:16:35.969Z"
   },
   {
    "duration": 148,
    "start_time": "2024-12-01T22:16:36.056Z"
   },
   {
    "duration": 127,
    "start_time": "2024-12-01T22:16:36.206Z"
   },
   {
    "duration": 230,
    "start_time": "2024-12-01T22:16:36.335Z"
   },
   {
    "duration": 43,
    "start_time": "2024-12-01T22:16:36.567Z"
   },
   {
    "duration": 16,
    "start_time": "2024-12-01T22:16:36.612Z"
   },
   {
    "duration": 154,
    "start_time": "2024-12-01T22:16:36.630Z"
   },
   {
    "duration": 149,
    "start_time": "2024-12-01T22:16:36.787Z"
   },
   {
    "duration": 136,
    "start_time": "2024-12-01T22:16:36.937Z"
   },
   {
    "duration": 200,
    "start_time": "2024-12-01T22:16:37.075Z"
   },
   {
    "duration": 81,
    "start_time": "2024-12-01T22:16:37.276Z"
   },
   {
    "duration": 3,
    "start_time": "2024-12-01T22:16:37.358Z"
   },
   {
    "duration": 1092,
    "start_time": "2024-12-01T22:16:37.362Z"
   },
   {
    "duration": 36,
    "start_time": "2024-12-01T22:16:38.456Z"
   },
   {
    "duration": 41,
    "start_time": "2024-12-01T22:16:38.493Z"
   },
   {
    "duration": 1001,
    "start_time": "2024-12-01T22:16:38.536Z"
   },
   {
    "duration": 41,
    "start_time": "2024-12-01T22:16:39.539Z"
   },
   {
    "duration": 4,
    "start_time": "2024-12-01T22:16:39.582Z"
   },
   {
    "duration": 32,
    "start_time": "2024-12-01T22:16:39.588Z"
   },
   {
    "duration": 54,
    "start_time": "2024-12-01T22:16:39.622Z"
   },
   {
    "duration": 14,
    "start_time": "2024-12-01T22:16:39.677Z"
   },
   {
    "duration": 934,
    "start_time": "2024-12-01T22:16:39.693Z"
   },
   {
    "duration": 48,
    "start_time": "2024-12-01T22:16:40.628Z"
   },
   {
    "duration": 3,
    "start_time": "2024-12-01T22:16:40.677Z"
   },
   {
    "duration": 4,
    "start_time": "2024-12-01T22:16:40.681Z"
   },
   {
    "duration": 29,
    "start_time": "2024-12-01T22:16:40.687Z"
   },
   {
    "duration": 13,
    "start_time": "2024-12-01T22:16:40.717Z"
   },
   {
    "duration": 161,
    "start_time": "2024-12-01T22:16:40.732Z"
   },
   {
    "duration": 149,
    "start_time": "2024-12-01T22:16:40.896Z"
   },
   {
    "duration": 166,
    "start_time": "2024-12-01T22:16:41.051Z"
   },
   {
    "duration": 7,
    "start_time": "2024-12-01T22:16:41.218Z"
   },
   {
    "duration": 6,
    "start_time": "2024-12-01T22:16:41.226Z"
   },
   {
    "duration": 5920,
    "start_time": "2024-12-01T22:16:41.233Z"
   },
   {
    "duration": 3,
    "start_time": "2024-12-01T22:16:47.154Z"
   },
   {
    "duration": 70,
    "start_time": "2024-12-01T22:16:47.159Z"
   },
   {
    "duration": 231835,
    "start_time": "2024-12-01T22:16:47.231Z"
   },
   {
    "duration": 161,
    "start_time": "2024-12-01T22:20:39.068Z"
   },
   {
    "duration": 0,
    "start_time": "2024-12-01T22:20:39.230Z"
   },
   {
    "duration": 0,
    "start_time": "2024-12-01T22:20:39.231Z"
   },
   {
    "duration": 0,
    "start_time": "2024-12-01T22:20:39.232Z"
   },
   {
    "duration": 0,
    "start_time": "2024-12-01T22:20:39.233Z"
   },
   {
    "duration": 59,
    "start_time": "2024-12-01T22:46:34.972Z"
   },
   {
    "duration": 10,
    "start_time": "2024-12-01T22:46:41.613Z"
   },
   {
    "duration": 7,
    "start_time": "2024-12-01T22:47:50.559Z"
   },
   {
    "duration": 11,
    "start_time": "2024-12-01T22:48:03.585Z"
   },
   {
    "duration": 4,
    "start_time": "2024-12-01T22:48:20.293Z"
   },
   {
    "duration": 11,
    "start_time": "2024-12-01T22:48:24.973Z"
   },
   {
    "duration": 9,
    "start_time": "2024-12-01T22:48:34.817Z"
   },
   {
    "duration": 10,
    "start_time": "2024-12-01T22:48:51.813Z"
   },
   {
    "duration": 4,
    "start_time": "2024-12-01T22:49:03.326Z"
   },
   {
    "duration": 9,
    "start_time": "2024-12-01T22:49:09.564Z"
   },
   {
    "duration": 4,
    "start_time": "2024-12-01T22:49:45.866Z"
   },
   {
    "duration": 4,
    "start_time": "2024-12-01T22:50:00.339Z"
   },
   {
    "duration": 11,
    "start_time": "2024-12-01T22:50:27.740Z"
   },
   {
    "duration": 3,
    "start_time": "2024-12-01T22:50:42.978Z"
   },
   {
    "duration": 2569,
    "start_time": "2024-12-01T23:18:44.241Z"
   },
   {
    "duration": 1487,
    "start_time": "2024-12-01T23:18:47.902Z"
   },
   {
    "duration": 2,
    "start_time": "2024-12-01T23:18:49.391Z"
   },
   {
    "duration": 113,
    "start_time": "2024-12-01T23:18:50.024Z"
   },
   {
    "duration": 1176,
    "start_time": "2024-12-01T23:18:57.019Z"
   },
   {
    "duration": 117,
    "start_time": "2024-12-01T23:18:59.309Z"
   },
   {
    "duration": 18,
    "start_time": "2024-12-01T23:19:00.409Z"
   },
   {
    "duration": 46,
    "start_time": "2024-12-01T23:19:01.478Z"
   },
   {
    "duration": 44,
    "start_time": "2024-12-01T23:19:02.968Z"
   },
   {
    "duration": 316,
    "start_time": "2024-12-01T23:19:04.705Z"
   },
   {
    "duration": 2533,
    "start_time": "2024-12-01T23:22:23.942Z"
   },
   {
    "duration": 4,
    "start_time": "2024-12-01T23:22:26.478Z"
   },
   {
    "duration": 26,
    "start_time": "2024-12-01T23:22:26.484Z"
   },
   {
    "duration": 1166,
    "start_time": "2024-12-01T23:22:26.512Z"
   },
   {
    "duration": 121,
    "start_time": "2024-12-01T23:22:27.679Z"
   },
   {
    "duration": 15,
    "start_time": "2024-12-01T23:22:27.802Z"
   },
   {
    "duration": 44,
    "start_time": "2024-12-01T23:22:28.712Z"
   },
   {
    "duration": 47,
    "start_time": "2024-12-01T23:22:30.657Z"
   },
   {
    "duration": 296,
    "start_time": "2024-12-01T23:22:33.406Z"
   },
   {
    "duration": 221,
    "start_time": "2024-12-01T23:22:42.783Z"
   },
   {
    "duration": 312,
    "start_time": "2024-12-01T23:22:49.780Z"
   },
   {
    "duration": 357,
    "start_time": "2024-12-01T23:22:51.645Z"
   },
   {
    "duration": 168,
    "start_time": "2024-12-01T23:25:29.874Z"
   },
   {
    "duration": 167,
    "start_time": "2024-12-01T23:26:05.308Z"
   },
   {
    "duration": 168,
    "start_time": "2024-12-01T23:26:39.922Z"
   },
   {
    "duration": 159,
    "start_time": "2024-12-01T23:28:43.309Z"
   },
   {
    "duration": 0,
    "start_time": "2024-12-01T23:29:48.233Z"
   },
   {
    "duration": 2497,
    "start_time": "2024-12-01T23:29:56.407Z"
   },
   {
    "duration": 5,
    "start_time": "2024-12-01T23:29:58.907Z"
   },
   {
    "duration": 3,
    "start_time": "2024-12-01T23:29:58.914Z"
   },
   {
    "duration": 1050,
    "start_time": "2024-12-01T23:29:58.920Z"
   },
   {
    "duration": 119,
    "start_time": "2024-12-01T23:29:59.971Z"
   },
   {
    "duration": 16,
    "start_time": "2024-12-01T23:30:00.092Z"
   },
   {
    "duration": 18,
    "start_time": "2024-12-01T23:30:01.059Z"
   },
   {
    "duration": 42,
    "start_time": "2024-12-01T23:30:05.092Z"
   },
   {
    "duration": 283,
    "start_time": "2024-12-01T23:30:10.857Z"
   },
   {
    "duration": 204,
    "start_time": "2024-12-01T23:30:15.674Z"
   },
   {
    "duration": 276,
    "start_time": "2024-12-01T23:30:18.138Z"
   },
   {
    "duration": 314,
    "start_time": "2024-12-01T23:30:19.788Z"
   },
   {
    "duration": 294,
    "start_time": "2024-12-01T23:30:34.747Z"
   },
   {
    "duration": 188,
    "start_time": "2024-12-01T23:30:38.801Z"
   },
   {
    "duration": 191,
    "start_time": "2024-12-01T23:30:41.339Z"
   },
   {
    "duration": 8,
    "start_time": "2024-12-01T23:30:46.060Z"
   },
   {
    "duration": 7,
    "start_time": "2024-12-01T23:30:47.328Z"
   },
   {
    "duration": 6,
    "start_time": "2024-12-01T23:30:48.090Z"
   },
   {
    "duration": 8,
    "start_time": "2024-12-01T23:31:22.062Z"
   },
   {
    "duration": 17,
    "start_time": "2024-12-01T23:33:47.353Z"
   },
   {
    "duration": 19,
    "start_time": "2024-12-01T23:34:00.285Z"
   },
   {
    "duration": 1177,
    "start_time": "2024-12-01T23:34:04.152Z"
   },
   {
    "duration": 7,
    "start_time": "2024-12-01T23:34:22.888Z"
   },
   {
    "duration": 50,
    "start_time": "2024-12-01T23:34:25.853Z"
   },
   {
    "duration": 127,
    "start_time": "2024-12-01T23:34:51.086Z"
   },
   {
    "duration": 125,
    "start_time": "2024-12-01T23:36:02.790Z"
   },
   {
    "duration": 150,
    "start_time": "2024-12-01T23:36:34.187Z"
   },
   {
    "duration": 40,
    "start_time": "2024-12-01T23:36:40.997Z"
   },
   {
    "duration": 13,
    "start_time": "2024-12-01T23:37:12.374Z"
   },
   {
    "duration": 408,
    "start_time": "2024-12-01T23:37:13.938Z"
   },
   {
    "duration": 130,
    "start_time": "2024-12-01T23:38:24.638Z"
   },
   {
    "duration": 111,
    "start_time": "2024-12-01T23:39:20.560Z"
   },
   {
    "duration": 15,
    "start_time": "2024-12-01T23:40:55.388Z"
   },
   {
    "duration": 51,
    "start_time": "2024-12-01T23:41:03.056Z"
   },
   {
    "duration": 16,
    "start_time": "2024-12-01T23:41:43.156Z"
   },
   {
    "duration": 16,
    "start_time": "2024-12-01T23:41:50.976Z"
   },
   {
    "duration": 1092,
    "start_time": "2024-12-01T23:42:26.087Z"
   },
   {
    "duration": 23,
    "start_time": "2024-12-01T23:42:50.702Z"
   },
   {
    "duration": 23,
    "start_time": "2024-12-01T23:43:27.654Z"
   },
   {
    "duration": 987,
    "start_time": "2024-12-01T23:46:40.993Z"
   },
   {
    "duration": 31,
    "start_time": "2024-12-01T23:48:57.037Z"
   },
   {
    "duration": 4,
    "start_time": "2024-12-01T23:49:02.184Z"
   },
   {
    "duration": 21,
    "start_time": "2024-12-01T23:49:50.572Z"
   },
   {
    "duration": 21,
    "start_time": "2024-12-01T23:51:04.786Z"
   },
   {
    "duration": 4,
    "start_time": "2024-12-01T23:51:20.755Z"
   },
   {
    "duration": 22,
    "start_time": "2024-12-01T23:51:26.436Z"
   },
   {
    "duration": 21,
    "start_time": "2024-12-01T23:51:31.392Z"
   },
   {
    "duration": 21,
    "start_time": "2024-12-01T23:51:35.022Z"
   },
   {
    "duration": 4,
    "start_time": "2024-12-01T23:51:57.122Z"
   },
   {
    "duration": 21,
    "start_time": "2024-12-01T23:52:00.184Z"
   },
   {
    "duration": 21,
    "start_time": "2024-12-01T23:52:04.733Z"
   },
   {
    "duration": 21,
    "start_time": "2024-12-01T23:56:51.705Z"
   },
   {
    "duration": 23,
    "start_time": "2024-12-01T23:57:00.052Z"
   },
   {
    "duration": 21,
    "start_time": "2024-12-01T23:57:04.748Z"
   },
   {
    "duration": 21,
    "start_time": "2024-12-01T23:57:14.131Z"
   },
   {
    "duration": 22,
    "start_time": "2024-12-01T23:57:41.222Z"
   },
   {
    "duration": 4,
    "start_time": "2024-12-02T00:03:13.920Z"
   },
   {
    "duration": 19,
    "start_time": "2024-12-02T00:03:19.084Z"
   },
   {
    "duration": 5,
    "start_time": "2024-12-02T00:03:23.825Z"
   },
   {
    "duration": 836,
    "start_time": "2024-12-02T00:03:25.236Z"
   },
   {
    "duration": 18,
    "start_time": "2024-12-02T00:03:55.031Z"
   },
   {
    "duration": 4,
    "start_time": "2024-12-02T00:05:03.393Z"
   },
   {
    "duration": 4,
    "start_time": "2024-12-02T00:05:04.889Z"
   },
   {
    "duration": 123,
    "start_time": "2024-12-02T00:06:06.760Z"
   },
   {
    "duration": 2624,
    "start_time": "2024-12-02T00:06:29.495Z"
   },
   {
    "duration": 5,
    "start_time": "2024-12-02T00:06:32.121Z"
   },
   {
    "duration": 64,
    "start_time": "2024-12-02T00:06:32.128Z"
   },
   {
    "duration": 1101,
    "start_time": "2024-12-02T00:06:32.194Z"
   },
   {
    "duration": 117,
    "start_time": "2024-12-02T00:06:33.296Z"
   },
   {
    "duration": 16,
    "start_time": "2024-12-02T00:06:33.415Z"
   },
   {
    "duration": 36,
    "start_time": "2024-12-02T00:06:33.432Z"
   },
   {
    "duration": 41,
    "start_time": "2024-12-02T00:06:33.470Z"
   },
   {
    "duration": 293,
    "start_time": "2024-12-02T00:06:33.560Z"
   },
   {
    "duration": 208,
    "start_time": "2024-12-02T00:06:35.962Z"
   },
   {
    "duration": 273,
    "start_time": "2024-12-02T00:06:38.897Z"
   },
   {
    "duration": 272,
    "start_time": "2024-12-02T00:06:55.889Z"
   },
   {
    "duration": 162,
    "start_time": "2024-12-02T00:06:57.620Z"
   },
   {
    "duration": 183,
    "start_time": "2024-12-02T00:06:59.167Z"
   },
   {
    "duration": 7,
    "start_time": "2024-12-02T00:07:03.179Z"
   },
   {
    "duration": 8,
    "start_time": "2024-12-02T00:07:03.967Z"
   },
   {
    "duration": 5,
    "start_time": "2024-12-02T00:07:04.384Z"
   },
   {
    "duration": 8,
    "start_time": "2024-12-02T00:07:14.781Z"
   },
   {
    "duration": 2487,
    "start_time": "2024-12-02T00:08:18.367Z"
   },
   {
    "duration": 5,
    "start_time": "2024-12-02T00:08:20.856Z"
   },
   {
    "duration": 60,
    "start_time": "2024-12-02T00:08:20.862Z"
   },
   {
    "duration": 1065,
    "start_time": "2024-12-02T00:08:21.849Z"
   },
   {
    "duration": 114,
    "start_time": "2024-12-02T00:08:22.916Z"
   },
   {
    "duration": 15,
    "start_time": "2024-12-02T00:08:23.031Z"
   },
   {
    "duration": 33,
    "start_time": "2024-12-02T00:08:23.053Z"
   },
   {
    "duration": 23,
    "start_time": "2024-12-02T00:08:24.131Z"
   },
   {
    "duration": 284,
    "start_time": "2024-12-02T00:08:25.423Z"
   },
   {
    "duration": 202,
    "start_time": "2024-12-02T00:08:26.513Z"
   },
   {
    "duration": 257,
    "start_time": "2024-12-02T00:08:27.782Z"
   },
   {
    "duration": 285,
    "start_time": "2024-12-02T00:08:28.867Z"
   },
   {
    "duration": 161,
    "start_time": "2024-12-02T00:08:30.123Z"
   },
   {
    "duration": 176,
    "start_time": "2024-12-02T00:08:32.162Z"
   },
   {
    "duration": 157,
    "start_time": "2024-12-02T00:08:55.123Z"
   },
   {
    "duration": 7,
    "start_time": "2024-12-02T00:08:59.402Z"
   },
   {
    "duration": 6,
    "start_time": "2024-12-02T00:08:59.822Z"
   },
   {
    "duration": 5,
    "start_time": "2024-12-02T00:09:00.212Z"
   },
   {
    "duration": 7,
    "start_time": "2024-12-02T00:09:02.024Z"
   },
   {
    "duration": 18,
    "start_time": "2024-12-02T00:09:28.263Z"
   },
   {
    "duration": 17,
    "start_time": "2024-12-02T00:09:36.445Z"
   },
   {
    "duration": 1086,
    "start_time": "2024-12-02T00:09:37.520Z"
   },
   {
    "duration": 8,
    "start_time": "2024-12-02T00:10:21.989Z"
   },
   {
    "duration": 48,
    "start_time": "2024-12-02T00:10:23.938Z"
   },
   {
    "duration": 120,
    "start_time": "2024-12-02T00:10:37.818Z"
   },
   {
    "duration": 130,
    "start_time": "2024-12-02T00:11:13.786Z"
   },
   {
    "duration": 145,
    "start_time": "2024-12-02T00:11:25.792Z"
   },
   {
    "duration": 38,
    "start_time": "2024-12-02T00:11:28.822Z"
   },
   {
    "duration": 11,
    "start_time": "2024-12-02T00:11:40.567Z"
   },
   {
    "duration": 133,
    "start_time": "2024-12-02T00:11:41.701Z"
   },
   {
    "duration": 123,
    "start_time": "2024-12-02T00:12:09.123Z"
   },
   {
    "duration": 105,
    "start_time": "2024-12-02T00:12:41.181Z"
   },
   {
    "duration": 51,
    "start_time": "2024-12-02T00:13:05.260Z"
   },
   {
    "duration": 16,
    "start_time": "2024-12-02T00:13:09.079Z"
   },
   {
    "duration": 1051,
    "start_time": "2024-12-02T00:13:11.878Z"
   },
   {
    "duration": 21,
    "start_time": "2024-12-02T00:13:25.911Z"
   },
   {
    "duration": 22,
    "start_time": "2024-12-02T00:13:27.174Z"
   },
   {
    "duration": 1418,
    "start_time": "2024-12-02T00:13:54.737Z"
   },
   {
    "duration": 993,
    "start_time": "2024-12-02T00:15:35.592Z"
   },
   {
    "duration": 31,
    "start_time": "2024-12-02T00:15:45.411Z"
   },
   {
    "duration": 4,
    "start_time": "2024-12-02T00:15:50.837Z"
   },
   {
    "duration": 20,
    "start_time": "2024-12-02T00:15:53.084Z"
   },
   {
    "duration": 20,
    "start_time": "2024-12-02T00:16:35.177Z"
   },
   {
    "duration": 20,
    "start_time": "2024-12-02T00:16:55.831Z"
   },
   {
    "duration": 5,
    "start_time": "2024-12-02T00:17:02.438Z"
   },
   {
    "duration": 874,
    "start_time": "2024-12-02T00:17:03.109Z"
   },
   {
    "duration": 3,
    "start_time": "2024-12-02T00:17:10.948Z"
   },
   {
    "duration": 4,
    "start_time": "2024-12-02T00:17:13.445Z"
   },
   {
    "duration": 127,
    "start_time": "2024-12-02T00:17:45.227Z"
   },
   {
    "duration": 5,
    "start_time": "2024-12-02T00:17:55.889Z"
   },
   {
    "duration": 5,
    "start_time": "2024-12-02T00:18:00.538Z"
   },
   {
    "duration": 5900,
    "start_time": "2024-12-02T00:18:01.933Z"
   },
   {
    "duration": 3,
    "start_time": "2024-12-02T00:19:22.166Z"
   },
   {
    "duration": 4,
    "start_time": "2024-12-02T00:36:58.065Z"
   },
   {
    "duration": 12,
    "start_time": "2024-12-02T00:56:48.633Z"
   },
   {
    "duration": 11,
    "start_time": "2024-12-02T00:57:04.272Z"
   },
   {
    "duration": 59,
    "start_time": "2024-12-02T00:57:12.202Z"
   },
   {
    "duration": 2234,
    "start_time": "2024-12-02T00:57:14.787Z"
   },
   {
    "duration": 0,
    "start_time": "2024-12-02T01:14:54.452Z"
   },
   {
    "duration": 2488,
    "start_time": "2024-12-02T01:15:04.065Z"
   },
   {
    "duration": 5,
    "start_time": "2024-12-02T01:15:06.555Z"
   },
   {
    "duration": 67,
    "start_time": "2024-12-02T01:15:06.562Z"
   },
   {
    "duration": 1031,
    "start_time": "2024-12-02T01:15:06.631Z"
   },
   {
    "duration": 112,
    "start_time": "2024-12-02T01:15:07.663Z"
   },
   {
    "duration": 15,
    "start_time": "2024-12-02T01:15:07.776Z"
   },
   {
    "duration": 38,
    "start_time": "2024-12-02T01:15:07.792Z"
   },
   {
    "duration": 25,
    "start_time": "2024-12-02T01:15:07.832Z"
   },
   {
    "duration": 298,
    "start_time": "2024-12-02T01:15:07.858Z"
   },
   {
    "duration": 196,
    "start_time": "2024-12-02T01:15:08.158Z"
   },
   {
    "duration": 246,
    "start_time": "2024-12-02T01:15:08.557Z"
   },
   {
    "duration": 254,
    "start_time": "2024-12-02T01:15:08.962Z"
   },
   {
    "duration": 158,
    "start_time": "2024-12-02T01:15:09.650Z"
   },
   {
    "duration": 172,
    "start_time": "2024-12-02T01:15:10.099Z"
   },
   {
    "duration": 8,
    "start_time": "2024-12-02T01:15:10.484Z"
   },
   {
    "duration": 6,
    "start_time": "2024-12-02T01:15:10.693Z"
   },
   {
    "duration": 6,
    "start_time": "2024-12-02T01:15:10.893Z"
   },
   {
    "duration": 7,
    "start_time": "2024-12-02T01:15:11.491Z"
   },
   {
    "duration": 18,
    "start_time": "2024-12-02T01:15:11.953Z"
   },
   {
    "duration": 18,
    "start_time": "2024-12-02T01:15:12.380Z"
   },
   {
    "duration": 1116,
    "start_time": "2024-12-02T01:15:12.594Z"
   },
   {
    "duration": 8,
    "start_time": "2024-12-02T01:15:13.712Z"
   },
   {
    "duration": 48,
    "start_time": "2024-12-02T01:15:13.721Z"
   },
   {
    "duration": 134,
    "start_time": "2024-12-02T01:15:13.770Z"
   },
   {
    "duration": 110,
    "start_time": "2024-12-02T01:15:13.980Z"
   },
   {
    "duration": 129,
    "start_time": "2024-12-02T01:15:14.390Z"
   },
   {
    "duration": 41,
    "start_time": "2024-12-02T01:15:14.975Z"
   },
   {
    "duration": 11,
    "start_time": "2024-12-02T01:15:15.641Z"
   },
   {
    "duration": 109,
    "start_time": "2024-12-02T01:15:15.927Z"
   },
   {
    "duration": 122,
    "start_time": "2024-12-02T01:15:16.641Z"
   },
   {
    "duration": 111,
    "start_time": "2024-12-02T01:15:17.652Z"
   },
   {
    "duration": 47,
    "start_time": "2024-12-02T01:15:19.001Z"
   },
   {
    "duration": 17,
    "start_time": "2024-12-02T01:15:19.803Z"
   },
   {
    "duration": 956,
    "start_time": "2024-12-02T01:15:20.026Z"
   },
   {
    "duration": 21,
    "start_time": "2024-12-02T01:15:20.984Z"
   },
   {
    "duration": 21,
    "start_time": "2024-12-02T01:15:21.043Z"
   },
   {
    "duration": 996,
    "start_time": "2024-12-02T01:15:21.272Z"
   },
   {
    "duration": 958,
    "start_time": "2024-12-02T01:15:22.270Z"
   },
   {
    "duration": 36,
    "start_time": "2024-12-02T01:15:23.230Z"
   },
   {
    "duration": 21,
    "start_time": "2024-12-02T01:15:23.268Z"
   },
   {
    "duration": 21,
    "start_time": "2024-12-02T01:15:23.291Z"
   },
   {
    "duration": 19,
    "start_time": "2024-12-02T01:15:23.313Z"
   },
   {
    "duration": 19,
    "start_time": "2024-12-02T01:15:23.407Z"
   },
   {
    "duration": 5,
    "start_time": "2024-12-02T01:15:23.845Z"
   },
   {
    "duration": 1099,
    "start_time": "2024-12-02T01:15:24.038Z"
   },
   {
    "duration": 4,
    "start_time": "2024-12-02T01:15:25.139Z"
   },
   {
    "duration": 4,
    "start_time": "2024-12-02T01:15:25.152Z"
   },
   {
    "duration": 5,
    "start_time": "2024-12-02T01:15:25.249Z"
   },
   {
    "duration": 4,
    "start_time": "2024-12-02T01:15:26.014Z"
   },
   {
    "duration": 5365,
    "start_time": "2024-12-02T01:15:26.254Z"
   },
   {
    "duration": 3,
    "start_time": "2024-12-02T01:15:31.621Z"
   },
   {
    "duration": 87,
    "start_time": "2024-12-02T01:15:31.625Z"
   },
   {
    "duration": 37298,
    "start_time": "2024-12-02T01:15:31.714Z"
   },
   {
    "duration": 2595,
    "start_time": "2024-12-02T01:16:11.523Z"
   },
   {
    "duration": 5,
    "start_time": "2024-12-02T01:16:14.121Z"
   },
   {
    "duration": 23,
    "start_time": "2024-12-02T01:16:14.127Z"
   },
   {
    "duration": 1021,
    "start_time": "2024-12-02T01:16:14.152Z"
   },
   {
    "duration": 115,
    "start_time": "2024-12-02T01:16:15.174Z"
   },
   {
    "duration": 16,
    "start_time": "2024-12-02T01:16:15.290Z"
   },
   {
    "duration": 38,
    "start_time": "2024-12-02T01:16:15.307Z"
   },
   {
    "duration": 68,
    "start_time": "2024-12-02T01:16:15.346Z"
   },
   {
    "duration": 290,
    "start_time": "2024-12-02T01:16:15.415Z"
   },
   {
    "duration": 215,
    "start_time": "2024-12-02T01:16:15.707Z"
   },
   {
    "duration": 268,
    "start_time": "2024-12-02T01:16:15.924Z"
   },
   {
    "duration": 290,
    "start_time": "2024-12-02T01:16:16.193Z"
   },
   {
    "duration": 170,
    "start_time": "2024-12-02T01:16:16.484Z"
   },
   {
    "duration": 178,
    "start_time": "2024-12-02T01:16:16.656Z"
   },
   {
    "duration": 7,
    "start_time": "2024-12-02T01:16:16.835Z"
   },
   {
    "duration": 6,
    "start_time": "2024-12-02T01:16:16.852Z"
   },
   {
    "duration": 10,
    "start_time": "2024-12-02T01:16:16.860Z"
   },
   {
    "duration": 21,
    "start_time": "2024-12-02T01:16:16.872Z"
   },
   {
    "duration": 25,
    "start_time": "2024-12-02T01:16:16.895Z"
   },
   {
    "duration": 41,
    "start_time": "2024-12-02T01:16:16.922Z"
   },
   {
    "duration": 1263,
    "start_time": "2024-12-02T01:16:16.964Z"
   },
   {
    "duration": 7,
    "start_time": "2024-12-02T01:16:18.228Z"
   },
   {
    "duration": 43,
    "start_time": "2024-12-02T01:16:18.236Z"
   },
   {
    "duration": 124,
    "start_time": "2024-12-02T01:16:18.281Z"
   },
   {
    "duration": 110,
    "start_time": "2024-12-02T01:16:18.406Z"
   },
   {
    "duration": 137,
    "start_time": "2024-12-02T01:16:18.518Z"
   },
   {
    "duration": 38,
    "start_time": "2024-12-02T01:16:18.657Z"
   },
   {
    "duration": 12,
    "start_time": "2024-12-02T01:16:18.698Z"
   },
   {
    "duration": 132,
    "start_time": "2024-12-02T01:16:18.712Z"
   },
   {
    "duration": 121,
    "start_time": "2024-12-02T01:16:18.851Z"
   },
   {
    "duration": 112,
    "start_time": "2024-12-02T01:16:18.973Z"
   },
   {
    "duration": 47,
    "start_time": "2024-12-02T01:16:19.086Z"
   },
   {
    "duration": 31,
    "start_time": "2024-12-02T01:16:19.135Z"
   },
   {
    "duration": 987,
    "start_time": "2024-12-02T01:16:19.168Z"
   },
   {
    "duration": 22,
    "start_time": "2024-12-02T01:16:20.156Z"
   },
   {
    "duration": 22,
    "start_time": "2024-12-02T01:16:20.179Z"
   },
   {
    "duration": 1329,
    "start_time": "2024-12-02T01:16:20.202Z"
   },
   {
    "duration": 927,
    "start_time": "2024-12-02T01:16:21.532Z"
   },
   {
    "duration": 28,
    "start_time": "2024-12-02T01:16:22.461Z"
   },
   {
    "duration": 28,
    "start_time": "2024-12-02T01:16:22.491Z"
   },
   {
    "duration": 92,
    "start_time": "2024-12-02T01:16:22.521Z"
   },
   {
    "duration": 20,
    "start_time": "2024-12-02T01:16:22.614Z"
   },
   {
    "duration": 21,
    "start_time": "2024-12-02T01:16:22.637Z"
   },
   {
    "duration": 5,
    "start_time": "2024-12-02T01:16:22.660Z"
   },
   {
    "duration": 841,
    "start_time": "2024-12-02T01:16:22.667Z"
   },
   {
    "duration": 4,
    "start_time": "2024-12-02T01:16:23.510Z"
   },
   {
    "duration": 6,
    "start_time": "2024-12-02T01:16:23.516Z"
   },
   {
    "duration": 10,
    "start_time": "2024-12-02T01:16:23.523Z"
   },
   {
    "duration": 4,
    "start_time": "2024-12-02T01:16:23.551Z"
   },
   {
    "duration": 5365,
    "start_time": "2024-12-02T01:16:23.557Z"
   },
   {
    "duration": 4,
    "start_time": "2024-12-02T01:16:28.925Z"
   },
   {
    "duration": 89,
    "start_time": "2024-12-02T01:16:28.931Z"
   },
   {
    "duration": 345151,
    "start_time": "2024-12-02T01:16:29.022Z"
   },
   {
    "duration": 0,
    "start_time": "2024-12-02T01:22:15.211Z"
   },
   {
    "duration": 149739,
    "start_time": "2024-12-02T01:22:18.157Z"
   },
   {
    "duration": 20605,
    "start_time": "2024-12-02T01:24:49.815Z"
   },
   {
    "duration": 107970,
    "start_time": "2024-12-02T01:25:18.337Z"
   },
   {
    "duration": 35527,
    "start_time": "2024-12-02T01:27:11.625Z"
   },
   {
    "duration": 3,
    "start_time": "2024-12-02T01:27:49.162Z"
   },
   {
    "duration": 566283,
    "start_time": "2024-12-02T01:27:51.495Z"
   },
   {
    "duration": 11,
    "start_time": "2024-12-02T01:37:17.780Z"
   },
   {
    "duration": 0,
    "start_time": "2024-12-02T01:37:17.793Z"
   },
   {
    "duration": 0,
    "start_time": "2024-12-02T01:37:17.794Z"
   },
   {
    "duration": 0,
    "start_time": "2024-12-02T01:37:17.795Z"
   },
   {
    "duration": 0,
    "start_time": "2024-12-02T01:37:17.796Z"
   },
   {
    "duration": 1,
    "start_time": "2024-12-02T01:37:17.797Z"
   },
   {
    "duration": 0,
    "start_time": "2024-12-02T01:37:17.798Z"
   },
   {
    "duration": 0,
    "start_time": "2024-12-02T01:37:17.800Z"
   },
   {
    "duration": 0,
    "start_time": "2024-12-02T01:37:17.801Z"
   },
   {
    "duration": 0,
    "start_time": "2024-12-02T01:37:17.802Z"
   },
   {
    "duration": 0,
    "start_time": "2024-12-02T01:37:17.803Z"
   },
   {
    "duration": 0,
    "start_time": "2024-12-02T01:37:17.804Z"
   },
   {
    "duration": 0,
    "start_time": "2024-12-02T01:37:17.805Z"
   },
   {
    "duration": 0,
    "start_time": "2024-12-02T01:37:17.806Z"
   },
   {
    "duration": 0,
    "start_time": "2024-12-02T01:37:17.807Z"
   },
   {
    "duration": 0,
    "start_time": "2024-12-02T01:37:17.808Z"
   },
   {
    "duration": 0,
    "start_time": "2024-12-02T01:37:17.809Z"
   },
   {
    "duration": 2489,
    "start_time": "2024-12-02T01:37:28.508Z"
   },
   {
    "duration": 5652,
    "start_time": "2024-12-02T01:37:31.000Z"
   },
   {
    "duration": 2,
    "start_time": "2024-12-02T01:37:36.654Z"
   },
   {
    "duration": 1144,
    "start_time": "2024-12-02T01:37:36.658Z"
   },
   {
    "duration": 119,
    "start_time": "2024-12-02T01:37:37.804Z"
   },
   {
    "duration": 30,
    "start_time": "2024-12-02T01:37:37.925Z"
   },
   {
    "duration": 47,
    "start_time": "2024-12-02T01:37:37.956Z"
   },
   {
    "duration": 56,
    "start_time": "2024-12-02T01:37:38.004Z"
   },
   {
    "duration": 309,
    "start_time": "2024-12-02T01:37:38.061Z"
   },
   {
    "duration": 221,
    "start_time": "2024-12-02T01:37:38.372Z"
   },
   {
    "duration": 307,
    "start_time": "2024-12-02T01:37:38.594Z"
   },
   {
    "duration": 355,
    "start_time": "2024-12-02T01:37:38.903Z"
   },
   {
    "duration": 191,
    "start_time": "2024-12-02T01:37:39.260Z"
   },
   {
    "duration": 218,
    "start_time": "2024-12-02T01:37:39.453Z"
   },
   {
    "duration": 8,
    "start_time": "2024-12-02T01:37:39.672Z"
   },
   {
    "duration": 7,
    "start_time": "2024-12-02T01:37:39.682Z"
   },
   {
    "duration": 7,
    "start_time": "2024-12-02T01:37:39.690Z"
   },
   {
    "duration": 28,
    "start_time": "2024-12-02T01:37:39.698Z"
   },
   {
    "duration": 36,
    "start_time": "2024-12-02T01:37:39.728Z"
   },
   {
    "duration": 38,
    "start_time": "2024-12-02T01:37:39.766Z"
   },
   {
    "duration": 1132,
    "start_time": "2024-12-02T01:37:39.806Z"
   },
   {
    "duration": 17,
    "start_time": "2024-12-02T01:37:40.940Z"
   },
   {
    "duration": 47,
    "start_time": "2024-12-02T01:37:40.958Z"
   },
   {
    "duration": 131,
    "start_time": "2024-12-02T01:37:41.007Z"
   },
   {
    "duration": 105,
    "start_time": "2024-12-02T01:37:41.158Z"
   },
   {
    "duration": 135,
    "start_time": "2024-12-02T01:37:42.635Z"
   },
   {
    "duration": 40,
    "start_time": "2024-12-02T01:37:43.200Z"
   },
   {
    "duration": 11,
    "start_time": "2024-12-02T01:37:44.080Z"
   },
   {
    "duration": 112,
    "start_time": "2024-12-02T01:37:44.313Z"
   },
   {
    "duration": 128,
    "start_time": "2024-12-02T01:37:44.730Z"
   },
   {
    "duration": 106,
    "start_time": "2024-12-02T01:37:45.417Z"
   },
   {
    "duration": 49,
    "start_time": "2024-12-02T01:37:46.746Z"
   },
   {
    "duration": 17,
    "start_time": "2024-12-02T01:37:47.761Z"
   },
   {
    "duration": 1049,
    "start_time": "2024-12-02T01:37:48.379Z"
   },
   {
    "duration": 30,
    "start_time": "2024-12-02T01:37:49.430Z"
   },
   {
    "duration": 22,
    "start_time": "2024-12-02T01:37:49.461Z"
   },
   {
    "duration": 1025,
    "start_time": "2024-12-02T01:37:49.553Z"
   },
   {
    "duration": 991,
    "start_time": "2024-12-02T01:37:50.580Z"
   },
   {
    "duration": 30,
    "start_time": "2024-12-02T01:37:51.573Z"
   },
   {
    "duration": 3,
    "start_time": "2024-12-02T01:37:51.605Z"
   },
   {
    "duration": 29,
    "start_time": "2024-12-02T01:37:51.610Z"
   },
   {
    "duration": 21,
    "start_time": "2024-12-02T01:37:51.652Z"
   },
   {
    "duration": 20,
    "start_time": "2024-12-02T01:37:52.434Z"
   },
   {
    "duration": 5,
    "start_time": "2024-12-02T01:37:52.911Z"
   },
   {
    "duration": 862,
    "start_time": "2024-12-02T01:37:53.194Z"
   },
   {
    "duration": 4,
    "start_time": "2024-12-02T01:37:54.058Z"
   },
   {
    "duration": 5,
    "start_time": "2024-12-02T01:37:54.063Z"
   },
   {
    "duration": 7,
    "start_time": "2024-12-02T01:37:55.497Z"
   },
   {
    "duration": 4,
    "start_time": "2024-12-02T01:37:55.951Z"
   },
   {
    "duration": 5469,
    "start_time": "2024-12-02T01:37:56.112Z"
   },
   {
    "duration": 3,
    "start_time": "2024-12-02T01:38:01.583Z"
   },
   {
    "duration": 71,
    "start_time": "2024-12-02T01:38:01.587Z"
   },
   {
    "duration": 108,
    "start_time": "2024-12-02T01:38:03.213Z"
   },
   {
    "duration": 3,
    "start_time": "2024-12-02T01:38:21.020Z"
   },
   {
    "duration": 2989491,
    "start_time": "2024-12-02T01:38:26.371Z"
   },
   {
    "duration": 12,
    "start_time": "2024-12-02T02:28:15.864Z"
   },
   {
    "duration": 0,
    "start_time": "2024-12-02T02:28:15.878Z"
   },
   {
    "duration": 0,
    "start_time": "2024-12-02T02:28:15.879Z"
   },
   {
    "duration": 0,
    "start_time": "2024-12-02T02:28:15.881Z"
   },
   {
    "duration": 0,
    "start_time": "2024-12-02T02:28:15.881Z"
   },
   {
    "duration": 0,
    "start_time": "2024-12-02T02:28:15.883Z"
   },
   {
    "duration": 0,
    "start_time": "2024-12-02T02:28:15.885Z"
   },
   {
    "duration": 0,
    "start_time": "2024-12-02T02:28:15.886Z"
   },
   {
    "duration": 0,
    "start_time": "2024-12-02T02:28:15.887Z"
   },
   {
    "duration": 5,
    "start_time": "2024-12-02T07:20:34.713Z"
   },
   {
    "duration": 15,
    "start_time": "2024-12-02T07:20:44.258Z"
   },
   {
    "duration": 10,
    "start_time": "2024-12-02T07:20:49.663Z"
   },
   {
    "duration": 2725,
    "start_time": "2024-12-02T13:58:18.672Z"
   },
   {
    "duration": 1532,
    "start_time": "2024-12-02T13:58:21.400Z"
   },
   {
    "duration": 3,
    "start_time": "2024-12-02T13:58:22.934Z"
   },
   {
    "duration": 1236,
    "start_time": "2024-12-02T13:58:22.939Z"
   },
   {
    "duration": 123,
    "start_time": "2024-12-02T13:58:24.178Z"
   },
   {
    "duration": 17,
    "start_time": "2024-12-02T13:58:24.303Z"
   },
   {
    "duration": 62,
    "start_time": "2024-12-02T13:58:24.322Z"
   },
   {
    "duration": 43,
    "start_time": "2024-12-02T13:58:24.386Z"
   },
   {
    "duration": 323,
    "start_time": "2024-12-02T13:58:24.431Z"
   },
   {
    "duration": 233,
    "start_time": "2024-12-02T13:58:24.756Z"
   },
   {
    "duration": 333,
    "start_time": "2024-12-02T13:58:24.991Z"
   },
   {
    "duration": 362,
    "start_time": "2024-12-02T13:58:25.325Z"
   },
   {
    "duration": 205,
    "start_time": "2024-12-02T13:58:25.689Z"
   },
   {
    "duration": 240,
    "start_time": "2024-12-02T13:58:25.897Z"
   },
   {
    "duration": 14,
    "start_time": "2024-12-02T13:58:26.138Z"
   },
   {
    "duration": 21,
    "start_time": "2024-12-02T13:58:26.154Z"
   },
   {
    "duration": 12,
    "start_time": "2024-12-02T13:58:26.177Z"
   },
   {
    "duration": 16,
    "start_time": "2024-12-02T13:58:26.191Z"
   },
   {
    "duration": 30,
    "start_time": "2024-12-02T13:58:26.209Z"
   },
   {
    "duration": 24,
    "start_time": "2024-12-02T13:58:26.241Z"
   },
   {
    "duration": 1235,
    "start_time": "2024-12-02T13:58:26.267Z"
   },
   {
    "duration": 9,
    "start_time": "2024-12-02T13:58:27.504Z"
   },
   {
    "duration": 65,
    "start_time": "2024-12-02T13:58:27.515Z"
   },
   {
    "duration": 132,
    "start_time": "2024-12-02T13:58:27.581Z"
   },
   {
    "duration": 122,
    "start_time": "2024-12-02T13:58:27.714Z"
   },
   {
    "duration": 146,
    "start_time": "2024-12-02T13:58:27.838Z"
   },
   {
    "duration": 42,
    "start_time": "2024-12-02T13:58:27.986Z"
   },
   {
    "duration": 28,
    "start_time": "2024-12-02T13:58:28.029Z"
   },
   {
    "duration": 132,
    "start_time": "2024-12-02T13:58:28.059Z"
   },
   {
    "duration": 140,
    "start_time": "2024-12-02T13:58:28.192Z"
   },
   {
    "duration": 118,
    "start_time": "2024-12-02T13:58:28.334Z"
   },
   {
    "duration": 51,
    "start_time": "2024-12-02T13:58:28.453Z"
   },
   {
    "duration": 18,
    "start_time": "2024-12-02T13:58:28.506Z"
   },
   {
    "duration": 1101,
    "start_time": "2024-12-02T13:58:28.551Z"
   },
   {
    "duration": 23,
    "start_time": "2024-12-02T13:58:29.654Z"
   },
   {
    "duration": 22,
    "start_time": "2024-12-02T13:58:29.679Z"
   },
   {
    "duration": 1082,
    "start_time": "2024-12-02T13:58:29.703Z"
   },
   {
    "duration": 993,
    "start_time": "2024-12-02T13:58:30.787Z"
   },
   {
    "duration": 36,
    "start_time": "2024-12-02T13:58:31.782Z"
   },
   {
    "duration": 4,
    "start_time": "2024-12-02T13:58:31.820Z"
   },
   {
    "duration": 42,
    "start_time": "2024-12-02T13:58:31.828Z"
   },
   {
    "duration": 24,
    "start_time": "2024-12-02T13:58:31.871Z"
   },
   {
    "duration": 21,
    "start_time": "2024-12-02T13:58:31.897Z"
   },
   {
    "duration": 5,
    "start_time": "2024-12-02T13:58:31.920Z"
   },
   {
    "duration": 931,
    "start_time": "2024-12-02T13:58:31.927Z"
   },
   {
    "duration": 5,
    "start_time": "2024-12-02T13:58:32.860Z"
   },
   {
    "duration": 12,
    "start_time": "2024-12-02T13:58:32.866Z"
   },
   {
    "duration": 43,
    "start_time": "2024-12-02T13:58:32.880Z"
   },
   {
    "duration": 42,
    "start_time": "2024-12-02T13:58:32.925Z"
   },
   {
    "duration": 5976,
    "start_time": "2024-12-02T13:58:32.969Z"
   },
   {
    "duration": 4,
    "start_time": "2024-12-02T13:58:38.946Z"
   },
   {
    "duration": 64,
    "start_time": "2024-12-02T13:58:38.952Z"
   },
   {
    "duration": 4,
    "start_time": "2024-12-02T13:58:39.018Z"
   },
   {
    "duration": 1342684,
    "start_time": "2024-12-02T13:58:39.023Z"
   },
   {
    "duration": 4,
    "start_time": "2024-12-02T14:21:01.709Z"
   },
   {
    "duration": 142,
    "start_time": "2024-12-02T14:21:01.714Z"
   },
   {
    "duration": 0,
    "start_time": "2024-12-02T14:21:01.858Z"
   },
   {
    "duration": 0,
    "start_time": "2024-12-02T14:21:01.860Z"
   },
   {
    "duration": 0,
    "start_time": "2024-12-02T14:21:01.861Z"
   },
   {
    "duration": 0,
    "start_time": "2024-12-02T14:21:01.862Z"
   },
   {
    "duration": 0,
    "start_time": "2024-12-02T14:21:01.863Z"
   },
   {
    "duration": 0,
    "start_time": "2024-12-02T14:21:01.864Z"
   },
   {
    "duration": 0,
    "start_time": "2024-12-02T14:21:01.865Z"
   },
   {
    "duration": 13,
    "start_time": "2024-12-02T15:13:22.590Z"
   },
   {
    "duration": 5,
    "start_time": "2024-12-02T15:13:33.961Z"
   },
   {
    "duration": 2438,
    "start_time": "2024-12-02T17:29:37.245Z"
   },
   {
    "duration": 1553,
    "start_time": "2024-12-02T17:29:39.685Z"
   },
   {
    "duration": 3,
    "start_time": "2024-12-02T17:29:41.240Z"
   },
   {
    "duration": 1149,
    "start_time": "2024-12-02T17:29:41.253Z"
   },
   {
    "duration": 115,
    "start_time": "2024-12-02T17:29:42.404Z"
   },
   {
    "duration": 18,
    "start_time": "2024-12-02T17:29:42.521Z"
   },
   {
    "duration": 51,
    "start_time": "2024-12-02T17:29:42.541Z"
   },
   {
    "duration": 58,
    "start_time": "2024-12-02T17:29:42.594Z"
   },
   {
    "duration": 317,
    "start_time": "2024-12-02T17:29:42.654Z"
   },
   {
    "duration": 236,
    "start_time": "2024-12-02T17:29:42.973Z"
   },
   {
    "duration": 338,
    "start_time": "2024-12-02T17:29:43.211Z"
   },
   {
    "duration": 389,
    "start_time": "2024-12-02T17:29:43.552Z"
   },
   {
    "duration": 208,
    "start_time": "2024-12-02T17:29:43.945Z"
   },
   {
    "duration": 186,
    "start_time": "2024-12-02T17:29:44.392Z"
   },
   {
    "duration": 7,
    "start_time": "2024-12-02T17:29:45.426Z"
   },
   {
    "duration": 7,
    "start_time": "2024-12-02T17:29:45.781Z"
   },
   {
    "duration": 5,
    "start_time": "2024-12-02T17:29:46.040Z"
   },
   {
    "duration": 7,
    "start_time": "2024-12-02T17:29:47.411Z"
   },
   {
    "duration": 29,
    "start_time": "2024-12-02T17:29:48.192Z"
   },
   {
    "duration": 16,
    "start_time": "2024-12-02T17:29:48.923Z"
   },
   {
    "duration": 1131,
    "start_time": "2024-12-02T17:29:49.430Z"
   },
   {
    "duration": 9,
    "start_time": "2024-12-02T17:29:50.562Z"
   },
   {
    "duration": 52,
    "start_time": "2024-12-02T17:29:50.572Z"
   },
   {
    "duration": 122,
    "start_time": "2024-12-02T17:29:50.930Z"
   },
   {
    "duration": 108,
    "start_time": "2024-12-02T17:29:51.628Z"
   },
   {
    "duration": 135,
    "start_time": "2024-12-02T17:29:52.361Z"
   },
   {
    "duration": 41,
    "start_time": "2024-12-02T17:29:52.786Z"
   },
   {
    "duration": 11,
    "start_time": "2024-12-02T17:29:53.482Z"
   },
   {
    "duration": 114,
    "start_time": "2024-12-02T17:29:53.732Z"
   },
   {
    "duration": 126,
    "start_time": "2024-12-02T17:29:54.269Z"
   },
   {
    "duration": 108,
    "start_time": "2024-12-02T17:29:55.208Z"
   },
   {
    "duration": 49,
    "start_time": "2024-12-02T17:29:56.860Z"
   },
   {
    "duration": 18,
    "start_time": "2024-12-02T17:29:57.903Z"
   },
   {
    "duration": 1015,
    "start_time": "2024-12-02T17:29:58.532Z"
   },
   {
    "duration": 22,
    "start_time": "2024-12-02T17:29:59.820Z"
   },
   {
    "duration": 23,
    "start_time": "2024-12-02T17:30:00.093Z"
   },
   {
    "duration": 1063,
    "start_time": "2024-12-02T17:30:00.288Z"
   },
   {
    "duration": 1008,
    "start_time": "2024-12-02T17:30:01.353Z"
   },
   {
    "duration": 31,
    "start_time": "2024-12-02T17:30:02.362Z"
   },
   {
    "duration": 16,
    "start_time": "2024-12-02T17:30:02.395Z"
   },
   {
    "duration": 60,
    "start_time": "2024-12-02T17:30:02.413Z"
   },
   {
    "duration": 20,
    "start_time": "2024-12-02T17:30:02.475Z"
   },
   {
    "duration": 20,
    "start_time": "2024-12-02T17:30:02.662Z"
   },
   {
    "duration": 6,
    "start_time": "2024-12-02T17:30:03.095Z"
   },
   {
    "duration": 899,
    "start_time": "2024-12-02T17:30:03.746Z"
   },
   {
    "duration": 5,
    "start_time": "2024-12-02T17:30:04.647Z"
   },
   {
    "duration": 32,
    "start_time": "2024-12-02T17:30:04.654Z"
   },
   {
    "duration": 7,
    "start_time": "2024-12-02T17:30:04.792Z"
   },
   {
    "duration": 5,
    "start_time": "2024-12-02T17:30:05.207Z"
   },
   {
    "duration": 5451,
    "start_time": "2024-12-02T17:30:05.406Z"
   },
   {
    "duration": 3,
    "start_time": "2024-12-02T17:30:10.858Z"
   },
   {
    "duration": 79,
    "start_time": "2024-12-02T17:30:10.863Z"
   },
   {
    "duration": 750235,
    "start_time": "2024-12-02T17:42:41.276Z"
   },
   {
    "duration": 2577,
    "start_time": "2024-12-02T20:03:45.297Z"
   },
   {
    "duration": 1538,
    "start_time": "2024-12-02T20:03:47.876Z"
   },
   {
    "duration": 2,
    "start_time": "2024-12-02T20:03:49.416Z"
   },
   {
    "duration": 1155,
    "start_time": "2024-12-02T20:03:49.420Z"
   },
   {
    "duration": 117,
    "start_time": "2024-12-02T20:03:50.577Z"
   },
   {
    "duration": 18,
    "start_time": "2024-12-02T20:03:50.695Z"
   },
   {
    "duration": 57,
    "start_time": "2024-12-02T20:03:50.715Z"
   },
   {
    "duration": 45,
    "start_time": "2024-12-02T20:03:50.773Z"
   },
   {
    "duration": 320,
    "start_time": "2024-12-02T20:03:50.820Z"
   },
   {
    "duration": 228,
    "start_time": "2024-12-02T20:03:51.151Z"
   },
   {
    "duration": 327,
    "start_time": "2024-12-02T20:03:51.381Z"
   },
   {
    "duration": 357,
    "start_time": "2024-12-02T20:03:51.710Z"
   },
   {
    "duration": 178,
    "start_time": "2024-12-02T20:03:52.068Z"
   },
   {
    "duration": 179,
    "start_time": "2024-12-02T20:03:52.248Z"
   },
   {
    "duration": 6,
    "start_time": "2024-12-02T20:03:52.429Z"
   },
   {
    "duration": 18,
    "start_time": "2024-12-02T20:03:52.436Z"
   },
   {
    "duration": 21,
    "start_time": "2024-12-02T20:03:52.455Z"
   },
   {
    "duration": 10,
    "start_time": "2024-12-02T20:03:52.478Z"
   },
   {
    "duration": 28,
    "start_time": "2024-12-02T20:03:52.489Z"
   },
   {
    "duration": 72,
    "start_time": "2024-12-02T20:03:52.519Z"
   },
   {
    "duration": 1151,
    "start_time": "2024-12-02T20:03:52.593Z"
   },
   {
    "duration": 13,
    "start_time": "2024-12-02T20:03:53.745Z"
   },
   {
    "duration": 43,
    "start_time": "2024-12-02T20:03:53.760Z"
   },
   {
    "duration": 174,
    "start_time": "2024-12-02T20:03:53.805Z"
   },
   {
    "duration": 128,
    "start_time": "2024-12-02T20:03:53.982Z"
   },
   {
    "duration": 142,
    "start_time": "2024-12-02T20:03:54.112Z"
   },
   {
    "duration": 39,
    "start_time": "2024-12-02T20:03:54.255Z"
   },
   {
    "duration": 10,
    "start_time": "2024-12-02T20:03:54.298Z"
   },
   {
    "duration": 129,
    "start_time": "2024-12-02T20:03:54.310Z"
   },
   {
    "duration": 137,
    "start_time": "2024-12-02T20:03:54.440Z"
   },
   {
    "duration": 112,
    "start_time": "2024-12-02T20:03:54.578Z"
   },
   {
    "duration": 48,
    "start_time": "2024-12-02T20:03:54.692Z"
   },
   {
    "duration": 17,
    "start_time": "2024-12-02T20:03:54.751Z"
   },
   {
    "duration": 1035,
    "start_time": "2024-12-02T20:03:54.769Z"
   },
   {
    "duration": 23,
    "start_time": "2024-12-02T20:03:55.805Z"
   },
   {
    "duration": 39,
    "start_time": "2024-12-02T20:03:55.830Z"
   },
   {
    "duration": 1012,
    "start_time": "2024-12-02T20:03:55.871Z"
   },
   {
    "duration": 982,
    "start_time": "2024-12-02T20:03:56.885Z"
   },
   {
    "duration": 32,
    "start_time": "2024-12-02T20:03:57.869Z"
   },
   {
    "duration": 4,
    "start_time": "2024-12-02T20:03:57.903Z"
   },
   {
    "duration": 45,
    "start_time": "2024-12-02T20:03:57.908Z"
   },
   {
    "duration": 21,
    "start_time": "2024-12-02T20:03:57.955Z"
   },
   {
    "duration": 23,
    "start_time": "2024-12-02T20:03:57.977Z"
   },
   {
    "duration": 5,
    "start_time": "2024-12-02T20:03:58.002Z"
   },
   {
    "duration": 965,
    "start_time": "2024-12-02T20:03:58.008Z"
   },
   {
    "duration": 4,
    "start_time": "2024-12-02T20:03:58.974Z"
   },
   {
    "duration": 13,
    "start_time": "2024-12-02T20:03:58.979Z"
   },
   {
    "duration": 7,
    "start_time": "2024-12-02T20:03:58.993Z"
   },
   {
    "duration": 11,
    "start_time": "2024-12-02T20:03:59.001Z"
   },
   {
    "duration": 5612,
    "start_time": "2024-12-02T20:03:59.013Z"
   },
   {
    "duration": 3,
    "start_time": "2024-12-02T20:04:04.627Z"
   },
   {
    "duration": 77,
    "start_time": "2024-12-02T20:04:04.631Z"
   },
   {
    "duration": 119,
    "start_time": "2024-12-02T20:04:04.710Z"
   },
   {
    "duration": 0,
    "start_time": "2024-12-02T20:04:04.831Z"
   },
   {
    "duration": 0,
    "start_time": "2024-12-02T20:04:04.832Z"
   },
   {
    "duration": 0,
    "start_time": "2024-12-02T20:04:04.833Z"
   },
   {
    "duration": 0,
    "start_time": "2024-12-02T20:04:04.834Z"
   },
   {
    "duration": 0,
    "start_time": "2024-12-02T20:04:04.851Z"
   },
   {
    "duration": 0,
    "start_time": "2024-12-02T20:04:04.853Z"
   },
   {
    "duration": 0,
    "start_time": "2024-12-02T20:04:04.854Z"
   },
   {
    "duration": 0,
    "start_time": "2024-12-02T20:04:04.854Z"
   },
   {
    "duration": 0,
    "start_time": "2024-12-02T20:04:04.856Z"
   },
   {
    "duration": 0,
    "start_time": "2024-12-02T20:04:04.857Z"
   },
   {
    "duration": 0,
    "start_time": "2024-12-02T20:04:04.858Z"
   },
   {
    "duration": 0,
    "start_time": "2024-12-02T20:04:04.859Z"
   },
   {
    "duration": 0,
    "start_time": "2024-12-02T20:04:04.860Z"
   },
   {
    "duration": 2531,
    "start_time": "2024-12-02T20:05:08.289Z"
   },
   {
    "duration": 1492,
    "start_time": "2024-12-02T20:05:10.822Z"
   },
   {
    "duration": 3,
    "start_time": "2024-12-02T20:05:12.316Z"
   },
   {
    "duration": 1178,
    "start_time": "2024-12-02T20:05:12.320Z"
   },
   {
    "duration": 115,
    "start_time": "2024-12-02T20:05:13.500Z"
   },
   {
    "duration": 17,
    "start_time": "2024-12-02T20:05:13.617Z"
   },
   {
    "duration": 55,
    "start_time": "2024-12-02T20:05:13.635Z"
   },
   {
    "duration": 60,
    "start_time": "2024-12-02T20:05:13.692Z"
   },
   {
    "duration": 355,
    "start_time": "2024-12-02T20:05:13.754Z"
   },
   {
    "duration": 230,
    "start_time": "2024-12-02T20:05:14.113Z"
   },
   {
    "duration": 318,
    "start_time": "2024-12-02T20:05:14.344Z"
   },
   {
    "duration": 364,
    "start_time": "2024-12-02T20:05:14.663Z"
   },
   {
    "duration": 195,
    "start_time": "2024-12-02T20:05:15.029Z"
   },
   {
    "duration": 189,
    "start_time": "2024-12-02T20:05:15.225Z"
   },
   {
    "duration": 7,
    "start_time": "2024-12-02T20:05:15.416Z"
   },
   {
    "duration": 42,
    "start_time": "2024-12-02T20:05:15.425Z"
   },
   {
    "duration": 26,
    "start_time": "2024-12-02T20:05:15.468Z"
   },
   {
    "duration": 21,
    "start_time": "2024-12-02T20:05:15.495Z"
   },
   {
    "duration": 34,
    "start_time": "2024-12-02T20:05:15.517Z"
   },
   {
    "duration": 41,
    "start_time": "2024-12-02T20:05:15.552Z"
   },
   {
    "duration": 1178,
    "start_time": "2024-12-02T20:05:15.594Z"
   },
   {
    "duration": 9,
    "start_time": "2024-12-02T20:05:16.773Z"
   },
   {
    "duration": 48,
    "start_time": "2024-12-02T20:05:16.783Z"
   },
   {
    "duration": 140,
    "start_time": "2024-12-02T20:05:16.833Z"
   },
   {
    "duration": 118,
    "start_time": "2024-12-02T20:05:16.975Z"
   },
   {
    "duration": 139,
    "start_time": "2024-12-02T20:05:17.095Z"
   },
   {
    "duration": 45,
    "start_time": "2024-12-02T20:05:17.236Z"
   },
   {
    "duration": 11,
    "start_time": "2024-12-02T20:05:17.285Z"
   },
   {
    "duration": 130,
    "start_time": "2024-12-02T20:05:17.297Z"
   },
   {
    "duration": 140,
    "start_time": "2024-12-02T20:05:17.429Z"
   },
   {
    "duration": 121,
    "start_time": "2024-12-02T20:05:17.571Z"
   },
   {
    "duration": 50,
    "start_time": "2024-12-02T20:05:17.693Z"
   },
   {
    "duration": 21,
    "start_time": "2024-12-02T20:05:17.744Z"
   },
   {
    "duration": 1069,
    "start_time": "2024-12-02T20:05:17.767Z"
   },
   {
    "duration": 30,
    "start_time": "2024-12-02T20:05:18.837Z"
   },
   {
    "duration": 22,
    "start_time": "2024-12-02T20:05:18.869Z"
   },
   {
    "duration": 1029,
    "start_time": "2024-12-02T20:05:18.893Z"
   },
   {
    "duration": 960,
    "start_time": "2024-12-02T20:05:19.924Z"
   },
   {
    "duration": 31,
    "start_time": "2024-12-02T20:05:20.885Z"
   },
   {
    "duration": 4,
    "start_time": "2024-12-02T20:05:20.917Z"
   },
   {
    "duration": 42,
    "start_time": "2024-12-02T20:05:20.922Z"
   },
   {
    "duration": 20,
    "start_time": "2024-12-02T20:05:20.965Z"
   },
   {
    "duration": 38,
    "start_time": "2024-12-02T20:05:20.987Z"
   },
   {
    "duration": 6,
    "start_time": "2024-12-02T20:05:21.027Z"
   },
   {
    "duration": 994,
    "start_time": "2024-12-02T20:05:21.034Z"
   },
   {
    "duration": 4,
    "start_time": "2024-12-02T20:05:22.029Z"
   },
   {
    "duration": 28,
    "start_time": "2024-12-02T20:05:22.035Z"
   },
   {
    "duration": 8,
    "start_time": "2024-12-02T20:05:22.065Z"
   },
   {
    "duration": 6,
    "start_time": "2024-12-02T20:05:22.074Z"
   },
   {
    "duration": 5500,
    "start_time": "2024-12-02T20:05:22.081Z"
   },
   {
    "duration": 3,
    "start_time": "2024-12-02T20:05:27.582Z"
   },
   {
    "duration": 63,
    "start_time": "2024-12-02T20:05:27.587Z"
   },
   {
    "duration": 80326,
    "start_time": "2024-12-02T20:05:27.652Z"
   },
   {
    "duration": 0,
    "start_time": "2024-12-02T20:06:47.979Z"
   },
   {
    "duration": 0,
    "start_time": "2024-12-02T20:06:47.981Z"
   },
   {
    "duration": 0,
    "start_time": "2024-12-02T20:06:47.982Z"
   },
   {
    "duration": 0,
    "start_time": "2024-12-02T20:06:47.983Z"
   },
   {
    "duration": 0,
    "start_time": "2024-12-02T20:06:47.984Z"
   },
   {
    "duration": 0,
    "start_time": "2024-12-02T20:06:47.985Z"
   },
   {
    "duration": 0,
    "start_time": "2024-12-02T20:06:47.986Z"
   },
   {
    "duration": 0,
    "start_time": "2024-12-02T20:06:47.987Z"
   },
   {
    "duration": 0,
    "start_time": "2024-12-02T20:06:47.988Z"
   },
   {
    "duration": 0,
    "start_time": "2024-12-02T20:06:47.989Z"
   },
   {
    "duration": 0,
    "start_time": "2024-12-02T20:06:47.991Z"
   },
   {
    "duration": 0,
    "start_time": "2024-12-02T20:06:47.992Z"
   },
   {
    "duration": 0,
    "start_time": "2024-12-02T20:06:47.993Z"
   },
   {
    "duration": 2483,
    "start_time": "2024-12-02T20:11:50.783Z"
   },
   {
    "duration": 1522,
    "start_time": "2024-12-02T20:11:53.269Z"
   },
   {
    "duration": 3,
    "start_time": "2024-12-02T20:11:54.792Z"
   },
   {
    "duration": 1126,
    "start_time": "2024-12-02T20:11:54.796Z"
   },
   {
    "duration": 112,
    "start_time": "2024-12-02T20:11:55.924Z"
   },
   {
    "duration": 21,
    "start_time": "2024-12-02T20:11:56.038Z"
   },
   {
    "duration": 46,
    "start_time": "2024-12-02T20:11:56.060Z"
   },
   {
    "duration": 60,
    "start_time": "2024-12-02T20:11:56.107Z"
   },
   {
    "duration": 307,
    "start_time": "2024-12-02T20:11:56.169Z"
   },
   {
    "duration": 205,
    "start_time": "2024-12-02T20:11:56.479Z"
   },
   {
    "duration": 319,
    "start_time": "2024-12-02T20:11:56.685Z"
   },
   {
    "duration": 357,
    "start_time": "2024-12-02T20:11:57.006Z"
   },
   {
    "duration": 192,
    "start_time": "2024-12-02T20:11:57.364Z"
   },
   {
    "duration": 194,
    "start_time": "2024-12-02T20:11:57.558Z"
   },
   {
    "duration": 7,
    "start_time": "2024-12-02T20:11:57.754Z"
   },
   {
    "duration": 11,
    "start_time": "2024-12-02T20:11:57.763Z"
   },
   {
    "duration": 10,
    "start_time": "2024-12-02T20:11:57.776Z"
   },
   {
    "duration": 11,
    "start_time": "2024-12-02T20:11:57.787Z"
   },
   {
    "duration": 30,
    "start_time": "2024-12-02T20:11:57.800Z"
   },
   {
    "duration": 55,
    "start_time": "2024-12-02T20:11:57.832Z"
   },
   {
    "duration": 1179,
    "start_time": "2024-12-02T20:11:57.889Z"
   },
   {
    "duration": 8,
    "start_time": "2024-12-02T20:11:59.070Z"
   },
   {
    "duration": 109,
    "start_time": "2024-12-02T20:11:59.080Z"
   },
   {
    "duration": 130,
    "start_time": "2024-12-02T20:11:59.190Z"
   },
   {
    "duration": 120,
    "start_time": "2024-12-02T20:11:59.322Z"
   },
   {
    "duration": 151,
    "start_time": "2024-12-02T20:11:59.444Z"
   },
   {
    "duration": 41,
    "start_time": "2024-12-02T20:11:59.596Z"
   },
   {
    "duration": 20,
    "start_time": "2024-12-02T20:11:59.641Z"
   },
   {
    "duration": 165,
    "start_time": "2024-12-02T20:11:59.662Z"
   },
   {
    "duration": 129,
    "start_time": "2024-12-02T20:11:59.828Z"
   },
   {
    "duration": 124,
    "start_time": "2024-12-02T20:11:59.958Z"
   },
   {
    "duration": 51,
    "start_time": "2024-12-02T20:12:00.084Z"
   },
   {
    "duration": 29,
    "start_time": "2024-12-02T20:12:00.137Z"
   },
   {
    "duration": 1090,
    "start_time": "2024-12-02T20:12:00.168Z"
   },
   {
    "duration": 24,
    "start_time": "2024-12-02T20:12:01.259Z"
   },
   {
    "duration": 22,
    "start_time": "2024-12-02T20:12:01.285Z"
   },
   {
    "duration": 1052,
    "start_time": "2024-12-02T20:12:01.308Z"
   },
   {
    "duration": 1002,
    "start_time": "2024-12-02T20:12:02.361Z"
   },
   {
    "duration": 30,
    "start_time": "2024-12-02T20:12:03.364Z"
   },
   {
    "duration": 49,
    "start_time": "2024-12-02T20:12:03.395Z"
   },
   {
    "duration": 34,
    "start_time": "2024-12-02T20:12:03.446Z"
   },
   {
    "duration": 19,
    "start_time": "2024-12-02T20:12:03.482Z"
   },
   {
    "duration": 22,
    "start_time": "2024-12-02T20:12:03.503Z"
   },
   {
    "duration": 20,
    "start_time": "2024-12-02T20:12:03.527Z"
   },
   {
    "duration": 1005,
    "start_time": "2024-12-02T20:12:03.549Z"
   },
   {
    "duration": 4,
    "start_time": "2024-12-02T20:12:04.556Z"
   },
   {
    "duration": 39,
    "start_time": "2024-12-02T20:12:04.562Z"
   },
   {
    "duration": 13,
    "start_time": "2024-12-02T20:12:04.602Z"
   },
   {
    "duration": 12,
    "start_time": "2024-12-02T20:12:04.617Z"
   },
   {
    "duration": 5518,
    "start_time": "2024-12-02T20:12:04.631Z"
   },
   {
    "duration": 4,
    "start_time": "2024-12-02T20:12:10.150Z"
   },
   {
    "duration": 70,
    "start_time": "2024-12-02T20:12:10.156Z"
   },
   {
    "duration": 202730,
    "start_time": "2024-12-02T20:12:10.228Z"
   },
   {
    "duration": 0,
    "start_time": "2024-12-02T20:15:32.960Z"
   },
   {
    "duration": 0,
    "start_time": "2024-12-02T20:15:32.962Z"
   },
   {
    "duration": 0,
    "start_time": "2024-12-02T20:15:32.963Z"
   },
   {
    "duration": 0,
    "start_time": "2024-12-02T20:15:32.965Z"
   },
   {
    "duration": 0,
    "start_time": "2024-12-02T20:15:32.966Z"
   },
   {
    "duration": 0,
    "start_time": "2024-12-02T20:15:32.968Z"
   },
   {
    "duration": 0,
    "start_time": "2024-12-02T20:15:32.969Z"
   },
   {
    "duration": 1,
    "start_time": "2024-12-02T20:15:32.970Z"
   },
   {
    "duration": 0,
    "start_time": "2024-12-02T20:15:32.972Z"
   },
   {
    "duration": 0,
    "start_time": "2024-12-02T20:15:32.973Z"
   },
   {
    "duration": 0,
    "start_time": "2024-12-02T20:15:32.975Z"
   },
   {
    "duration": 0,
    "start_time": "2024-12-02T20:15:32.977Z"
   },
   {
    "duration": 0,
    "start_time": "2024-12-02T20:15:32.978Z"
   },
   {
    "duration": 1,
    "start_time": "2024-12-02T20:15:32.979Z"
   },
   {
    "duration": 0,
    "start_time": "2024-12-02T20:15:32.981Z"
   },
   {
    "duration": 2583,
    "start_time": "2024-12-02T20:39:46.943Z"
   },
   {
    "duration": 1579,
    "start_time": "2024-12-02T20:39:49.528Z"
   },
   {
    "duration": 3,
    "start_time": "2024-12-02T20:39:51.109Z"
   },
   {
    "duration": 1099,
    "start_time": "2024-12-02T20:39:51.114Z"
   },
   {
    "duration": 120,
    "start_time": "2024-12-02T20:39:52.215Z"
   },
   {
    "duration": 25,
    "start_time": "2024-12-02T20:39:52.337Z"
   },
   {
    "duration": 47,
    "start_time": "2024-12-02T20:39:52.364Z"
   },
   {
    "duration": 61,
    "start_time": "2024-12-02T20:39:52.412Z"
   },
   {
    "duration": 313,
    "start_time": "2024-12-02T20:39:52.474Z"
   },
   {
    "duration": 225,
    "start_time": "2024-12-02T20:39:52.789Z"
   },
   {
    "duration": 326,
    "start_time": "2024-12-02T20:39:53.016Z"
   },
   {
    "duration": 354,
    "start_time": "2024-12-02T20:39:53.344Z"
   },
   {
    "duration": 222,
    "start_time": "2024-12-02T20:39:53.700Z"
   },
   {
    "duration": 251,
    "start_time": "2024-12-02T20:39:53.924Z"
   },
   {
    "duration": 6,
    "start_time": "2024-12-02T20:39:54.177Z"
   },
   {
    "duration": 22,
    "start_time": "2024-12-02T20:39:54.185Z"
   },
   {
    "duration": 21,
    "start_time": "2024-12-02T20:39:54.209Z"
   },
   {
    "duration": 21,
    "start_time": "2024-12-02T20:39:54.232Z"
   },
   {
    "duration": 88,
    "start_time": "2024-12-02T20:39:54.254Z"
   },
   {
    "duration": 53,
    "start_time": "2024-12-02T20:39:54.344Z"
   },
   {
    "duration": 1157,
    "start_time": "2024-12-02T20:39:54.398Z"
   },
   {
    "duration": 8,
    "start_time": "2024-12-02T20:39:55.557Z"
   },
   {
    "duration": 46,
    "start_time": "2024-12-02T20:39:55.566Z"
   },
   {
    "duration": 139,
    "start_time": "2024-12-02T20:39:55.613Z"
   },
   {
    "duration": 118,
    "start_time": "2024-12-02T20:39:55.753Z"
   },
   {
    "duration": 142,
    "start_time": "2024-12-02T20:39:55.872Z"
   },
   {
    "duration": 54,
    "start_time": "2024-12-02T20:39:56.016Z"
   },
   {
    "duration": 11,
    "start_time": "2024-12-02T20:39:56.074Z"
   },
   {
    "duration": 129,
    "start_time": "2024-12-02T20:39:56.086Z"
   },
   {
    "duration": 132,
    "start_time": "2024-12-02T20:39:56.217Z"
   },
   {
    "duration": 114,
    "start_time": "2024-12-02T20:39:56.352Z"
   },
   {
    "duration": 53,
    "start_time": "2024-12-02T20:39:56.468Z"
   },
   {
    "duration": 33,
    "start_time": "2024-12-02T20:39:56.523Z"
   },
   {
    "duration": 1086,
    "start_time": "2024-12-02T20:39:56.558Z"
   },
   {
    "duration": 25,
    "start_time": "2024-12-02T20:39:57.646Z"
   },
   {
    "duration": 22,
    "start_time": "2024-12-02T20:39:57.673Z"
   },
   {
    "duration": 1053,
    "start_time": "2024-12-02T20:39:57.696Z"
   },
   {
    "duration": 1006,
    "start_time": "2024-12-02T20:39:58.750Z"
   },
   {
    "duration": 31,
    "start_time": "2024-12-02T20:39:59.757Z"
   },
   {
    "duration": 50,
    "start_time": "2024-12-02T20:39:59.789Z"
   },
   {
    "duration": 37,
    "start_time": "2024-12-02T20:39:59.841Z"
   },
   {
    "duration": 19,
    "start_time": "2024-12-02T20:39:59.880Z"
   },
   {
    "duration": 19,
    "start_time": "2024-12-02T20:39:59.901Z"
   },
   {
    "duration": 5,
    "start_time": "2024-12-02T20:39:59.922Z"
   },
   {
    "duration": 1030,
    "start_time": "2024-12-02T20:39:59.929Z"
   },
   {
    "duration": 4,
    "start_time": "2024-12-02T20:40:00.961Z"
   },
   {
    "duration": 20,
    "start_time": "2024-12-02T20:40:00.966Z"
   },
   {
    "duration": 11,
    "start_time": "2024-12-02T20:40:00.987Z"
   },
   {
    "duration": 43,
    "start_time": "2024-12-02T20:40:00.999Z"
   },
   {
    "duration": 5608,
    "start_time": "2024-12-02T20:40:01.043Z"
   },
   {
    "duration": 3,
    "start_time": "2024-12-02T20:40:06.653Z"
   },
   {
    "duration": 137,
    "start_time": "2024-12-02T20:40:06.657Z"
   },
   {
    "duration": 1175451,
    "start_time": "2024-12-02T20:40:06.795Z"
   },
   {
    "duration": 174,
    "start_time": "2024-12-02T20:59:42.248Z"
   },
   {
    "duration": 3,
    "start_time": "2024-12-02T20:59:42.423Z"
   },
   {
    "duration": 150,
    "start_time": "2024-12-02T20:59:42.427Z"
   },
   {
    "duration": 0,
    "start_time": "2024-12-02T20:59:42.579Z"
   },
   {
    "duration": 0,
    "start_time": "2024-12-02T20:59:42.581Z"
   },
   {
    "duration": 0,
    "start_time": "2024-12-02T20:59:42.582Z"
   },
   {
    "duration": 0,
    "start_time": "2024-12-02T20:59:42.584Z"
   },
   {
    "duration": 4,
    "start_time": "2024-12-02T21:00:48.586Z"
   },
   {
    "duration": 4,
    "start_time": "2024-12-02T21:00:58.096Z"
   },
   {
    "duration": 14,
    "start_time": "2024-12-02T21:01:17.229Z"
   },
   {
    "duration": 13,
    "start_time": "2024-12-02T21:01:27.179Z"
   },
   {
    "duration": 13,
    "start_time": "2024-12-02T21:02:46.435Z"
   },
   {
    "duration": 13,
    "start_time": "2024-12-02T21:03:14.397Z"
   },
   {
    "duration": 4,
    "start_time": "2024-12-02T21:03:32.658Z"
   },
   {
    "duration": 660,
    "start_time": "2024-12-02T21:03:36.448Z"
   },
   {
    "duration": 13,
    "start_time": "2024-12-02T21:07:14.211Z"
   },
   {
    "duration": 19,
    "start_time": "2024-12-02T21:07:37.720Z"
   },
   {
    "duration": 40,
    "start_time": "2024-12-02T21:07:41.443Z"
   },
   {
    "duration": 652,
    "start_time": "2024-12-02T21:08:04.502Z"
   },
   {
    "duration": 684,
    "start_time": "2024-12-02T21:08:13.904Z"
   },
   {
    "duration": 37,
    "start_time": "2024-12-02T21:08:19.330Z"
   },
   {
    "duration": 2030,
    "start_time": "2024-12-02T21:09:21.271Z"
   },
   {
    "duration": 2574,
    "start_time": "2024-12-02T21:54:12.202Z"
   },
   {
    "duration": 1555,
    "start_time": "2024-12-02T21:54:14.779Z"
   },
   {
    "duration": 2,
    "start_time": "2024-12-02T21:54:16.336Z"
   },
   {
    "duration": 1118,
    "start_time": "2024-12-02T21:54:16.340Z"
   },
   {
    "duration": 118,
    "start_time": "2024-12-02T21:54:17.460Z"
   },
   {
    "duration": 19,
    "start_time": "2024-12-02T21:54:17.580Z"
   },
   {
    "duration": 71,
    "start_time": "2024-12-02T21:54:17.601Z"
   },
   {
    "duration": 44,
    "start_time": "2024-12-02T21:54:17.674Z"
   },
   {
    "duration": 357,
    "start_time": "2024-12-02T21:54:17.720Z"
   },
   {
    "duration": 230,
    "start_time": "2024-12-02T21:54:18.080Z"
   },
   {
    "duration": 326,
    "start_time": "2024-12-02T21:54:18.311Z"
   },
   {
    "duration": 372,
    "start_time": "2024-12-02T21:54:18.638Z"
   },
   {
    "duration": 204,
    "start_time": "2024-12-02T21:54:19.011Z"
   },
   {
    "duration": 249,
    "start_time": "2024-12-02T21:54:19.216Z"
   },
   {
    "duration": 8,
    "start_time": "2024-12-02T21:54:19.467Z"
   },
   {
    "duration": 8,
    "start_time": "2024-12-02T21:54:19.477Z"
   },
   {
    "duration": 7,
    "start_time": "2024-12-02T21:54:19.487Z"
   },
   {
    "duration": 23,
    "start_time": "2024-12-02T21:54:19.495Z"
   },
   {
    "duration": 50,
    "start_time": "2024-12-02T21:54:19.520Z"
   },
   {
    "duration": 18,
    "start_time": "2024-12-02T21:54:19.572Z"
   },
   {
    "duration": 1214,
    "start_time": "2024-12-02T21:54:19.592Z"
   },
   {
    "duration": 9,
    "start_time": "2024-12-02T21:54:20.807Z"
   },
   {
    "duration": 60,
    "start_time": "2024-12-02T21:54:20.817Z"
   },
   {
    "duration": 126,
    "start_time": "2024-12-02T21:54:20.878Z"
   },
   {
    "duration": 120,
    "start_time": "2024-12-02T21:54:21.006Z"
   },
   {
    "duration": 142,
    "start_time": "2024-12-02T21:54:21.128Z"
   },
   {
    "duration": 40,
    "start_time": "2024-12-02T21:54:21.272Z"
   },
   {
    "duration": 11,
    "start_time": "2024-12-02T21:54:21.315Z"
   },
   {
    "duration": 162,
    "start_time": "2024-12-02T21:54:21.328Z"
   },
   {
    "duration": 131,
    "start_time": "2024-12-02T21:54:21.491Z"
   },
   {
    "duration": 115,
    "start_time": "2024-12-02T21:54:21.624Z"
   },
   {
    "duration": 56,
    "start_time": "2024-12-02T21:54:21.741Z"
   },
   {
    "duration": 17,
    "start_time": "2024-12-02T21:54:21.798Z"
   },
   {
    "duration": 1044,
    "start_time": "2024-12-02T21:54:21.817Z"
   },
   {
    "duration": 22,
    "start_time": "2024-12-02T21:54:22.863Z"
   },
   {
    "duration": 21,
    "start_time": "2024-12-02T21:54:22.887Z"
   },
   {
    "duration": 1046,
    "start_time": "2024-12-02T21:54:22.910Z"
   },
   {
    "duration": 978,
    "start_time": "2024-12-02T21:54:23.958Z"
   },
   {
    "duration": 34,
    "start_time": "2024-12-02T21:54:24.938Z"
   },
   {
    "duration": 4,
    "start_time": "2024-12-02T21:54:24.974Z"
   },
   {
    "duration": 20,
    "start_time": "2024-12-02T21:54:24.980Z"
   },
   {
    "duration": 20,
    "start_time": "2024-12-02T21:54:25.001Z"
   },
   {
    "duration": 50,
    "start_time": "2024-12-02T21:54:25.022Z"
   },
   {
    "duration": 48,
    "start_time": "2024-12-02T21:54:25.074Z"
   },
   {
    "duration": 932,
    "start_time": "2024-12-02T21:54:25.124Z"
   },
   {
    "duration": 3,
    "start_time": "2024-12-02T21:54:26.058Z"
   },
   {
    "duration": 8,
    "start_time": "2024-12-02T21:54:26.063Z"
   },
   {
    "duration": 7,
    "start_time": "2024-12-02T21:54:26.072Z"
   },
   {
    "duration": 66,
    "start_time": "2024-12-02T21:54:26.080Z"
   },
   {
    "duration": 5540,
    "start_time": "2024-12-02T21:54:26.148Z"
   },
   {
    "duration": 3,
    "start_time": "2024-12-02T21:54:31.690Z"
   },
   {
    "duration": 98,
    "start_time": "2024-12-02T21:54:31.695Z"
   },
   {
    "duration": 1766291,
    "start_time": "2024-12-02T21:54:31.795Z"
   },
   {
    "duration": 122927,
    "start_time": "2024-12-02T22:23:58.088Z"
   },
   {
    "duration": 357,
    "start_time": "2024-12-02T22:26:01.016Z"
   },
   {
    "duration": 1153,
    "start_time": "2024-12-02T22:26:01.375Z"
   },
   {
    "duration": 0,
    "start_time": "2024-12-02T22:26:02.530Z"
   },
   {
    "duration": 0,
    "start_time": "2024-12-02T22:26:02.531Z"
   },
   {
    "duration": 0,
    "start_time": "2024-12-02T22:26:02.532Z"
   },
   {
    "duration": 0,
    "start_time": "2024-12-02T22:26:02.533Z"
   },
   {
    "duration": 0,
    "start_time": "2024-12-02T22:26:02.535Z"
   },
   {
    "duration": 0,
    "start_time": "2024-12-02T22:26:02.536Z"
   },
   {
    "duration": 0,
    "start_time": "2024-12-02T22:26:02.537Z"
   },
   {
    "duration": 0,
    "start_time": "2024-12-02T22:26:02.538Z"
   },
   {
    "duration": 1035,
    "start_time": "2024-12-02T22:26:48.568Z"
   },
   {
    "duration": 516,
    "start_time": "2024-12-02T22:26:59.445Z"
   },
   {
    "duration": 503,
    "start_time": "2024-12-02T22:34:21.936Z"
   },
   {
    "duration": 504,
    "start_time": "2024-12-02T22:34:46.280Z"
   },
   {
    "duration": 31,
    "start_time": "2024-12-02T22:38:35.530Z"
   },
   {
    "duration": 522,
    "start_time": "2024-12-02T22:40:02.880Z"
   },
   {
    "duration": 562,
    "start_time": "2024-12-02T22:51:05.853Z"
   },
   {
    "duration": 5,
    "start_time": "2024-12-02T22:52:09.275Z"
   },
   {
    "duration": 500,
    "start_time": "2024-12-02T22:54:45.075Z"
   },
   {
    "duration": 99,
    "start_time": "2024-12-02T22:58:46.275Z"
   },
   {
    "duration": 5,
    "start_time": "2024-12-02T22:59:29.052Z"
   },
   {
    "duration": 96,
    "start_time": "2024-12-02T22:59:32.628Z"
   },
   {
    "duration": 95,
    "start_time": "2024-12-02T23:00:18.481Z"
   },
   {
    "duration": 95,
    "start_time": "2024-12-02T23:00:49.091Z"
   },
   {
    "duration": 2553,
    "start_time": "2024-12-02T23:38:10.230Z"
   },
   {
    "duration": 1578,
    "start_time": "2024-12-02T23:38:12.785Z"
   },
   {
    "duration": 2,
    "start_time": "2024-12-02T23:38:14.365Z"
   },
   {
    "duration": 1127,
    "start_time": "2024-12-02T23:38:14.369Z"
   },
   {
    "duration": 131,
    "start_time": "2024-12-02T23:38:15.498Z"
   },
   {
    "duration": 26,
    "start_time": "2024-12-02T23:38:15.631Z"
   },
   {
    "duration": 52,
    "start_time": "2024-12-02T23:38:15.659Z"
   },
   {
    "duration": 55,
    "start_time": "2024-12-02T23:38:15.713Z"
   },
   {
    "duration": 336,
    "start_time": "2024-12-02T23:38:15.770Z"
   },
   {
    "duration": 254,
    "start_time": "2024-12-02T23:38:16.109Z"
   },
   {
    "duration": 323,
    "start_time": "2024-12-02T23:38:16.365Z"
   },
   {
    "duration": 364,
    "start_time": "2024-12-02T23:38:16.689Z"
   },
   {
    "duration": 192,
    "start_time": "2024-12-02T23:38:17.054Z"
   },
   {
    "duration": 188,
    "start_time": "2024-12-02T23:38:17.248Z"
   },
   {
    "duration": 8,
    "start_time": "2024-12-02T23:38:17.437Z"
   },
   {
    "duration": 6,
    "start_time": "2024-12-02T23:38:17.452Z"
   },
   {
    "duration": 8,
    "start_time": "2024-12-02T23:38:17.460Z"
   },
   {
    "duration": 12,
    "start_time": "2024-12-02T23:38:17.470Z"
   },
   {
    "duration": 29,
    "start_time": "2024-12-02T23:38:17.484Z"
   },
   {
    "duration": 41,
    "start_time": "2024-12-02T23:38:17.514Z"
   },
   {
    "duration": 1146,
    "start_time": "2024-12-02T23:38:17.556Z"
   },
   {
    "duration": 9,
    "start_time": "2024-12-02T23:38:18.704Z"
   },
   {
    "duration": 55,
    "start_time": "2024-12-02T23:38:18.714Z"
   },
   {
    "duration": 130,
    "start_time": "2024-12-02T23:38:18.771Z"
   },
   {
    "duration": 123,
    "start_time": "2024-12-02T23:38:18.903Z"
   },
   {
    "duration": 148,
    "start_time": "2024-12-02T23:38:19.028Z"
   },
   {
    "duration": 47,
    "start_time": "2024-12-02T23:38:19.177Z"
   },
   {
    "duration": 24,
    "start_time": "2024-12-02T23:38:19.228Z"
   },
   {
    "duration": 127,
    "start_time": "2024-12-02T23:38:19.254Z"
   },
   {
    "duration": 138,
    "start_time": "2024-12-02T23:38:19.383Z"
   },
   {
    "duration": 118,
    "start_time": "2024-12-02T23:38:19.523Z"
   },
   {
    "duration": 55,
    "start_time": "2024-12-02T23:38:19.643Z"
   },
   {
    "duration": 18,
    "start_time": "2024-12-02T23:38:19.700Z"
   },
   {
    "duration": 1039,
    "start_time": "2024-12-02T23:38:19.720Z"
   },
   {
    "duration": 22,
    "start_time": "2024-12-02T23:38:20.761Z"
   },
   {
    "duration": 22,
    "start_time": "2024-12-02T23:38:20.785Z"
   },
   {
    "duration": 1048,
    "start_time": "2024-12-02T23:38:20.809Z"
   },
   {
    "duration": 995,
    "start_time": "2024-12-02T23:38:21.859Z"
   },
   {
    "duration": 30,
    "start_time": "2024-12-02T23:38:22.856Z"
   },
   {
    "duration": 3,
    "start_time": "2024-12-02T23:38:22.888Z"
   },
   {
    "duration": 33,
    "start_time": "2024-12-02T23:38:22.892Z"
   },
   {
    "duration": 32,
    "start_time": "2024-12-02T23:38:22.926Z"
   },
   {
    "duration": 20,
    "start_time": "2024-12-02T23:38:22.960Z"
   },
   {
    "duration": 5,
    "start_time": "2024-12-02T23:38:22.981Z"
   },
   {
    "duration": 990,
    "start_time": "2024-12-02T23:38:22.988Z"
   },
   {
    "duration": 5,
    "start_time": "2024-12-02T23:38:23.980Z"
   },
   {
    "duration": 17,
    "start_time": "2024-12-02T23:38:23.986Z"
   },
   {
    "duration": 8,
    "start_time": "2024-12-02T23:38:24.005Z"
   },
   {
    "duration": 5,
    "start_time": "2024-12-02T23:38:24.015Z"
   },
   {
    "duration": 5639,
    "start_time": "2024-12-02T23:38:24.022Z"
   },
   {
    "duration": 4,
    "start_time": "2024-12-02T23:38:29.662Z"
   },
   {
    "duration": 62,
    "start_time": "2024-12-02T23:38:29.667Z"
   },
   {
    "duration": 202,
    "start_time": "2024-12-02T23:38:29.731Z"
   },
   {
    "duration": 82,
    "start_time": "2024-12-02T23:38:29.935Z"
   },
   {
    "duration": 102,
    "start_time": "2024-12-02T23:38:30.018Z"
   },
   {
    "duration": 12,
    "start_time": "2024-12-02T23:38:30.121Z"
   },
   {
    "duration": 0,
    "start_time": "2024-12-02T23:38:30.135Z"
   },
   {
    "duration": 0,
    "start_time": "2024-12-02T23:38:30.137Z"
   },
   {
    "duration": 0,
    "start_time": "2024-12-02T23:38:30.137Z"
   },
   {
    "duration": 0,
    "start_time": "2024-12-02T23:38:30.138Z"
   },
   {
    "duration": 0,
    "start_time": "2024-12-02T23:38:30.140Z"
   },
   {
    "duration": 0,
    "start_time": "2024-12-02T23:38:30.141Z"
   },
   {
    "duration": 0,
    "start_time": "2024-12-02T23:38:30.142Z"
   },
   {
    "duration": 0,
    "start_time": "2024-12-02T23:38:30.143Z"
   },
   {
    "duration": 0,
    "start_time": "2024-12-02T23:38:30.144Z"
   },
   {
    "duration": 0,
    "start_time": "2024-12-02T23:38:30.145Z"
   },
   {
    "duration": 37,
    "start_time": "2024-12-02T23:40:31.557Z"
   },
   {
    "duration": 44,
    "start_time": "2024-12-02T23:41:09.025Z"
   },
   {
    "duration": 15369,
    "start_time": "2024-12-02T23:41:37.533Z"
   },
   {
    "duration": 2527,
    "start_time": "2024-12-02T23:43:27.553Z"
   },
   {
    "duration": 1631,
    "start_time": "2024-12-02T23:43:30.085Z"
   },
   {
    "duration": 3,
    "start_time": "2024-12-02T23:43:31.718Z"
   },
   {
    "duration": 1103,
    "start_time": "2024-12-02T23:43:31.722Z"
   },
   {
    "duration": 113,
    "start_time": "2024-12-02T23:43:32.827Z"
   },
   {
    "duration": 23,
    "start_time": "2024-12-02T23:43:32.942Z"
   },
   {
    "duration": 51,
    "start_time": "2024-12-02T23:43:32.966Z"
   },
   {
    "duration": 55,
    "start_time": "2024-12-02T23:43:33.018Z"
   },
   {
    "duration": 313,
    "start_time": "2024-12-02T23:43:33.076Z"
   },
   {
    "duration": 227,
    "start_time": "2024-12-02T23:43:33.391Z"
   },
   {
    "duration": 336,
    "start_time": "2024-12-02T23:43:33.619Z"
   },
   {
    "duration": 362,
    "start_time": "2024-12-02T23:43:33.957Z"
   },
   {
    "duration": 186,
    "start_time": "2024-12-02T23:43:34.320Z"
   },
   {
    "duration": 189,
    "start_time": "2024-12-02T23:43:34.508Z"
   },
   {
    "duration": 6,
    "start_time": "2024-12-02T23:43:34.698Z"
   },
   {
    "duration": 30,
    "start_time": "2024-12-02T23:43:34.705Z"
   },
   {
    "duration": 11,
    "start_time": "2024-12-02T23:43:34.737Z"
   },
   {
    "duration": 9,
    "start_time": "2024-12-02T23:43:34.749Z"
   },
   {
    "duration": 30,
    "start_time": "2024-12-02T23:43:34.760Z"
   },
   {
    "duration": 59,
    "start_time": "2024-12-02T23:43:34.791Z"
   },
   {
    "duration": 1132,
    "start_time": "2024-12-02T23:43:34.852Z"
   },
   {
    "duration": 8,
    "start_time": "2024-12-02T23:43:35.986Z"
   },
   {
    "duration": 87,
    "start_time": "2024-12-02T23:43:35.996Z"
   },
   {
    "duration": 121,
    "start_time": "2024-12-02T23:43:36.085Z"
   },
   {
    "duration": 133,
    "start_time": "2024-12-02T23:43:36.207Z"
   },
   {
    "duration": 137,
    "start_time": "2024-12-02T23:43:36.342Z"
   },
   {
    "duration": 39,
    "start_time": "2024-12-02T23:43:36.483Z"
   },
   {
    "duration": 11,
    "start_time": "2024-12-02T23:43:36.523Z"
   },
   {
    "duration": 221,
    "start_time": "2024-12-02T23:43:36.535Z"
   },
   {
    "duration": 173,
    "start_time": "2024-12-02T23:43:36.757Z"
   },
   {
    "duration": 130,
    "start_time": "2024-12-02T23:43:36.931Z"
   },
   {
    "duration": 101,
    "start_time": "2024-12-02T23:43:37.063Z"
   },
   {
    "duration": 17,
    "start_time": "2024-12-02T23:43:37.165Z"
   },
   {
    "duration": 1360,
    "start_time": "2024-12-02T23:43:37.183Z"
   },
   {
    "duration": 27,
    "start_time": "2024-12-02T23:43:38.545Z"
   },
   {
    "duration": 54,
    "start_time": "2024-12-02T23:43:38.573Z"
   },
   {
    "duration": 953,
    "start_time": "2024-12-02T23:43:38.628Z"
   },
   {
    "duration": 971,
    "start_time": "2024-12-02T23:43:39.583Z"
   },
   {
    "duration": 31,
    "start_time": "2024-12-02T23:43:40.555Z"
   },
   {
    "duration": 4,
    "start_time": "2024-12-02T23:43:40.588Z"
   },
   {
    "duration": 21,
    "start_time": "2024-12-02T23:43:40.594Z"
   },
   {
    "duration": 50,
    "start_time": "2024-12-02T23:43:40.617Z"
   },
   {
    "duration": 23,
    "start_time": "2024-12-02T23:43:40.669Z"
   },
   {
    "duration": 7,
    "start_time": "2024-12-02T23:43:40.694Z"
   },
   {
    "duration": 944,
    "start_time": "2024-12-02T23:43:40.702Z"
   },
   {
    "duration": 4,
    "start_time": "2024-12-02T23:43:41.651Z"
   },
   {
    "duration": 15,
    "start_time": "2024-12-02T23:43:41.657Z"
   },
   {
    "duration": 9,
    "start_time": "2024-12-02T23:43:41.674Z"
   },
   {
    "duration": 8,
    "start_time": "2024-12-02T23:43:41.685Z"
   },
   {
    "duration": 5628,
    "start_time": "2024-12-02T23:43:41.695Z"
   },
   {
    "duration": 4,
    "start_time": "2024-12-02T23:43:47.324Z"
   },
   {
    "duration": 73,
    "start_time": "2024-12-02T23:43:47.329Z"
   },
   {
    "duration": 2271927,
    "start_time": "2024-12-02T23:43:47.403Z"
   },
   {
    "duration": 122785,
    "start_time": "2024-12-03T00:21:39.332Z"
   },
   {
    "duration": 355,
    "start_time": "2024-12-03T00:23:42.118Z"
   },
   {
    "duration": 1056,
    "start_time": "2024-12-03T00:23:42.475Z"
   },
   {
    "duration": 239,
    "start_time": "2024-12-03T00:23:43.533Z"
   },
   {
    "duration": 3,
    "start_time": "2024-12-03T00:23:43.773Z"
   },
   {
    "duration": 145,
    "start_time": "2024-12-03T00:23:43.778Z"
   },
   {
    "duration": 109,
    "start_time": "2024-12-03T00:23:43.925Z"
   },
   {
    "duration": 11,
    "start_time": "2024-12-03T00:23:44.035Z"
   },
   {
    "duration": 0,
    "start_time": "2024-12-03T00:23:44.048Z"
   },
   {
    "duration": 0,
    "start_time": "2024-12-03T00:23:44.049Z"
   },
   {
    "duration": 0,
    "start_time": "2024-12-03T00:23:44.050Z"
   },
   {
    "duration": 0,
    "start_time": "2024-12-03T00:23:44.051Z"
   },
   {
    "duration": 0,
    "start_time": "2024-12-03T00:23:44.053Z"
   },
   {
    "duration": 100,
    "start_time": "2024-12-03T04:53:12.277Z"
   },
   {
    "duration": 5,
    "start_time": "2024-12-03T04:53:46.348Z"
   },
   {
    "duration": 157,
    "start_time": "2024-12-03T04:53:51.694Z"
   },
   {
    "duration": 2725,
    "start_time": "2024-12-03T09:18:24.773Z"
   },
   {
    "duration": 1602,
    "start_time": "2024-12-03T09:18:27.500Z"
   },
   {
    "duration": 3,
    "start_time": "2024-12-03T09:18:29.104Z"
   },
   {
    "duration": 1219,
    "start_time": "2024-12-03T09:18:29.109Z"
   },
   {
    "duration": 126,
    "start_time": "2024-12-03T09:18:30.330Z"
   },
   {
    "duration": 17,
    "start_time": "2024-12-03T09:18:30.457Z"
   },
   {
    "duration": 160,
    "start_time": "2024-12-03T09:18:30.475Z"
   },
   {
    "duration": 45,
    "start_time": "2024-12-03T09:18:30.637Z"
   },
   {
    "duration": 319,
    "start_time": "2024-12-03T09:18:30.684Z"
   },
   {
    "duration": 238,
    "start_time": "2024-12-03T09:18:31.007Z"
   },
   {
    "duration": 328,
    "start_time": "2024-12-03T09:18:31.246Z"
   },
   {
    "duration": 377,
    "start_time": "2024-12-03T09:18:31.576Z"
   },
   {
    "duration": 204,
    "start_time": "2024-12-03T09:18:31.954Z"
   },
   {
    "duration": 236,
    "start_time": "2024-12-03T09:18:32.160Z"
   },
   {
    "duration": 7,
    "start_time": "2024-12-03T09:18:32.398Z"
   },
   {
    "duration": 27,
    "start_time": "2024-12-03T09:18:32.407Z"
   },
   {
    "duration": 15,
    "start_time": "2024-12-03T09:18:32.436Z"
   },
   {
    "duration": 89,
    "start_time": "2024-12-03T09:18:32.453Z"
   },
   {
    "duration": 40,
    "start_time": "2024-12-03T09:18:32.544Z"
   },
   {
    "duration": 65,
    "start_time": "2024-12-03T09:18:32.586Z"
   },
   {
    "duration": 1296,
    "start_time": "2024-12-03T09:18:32.653Z"
   },
   {
    "duration": 14,
    "start_time": "2024-12-03T09:18:33.951Z"
   },
   {
    "duration": 64,
    "start_time": "2024-12-03T09:18:33.969Z"
   },
   {
    "duration": 130,
    "start_time": "2024-12-03T09:18:34.035Z"
   },
   {
    "duration": 131,
    "start_time": "2024-12-03T09:18:34.166Z"
   },
   {
    "duration": 147,
    "start_time": "2024-12-03T09:18:34.299Z"
   },
   {
    "duration": 40,
    "start_time": "2024-12-03T09:18:34.448Z"
   },
   {
    "duration": 49,
    "start_time": "2024-12-03T09:18:34.492Z"
   },
   {
    "duration": 122,
    "start_time": "2024-12-03T09:18:34.543Z"
   },
   {
    "duration": 147,
    "start_time": "2024-12-03T09:18:34.667Z"
   },
   {
    "duration": 117,
    "start_time": "2024-12-03T09:18:34.816Z"
   },
   {
    "duration": 59,
    "start_time": "2024-12-03T09:18:34.935Z"
   },
   {
    "duration": 16,
    "start_time": "2024-12-03T09:18:34.996Z"
   },
   {
    "duration": 1060,
    "start_time": "2024-12-03T09:18:35.014Z"
   },
   {
    "duration": 22,
    "start_time": "2024-12-03T09:18:36.076Z"
   },
   {
    "duration": 33,
    "start_time": "2024-12-03T09:18:36.100Z"
   },
   {
    "duration": 1051,
    "start_time": "2024-12-03T09:18:36.134Z"
   },
   {
    "duration": 1006,
    "start_time": "2024-12-03T09:18:37.187Z"
   },
   {
    "duration": 32,
    "start_time": "2024-12-03T09:18:38.194Z"
   },
   {
    "duration": 3,
    "start_time": "2024-12-03T09:18:38.228Z"
   },
   {
    "duration": 21,
    "start_time": "2024-12-03T09:18:38.252Z"
   },
   {
    "duration": 20,
    "start_time": "2024-12-03T09:18:38.274Z"
   },
   {
    "duration": 20,
    "start_time": "2024-12-03T09:18:38.296Z"
   },
   {
    "duration": 7,
    "start_time": "2024-12-03T09:18:38.317Z"
   },
   {
    "duration": 981,
    "start_time": "2024-12-03T09:18:38.352Z"
   },
   {
    "duration": 4,
    "start_time": "2024-12-03T09:18:39.335Z"
   },
   {
    "duration": 13,
    "start_time": "2024-12-03T09:18:39.340Z"
   },
   {
    "duration": 11,
    "start_time": "2024-12-03T09:18:39.355Z"
   },
   {
    "duration": 5,
    "start_time": "2024-12-03T09:18:39.368Z"
   },
   {
    "duration": 5778,
    "start_time": "2024-12-03T09:18:39.375Z"
   },
   {
    "duration": 3,
    "start_time": "2024-12-03T09:18:45.155Z"
   },
   {
    "duration": 103,
    "start_time": "2024-12-03T09:18:45.159Z"
   },
   {
    "duration": 1236959,
    "start_time": "2024-12-03T09:18:45.264Z"
   },
   {
    "duration": 127360,
    "start_time": "2024-12-03T09:39:22.225Z"
   },
   {
    "duration": 426,
    "start_time": "2024-12-03T09:41:29.586Z"
   },
   {
    "duration": 1282,
    "start_time": "2024-12-03T09:41:30.014Z"
   },
   {
    "duration": 209755,
    "start_time": "2024-12-03T09:41:31.297Z"
   },
   {
    "duration": 204,
    "start_time": "2024-12-03T09:45:01.054Z"
   },
   {
    "duration": 95,
    "start_time": "2024-12-03T09:45:01.260Z"
   },
   {
    "duration": 11,
    "start_time": "2024-12-03T09:45:01.357Z"
   },
   {
    "duration": 0,
    "start_time": "2024-12-03T09:45:01.370Z"
   },
   {
    "duration": 0,
    "start_time": "2024-12-03T09:45:01.371Z"
   },
   {
    "duration": 0,
    "start_time": "2024-12-03T09:45:01.372Z"
   },
   {
    "duration": 0,
    "start_time": "2024-12-03T09:45:01.373Z"
   },
   {
    "duration": 0,
    "start_time": "2024-12-03T09:45:01.374Z"
   },
   {
    "duration": 0,
    "start_time": "2024-12-03T09:45:01.375Z"
   },
   {
    "duration": 0,
    "start_time": "2024-12-03T09:45:01.376Z"
   },
   {
    "duration": 4,
    "start_time": "2024-12-03T10:02:11.408Z"
   },
   {
    "duration": 7278,
    "start_time": "2024-12-03T10:02:19.278Z"
   },
   {
    "duration": 1100,
    "start_time": "2024-12-03T10:02:26.558Z"
   },
   {
    "duration": 3161,
    "start_time": "2024-12-03T10:02:31.195Z"
   },
   {
    "duration": 2561,
    "start_time": "2024-12-03T11:42:53.824Z"
   },
   {
    "duration": 1560,
    "start_time": "2024-12-03T11:42:56.388Z"
   },
   {
    "duration": 3,
    "start_time": "2024-12-03T11:42:57.949Z"
   },
   {
    "duration": 1184,
    "start_time": "2024-12-03T11:42:57.954Z"
   },
   {
    "duration": 122,
    "start_time": "2024-12-03T11:42:59.140Z"
   },
   {
    "duration": 17,
    "start_time": "2024-12-03T11:42:59.264Z"
   },
   {
    "duration": 64,
    "start_time": "2024-12-03T11:42:59.283Z"
   },
   {
    "duration": 44,
    "start_time": "2024-12-03T11:42:59.352Z"
   },
   {
    "duration": 330,
    "start_time": "2024-12-03T11:42:59.398Z"
   },
   {
    "duration": 231,
    "start_time": "2024-12-03T11:42:59.730Z"
   },
   {
    "duration": 341,
    "start_time": "2024-12-03T11:42:59.963Z"
   },
   {
    "duration": 382,
    "start_time": "2024-12-03T11:43:00.306Z"
   },
   {
    "duration": 202,
    "start_time": "2024-12-03T11:43:00.690Z"
   },
   {
    "duration": 238,
    "start_time": "2024-12-03T11:43:00.894Z"
   },
   {
    "duration": 7,
    "start_time": "2024-12-03T11:43:01.133Z"
   },
   {
    "duration": 29,
    "start_time": "2024-12-03T11:43:01.142Z"
   },
   {
    "duration": 23,
    "start_time": "2024-12-03T11:43:01.172Z"
   },
   {
    "duration": 105,
    "start_time": "2024-12-03T11:43:01.196Z"
   },
   {
    "duration": 152,
    "start_time": "2024-12-03T11:43:01.303Z"
   },
   {
    "duration": 39,
    "start_time": "2024-12-03T11:43:01.457Z"
   },
   {
    "duration": 1188,
    "start_time": "2024-12-03T11:43:01.497Z"
   },
   {
    "duration": 9,
    "start_time": "2024-12-03T11:43:02.687Z"
   },
   {
    "duration": 106,
    "start_time": "2024-12-03T11:43:02.697Z"
   },
   {
    "duration": 123,
    "start_time": "2024-12-03T11:43:02.804Z"
   },
   {
    "duration": 114,
    "start_time": "2024-12-03T11:43:02.929Z"
   },
   {
    "duration": 135,
    "start_time": "2024-12-03T11:43:03.051Z"
   },
   {
    "duration": 40,
    "start_time": "2024-12-03T11:43:03.188Z"
   },
   {
    "duration": 24,
    "start_time": "2024-12-03T11:43:03.232Z"
   },
   {
    "duration": 223,
    "start_time": "2024-12-03T11:43:03.257Z"
   },
   {
    "duration": 124,
    "start_time": "2024-12-03T11:43:03.482Z"
   },
   {
    "duration": 115,
    "start_time": "2024-12-03T11:43:03.608Z"
   },
   {
    "duration": 67,
    "start_time": "2024-12-03T11:43:03.725Z"
   },
   {
    "duration": 17,
    "start_time": "2024-12-03T11:43:03.794Z"
   },
   {
    "duration": 1096,
    "start_time": "2024-12-03T11:43:03.813Z"
   },
   {
    "duration": 21,
    "start_time": "2024-12-03T11:43:04.910Z"
   },
   {
    "duration": 38,
    "start_time": "2024-12-03T11:43:04.933Z"
   },
   {
    "duration": 2625,
    "start_time": "2024-12-03T11:47:11.187Z"
   },
   {
    "duration": 1558,
    "start_time": "2024-12-03T11:47:13.815Z"
   },
   {
    "duration": 3,
    "start_time": "2024-12-03T11:47:15.374Z"
   },
   {
    "duration": 1183,
    "start_time": "2024-12-03T11:47:15.379Z"
   },
   {
    "duration": 123,
    "start_time": "2024-12-03T11:47:16.564Z"
   },
   {
    "duration": 18,
    "start_time": "2024-12-03T11:47:16.689Z"
   },
   {
    "duration": 59,
    "start_time": "2024-12-03T11:47:16.709Z"
   },
   {
    "duration": 44,
    "start_time": "2024-12-03T11:47:16.769Z"
   },
   {
    "duration": 326,
    "start_time": "2024-12-03T11:47:16.814Z"
   },
   {
    "duration": 228,
    "start_time": "2024-12-03T11:47:17.143Z"
   },
   {
    "duration": 314,
    "start_time": "2024-12-03T11:47:17.373Z"
   },
   {
    "duration": 355,
    "start_time": "2024-12-03T11:47:17.688Z"
   },
   {
    "duration": 198,
    "start_time": "2024-12-03T11:47:18.045Z"
   },
   {
    "duration": 235,
    "start_time": "2024-12-03T11:47:18.245Z"
   },
   {
    "duration": 6,
    "start_time": "2024-12-03T11:47:18.482Z"
   },
   {
    "duration": 27,
    "start_time": "2024-12-03T11:47:18.490Z"
   },
   {
    "duration": 23,
    "start_time": "2024-12-03T11:47:18.518Z"
   },
   {
    "duration": 14,
    "start_time": "2024-12-03T11:47:18.542Z"
   },
   {
    "duration": 29,
    "start_time": "2024-12-03T11:47:18.558Z"
   },
   {
    "duration": 24,
    "start_time": "2024-12-03T11:47:18.588Z"
   },
   {
    "duration": 1187,
    "start_time": "2024-12-03T11:47:18.614Z"
   },
   {
    "duration": 9,
    "start_time": "2024-12-03T11:47:19.802Z"
   },
   {
    "duration": 64,
    "start_time": "2024-12-03T11:47:19.812Z"
   },
   {
    "duration": 125,
    "start_time": "2024-12-03T11:47:19.877Z"
   },
   {
    "duration": 120,
    "start_time": "2024-12-03T11:47:20.003Z"
   },
   {
    "duration": 145,
    "start_time": "2024-12-03T11:47:20.124Z"
   },
   {
    "duration": 39,
    "start_time": "2024-12-03T11:47:20.270Z"
   },
   {
    "duration": 12,
    "start_time": "2024-12-03T11:47:20.313Z"
   },
   {
    "duration": 141,
    "start_time": "2024-12-03T11:47:20.326Z"
   },
   {
    "duration": 133,
    "start_time": "2024-12-03T11:47:20.469Z"
   },
   {
    "duration": 119,
    "start_time": "2024-12-03T11:47:20.603Z"
   },
   {
    "duration": 59,
    "start_time": "2024-12-03T11:47:20.723Z"
   },
   {
    "duration": 17,
    "start_time": "2024-12-03T11:47:20.784Z"
   },
   {
    "duration": 1052,
    "start_time": "2024-12-03T11:47:20.802Z"
   },
   {
    "duration": 22,
    "start_time": "2024-12-03T11:47:21.856Z"
   },
   {
    "duration": 24,
    "start_time": "2024-12-03T11:47:21.880Z"
   },
   {
    "duration": 1033,
    "start_time": "2024-12-03T11:47:21.906Z"
   },
   {
    "duration": 951,
    "start_time": "2024-12-03T11:47:22.941Z"
   },
   {
    "duration": 42,
    "start_time": "2024-12-03T11:47:23.894Z"
   },
   {
    "duration": 22,
    "start_time": "2024-12-03T11:47:23.938Z"
   },
   {
    "duration": 24,
    "start_time": "2024-12-03T11:47:23.962Z"
   },
   {
    "duration": 18,
    "start_time": "2024-12-03T11:47:23.988Z"
   },
   {
    "duration": 45,
    "start_time": "2024-12-03T11:47:24.008Z"
   },
   {
    "duration": 5,
    "start_time": "2024-12-03T11:47:24.055Z"
   },
   {
    "duration": 969,
    "start_time": "2024-12-03T11:47:24.061Z"
   },
   {
    "duration": 4,
    "start_time": "2024-12-03T11:47:25.032Z"
   },
   {
    "duration": 15,
    "start_time": "2024-12-03T11:47:25.038Z"
   },
   {
    "duration": 13,
    "start_time": "2024-12-03T11:47:25.054Z"
   },
   {
    "duration": 5,
    "start_time": "2024-12-03T11:47:25.068Z"
   },
   {
    "duration": 5567,
    "start_time": "2024-12-03T11:47:25.075Z"
   },
   {
    "duration": 4,
    "start_time": "2024-12-03T11:47:30.651Z"
   },
   {
    "duration": 89,
    "start_time": "2024-12-03T11:47:30.656Z"
   },
   {
    "duration": 1228196,
    "start_time": "2024-12-03T11:47:30.747Z"
   },
   {
    "duration": 128924,
    "start_time": "2024-12-03T12:07:58.945Z"
   },
   {
    "duration": 429,
    "start_time": "2024-12-03T12:10:07.870Z"
   },
   {
    "duration": 1273,
    "start_time": "2024-12-03T12:10:08.301Z"
   },
   {
    "duration": 373977,
    "start_time": "2024-12-03T12:10:09.576Z"
   },
   {
    "duration": 3,
    "start_time": "2024-12-03T12:16:23.555Z"
   },
   {
    "duration": 7108,
    "start_time": "2024-12-03T12:16:23.560Z"
   },
   {
    "duration": 1182,
    "start_time": "2024-12-03T12:16:30.670Z"
   },
   {
    "duration": 3120,
    "start_time": "2024-12-03T12:16:31.854Z"
   },
   {
    "duration": 725,
    "start_time": "2024-12-03T12:16:34.976Z"
   },
   {
    "duration": 14,
    "start_time": "2024-12-03T12:16:35.703Z"
   },
   {
    "duration": 0,
    "start_time": "2024-12-03T12:16:35.719Z"
   },
   {
    "duration": 0,
    "start_time": "2024-12-03T12:16:35.721Z"
   },
   {
    "duration": 0,
    "start_time": "2024-12-03T12:16:35.722Z"
   },
   {
    "duration": 0,
    "start_time": "2024-12-03T12:16:35.724Z"
   },
   {
    "duration": 0,
    "start_time": "2024-12-03T12:16:35.725Z"
   },
   {
    "duration": 0,
    "start_time": "2024-12-03T12:16:35.727Z"
   },
   {
    "duration": 51,
    "start_time": "2024-12-03T13:05:15.710Z"
   },
   {
    "duration": 0,
    "start_time": "2024-12-03T13:05:15.763Z"
   },
   {
    "duration": 0,
    "start_time": "2024-12-03T13:05:15.765Z"
   },
   {
    "duration": 0,
    "start_time": "2024-12-03T13:05:15.766Z"
   },
   {
    "duration": 0,
    "start_time": "2024-12-03T13:05:15.767Z"
   },
   {
    "duration": 0,
    "start_time": "2024-12-03T13:05:15.771Z"
   },
   {
    "duration": 605765,
    "start_time": "2024-12-03T13:05:31.362Z"
   },
   {
    "duration": 5,
    "start_time": "2024-12-03T13:16:24.655Z"
   },
   {
    "duration": 108754,
    "start_time": "2024-12-03T13:17:03.989Z"
   },
   {
    "duration": 15,
    "start_time": "2024-12-03T13:19:49.897Z"
   },
   {
    "duration": 12,
    "start_time": "2024-12-03T13:21:46.589Z"
   },
   {
    "duration": 13,
    "start_time": "2024-12-03T13:25:46.227Z"
   },
   {
    "duration": 12,
    "start_time": "2024-12-03T13:26:51.422Z"
   },
   {
    "duration": 2709,
    "start_time": "2024-12-03T13:27:30.279Z"
   },
   {
    "duration": 1695,
    "start_time": "2024-12-03T13:27:32.991Z"
   },
   {
    "duration": 3,
    "start_time": "2024-12-03T13:27:34.688Z"
   },
   {
    "duration": 1267,
    "start_time": "2024-12-03T13:27:34.692Z"
   },
   {
    "duration": 121,
    "start_time": "2024-12-03T13:27:35.961Z"
   },
   {
    "duration": 18,
    "start_time": "2024-12-03T13:27:36.083Z"
   },
   {
    "duration": 62,
    "start_time": "2024-12-03T13:27:36.103Z"
   },
   {
    "duration": 46,
    "start_time": "2024-12-03T13:27:36.167Z"
   },
   {
    "duration": 332,
    "start_time": "2024-12-03T13:27:36.215Z"
   },
   {
    "duration": 227,
    "start_time": "2024-12-03T13:27:36.551Z"
   },
   {
    "duration": 348,
    "start_time": "2024-12-03T13:27:36.779Z"
   },
   {
    "duration": 395,
    "start_time": "2024-12-03T13:27:37.129Z"
   },
   {
    "duration": 185,
    "start_time": "2024-12-03T13:27:37.526Z"
   },
   {
    "duration": 271,
    "start_time": "2024-12-03T13:27:37.713Z"
   },
   {
    "duration": 7,
    "start_time": "2024-12-03T13:27:37.986Z"
   },
   {
    "duration": 7,
    "start_time": "2024-12-03T13:27:38.211Z"
   },
   {
    "duration": 6,
    "start_time": "2024-12-03T13:27:38.446Z"
   },
   {
    "duration": 8,
    "start_time": "2024-12-03T13:27:39.170Z"
   },
   {
    "duration": 29,
    "start_time": "2024-12-03T13:27:39.255Z"
   },
   {
    "duration": 18,
    "start_time": "2024-12-03T13:27:39.338Z"
   },
   {
    "duration": 1217,
    "start_time": "2024-12-03T13:27:39.388Z"
   },
   {
    "duration": 8,
    "start_time": "2024-12-03T13:27:40.607Z"
   },
   {
    "duration": 62,
    "start_time": "2024-12-03T13:27:40.617Z"
   },
   {
    "duration": 130,
    "start_time": "2024-12-03T13:27:40.681Z"
   },
   {
    "duration": 122,
    "start_time": "2024-12-03T13:27:40.812Z"
   },
   {
    "duration": 147,
    "start_time": "2024-12-03T13:27:40.936Z"
   },
   {
    "duration": 41,
    "start_time": "2024-12-03T13:27:41.085Z"
   },
   {
    "duration": 29,
    "start_time": "2024-12-03T13:27:41.128Z"
   },
   {
    "duration": 125,
    "start_time": "2024-12-03T13:27:41.158Z"
   },
   {
    "duration": 134,
    "start_time": "2024-12-03T13:27:41.305Z"
   },
   {
    "duration": 126,
    "start_time": "2024-12-03T13:27:41.683Z"
   },
   {
    "duration": 51,
    "start_time": "2024-12-03T13:27:42.263Z"
   },
   {
    "duration": 17,
    "start_time": "2024-12-03T13:27:43.407Z"
   },
   {
    "duration": 1137,
    "start_time": "2024-12-03T13:27:43.600Z"
   },
   {
    "duration": 31,
    "start_time": "2024-12-03T13:27:44.739Z"
   },
   {
    "duration": 23,
    "start_time": "2024-12-03T13:27:44.772Z"
   },
   {
    "duration": 1103,
    "start_time": "2024-12-03T13:27:44.796Z"
   },
   {
    "duration": 986,
    "start_time": "2024-12-03T13:27:45.901Z"
   },
   {
    "duration": 31,
    "start_time": "2024-12-03T13:27:46.889Z"
   },
   {
    "duration": 4,
    "start_time": "2024-12-03T13:27:46.922Z"
   },
   {
    "duration": 44,
    "start_time": "2024-12-03T13:27:46.927Z"
   },
   {
    "duration": 20,
    "start_time": "2024-12-03T13:27:46.973Z"
   },
   {
    "duration": 21,
    "start_time": "2024-12-03T13:27:46.995Z"
   },
   {
    "duration": 5,
    "start_time": "2024-12-03T13:27:47.018Z"
   },
   {
    "duration": 1002,
    "start_time": "2024-12-03T13:27:47.052Z"
   },
   {
    "duration": 4,
    "start_time": "2024-12-03T13:27:48.056Z"
   },
   {
    "duration": 12,
    "start_time": "2024-12-03T13:27:48.061Z"
   },
   {
    "duration": 24,
    "start_time": "2024-12-03T13:27:48.075Z"
   },
   {
    "duration": 4,
    "start_time": "2024-12-03T13:27:48.631Z"
   },
   {
    "duration": 5622,
    "start_time": "2024-12-03T13:27:49.328Z"
   },
   {
    "duration": 2,
    "start_time": "2024-12-03T13:27:54.952Z"
   },
   {
    "duration": 69,
    "start_time": "2024-12-03T13:27:55.167Z"
   },
   {
    "duration": 13164,
    "start_time": "2024-12-03T13:28:11.266Z"
   },
   {
    "duration": 112361,
    "start_time": "2024-12-03T13:28:32.507Z"
   },
   {
    "duration": 16,
    "start_time": "2024-12-03T13:30:37.528Z"
   },
   {
    "duration": 4,
    "start_time": "2024-12-03T13:31:19.575Z"
   },
   {
    "duration": 7055,
    "start_time": "2024-12-03T13:32:08.651Z"
   },
   {
    "duration": 489,
    "start_time": "2024-12-03T13:32:15.708Z"
   },
   {
    "duration": 1343,
    "start_time": "2024-12-03T13:32:16.199Z"
   },
   {
    "duration": 212779,
    "start_time": "2024-12-03T13:34:31.509Z"
   },
   {
    "duration": 4,
    "start_time": "2024-12-03T13:38:04.290Z"
   },
   {
    "duration": 6463,
    "start_time": "2024-12-03T13:38:04.296Z"
   },
   {
    "duration": 470,
    "start_time": "2024-12-03T13:38:10.762Z"
   },
   {
    "duration": 1324,
    "start_time": "2024-12-03T13:38:11.234Z"
   },
   {
    "duration": 91621,
    "start_time": "2024-12-03T13:38:28.339Z"
   },
   {
    "duration": 4,
    "start_time": "2024-12-03T13:39:59.962Z"
   },
   {
    "duration": 5949,
    "start_time": "2024-12-03T13:39:59.968Z"
   },
   {
    "duration": 477,
    "start_time": "2024-12-03T13:40:05.919Z"
   },
   {
    "duration": 1323,
    "start_time": "2024-12-03T13:40:06.398Z"
   },
   {
    "duration": 51,
    "start_time": "2024-12-03T13:41:45.838Z"
   },
   {
    "duration": 4,
    "start_time": "2024-12-03T13:41:47.283Z"
   },
   {
    "duration": 5795,
    "start_time": "2024-12-03T13:41:48.739Z"
   },
   {
    "duration": 460,
    "start_time": "2024-12-03T13:41:54.536Z"
   },
   {
    "duration": 1315,
    "start_time": "2024-12-03T13:41:54.998Z"
   },
   {
    "duration": 3355,
    "start_time": "2024-12-03T13:49:15.820Z"
   },
   {
    "duration": 1604,
    "start_time": "2024-12-03T13:49:19.178Z"
   },
   {
    "duration": 2,
    "start_time": "2024-12-03T13:49:20.784Z"
   },
   {
    "duration": 1248,
    "start_time": "2024-12-03T13:49:20.788Z"
   },
   {
    "duration": 132,
    "start_time": "2024-12-03T13:49:22.037Z"
   },
   {
    "duration": 18,
    "start_time": "2024-12-03T13:49:22.171Z"
   },
   {
    "duration": 42,
    "start_time": "2024-12-03T13:49:22.191Z"
   },
   {
    "duration": 60,
    "start_time": "2024-12-03T13:49:22.234Z"
   },
   {
    "duration": 335,
    "start_time": "2024-12-03T13:49:22.295Z"
   },
   {
    "duration": 253,
    "start_time": "2024-12-03T13:49:22.632Z"
   },
   {
    "duration": 330,
    "start_time": "2024-12-03T13:49:22.887Z"
   },
   {
    "duration": 378,
    "start_time": "2024-12-03T13:49:23.219Z"
   },
   {
    "duration": 195,
    "start_time": "2024-12-03T13:49:23.598Z"
   },
   {
    "duration": 249,
    "start_time": "2024-12-03T13:49:23.795Z"
   },
   {
    "duration": 13,
    "start_time": "2024-12-03T13:49:24.053Z"
   },
   {
    "duration": 9,
    "start_time": "2024-12-03T13:49:24.067Z"
   },
   {
    "duration": 8,
    "start_time": "2024-12-03T13:49:24.078Z"
   },
   {
    "duration": 11,
    "start_time": "2024-12-03T13:49:24.087Z"
   },
   {
    "duration": 28,
    "start_time": "2024-12-03T13:49:24.100Z"
   },
   {
    "duration": 59,
    "start_time": "2024-12-03T13:49:24.129Z"
   },
   {
    "duration": 1256,
    "start_time": "2024-12-03T13:49:24.190Z"
   },
   {
    "duration": 20,
    "start_time": "2024-12-03T13:49:25.447Z"
   },
   {
    "duration": 47,
    "start_time": "2024-12-03T13:49:25.468Z"
   },
   {
    "duration": 148,
    "start_time": "2024-12-03T13:49:25.517Z"
   },
   {
    "duration": 124,
    "start_time": "2024-12-03T13:49:25.667Z"
   },
   {
    "duration": 167,
    "start_time": "2024-12-03T13:49:25.793Z"
   },
   {
    "duration": 40,
    "start_time": "2024-12-03T13:49:25.962Z"
   },
   {
    "duration": 47,
    "start_time": "2024-12-03T13:49:26.006Z"
   },
   {
    "duration": 134,
    "start_time": "2024-12-03T13:49:26.054Z"
   },
   {
    "duration": 141,
    "start_time": "2024-12-03T13:49:26.190Z"
   },
   {
    "duration": 132,
    "start_time": "2024-12-03T13:49:26.332Z"
   },
   {
    "duration": 53,
    "start_time": "2024-12-03T13:49:26.466Z"
   },
   {
    "duration": 17,
    "start_time": "2024-12-03T13:49:26.521Z"
   },
   {
    "duration": 1145,
    "start_time": "2024-12-03T13:49:26.540Z"
   },
   {
    "duration": 23,
    "start_time": "2024-12-03T13:49:27.687Z"
   },
   {
    "duration": 53,
    "start_time": "2024-12-03T13:49:27.712Z"
   },
   {
    "duration": 1128,
    "start_time": "2024-12-03T13:49:27.766Z"
   },
   {
    "duration": 1018,
    "start_time": "2024-12-03T13:49:28.896Z"
   },
   {
    "duration": 47,
    "start_time": "2024-12-03T13:49:29.916Z"
   },
   {
    "duration": 4,
    "start_time": "2024-12-03T13:49:29.965Z"
   },
   {
    "duration": 48,
    "start_time": "2024-12-03T13:49:29.970Z"
   },
   {
    "duration": 43,
    "start_time": "2024-12-03T13:49:30.020Z"
   },
   {
    "duration": 68,
    "start_time": "2024-12-03T13:49:30.067Z"
   },
   {
    "duration": 11,
    "start_time": "2024-12-03T13:49:30.137Z"
   },
   {
    "duration": 1039,
    "start_time": "2024-12-03T13:49:30.149Z"
   },
   {
    "duration": 4,
    "start_time": "2024-12-03T13:49:31.190Z"
   },
   {
    "duration": 54,
    "start_time": "2024-12-03T13:49:31.197Z"
   },
   {
    "duration": 81,
    "start_time": "2024-12-03T13:49:31.252Z"
   },
   {
    "duration": 26,
    "start_time": "2024-12-03T13:49:31.334Z"
   },
   {
    "duration": 6912,
    "start_time": "2024-12-03T13:49:31.362Z"
   },
   {
    "duration": 4,
    "start_time": "2024-12-03T13:49:38.277Z"
   },
   {
    "duration": 109,
    "start_time": "2024-12-03T13:49:38.283Z"
   },
   {
    "duration": 284318,
    "start_time": "2024-12-03T13:49:40.610Z"
   },
   {
    "duration": 3,
    "start_time": "2024-12-03T13:54:24.931Z"
   },
   {
    "duration": 6851,
    "start_time": "2024-12-03T13:54:24.936Z"
   },
   {
    "duration": 505,
    "start_time": "2024-12-03T13:54:31.789Z"
   },
   {
    "duration": 1392,
    "start_time": "2024-12-03T13:54:32.296Z"
   },
   {
    "duration": 5,
    "start_time": "2024-12-03T14:06:45.141Z"
   },
   {
    "duration": 4,
    "start_time": "2024-12-03T14:08:39.678Z"
   },
   {
    "duration": 128,
    "start_time": "2024-12-03T14:10:06.488Z"
   },
   {
    "duration": 4,
    "start_time": "2024-12-03T14:10:55.848Z"
   },
   {
    "duration": 1329,
    "start_time": "2024-12-03T14:11:09.201Z"
   },
   {
    "duration": 9,
    "start_time": "2024-12-03T14:12:35.706Z"
   },
   {
    "duration": 9,
    "start_time": "2024-12-03T14:13:29.444Z"
   },
   {
    "duration": 2544,
    "start_time": "2024-12-03T14:13:59.101Z"
   },
   {
    "duration": 1597,
    "start_time": "2024-12-03T14:14:01.647Z"
   },
   {
    "duration": 7,
    "start_time": "2024-12-03T14:14:03.246Z"
   },
   {
    "duration": 1192,
    "start_time": "2024-12-03T14:14:03.255Z"
   },
   {
    "duration": 107,
    "start_time": "2024-12-03T14:14:04.452Z"
   },
   {
    "duration": 18,
    "start_time": "2024-12-03T14:14:04.560Z"
   },
   {
    "duration": 72,
    "start_time": "2024-12-03T14:14:04.580Z"
   },
   {
    "duration": 66,
    "start_time": "2024-12-03T14:14:04.654Z"
   },
   {
    "duration": 315,
    "start_time": "2024-12-03T14:14:04.722Z"
   },
   {
    "duration": 227,
    "start_time": "2024-12-03T14:14:05.039Z"
   },
   {
    "duration": 316,
    "start_time": "2024-12-03T14:14:05.268Z"
   },
   {
    "duration": 377,
    "start_time": "2024-12-03T14:14:05.586Z"
   },
   {
    "duration": 200,
    "start_time": "2024-12-03T14:14:05.965Z"
   },
   {
    "duration": 230,
    "start_time": "2024-12-03T14:14:06.167Z"
   },
   {
    "duration": 7,
    "start_time": "2024-12-03T14:14:06.399Z"
   },
   {
    "duration": 41,
    "start_time": "2024-12-03T14:14:06.408Z"
   },
   {
    "duration": 30,
    "start_time": "2024-12-03T14:14:06.451Z"
   },
   {
    "duration": 50,
    "start_time": "2024-12-03T14:14:06.483Z"
   },
   {
    "duration": 47,
    "start_time": "2024-12-03T14:14:06.535Z"
   },
   {
    "duration": 40,
    "start_time": "2024-12-03T14:14:06.584Z"
   },
   {
    "duration": 1170,
    "start_time": "2024-12-03T14:14:06.626Z"
   },
   {
    "duration": 9,
    "start_time": "2024-12-03T14:14:07.797Z"
   },
   {
    "duration": 113,
    "start_time": "2024-12-03T14:14:07.807Z"
   },
   {
    "duration": 122,
    "start_time": "2024-12-03T14:14:07.922Z"
   },
   {
    "duration": 122,
    "start_time": "2024-12-03T14:14:08.046Z"
   },
   {
    "duration": 142,
    "start_time": "2024-12-03T14:14:08.169Z"
   },
   {
    "duration": 48,
    "start_time": "2024-12-03T14:14:08.313Z"
   },
   {
    "duration": 11,
    "start_time": "2024-12-03T14:14:08.365Z"
   },
   {
    "duration": 128,
    "start_time": "2024-12-03T14:14:08.378Z"
   },
   {
    "duration": 134,
    "start_time": "2024-12-03T14:14:08.507Z"
   },
   {
    "duration": 117,
    "start_time": "2024-12-03T14:14:08.643Z"
   },
   {
    "duration": 50,
    "start_time": "2024-12-03T14:14:08.762Z"
   },
   {
    "duration": 40,
    "start_time": "2024-12-03T14:14:08.813Z"
   },
   {
    "duration": 1052,
    "start_time": "2024-12-03T14:14:08.855Z"
   },
   {
    "duration": 22,
    "start_time": "2024-12-03T14:14:09.909Z"
   },
   {
    "duration": 38,
    "start_time": "2024-12-03T14:14:09.933Z"
   },
   {
    "duration": 1089,
    "start_time": "2024-12-03T14:14:09.973Z"
   },
   {
    "duration": 1016,
    "start_time": "2024-12-03T14:14:11.063Z"
   },
   {
    "duration": 31,
    "start_time": "2024-12-03T14:14:12.081Z"
   },
   {
    "duration": 3,
    "start_time": "2024-12-03T14:14:12.114Z"
   },
   {
    "duration": 105,
    "start_time": "2024-12-03T14:14:12.119Z"
   },
   {
    "duration": 33,
    "start_time": "2024-12-03T14:14:12.225Z"
   },
   {
    "duration": 33,
    "start_time": "2024-12-03T14:14:12.260Z"
   },
   {
    "duration": 18,
    "start_time": "2024-12-03T14:14:12.294Z"
   },
   {
    "duration": 1001,
    "start_time": "2024-12-03T14:14:12.314Z"
   },
   {
    "duration": 4,
    "start_time": "2024-12-03T14:14:13.316Z"
   },
   {
    "duration": 16,
    "start_time": "2024-12-03T14:14:13.321Z"
   },
   {
    "duration": 13,
    "start_time": "2024-12-03T14:14:13.339Z"
   },
   {
    "duration": 22,
    "start_time": "2024-12-03T14:14:13.354Z"
   },
   {
    "duration": 5583,
    "start_time": "2024-12-03T14:14:13.378Z"
   },
   {
    "duration": 4,
    "start_time": "2024-12-03T14:14:18.962Z"
   },
   {
    "duration": 8,
    "start_time": "2024-12-03T14:14:18.968Z"
   },
   {
    "duration": 81,
    "start_time": "2024-12-03T14:14:18.977Z"
   },
   {
    "duration": 1237756,
    "start_time": "2024-12-03T14:14:19.060Z"
   },
   {
    "duration": 129465,
    "start_time": "2024-12-03T14:34:56.818Z"
   },
   {
    "duration": 427,
    "start_time": "2024-12-03T14:37:06.285Z"
   },
   {
    "duration": 1281,
    "start_time": "2024-12-03T14:37:06.713Z"
   },
   {
    "duration": 58,
    "start_time": "2024-12-03T14:37:07.996Z"
   },
   {
    "duration": 0,
    "start_time": "2024-12-03T14:37:08.056Z"
   },
   {
    "duration": 0,
    "start_time": "2024-12-03T14:37:08.057Z"
   },
   {
    "duration": 0,
    "start_time": "2024-12-03T14:37:08.058Z"
   },
   {
    "duration": 0,
    "start_time": "2024-12-03T14:37:08.059Z"
   },
   {
    "duration": 0,
    "start_time": "2024-12-03T14:37:08.061Z"
   },
   {
    "duration": 0,
    "start_time": "2024-12-03T14:37:08.062Z"
   },
   {
    "duration": 0,
    "start_time": "2024-12-03T14:37:08.063Z"
   },
   {
    "duration": 0,
    "start_time": "2024-12-03T14:37:08.064Z"
   },
   {
    "duration": 0,
    "start_time": "2024-12-03T14:37:08.065Z"
   },
   {
    "duration": 0,
    "start_time": "2024-12-03T14:37:08.066Z"
   },
   {
    "duration": 0,
    "start_time": "2024-12-03T14:37:08.067Z"
   },
   {
    "duration": 0,
    "start_time": "2024-12-03T14:37:08.068Z"
   },
   {
    "duration": 0,
    "start_time": "2024-12-03T14:37:08.069Z"
   },
   {
    "duration": 993738,
    "start_time": "2024-12-03T14:54:14.926Z"
   },
   {
    "duration": 3,
    "start_time": "2024-12-03T15:10:48.666Z"
   },
   {
    "duration": 8195,
    "start_time": "2024-12-03T15:10:48.671Z"
   },
   {
    "duration": 1095,
    "start_time": "2024-12-03T15:10:56.868Z"
   },
   {
    "duration": 3204,
    "start_time": "2024-12-03T15:10:57.964Z"
   },
   {
    "duration": 2661,
    "start_time": "2024-12-03T15:12:32.302Z"
   },
   {
    "duration": 1598,
    "start_time": "2024-12-03T15:12:34.965Z"
   },
   {
    "duration": 4,
    "start_time": "2024-12-03T15:12:36.564Z"
   },
   {
    "duration": 1162,
    "start_time": "2024-12-03T15:12:36.570Z"
   },
   {
    "duration": 123,
    "start_time": "2024-12-03T15:12:37.733Z"
   },
   {
    "duration": 17,
    "start_time": "2024-12-03T15:12:37.858Z"
   },
   {
    "duration": 92,
    "start_time": "2024-12-03T15:12:37.877Z"
   },
   {
    "duration": 43,
    "start_time": "2024-12-03T15:12:37.971Z"
   },
   {
    "duration": 326,
    "start_time": "2024-12-03T15:12:38.016Z"
   },
   {
    "duration": 219,
    "start_time": "2024-12-03T15:12:38.351Z"
   },
   {
    "duration": 314,
    "start_time": "2024-12-03T15:12:38.571Z"
   },
   {
    "duration": 359,
    "start_time": "2024-12-03T15:12:38.887Z"
   },
   {
    "duration": 198,
    "start_time": "2024-12-03T15:12:39.248Z"
   },
   {
    "duration": 227,
    "start_time": "2024-12-03T15:12:39.448Z"
   },
   {
    "duration": 6,
    "start_time": "2024-12-03T15:12:39.677Z"
   },
   {
    "duration": 6,
    "start_time": "2024-12-03T15:12:39.685Z"
   },
   {
    "duration": 6,
    "start_time": "2024-12-03T15:12:39.693Z"
   },
   {
    "duration": 13,
    "start_time": "2024-12-03T15:12:39.700Z"
   },
   {
    "duration": 49,
    "start_time": "2024-12-03T15:12:39.715Z"
   },
   {
    "duration": 17,
    "start_time": "2024-12-03T15:12:39.766Z"
   },
   {
    "duration": 1238,
    "start_time": "2024-12-03T15:12:39.785Z"
   },
   {
    "duration": 9,
    "start_time": "2024-12-03T15:12:41.024Z"
   },
   {
    "duration": 68,
    "start_time": "2024-12-03T15:12:41.035Z"
   },
   {
    "duration": 116,
    "start_time": "2024-12-03T15:12:41.104Z"
   },
   {
    "duration": 114,
    "start_time": "2024-12-03T15:12:41.222Z"
   },
   {
    "duration": 146,
    "start_time": "2024-12-03T15:12:41.338Z"
   },
   {
    "duration": 40,
    "start_time": "2024-12-03T15:12:41.486Z"
   },
   {
    "duration": 25,
    "start_time": "2024-12-03T15:12:41.530Z"
   },
   {
    "duration": 133,
    "start_time": "2024-12-03T15:12:41.557Z"
   },
   {
    "duration": 127,
    "start_time": "2024-12-03T15:12:41.691Z"
   },
   {
    "duration": 116,
    "start_time": "2024-12-03T15:12:41.819Z"
   },
   {
    "duration": 55,
    "start_time": "2024-12-03T15:12:41.937Z"
   },
   {
    "duration": 17,
    "start_time": "2024-12-03T15:12:41.993Z"
   },
   {
    "duration": 1052,
    "start_time": "2024-12-03T15:12:42.012Z"
   },
   {
    "duration": 22,
    "start_time": "2024-12-03T15:12:43.065Z"
   },
   {
    "duration": 31,
    "start_time": "2024-12-03T15:12:43.089Z"
   },
   {
    "duration": 1099,
    "start_time": "2024-12-03T15:12:43.122Z"
   },
   {
    "duration": 966,
    "start_time": "2024-12-03T15:12:44.223Z"
   },
   {
    "duration": 31,
    "start_time": "2024-12-03T15:12:45.191Z"
   },
   {
    "duration": 3,
    "start_time": "2024-12-03T15:12:45.224Z"
   },
   {
    "duration": 104,
    "start_time": "2024-12-03T15:12:45.229Z"
   },
   {
    "duration": 40,
    "start_time": "2024-12-03T15:12:45.334Z"
   },
   {
    "duration": 20,
    "start_time": "2024-12-03T15:12:45.375Z"
   },
   {
    "duration": 21,
    "start_time": "2024-12-03T15:12:45.397Z"
   },
   {
    "duration": 1058,
    "start_time": "2024-12-03T15:12:45.420Z"
   },
   {
    "duration": 4,
    "start_time": "2024-12-03T15:12:46.480Z"
   },
   {
    "duration": 5,
    "start_time": "2024-12-03T15:12:46.485Z"
   },
   {
    "duration": 15,
    "start_time": "2024-12-03T15:12:46.492Z"
   },
   {
    "duration": 12,
    "start_time": "2024-12-03T15:12:46.508Z"
   },
   {
    "duration": 5495,
    "start_time": "2024-12-03T15:12:46.521Z"
   },
   {
    "duration": 5,
    "start_time": "2024-12-03T15:12:52.017Z"
   },
   {
    "duration": 19,
    "start_time": "2024-12-03T15:12:52.024Z"
   },
   {
    "duration": 81,
    "start_time": "2024-12-03T15:12:52.045Z"
   },
   {
    "duration": 1250413,
    "start_time": "2024-12-03T15:12:52.128Z"
   },
   {
    "duration": 134173,
    "start_time": "2024-12-03T15:33:42.543Z"
   },
   {
    "duration": 482,
    "start_time": "2024-12-03T15:35:56.718Z"
   },
   {
    "duration": 1370,
    "start_time": "2024-12-03T15:35:57.202Z"
   },
   {
    "duration": 971097,
    "start_time": "2024-12-03T15:35:58.573Z"
   },
   {
    "duration": 4,
    "start_time": "2024-12-03T15:52:09.753Z"
   },
   {
    "duration": 7809,
    "start_time": "2024-12-03T15:52:09.758Z"
   },
   {
    "duration": 1099,
    "start_time": "2024-12-03T15:52:17.568Z"
   },
   {
    "duration": 3299,
    "start_time": "2024-12-03T15:52:18.669Z"
   },
   {
    "duration": 222802,
    "start_time": "2024-12-03T15:52:21.969Z"
   },
   {
    "duration": 4,
    "start_time": "2024-12-03T15:56:04.773Z"
   },
   {
    "duration": 6740,
    "start_time": "2024-12-03T15:56:04.778Z"
   },
   {
    "duration": 514,
    "start_time": "2024-12-03T15:56:11.520Z"
   },
   {
    "duration": 1386,
    "start_time": "2024-12-03T15:56:12.036Z"
   },
   {
    "duration": 0,
    "start_time": "2024-12-03T15:56:13.572Z"
   },
   {
    "duration": 0,
    "start_time": "2024-12-03T15:56:13.573Z"
   },
   {
    "duration": 0,
    "start_time": "2024-12-03T15:56:13.576Z"
   },
   {
    "duration": 13,
    "start_time": "2024-12-03T16:23:14.505Z"
   },
   {
    "duration": 4,
    "start_time": "2024-12-03T16:24:20.807Z"
   },
   {
    "duration": 10,
    "start_time": "2024-12-03T16:24:25.996Z"
   },
   {
    "duration": 11,
    "start_time": "2024-12-03T16:24:43.597Z"
   },
   {
    "duration": 85,
    "start_time": "2024-12-03T16:25:27.183Z"
   },
   {
    "duration": 5,
    "start_time": "2024-12-03T16:25:36.968Z"
   },
   {
    "duration": 293,
    "start_time": "2024-12-03T16:25:38.661Z"
   },
   {
    "duration": 5,
    "start_time": "2024-12-03T16:25:55.564Z"
   },
   {
    "duration": 620,
    "start_time": "2024-12-03T16:25:56.179Z"
   },
   {
    "duration": 718,
    "start_time": "2024-12-03T16:26:38.037Z"
   },
   {
    "duration": 682,
    "start_time": "2024-12-03T16:27:03.398Z"
   },
   {
    "duration": 2613,
    "start_time": "2024-12-03T16:30:59.307Z"
   },
   {
    "duration": 1646,
    "start_time": "2024-12-03T16:31:01.922Z"
   },
   {
    "duration": 3,
    "start_time": "2024-12-03T16:31:03.569Z"
   },
   {
    "duration": 1231,
    "start_time": "2024-12-03T16:31:03.574Z"
   },
   {
    "duration": 114,
    "start_time": "2024-12-03T16:31:04.807Z"
   },
   {
    "duration": 17,
    "start_time": "2024-12-03T16:31:04.923Z"
   },
   {
    "duration": 41,
    "start_time": "2024-12-03T16:31:04.952Z"
   },
   {
    "duration": 57,
    "start_time": "2024-12-03T16:31:04.995Z"
   },
   {
    "duration": 313,
    "start_time": "2024-12-03T16:31:05.054Z"
   },
   {
    "duration": 230,
    "start_time": "2024-12-03T16:31:05.370Z"
   },
   {
    "duration": 334,
    "start_time": "2024-12-03T16:31:05.602Z"
   },
   {
    "duration": 372,
    "start_time": "2024-12-03T16:31:05.938Z"
   },
   {
    "duration": 188,
    "start_time": "2024-12-03T16:31:06.311Z"
   },
   {
    "duration": 196,
    "start_time": "2024-12-03T16:31:06.500Z"
   },
   {
    "duration": 7,
    "start_time": "2024-12-03T16:31:06.697Z"
   },
   {
    "duration": 52,
    "start_time": "2024-12-03T16:31:06.706Z"
   },
   {
    "duration": 22,
    "start_time": "2024-12-03T16:31:06.760Z"
   },
   {
    "duration": 97,
    "start_time": "2024-12-03T16:31:06.784Z"
   },
   {
    "duration": 93,
    "start_time": "2024-12-03T16:31:06.883Z"
   },
   {
    "duration": 39,
    "start_time": "2024-12-03T16:31:06.977Z"
   },
   {
    "duration": 1218,
    "start_time": "2024-12-03T16:31:07.017Z"
   },
   {
    "duration": 18,
    "start_time": "2024-12-03T16:31:08.237Z"
   },
   {
    "duration": 55,
    "start_time": "2024-12-03T16:31:08.257Z"
   },
   {
    "duration": 120,
    "start_time": "2024-12-03T16:31:08.313Z"
   },
   {
    "duration": 124,
    "start_time": "2024-12-03T16:31:08.435Z"
   },
   {
    "duration": 140,
    "start_time": "2024-12-03T16:31:08.561Z"
   },
   {
    "duration": 52,
    "start_time": "2024-12-03T16:31:08.703Z"
   },
   {
    "duration": 11,
    "start_time": "2024-12-03T16:31:08.759Z"
   },
   {
    "duration": 128,
    "start_time": "2024-12-03T16:31:08.772Z"
   },
   {
    "duration": 128,
    "start_time": "2024-12-03T16:31:08.902Z"
   },
   {
    "duration": 116,
    "start_time": "2024-12-03T16:31:09.031Z"
   },
   {
    "duration": 49,
    "start_time": "2024-12-03T16:31:09.152Z"
   },
   {
    "duration": 17,
    "start_time": "2024-12-03T16:31:09.203Z"
   },
   {
    "duration": 1036,
    "start_time": "2024-12-03T16:31:09.222Z"
   },
   {
    "duration": 31,
    "start_time": "2024-12-03T16:31:10.259Z"
   },
   {
    "duration": 28,
    "start_time": "2024-12-03T16:31:10.292Z"
   },
   {
    "duration": 1032,
    "start_time": "2024-12-03T16:31:10.322Z"
   },
   {
    "duration": 966,
    "start_time": "2024-12-03T16:31:11.356Z"
   },
   {
    "duration": 50,
    "start_time": "2024-12-03T16:31:12.324Z"
   },
   {
    "duration": 4,
    "start_time": "2024-12-03T16:31:12.376Z"
   },
   {
    "duration": 31,
    "start_time": "2024-12-03T16:31:12.381Z"
   },
   {
    "duration": 43,
    "start_time": "2024-12-03T16:31:12.413Z"
   },
   {
    "duration": 27,
    "start_time": "2024-12-03T16:31:12.458Z"
   },
   {
    "duration": 6,
    "start_time": "2024-12-03T16:31:12.487Z"
   },
   {
    "duration": 961,
    "start_time": "2024-12-03T16:31:12.494Z"
   },
   {
    "duration": 4,
    "start_time": "2024-12-03T16:31:13.457Z"
   },
   {
    "duration": 5,
    "start_time": "2024-12-03T16:31:13.463Z"
   },
   {
    "duration": 7,
    "start_time": "2024-12-03T16:31:13.469Z"
   },
   {
    "duration": 65,
    "start_time": "2024-12-03T16:31:13.478Z"
   },
   {
    "duration": 5693,
    "start_time": "2024-12-03T16:31:13.545Z"
   },
   {
    "duration": 13,
    "start_time": "2024-12-03T16:31:19.239Z"
   },
   {
    "duration": 3,
    "start_time": "2024-12-03T16:31:19.253Z"
   },
   {
    "duration": 75,
    "start_time": "2024-12-03T16:31:19.258Z"
   },
   {
    "duration": 1230044,
    "start_time": "2024-12-03T16:31:19.335Z"
   },
   {
    "duration": 127314,
    "start_time": "2024-12-03T16:51:49.380Z"
   },
   {
    "duration": 437,
    "start_time": "2024-12-03T16:53:56.696Z"
   },
   {
    "duration": 1290,
    "start_time": "2024-12-03T16:53:57.134Z"
   },
   {
    "duration": 268640,
    "start_time": "2024-12-03T16:53:58.426Z"
   },
   {
    "duration": 3,
    "start_time": "2024-12-03T16:58:27.067Z"
   },
   {
    "duration": 7289,
    "start_time": "2024-12-03T16:58:27.072Z"
   },
   {
    "duration": 1090,
    "start_time": "2024-12-03T16:58:34.362Z"
   },
   {
    "duration": 3112,
    "start_time": "2024-12-03T16:58:35.454Z"
   },
   {
    "duration": 215568,
    "start_time": "2024-12-03T16:58:38.568Z"
   },
   {
    "duration": 4,
    "start_time": "2024-12-03T17:02:14.138Z"
   },
   {
    "duration": 6153,
    "start_time": "2024-12-03T17:02:14.151Z"
   },
   {
    "duration": 460,
    "start_time": "2024-12-03T17:02:20.306Z"
   },
   {
    "duration": 1285,
    "start_time": "2024-12-03T17:02:20.767Z"
   },
   {
    "duration": 13,
    "start_time": "2024-12-03T17:02:22.054Z"
   },
   {
    "duration": 26,
    "start_time": "2024-12-03T17:02:22.069Z"
   },
   {
    "duration": 576,
    "start_time": "2024-12-03T17:02:22.097Z"
   },
   {
    "duration": 602,
    "start_time": "2024-12-03T17:02:22.675Z"
   },
   {
    "duration": 760,
    "start_time": "2024-12-03T17:02:23.279Z"
   },
   {
    "duration": 126,
    "start_time": "2024-12-03T19:31:09.874Z"
   },
   {
    "duration": 13,
    "start_time": "2024-12-03T19:31:47.204Z"
   },
   {
    "duration": 2539,
    "start_time": "2024-12-03T19:31:56.113Z"
   },
   {
    "duration": 6,
    "start_time": "2024-12-03T19:31:58.655Z"
   },
   {
    "duration": 16,
    "start_time": "2024-12-03T19:31:58.662Z"
   },
   {
    "duration": 1059,
    "start_time": "2024-12-03T19:31:58.680Z"
   },
   {
    "duration": 114,
    "start_time": "2024-12-03T19:31:59.741Z"
   },
   {
    "duration": 14,
    "start_time": "2024-12-03T19:31:59.857Z"
   },
   {
    "duration": 51,
    "start_time": "2024-12-03T19:31:59.873Z"
   },
   {
    "duration": 55,
    "start_time": "2024-12-03T19:31:59.926Z"
   },
   {
    "duration": 307,
    "start_time": "2024-12-03T19:31:59.982Z"
   },
   {
    "duration": 211,
    "start_time": "2024-12-03T19:32:00.291Z"
   },
   {
    "duration": 294,
    "start_time": "2024-12-03T19:32:00.504Z"
   },
   {
    "duration": 316,
    "start_time": "2024-12-03T19:32:00.800Z"
   },
   {
    "duration": 171,
    "start_time": "2024-12-03T19:32:01.118Z"
   },
   {
    "duration": 190,
    "start_time": "2024-12-03T19:32:01.291Z"
   },
   {
    "duration": 7,
    "start_time": "2024-12-03T19:32:01.482Z"
   },
   {
    "duration": 47,
    "start_time": "2024-12-03T19:32:01.491Z"
   },
   {
    "duration": 11,
    "start_time": "2024-12-03T19:32:01.540Z"
   },
   {
    "duration": 24,
    "start_time": "2024-12-03T19:32:01.553Z"
   },
   {
    "duration": 42,
    "start_time": "2024-12-03T19:32:01.579Z"
   },
   {
    "duration": 21,
    "start_time": "2024-12-03T19:32:01.623Z"
   },
   {
    "duration": 1157,
    "start_time": "2024-12-03T19:32:01.646Z"
   },
   {
    "duration": 7,
    "start_time": "2024-12-03T19:32:02.805Z"
   },
   {
    "duration": 115,
    "start_time": "2024-12-03T19:32:02.814Z"
   },
   {
    "duration": 120,
    "start_time": "2024-12-03T19:32:03.720Z"
   },
   {
    "duration": 110,
    "start_time": "2024-12-03T19:32:04.954Z"
   },
   {
    "duration": 131,
    "start_time": "2024-12-03T19:32:05.406Z"
   },
   {
    "duration": 40,
    "start_time": "2024-12-03T19:32:05.617Z"
   },
   {
    "duration": 11,
    "start_time": "2024-12-03T19:32:06.029Z"
   },
   {
    "duration": 114,
    "start_time": "2024-12-03T19:32:06.224Z"
   },
   {
    "duration": 123,
    "start_time": "2024-12-03T19:32:06.626Z"
   },
   {
    "duration": 111,
    "start_time": "2024-12-03T19:32:07.253Z"
   },
   {
    "duration": 50,
    "start_time": "2024-12-03T19:32:08.306Z"
   },
   {
    "duration": 17,
    "start_time": "2024-12-03T19:32:09.324Z"
   },
   {
    "duration": 1007,
    "start_time": "2024-12-03T19:32:09.577Z"
   },
   {
    "duration": 21,
    "start_time": "2024-12-03T19:32:10.586Z"
   },
   {
    "duration": 21,
    "start_time": "2024-12-03T19:32:10.609Z"
   },
   {
    "duration": 22,
    "start_time": "2024-12-03T19:32:10.996Z"
   },
   {
    "duration": 1031,
    "start_time": "2024-12-03T19:32:11.527Z"
   },
   {
    "duration": 1004,
    "start_time": "2024-12-03T19:32:12.560Z"
   },
   {
    "duration": 30,
    "start_time": "2024-12-03T19:32:13.566Z"
   },
   {
    "duration": 4,
    "start_time": "2024-12-03T19:32:14.854Z"
   },
   {
    "duration": 21,
    "start_time": "2024-12-03T19:32:16.025Z"
   },
   {
    "duration": 20,
    "start_time": "2024-12-03T19:32:16.372Z"
   },
   {
    "duration": 22,
    "start_time": "2024-12-03T19:32:17.375Z"
   },
   {
    "duration": 1057,
    "start_time": "2024-12-03T19:32:18.751Z"
   },
   {
    "duration": 32,
    "start_time": "2024-12-03T19:33:54.531Z"
   },
   {
    "duration": 29,
    "start_time": "2024-12-03T19:34:12.590Z"
   },
   {
    "duration": 67,
    "start_time": "2024-12-03T19:38:00.154Z"
   },
   {
    "duration": 253371,
    "start_time": "2024-12-03T19:38:11.589Z"
   },
   {
    "duration": 4,
    "start_time": "2024-12-03T19:44:19.013Z"
   },
   {
    "duration": 39167,
    "start_time": "2024-12-03T19:44:32.796Z"
   },
   {
    "duration": 1001,
    "start_time": "2024-12-03T19:45:11.964Z"
   },
   {
    "duration": 3307,
    "start_time": "2024-12-03T19:45:12.967Z"
   },
   {
    "duration": 605,
    "start_time": "2024-12-03T19:45:20.249Z"
   },
   {
    "duration": 27,
    "start_time": "2024-12-03T19:48:19.681Z"
   },
   {
    "duration": 51,
    "start_time": "2024-12-03T19:48:29.750Z"
   },
   {
    "duration": 256536,
    "start_time": "2024-12-03T19:48:30.624Z"
   },
   {
    "duration": 3,
    "start_time": "2024-12-03T19:52:47.162Z"
   },
   {
    "duration": 5698,
    "start_time": "2024-12-03T19:52:47.167Z"
   },
   {
    "duration": 891,
    "start_time": "2024-12-03T19:52:52.867Z"
   },
   {
    "duration": 2507,
    "start_time": "2024-12-03T19:52:53.760Z"
   },
   {
    "duration": 608,
    "start_time": "2024-12-03T19:52:56.269Z"
   },
   {
    "duration": 2717,
    "start_time": "2024-12-03T20:12:16.347Z"
   },
   {
    "duration": 8,
    "start_time": "2024-12-03T20:12:19.067Z"
   },
   {
    "duration": 12,
    "start_time": "2024-12-03T20:12:19.077Z"
   },
   {
    "duration": 1098,
    "start_time": "2024-12-03T20:12:19.091Z"
   },
   {
    "duration": 117,
    "start_time": "2024-12-03T20:12:20.191Z"
   },
   {
    "duration": 14,
    "start_time": "2024-12-03T20:12:20.310Z"
   },
   {
    "duration": 55,
    "start_time": "2024-12-03T20:12:20.326Z"
   },
   {
    "duration": 44,
    "start_time": "2024-12-03T20:12:20.383Z"
   },
   {
    "duration": 323,
    "start_time": "2024-12-03T20:12:20.429Z"
   },
   {
    "duration": 226,
    "start_time": "2024-12-03T20:12:20.754Z"
   },
   {
    "duration": 282,
    "start_time": "2024-12-03T20:12:20.982Z"
   },
   {
    "duration": 309,
    "start_time": "2024-12-03T20:12:21.267Z"
   },
   {
    "duration": 181,
    "start_time": "2024-12-03T20:12:21.612Z"
   },
   {
    "duration": 175,
    "start_time": "2024-12-03T20:12:22.546Z"
   },
   {
    "duration": 8,
    "start_time": "2024-12-03T20:12:23.278Z"
   },
   {
    "duration": 7,
    "start_time": "2024-12-03T20:12:23.715Z"
   },
   {
    "duration": 6,
    "start_time": "2024-12-03T20:12:24.122Z"
   },
   {
    "duration": 8,
    "start_time": "2024-12-03T20:12:26.257Z"
   },
   {
    "duration": 19,
    "start_time": "2024-12-03T20:12:27.009Z"
   },
   {
    "duration": 16,
    "start_time": "2024-12-03T20:12:28.009Z"
   },
   {
    "duration": 1155,
    "start_time": "2024-12-03T20:12:28.773Z"
   },
   {
    "duration": 7,
    "start_time": "2024-12-03T20:12:33.101Z"
   },
   {
    "duration": 39,
    "start_time": "2024-12-03T20:12:38.258Z"
   },
   {
    "duration": 136,
    "start_time": "2024-12-03T20:12:39.856Z"
   },
   {
    "duration": 125,
    "start_time": "2024-12-03T20:12:42.100Z"
   },
   {
    "duration": 151,
    "start_time": "2024-12-03T20:12:42.580Z"
   },
   {
    "duration": 39,
    "start_time": "2024-12-03T20:12:42.782Z"
   },
   {
    "duration": 13,
    "start_time": "2024-12-03T20:12:44.366Z"
   },
   {
    "duration": 124,
    "start_time": "2024-12-03T20:12:44.729Z"
   },
   {
    "duration": 125,
    "start_time": "2024-12-03T20:12:45.621Z"
   },
   {
    "duration": 118,
    "start_time": "2024-12-03T20:12:46.342Z"
   },
   {
    "duration": 50,
    "start_time": "2024-12-03T20:12:47.202Z"
   },
   {
    "duration": 18,
    "start_time": "2024-12-03T20:12:48.156Z"
   },
   {
    "duration": 1183,
    "start_time": "2024-12-03T20:12:48.775Z"
   },
   {
    "duration": 22,
    "start_time": "2024-12-03T20:12:50.166Z"
   },
   {
    "duration": 22,
    "start_time": "2024-12-03T20:12:50.958Z"
   },
   {
    "duration": 23,
    "start_time": "2024-12-03T20:12:52.598Z"
   },
   {
    "duration": 984,
    "start_time": "2024-12-03T20:13:04.817Z"
   },
   {
    "duration": 21,
    "start_time": "2024-12-03T20:13:08.814Z"
   },
   {
    "duration": 19,
    "start_time": "2024-12-03T20:13:15.750Z"
   },
   {
    "duration": 973,
    "start_time": "2024-12-03T20:14:15.807Z"
   },
   {
    "duration": 31,
    "start_time": "2024-12-03T20:14:28.586Z"
   },
   {
    "duration": 4,
    "start_time": "2024-12-03T20:14:30.591Z"
   },
   {
    "duration": 21,
    "start_time": "2024-12-03T20:14:37.623Z"
   },
   {
    "duration": 21,
    "start_time": "2024-12-03T20:14:47.592Z"
   },
   {
    "duration": 21,
    "start_time": "2024-12-03T20:15:01.422Z"
   },
   {
    "duration": 892,
    "start_time": "2024-12-03T20:15:05.052Z"
   },
   {
    "duration": 6,
    "start_time": "2024-12-03T20:15:20.294Z"
   },
   {
    "duration": 867,
    "start_time": "2024-12-03T20:15:21.591Z"
   },
   {
    "duration": 4,
    "start_time": "2024-12-03T20:15:33.022Z"
   },
   {
    "duration": 4,
    "start_time": "2024-12-03T20:15:35.369Z"
   },
   {
    "duration": 8,
    "start_time": "2024-12-03T20:15:48.055Z"
   },
   {
    "duration": 5,
    "start_time": "2024-12-03T20:15:50.524Z"
   },
   {
    "duration": 5275,
    "start_time": "2024-12-03T20:15:51.277Z"
   },
   {
    "duration": 1073,
    "start_time": "2024-12-03T20:26:13.446Z"
   },
   {
    "duration": 114,
    "start_time": "2024-12-03T20:26:14.521Z"
   },
   {
    "duration": 24,
    "start_time": "2024-12-03T20:26:14.636Z"
   },
   {
    "duration": 36,
    "start_time": "2024-12-03T20:26:14.662Z"
   },
   {
    "duration": 40,
    "start_time": "2024-12-03T20:26:14.939Z"
   },
   {
    "duration": 297,
    "start_time": "2024-12-03T20:26:15.495Z"
   },
   {
    "duration": 216,
    "start_time": "2024-12-03T20:26:15.794Z"
   },
   {
    "duration": 278,
    "start_time": "2024-12-03T20:26:16.012Z"
   },
   {
    "duration": 276,
    "start_time": "2024-12-03T20:26:16.293Z"
   },
   {
    "duration": 162,
    "start_time": "2024-12-03T20:26:16.571Z"
   },
   {
    "duration": 195,
    "start_time": "2024-12-03T20:26:16.735Z"
   },
   {
    "duration": 7,
    "start_time": "2024-12-03T20:26:16.932Z"
   },
   {
    "duration": 21,
    "start_time": "2024-12-03T20:26:16.941Z"
   },
   {
    "duration": 92,
    "start_time": "2024-12-03T20:26:16.964Z"
   },
   {
    "duration": 26,
    "start_time": "2024-12-03T20:26:17.059Z"
   },
   {
    "duration": 18,
    "start_time": "2024-12-03T20:26:17.229Z"
   },
   {
    "duration": 16,
    "start_time": "2024-12-03T20:26:17.934Z"
   },
   {
    "duration": 1089,
    "start_time": "2024-12-03T20:26:18.163Z"
   },
   {
    "duration": 9,
    "start_time": "2024-12-03T20:26:19.254Z"
   },
   {
    "duration": 45,
    "start_time": "2024-12-03T20:26:19.264Z"
   },
   {
    "duration": 133,
    "start_time": "2024-12-03T20:26:19.311Z"
   },
   {
    "duration": 109,
    "start_time": "2024-12-03T20:26:19.758Z"
   },
   {
    "duration": 133,
    "start_time": "2024-12-03T20:26:20.382Z"
   },
   {
    "duration": 39,
    "start_time": "2024-12-03T20:26:20.988Z"
   },
   {
    "duration": 10,
    "start_time": "2024-12-03T20:26:21.895Z"
   },
   {
    "duration": 111,
    "start_time": "2024-12-03T20:26:22.154Z"
   },
   {
    "duration": 119,
    "start_time": "2024-12-03T20:26:23.243Z"
   },
   {
    "duration": 118,
    "start_time": "2024-12-03T20:26:24.440Z"
   },
   {
    "duration": 60,
    "start_time": "2024-12-03T20:26:26.938Z"
   },
   {
    "duration": 17,
    "start_time": "2024-12-03T20:26:27.623Z"
   },
   {
    "duration": 1187,
    "start_time": "2024-12-03T20:26:28.152Z"
   },
   {
    "duration": 26,
    "start_time": "2024-12-03T20:26:29.341Z"
   },
   {
    "duration": 22,
    "start_time": "2024-12-03T20:26:29.369Z"
   },
   {
    "duration": 1040,
    "start_time": "2024-12-03T20:26:30.337Z"
   },
   {
    "duration": 21,
    "start_time": "2024-12-03T20:26:42.231Z"
   },
   {
    "duration": 20,
    "start_time": "2024-12-03T20:26:43.265Z"
   },
   {
    "duration": 983,
    "start_time": "2024-12-03T20:26:44.683Z"
   },
   {
    "duration": 30,
    "start_time": "2024-12-03T20:27:01.923Z"
   },
   {
    "duration": 3,
    "start_time": "2024-12-03T20:27:17.106Z"
   },
   {
    "duration": 20,
    "start_time": "2024-12-03T20:27:17.873Z"
   },
   {
    "duration": 25,
    "start_time": "2024-12-03T20:27:31.168Z"
   },
   {
    "duration": 22,
    "start_time": "2024-12-03T20:29:25.886Z"
   },
   {
    "duration": 918,
    "start_time": "2024-12-03T20:29:35.638Z"
   },
   {
    "duration": 6,
    "start_time": "2024-12-03T20:29:50.888Z"
   },
   {
    "duration": 847,
    "start_time": "2024-12-03T20:29:52.169Z"
   },
   {
    "duration": 4,
    "start_time": "2024-12-03T20:29:59.013Z"
   },
   {
    "duration": 5,
    "start_time": "2024-12-03T20:30:01.562Z"
   },
   {
    "duration": 9,
    "start_time": "2024-12-03T20:30:21.648Z"
   },
   {
    "duration": 5,
    "start_time": "2024-12-03T20:30:22.766Z"
   },
   {
    "duration": 5529,
    "start_time": "2024-12-03T20:30:23.131Z"
   },
   {
    "duration": 2514,
    "start_time": "2024-12-03T20:34:50.580Z"
   },
   {
    "duration": 1709,
    "start_time": "2024-12-03T20:34:53.096Z"
   },
   {
    "duration": 3,
    "start_time": "2024-12-03T20:34:54.806Z"
   },
   {
    "duration": 1201,
    "start_time": "2024-12-03T20:34:54.810Z"
   },
   {
    "duration": 125,
    "start_time": "2024-12-03T20:34:56.013Z"
   },
   {
    "duration": 22,
    "start_time": "2024-12-03T20:34:56.139Z"
   },
   {
    "duration": 47,
    "start_time": "2024-12-03T20:34:56.162Z"
   },
   {
    "duration": 59,
    "start_time": "2024-12-03T20:34:56.210Z"
   },
   {
    "duration": 316,
    "start_time": "2024-12-03T20:34:56.271Z"
   },
   {
    "duration": 233,
    "start_time": "2024-12-03T20:34:56.590Z"
   },
   {
    "duration": 331,
    "start_time": "2024-12-03T20:34:56.825Z"
   },
   {
    "duration": 369,
    "start_time": "2024-12-03T20:34:57.157Z"
   },
   {
    "duration": 199,
    "start_time": "2024-12-03T20:34:57.528Z"
   },
   {
    "duration": 237,
    "start_time": "2024-12-03T20:34:57.728Z"
   },
   {
    "duration": 7,
    "start_time": "2024-12-03T20:34:57.967Z"
   },
   {
    "duration": 32,
    "start_time": "2024-12-03T20:34:57.975Z"
   },
   {
    "duration": 16,
    "start_time": "2024-12-03T20:34:58.009Z"
   },
   {
    "duration": 36,
    "start_time": "2024-12-03T20:34:58.026Z"
   },
   {
    "duration": 39,
    "start_time": "2024-12-03T20:34:58.064Z"
   },
   {
    "duration": 78,
    "start_time": "2024-12-03T20:34:58.105Z"
   },
   {
    "duration": 1223,
    "start_time": "2024-12-03T20:34:58.185Z"
   },
   {
    "duration": 11,
    "start_time": "2024-12-03T20:34:59.410Z"
   },
   {
    "duration": 65,
    "start_time": "2024-12-03T20:34:59.423Z"
   },
   {
    "duration": 140,
    "start_time": "2024-12-03T20:34:59.490Z"
   },
   {
    "duration": 126,
    "start_time": "2024-12-03T20:34:59.632Z"
   },
   {
    "duration": 144,
    "start_time": "2024-12-03T20:34:59.760Z"
   },
   {
    "duration": 48,
    "start_time": "2024-12-03T20:34:59.906Z"
   },
   {
    "duration": 11,
    "start_time": "2024-12-03T20:34:59.959Z"
   },
   {
    "duration": 129,
    "start_time": "2024-12-03T20:34:59.971Z"
   },
   {
    "duration": 142,
    "start_time": "2024-12-03T20:35:00.102Z"
   },
   {
    "duration": 122,
    "start_time": "2024-12-03T20:35:00.246Z"
   },
   {
    "duration": 51,
    "start_time": "2024-12-03T20:35:00.369Z"
   },
   {
    "duration": 31,
    "start_time": "2024-12-03T20:35:00.422Z"
   },
   {
    "duration": 1092,
    "start_time": "2024-12-03T20:35:00.455Z"
   },
   {
    "duration": 24,
    "start_time": "2024-12-03T20:35:01.548Z"
   },
   {
    "duration": 23,
    "start_time": "2024-12-03T20:35:01.573Z"
   },
   {
    "duration": 1072,
    "start_time": "2024-12-03T20:35:01.598Z"
   },
   {
    "duration": 21,
    "start_time": "2024-12-03T20:35:02.672Z"
   },
   {
    "duration": 53,
    "start_time": "2024-12-03T20:35:02.695Z"
   },
   {
    "duration": 1032,
    "start_time": "2024-12-03T20:35:02.750Z"
   },
   {
    "duration": 30,
    "start_time": "2024-12-03T20:35:03.784Z"
   },
   {
    "duration": 3,
    "start_time": "2024-12-03T20:35:03.816Z"
   },
   {
    "duration": 42,
    "start_time": "2024-12-03T20:35:03.821Z"
   },
   {
    "duration": 30,
    "start_time": "2024-12-03T20:35:03.865Z"
   },
   {
    "duration": 27,
    "start_time": "2024-12-03T20:35:03.898Z"
   },
   {
    "duration": 1118,
    "start_time": "2024-12-03T20:35:03.927Z"
   },
   {
    "duration": 6,
    "start_time": "2024-12-03T20:35:05.047Z"
   },
   {
    "duration": 916,
    "start_time": "2024-12-03T20:35:05.055Z"
   },
   {
    "duration": 4,
    "start_time": "2024-12-03T20:35:05.973Z"
   },
   {
    "duration": 44,
    "start_time": "2024-12-03T20:35:05.978Z"
   },
   {
    "duration": 37,
    "start_time": "2024-12-03T20:35:06.023Z"
   },
   {
    "duration": 38,
    "start_time": "2024-12-03T20:35:06.062Z"
   },
   {
    "duration": 5503,
    "start_time": "2024-12-03T20:35:06.101Z"
   },
   {
    "duration": 4,
    "start_time": "2024-12-03T20:35:11.606Z"
   },
   {
    "duration": 19,
    "start_time": "2024-12-03T20:35:11.611Z"
   },
   {
    "duration": 85,
    "start_time": "2024-12-03T20:35:11.632Z"
   },
   {
    "duration": 1200032,
    "start_time": "2024-12-03T20:35:11.719Z"
   },
   {
    "duration": 122699,
    "start_time": "2024-12-03T20:55:11.753Z"
   },
   {
    "duration": 382,
    "start_time": "2024-12-03T20:57:14.454Z"
   },
   {
    "duration": 1141,
    "start_time": "2024-12-03T20:57:14.837Z"
   },
   {
    "duration": 248090,
    "start_time": "2024-12-03T20:57:15.979Z"
   },
   {
    "duration": 4,
    "start_time": "2024-12-03T21:01:24.071Z"
   },
   {
    "duration": 7487,
    "start_time": "2024-12-03T21:01:24.077Z"
   },
   {
    "duration": 1097,
    "start_time": "2024-12-03T21:01:31.566Z"
   },
   {
    "duration": 3208,
    "start_time": "2024-12-03T21:01:32.665Z"
   },
   {
    "duration": 212120,
    "start_time": "2024-12-03T21:01:35.874Z"
   },
   {
    "duration": 3,
    "start_time": "2024-12-03T21:05:07.996Z"
   },
   {
    "duration": 6047,
    "start_time": "2024-12-03T21:05:08.001Z"
   },
   {
    "duration": 451,
    "start_time": "2024-12-03T21:05:14.051Z"
   },
   {
    "duration": 1318,
    "start_time": "2024-12-03T21:05:14.504Z"
   },
   {
    "duration": 16,
    "start_time": "2024-12-03T21:05:15.823Z"
   },
   {
    "duration": 7,
    "start_time": "2024-12-03T21:05:15.852Z"
   },
   {
    "duration": 708,
    "start_time": "2024-12-03T21:05:15.861Z"
   },
   {
    "duration": 589,
    "start_time": "2024-12-03T21:05:16.571Z"
   },
   {
    "duration": 589,
    "start_time": "2024-12-03T21:05:17.162Z"
   },
   {
    "duration": 172,
    "start_time": "2024-12-03T21:05:17.752Z"
   },
   {
    "duration": 161,
    "start_time": "2024-12-03T21:12:48.348Z"
   },
   {
    "duration": 3,
    "start_time": "2024-12-03T21:17:32.002Z"
   },
   {
    "duration": 3,
    "start_time": "2024-12-03T21:17:36.150Z"
   },
   {
    "duration": 3,
    "start_time": "2024-12-03T21:17:43.305Z"
   },
   {
    "duration": 3,
    "start_time": "2024-12-03T21:18:11.616Z"
   },
   {
    "duration": 2,
    "start_time": "2024-12-03T21:18:16.668Z"
   },
   {
    "duration": 2,
    "start_time": "2024-12-03T21:18:21.071Z"
   },
   {
    "duration": 3,
    "start_time": "2024-12-03T21:18:25.976Z"
   },
   {
    "duration": 11,
    "start_time": "2024-12-03T21:19:45.449Z"
   },
   {
    "duration": 7,
    "start_time": "2024-12-03T21:41:06.338Z"
   },
   {
    "duration": 376,
    "start_time": "2024-12-03T21:41:08.397Z"
   },
   {
    "duration": 7,
    "start_time": "2024-12-03T21:41:34.239Z"
   },
   {
    "duration": 749,
    "start_time": "2024-12-03T21:41:35.832Z"
   },
   {
    "duration": 837,
    "start_time": "2024-12-03T21:41:44.672Z"
   },
   {
    "duration": 740,
    "start_time": "2024-12-03T21:41:45.669Z"
   },
   {
    "duration": 2563,
    "start_time": "2024-12-03T21:56:52.432Z"
   },
   {
    "duration": 1544,
    "start_time": "2024-12-03T21:56:54.998Z"
   },
   {
    "duration": 4,
    "start_time": "2024-12-03T21:56:56.543Z"
   },
   {
    "duration": 1207,
    "start_time": "2024-12-03T21:56:56.549Z"
   },
   {
    "duration": 114,
    "start_time": "2024-12-03T21:56:57.758Z"
   },
   {
    "duration": 18,
    "start_time": "2024-12-03T21:56:57.873Z"
   },
   {
    "duration": 59,
    "start_time": "2024-12-03T21:56:57.893Z"
   },
   {
    "duration": 45,
    "start_time": "2024-12-03T21:56:57.954Z"
   },
   {
    "duration": 324,
    "start_time": "2024-12-03T21:56:58.001Z"
   },
   {
    "duration": 229,
    "start_time": "2024-12-03T21:56:58.327Z"
   },
   {
    "duration": 343,
    "start_time": "2024-12-03T21:56:58.557Z"
   },
   {
    "duration": 365,
    "start_time": "2024-12-03T21:56:58.901Z"
   },
   {
    "duration": 180,
    "start_time": "2024-12-03T21:56:59.267Z"
   },
   {
    "duration": 193,
    "start_time": "2024-12-03T21:56:59.451Z"
   },
   {
    "duration": 8,
    "start_time": "2024-12-03T21:56:59.645Z"
   },
   {
    "duration": 9,
    "start_time": "2024-12-03T21:56:59.654Z"
   },
   {
    "duration": 9,
    "start_time": "2024-12-03T21:56:59.665Z"
   },
   {
    "duration": 17,
    "start_time": "2024-12-03T21:56:59.676Z"
   },
   {
    "duration": 29,
    "start_time": "2024-12-03T21:56:59.694Z"
   },
   {
    "duration": 35,
    "start_time": "2024-12-03T21:56:59.725Z"
   },
   {
    "duration": 1192,
    "start_time": "2024-12-03T21:56:59.762Z"
   },
   {
    "duration": 11,
    "start_time": "2024-12-03T21:57:00.956Z"
   },
   {
    "duration": 94,
    "start_time": "2024-12-03T21:57:00.969Z"
   },
   {
    "duration": 129,
    "start_time": "2024-12-03T21:57:01.065Z"
   },
   {
    "duration": 123,
    "start_time": "2024-12-03T21:57:01.196Z"
   },
   {
    "duration": 146,
    "start_time": "2024-12-03T21:57:01.321Z"
   },
   {
    "duration": 42,
    "start_time": "2024-12-03T21:57:01.469Z"
   },
   {
    "duration": 11,
    "start_time": "2024-12-03T21:57:01.516Z"
   },
   {
    "duration": 139,
    "start_time": "2024-12-03T21:57:01.528Z"
   },
   {
    "duration": 131,
    "start_time": "2024-12-03T21:57:01.668Z"
   },
   {
    "duration": 120,
    "start_time": "2024-12-03T21:57:01.801Z"
   },
   {
    "duration": 59,
    "start_time": "2024-12-03T21:57:01.923Z"
   },
   {
    "duration": 17,
    "start_time": "2024-12-03T21:57:01.984Z"
   },
   {
    "duration": 1051,
    "start_time": "2024-12-03T21:57:02.003Z"
   },
   {
    "duration": 23,
    "start_time": "2024-12-03T21:57:03.056Z"
   },
   {
    "duration": 22,
    "start_time": "2024-12-03T21:57:03.081Z"
   },
   {
    "duration": 1085,
    "start_time": "2024-12-03T21:57:03.105Z"
   },
   {
    "duration": 21,
    "start_time": "2024-12-03T21:57:04.192Z"
   },
   {
    "duration": 20,
    "start_time": "2024-12-03T21:57:04.214Z"
   },
   {
    "duration": 1005,
    "start_time": "2024-12-03T21:57:04.236Z"
   },
   {
    "duration": 14,
    "start_time": "2024-12-03T21:57:05.243Z"
   },
   {
    "duration": 20,
    "start_time": "2024-12-03T21:57:05.259Z"
   },
   {
    "duration": 21,
    "start_time": "2024-12-03T21:57:05.281Z"
   },
   {
    "duration": 1077,
    "start_time": "2024-12-03T21:57:05.303Z"
   },
   {
    "duration": 5,
    "start_time": "2024-12-03T21:57:06.382Z"
   },
   {
    "duration": 864,
    "start_time": "2024-12-03T21:57:06.388Z"
   },
   {
    "duration": 4,
    "start_time": "2024-12-03T21:57:07.254Z"
   },
   {
    "duration": 5,
    "start_time": "2024-12-03T21:57:07.259Z"
   },
   {
    "duration": 10,
    "start_time": "2024-12-03T21:57:07.265Z"
   },
   {
    "duration": 77,
    "start_time": "2024-12-03T21:57:07.276Z"
   },
   {
    "duration": 5313,
    "start_time": "2024-12-03T21:57:07.355Z"
   },
   {
    "duration": 3,
    "start_time": "2024-12-03T21:57:12.670Z"
   },
   {
    "duration": 7,
    "start_time": "2024-12-03T21:57:12.675Z"
   },
   {
    "duration": 77,
    "start_time": "2024-12-03T21:57:12.683Z"
   },
   {
    "duration": 1147449,
    "start_time": "2024-12-03T21:57:12.762Z"
   },
   {
    "duration": 116823,
    "start_time": "2024-12-03T22:16:20.213Z"
   },
   {
    "duration": 383,
    "start_time": "2024-12-03T22:18:17.037Z"
   },
   {
    "duration": 1115,
    "start_time": "2024-12-03T22:18:17.422Z"
   },
   {
    "duration": 3,
    "start_time": "2024-12-03T22:18:18.538Z"
   },
   {
    "duration": 256013,
    "start_time": "2024-12-03T22:18:18.551Z"
   },
   {
    "duration": 4,
    "start_time": "2024-12-03T22:22:34.565Z"
   },
   {
    "duration": 8195,
    "start_time": "2024-12-03T22:22:34.570Z"
   },
   {
    "duration": 1085,
    "start_time": "2024-12-03T22:22:42.767Z"
   },
   {
    "duration": 3101,
    "start_time": "2024-12-03T22:22:43.854Z"
   },
   {
    "duration": 3,
    "start_time": "2024-12-03T22:22:46.956Z"
   },
   {
    "duration": 199048,
    "start_time": "2024-12-03T22:22:46.960Z"
   },
   {
    "duration": 4,
    "start_time": "2024-12-03T22:26:06.009Z"
   },
   {
    "duration": 5645,
    "start_time": "2024-12-03T22:26:06.014Z"
   },
   {
    "duration": 441,
    "start_time": "2024-12-03T22:26:11.661Z"
   },
   {
    "duration": 1283,
    "start_time": "2024-12-03T22:26:12.104Z"
   },
   {
    "duration": 3,
    "start_time": "2024-12-03T22:26:13.388Z"
   },
   {
    "duration": 43,
    "start_time": "2024-12-03T22:26:13.392Z"
   },
   {
    "duration": 25,
    "start_time": "2024-12-03T22:26:13.436Z"
   },
   {
    "duration": 685,
    "start_time": "2024-12-03T22:26:13.462Z"
   },
   {
    "duration": 742,
    "start_time": "2024-12-03T22:26:14.148Z"
   },
   {
    "duration": 702,
    "start_time": "2024-12-03T22:26:14.891Z"
   },
   {
    "duration": 177,
    "start_time": "2024-12-03T22:26:15.594Z"
   },
   {
    "duration": 3,
    "start_time": "2024-12-03T23:26:07.045Z"
   },
   {
    "duration": 2,
    "start_time": "2024-12-03T23:26:11.373Z"
   },
   {
    "duration": 2,
    "start_time": "2024-12-03T23:26:17.233Z"
   },
   {
    "duration": 12,
    "start_time": "2024-12-03T23:26:20.494Z"
   },
   {
    "duration": 123,
    "start_time": "2024-12-03T23:54:46.462Z"
   },
   {
    "duration": 9,
    "start_time": "2024-12-03T23:55:06.275Z"
   },
   {
    "duration": 2528,
    "start_time": "2024-12-03T23:57:06.933Z"
   },
   {
    "duration": 5,
    "start_time": "2024-12-03T23:57:09.463Z"
   },
   {
    "duration": 32,
    "start_time": "2024-12-03T23:57:09.470Z"
   },
   {
    "duration": 1108,
    "start_time": "2024-12-03T23:57:09.504Z"
   },
   {
    "duration": 112,
    "start_time": "2024-12-03T23:57:10.613Z"
   },
   {
    "duration": 15,
    "start_time": "2024-12-03T23:57:10.727Z"
   },
   {
    "duration": 47,
    "start_time": "2024-12-03T23:57:10.743Z"
   },
   {
    "duration": 40,
    "start_time": "2024-12-03T23:57:10.792Z"
   },
   {
    "duration": 310,
    "start_time": "2024-12-03T23:57:10.834Z"
   },
   {
    "duration": 199,
    "start_time": "2024-12-03T23:57:11.153Z"
   },
   {
    "duration": 295,
    "start_time": "2024-12-03T23:57:11.354Z"
   },
   {
    "duration": 312,
    "start_time": "2024-12-03T23:57:11.652Z"
   },
   {
    "duration": 173,
    "start_time": "2024-12-03T23:57:11.966Z"
   },
   {
    "duration": 182,
    "start_time": "2024-12-03T23:57:12.141Z"
   },
   {
    "duration": 7,
    "start_time": "2024-12-03T23:57:12.324Z"
   },
   {
    "duration": 19,
    "start_time": "2024-12-03T23:57:12.333Z"
   },
   {
    "duration": 5,
    "start_time": "2024-12-03T23:57:12.354Z"
   },
   {
    "duration": 22,
    "start_time": "2024-12-03T23:57:12.361Z"
   },
   {
    "duration": 31,
    "start_time": "2024-12-03T23:57:12.385Z"
   },
   {
    "duration": 20,
    "start_time": "2024-12-03T23:57:12.418Z"
   },
   {
    "duration": 1156,
    "start_time": "2024-12-03T23:57:12.451Z"
   },
   {
    "duration": 10,
    "start_time": "2024-12-03T23:57:13.608Z"
   },
   {
    "duration": 55,
    "start_time": "2024-12-03T23:57:13.620Z"
   },
   {
    "duration": 127,
    "start_time": "2024-12-03T23:57:13.677Z"
   },
   {
    "duration": 154,
    "start_time": "2024-12-03T23:57:13.807Z"
   },
   {
    "duration": 155,
    "start_time": "2024-12-03T23:57:13.964Z"
   },
   {
    "duration": 48,
    "start_time": "2024-12-03T23:57:14.121Z"
   },
   {
    "duration": 11,
    "start_time": "2024-12-03T23:57:14.173Z"
   },
   {
    "duration": 140,
    "start_time": "2024-12-03T23:57:14.185Z"
   },
   {
    "duration": 140,
    "start_time": "2024-12-03T23:57:14.326Z"
   },
   {
    "duration": 121,
    "start_time": "2024-12-03T23:57:14.468Z"
   },
   {
    "duration": 51,
    "start_time": "2024-12-03T23:57:14.590Z"
   },
   {
    "duration": 17,
    "start_time": "2024-12-03T23:57:14.651Z"
   },
   {
    "duration": 1045,
    "start_time": "2024-12-03T23:57:14.820Z"
   },
   {
    "duration": 22,
    "start_time": "2024-12-03T23:57:15.867Z"
   },
   {
    "duration": 22,
    "start_time": "2024-12-03T23:57:16.074Z"
   },
   {
    "duration": 1147,
    "start_time": "2024-12-03T23:57:16.266Z"
   },
   {
    "duration": 19,
    "start_time": "2024-12-03T23:57:17.415Z"
   },
   {
    "duration": 31,
    "start_time": "2024-12-03T23:57:17.436Z"
   },
   {
    "duration": 949,
    "start_time": "2024-12-03T23:57:17.513Z"
   },
   {
    "duration": 13,
    "start_time": "2024-12-03T23:57:18.463Z"
   },
   {
    "duration": 20,
    "start_time": "2024-12-03T23:57:18.527Z"
   },
   {
    "duration": 20,
    "start_time": "2024-12-03T23:57:18.976Z"
   },
   {
    "duration": 895,
    "start_time": "2024-12-03T23:57:19.463Z"
   },
   {
    "duration": 5,
    "start_time": "2024-12-03T23:57:20.360Z"
   },
   {
    "duration": 849,
    "start_time": "2024-12-03T23:57:20.369Z"
   },
   {
    "duration": 3,
    "start_time": "2024-12-03T23:57:21.220Z"
   },
   {
    "duration": 4,
    "start_time": "2024-12-03T23:57:21.425Z"
   },
   {
    "duration": 8,
    "start_time": "2024-12-03T23:57:23.354Z"
   },
   {
    "duration": 4,
    "start_time": "2024-12-03T23:57:24.248Z"
   },
   {
    "duration": 5314,
    "start_time": "2024-12-03T23:57:24.711Z"
   },
   {
    "duration": 4,
    "start_time": "2024-12-03T23:57:43.491Z"
   },
   {
    "duration": 3,
    "start_time": "2024-12-03T23:57:46.219Z"
   },
   {
    "duration": 61,
    "start_time": "2024-12-03T23:57:47.548Z"
   },
   {
    "duration": 15,
    "start_time": "2024-12-03T23:58:00.346Z"
   },
   {
    "duration": 62,
    "start_time": "2024-12-03T23:58:13.631Z"
   },
   {
    "duration": 239341,
    "start_time": "2024-12-03T23:58:21.119Z"
   },
   {
    "duration": 4,
    "start_time": "2024-12-04T00:02:20.461Z"
   },
   {
    "duration": 6694,
    "start_time": "2024-12-04T00:02:20.466Z"
   },
   {
    "duration": 1000,
    "start_time": "2024-12-04T00:02:27.162Z"
   },
   {
    "duration": 1329,
    "start_time": "2024-12-04T00:02:28.164Z"
   },
   {
    "duration": 689,
    "start_time": "2024-12-04T00:02:29.494Z"
   },
   {
    "duration": 2515,
    "start_time": "2024-12-04T00:07:16.627Z"
   },
   {
    "duration": 1568,
    "start_time": "2024-12-04T00:07:19.144Z"
   },
   {
    "duration": 3,
    "start_time": "2024-12-04T00:07:20.714Z"
   },
   {
    "duration": 1084,
    "start_time": "2024-12-04T00:07:20.719Z"
   },
   {
    "duration": 113,
    "start_time": "2024-12-04T00:07:21.805Z"
   },
   {
    "duration": 17,
    "start_time": "2024-12-04T00:07:21.919Z"
   },
   {
    "duration": 56,
    "start_time": "2024-12-04T00:07:21.938Z"
   },
   {
    "duration": 56,
    "start_time": "2024-12-04T00:07:21.996Z"
   },
   {
    "duration": 300,
    "start_time": "2024-12-04T00:07:22.054Z"
   },
   {
    "duration": 223,
    "start_time": "2024-12-04T00:07:22.356Z"
   },
   {
    "duration": 312,
    "start_time": "2024-12-04T00:07:22.581Z"
   },
   {
    "duration": 345,
    "start_time": "2024-12-04T00:07:22.895Z"
   },
   {
    "duration": 187,
    "start_time": "2024-12-04T00:07:23.242Z"
   },
   {
    "duration": 183,
    "start_time": "2024-12-04T00:07:23.431Z"
   },
   {
    "duration": 7,
    "start_time": "2024-12-04T00:07:23.615Z"
   },
   {
    "duration": 26,
    "start_time": "2024-12-04T00:07:23.624Z"
   },
   {
    "duration": 25,
    "start_time": "2024-12-04T00:07:23.652Z"
   },
   {
    "duration": 77,
    "start_time": "2024-12-04T00:07:23.679Z"
   },
   {
    "duration": 69,
    "start_time": "2024-12-04T00:07:23.757Z"
   },
   {
    "duration": 47,
    "start_time": "2024-12-04T00:07:23.828Z"
   },
   {
    "duration": 1188,
    "start_time": "2024-12-04T00:07:23.877Z"
   },
   {
    "duration": 9,
    "start_time": "2024-12-04T00:07:25.066Z"
   },
   {
    "duration": 69,
    "start_time": "2024-12-04T00:07:25.078Z"
   },
   {
    "duration": 118,
    "start_time": "2024-12-04T00:07:25.149Z"
   },
   {
    "duration": 110,
    "start_time": "2024-12-04T00:07:25.269Z"
   },
   {
    "duration": 135,
    "start_time": "2024-12-04T00:07:25.381Z"
   },
   {
    "duration": 48,
    "start_time": "2024-12-04T00:07:25.517Z"
   },
   {
    "duration": 11,
    "start_time": "2024-12-04T00:07:25.569Z"
   },
   {
    "duration": 145,
    "start_time": "2024-12-04T00:07:25.581Z"
   },
   {
    "duration": 130,
    "start_time": "2024-12-04T00:07:25.728Z"
   },
   {
    "duration": 120,
    "start_time": "2024-12-04T00:07:25.860Z"
   },
   {
    "duration": 49,
    "start_time": "2024-12-04T00:07:25.981Z"
   },
   {
    "duration": 32,
    "start_time": "2024-12-04T00:07:26.032Z"
   },
   {
    "duration": 1048,
    "start_time": "2024-12-04T00:07:26.065Z"
   },
   {
    "duration": 22,
    "start_time": "2024-12-04T00:07:27.115Z"
   },
   {
    "duration": 34,
    "start_time": "2024-12-04T00:07:27.139Z"
   },
   {
    "duration": 1062,
    "start_time": "2024-12-04T00:07:27.175Z"
   },
   {
    "duration": 29,
    "start_time": "2024-12-04T00:07:28.239Z"
   },
   {
    "duration": 19,
    "start_time": "2024-12-04T00:07:28.270Z"
   },
   {
    "duration": 974,
    "start_time": "2024-12-04T00:07:28.291Z"
   },
   {
    "duration": 13,
    "start_time": "2024-12-04T00:07:29.267Z"
   },
   {
    "duration": 20,
    "start_time": "2024-12-04T00:07:29.282Z"
   },
   {
    "duration": 20,
    "start_time": "2024-12-04T00:07:29.303Z"
   },
   {
    "duration": 1033,
    "start_time": "2024-12-04T00:07:29.325Z"
   },
   {
    "duration": 5,
    "start_time": "2024-12-04T00:07:30.360Z"
   },
   {
    "duration": 871,
    "start_time": "2024-12-04T00:07:30.366Z"
   },
   {
    "duration": 4,
    "start_time": "2024-12-04T00:07:31.239Z"
   },
   {
    "duration": 5,
    "start_time": "2024-12-04T00:07:31.252Z"
   },
   {
    "duration": 15,
    "start_time": "2024-12-04T00:07:31.258Z"
   },
   {
    "duration": 11,
    "start_time": "2024-12-04T00:07:31.274Z"
   },
   {
    "duration": 5347,
    "start_time": "2024-12-04T00:07:31.286Z"
   },
   {
    "duration": 4,
    "start_time": "2024-12-04T00:07:36.635Z"
   },
   {
    "duration": 22,
    "start_time": "2024-12-04T00:07:36.640Z"
   },
   {
    "duration": 73,
    "start_time": "2024-12-04T00:07:36.664Z"
   },
   {
    "duration": 2576,
    "start_time": "2024-12-04T00:11:16.914Z"
   },
   {
    "duration": 1560,
    "start_time": "2024-12-04T00:11:19.492Z"
   },
   {
    "duration": 3,
    "start_time": "2024-12-04T00:11:21.054Z"
   },
   {
    "duration": 1138,
    "start_time": "2024-12-04T00:11:21.060Z"
   },
   {
    "duration": 117,
    "start_time": "2024-12-04T00:11:22.200Z"
   },
   {
    "duration": 18,
    "start_time": "2024-12-04T00:11:22.319Z"
   },
   {
    "duration": 42,
    "start_time": "2024-12-04T00:11:22.351Z"
   },
   {
    "duration": 59,
    "start_time": "2024-12-04T00:11:22.395Z"
   },
   {
    "duration": 308,
    "start_time": "2024-12-04T00:11:22.456Z"
   },
   {
    "duration": 227,
    "start_time": "2024-12-04T00:11:22.768Z"
   },
   {
    "duration": 311,
    "start_time": "2024-12-04T00:11:22.997Z"
   },
   {
    "duration": 352,
    "start_time": "2024-12-04T00:11:23.310Z"
   },
   {
    "duration": 183,
    "start_time": "2024-12-04T00:11:23.664Z"
   },
   {
    "duration": 218,
    "start_time": "2024-12-04T00:11:23.852Z"
   },
   {
    "duration": 8,
    "start_time": "2024-12-04T00:11:24.072Z"
   },
   {
    "duration": 7,
    "start_time": "2024-12-04T00:11:24.081Z"
   },
   {
    "duration": 7,
    "start_time": "2024-12-04T00:11:24.089Z"
   },
   {
    "duration": 10,
    "start_time": "2024-12-04T00:11:24.097Z"
   },
   {
    "duration": 53,
    "start_time": "2024-12-04T00:11:24.108Z"
   },
   {
    "duration": 16,
    "start_time": "2024-12-04T00:11:24.163Z"
   },
   {
    "duration": 1215,
    "start_time": "2024-12-04T00:11:24.180Z"
   },
   {
    "duration": 8,
    "start_time": "2024-12-04T00:11:25.397Z"
   },
   {
    "duration": 63,
    "start_time": "2024-12-04T00:11:25.407Z"
   },
   {
    "duration": 127,
    "start_time": "2024-12-04T00:11:25.472Z"
   },
   {
    "duration": 116,
    "start_time": "2024-12-04T00:11:25.601Z"
   },
   {
    "duration": 145,
    "start_time": "2024-12-04T00:11:25.719Z"
   },
   {
    "duration": 39,
    "start_time": "2024-12-04T00:11:25.866Z"
   },
   {
    "duration": 10,
    "start_time": "2024-12-04T00:11:25.909Z"
   },
   {
    "duration": 137,
    "start_time": "2024-12-04T00:11:25.921Z"
   },
   {
    "duration": 127,
    "start_time": "2024-12-04T00:11:26.059Z"
   },
   {
    "duration": 118,
    "start_time": "2024-12-04T00:11:26.187Z"
   },
   {
    "duration": 52,
    "start_time": "2024-12-04T00:11:26.306Z"
   },
   {
    "duration": 17,
    "start_time": "2024-12-04T00:11:26.359Z"
   },
   {
    "duration": 1074,
    "start_time": "2024-12-04T00:11:26.378Z"
   },
   {
    "duration": 23,
    "start_time": "2024-12-04T00:11:27.453Z"
   },
   {
    "duration": 22,
    "start_time": "2024-12-04T00:11:27.477Z"
   },
   {
    "duration": 1066,
    "start_time": "2024-12-04T00:11:27.501Z"
   },
   {
    "duration": 20,
    "start_time": "2024-12-04T00:11:28.569Z"
   },
   {
    "duration": 19,
    "start_time": "2024-12-04T00:11:28.591Z"
   },
   {
    "duration": 968,
    "start_time": "2024-12-04T00:11:28.611Z"
   },
   {
    "duration": 14,
    "start_time": "2024-12-04T00:11:29.581Z"
   },
   {
    "duration": 64,
    "start_time": "2024-12-04T00:11:29.596Z"
   },
   {
    "duration": 27,
    "start_time": "2024-12-04T00:11:29.662Z"
   },
   {
    "duration": 1087,
    "start_time": "2024-12-04T00:11:29.691Z"
   },
   {
    "duration": 5,
    "start_time": "2024-12-04T00:11:30.780Z"
   },
   {
    "duration": 864,
    "start_time": "2024-12-04T00:11:30.786Z"
   },
   {
    "duration": 4,
    "start_time": "2024-12-04T00:11:31.652Z"
   },
   {
    "duration": 18,
    "start_time": "2024-12-04T00:11:31.657Z"
   },
   {
    "duration": 7,
    "start_time": "2024-12-04T00:11:31.676Z"
   },
   {
    "duration": 11,
    "start_time": "2024-12-04T00:11:31.684Z"
   },
   {
    "duration": 5479,
    "start_time": "2024-12-04T00:11:31.696Z"
   },
   {
    "duration": 4,
    "start_time": "2024-12-04T00:11:37.176Z"
   },
   {
    "duration": 35,
    "start_time": "2024-12-04T00:11:37.182Z"
   },
   {
    "duration": 68,
    "start_time": "2024-12-04T00:11:37.218Z"
   },
   {
    "duration": 1141306,
    "start_time": "2024-12-04T00:11:37.288Z"
   },
   {
    "duration": 118248,
    "start_time": "2024-12-04T00:30:38.596Z"
   },
   {
    "duration": 394,
    "start_time": "2024-12-04T00:32:36.846Z"
   },
   {
    "duration": 1154,
    "start_time": "2024-12-04T00:32:37.241Z"
   },
   {
    "duration": 3,
    "start_time": "2024-12-04T00:32:38.397Z"
   },
   {
    "duration": 293764,
    "start_time": "2024-12-04T00:32:38.401Z"
   },
   {
    "duration": 4,
    "start_time": "2024-12-04T00:37:32.167Z"
   },
   {
    "duration": 6591,
    "start_time": "2024-12-04T00:37:32.173Z"
   },
   {
    "duration": 1001,
    "start_time": "2024-12-04T00:37:38.765Z"
   },
   {
    "duration": 3087,
    "start_time": "2024-12-04T00:37:39.768Z"
   },
   {
    "duration": 2,
    "start_time": "2024-12-04T00:37:42.857Z"
   },
   {
    "duration": 197580,
    "start_time": "2024-12-04T00:37:42.861Z"
   },
   {
    "duration": 9,
    "start_time": "2024-12-04T00:41:00.443Z"
   },
   {
    "duration": 5722,
    "start_time": "2024-12-04T00:41:00.454Z"
   },
   {
    "duration": 434,
    "start_time": "2024-12-04T00:41:06.178Z"
   },
   {
    "duration": 1261,
    "start_time": "2024-12-04T00:41:06.614Z"
   },
   {
    "duration": 4,
    "start_time": "2024-12-04T00:41:07.877Z"
   },
   {
    "duration": 23,
    "start_time": "2024-12-04T00:41:07.882Z"
   },
   {
    "duration": 16,
    "start_time": "2024-12-04T00:41:07.907Z"
   },
   {
    "duration": 630,
    "start_time": "2024-12-04T00:41:07.925Z"
   },
   {
    "duration": 714,
    "start_time": "2024-12-04T00:41:08.557Z"
   },
   {
    "duration": 695,
    "start_time": "2024-12-04T00:41:09.273Z"
   },
   {
    "duration": 188,
    "start_time": "2024-12-04T00:41:09.970Z"
   },
   {
    "duration": 2,
    "start_time": "2024-12-04T00:41:23.459Z"
   },
   {
    "duration": 3,
    "start_time": "2024-12-04T00:41:33.277Z"
   },
   {
    "duration": 3,
    "start_time": "2024-12-04T00:43:10.816Z"
   },
   {
    "duration": 12,
    "start_time": "2024-12-04T00:43:56.675Z"
   },
   {
    "duration": 80,
    "start_time": "2024-12-04T13:27:06.374Z"
   },
   {
    "duration": 4540,
    "start_time": "2024-12-04T14:17:33.185Z"
   },
   {
    "duration": 1749,
    "start_time": "2024-12-04T14:17:37.727Z"
   },
   {
    "duration": 3,
    "start_time": "2024-12-04T14:17:39.477Z"
   },
   {
    "duration": 1507,
    "start_time": "2024-12-04T14:17:39.482Z"
   },
   {
    "duration": 113,
    "start_time": "2024-12-04T14:17:40.991Z"
   },
   {
    "duration": 18,
    "start_time": "2024-12-04T14:17:41.105Z"
   },
   {
    "duration": 57,
    "start_time": "2024-12-04T14:17:41.125Z"
   },
   {
    "duration": 43,
    "start_time": "2024-12-04T14:17:41.184Z"
   },
   {
    "duration": 327,
    "start_time": "2024-12-04T14:17:41.229Z"
   },
   {
    "duration": 238,
    "start_time": "2024-12-04T14:17:41.558Z"
   },
   {
    "duration": 325,
    "start_time": "2024-12-04T14:17:41.798Z"
   },
   {
    "duration": 362,
    "start_time": "2024-12-04T14:17:42.125Z"
   },
   {
    "duration": 180,
    "start_time": "2024-12-04T14:17:42.489Z"
   },
   {
    "duration": 186,
    "start_time": "2024-12-04T14:17:42.671Z"
   },
   {
    "duration": 7,
    "start_time": "2024-12-04T14:17:42.859Z"
   },
   {
    "duration": 8,
    "start_time": "2024-12-04T14:17:42.868Z"
   },
   {
    "duration": 6,
    "start_time": "2024-12-04T14:17:44.957Z"
   },
   {
    "duration": 9,
    "start_time": "2024-12-04T14:17:47.374Z"
   },
   {
    "duration": 28,
    "start_time": "2024-12-04T14:17:48.958Z"
   },
   {
    "duration": 17,
    "start_time": "2024-12-04T14:17:50.744Z"
   },
   {
    "duration": 1281,
    "start_time": "2024-12-04T14:17:52.885Z"
   },
   {
    "duration": 9,
    "start_time": "2024-12-04T14:17:54.424Z"
   },
   {
    "duration": 48,
    "start_time": "2024-12-04T14:17:55.267Z"
   },
   {
    "duration": 10,
    "start_time": "2024-12-04T14:17:59.852Z"
   },
   {
    "duration": 12,
    "start_time": "2024-12-04T14:18:26.035Z"
   },
   {
    "duration": 12,
    "start_time": "2024-12-04T14:22:12.513Z"
   },
   {
    "duration": 22,
    "start_time": "2024-12-04T14:36:34.565Z"
   },
   {
    "duration": 12,
    "start_time": "2024-12-04T14:51:34.720Z"
   },
   {
    "duration": 10,
    "start_time": "2024-12-04T14:51:39.075Z"
   },
   {
    "duration": 10,
    "start_time": "2024-12-04T14:51:47.560Z"
   },
   {
    "duration": 20,
    "start_time": "2024-12-04T14:52:49.887Z"
   },
   {
    "duration": 2721,
    "start_time": "2024-12-04T14:58:14.232Z"
   },
   {
    "duration": 4,
    "start_time": "2024-12-04T14:58:16.956Z"
   },
   {
    "duration": 8,
    "start_time": "2024-12-04T14:58:16.962Z"
   },
   {
    "duration": 1107,
    "start_time": "2024-12-04T14:58:16.973Z"
   },
   {
    "duration": 114,
    "start_time": "2024-12-04T14:58:18.082Z"
   },
   {
    "duration": 15,
    "start_time": "2024-12-04T14:58:18.197Z"
   },
   {
    "duration": 42,
    "start_time": "2024-12-04T14:58:18.214Z"
   },
   {
    "duration": 43,
    "start_time": "2024-12-04T14:58:18.257Z"
   },
   {
    "duration": 314,
    "start_time": "2024-12-04T14:58:18.302Z"
   },
   {
    "duration": 211,
    "start_time": "2024-12-04T14:58:18.618Z"
   },
   {
    "duration": 355,
    "start_time": "2024-12-04T14:58:19.568Z"
   },
   {
    "duration": 322,
    "start_time": "2024-12-04T14:58:21.187Z"
   },
   {
    "duration": 164,
    "start_time": "2024-12-04T14:58:22.386Z"
   },
   {
    "duration": 196,
    "start_time": "2024-12-04T14:58:23.376Z"
   },
   {
    "duration": 7,
    "start_time": "2024-12-04T14:58:25.508Z"
   },
   {
    "duration": 7,
    "start_time": "2024-12-04T14:58:25.925Z"
   },
   {
    "duration": 6,
    "start_time": "2024-12-04T14:58:26.213Z"
   },
   {
    "duration": 8,
    "start_time": "2024-12-04T14:58:27.382Z"
   },
   {
    "duration": 29,
    "start_time": "2024-12-04T14:58:28.299Z"
   },
   {
    "duration": 16,
    "start_time": "2024-12-04T14:58:30.122Z"
   },
   {
    "duration": 1116,
    "start_time": "2024-12-04T14:58:41.787Z"
   },
   {
    "duration": 9,
    "start_time": "2024-12-04T14:58:44.598Z"
   },
   {
    "duration": 39,
    "start_time": "2024-12-04T14:58:45.877Z"
   },
   {
    "duration": 11,
    "start_time": "2024-12-04T14:58:48.594Z"
   },
   {
    "duration": 10,
    "start_time": "2024-12-04T14:58:51.556Z"
   },
   {
    "duration": 20,
    "start_time": "2024-12-04T14:58:54.376Z"
   },
   {
    "duration": 116,
    "start_time": "2024-12-04T14:59:12.251Z"
   },
   {
    "duration": 116,
    "start_time": "2024-12-04T15:01:29.894Z"
   },
   {
    "duration": 125,
    "start_time": "2024-12-04T15:02:37.784Z"
   },
   {
    "duration": 36,
    "start_time": "2024-12-04T15:02:41.971Z"
   },
   {
    "duration": 11,
    "start_time": "2024-12-04T15:03:32.058Z"
   },
   {
    "duration": 106,
    "start_time": "2024-12-04T15:03:36.578Z"
   },
   {
    "duration": 14,
    "start_time": "2024-12-04T15:22:45.005Z"
   },
   {
    "duration": 118,
    "start_time": "2024-12-04T15:24:11.149Z"
   },
   {
    "duration": 134,
    "start_time": "2024-12-04T15:25:03.893Z"
   },
   {
    "duration": 47,
    "start_time": "2024-12-04T15:25:33.235Z"
   },
   {
    "duration": 16,
    "start_time": "2024-12-04T15:25:37.754Z"
   },
   {
    "duration": 986,
    "start_time": "2024-12-04T15:25:38.921Z"
   },
   {
    "duration": 19,
    "start_time": "2024-12-04T15:25:52.147Z"
   },
   {
    "duration": 20,
    "start_time": "2024-12-04T15:26:09.271Z"
   },
   {
    "duration": 1003,
    "start_time": "2024-12-04T15:26:17.269Z"
   },
   {
    "duration": 18,
    "start_time": "2024-12-04T15:26:31.858Z"
   },
   {
    "duration": 17,
    "start_time": "2024-12-04T15:26:32.794Z"
   },
   {
    "duration": 1051,
    "start_time": "2024-12-04T15:26:34.382Z"
   },
   {
    "duration": 14,
    "start_time": "2024-12-04T15:26:40.356Z"
   },
   {
    "duration": 56,
    "start_time": "2024-12-04T16:01:57.932Z"
   },
   {
    "duration": 62,
    "start_time": "2024-12-04T16:10:48.592Z"
   },
   {
    "duration": 2576,
    "start_time": "2024-12-04T16:11:07.919Z"
   },
   {
    "duration": 7,
    "start_time": "2024-12-04T16:11:10.498Z"
   },
   {
    "duration": 34,
    "start_time": "2024-12-04T16:11:10.507Z"
   },
   {
    "duration": 1120,
    "start_time": "2024-12-04T16:11:10.544Z"
   },
   {
    "duration": 124,
    "start_time": "2024-12-04T16:11:11.666Z"
   },
   {
    "duration": 16,
    "start_time": "2024-12-04T16:11:11.792Z"
   },
   {
    "duration": 19,
    "start_time": "2024-12-04T16:11:11.810Z"
   },
   {
    "duration": 63,
    "start_time": "2024-12-04T16:11:11.831Z"
   },
   {
    "duration": 330,
    "start_time": "2024-12-04T16:11:11.896Z"
   },
   {
    "duration": 214,
    "start_time": "2024-12-04T16:11:12.229Z"
   },
   {
    "duration": 266,
    "start_time": "2024-12-04T16:11:12.445Z"
   },
   {
    "duration": 274,
    "start_time": "2024-12-04T16:11:12.713Z"
   },
   {
    "duration": 170,
    "start_time": "2024-12-04T16:11:12.988Z"
   },
   {
    "duration": 191,
    "start_time": "2024-12-04T16:11:13.160Z"
   },
   {
    "duration": 7,
    "start_time": "2024-12-04T16:11:13.353Z"
   },
   {
    "duration": 7,
    "start_time": "2024-12-04T16:11:13.362Z"
   },
   {
    "duration": 11,
    "start_time": "2024-12-04T16:11:13.370Z"
   },
   {
    "duration": 10,
    "start_time": "2024-12-04T16:11:13.383Z"
   },
   {
    "duration": 19,
    "start_time": "2024-12-04T16:11:13.394Z"
   },
   {
    "duration": 44,
    "start_time": "2024-12-04T16:11:13.415Z"
   },
   {
    "duration": 1242,
    "start_time": "2024-12-04T16:11:13.461Z"
   },
   {
    "duration": 9,
    "start_time": "2024-12-04T16:11:14.704Z"
   },
   {
    "duration": 52,
    "start_time": "2024-12-04T16:11:14.715Z"
   },
   {
    "duration": 11,
    "start_time": "2024-12-04T16:11:14.768Z"
   },
   {
    "duration": 10,
    "start_time": "2024-12-04T16:11:14.781Z"
   },
   {
    "duration": 26,
    "start_time": "2024-12-04T16:11:14.793Z"
   },
   {
    "duration": 141,
    "start_time": "2024-12-04T16:11:14.822Z"
   },
   {
    "duration": 129,
    "start_time": "2024-12-04T16:11:14.968Z"
   },
   {
    "duration": 139,
    "start_time": "2024-12-04T16:11:15.099Z"
   },
   {
    "duration": 45,
    "start_time": "2024-12-04T16:11:15.240Z"
   },
   {
    "duration": 11,
    "start_time": "2024-12-04T16:11:15.287Z"
   },
   {
    "duration": 134,
    "start_time": "2024-12-04T16:11:15.300Z"
   },
   {
    "duration": 19,
    "start_time": "2024-12-04T16:11:15.435Z"
   },
   {
    "duration": 113,
    "start_time": "2024-12-04T16:11:15.674Z"
   },
   {
    "duration": 99,
    "start_time": "2024-12-04T16:11:17.024Z"
   },
   {
    "duration": 48,
    "start_time": "2024-12-04T16:11:18.435Z"
   },
   {
    "duration": 16,
    "start_time": "2024-12-04T16:11:19.512Z"
   },
   {
    "duration": 970,
    "start_time": "2024-12-04T16:11:20.008Z"
   },
   {
    "duration": 20,
    "start_time": "2024-12-04T16:11:21.067Z"
   },
   {
    "duration": 22,
    "start_time": "2024-12-04T16:11:21.623Z"
   },
   {
    "duration": 1013,
    "start_time": "2024-12-04T16:11:23.302Z"
   },
   {
    "duration": 19,
    "start_time": "2024-12-04T16:11:24.318Z"
   },
   {
    "duration": 30,
    "start_time": "2024-12-04T16:11:24.339Z"
   },
   {
    "duration": 1100,
    "start_time": "2024-12-04T16:11:24.488Z"
   },
   {
    "duration": 13,
    "start_time": "2024-12-04T16:11:25.590Z"
   },
   {
    "duration": 18,
    "start_time": "2024-12-04T16:11:25.605Z"
   },
   {
    "duration": 19,
    "start_time": "2024-12-04T16:11:25.862Z"
   },
   {
    "duration": 20,
    "start_time": "2024-12-04T16:11:28.340Z"
   },
   {
    "duration": 939,
    "start_time": "2024-12-04T16:11:32.954Z"
   },
   {
    "duration": 6,
    "start_time": "2024-12-04T16:11:35.111Z"
   },
   {
    "duration": 884,
    "start_time": "2024-12-04T16:11:35.978Z"
   },
   {
    "duration": 4,
    "start_time": "2024-12-04T16:11:38.356Z"
   },
   {
    "duration": 4,
    "start_time": "2024-12-04T16:11:39.019Z"
   },
   {
    "duration": 7,
    "start_time": "2024-12-04T16:11:42.256Z"
   },
   {
    "duration": 3554,
    "start_time": "2024-12-04T20:35:48.493Z"
   },
   {
    "duration": 1582,
    "start_time": "2024-12-04T20:35:52.049Z"
   },
   {
    "duration": 2,
    "start_time": "2024-12-04T20:35:53.633Z"
   },
   {
    "duration": 1135,
    "start_time": "2024-12-04T20:35:53.637Z"
   },
   {
    "duration": 76,
    "start_time": "2024-12-04T20:35:54.773Z"
   },
   {
    "duration": 23,
    "start_time": "2024-12-04T20:35:54.851Z"
   },
   {
    "duration": 37,
    "start_time": "2024-12-04T20:35:54.875Z"
   },
   {
    "duration": 36,
    "start_time": "2024-12-04T20:35:54.913Z"
   },
   {
    "duration": 269,
    "start_time": "2024-12-04T20:35:54.950Z"
   },
   {
    "duration": 177,
    "start_time": "2024-12-04T20:35:55.222Z"
   },
   {
    "duration": 247,
    "start_time": "2024-12-04T20:35:55.400Z"
   },
   {
    "duration": 295,
    "start_time": "2024-12-04T20:35:55.648Z"
   },
   {
    "duration": 171,
    "start_time": "2024-12-04T20:35:55.944Z"
   },
   {
    "duration": 176,
    "start_time": "2024-12-04T20:35:56.117Z"
   },
   {
    "duration": 6,
    "start_time": "2024-12-04T20:35:56.502Z"
   },
   {
    "duration": 6,
    "start_time": "2024-12-04T20:35:56.693Z"
   },
   {
    "duration": 5,
    "start_time": "2024-12-04T20:35:56.904Z"
   },
   {
    "duration": 6,
    "start_time": "2024-12-04T20:35:57.482Z"
   },
   {
    "duration": 28,
    "start_time": "2024-12-04T20:35:58.034Z"
   },
   {
    "duration": 14,
    "start_time": "2024-12-04T20:35:58.744Z"
   },
   {
    "duration": 976,
    "start_time": "2024-12-04T20:35:59.006Z"
   },
   {
    "duration": 7,
    "start_time": "2024-12-04T20:35:59.984Z"
   },
   {
    "duration": 32,
    "start_time": "2024-12-04T20:35:59.992Z"
   },
   {
    "duration": 11,
    "start_time": "2024-12-04T20:36:00.817Z"
   },
   {
    "duration": 8,
    "start_time": "2024-12-04T20:36:01.083Z"
   },
   {
    "duration": 18,
    "start_time": "2024-12-04T20:36:01.309Z"
   },
   {
    "duration": 104,
    "start_time": "2024-12-04T20:36:02.746Z"
   },
   {
    "duration": 97,
    "start_time": "2024-12-04T20:36:03.798Z"
   },
   {
    "duration": 114,
    "start_time": "2024-12-04T20:36:04.579Z"
   },
   {
    "duration": 35,
    "start_time": "2024-12-04T20:36:05.678Z"
   },
   {
    "duration": 9,
    "start_time": "2024-12-04T20:36:05.890Z"
   },
   {
    "duration": 100,
    "start_time": "2024-12-04T20:36:06.794Z"
   },
   {
    "duration": 12,
    "start_time": "2024-12-04T20:36:10.349Z"
   },
   {
    "duration": 111,
    "start_time": "2024-12-04T20:36:11.240Z"
   },
   {
    "duration": 91,
    "start_time": "2024-12-04T20:36:12.304Z"
   },
   {
    "duration": 41,
    "start_time": "2024-12-04T20:36:13.720Z"
   },
   {
    "duration": 18,
    "start_time": "2024-12-04T20:36:15.004Z"
   },
   {
    "duration": 844,
    "start_time": "2024-12-04T20:36:15.716Z"
   },
   {
    "duration": 26,
    "start_time": "2024-12-04T20:36:16.957Z"
   },
   {
    "duration": 20,
    "start_time": "2024-12-04T20:36:17.194Z"
   },
   {
    "duration": 887,
    "start_time": "2024-12-04T20:36:17.801Z"
   },
   {
    "duration": 17,
    "start_time": "2024-12-04T20:36:18.690Z"
   },
   {
    "duration": 50,
    "start_time": "2024-12-04T20:36:18.709Z"
   },
   {
    "duration": 809,
    "start_time": "2024-12-04T20:36:18.876Z"
   },
   {
    "duration": 12,
    "start_time": "2024-12-04T20:36:19.687Z"
   },
   {
    "duration": 18,
    "start_time": "2024-12-04T20:36:19.800Z"
   },
   {
    "duration": 18,
    "start_time": "2024-12-04T20:36:20.003Z"
   },
   {
    "duration": 21,
    "start_time": "2024-12-04T20:36:20.665Z"
   },
   {
    "duration": 888,
    "start_time": "2024-12-04T20:36:24.161Z"
   },
   {
    "duration": 5,
    "start_time": "2024-12-04T20:36:25.156Z"
   },
   {
    "duration": 719,
    "start_time": "2024-12-04T20:36:25.416Z"
   },
   {
    "duration": 3,
    "start_time": "2024-12-04T20:36:26.357Z"
   },
   {
    "duration": 3,
    "start_time": "2024-12-04T20:36:27.147Z"
   },
   {
    "duration": 6,
    "start_time": "2024-12-04T20:36:27.891Z"
   },
   {
    "duration": 4,
    "start_time": "2024-12-04T20:36:28.888Z"
   },
   {
    "duration": 2,
    "start_time": "2024-12-04T20:36:29.353Z"
   },
   {
    "duration": 4499,
    "start_time": "2024-12-04T20:36:31.141Z"
   },
   {
    "duration": 105,
    "start_time": "2024-12-04T21:16:58.782Z"
   },
   {
    "duration": 869,
    "start_time": "2024-12-04T21:19:10.531Z"
   },
   {
    "duration": 79,
    "start_time": "2024-12-04T21:19:11.401Z"
   },
   {
    "duration": 12,
    "start_time": "2024-12-04T21:19:11.481Z"
   },
   {
    "duration": 18,
    "start_time": "2024-12-04T21:19:11.804Z"
   },
   {
    "duration": 27,
    "start_time": "2024-12-04T21:19:11.926Z"
   },
   {
    "duration": 252,
    "start_time": "2024-12-04T21:19:12.006Z"
   },
   {
    "duration": 159,
    "start_time": "2024-12-04T21:19:12.326Z"
   },
   {
    "duration": 279,
    "start_time": "2024-12-04T21:19:12.488Z"
   },
   {
    "duration": 273,
    "start_time": "2024-12-04T21:19:12.769Z"
   },
   {
    "duration": 152,
    "start_time": "2024-12-04T21:19:13.043Z"
   },
   {
    "duration": 175,
    "start_time": "2024-12-04T21:19:13.198Z"
   },
   {
    "duration": 7,
    "start_time": "2024-12-04T21:19:13.374Z"
   },
   {
    "duration": 9,
    "start_time": "2024-12-04T21:19:13.382Z"
   },
   {
    "duration": 4,
    "start_time": "2024-12-04T21:19:13.393Z"
   },
   {
    "duration": 12,
    "start_time": "2024-12-04T21:19:13.399Z"
   },
   {
    "duration": 20,
    "start_time": "2024-12-04T21:19:13.412Z"
   },
   {
    "duration": 40,
    "start_time": "2024-12-04T21:19:13.434Z"
   },
   {
    "duration": 990,
    "start_time": "2024-12-04T21:19:13.475Z"
   },
   {
    "duration": 11,
    "start_time": "2024-12-04T21:19:14.466Z"
   },
   {
    "duration": 30,
    "start_time": "2024-12-04T21:19:14.479Z"
   },
   {
    "duration": 10,
    "start_time": "2024-12-04T21:19:14.511Z"
   },
   {
    "duration": 10,
    "start_time": "2024-12-04T21:19:14.523Z"
   },
   {
    "duration": 24,
    "start_time": "2024-12-04T21:19:15.059Z"
   },
   {
    "duration": 100,
    "start_time": "2024-12-04T21:19:15.658Z"
   },
   {
    "duration": 99,
    "start_time": "2024-12-04T21:19:16.032Z"
   },
   {
    "duration": 113,
    "start_time": "2024-12-04T21:19:16.574Z"
   },
   {
    "duration": 30,
    "start_time": "2024-12-04T21:19:16.689Z"
   },
   {
    "duration": 7,
    "start_time": "2024-12-04T21:19:16.721Z"
   },
   {
    "duration": 92,
    "start_time": "2024-12-04T21:19:16.787Z"
   },
   {
    "duration": 13,
    "start_time": "2024-12-04T21:19:18.132Z"
   },
   {
    "duration": 120,
    "start_time": "2024-12-04T21:19:18.595Z"
   },
   {
    "duration": 84,
    "start_time": "2024-12-04T21:19:19.920Z"
   },
   {
    "duration": 39,
    "start_time": "2024-12-04T21:19:21.291Z"
   },
   {
    "duration": 15,
    "start_time": "2024-12-04T21:19:21.704Z"
   },
   {
    "duration": 838,
    "start_time": "2024-12-04T21:19:21.893Z"
   },
   {
    "duration": 18,
    "start_time": "2024-12-04T21:19:22.732Z"
   },
   {
    "duration": 36,
    "start_time": "2024-12-04T21:19:22.752Z"
   },
   {
    "duration": 904,
    "start_time": "2024-12-04T21:19:23.080Z"
   },
   {
    "duration": 19,
    "start_time": "2024-12-04T21:19:23.987Z"
   },
   {
    "duration": 17,
    "start_time": "2024-12-04T21:19:24.119Z"
   },
   {
    "duration": 869,
    "start_time": "2024-12-04T21:19:24.308Z"
   },
   {
    "duration": 12,
    "start_time": "2024-12-04T21:19:25.179Z"
   },
   {
    "duration": 24,
    "start_time": "2024-12-04T21:19:25.192Z"
   },
   {
    "duration": 17,
    "start_time": "2024-12-04T21:19:25.245Z"
   },
   {
    "duration": 30,
    "start_time": "2024-12-04T21:19:26.572Z"
   },
   {
    "duration": 857,
    "start_time": "2024-12-04T21:19:28.210Z"
   },
   {
    "duration": 5,
    "start_time": "2024-12-04T21:19:29.070Z"
   },
   {
    "duration": 765,
    "start_time": "2024-12-04T21:19:29.076Z"
   },
   {
    "duration": 3,
    "start_time": "2024-12-04T21:19:29.843Z"
   },
   {
    "duration": 52,
    "start_time": "2024-12-04T21:19:29.847Z"
   },
   {
    "duration": 6,
    "start_time": "2024-12-04T21:19:31.210Z"
   },
   {
    "duration": 4,
    "start_time": "2024-12-04T21:19:31.654Z"
   },
   {
    "duration": 4399,
    "start_time": "2024-12-04T21:19:34.596Z"
   },
   {
    "duration": 4,
    "start_time": "2024-12-04T21:19:38.997Z"
   },
   {
    "duration": 3,
    "start_time": "2024-12-04T21:19:39.002Z"
   },
   {
    "duration": 143,
    "start_time": "2024-12-04T21:19:41.734Z"
   },
   {
    "duration": 128,
    "start_time": "2024-12-04T21:19:42.582Z"
   },
   {
    "duration": 4,
    "start_time": "2024-12-04T21:46:24.012Z"
   },
   {
    "duration": 2741,
    "start_time": "2024-12-04T22:22:57.557Z"
   },
   {
    "duration": 6,
    "start_time": "2024-12-04T22:23:00.300Z"
   },
   {
    "duration": 45,
    "start_time": "2024-12-04T22:23:00.307Z"
   },
   {
    "duration": 973,
    "start_time": "2024-12-04T22:23:00.354Z"
   },
   {
    "duration": 92,
    "start_time": "2024-12-04T22:23:01.328Z"
   },
   {
    "duration": 13,
    "start_time": "2024-12-04T22:23:01.421Z"
   },
   {
    "duration": 30,
    "start_time": "2024-12-04T22:23:01.435Z"
   },
   {
    "duration": 32,
    "start_time": "2024-12-04T22:23:01.468Z"
   },
   {
    "duration": 253,
    "start_time": "2024-12-04T22:23:01.502Z"
   },
   {
    "duration": 159,
    "start_time": "2024-12-04T22:23:01.897Z"
   },
   {
    "duration": 304,
    "start_time": "2024-12-04T22:23:02.811Z"
   },
   {
    "duration": 330,
    "start_time": "2024-12-04T22:23:03.240Z"
   },
   {
    "duration": 162,
    "start_time": "2024-12-04T22:23:03.834Z"
   },
   {
    "duration": 179,
    "start_time": "2024-12-04T22:23:04.309Z"
   },
   {
    "duration": 6,
    "start_time": "2024-12-04T22:23:05.450Z"
   },
   {
    "duration": 14,
    "start_time": "2024-12-04T22:23:05.684Z"
   },
   {
    "duration": 5,
    "start_time": "2024-12-04T22:23:05.936Z"
   },
   {
    "duration": 9,
    "start_time": "2024-12-04T22:23:06.793Z"
   },
   {
    "duration": 30,
    "start_time": "2024-12-04T22:23:07.188Z"
   },
   {
    "duration": 16,
    "start_time": "2024-12-04T22:23:07.796Z"
   },
   {
    "duration": 1015,
    "start_time": "2024-12-04T22:23:07.992Z"
   },
   {
    "duration": 7,
    "start_time": "2024-12-04T22:23:09.010Z"
   },
   {
    "duration": 41,
    "start_time": "2024-12-04T22:23:09.018Z"
   },
   {
    "duration": 36,
    "start_time": "2024-12-04T22:23:09.061Z"
   },
   {
    "duration": 29,
    "start_time": "2024-12-04T22:23:09.099Z"
   },
   {
    "duration": 73,
    "start_time": "2024-12-04T22:23:09.129Z"
   },
   {
    "duration": 118,
    "start_time": "2024-12-04T22:23:09.203Z"
   },
   {
    "duration": 108,
    "start_time": "2024-12-04T22:23:09.323Z"
   },
   {
    "duration": 117,
    "start_time": "2024-12-04T22:23:09.433Z"
   },
   {
    "duration": 37,
    "start_time": "2024-12-04T22:23:09.551Z"
   },
   {
    "duration": 8,
    "start_time": "2024-12-04T22:23:09.706Z"
   },
   {
    "duration": 100,
    "start_time": "2024-12-04T22:23:10.486Z"
   },
   {
    "duration": 13,
    "start_time": "2024-12-04T22:23:11.083Z"
   },
   {
    "duration": 106,
    "start_time": "2024-12-04T22:23:11.152Z"
   },
   {
    "duration": 98,
    "start_time": "2024-12-04T22:23:11.260Z"
   },
   {
    "duration": 42,
    "start_time": "2024-12-04T22:23:12.706Z"
   },
   {
    "duration": 16,
    "start_time": "2024-12-04T22:23:13.144Z"
   },
   {
    "duration": 947,
    "start_time": "2024-12-04T22:23:13.344Z"
   },
   {
    "duration": 19,
    "start_time": "2024-12-04T22:23:14.292Z"
   },
   {
    "duration": 19,
    "start_time": "2024-12-04T22:23:14.312Z"
   },
   {
    "duration": 858,
    "start_time": "2024-12-04T22:23:14.692Z"
   },
   {
    "duration": 18,
    "start_time": "2024-12-04T22:23:15.552Z"
   },
   {
    "duration": 21,
    "start_time": "2024-12-04T22:23:15.571Z"
   },
   {
    "duration": 901,
    "start_time": "2024-12-04T22:23:15.593Z"
   },
   {
    "duration": 11,
    "start_time": "2024-12-04T22:23:16.496Z"
   },
   {
    "duration": 17,
    "start_time": "2024-12-04T22:23:16.509Z"
   },
   {
    "duration": 93,
    "start_time": "2024-12-04T22:23:16.528Z"
   },
   {
    "duration": 31,
    "start_time": "2024-12-04T22:23:16.630Z"
   },
   {
    "duration": 824,
    "start_time": "2024-12-04T22:23:18.616Z"
   },
   {
    "duration": 5,
    "start_time": "2024-12-04T22:23:19.441Z"
   },
   {
    "duration": 753,
    "start_time": "2024-12-04T22:23:19.447Z"
   },
   {
    "duration": 3,
    "start_time": "2024-12-04T22:23:20.202Z"
   },
   {
    "duration": 15,
    "start_time": "2024-12-04T22:23:20.207Z"
   },
   {
    "duration": 13,
    "start_time": "2024-12-04T22:23:20.283Z"
   },
   {
    "duration": 4,
    "start_time": "2024-12-04T22:23:20.959Z"
   },
   {
    "duration": 4568,
    "start_time": "2024-12-04T22:23:21.647Z"
   },
   {
    "duration": 2,
    "start_time": "2024-12-04T22:23:26.216Z"
   },
   {
    "duration": 117,
    "start_time": "2024-12-04T22:23:26.220Z"
   },
   {
    "duration": 122,
    "start_time": "2024-12-04T22:23:26.339Z"
   },
   {
    "duration": 52,
    "start_time": "2024-12-04T22:23:26.463Z"
   },
   {
    "duration": 1129593,
    "start_time": "2024-12-04T22:23:27.817Z"
   },
   {
    "duration": 113435,
    "start_time": "2024-12-04T22:42:17.412Z"
   },
   {
    "duration": 833,
    "start_time": "2024-12-04T22:44:11.123Z"
   },
   {
    "duration": 4,
    "start_time": "2024-12-04T22:45:55.121Z"
   },
   {
    "duration": 121,
    "start_time": "2024-12-04T22:46:36.346Z"
   },
   {
    "duration": 110914,
    "start_time": "2024-12-04T22:46:42.153Z"
   },
   {
    "duration": 9,
    "start_time": "2024-12-04T22:48:33.068Z"
   },
   {
    "duration": 97,
    "start_time": "2024-12-04T22:49:34.731Z"
   },
   {
    "duration": 317,
    "start_time": "2024-12-04T22:49:41.843Z"
   },
   {
    "duration": 18157,
    "start_time": "2024-12-04T22:50:15.555Z"
   },
   {
    "duration": 52050,
    "start_time": "2024-12-04T22:50:44.351Z"
   },
   {
    "duration": 66438,
    "start_time": "2024-12-04T22:51:37.369Z"
   },
   {
    "duration": 0,
    "start_time": "2024-12-04T22:52:43.808Z"
   },
   {
    "duration": 1145707,
    "start_time": "2024-12-04T22:52:52.298Z"
   },
   {
    "duration": 0,
    "start_time": "2024-12-04T23:11:58.007Z"
   },
   {
    "duration": 0,
    "start_time": "2024-12-04T23:11:58.008Z"
   },
   {
    "duration": 0,
    "start_time": "2024-12-04T23:11:58.010Z"
   },
   {
    "duration": 2650,
    "start_time": "2024-12-04T23:12:51.767Z"
   },
   {
    "duration": 1340,
    "start_time": "2024-12-04T23:12:55.842Z"
   },
   {
    "duration": 3,
    "start_time": "2024-12-04T23:12:57.188Z"
   },
   {
    "duration": 953,
    "start_time": "2024-12-04T23:12:57.355Z"
   },
   {
    "duration": 90,
    "start_time": "2024-12-04T23:12:58.310Z"
   },
   {
    "duration": 13,
    "start_time": "2024-12-04T23:12:58.401Z"
   },
   {
    "duration": 35,
    "start_time": "2024-12-04T23:12:58.416Z"
   },
   {
    "duration": 48,
    "start_time": "2024-12-04T23:12:58.453Z"
   },
   {
    "duration": 261,
    "start_time": "2024-12-04T23:12:58.503Z"
   },
   {
    "duration": 196,
    "start_time": "2024-12-04T23:12:58.765Z"
   },
   {
    "duration": 302,
    "start_time": "2024-12-04T23:12:58.962Z"
   },
   {
    "duration": 323,
    "start_time": "2024-12-04T23:12:59.265Z"
   },
   {
    "duration": 187,
    "start_time": "2024-12-04T23:12:59.590Z"
   },
   {
    "duration": 179,
    "start_time": "2024-12-04T23:12:59.782Z"
   },
   {
    "duration": 16,
    "start_time": "2024-12-04T23:12:59.962Z"
   },
   {
    "duration": 26,
    "start_time": "2024-12-04T23:12:59.984Z"
   },
   {
    "duration": 43,
    "start_time": "2024-12-04T23:13:00.012Z"
   },
   {
    "duration": 46,
    "start_time": "2024-12-04T23:13:00.057Z"
   },
   {
    "duration": 29,
    "start_time": "2024-12-04T23:13:00.104Z"
   },
   {
    "duration": 49,
    "start_time": "2024-12-04T23:13:00.135Z"
   },
   {
    "duration": 1030,
    "start_time": "2024-12-04T23:13:00.186Z"
   },
   {
    "duration": 7,
    "start_time": "2024-12-04T23:13:01.217Z"
   },
   {
    "duration": 63,
    "start_time": "2024-12-04T23:13:01.225Z"
   },
   {
    "duration": 11,
    "start_time": "2024-12-04T23:13:01.295Z"
   },
   {
    "duration": 55,
    "start_time": "2024-12-04T23:13:01.308Z"
   },
   {
    "duration": 35,
    "start_time": "2024-12-04T23:13:01.365Z"
   },
   {
    "duration": 120,
    "start_time": "2024-12-04T23:13:01.401Z"
   },
   {
    "duration": 105,
    "start_time": "2024-12-04T23:13:01.522Z"
   },
   {
    "duration": 127,
    "start_time": "2024-12-04T23:13:01.628Z"
   },
   {
    "duration": 59,
    "start_time": "2024-12-04T23:13:01.757Z"
   },
   {
    "duration": 8,
    "start_time": "2024-12-04T23:13:01.820Z"
   },
   {
    "duration": 117,
    "start_time": "2024-12-04T23:13:01.830Z"
   },
   {
    "duration": 35,
    "start_time": "2024-12-04T23:13:01.948Z"
   },
   {
    "duration": 133,
    "start_time": "2024-12-04T23:13:01.985Z"
   },
   {
    "duration": 115,
    "start_time": "2024-12-04T23:13:02.120Z"
   },
   {
    "duration": 65,
    "start_time": "2024-12-04T23:13:02.236Z"
   },
   {
    "duration": 18,
    "start_time": "2024-12-04T23:13:02.303Z"
   },
   {
    "duration": 914,
    "start_time": "2024-12-04T23:13:02.322Z"
   },
   {
    "duration": 19,
    "start_time": "2024-12-04T23:13:03.237Z"
   },
   {
    "duration": 39,
    "start_time": "2024-12-04T23:13:03.257Z"
   },
   {
    "duration": 970,
    "start_time": "2024-12-04T23:13:03.297Z"
   },
   {
    "duration": 34,
    "start_time": "2024-12-04T23:13:04.269Z"
   },
   {
    "duration": 91,
    "start_time": "2024-12-04T23:13:04.305Z"
   },
   {
    "duration": 843,
    "start_time": "2024-12-04T23:13:04.397Z"
   },
   {
    "duration": 12,
    "start_time": "2024-12-04T23:13:05.241Z"
   },
   {
    "duration": 31,
    "start_time": "2024-12-04T23:13:05.254Z"
   },
   {
    "duration": 17,
    "start_time": "2024-12-04T23:13:05.288Z"
   },
   {
    "duration": 81,
    "start_time": "2024-12-04T23:13:05.307Z"
   },
   {
    "duration": 851,
    "start_time": "2024-12-04T23:13:05.390Z"
   },
   {
    "duration": 5,
    "start_time": "2024-12-04T23:13:06.243Z"
   },
   {
    "duration": 801,
    "start_time": "2024-12-04T23:13:06.249Z"
   },
   {
    "duration": 3,
    "start_time": "2024-12-04T23:13:07.052Z"
   },
   {
    "duration": 45,
    "start_time": "2024-12-04T23:13:07.056Z"
   },
   {
    "duration": 11,
    "start_time": "2024-12-04T23:13:07.103Z"
   },
   {
    "duration": 4,
    "start_time": "2024-12-04T23:13:07.396Z"
   },
   {
    "duration": 4637,
    "start_time": "2024-12-04T23:13:08.731Z"
   },
   {
    "duration": 12,
    "start_time": "2024-12-04T23:13:13.370Z"
   },
   {
    "duration": 3,
    "start_time": "2024-12-04T23:13:14.165Z"
   },
   {
    "duration": 111,
    "start_time": "2024-12-04T23:13:16.999Z"
   },
   {
    "duration": 147,
    "start_time": "2024-12-04T23:13:17.681Z"
   },
   {
    "duration": 66,
    "start_time": "2024-12-04T23:13:18.968Z"
   },
   {
    "duration": 101,
    "start_time": "2024-12-04T23:13:30.402Z"
   },
   {
    "duration": 868542,
    "start_time": "2024-12-04T23:13:35.487Z"
   },
   {
    "duration": 8,
    "start_time": "2024-12-04T23:28:04.031Z"
   },
   {
    "duration": 7,
    "start_time": "2024-12-04T23:44:27.939Z"
   },
   {
    "duration": 0,
    "start_time": "2024-12-04T23:44:27.948Z"
   },
   {
    "duration": 17239,
    "start_time": "2024-12-04T23:44:32.960Z"
   },
   {
    "duration": 117239,
    "start_time": "2024-12-04T23:45:34.368Z"
   },
   {
    "duration": 2700,
    "start_time": "2024-12-04T23:47:32.110Z"
   },
   {
    "duration": 4,
    "start_time": "2024-12-04T23:47:34.812Z"
   },
   {
    "duration": 23,
    "start_time": "2024-12-04T23:47:34.818Z"
   },
   {
    "duration": 910,
    "start_time": "2024-12-04T23:47:34.843Z"
   },
   {
    "duration": 89,
    "start_time": "2024-12-04T23:47:35.755Z"
   },
   {
    "duration": 13,
    "start_time": "2024-12-04T23:47:35.845Z"
   },
   {
    "duration": 53,
    "start_time": "2024-12-04T23:47:35.873Z"
   },
   {
    "duration": 40,
    "start_time": "2024-12-04T23:47:35.927Z"
   },
   {
    "duration": 276,
    "start_time": "2024-12-04T23:47:35.969Z"
   },
   {
    "duration": 170,
    "start_time": "2024-12-04T23:47:36.248Z"
   },
   {
    "duration": 287,
    "start_time": "2024-12-04T23:47:36.420Z"
   },
   {
    "duration": 297,
    "start_time": "2024-12-04T23:47:36.709Z"
   },
   {
    "duration": 175,
    "start_time": "2024-12-04T23:47:37.008Z"
   },
   {
    "duration": 170,
    "start_time": "2024-12-04T23:47:37.186Z"
   },
   {
    "duration": 81,
    "start_time": "2024-12-04T23:47:37.358Z"
   },
   {
    "duration": 69,
    "start_time": "2024-12-04T23:47:37.440Z"
   },
   {
    "duration": 11,
    "start_time": "2024-12-04T23:47:37.511Z"
   },
   {
    "duration": 9,
    "start_time": "2024-12-04T23:47:37.523Z"
   },
   {
    "duration": 29,
    "start_time": "2024-12-04T23:47:37.533Z"
   },
   {
    "duration": 43,
    "start_time": "2024-12-04T23:47:37.563Z"
   },
   {
    "duration": 981,
    "start_time": "2024-12-04T23:47:37.607Z"
   },
   {
    "duration": 6,
    "start_time": "2024-12-04T23:47:38.589Z"
   },
   {
    "duration": 32,
    "start_time": "2024-12-04T23:47:38.597Z"
   },
   {
    "duration": 10,
    "start_time": "2024-12-04T23:47:38.630Z"
   },
   {
    "duration": 15,
    "start_time": "2024-12-04T23:47:38.641Z"
   },
   {
    "duration": 19,
    "start_time": "2024-12-04T23:47:38.678Z"
   },
   {
    "duration": 113,
    "start_time": "2024-12-04T23:47:38.698Z"
   },
   {
    "duration": 106,
    "start_time": "2024-12-04T23:47:38.814Z"
   },
   {
    "duration": 130,
    "start_time": "2024-12-04T23:47:38.921Z"
   },
   {
    "duration": 43,
    "start_time": "2024-12-04T23:47:39.053Z"
   },
   {
    "duration": 10,
    "start_time": "2024-12-04T23:47:39.098Z"
   },
   {
    "duration": 102,
    "start_time": "2024-12-04T23:47:39.109Z"
   },
   {
    "duration": 12,
    "start_time": "2024-12-04T23:47:39.212Z"
   },
   {
    "duration": 110,
    "start_time": "2024-12-04T23:47:39.225Z"
   },
   {
    "duration": 100,
    "start_time": "2024-12-04T23:47:39.337Z"
   },
   {
    "duration": 58,
    "start_time": "2024-12-04T23:47:39.438Z"
   },
   {
    "duration": 19,
    "start_time": "2024-12-04T23:47:39.498Z"
   },
   {
    "duration": 875,
    "start_time": "2024-12-04T23:47:39.518Z"
   },
   {
    "duration": 18,
    "start_time": "2024-12-04T23:47:40.395Z"
   },
   {
    "duration": 17,
    "start_time": "2024-12-04T23:47:40.415Z"
   },
   {
    "duration": 820,
    "start_time": "2024-12-04T23:47:40.433Z"
   },
   {
    "duration": 34,
    "start_time": "2024-12-04T23:47:41.254Z"
   },
   {
    "duration": 17,
    "start_time": "2024-12-04T23:47:41.289Z"
   },
   {
    "duration": 919,
    "start_time": "2024-12-04T23:47:41.307Z"
   },
   {
    "duration": 11,
    "start_time": "2024-12-04T23:47:42.227Z"
   },
   {
    "duration": 17,
    "start_time": "2024-12-04T23:47:42.239Z"
   },
   {
    "duration": 36,
    "start_time": "2024-12-04T23:47:42.258Z"
   },
   {
    "duration": 17,
    "start_time": "2024-12-04T23:47:42.296Z"
   },
   {
    "duration": 834,
    "start_time": "2024-12-04T23:47:42.315Z"
   },
   {
    "duration": 5,
    "start_time": "2024-12-04T23:47:43.151Z"
   },
   {
    "duration": 704,
    "start_time": "2024-12-04T23:47:43.157Z"
   },
   {
    "duration": 3,
    "start_time": "2024-12-04T23:47:43.862Z"
   },
   {
    "duration": 6,
    "start_time": "2024-12-04T23:47:43.876Z"
   },
   {
    "duration": 7,
    "start_time": "2024-12-04T23:47:43.886Z"
   },
   {
    "duration": 3,
    "start_time": "2024-12-04T23:47:44.117Z"
   },
   {
    "duration": 4417,
    "start_time": "2024-12-04T23:47:46.547Z"
   },
   {
    "duration": 17,
    "start_time": "2024-12-04T23:47:50.966Z"
   },
   {
    "duration": 3,
    "start_time": "2024-12-04T23:47:51.560Z"
   },
   {
    "duration": 109,
    "start_time": "2024-12-04T23:47:53.000Z"
   },
   {
    "duration": 119,
    "start_time": "2024-12-04T23:47:53.601Z"
   },
   {
    "duration": 42,
    "start_time": "2024-12-04T23:47:55.396Z"
   },
   {
    "duration": 83,
    "start_time": "2024-12-04T23:47:59.874Z"
   },
   {
    "duration": 2618,
    "start_time": "2024-12-05T00:11:14.502Z"
   },
   {
    "duration": 1345,
    "start_time": "2024-12-05T00:11:17.122Z"
   },
   {
    "duration": 2,
    "start_time": "2024-12-05T00:11:18.469Z"
   },
   {
    "duration": 904,
    "start_time": "2024-12-05T00:11:18.473Z"
   },
   {
    "duration": 77,
    "start_time": "2024-12-05T00:11:19.378Z"
   },
   {
    "duration": 26,
    "start_time": "2024-12-05T00:11:19.457Z"
   },
   {
    "duration": 35,
    "start_time": "2024-12-05T00:11:19.484Z"
   },
   {
    "duration": 52,
    "start_time": "2024-12-05T00:11:19.520Z"
   },
   {
    "duration": 250,
    "start_time": "2024-12-05T00:11:19.574Z"
   },
   {
    "duration": 172,
    "start_time": "2024-12-05T00:11:19.826Z"
   },
   {
    "duration": 286,
    "start_time": "2024-12-05T00:11:20.000Z"
   },
   {
    "duration": 319,
    "start_time": "2024-12-05T00:11:20.288Z"
   },
   {
    "duration": 177,
    "start_time": "2024-12-05T00:11:20.609Z"
   },
   {
    "duration": 194,
    "start_time": "2024-12-05T00:11:20.788Z"
   },
   {
    "duration": 8,
    "start_time": "2024-12-05T00:11:20.984Z"
   },
   {
    "duration": 65,
    "start_time": "2024-12-05T00:11:20.993Z"
   },
   {
    "duration": 25,
    "start_time": "2024-12-05T00:11:21.060Z"
   },
   {
    "duration": 11,
    "start_time": "2024-12-05T00:11:21.087Z"
   },
   {
    "duration": 28,
    "start_time": "2024-12-05T00:11:21.100Z"
   },
   {
    "duration": 62,
    "start_time": "2024-12-05T00:11:21.129Z"
   },
   {
    "duration": 981,
    "start_time": "2024-12-05T00:11:21.192Z"
   },
   {
    "duration": 6,
    "start_time": "2024-12-05T00:11:22.174Z"
   },
   {
    "duration": 32,
    "start_time": "2024-12-05T00:11:22.182Z"
   },
   {
    "duration": 10,
    "start_time": "2024-12-05T00:11:22.215Z"
   },
   {
    "duration": 7,
    "start_time": "2024-12-05T00:11:22.226Z"
   },
   {
    "duration": 45,
    "start_time": "2024-12-05T00:11:22.234Z"
   },
   {
    "duration": 105,
    "start_time": "2024-12-05T00:11:22.281Z"
   },
   {
    "duration": 98,
    "start_time": "2024-12-05T00:11:22.389Z"
   },
   {
    "duration": 111,
    "start_time": "2024-12-05T00:11:22.489Z"
   },
   {
    "duration": 30,
    "start_time": "2024-12-05T00:11:22.601Z"
   },
   {
    "duration": 7,
    "start_time": "2024-12-05T00:11:22.633Z"
   },
   {
    "duration": 109,
    "start_time": "2024-12-05T00:11:22.642Z"
   },
   {
    "duration": 20,
    "start_time": "2024-12-05T00:11:22.753Z"
   },
   {
    "duration": 107,
    "start_time": "2024-12-05T00:11:22.774Z"
   },
   {
    "duration": 99,
    "start_time": "2024-12-05T00:11:22.883Z"
   },
   {
    "duration": 49,
    "start_time": "2024-12-05T00:11:22.984Z"
   },
   {
    "duration": 24,
    "start_time": "2024-12-05T00:11:23.035Z"
   },
   {
    "duration": 860,
    "start_time": "2024-12-05T00:11:23.061Z"
   },
   {
    "duration": 25,
    "start_time": "2024-12-05T00:11:23.922Z"
   },
   {
    "duration": 41,
    "start_time": "2024-12-05T00:11:23.949Z"
   },
   {
    "duration": 832,
    "start_time": "2024-12-05T00:11:23.991Z"
   },
   {
    "duration": 17,
    "start_time": "2024-12-05T00:11:24.825Z"
   },
   {
    "duration": 28,
    "start_time": "2024-12-05T00:11:24.843Z"
   },
   {
    "duration": 815,
    "start_time": "2024-12-05T00:11:24.873Z"
   },
   {
    "duration": 12,
    "start_time": "2024-12-05T00:11:25.689Z"
   },
   {
    "duration": 17,
    "start_time": "2024-12-05T00:11:25.703Z"
   },
   {
    "duration": 17,
    "start_time": "2024-12-05T00:11:25.722Z"
   },
   {
    "duration": 43,
    "start_time": "2024-12-05T00:11:25.740Z"
   },
   {
    "duration": 862,
    "start_time": "2024-12-05T00:11:25.784Z"
   },
   {
    "duration": 5,
    "start_time": "2024-12-05T00:11:26.647Z"
   },
   {
    "duration": 742,
    "start_time": "2024-12-05T00:11:26.653Z"
   },
   {
    "duration": 4,
    "start_time": "2024-12-05T00:11:27.396Z"
   },
   {
    "duration": 14,
    "start_time": "2024-12-05T00:11:27.401Z"
   },
   {
    "duration": 9,
    "start_time": "2024-12-05T00:11:27.416Z"
   },
   {
    "duration": 12,
    "start_time": "2024-12-05T00:11:27.428Z"
   },
   {
    "duration": 4431,
    "start_time": "2024-12-05T00:11:27.441Z"
   },
   {
    "duration": 14,
    "start_time": "2024-12-05T00:11:31.874Z"
   },
   {
    "duration": 41,
    "start_time": "2024-12-05T00:11:31.890Z"
   },
   {
    "duration": 108,
    "start_time": "2024-12-05T00:11:32.218Z"
   },
   {
    "duration": 125,
    "start_time": "2024-12-05T00:11:32.439Z"
   },
   {
    "duration": 59,
    "start_time": "2024-12-05T00:11:32.635Z"
   },
   {
    "duration": 119,
    "start_time": "2024-12-05T00:11:44.100Z"
   },
   {
    "duration": 10391,
    "start_time": "2024-12-05T00:12:19.108Z"
   },
   {
    "duration": 17126,
    "start_time": "2024-12-05T00:12:35.745Z"
   },
   {
    "duration": 1682213,
    "start_time": "2024-12-05T00:14:32.719Z"
   },
   {
    "duration": 3158,
    "start_time": "2024-12-05T00:42:34.933Z"
   },
   {
    "duration": 886,
    "start_time": "2024-12-05T00:42:38.094Z"
   },
   {
    "duration": 6916,
    "start_time": "2024-12-05T00:42:49.042Z"
   },
   {
    "duration": 2632,
    "start_time": "2024-12-05T00:43:06.850Z"
   },
   {
    "duration": 3026,
    "start_time": "2024-12-05T00:43:09.485Z"
   },
   {
    "duration": 1176,
    "start_time": "2024-12-05T00:43:12.513Z"
   },
   {
    "duration": 3,
    "start_time": "2024-12-05T00:43:13.691Z"
   },
   {
    "duration": 915,
    "start_time": "2024-12-05T00:43:13.696Z"
   },
   {
    "duration": 87,
    "start_time": "2024-12-05T00:43:14.613Z"
   },
   {
    "duration": 15,
    "start_time": "2024-12-05T00:43:14.701Z"
   },
   {
    "duration": 44,
    "start_time": "2024-12-05T00:43:14.717Z"
   },
   {
    "duration": 35,
    "start_time": "2024-12-05T00:43:14.770Z"
   },
   {
    "duration": 254,
    "start_time": "2024-12-05T00:43:14.808Z"
   },
   {
    "duration": 164,
    "start_time": "2024-12-05T00:43:15.063Z"
   },
   {
    "duration": 286,
    "start_time": "2024-12-05T00:43:15.229Z"
   },
   {
    "duration": 330,
    "start_time": "2024-12-05T00:43:15.516Z"
   },
   {
    "duration": 191,
    "start_time": "2024-12-05T00:43:15.848Z"
   },
   {
    "duration": 216,
    "start_time": "2024-12-05T00:43:16.040Z"
   },
   {
    "duration": 21,
    "start_time": "2024-12-05T00:43:16.258Z"
   },
   {
    "duration": 9,
    "start_time": "2024-12-05T00:43:16.281Z"
   },
   {
    "duration": 8,
    "start_time": "2024-12-05T00:43:16.291Z"
   },
   {
    "duration": 18,
    "start_time": "2024-12-05T00:43:16.300Z"
   },
   {
    "duration": 26,
    "start_time": "2024-12-05T00:43:16.319Z"
   },
   {
    "duration": 15,
    "start_time": "2024-12-05T00:43:16.347Z"
   },
   {
    "duration": 907,
    "start_time": "2024-12-05T00:43:16.363Z"
   },
   {
    "duration": 6,
    "start_time": "2024-12-05T00:43:17.271Z"
   },
   {
    "duration": 39,
    "start_time": "2024-12-05T00:43:17.278Z"
   },
   {
    "duration": 10,
    "start_time": "2024-12-05T00:43:17.318Z"
   },
   {
    "duration": 7,
    "start_time": "2024-12-05T00:43:17.329Z"
   },
   {
    "duration": 42,
    "start_time": "2024-12-05T00:43:17.337Z"
   },
   {
    "duration": 160,
    "start_time": "2024-12-05T00:43:17.383Z"
   },
   {
    "duration": 97,
    "start_time": "2024-12-05T00:43:17.544Z"
   },
   {
    "duration": 115,
    "start_time": "2024-12-05T00:43:17.642Z"
   },
   {
    "duration": 35,
    "start_time": "2024-12-05T00:43:17.758Z"
   },
   {
    "duration": 9,
    "start_time": "2024-12-05T00:43:17.795Z"
   },
   {
    "duration": 108,
    "start_time": "2024-12-05T00:43:17.806Z"
   },
   {
    "duration": 13,
    "start_time": "2024-12-05T00:43:17.915Z"
   },
   {
    "duration": 112,
    "start_time": "2024-12-05T00:43:17.930Z"
   },
   {
    "duration": 95,
    "start_time": "2024-12-05T00:43:18.043Z"
   },
   {
    "duration": 49,
    "start_time": "2024-12-05T00:43:18.140Z"
   },
   {
    "duration": 15,
    "start_time": "2024-12-05T00:43:18.190Z"
   },
   {
    "duration": 858,
    "start_time": "2024-12-05T00:43:18.206Z"
   },
   {
    "duration": 29,
    "start_time": "2024-12-05T00:43:19.065Z"
   },
   {
    "duration": 18,
    "start_time": "2024-12-05T00:43:19.096Z"
   },
   {
    "duration": 853,
    "start_time": "2024-12-05T00:43:19.115Z"
   },
   {
    "duration": 17,
    "start_time": "2024-12-05T00:43:19.969Z"
   },
   {
    "duration": 16,
    "start_time": "2024-12-05T00:43:19.988Z"
   },
   {
    "duration": 823,
    "start_time": "2024-12-05T00:43:20.006Z"
   },
   {
    "duration": 13,
    "start_time": "2024-12-05T00:43:20.831Z"
   },
   {
    "duration": 32,
    "start_time": "2024-12-05T00:43:20.845Z"
   },
   {
    "duration": 17,
    "start_time": "2024-12-05T00:43:20.879Z"
   },
   {
    "duration": 33,
    "start_time": "2024-12-05T00:43:20.898Z"
   },
   {
    "duration": 807,
    "start_time": "2024-12-05T00:43:20.933Z"
   },
   {
    "duration": 5,
    "start_time": "2024-12-05T00:43:21.741Z"
   },
   {
    "duration": 804,
    "start_time": "2024-12-05T00:43:21.747Z"
   },
   {
    "duration": 4,
    "start_time": "2024-12-05T00:43:22.552Z"
   },
   {
    "duration": 20,
    "start_time": "2024-12-05T00:43:22.557Z"
   },
   {
    "duration": 8,
    "start_time": "2024-12-05T00:43:22.578Z"
   },
   {
    "duration": 6,
    "start_time": "2024-12-05T00:43:22.588Z"
   },
   {
    "duration": 4361,
    "start_time": "2024-12-05T00:43:22.595Z"
   },
   {
    "duration": 4,
    "start_time": "2024-12-05T00:43:26.959Z"
   },
   {
    "duration": 7,
    "start_time": "2024-12-05T00:43:26.964Z"
   },
   {
    "duration": 110,
    "start_time": "2024-12-05T00:43:26.972Z"
   },
   {
    "duration": 117,
    "start_time": "2024-12-05T00:43:27.083Z"
   },
   {
    "duration": 38,
    "start_time": "2024-12-05T00:43:27.202Z"
   },
   {
    "duration": 141998,
    "start_time": "2024-12-05T00:43:33.480Z"
   },
   {
    "duration": 9,
    "start_time": "2024-12-05T00:45:55.480Z"
   },
   {
    "duration": 9,
    "start_time": "2024-12-05T00:48:11.283Z"
   },
   {
    "duration": 49,
    "start_time": "2024-12-05T00:48:19.035Z"
   },
   {
    "duration": 11,
    "start_time": "2024-12-05T00:49:33.635Z"
   },
   {
    "duration": 142343,
    "start_time": "2024-12-05T00:49:56.221Z"
   },
   {
    "duration": 5029,
    "start_time": "2024-12-05T00:52:18.566Z"
   },
   {
    "duration": 4,
    "start_time": "2024-12-05T00:52:42.051Z"
   },
   {
    "duration": 4,
    "start_time": "2024-12-05T00:53:33.738Z"
   },
   {
    "duration": 2,
    "start_time": "2024-12-05T00:53:54.928Z"
   },
   {
    "duration": 2669,
    "start_time": "2024-12-05T00:56:31.716Z"
   },
   {
    "duration": 2637,
    "start_time": "2024-12-05T00:56:34.388Z"
   },
   {
    "duration": 5,
    "start_time": "2024-12-05T00:56:37.027Z"
   },
   {
    "duration": 9,
    "start_time": "2024-12-05T00:56:37.034Z"
   },
   {
    "duration": 3,
    "start_time": "2024-12-05T00:56:37.044Z"
   },
   {
    "duration": 935,
    "start_time": "2024-12-05T00:56:37.048Z"
   },
   {
    "duration": 93,
    "start_time": "2024-12-05T00:56:37.985Z"
   },
   {
    "duration": 13,
    "start_time": "2024-12-05T00:56:38.084Z"
   },
   {
    "duration": 23,
    "start_time": "2024-12-05T00:56:38.098Z"
   },
   {
    "duration": 34,
    "start_time": "2024-12-05T00:56:38.123Z"
   },
   {
    "duration": 238,
    "start_time": "2024-12-05T00:56:38.158Z"
   },
   {
    "duration": 155,
    "start_time": "2024-12-05T00:56:38.398Z"
   },
   {
    "duration": 269,
    "start_time": "2024-12-05T00:56:38.554Z"
   },
   {
    "duration": 302,
    "start_time": "2024-12-05T00:56:38.824Z"
   },
   {
    "duration": 157,
    "start_time": "2024-12-05T00:56:39.127Z"
   },
   {
    "duration": 179,
    "start_time": "2024-12-05T00:56:39.285Z"
   },
   {
    "duration": 6,
    "start_time": "2024-12-05T00:56:39.465Z"
   },
   {
    "duration": 18,
    "start_time": "2024-12-05T00:56:39.473Z"
   },
   {
    "duration": 16,
    "start_time": "2024-12-05T00:56:39.493Z"
   },
   {
    "duration": 10,
    "start_time": "2024-12-05T00:56:39.511Z"
   },
   {
    "duration": 17,
    "start_time": "2024-12-05T00:56:39.522Z"
   },
   {
    "duration": 13,
    "start_time": "2024-12-05T00:56:39.541Z"
   },
   {
    "duration": 1039,
    "start_time": "2024-12-05T00:56:39.555Z"
   },
   {
    "duration": 6,
    "start_time": "2024-12-05T00:56:40.595Z"
   },
   {
    "duration": 32,
    "start_time": "2024-12-05T00:56:40.603Z"
   },
   {
    "duration": 9,
    "start_time": "2024-12-05T00:56:40.637Z"
   },
   {
    "duration": 38,
    "start_time": "2024-12-05T00:56:40.648Z"
   },
   {
    "duration": 24,
    "start_time": "2024-12-05T00:56:40.691Z"
   },
   {
    "duration": 174,
    "start_time": "2024-12-05T00:56:40.717Z"
   },
   {
    "duration": 98,
    "start_time": "2024-12-05T00:56:40.892Z"
   },
   {
    "duration": 116,
    "start_time": "2024-12-05T00:56:40.992Z"
   },
   {
    "duration": 29,
    "start_time": "2024-12-05T00:56:41.109Z"
   },
   {
    "duration": 13,
    "start_time": "2024-12-05T00:56:41.139Z"
   },
   {
    "duration": 101,
    "start_time": "2024-12-05T00:56:41.153Z"
   },
   {
    "duration": 12,
    "start_time": "2024-12-05T00:56:41.255Z"
   },
   {
    "duration": 128,
    "start_time": "2024-12-05T00:56:41.268Z"
   },
   {
    "duration": 94,
    "start_time": "2024-12-05T00:56:41.397Z"
   },
   {
    "duration": 39,
    "start_time": "2024-12-05T00:56:41.492Z"
   },
   {
    "duration": 14,
    "start_time": "2024-12-05T00:56:41.533Z"
   },
   {
    "duration": 825,
    "start_time": "2024-12-05T00:56:41.548Z"
   },
   {
    "duration": 20,
    "start_time": "2024-12-05T00:56:42.375Z"
   },
   {
    "duration": 19,
    "start_time": "2024-12-05T00:56:42.396Z"
   },
   {
    "duration": 859,
    "start_time": "2024-12-05T00:56:42.417Z"
   },
   {
    "duration": 18,
    "start_time": "2024-12-05T00:56:43.278Z"
   },
   {
    "duration": 16,
    "start_time": "2024-12-05T00:56:43.297Z"
   },
   {
    "duration": 852,
    "start_time": "2024-12-05T00:56:43.314Z"
   },
   {
    "duration": 25,
    "start_time": "2024-12-05T00:56:44.167Z"
   },
   {
    "duration": 18,
    "start_time": "2024-12-05T00:56:44.194Z"
   },
   {
    "duration": 16,
    "start_time": "2024-12-05T00:56:44.213Z"
   },
   {
    "duration": 16,
    "start_time": "2024-12-05T00:56:44.230Z"
   },
   {
    "duration": 875,
    "start_time": "2024-12-05T00:56:44.248Z"
   },
   {
    "duration": 4,
    "start_time": "2024-12-05T00:56:45.124Z"
   },
   {
    "duration": 706,
    "start_time": "2024-12-05T00:56:45.129Z"
   },
   {
    "duration": 3,
    "start_time": "2024-12-05T00:56:45.836Z"
   },
   {
    "duration": 3,
    "start_time": "2024-12-05T00:56:45.840Z"
   },
   {
    "duration": 6,
    "start_time": "2024-12-05T00:56:45.844Z"
   },
   {
    "duration": 4,
    "start_time": "2024-12-05T00:56:45.870Z"
   },
   {
    "duration": 4172,
    "start_time": "2024-12-05T00:56:45.875Z"
   },
   {
    "duration": 3,
    "start_time": "2024-12-05T00:56:50.049Z"
   },
   {
    "duration": 9,
    "start_time": "2024-12-05T00:56:50.053Z"
   },
   {
    "duration": 125,
    "start_time": "2024-12-05T00:56:50.063Z"
   },
   {
    "duration": 125,
    "start_time": "2024-12-05T00:56:50.189Z"
   },
   {
    "duration": 41,
    "start_time": "2024-12-05T00:56:50.315Z"
   },
   {
    "duration": 84,
    "start_time": "2024-12-05T00:56:57.284Z"
   },
   {
    "duration": 2674,
    "start_time": "2024-12-05T01:02:15.512Z"
   },
   {
    "duration": 2608,
    "start_time": "2024-12-05T01:02:18.188Z"
   },
   {
    "duration": 1181,
    "start_time": "2024-12-05T01:02:20.798Z"
   },
   {
    "duration": 3,
    "start_time": "2024-12-05T01:02:21.981Z"
   },
   {
    "duration": 4,
    "start_time": "2024-12-05T01:02:21.985Z"
   },
   {
    "duration": 918,
    "start_time": "2024-12-05T01:02:21.990Z"
   },
   {
    "duration": 93,
    "start_time": "2024-12-05T01:02:22.909Z"
   },
   {
    "duration": 14,
    "start_time": "2024-12-05T01:02:23.003Z"
   },
   {
    "duration": 48,
    "start_time": "2024-12-05T01:02:23.018Z"
   },
   {
    "duration": 36,
    "start_time": "2024-12-05T01:02:23.079Z"
   },
   {
    "duration": 269,
    "start_time": "2024-12-05T01:02:23.117Z"
   },
   {
    "duration": 168,
    "start_time": "2024-12-05T01:02:23.387Z"
   },
   {
    "duration": 282,
    "start_time": "2024-12-05T01:02:23.556Z"
   },
   {
    "duration": 317,
    "start_time": "2024-12-05T01:02:23.840Z"
   },
   {
    "duration": 187,
    "start_time": "2024-12-05T01:02:24.159Z"
   },
   {
    "duration": 211,
    "start_time": "2024-12-05T01:02:24.347Z"
   },
   {
    "duration": 7,
    "start_time": "2024-12-05T01:02:24.559Z"
   },
   {
    "duration": 17,
    "start_time": "2024-12-05T01:02:24.571Z"
   },
   {
    "duration": 5,
    "start_time": "2024-12-05T01:02:24.589Z"
   },
   {
    "duration": 11,
    "start_time": "2024-12-05T01:02:24.595Z"
   },
   {
    "duration": 26,
    "start_time": "2024-12-05T01:02:24.608Z"
   },
   {
    "duration": 15,
    "start_time": "2024-12-05T01:02:24.636Z"
   },
   {
    "duration": 914,
    "start_time": "2024-12-05T01:02:24.652Z"
   },
   {
    "duration": 15,
    "start_time": "2024-12-05T01:02:25.567Z"
   },
   {
    "duration": 38,
    "start_time": "2024-12-05T01:02:25.585Z"
   },
   {
    "duration": 10,
    "start_time": "2024-12-05T01:02:25.624Z"
   },
   {
    "duration": 9,
    "start_time": "2024-12-05T01:02:25.635Z"
   },
   {
    "duration": 44,
    "start_time": "2024-12-05T01:02:25.648Z"
   },
   {
    "duration": 155,
    "start_time": "2024-12-05T01:02:25.694Z"
   },
   {
    "duration": 93,
    "start_time": "2024-12-05T01:02:25.850Z"
   },
   {
    "duration": 119,
    "start_time": "2024-12-05T01:02:25.945Z"
   },
   {
    "duration": 32,
    "start_time": "2024-12-05T01:02:26.082Z"
   },
   {
    "duration": 9,
    "start_time": "2024-12-05T01:02:26.115Z"
   },
   {
    "duration": 103,
    "start_time": "2024-12-05T01:02:26.125Z"
   },
   {
    "duration": 12,
    "start_time": "2024-12-05T01:02:26.229Z"
   },
   {
    "duration": 123,
    "start_time": "2024-12-05T01:02:26.243Z"
   },
   {
    "duration": 92,
    "start_time": "2024-12-05T01:02:26.367Z"
   },
   {
    "duration": 61,
    "start_time": "2024-12-05T01:02:26.460Z"
   },
   {
    "duration": 16,
    "start_time": "2024-12-05T01:02:26.523Z"
   },
   {
    "duration": 854,
    "start_time": "2024-12-05T01:02:26.541Z"
   },
   {
    "duration": 18,
    "start_time": "2024-12-05T01:02:27.397Z"
   },
   {
    "duration": 18,
    "start_time": "2024-12-05T01:02:27.416Z"
   },
   {
    "duration": 815,
    "start_time": "2024-12-05T01:02:27.435Z"
   },
   {
    "duration": 25,
    "start_time": "2024-12-05T01:02:28.252Z"
   },
   {
    "duration": 16,
    "start_time": "2024-12-05T01:02:28.279Z"
   },
   {
    "duration": 878,
    "start_time": "2024-12-05T01:02:28.296Z"
   },
   {
    "duration": 12,
    "start_time": "2024-12-05T01:02:29.184Z"
   },
   {
    "duration": 73,
    "start_time": "2024-12-05T01:02:29.197Z"
   },
   {
    "duration": 19,
    "start_time": "2024-12-05T01:02:29.280Z"
   },
   {
    "duration": 19,
    "start_time": "2024-12-05T01:02:29.301Z"
   },
   {
    "duration": 805,
    "start_time": "2024-12-05T01:02:29.321Z"
   },
   {
    "duration": 5,
    "start_time": "2024-12-05T01:02:30.127Z"
   },
   {
    "duration": 715,
    "start_time": "2024-12-05T01:02:30.133Z"
   },
   {
    "duration": 3,
    "start_time": "2024-12-05T01:02:30.849Z"
   },
   {
    "duration": 19,
    "start_time": "2024-12-05T01:02:30.853Z"
   },
   {
    "duration": 32,
    "start_time": "2024-12-05T01:02:30.873Z"
   },
   {
    "duration": 20,
    "start_time": "2024-12-05T01:02:30.906Z"
   },
   {
    "duration": 4488,
    "start_time": "2024-12-05T01:02:30.928Z"
   },
   {
    "duration": 4,
    "start_time": "2024-12-05T01:02:35.417Z"
   },
   {
    "duration": 18,
    "start_time": "2024-12-05T01:02:35.422Z"
   },
   {
    "duration": 124,
    "start_time": "2024-12-05T01:02:35.441Z"
   },
   {
    "duration": 134,
    "start_time": "2024-12-05T01:02:35.566Z"
   },
   {
    "duration": 40,
    "start_time": "2024-12-05T01:02:35.701Z"
   },
   {
    "duration": 1097529,
    "start_time": "2024-12-05T01:02:35.743Z"
   },
   {
    "duration": 112744,
    "start_time": "2024-12-05T01:20:53.273Z"
   },
   {
    "duration": 3,
    "start_time": "2024-12-05T01:22:46.019Z"
   },
   {
    "duration": 12,
    "start_time": "2024-12-05T01:22:46.023Z"
   },
   {
    "duration": 86,
    "start_time": "2024-12-05T01:22:46.036Z"
   },
   {
    "duration": 1569052,
    "start_time": "2024-12-05T01:22:46.123Z"
   },
   {
    "duration": 112626,
    "start_time": "2024-12-05T01:48:55.177Z"
   },
   {
    "duration": 139618,
    "start_time": "2024-12-05T01:50:47.805Z"
   },
   {
    "duration": 4905,
    "start_time": "2024-12-05T01:53:07.424Z"
   },
   {
    "duration": 5,
    "start_time": "2024-12-05T01:53:12.330Z"
   },
   {
    "duration": 11,
    "start_time": "2024-12-05T01:53:12.337Z"
   },
   {
    "duration": 317,
    "start_time": "2024-12-05T01:53:12.350Z"
   },
   {
    "duration": 5,
    "start_time": "2024-12-05T01:53:12.671Z"
   },
   {
    "duration": 113,
    "start_time": "2024-12-05T01:53:12.677Z"
   },
   {
    "duration": 0,
    "start_time": "2024-12-05T01:53:12.792Z"
   },
   {
    "duration": 3503,
    "start_time": "2024-12-05T06:11:38.434Z"
   },
   {
    "duration": 7123,
    "start_time": "2024-12-05T06:11:41.940Z"
   },
   {
    "duration": 1593,
    "start_time": "2024-12-05T06:11:49.065Z"
   },
   {
    "duration": 3,
    "start_time": "2024-12-05T06:11:50.660Z"
   },
   {
    "duration": 49,
    "start_time": "2024-12-05T06:11:50.665Z"
   },
   {
    "duration": 3065,
    "start_time": "2024-12-05T06:11:50.716Z"
   },
   {
    "duration": 115,
    "start_time": "2024-12-05T06:11:53.784Z"
   },
   {
    "duration": 19,
    "start_time": "2024-12-05T06:11:53.901Z"
   },
   {
    "duration": 61,
    "start_time": "2024-12-05T06:11:53.922Z"
   },
   {
    "duration": 41,
    "start_time": "2024-12-05T06:11:53.986Z"
   },
   {
    "duration": 331,
    "start_time": "2024-12-05T06:11:54.029Z"
   },
   {
    "duration": 266,
    "start_time": "2024-12-05T06:11:54.362Z"
   },
   {
    "duration": 341,
    "start_time": "2024-12-05T06:11:54.630Z"
   },
   {
    "duration": 389,
    "start_time": "2024-12-05T06:11:54.973Z"
   },
   {
    "duration": 201,
    "start_time": "2024-12-05T06:11:55.364Z"
   },
   {
    "duration": 231,
    "start_time": "2024-12-05T06:11:55.567Z"
   },
   {
    "duration": 7,
    "start_time": "2024-12-05T06:11:55.800Z"
   },
   {
    "duration": 17,
    "start_time": "2024-12-05T06:11:55.808Z"
   },
   {
    "duration": 6,
    "start_time": "2024-12-05T06:11:55.827Z"
   },
   {
    "duration": 10,
    "start_time": "2024-12-05T06:11:55.849Z"
   },
   {
    "duration": 30,
    "start_time": "2024-12-05T06:11:55.860Z"
   },
   {
    "duration": 26,
    "start_time": "2024-12-05T06:11:55.891Z"
   },
   {
    "duration": 1190,
    "start_time": "2024-12-05T06:11:55.919Z"
   },
   {
    "duration": 10,
    "start_time": "2024-12-05T06:11:57.111Z"
   },
   {
    "duration": 63,
    "start_time": "2024-12-05T06:11:57.123Z"
   },
   {
    "duration": 12,
    "start_time": "2024-12-05T06:11:57.188Z"
   },
   {
    "duration": 10,
    "start_time": "2024-12-05T06:11:57.202Z"
   },
   {
    "duration": 47,
    "start_time": "2024-12-05T06:11:57.217Z"
   },
   {
    "duration": 209,
    "start_time": "2024-12-05T06:11:57.266Z"
   },
   {
    "duration": 122,
    "start_time": "2024-12-05T06:11:57.478Z"
   },
   {
    "duration": 139,
    "start_time": "2024-12-05T06:11:57.601Z"
   },
   {
    "duration": 37,
    "start_time": "2024-12-05T06:11:57.749Z"
   },
   {
    "duration": 11,
    "start_time": "2024-12-05T06:11:57.788Z"
   },
   {
    "duration": 131,
    "start_time": "2024-12-05T06:11:57.801Z"
   },
   {
    "duration": 28,
    "start_time": "2024-12-05T06:11:57.934Z"
   },
   {
    "duration": 127,
    "start_time": "2024-12-05T06:11:57.963Z"
   },
   {
    "duration": 103,
    "start_time": "2024-12-05T06:11:58.092Z"
   },
   {
    "duration": 63,
    "start_time": "2024-12-05T06:11:58.196Z"
   },
   {
    "duration": 17,
    "start_time": "2024-12-05T06:11:58.261Z"
   },
   {
    "duration": 1038,
    "start_time": "2024-12-05T06:11:58.280Z"
   },
   {
    "duration": 33,
    "start_time": "2024-12-05T06:11:59.320Z"
   },
   {
    "duration": 20,
    "start_time": "2024-12-05T06:11:59.355Z"
   },
   {
    "duration": 1001,
    "start_time": "2024-12-05T06:11:59.377Z"
   },
   {
    "duration": 19,
    "start_time": "2024-12-05T06:12:00.380Z"
   },
   {
    "duration": 26,
    "start_time": "2024-12-05T06:12:00.400Z"
   },
   {
    "duration": 958,
    "start_time": "2024-12-05T06:12:00.428Z"
   },
   {
    "duration": 14,
    "start_time": "2024-12-05T06:12:01.388Z"
   },
   {
    "duration": 57,
    "start_time": "2024-12-05T06:12:01.404Z"
   },
   {
    "duration": 28,
    "start_time": "2024-12-05T06:12:01.463Z"
   },
   {
    "duration": 35,
    "start_time": "2024-12-05T06:12:01.493Z"
   },
   {
    "duration": 915,
    "start_time": "2024-12-05T06:12:01.529Z"
   },
   {
    "duration": 6,
    "start_time": "2024-12-05T06:12:02.445Z"
   },
   {
    "duration": 865,
    "start_time": "2024-12-05T06:12:02.453Z"
   },
   {
    "duration": 4,
    "start_time": "2024-12-05T06:12:03.320Z"
   },
   {
    "duration": 27,
    "start_time": "2024-12-05T06:12:03.325Z"
   },
   {
    "duration": 21,
    "start_time": "2024-12-05T06:12:03.353Z"
   },
   {
    "duration": 5,
    "start_time": "2024-12-05T06:12:03.376Z"
   },
   {
    "duration": 5393,
    "start_time": "2024-12-05T06:12:03.382Z"
   },
   {
    "duration": 4,
    "start_time": "2024-12-05T06:12:08.777Z"
   },
   {
    "duration": 8,
    "start_time": "2024-12-05T06:12:08.783Z"
   },
   {
    "duration": 126,
    "start_time": "2024-12-05T06:12:08.793Z"
   },
   {
    "duration": 124,
    "start_time": "2024-12-05T06:12:08.921Z"
   },
   {
    "duration": 60,
    "start_time": "2024-12-05T06:12:09.050Z"
   },
   {
    "duration": 1095196,
    "start_time": "2024-12-05T06:12:09.112Z"
   },
   {
    "duration": 114024,
    "start_time": "2024-12-05T06:30:24.310Z"
   },
   {
    "duration": 4,
    "start_time": "2024-12-05T06:32:18.336Z"
   },
   {
    "duration": 106,
    "start_time": "2024-12-05T06:32:18.341Z"
   },
   {
    "duration": 128003,
    "start_time": "2024-12-05T06:32:18.448Z"
   },
   {
    "duration": 11308,
    "start_time": "2024-12-05T06:34:26.453Z"
   },
   {
    "duration": 267738,
    "start_time": "2024-12-05T06:34:37.763Z"
   },
   {
    "duration": 9180,
    "start_time": "2024-12-05T06:39:05.503Z"
   },
   {
    "duration": 7,
    "start_time": "2024-12-05T06:39:14.685Z"
   },
   {
    "duration": 66,
    "start_time": "2024-12-05T06:39:14.694Z"
   },
   {
    "duration": 153,
    "start_time": "2024-12-05T06:39:14.762Z"
   },
   {
    "duration": 0,
    "start_time": "2024-12-05T06:39:14.917Z"
   },
   {
    "duration": 1,
    "start_time": "2024-12-05T06:39:14.918Z"
   },
   {
    "duration": 0,
    "start_time": "2024-12-05T06:39:14.920Z"
   },
   {
    "duration": 2515,
    "start_time": "2024-12-05T06:41:08.441Z"
   },
   {
    "duration": 2459,
    "start_time": "2024-12-05T06:41:10.959Z"
   },
   {
    "duration": 1429,
    "start_time": "2024-12-05T06:41:13.421Z"
   },
   {
    "duration": 4,
    "start_time": "2024-12-05T06:41:14.852Z"
   },
   {
    "duration": 11,
    "start_time": "2024-12-05T06:41:14.858Z"
   },
   {
    "duration": 1107,
    "start_time": "2024-12-05T06:41:14.871Z"
   },
   {
    "duration": 112,
    "start_time": "2024-12-05T06:41:15.980Z"
   },
   {
    "duration": 21,
    "start_time": "2024-12-05T06:41:16.094Z"
   },
   {
    "duration": 56,
    "start_time": "2024-12-05T06:41:16.117Z"
   },
   {
    "duration": 43,
    "start_time": "2024-12-05T06:41:16.175Z"
   },
   {
    "duration": 305,
    "start_time": "2024-12-05T06:41:16.219Z"
   },
   {
    "duration": 221,
    "start_time": "2024-12-05T06:41:16.525Z"
   },
   {
    "duration": 304,
    "start_time": "2024-12-05T06:41:16.749Z"
   },
   {
    "duration": 356,
    "start_time": "2024-12-05T06:41:17.055Z"
   },
   {
    "duration": 183,
    "start_time": "2024-12-05T06:41:17.413Z"
   },
   {
    "duration": 181,
    "start_time": "2024-12-05T06:41:17.597Z"
   },
   {
    "duration": 8,
    "start_time": "2024-12-05T06:41:17.779Z"
   },
   {
    "duration": 13,
    "start_time": "2024-12-05T06:41:17.789Z"
   },
   {
    "duration": 7,
    "start_time": "2024-12-05T06:41:17.804Z"
   },
   {
    "duration": 23,
    "start_time": "2024-12-05T06:41:17.813Z"
   },
   {
    "duration": 35,
    "start_time": "2024-12-05T06:41:17.838Z"
   },
   {
    "duration": 36,
    "start_time": "2024-12-05T06:41:17.875Z"
   },
   {
    "duration": 1106,
    "start_time": "2024-12-05T06:41:17.913Z"
   },
   {
    "duration": 11,
    "start_time": "2024-12-05T06:41:19.020Z"
   },
   {
    "duration": 64,
    "start_time": "2024-12-05T06:41:19.033Z"
   },
   {
    "duration": 34,
    "start_time": "2024-12-05T06:41:19.099Z"
   },
   {
    "duration": 11,
    "start_time": "2024-12-05T06:41:19.135Z"
   },
   {
    "duration": 23,
    "start_time": "2024-12-05T06:41:19.154Z"
   },
   {
    "duration": 212,
    "start_time": "2024-12-05T06:41:19.179Z"
   },
   {
    "duration": 111,
    "start_time": "2024-12-05T06:41:19.393Z"
   },
   {
    "duration": 137,
    "start_time": "2024-12-05T06:41:19.506Z"
   },
   {
    "duration": 36,
    "start_time": "2024-12-05T06:41:19.649Z"
   },
   {
    "duration": 41,
    "start_time": "2024-12-05T06:41:19.687Z"
   },
   {
    "duration": 104,
    "start_time": "2024-12-05T06:41:19.730Z"
   },
   {
    "duration": 26,
    "start_time": "2024-12-05T06:41:19.836Z"
   },
   {
    "duration": 126,
    "start_time": "2024-12-05T06:41:19.863Z"
   },
   {
    "duration": 109,
    "start_time": "2024-12-05T06:41:19.990Z"
   },
   {
    "duration": 61,
    "start_time": "2024-12-05T06:41:20.101Z"
   },
   {
    "duration": 19,
    "start_time": "2024-12-05T06:41:20.163Z"
   },
   {
    "duration": 1105,
    "start_time": "2024-12-05T06:41:20.184Z"
   },
   {
    "duration": 22,
    "start_time": "2024-12-05T06:41:21.291Z"
   },
   {
    "duration": 43,
    "start_time": "2024-12-05T06:41:21.315Z"
   },
   {
    "duration": 1034,
    "start_time": "2024-12-05T06:41:21.360Z"
   },
   {
    "duration": 21,
    "start_time": "2024-12-05T06:41:22.396Z"
   },
   {
    "duration": 44,
    "start_time": "2024-12-05T06:41:22.419Z"
   },
   {
    "duration": 959,
    "start_time": "2024-12-05T06:41:22.465Z"
   },
   {
    "duration": 28,
    "start_time": "2024-12-05T06:41:23.426Z"
   },
   {
    "duration": 21,
    "start_time": "2024-12-05T06:41:23.456Z"
   },
   {
    "duration": 21,
    "start_time": "2024-12-05T06:41:23.479Z"
   },
   {
    "duration": 49,
    "start_time": "2024-12-05T06:41:23.502Z"
   },
   {
    "duration": 898,
    "start_time": "2024-12-05T06:41:23.553Z"
   },
   {
    "duration": 5,
    "start_time": "2024-12-05T06:41:24.453Z"
   },
   {
    "duration": 839,
    "start_time": "2024-12-05T06:41:24.460Z"
   },
   {
    "duration": 5,
    "start_time": "2024-12-05T06:41:25.301Z"
   },
   {
    "duration": 5,
    "start_time": "2024-12-05T06:41:25.307Z"
   },
   {
    "duration": 9,
    "start_time": "2024-12-05T06:41:25.313Z"
   },
   {
    "duration": 30,
    "start_time": "2024-12-05T06:41:25.324Z"
   },
   {
    "duration": 5211,
    "start_time": "2024-12-05T06:41:25.356Z"
   },
   {
    "duration": 5,
    "start_time": "2024-12-05T06:41:30.568Z"
   },
   {
    "duration": 31,
    "start_time": "2024-12-05T06:41:30.574Z"
   },
   {
    "duration": 232,
    "start_time": "2024-12-05T06:41:30.607Z"
   },
   {
    "duration": 128,
    "start_time": "2024-12-05T06:41:30.841Z"
   },
   {
    "duration": 59,
    "start_time": "2024-12-05T06:41:30.971Z"
   },
   {
    "duration": 1159956,
    "start_time": "2024-12-05T06:41:31.032Z"
   },
   {
    "duration": 117963,
    "start_time": "2024-12-05T07:00:50.989Z"
   },
   {
    "duration": 4,
    "start_time": "2024-12-05T07:02:48.954Z"
   },
   {
    "duration": 118,
    "start_time": "2024-12-05T07:02:48.959Z"
   },
   {
    "duration": 174072,
    "start_time": "2024-12-05T07:02:49.079Z"
   },
   {
    "duration": 10897,
    "start_time": "2024-12-05T07:05:43.153Z"
   },
   {
    "duration": 273765,
    "start_time": "2024-12-05T07:05:54.052Z"
   },
   {
    "duration": 9795,
    "start_time": "2024-12-05T07:10:27.819Z"
   },
   {
    "duration": 8,
    "start_time": "2024-12-05T07:10:37.616Z"
   },
   {
    "duration": 41,
    "start_time": "2024-12-05T07:10:37.626Z"
   },
   {
    "duration": 147,
    "start_time": "2024-12-05T07:10:37.669Z"
   },
   {
    "duration": 0,
    "start_time": "2024-12-05T07:10:37.818Z"
   },
   {
    "duration": 0,
    "start_time": "2024-12-05T07:10:37.819Z"
   },
   {
    "duration": 0,
    "start_time": "2024-12-05T07:10:37.820Z"
   },
   {
    "duration": 140,
    "start_time": "2024-12-05T07:17:14.991Z"
   },
   {
    "duration": 1285,
    "start_time": "2024-12-05T07:17:29.066Z"
   },
   {
    "duration": 5,
    "start_time": "2024-12-05T07:17:35.200Z"
   },
   {
    "duration": 2078,
    "start_time": "2024-12-05T07:17:35.800Z"
   },
   {
    "duration": 2095,
    "start_time": "2024-12-05T07:17:49.865Z"
   },
   {
    "duration": 14,
    "start_time": "2024-12-05T07:18:01.141Z"
   },
   {
    "duration": 123,
    "start_time": "2024-12-05T07:21:31.290Z"
   },
   {
    "duration": 134612,
    "start_time": "2024-12-05T07:21:33.345Z"
   },
   {
    "duration": 11403,
    "start_time": "2024-12-05T07:23:47.959Z"
   },
   {
    "duration": 12,
    "start_time": "2024-12-05T07:24:49.424Z"
   },
   {
    "duration": 170,
    "start_time": "2024-12-05T07:28:51.442Z"
   },
   {
    "duration": 2675,
    "start_time": "2024-12-05T07:30:15.074Z"
   },
   {
    "duration": 2669,
    "start_time": "2024-12-05T07:30:17.752Z"
   },
   {
    "duration": 1438,
    "start_time": "2024-12-05T07:30:20.423Z"
   },
   {
    "duration": 4,
    "start_time": "2024-12-05T07:30:21.863Z"
   },
   {
    "duration": 60,
    "start_time": "2024-12-05T07:30:21.869Z"
   },
   {
    "duration": 1241,
    "start_time": "2024-12-05T07:30:21.931Z"
   },
   {
    "duration": 129,
    "start_time": "2024-12-05T07:30:23.174Z"
   },
   {
    "duration": 20,
    "start_time": "2024-12-05T07:30:23.305Z"
   },
   {
    "duration": 93,
    "start_time": "2024-12-05T07:30:23.327Z"
   },
   {
    "duration": 47,
    "start_time": "2024-12-05T07:30:23.424Z"
   },
   {
    "duration": 321,
    "start_time": "2024-12-05T07:30:23.474Z"
   },
   {
    "duration": 233,
    "start_time": "2024-12-05T07:30:23.797Z"
   },
   {
    "duration": 339,
    "start_time": "2024-12-05T07:30:24.032Z"
   },
   {
    "duration": 411,
    "start_time": "2024-12-05T07:30:24.373Z"
   },
   {
    "duration": 229,
    "start_time": "2024-12-05T07:30:24.786Z"
   },
   {
    "duration": 248,
    "start_time": "2024-12-05T07:30:25.017Z"
   },
   {
    "duration": 8,
    "start_time": "2024-12-05T07:30:25.267Z"
   },
   {
    "duration": 80,
    "start_time": "2024-12-05T07:30:25.277Z"
   },
   {
    "duration": 24,
    "start_time": "2024-12-05T07:30:25.358Z"
   },
   {
    "duration": 16,
    "start_time": "2024-12-05T07:30:25.383Z"
   },
   {
    "duration": 30,
    "start_time": "2024-12-05T07:30:25.401Z"
   },
   {
    "duration": 18,
    "start_time": "2024-12-05T07:30:25.432Z"
   },
   {
    "duration": 1147,
    "start_time": "2024-12-05T07:30:25.452Z"
   },
   {
    "duration": 10,
    "start_time": "2024-12-05T07:30:26.603Z"
   },
   {
    "duration": 79,
    "start_time": "2024-12-05T07:30:26.615Z"
   },
   {
    "duration": 14,
    "start_time": "2024-12-05T07:30:26.696Z"
   },
   {
    "duration": 11,
    "start_time": "2024-12-05T07:30:26.712Z"
   },
   {
    "duration": 43,
    "start_time": "2024-12-05T07:30:26.727Z"
   },
   {
    "duration": 218,
    "start_time": "2024-12-05T07:30:26.771Z"
   },
   {
    "duration": 119,
    "start_time": "2024-12-05T07:30:26.990Z"
   },
   {
    "duration": 144,
    "start_time": "2024-12-05T07:30:27.111Z"
   },
   {
    "duration": 42,
    "start_time": "2024-12-05T07:30:27.256Z"
   },
   {
    "duration": 55,
    "start_time": "2024-12-05T07:30:27.300Z"
   },
   {
    "duration": 180,
    "start_time": "2024-12-05T07:30:27.357Z"
   },
   {
    "duration": 18,
    "start_time": "2024-12-05T07:30:27.539Z"
   },
   {
    "duration": 124,
    "start_time": "2024-12-05T07:30:27.559Z"
   },
   {
    "duration": 126,
    "start_time": "2024-12-05T07:30:27.685Z"
   },
   {
    "duration": 66,
    "start_time": "2024-12-05T07:30:27.813Z"
   },
   {
    "duration": 17,
    "start_time": "2024-12-05T07:30:27.881Z"
   },
   {
    "duration": 1125,
    "start_time": "2024-12-05T07:30:27.899Z"
   },
   {
    "duration": 33,
    "start_time": "2024-12-05T07:30:29.026Z"
   },
   {
    "duration": 32,
    "start_time": "2024-12-05T07:30:29.061Z"
   },
   {
    "duration": 1013,
    "start_time": "2024-12-05T07:30:29.095Z"
   },
   {
    "duration": 21,
    "start_time": "2024-12-05T07:30:30.110Z"
   },
   {
    "duration": 40,
    "start_time": "2024-12-05T07:30:30.132Z"
   },
   {
    "duration": 985,
    "start_time": "2024-12-05T07:30:30.174Z"
   },
   {
    "duration": 14,
    "start_time": "2024-12-05T07:30:31.161Z"
   },
   {
    "duration": 135,
    "start_time": "2024-12-05T07:30:31.177Z"
   },
   {
    "duration": 222,
    "start_time": "2024-12-05T07:30:31.313Z"
   },
   {
    "duration": 27,
    "start_time": "2024-12-05T07:30:31.537Z"
   },
   {
    "duration": 909,
    "start_time": "2024-12-05T07:30:31.565Z"
   },
   {
    "duration": 5,
    "start_time": "2024-12-05T07:30:32.476Z"
   },
   {
    "duration": 861,
    "start_time": "2024-12-05T07:30:32.483Z"
   },
   {
    "duration": 4,
    "start_time": "2024-12-05T07:30:33.350Z"
   },
   {
    "duration": 15,
    "start_time": "2024-12-05T07:30:33.356Z"
   },
   {
    "duration": 8,
    "start_time": "2024-12-05T07:30:33.373Z"
   },
   {
    "duration": 28,
    "start_time": "2024-12-05T07:30:33.383Z"
   },
   {
    "duration": 5494,
    "start_time": "2024-12-05T07:30:33.413Z"
   },
   {
    "duration": 5,
    "start_time": "2024-12-05T07:30:38.909Z"
   },
   {
    "duration": 52,
    "start_time": "2024-12-05T07:30:38.916Z"
   },
   {
    "duration": 123,
    "start_time": "2024-12-05T07:30:38.970Z"
   },
   {
    "duration": 134,
    "start_time": "2024-12-05T07:30:39.095Z"
   },
   {
    "duration": 74,
    "start_time": "2024-12-05T07:30:39.231Z"
   },
   {
    "duration": 1186261,
    "start_time": "2024-12-05T07:30:39.307Z"
   },
   {
    "duration": 124206,
    "start_time": "2024-12-05T07:50:25.570Z"
   },
   {
    "duration": 4,
    "start_time": "2024-12-05T07:52:29.777Z"
   },
   {
    "duration": 147,
    "start_time": "2024-12-05T07:52:29.783Z"
   },
   {
    "duration": 2624,
    "start_time": "2024-12-05T08:28:11.945Z"
   },
   {
    "duration": 2651,
    "start_time": "2024-12-05T08:28:14.572Z"
   },
   {
    "duration": 1495,
    "start_time": "2024-12-05T08:28:17.226Z"
   },
   {
    "duration": 3,
    "start_time": "2024-12-05T08:28:18.724Z"
   },
   {
    "duration": 60,
    "start_time": "2024-12-05T08:28:18.729Z"
   },
   {
    "duration": 1221,
    "start_time": "2024-12-05T08:28:18.791Z"
   },
   {
    "duration": 119,
    "start_time": "2024-12-05T08:28:20.014Z"
   },
   {
    "duration": 28,
    "start_time": "2024-12-05T08:28:20.135Z"
   },
   {
    "duration": 139,
    "start_time": "2024-12-05T08:28:20.165Z"
   },
   {
    "duration": 45,
    "start_time": "2024-12-05T08:28:20.307Z"
   },
   {
    "duration": 318,
    "start_time": "2024-12-05T08:28:20.354Z"
   },
   {
    "duration": 230,
    "start_time": "2024-12-05T08:28:20.674Z"
   },
   {
    "duration": 339,
    "start_time": "2024-12-05T08:28:20.906Z"
   },
   {
    "duration": 392,
    "start_time": "2024-12-05T08:28:21.250Z"
   },
   {
    "duration": 190,
    "start_time": "2024-12-05T08:28:21.643Z"
   },
   {
    "duration": 200,
    "start_time": "2024-12-05T08:28:21.834Z"
   },
   {
    "duration": 17,
    "start_time": "2024-12-05T08:28:22.036Z"
   },
   {
    "duration": 14,
    "start_time": "2024-12-05T08:28:22.055Z"
   },
   {
    "duration": 41,
    "start_time": "2024-12-05T08:28:22.071Z"
   },
   {
    "duration": 11,
    "start_time": "2024-12-05T08:28:22.114Z"
   },
   {
    "duration": 31,
    "start_time": "2024-12-05T08:28:22.127Z"
   },
   {
    "duration": 82,
    "start_time": "2024-12-05T08:28:22.160Z"
   },
   {
    "duration": 1148,
    "start_time": "2024-12-05T08:28:22.244Z"
   },
   {
    "duration": 10,
    "start_time": "2024-12-05T08:28:23.394Z"
   },
   {
    "duration": 73,
    "start_time": "2024-12-05T08:28:23.406Z"
   },
   {
    "duration": 13,
    "start_time": "2024-12-05T08:28:23.481Z"
   },
   {
    "duration": 11,
    "start_time": "2024-12-05T08:28:23.496Z"
   },
   {
    "duration": 62,
    "start_time": "2024-12-05T08:28:23.512Z"
   },
   {
    "duration": 238,
    "start_time": "2024-12-05T08:28:23.575Z"
   },
   {
    "duration": 122,
    "start_time": "2024-12-05T08:28:23.815Z"
   },
   {
    "duration": 140,
    "start_time": "2024-12-05T08:28:23.939Z"
   },
   {
    "duration": 40,
    "start_time": "2024-12-05T08:28:24.081Z"
   },
   {
    "duration": 30,
    "start_time": "2024-12-05T08:28:24.123Z"
   },
   {
    "duration": 118,
    "start_time": "2024-12-05T08:28:24.155Z"
   },
   {
    "duration": 16,
    "start_time": "2024-12-05T08:28:24.275Z"
   },
   {
    "duration": 139,
    "start_time": "2024-12-05T08:28:24.293Z"
   },
   {
    "duration": 116,
    "start_time": "2024-12-05T08:28:24.434Z"
   },
   {
    "duration": 72,
    "start_time": "2024-12-05T08:28:24.555Z"
   },
   {
    "duration": 31,
    "start_time": "2024-12-05T08:28:24.630Z"
   },
   {
    "duration": 1121,
    "start_time": "2024-12-05T08:28:24.663Z"
   },
   {
    "duration": 28,
    "start_time": "2024-12-05T08:28:25.786Z"
   },
   {
    "duration": 39,
    "start_time": "2024-12-05T08:28:25.816Z"
   },
   {
    "duration": 1134,
    "start_time": "2024-12-05T08:28:25.857Z"
   },
   {
    "duration": 21,
    "start_time": "2024-12-05T08:28:26.993Z"
   },
   {
    "duration": 40,
    "start_time": "2024-12-05T08:28:27.016Z"
   },
   {
    "duration": 1055,
    "start_time": "2024-12-05T08:28:27.058Z"
   },
   {
    "duration": 14,
    "start_time": "2024-12-05T08:28:28.115Z"
   },
   {
    "duration": 32,
    "start_time": "2024-12-05T08:28:28.132Z"
   },
   {
    "duration": 20,
    "start_time": "2024-12-05T08:28:28.167Z"
   },
   {
    "duration": 116,
    "start_time": "2024-12-05T08:28:28.189Z"
   },
   {
    "duration": 981,
    "start_time": "2024-12-05T08:28:28.307Z"
   },
   {
    "duration": 5,
    "start_time": "2024-12-05T08:28:29.290Z"
   },
   {
    "duration": 883,
    "start_time": "2024-12-05T08:28:29.297Z"
   },
   {
    "duration": 5,
    "start_time": "2024-12-05T08:28:30.182Z"
   },
   {
    "duration": 92,
    "start_time": "2024-12-05T08:28:30.189Z"
   },
   {
    "duration": 50,
    "start_time": "2024-12-05T08:28:30.283Z"
   },
   {
    "duration": 25,
    "start_time": "2024-12-05T08:28:30.335Z"
   },
   {
    "duration": 5569,
    "start_time": "2024-12-05T08:28:30.362Z"
   },
   {
    "duration": 4,
    "start_time": "2024-12-05T08:28:35.933Z"
   },
   {
    "duration": 22,
    "start_time": "2024-12-05T08:28:35.939Z"
   },
   {
    "duration": 133,
    "start_time": "2024-12-05T08:28:35.963Z"
   },
   {
    "duration": 135,
    "start_time": "2024-12-05T08:28:36.098Z"
   },
   {
    "duration": 77,
    "start_time": "2024-12-05T08:28:36.235Z"
   },
   {
    "duration": 232798,
    "start_time": "2024-12-05T08:28:36.315Z"
   },
   {
    "duration": 14,
    "start_time": "2024-12-05T08:32:29.115Z"
   },
   {
    "duration": 0,
    "start_time": "2024-12-05T08:32:29.130Z"
   },
   {
    "duration": 0,
    "start_time": "2024-12-05T08:32:29.132Z"
   },
   {
    "duration": 0,
    "start_time": "2024-12-05T08:32:29.133Z"
   },
   {
    "duration": 0,
    "start_time": "2024-12-05T08:32:29.134Z"
   },
   {
    "duration": 0,
    "start_time": "2024-12-05T08:32:29.136Z"
   },
   {
    "duration": 0,
    "start_time": "2024-12-05T08:32:29.137Z"
   },
   {
    "duration": 0,
    "start_time": "2024-12-05T08:32:29.138Z"
   },
   {
    "duration": 0,
    "start_time": "2024-12-05T08:32:29.139Z"
   },
   {
    "duration": 0,
    "start_time": "2024-12-05T08:32:29.141Z"
   },
   {
    "duration": 0,
    "start_time": "2024-12-05T08:32:29.142Z"
   },
   {
    "duration": 0,
    "start_time": "2024-12-05T08:32:29.144Z"
   },
   {
    "duration": 0,
    "start_time": "2024-12-05T08:32:29.146Z"
   },
   {
    "duration": 2748,
    "start_time": "2024-12-05T08:32:39.770Z"
   },
   {
    "duration": 2725,
    "start_time": "2024-12-05T08:32:42.521Z"
   },
   {
    "duration": 1448,
    "start_time": "2024-12-05T08:32:45.248Z"
   },
   {
    "duration": 4,
    "start_time": "2024-12-05T08:32:46.698Z"
   },
   {
    "duration": 101,
    "start_time": "2024-12-05T08:32:46.704Z"
   },
   {
    "duration": 1263,
    "start_time": "2024-12-05T08:32:46.808Z"
   },
   {
    "duration": 125,
    "start_time": "2024-12-05T08:32:48.073Z"
   },
   {
    "duration": 21,
    "start_time": "2024-12-05T08:32:48.200Z"
   },
   {
    "duration": 85,
    "start_time": "2024-12-05T08:32:48.223Z"
   },
   {
    "duration": 45,
    "start_time": "2024-12-05T08:32:48.312Z"
   },
   {
    "duration": 339,
    "start_time": "2024-12-05T08:32:48.359Z"
   },
   {
    "duration": 231,
    "start_time": "2024-12-05T08:32:48.700Z"
   },
   {
    "duration": 349,
    "start_time": "2024-12-05T08:32:48.933Z"
   },
   {
    "duration": 405,
    "start_time": "2024-12-05T08:32:49.284Z"
   },
   {
    "duration": 207,
    "start_time": "2024-12-05T08:32:49.691Z"
   },
   {
    "duration": 302,
    "start_time": "2024-12-05T08:32:49.901Z"
   },
   {
    "duration": 13,
    "start_time": "2024-12-05T08:32:50.205Z"
   },
   {
    "duration": 80,
    "start_time": "2024-12-05T08:32:50.220Z"
   },
   {
    "duration": 32,
    "start_time": "2024-12-05T08:32:50.303Z"
   },
   {
    "duration": 35,
    "start_time": "2024-12-05T08:32:50.338Z"
   },
   {
    "duration": 32,
    "start_time": "2024-12-05T08:32:50.375Z"
   },
   {
    "duration": 40,
    "start_time": "2024-12-05T08:32:50.409Z"
   },
   {
    "duration": 1224,
    "start_time": "2024-12-05T08:32:50.452Z"
   },
   {
    "duration": 11,
    "start_time": "2024-12-05T08:32:51.677Z"
   },
   {
    "duration": 69,
    "start_time": "2024-12-05T08:32:51.689Z"
   },
   {
    "duration": 13,
    "start_time": "2024-12-05T08:32:51.760Z"
   },
   {
    "duration": 11,
    "start_time": "2024-12-05T08:32:51.775Z"
   },
   {
    "duration": 45,
    "start_time": "2024-12-05T08:32:51.790Z"
   },
   {
    "duration": 218,
    "start_time": "2024-12-05T08:32:51.837Z"
   },
   {
    "duration": 118,
    "start_time": "2024-12-05T08:32:52.057Z"
   },
   {
    "duration": 135,
    "start_time": "2024-12-05T08:32:52.177Z"
   },
   {
    "duration": 50,
    "start_time": "2024-12-05T08:32:52.314Z"
   },
   {
    "duration": 11,
    "start_time": "2024-12-05T08:32:52.366Z"
   },
   {
    "duration": 138,
    "start_time": "2024-12-05T08:32:52.379Z"
   },
   {
    "duration": 14,
    "start_time": "2024-12-05T08:32:52.518Z"
   },
   {
    "duration": 134,
    "start_time": "2024-12-05T08:32:52.534Z"
   },
   {
    "duration": 112,
    "start_time": "2024-12-05T08:32:52.670Z"
   },
   {
    "duration": 53,
    "start_time": "2024-12-05T08:32:52.784Z"
   },
   {
    "duration": 30,
    "start_time": "2024-12-05T08:32:52.851Z"
   },
   {
    "duration": 1167,
    "start_time": "2024-12-05T08:32:52.883Z"
   },
   {
    "duration": 23,
    "start_time": "2024-12-05T08:32:54.053Z"
   },
   {
    "duration": 23,
    "start_time": "2024-12-05T08:32:54.077Z"
   },
   {
    "duration": 1071,
    "start_time": "2024-12-05T08:32:54.102Z"
   },
   {
    "duration": 23,
    "start_time": "2024-12-05T08:32:55.175Z"
   },
   {
    "duration": 53,
    "start_time": "2024-12-05T08:32:55.201Z"
   },
   {
    "duration": 981,
    "start_time": "2024-12-05T08:32:55.256Z"
   },
   {
    "duration": 23,
    "start_time": "2024-12-05T08:32:56.239Z"
   },
   {
    "duration": 22,
    "start_time": "2024-12-05T08:32:56.264Z"
   },
   {
    "duration": 21,
    "start_time": "2024-12-05T08:32:56.288Z"
   },
   {
    "duration": 54,
    "start_time": "2024-12-05T08:32:56.311Z"
   },
   {
    "duration": 918,
    "start_time": "2024-12-05T08:32:56.367Z"
   },
   {
    "duration": 6,
    "start_time": "2024-12-05T08:32:57.287Z"
   },
   {
    "duration": 886,
    "start_time": "2024-12-05T08:32:57.295Z"
   },
   {
    "duration": 5,
    "start_time": "2024-12-05T08:32:58.183Z"
   },
   {
    "duration": 79,
    "start_time": "2024-12-05T08:32:58.190Z"
   },
   {
    "duration": 17,
    "start_time": "2024-12-05T08:32:58.271Z"
   },
   {
    "duration": 8,
    "start_time": "2024-12-05T08:32:58.290Z"
   },
   {
    "duration": 5503,
    "start_time": "2024-12-05T08:32:58.300Z"
   },
   {
    "duration": 4,
    "start_time": "2024-12-05T08:33:03.805Z"
   },
   {
    "duration": 59,
    "start_time": "2024-12-05T08:33:03.811Z"
   },
   {
    "duration": 197,
    "start_time": "2024-12-05T08:33:03.872Z"
   },
   {
    "duration": 139,
    "start_time": "2024-12-05T08:33:04.071Z"
   },
   {
    "duration": 72,
    "start_time": "2024-12-05T08:33:04.212Z"
   },
   {
    "duration": 5,
    "start_time": "2024-12-05T08:33:04.286Z"
   },
   {
    "duration": 581071,
    "start_time": "2024-12-05T08:33:04.293Z"
   },
   {
    "duration": 15,
    "start_time": "2024-12-05T08:42:45.366Z"
   },
   {
    "duration": 0,
    "start_time": "2024-12-05T08:42:45.383Z"
   },
   {
    "duration": 0,
    "start_time": "2024-12-05T08:42:45.385Z"
   },
   {
    "duration": 0,
    "start_time": "2024-12-05T08:42:45.387Z"
   },
   {
    "duration": 0,
    "start_time": "2024-12-05T08:42:45.389Z"
   },
   {
    "duration": 0,
    "start_time": "2024-12-05T08:42:45.390Z"
   },
   {
    "duration": 0,
    "start_time": "2024-12-05T08:42:45.392Z"
   },
   {
    "duration": 0,
    "start_time": "2024-12-05T08:42:45.394Z"
   },
   {
    "duration": 0,
    "start_time": "2024-12-05T08:42:45.395Z"
   },
   {
    "duration": 0,
    "start_time": "2024-12-05T08:42:45.397Z"
   },
   {
    "duration": 0,
    "start_time": "2024-12-05T08:42:45.398Z"
   },
   {
    "duration": 0,
    "start_time": "2024-12-05T08:42:45.400Z"
   },
   {
    "duration": 0,
    "start_time": "2024-12-05T08:42:45.401Z"
   },
   {
    "duration": 2730,
    "start_time": "2024-12-05T08:42:54.702Z"
   },
   {
    "duration": 2675,
    "start_time": "2024-12-05T08:42:57.435Z"
   },
   {
    "duration": 1360,
    "start_time": "2024-12-05T08:43:00.112Z"
   },
   {
    "duration": 3,
    "start_time": "2024-12-05T08:43:01.475Z"
   },
   {
    "duration": 44,
    "start_time": "2024-12-05T08:43:01.479Z"
   },
   {
    "duration": 1260,
    "start_time": "2024-12-05T08:43:01.525Z"
   },
   {
    "duration": 112,
    "start_time": "2024-12-05T08:43:02.786Z"
   },
   {
    "duration": 211,
    "start_time": "2024-12-05T08:43:02.900Z"
   },
   {
    "duration": 74,
    "start_time": "2024-12-05T08:43:03.113Z"
   },
   {
    "duration": 45,
    "start_time": "2024-12-05T08:43:03.189Z"
   },
   {
    "duration": 401,
    "start_time": "2024-12-05T08:43:03.236Z"
   },
   {
    "duration": 222,
    "start_time": "2024-12-05T08:43:03.638Z"
   },
   {
    "duration": 342,
    "start_time": "2024-12-05T08:43:03.861Z"
   },
   {
    "duration": 402,
    "start_time": "2024-12-05T08:43:04.205Z"
   },
   {
    "duration": 208,
    "start_time": "2024-12-05T08:43:04.610Z"
   },
   {
    "duration": 231,
    "start_time": "2024-12-05T08:43:04.820Z"
   },
   {
    "duration": 8,
    "start_time": "2024-12-05T08:43:05.052Z"
   },
   {
    "duration": 21,
    "start_time": "2024-12-05T08:43:05.063Z"
   },
   {
    "duration": 33,
    "start_time": "2024-12-05T08:43:05.086Z"
   },
   {
    "duration": 37,
    "start_time": "2024-12-05T08:43:05.121Z"
   },
   {
    "duration": 135,
    "start_time": "2024-12-05T08:43:05.160Z"
   },
   {
    "duration": 48,
    "start_time": "2024-12-05T08:43:05.297Z"
   },
   {
    "duration": 1174,
    "start_time": "2024-12-05T08:43:05.347Z"
   },
   {
    "duration": 10,
    "start_time": "2024-12-05T08:43:06.523Z"
   },
   {
    "duration": 62,
    "start_time": "2024-12-05T08:43:06.534Z"
   },
   {
    "duration": 13,
    "start_time": "2024-12-05T08:43:06.597Z"
   },
   {
    "duration": 65,
    "start_time": "2024-12-05T08:43:06.612Z"
   },
   {
    "duration": 33,
    "start_time": "2024-12-05T08:43:06.682Z"
   },
   {
    "duration": 215,
    "start_time": "2024-12-05T08:43:06.717Z"
   },
   {
    "duration": 146,
    "start_time": "2024-12-05T08:43:06.934Z"
   },
   {
    "duration": 138,
    "start_time": "2024-12-05T08:43:07.083Z"
   },
   {
    "duration": 61,
    "start_time": "2024-12-05T08:43:07.223Z"
   },
   {
    "duration": 25,
    "start_time": "2024-12-05T08:43:07.286Z"
   },
   {
    "duration": 122,
    "start_time": "2024-12-05T08:43:07.314Z"
   },
   {
    "duration": 17,
    "start_time": "2024-12-05T08:43:07.450Z"
   },
   {
    "duration": 136,
    "start_time": "2024-12-05T08:43:07.470Z"
   },
   {
    "duration": 126,
    "start_time": "2024-12-05T08:43:07.608Z"
   },
   {
    "duration": 67,
    "start_time": "2024-12-05T08:43:07.736Z"
   },
   {
    "duration": 18,
    "start_time": "2024-12-05T08:43:07.804Z"
   },
   {
    "duration": 1070,
    "start_time": "2024-12-05T08:43:07.824Z"
   },
   {
    "duration": 23,
    "start_time": "2024-12-05T08:43:08.895Z"
   },
   {
    "duration": 39,
    "start_time": "2024-12-05T08:43:08.920Z"
   },
   {
    "duration": 1067,
    "start_time": "2024-12-05T08:43:08.961Z"
   },
   {
    "duration": 30,
    "start_time": "2024-12-05T08:43:10.029Z"
   },
   {
    "duration": 21,
    "start_time": "2024-12-05T08:43:10.060Z"
   },
   {
    "duration": 980,
    "start_time": "2024-12-05T08:43:10.083Z"
   },
   {
    "duration": 18,
    "start_time": "2024-12-05T08:43:11.066Z"
   },
   {
    "duration": 22,
    "start_time": "2024-12-05T08:43:11.086Z"
   },
   {
    "duration": 49,
    "start_time": "2024-12-05T08:43:11.110Z"
   },
   {
    "duration": 21,
    "start_time": "2024-12-05T08:43:11.160Z"
   },
   {
    "duration": 1083,
    "start_time": "2024-12-05T08:43:11.183Z"
   },
   {
    "duration": 5,
    "start_time": "2024-12-05T08:43:12.268Z"
   },
   {
    "duration": 903,
    "start_time": "2024-12-05T08:43:12.275Z"
   },
   {
    "duration": 5,
    "start_time": "2024-12-05T08:43:13.179Z"
   },
   {
    "duration": 87,
    "start_time": "2024-12-05T08:43:13.185Z"
   },
   {
    "duration": 30,
    "start_time": "2024-12-05T08:43:13.274Z"
   },
   {
    "duration": 8,
    "start_time": "2024-12-05T08:43:13.306Z"
   },
   {
    "duration": 5519,
    "start_time": "2024-12-05T08:43:13.316Z"
   },
   {
    "duration": 5,
    "start_time": "2024-12-05T08:43:18.836Z"
   },
   {
    "duration": 30,
    "start_time": "2024-12-05T08:43:18.843Z"
   },
   {
    "duration": 134,
    "start_time": "2024-12-05T08:43:18.874Z"
   },
   {
    "duration": 150,
    "start_time": "2024-12-05T08:43:19.010Z"
   },
   {
    "duration": 61,
    "start_time": "2024-12-05T08:43:19.162Z"
   },
   {
    "duration": 56,
    "start_time": "2024-12-05T08:43:19.225Z"
   },
   {
    "duration": 1152390,
    "start_time": "2024-12-05T08:43:19.283Z"
   },
   {
    "duration": 116460,
    "start_time": "2024-12-05T09:02:31.675Z"
   },
   {
    "duration": 5,
    "start_time": "2024-12-05T09:04:28.137Z"
   },
   {
    "duration": 135,
    "start_time": "2024-12-05T09:04:28.150Z"
   },
   {
    "duration": 175174,
    "start_time": "2024-12-05T09:04:28.287Z"
   },
   {
    "duration": 14615,
    "start_time": "2024-12-05T09:07:23.463Z"
   },
   {
    "duration": 267783,
    "start_time": "2024-12-05T09:07:38.080Z"
   },
   {
    "duration": 9420,
    "start_time": "2024-12-05T09:12:05.865Z"
   },
   {
    "duration": 6,
    "start_time": "2024-12-05T09:12:15.286Z"
   },
   {
    "duration": 124,
    "start_time": "2024-12-05T09:12:15.294Z"
   },
   {
    "duration": 1136,
    "start_time": "2024-12-05T09:12:15.420Z"
   },
   {
    "duration": 6,
    "start_time": "2024-12-05T09:12:16.558Z"
   },
   {
    "duration": 90,
    "start_time": "2024-12-05T09:12:16.566Z"
   },
   {
    "duration": 0,
    "start_time": "2024-12-05T09:12:16.658Z"
   },
   {
    "duration": 0,
    "start_time": "2024-12-05T09:12:16.659Z"
   },
   {
    "duration": 1165,
    "start_time": "2024-12-05T09:38:49.786Z"
   },
   {
    "duration": 6,
    "start_time": "2024-12-05T09:38:50.953Z"
   },
   {
    "duration": 1876,
    "start_time": "2024-12-05T09:38:50.961Z"
   },
   {
    "duration": 265,
    "start_time": "2024-12-05T09:38:52.839Z"
   },
   {
    "duration": 5,
    "start_time": "2024-12-05T10:05:15.943Z"
   },
   {
    "duration": 829,
    "start_time": "2024-12-05T10:05:45.648Z"
   },
   {
    "duration": 1280,
    "start_time": "2024-12-05T10:06:13.474Z"
   },
   {
    "duration": 128,
    "start_time": "2024-12-05T10:06:14.913Z"
   },
   {
    "duration": 23,
    "start_time": "2024-12-05T10:06:15.051Z"
   },
   {
    "duration": 52,
    "start_time": "2024-12-05T10:06:15.077Z"
   },
   {
    "duration": 59,
    "start_time": "2024-12-05T10:06:15.155Z"
   },
   {
    "duration": 367,
    "start_time": "2024-12-05T10:06:15.239Z"
   },
   {
    "duration": 249,
    "start_time": "2024-12-05T10:06:15.608Z"
   },
   {
    "duration": 396,
    "start_time": "2024-12-05T10:06:15.865Z"
   },
   {
    "duration": 397,
    "start_time": "2024-12-05T10:06:16.267Z"
   },
   {
    "duration": 180,
    "start_time": "2024-12-05T10:06:16.668Z"
   },
   {
    "duration": 223,
    "start_time": "2024-12-05T10:06:16.850Z"
   },
   {
    "duration": 7,
    "start_time": "2024-12-05T10:06:17.076Z"
   },
   {
    "duration": 50,
    "start_time": "2024-12-05T10:06:17.085Z"
   },
   {
    "duration": 16,
    "start_time": "2024-12-05T10:06:17.137Z"
   },
   {
    "duration": 18,
    "start_time": "2024-12-05T10:06:17.157Z"
   },
   {
    "duration": 30,
    "start_time": "2024-12-05T10:06:17.177Z"
   },
   {
    "duration": 104,
    "start_time": "2024-12-05T10:06:17.208Z"
   },
   {
    "duration": 1243,
    "start_time": "2024-12-05T10:06:17.314Z"
   },
   {
    "duration": 13,
    "start_time": "2024-12-05T10:06:18.564Z"
   },
   {
    "duration": 48,
    "start_time": "2024-12-05T10:06:18.579Z"
   },
   {
    "duration": 43,
    "start_time": "2024-12-05T10:06:18.629Z"
   },
   {
    "duration": 13,
    "start_time": "2024-12-05T10:06:18.674Z"
   },
   {
    "duration": 21,
    "start_time": "2024-12-05T10:06:18.689Z"
   },
   {
    "duration": 157,
    "start_time": "2024-12-05T10:06:18.711Z"
   },
   {
    "duration": 128,
    "start_time": "2024-12-05T10:06:18.870Z"
   },
   {
    "duration": 151,
    "start_time": "2024-12-05T10:06:19.000Z"
   },
   {
    "duration": 52,
    "start_time": "2024-12-05T10:06:19.152Z"
   },
   {
    "duration": 13,
    "start_time": "2024-12-05T10:06:19.205Z"
   },
   {
    "duration": 164,
    "start_time": "2024-12-05T10:06:19.219Z"
   },
   {
    "duration": 20,
    "start_time": "2024-12-05T10:06:19.387Z"
   },
   {
    "duration": 179,
    "start_time": "2024-12-05T10:06:19.410Z"
   },
   {
    "duration": 132,
    "start_time": "2024-12-05T10:06:19.592Z"
   },
   {
    "duration": 76,
    "start_time": "2024-12-05T10:06:19.726Z"
   },
   {
    "duration": 17,
    "start_time": "2024-12-05T10:06:19.803Z"
   },
   {
    "duration": 1176,
    "start_time": "2024-12-05T10:06:19.822Z"
   },
   {
    "duration": 22,
    "start_time": "2024-12-05T10:06:21.000Z"
   },
   {
    "duration": 44,
    "start_time": "2024-12-05T10:06:21.024Z"
   },
   {
    "duration": 1156,
    "start_time": "2024-12-05T10:06:21.071Z"
   },
   {
    "duration": 40,
    "start_time": "2024-12-05T10:06:22.228Z"
   },
   {
    "duration": 25,
    "start_time": "2024-12-05T10:06:22.270Z"
   },
   {
    "duration": 1171,
    "start_time": "2024-12-05T10:06:22.296Z"
   },
   {
    "duration": 16,
    "start_time": "2024-12-05T10:06:23.474Z"
   },
   {
    "duration": 110,
    "start_time": "2024-12-05T10:06:23.491Z"
   },
   {
    "duration": 83,
    "start_time": "2024-12-05T10:06:23.603Z"
   },
   {
    "duration": 21,
    "start_time": "2024-12-05T10:06:23.691Z"
   },
   {
    "duration": 1045,
    "start_time": "2024-12-05T10:06:23.714Z"
   },
   {
    "duration": 8,
    "start_time": "2024-12-05T10:06:24.762Z"
   },
   {
    "duration": 1022,
    "start_time": "2024-12-05T10:06:24.775Z"
   },
   {
    "duration": 5,
    "start_time": "2024-12-05T10:06:25.799Z"
   },
   {
    "duration": 22,
    "start_time": "2024-12-05T10:06:25.805Z"
   },
   {
    "duration": 18,
    "start_time": "2024-12-05T10:06:25.829Z"
   },
   {
    "duration": 15,
    "start_time": "2024-12-05T10:06:25.853Z"
   },
   {
    "duration": 5920,
    "start_time": "2024-12-05T10:06:25.872Z"
   },
   {
    "duration": 4,
    "start_time": "2024-12-05T10:06:31.796Z"
   },
   {
    "duration": 45,
    "start_time": "2024-12-05T10:06:31.802Z"
   },
   {
    "duration": 148,
    "start_time": "2024-12-05T10:06:31.849Z"
   },
   {
    "duration": 144,
    "start_time": "2024-12-05T10:06:31.998Z"
   },
   {
    "duration": 83,
    "start_time": "2024-12-05T10:06:32.144Z"
   },
   {
    "duration": 5,
    "start_time": "2024-12-05T10:06:36.274Z"
   },
   {
    "duration": 774,
    "start_time": "2024-12-05T10:06:40.970Z"
   },
   {
    "duration": 29832,
    "start_time": "2024-12-05T10:07:19.561Z"
   },
   {
    "duration": 14,
    "start_time": "2024-12-05T10:12:58.753Z"
   },
   {
    "duration": 3019,
    "start_time": "2024-12-05T10:20:02.646Z"
   },
   {
    "duration": 1538,
    "start_time": "2024-12-05T10:20:05.667Z"
   },
   {
    "duration": 4,
    "start_time": "2024-12-05T10:20:07.207Z"
   },
   {
    "duration": 9,
    "start_time": "2024-12-05T10:20:07.214Z"
   },
   {
    "duration": 1350,
    "start_time": "2024-12-05T10:20:07.224Z"
   },
   {
    "duration": 129,
    "start_time": "2024-12-05T10:20:08.576Z"
   },
   {
    "duration": 21,
    "start_time": "2024-12-05T10:20:08.708Z"
   },
   {
    "duration": 64,
    "start_time": "2024-12-05T10:20:08.731Z"
   },
   {
    "duration": 83,
    "start_time": "2024-12-05T10:20:08.797Z"
   },
   {
    "duration": 352,
    "start_time": "2024-12-05T10:20:08.883Z"
   },
   {
    "duration": 258,
    "start_time": "2024-12-05T10:20:09.236Z"
   },
   {
    "duration": 365,
    "start_time": "2024-12-05T10:20:09.495Z"
   },
   {
    "duration": 423,
    "start_time": "2024-12-05T10:20:09.863Z"
   },
   {
    "duration": 199,
    "start_time": "2024-12-05T10:20:10.287Z"
   },
   {
    "duration": 226,
    "start_time": "2024-12-05T10:20:10.488Z"
   },
   {
    "duration": 8,
    "start_time": "2024-12-05T10:20:10.715Z"
   },
   {
    "duration": 31,
    "start_time": "2024-12-05T10:20:10.725Z"
   },
   {
    "duration": 76,
    "start_time": "2024-12-05T10:20:10.759Z"
   },
   {
    "duration": 29,
    "start_time": "2024-12-05T10:20:10.837Z"
   },
   {
    "duration": 37,
    "start_time": "2024-12-05T10:20:10.868Z"
   },
   {
    "duration": 19,
    "start_time": "2024-12-05T10:20:10.906Z"
   },
   {
    "duration": 1275,
    "start_time": "2024-12-05T10:20:10.927Z"
   },
   {
    "duration": 11,
    "start_time": "2024-12-05T10:20:12.205Z"
   },
   {
    "duration": 75,
    "start_time": "2024-12-05T10:20:12.218Z"
   },
   {
    "duration": 12,
    "start_time": "2024-12-05T10:20:12.295Z"
   },
   {
    "duration": 13,
    "start_time": "2024-12-05T10:20:12.309Z"
   },
   {
    "duration": 45,
    "start_time": "2024-12-05T10:20:12.324Z"
   },
   {
    "duration": 221,
    "start_time": "2024-12-05T10:20:12.374Z"
   },
   {
    "duration": 125,
    "start_time": "2024-12-05T10:20:12.597Z"
   },
   {
    "duration": 155,
    "start_time": "2024-12-05T10:20:12.724Z"
   },
   {
    "duration": 38,
    "start_time": "2024-12-05T10:20:12.881Z"
   },
   {
    "duration": 40,
    "start_time": "2024-12-05T10:20:12.921Z"
   },
   {
    "duration": 133,
    "start_time": "2024-12-05T10:20:12.963Z"
   },
   {
    "duration": 15,
    "start_time": "2024-12-05T10:20:13.097Z"
   },
   {
    "duration": 141,
    "start_time": "2024-12-05T10:20:13.113Z"
   },
   {
    "duration": 141,
    "start_time": "2024-12-05T10:20:13.257Z"
   },
   {
    "duration": 71,
    "start_time": "2024-12-05T10:20:13.400Z"
   },
   {
    "duration": 17,
    "start_time": "2024-12-05T10:20:13.474Z"
   },
   {
    "duration": 1298,
    "start_time": "2024-12-05T10:20:13.493Z"
   },
   {
    "duration": 24,
    "start_time": "2024-12-05T10:20:14.793Z"
   },
   {
    "duration": 50,
    "start_time": "2024-12-05T10:20:14.820Z"
   },
   {
    "duration": 1148,
    "start_time": "2024-12-05T10:20:14.872Z"
   },
   {
    "duration": 37,
    "start_time": "2024-12-05T10:20:16.022Z"
   },
   {
    "duration": 20,
    "start_time": "2024-12-05T10:20:16.061Z"
   },
   {
    "duration": 1035,
    "start_time": "2024-12-05T10:20:16.083Z"
   },
   {
    "duration": 14,
    "start_time": "2024-12-05T10:20:17.119Z"
   },
   {
    "duration": 40,
    "start_time": "2024-12-05T10:20:17.135Z"
   },
   {
    "duration": 22,
    "start_time": "2024-12-05T10:20:17.177Z"
   },
   {
    "duration": 51,
    "start_time": "2024-12-05T10:20:17.200Z"
   },
   {
    "duration": 1046,
    "start_time": "2024-12-05T10:20:17.253Z"
   },
   {
    "duration": 6,
    "start_time": "2024-12-05T10:20:18.301Z"
   },
   {
    "duration": 977,
    "start_time": "2024-12-05T10:20:18.308Z"
   },
   {
    "duration": 4,
    "start_time": "2024-12-05T10:20:19.287Z"
   },
   {
    "duration": 33,
    "start_time": "2024-12-05T10:20:19.293Z"
   },
   {
    "duration": 11,
    "start_time": "2024-12-05T10:20:19.328Z"
   },
   {
    "duration": 88,
    "start_time": "2024-12-05T10:20:19.341Z"
   },
   {
    "duration": 6075,
    "start_time": "2024-12-05T10:20:19.431Z"
   },
   {
    "duration": 5,
    "start_time": "2024-12-05T10:20:25.508Z"
   },
   {
    "duration": 103,
    "start_time": "2024-12-05T10:20:25.515Z"
   },
   {
    "duration": 175,
    "start_time": "2024-12-05T10:20:25.621Z"
   },
   {
    "duration": 148,
    "start_time": "2024-12-05T10:20:25.798Z"
   },
   {
    "duration": 66,
    "start_time": "2024-12-05T10:20:25.948Z"
   },
   {
    "duration": 5,
    "start_time": "2024-12-05T10:20:26.015Z"
   },
   {
    "duration": 1247846,
    "start_time": "2024-12-05T10:20:26.023Z"
   },
   {
    "duration": 128160,
    "start_time": "2024-12-05T10:41:13.871Z"
   },
   {
    "duration": 4,
    "start_time": "2024-12-05T10:43:22.033Z"
   },
   {
    "duration": 163,
    "start_time": "2024-12-05T10:43:22.038Z"
   },
   {
    "duration": 232157,
    "start_time": "2024-12-05T10:43:22.203Z"
   },
   {
    "duration": 11999,
    "start_time": "2024-12-05T10:47:14.361Z"
   },
   {
    "duration": 26244,
    "start_time": "2024-12-05T10:47:26.362Z"
   },
   {
    "duration": 980,
    "start_time": "2024-12-05T10:47:52.608Z"
   },
   {
    "duration": 6,
    "start_time": "2024-12-05T10:47:53.590Z"
   },
   {
    "duration": 16,
    "start_time": "2024-12-05T10:47:53.598Z"
   },
   {
    "duration": 1156,
    "start_time": "2024-12-05T10:47:53.616Z"
   },
   {
    "duration": 80,
    "start_time": "2024-12-05T10:47:54.774Z"
   },
   {
    "duration": 1877,
    "start_time": "2024-12-05T10:47:54.855Z"
   },
   {
    "duration": 262,
    "start_time": "2024-12-05T10:47:56.734Z"
   },
   {
    "duration": 2652,
    "start_time": "2024-12-05T10:54:38.136Z"
   },
   {
    "duration": 1360,
    "start_time": "2024-12-05T10:54:40.791Z"
   },
   {
    "duration": 4,
    "start_time": "2024-12-05T10:54:42.153Z"
   },
   {
    "duration": 4,
    "start_time": "2024-12-05T10:54:42.159Z"
   },
   {
    "duration": 1181,
    "start_time": "2024-12-05T10:54:42.165Z"
   },
   {
    "duration": 126,
    "start_time": "2024-12-05T10:54:43.348Z"
   },
   {
    "duration": 19,
    "start_time": "2024-12-05T10:54:43.476Z"
   },
   {
    "duration": 69,
    "start_time": "2024-12-05T10:54:43.496Z"
   },
   {
    "duration": 64,
    "start_time": "2024-12-05T10:54:43.567Z"
   },
   {
    "duration": 320,
    "start_time": "2024-12-05T10:54:43.633Z"
   },
   {
    "duration": 234,
    "start_time": "2024-12-05T10:54:43.955Z"
   },
   {
    "duration": 340,
    "start_time": "2024-12-05T10:54:44.191Z"
   },
   {
    "duration": 419,
    "start_time": "2024-12-05T10:54:44.532Z"
   },
   {
    "duration": 211,
    "start_time": "2024-12-05T10:54:44.954Z"
   },
   {
    "duration": 245,
    "start_time": "2024-12-05T10:54:45.166Z"
   },
   {
    "duration": 8,
    "start_time": "2024-12-05T10:54:45.412Z"
   },
   {
    "duration": 66,
    "start_time": "2024-12-05T10:54:45.422Z"
   },
   {
    "duration": 30,
    "start_time": "2024-12-05T10:54:45.490Z"
   },
   {
    "duration": 83,
    "start_time": "2024-12-05T10:54:45.522Z"
   },
   {
    "duration": 31,
    "start_time": "2024-12-05T10:54:45.607Z"
   },
   {
    "duration": 214,
    "start_time": "2024-12-05T10:54:45.640Z"
   },
   {
    "duration": 1145,
    "start_time": "2024-12-05T10:54:45.856Z"
   },
   {
    "duration": 11,
    "start_time": "2024-12-05T10:54:47.003Z"
   },
   {
    "duration": 84,
    "start_time": "2024-12-05T10:54:47.015Z"
   },
   {
    "duration": 12,
    "start_time": "2024-12-05T10:54:47.101Z"
   },
   {
    "duration": 11,
    "start_time": "2024-12-05T10:54:47.115Z"
   },
   {
    "duration": 37,
    "start_time": "2024-12-05T10:54:47.127Z"
   },
   {
    "duration": 124,
    "start_time": "2024-12-05T10:54:47.166Z"
   },
   {
    "duration": 205,
    "start_time": "2024-12-05T10:54:47.292Z"
   },
   {
    "duration": 136,
    "start_time": "2024-12-05T10:54:47.499Z"
   },
   {
    "duration": 41,
    "start_time": "2024-12-05T10:54:47.637Z"
   },
   {
    "duration": 79,
    "start_time": "2024-12-05T10:54:47.680Z"
   },
   {
    "duration": 112,
    "start_time": "2024-12-05T10:54:47.761Z"
   },
   {
    "duration": 15,
    "start_time": "2024-12-05T10:54:47.874Z"
   },
   {
    "duration": 137,
    "start_time": "2024-12-05T10:54:47.891Z"
   },
   {
    "duration": 119,
    "start_time": "2024-12-05T10:54:48.030Z"
   },
   {
    "duration": 51,
    "start_time": "2024-12-05T10:54:48.151Z"
   },
   {
    "duration": 17,
    "start_time": "2024-12-05T10:54:48.204Z"
   },
   {
    "duration": 1069,
    "start_time": "2024-12-05T10:54:48.222Z"
   },
   {
    "duration": 22,
    "start_time": "2024-12-05T10:54:49.292Z"
   },
   {
    "duration": 39,
    "start_time": "2024-12-05T10:54:49.319Z"
   },
   {
    "duration": 1034,
    "start_time": "2024-12-05T10:54:49.359Z"
   },
   {
    "duration": 21,
    "start_time": "2024-12-05T10:54:50.394Z"
   },
   {
    "duration": 36,
    "start_time": "2024-12-05T10:54:50.416Z"
   },
   {
    "duration": 960,
    "start_time": "2024-12-05T10:54:50.453Z"
   },
   {
    "duration": 13,
    "start_time": "2024-12-05T10:54:51.415Z"
   },
   {
    "duration": 38,
    "start_time": "2024-12-05T10:54:51.430Z"
   },
   {
    "duration": 39,
    "start_time": "2024-12-05T10:54:51.471Z"
   },
   {
    "duration": 106,
    "start_time": "2024-12-05T10:54:51.512Z"
   },
   {
    "duration": 876,
    "start_time": "2024-12-05T10:54:51.619Z"
   },
   {
    "duration": 5,
    "start_time": "2024-12-05T10:54:52.497Z"
   },
   {
    "duration": 951,
    "start_time": "2024-12-05T10:54:52.504Z"
   },
   {
    "duration": 4,
    "start_time": "2024-12-05T10:54:53.456Z"
   },
   {
    "duration": 32,
    "start_time": "2024-12-05T10:54:53.462Z"
   },
   {
    "duration": 128,
    "start_time": "2024-12-05T10:54:53.496Z"
   },
   {
    "duration": 113,
    "start_time": "2024-12-05T10:54:53.626Z"
   },
   {
    "duration": 5301,
    "start_time": "2024-12-05T10:54:53.741Z"
   },
   {
    "duration": 8,
    "start_time": "2024-12-05T10:54:59.044Z"
   },
   {
    "duration": 23,
    "start_time": "2024-12-05T10:54:59.054Z"
   },
   {
    "duration": 129,
    "start_time": "2024-12-05T10:54:59.079Z"
   },
   {
    "duration": 128,
    "start_time": "2024-12-05T10:54:59.210Z"
   },
   {
    "duration": 77,
    "start_time": "2024-12-05T10:54:59.340Z"
   },
   {
    "duration": 5,
    "start_time": "2024-12-05T10:54:59.419Z"
   },
   {
    "duration": 1127733,
    "start_time": "2024-12-05T10:54:59.425Z"
   },
   {
    "duration": 117013,
    "start_time": "2024-12-05T11:13:47.160Z"
   },
   {
    "duration": 4,
    "start_time": "2024-12-05T11:15:44.175Z"
   },
   {
    "duration": 164,
    "start_time": "2024-12-05T11:15:44.182Z"
   },
   {
    "duration": 145008,
    "start_time": "2024-12-05T11:15:44.348Z"
   },
   {
    "duration": 11217,
    "start_time": "2024-12-05T11:18:09.358Z"
   },
   {
    "duration": 25988,
    "start_time": "2024-12-05T11:18:20.577Z"
   },
   {
    "duration": 957,
    "start_time": "2024-12-05T11:18:46.566Z"
   },
   {
    "duration": 5,
    "start_time": "2024-12-05T11:18:47.525Z"
   },
   {
    "duration": 25,
    "start_time": "2024-12-05T11:18:47.531Z"
   },
   {
    "duration": 1115,
    "start_time": "2024-12-05T11:18:47.557Z"
   },
   {
    "duration": 7,
    "start_time": "2024-12-05T11:18:48.750Z"
   },
   {
    "duration": 1908,
    "start_time": "2024-12-05T11:18:48.758Z"
   },
   {
    "duration": 188,
    "start_time": "2024-12-05T11:18:50.668Z"
   },
   {
    "duration": 77,
    "start_time": "2024-12-05T11:31:46.174Z"
   },
   {
    "duration": 101,
    "start_time": "2024-12-05T11:32:11.617Z"
   }
  ],
  "kernelspec": {
   "display_name": "Python 3 (ipykernel)",
   "language": "python",
   "name": "python3"
  },
  "language_info": {
   "codemirror_mode": {
    "name": "ipython",
    "version": 3
   },
   "file_extension": ".py",
   "mimetype": "text/x-python",
   "name": "python",
   "nbconvert_exporter": "python",
   "pygments_lexer": "ipython3",
   "version": "3.9.5"
  },
  "toc": {
   "base_numbering": 1,
   "nav_menu": {},
   "number_sections": true,
   "sideBar": true,
   "skip_h1_title": true,
   "title_cell": "Table of Contents",
   "title_sidebar": "Contents",
   "toc_cell": false,
   "toc_position": {
    "height": "calc(100% - 180px)",
    "left": "10px",
    "top": "150px",
    "width": "341.297px"
   },
   "toc_section_display": true,
   "toc_window_display": true
  }
 },
 "nbformat": 4,
 "nbformat_minor": 2
}
